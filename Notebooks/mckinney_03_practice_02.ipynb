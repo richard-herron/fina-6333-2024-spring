{
 "cells": [
  {
   "cell_type": "markdown",
   "id": "e1ac131b-4292-4bd1-860b-de2f34443775",
   "metadata": {},
   "source": [
    "# McKinney Chapter 3 - Practice for Section 02"
   ]
  },
  {
   "cell_type": "markdown",
   "id": "b7ef122a-01ea-406f-bff6-5f0ed7604950",
   "metadata": {},
   "source": [
    "## Announcements"
   ]
  },
  {
   "cell_type": "markdown",
   "id": "c19f9e4b-fb44-408f-bd2a-372ae0a6efeb",
   "metadata": {},
   "source": [
    "1. Due Friday, 1/19, at 11:59 PM:\n",
    "    1. Complete *Introduction to Python* course on DataCamp (and upload certificate to Canvas)\n",
    "    2. Acknowledge academic integrity statement on Canvas\n",
    "2. I will record and post the next lecture video on Thursday, 1/18, and the associate pre-class quiz is due before class on Tuesday, 1/23\n",
    "3. Start joining groups on Canvas (Canvas > People > Team Projects); I removed joining groups as a scored assignment, but please prioritize joining groups"
   ]
  },
  {
   "cell_type": "markdown",
   "id": "e44ece84-32aa-4e06-aac8-9d222c408c10",
   "metadata": {},
   "source": [
    "## 10-minute Recap"
   ]
  },
  {
   "cell_type": "markdown",
   "id": "fe33cefa-799d-4c26-8caf-4e2eedeffd3c",
   "metadata": {},
   "source": [
    "### List"
   ]
  },
  {
   "cell_type": "markdown",
   "id": "6fb1fa6b-762c-44be-8810-d237c93f7a18",
   "metadata": {},
   "source": [
    "A list is a collection of items that are ordered and changeable.\n",
    "You can add, remove, or modify elements in a list.\n",
    "In Python, you can create an empty list using either `[]` or `list()`."
   ]
  },
  {
   "cell_type": "code",
   "execution_count": 1,
   "id": "94134afd-c853-4594-9fb9-464ea77ac54b",
   "metadata": {},
   "outputs": [
    {
     "data": {
      "text/plain": [
       "[1, 2, 3, [1, 2, 3, [1, 2, 3]]]"
      ]
     },
     "execution_count": 1,
     "metadata": {},
     "output_type": "execute_result"
    }
   ],
   "source": [
    "my_list = [1, 2, 3, [1, 2, 3, [1, 2, 3]]]\n",
    "\n",
    "my_list"
   ]
  },
  {
   "cell_type": "markdown",
   "id": "0462031d-031e-46a9-8fc8-8a067da13e70",
   "metadata": {},
   "source": [
    "***Python is zero-indexed!***"
   ]
  },
  {
   "cell_type": "code",
   "execution_count": 2,
   "id": "abc49b27-e5e4-4230-8f11-315ac08cde4d",
   "metadata": {},
   "outputs": [
    {
     "data": {
      "text/plain": [
       "1"
      ]
     },
     "execution_count": 2,
     "metadata": {},
     "output_type": "execute_result"
    }
   ],
   "source": [
    "my_list[0]"
   ]
  },
  {
   "cell_type": "code",
   "execution_count": 3,
   "id": "297ce591-3d4f-4d2b-9d39-6719e03839c1",
   "metadata": {},
   "outputs": [
    {
     "data": {
      "text/plain": [
       "3"
      ]
     },
     "execution_count": 3,
     "metadata": {},
     "output_type": "execute_result"
    }
   ],
   "source": [
    "my_list[-1][-1][-1]"
   ]
  },
  {
   "cell_type": "code",
   "execution_count": 4,
   "id": "877aab42-8d77-4586-b1ce-fc28b8c30b77",
   "metadata": {},
   "outputs": [
    {
     "data": {
      "text/plain": [
       "[1, 2, 3, [1, 2, 3, [1, 2, 'Matilda']]]"
      ]
     },
     "execution_count": 4,
     "metadata": {},
     "output_type": "execute_result"
    }
   ],
   "source": [
    "my_list[-1][-1][-1] = 'Matilda'\n",
    "\n",
    "my_list"
   ]
  },
  {
   "cell_type": "code",
   "execution_count": 5,
   "id": "14862dcd-948c-464f-8b58-5ed3b692d561",
   "metadata": {},
   "outputs": [
    {
     "data": {
      "text/plain": [
       "True"
      ]
     },
     "execution_count": 5,
     "metadata": {},
     "output_type": "execute_result"
    }
   ],
   "source": [
    "my_list[3] is my_list[-1]"
   ]
  },
  {
   "cell_type": "markdown",
   "id": "9699d382-f2e0-4121-8c3a-2289d05076bf",
   "metadata": {},
   "source": [
    "### Tuple"
   ]
  },
  {
   "cell_type": "markdown",
   "id": "9a2638b5-53a4-46eb-926e-a6b0447e7adf",
   "metadata": {},
   "source": [
    "A tuple is similar to a list, but it is immutable, meaning that you cannot change its contents once it has been created.\n",
    "You can create a tuple using parentheses `()` or the `tuple()` function."
   ]
  },
  {
   "cell_type": "code",
   "execution_count": 6,
   "id": "259869ac-b216-48f8-a9b7-a1752d01eb28",
   "metadata": {},
   "outputs": [
    {
     "data": {
      "text/plain": [
       "(1, 2, 3, (1, 2, 3, (1, 2, 3)))"
      ]
     },
     "execution_count": 6,
     "metadata": {},
     "output_type": "execute_result"
    }
   ],
   "source": [
    "my_tuple = (1, 2, 3, (1, 2, 3, (1, 2, 3)))\n",
    "\n",
    "my_tuple"
   ]
  },
  {
   "cell_type": "markdown",
   "id": "f0240508-fd16-4692-a951-fb8b3d9266a9",
   "metadata": {},
   "source": [
    "***Tuples are immutable!***"
   ]
  },
  {
   "cell_type": "code",
   "execution_count": 7,
   "id": "9b5a7728-86f9-45c3-a60f-b6929cbaa1c3",
   "metadata": {},
   "outputs": [],
   "source": [
    "# my_tuple[-1][-1][-1] = 'Matilda'\n",
    "\n",
    "# ---------------------------------------------------------------------------\n",
    "# TypeError                                 Traceback (most recent call last)\n",
    "# Cell In[14], line 1\n",
    "# ----> 1 my_tuple[-1][-1][-1] = 'Matilda'\n",
    "\n",
    "# TypeError: 'tuple' object does not support item assignment"
   ]
  },
  {
   "cell_type": "markdown",
   "id": "b91df8bf-5f39-4d44-8c6b-6f944d083a87",
   "metadata": {},
   "source": [
    "In the following example, we can replace the innermost `3` with `'Matilda'` because it is an object in a list."
   ]
  },
  {
   "cell_type": "code",
   "execution_count": 8,
   "id": "782ce40c-781d-4953-ada5-74bfaee5cd8a",
   "metadata": {},
   "outputs": [
    {
     "data": {
      "text/plain": [
       "(1, 2, 3, (1, 2, 3, [1, 2, 3]))"
      ]
     },
     "execution_count": 8,
     "metadata": {},
     "output_type": "execute_result"
    }
   ],
   "source": [
    "my_tuple_2 = (1, 2, 3, (1, 2, 3, [1, 2, 3]))\n",
    "\n",
    "my_tuple_2"
   ]
  },
  {
   "cell_type": "code",
   "execution_count": 9,
   "id": "e27ca364-ad1b-4f5a-b4a4-bb4992d1c620",
   "metadata": {},
   "outputs": [],
   "source": [
    "my_tuple_2[-1][-1][-1] = 'Matilda'"
   ]
  },
  {
   "cell_type": "markdown",
   "id": "0e67f1f1-22c3-4fe2-879b-cf7baf1bef66",
   "metadata": {},
   "source": [
    "### Dictionary"
   ]
  },
  {
   "cell_type": "markdown",
   "id": "dcf09df7-0aba-415c-9437-4246760f97b0",
   "metadata": {},
   "source": [
    "A dictionary is a collection of key-value pairs that are unordered and changeable.\n",
    "You can add, remove, or modify elements in a dictionary.\n",
    "In Python, you can create an empty dictionary using either `{}` or the `dict()` function. "
   ]
  },
  {
   "cell_type": "code",
   "execution_count": 10,
   "id": "b6dbe270-2b67-4a80-b6d6-c2eeae4b3c65",
   "metadata": {},
   "outputs": [],
   "source": [
    "prices_list = [10, 20, 300] # for AAPL, MSFT, TSLA"
   ]
  },
  {
   "cell_type": "code",
   "execution_count": 11,
   "id": "b6996ea5-9ee7-4c8f-8e02-c8f8dcf029d1",
   "metadata": {},
   "outputs": [],
   "source": [
    "prices_dict = {'AAPL': 10, 'MSFT': 20, 'TSLA': 300}"
   ]
  },
  {
   "cell_type": "code",
   "execution_count": 12,
   "id": "88d045ed-ab0f-4154-b24c-c1be88f1b7ae",
   "metadata": {},
   "outputs": [
    {
     "data": {
      "text/plain": [
       "10"
      ]
     },
     "execution_count": 12,
     "metadata": {},
     "output_type": "execute_result"
    }
   ],
   "source": [
    "prices_dict['AAPL']"
   ]
  },
  {
   "cell_type": "code",
   "execution_count": 13,
   "id": "ab9be75c-1d21-437c-96be-ad89bef89d85",
   "metadata": {},
   "outputs": [
    {
     "data": {
      "text/plain": [
       "{'A': 1, 'B': [1, 2, 3], 'C': {'A': 1, 2: 2}}"
      ]
     },
     "execution_count": 13,
     "metadata": {},
     "output_type": "execute_result"
    }
   ],
   "source": [
    "my_dict = {'A': 1, 'B': [1, 2, 3], 'C': {'A': 1, 2: 2}}\n",
    "\n",
    "my_dict"
   ]
  },
  {
   "cell_type": "markdown",
   "id": "fc234621-5f5a-42bf-992b-a6b8e1967ff4",
   "metadata": {},
   "source": [
    "### List Comprehension"
   ]
  },
  {
   "cell_type": "markdown",
   "id": "bad48c96-a05d-4ba3-9bda-1d413f917f0d",
   "metadata": {},
   "source": [
    "A list comprehension is a concise way of creating a new list by iterating over an existing list or other iterable object.\n",
    "It is more time and space-efficient than traditional for loops and offers a cleaner syntax.\n",
    "The basic syntax of a list comprehension is `new_list = [expression for item in iterable if condition]` where: \n",
    "\n",
    "1. `expression` is the operation to be performed on each element of the iterable\n",
    "1. `item` is the current element being processed\n",
    "1. `iterable` is the list or other iterable object being iterated over\n",
    "1. `condition` is an optional filter that only accepts items that evaluate to True.\n",
    "    \n",
    "For example, we can use the following list comprehension to create a new list of even numbers from 0 to 8: `even_numbers = [x for x in range(9) if x % 2 == 0]`\n",
    "\n",
    "List comprehensions are a powerful tool in Python that can help you write more efficient and readable code (i.e., more Pythonic code)."
   ]
  },
  {
   "cell_type": "code",
   "execution_count": 14,
   "id": "ae3b3348-2626-455d-9fe1-6722452d73ed",
   "metadata": {},
   "outputs": [
    {
     "data": {
      "text/plain": [
       "[0, 2, 4, 6, 8]"
      ]
     },
     "execution_count": 14,
     "metadata": {},
     "output_type": "execute_result"
    }
   ],
   "source": [
    "even_numbers = []\n",
    "for i in range(9):\n",
    "    if i%2 == 0:\n",
    "        even_numbers.append(i)\n",
    "\n",
    "even_numbers"
   ]
  },
  {
   "cell_type": "markdown",
   "id": "275ffe21-8f83-457d-ab40-5408dc661c0f",
   "metadata": {},
   "source": [
    "Here is the cooler, more Pythonic list comprehension version:"
   ]
  },
  {
   "cell_type": "code",
   "execution_count": 15,
   "id": "d441cce0-eb2f-48b0-990f-5a6988b13fee",
   "metadata": {},
   "outputs": [
    {
     "data": {
      "text/plain": [
       "[0, 2, 4, 6, 8]"
      ]
     },
     "execution_count": 15,
     "metadata": {},
     "output_type": "execute_result"
    }
   ],
   "source": [
    "[i for i in range(9) if i%2 == 0]"
   ]
  },
  {
   "cell_type": "markdown",
   "id": "35ee69aa-e5b3-4f9b-8891-de06cf8a2a06",
   "metadata": {},
   "source": [
    "## Practice"
   ]
  },
  {
   "cell_type": "markdown",
   "id": "280ff089-3829-41e3-b0e3-7ef0a99b1616",
   "metadata": {},
   "source": [
    "### Swap the values assigned to `a` and `b` using a third variable `c`."
   ]
  },
  {
   "cell_type": "code",
   "execution_count": 16,
   "id": "9f5f9bb5-9ae5-46fb-89d5-8fd0e2233f84",
   "metadata": {
    "tags": []
   },
   "outputs": [],
   "source": [
    "a = 1"
   ]
  },
  {
   "cell_type": "code",
   "execution_count": 17,
   "id": "24bde31f-b7be-4228-bdff-5a46ed76a896",
   "metadata": {},
   "outputs": [],
   "source": [
    "b = 2"
   ]
  },
  {
   "cell_type": "code",
   "execution_count": 18,
   "id": "5cd2e837-550f-472c-ba38-c69fe654b360",
   "metadata": {},
   "outputs": [],
   "source": [
    "c = a"
   ]
  },
  {
   "cell_type": "code",
   "execution_count": 19,
   "id": "a277335c-aed9-43be-a368-7185908f3047",
   "metadata": {},
   "outputs": [],
   "source": [
    "a = b"
   ]
  },
  {
   "cell_type": "code",
   "execution_count": 20,
   "id": "6c85e8bb-2744-4cee-9397-7434bc8ebf74",
   "metadata": {},
   "outputs": [],
   "source": [
    "b = c"
   ]
  },
  {
   "cell_type": "code",
   "execution_count": 21,
   "id": "fcfd9331-8a51-4224-a1d5-8745506f2eb4",
   "metadata": {},
   "outputs": [],
   "source": [
    "del c"
   ]
  },
  {
   "cell_type": "code",
   "execution_count": 22,
   "id": "2ed40c10-e47d-45bb-bc16-f7e56f98262b",
   "metadata": {},
   "outputs": [
    {
     "name": "stdout",
     "output_type": "stream",
     "text": [
      "a: 2, b: 1\n"
     ]
    }
   ],
   "source": [
    "print(f'a: {a}, b: {b}')"
   ]
  },
  {
   "cell_type": "markdown",
   "id": "04886f77-e0ae-4ab0-9263-2f0c36b8b4df",
   "metadata": {},
   "source": [
    "### Swap the values assigned to `a` and `b` ***without*** using a third variable `c`."
   ]
  },
  {
   "cell_type": "code",
   "execution_count": 23,
   "id": "2be3db05-1fd9-4d28-aab0-70c895358d87",
   "metadata": {},
   "outputs": [],
   "source": [
    "a = 1"
   ]
  },
  {
   "cell_type": "code",
   "execution_count": 24,
   "id": "4a10ac2d-1b0d-4e50-a6a2-0cbdc49d612a",
   "metadata": {},
   "outputs": [],
   "source": [
    "b = 2"
   ]
  },
  {
   "cell_type": "code",
   "execution_count": 25,
   "id": "4f48187c-6cc8-4bc2-8a87-d7361dfdee77",
   "metadata": {},
   "outputs": [],
   "source": [
    "(b, a) = (a, b)"
   ]
  },
  {
   "cell_type": "code",
   "execution_count": 26,
   "id": "1b1ec71f-f986-4997-882a-25b67dd3ab54",
   "metadata": {},
   "outputs": [
    {
     "name": "stdout",
     "output_type": "stream",
     "text": [
      "a: 2, b: 1\n"
     ]
    }
   ],
   "source": [
    "print(f'a: {a}, b: {b}')"
   ]
  },
  {
   "cell_type": "markdown",
   "id": "090450f0-6545-496e-8a5f-6e5fa6e35b80",
   "metadata": {},
   "source": [
    "### What is the output of the following code and why?"
   ]
  },
  {
   "cell_type": "markdown",
   "id": "6679167b-1316-4e3e-8ae9-fb171cabf39f",
   "metadata": {},
   "source": [
    "The parentheses `()` are optional for tuples, but they are often useful!"
   ]
  },
  {
   "cell_type": "code",
   "execution_count": 27,
   "id": "3b05189b-cb2a-49cf-bec6-3ecdffc268f2",
   "metadata": {},
   "outputs": [
    {
     "data": {
      "text/plain": [
       "tuple"
      ]
     },
     "execution_count": 27,
     "metadata": {},
     "output_type": "execute_result"
    }
   ],
   "source": [
    "_ = 1, 1, 1\n",
    "type(_)"
   ]
  },
  {
   "cell_type": "code",
   "execution_count": 28,
   "id": "e95000aa-e898-4d2d-9a61-7fa5ae7e4fce",
   "metadata": {},
   "outputs": [
    {
     "data": {
      "text/plain": [
       "(1, 1, False)"
      ]
     },
     "execution_count": 28,
     "metadata": {},
     "output_type": "execute_result"
    }
   ],
   "source": [
    "1, 1, 1 == (1, 1, 1)"
   ]
  },
  {
   "cell_type": "code",
   "execution_count": 29,
   "id": "0e548d73-6542-4141-b1b4-33dcb6d08447",
   "metadata": {},
   "outputs": [
    {
     "data": {
      "text/plain": [
       "(False, 1, 1)"
      ]
     },
     "execution_count": 29,
     "metadata": {},
     "output_type": "execute_result"
    }
   ],
   "source": [
    "(1, 1, 1) == 1, 1, 1"
   ]
  },
  {
   "cell_type": "markdown",
   "id": "cb16dab3-90d7-4f74-a745-b87f79b28fc1",
   "metadata": {},
   "source": [
    "Here we can wrap both sides with parentheses to remove ambiguity!"
   ]
  },
  {
   "cell_type": "code",
   "execution_count": 30,
   "id": "d95ece98-b4bf-492c-b821-df621ca90af9",
   "metadata": {},
   "outputs": [
    {
     "data": {
      "text/plain": [
       "True"
      ]
     },
     "execution_count": 30,
     "metadata": {},
     "output_type": "execute_result"
    }
   ],
   "source": [
    "(1, 1, 1) == (1, 1, 1)"
   ]
  },
  {
   "cell_type": "markdown",
   "id": "14746ac1-7e63-4673-a0ee-7eefc66838e1",
   "metadata": {},
   "source": [
    "### Create a list `l1` of integers from 1 to 100."
   ]
  },
  {
   "cell_type": "code",
   "execution_count": 31,
   "id": "1115ffad-c43e-496c-993c-c8350343ab0d",
   "metadata": {},
   "outputs": [
    {
     "name": "stdout",
     "output_type": "stream",
     "text": [
      "[1, 2, 3, 4, 5, 6, 7, 8, 9, 10, 11, 12, 13, 14, 15, 16, 17, 18, 19, 20, 21, 22, 23, 24, 25, 26, 27, 28, 29, 30, 31, 32, 33, 34, 35, 36, 37, 38, 39, 40, 41, 42, 43, 44, 45, 46, 47, 48, 49, 50, 51, 52, 53, 54, 55, 56, 57, 58, 59, 60, 61, 62, 63, 64, 65, 66, 67, 68, 69, 70, 71, 72, 73, 74, 75, 76, 77, 78, 79, 80, 81, 82, 83, 84, 85, 86, 87, 88, 89, 90, 91, 92, 93, 94, 95, 96, 97, 98, 99, 100]\n"
     ]
    }
   ],
   "source": [
    "l1 = list(range(1, 101))\n",
    "# the last entry in a code cell prints automatically...\n",
    "# here I wrap l1 with print for fewer lines of printout\n",
    "print(l1)"
   ]
  },
  {
   "cell_type": "markdown",
   "id": "8c8cc667-78cf-4628-921d-10c96888e48c",
   "metadata": {},
   "source": [
    "### Slice `l1` to create a list of integers from 60 to 50 (inclusive)."
   ]
  },
  {
   "cell_type": "markdown",
   "id": "b74678c6-73ad-4f87-a8b4-855e05e4c513",
   "metadata": {},
   "source": [
    "Name this list `l2`."
   ]
  },
  {
   "cell_type": "code",
   "execution_count": 32,
   "id": "e299098f-fe12-4a46-a293-3bcff8d72dc9",
   "metadata": {},
   "outputs": [
    {
     "data": {
      "text/plain": [
       "[60, 59, 58, 57, 56, 55, 54, 53, 52, 51, 50]"
      ]
     },
     "execution_count": 32,
     "metadata": {},
     "output_type": "execute_result"
    }
   ],
   "source": [
    "# with zero-indexing:\n",
    "# left edge included, right excluded\n",
    "# so length of list is right - left\n",
    "l2 = l1[49:60]\n",
    "l2.reverse()\n",
    "l2 # most Python methods modify objects \"in place\""
   ]
  },
  {
   "cell_type": "code",
   "execution_count": 33,
   "id": "74dd5fcc-edf9-42d4-901e-7abd4434bf99",
   "metadata": {},
   "outputs": [
    {
     "data": {
      "text/plain": [
       "[60, 59, 58, 57, 56, 55, 54, 53, 52, 51, 50]"
      ]
     },
     "execution_count": 33,
     "metadata": {},
     "output_type": "execute_result"
    }
   ],
   "source": [
    "l2_alt = l1[49:60][::-1]\n",
    "\n",
    "l2_alt"
   ]
  },
  {
   "cell_type": "code",
   "execution_count": 34,
   "id": "c17d80ba-27a5-42bb-a4b9-3ad02015afea",
   "metadata": {},
   "outputs": [
    {
     "data": {
      "text/plain": [
       "[60, 59, 58, 57, 56, 55, 54, 53, 52, 51, 50]"
      ]
     },
     "execution_count": 34,
     "metadata": {},
     "output_type": "execute_result"
    }
   ],
   "source": [
    "l1[-41:-52:-1]"
   ]
  },
  {
   "cell_type": "markdown",
   "id": "230d0817-c32b-4448-9052-f2128240549e",
   "metadata": {},
   "source": [
    "### Create a list `l3` of odd integers from 1 to 21."
   ]
  },
  {
   "cell_type": "code",
   "execution_count": 35,
   "id": "3a435a2c-4ba5-441e-8767-af3045ff8aa1",
   "metadata": {},
   "outputs": [
    {
     "data": {
      "text/plain": [
       "[1, 3, 5, 7, 9, 11, 13, 15, 17, 19, 21]"
      ]
     },
     "execution_count": 35,
     "metadata": {},
     "output_type": "execute_result"
    }
   ],
   "source": [
    "l3 = []\n",
    "for i in range(1, 22):\n",
    "    if i%2 == 1:\n",
    "        l3.append(i)\n",
    "\n",
    "l3"
   ]
  },
  {
   "cell_type": "code",
   "execution_count": 36,
   "id": "94c9170b-dc07-4ae5-8821-5f325e1e6a5a",
   "metadata": {},
   "outputs": [
    {
     "data": {
      "text/plain": [
       "[1, 3, 5, 7, 9, 11, 13, 15, 17, 19, 21]"
      ]
     },
     "execution_count": 36,
     "metadata": {},
     "output_type": "execute_result"
    }
   ],
   "source": [
    "l3_alt = [i for i in range(1, 22) if i%2 == 1]\n",
    "\n",
    "l3_alt"
   ]
  },
  {
   "cell_type": "code",
   "execution_count": 37,
   "id": "a608aabc-cff2-41ed-821c-86d3aa01721c",
   "metadata": {},
   "outputs": [
    {
     "data": {
      "text/plain": [
       "[1, 3, 5, 7, 9, 11, 13, 15, 17, 19, 21]"
      ]
     },
     "execution_count": 37,
     "metadata": {},
     "output_type": "execute_result"
    }
   ],
   "source": [
    "list(range(1, 22, 2))"
   ]
  },
  {
   "cell_type": "markdown",
   "id": "f1d41431-74bd-41c7-8e41-e14f7c4189fe",
   "metadata": {},
   "source": [
    "### Create a list `l4` of the squares of integers from 1 to 100."
   ]
  },
  {
   "cell_type": "code",
   "execution_count": 38,
   "id": "2935e1fa-e8ff-4fcb-a05c-a39c6a16b673",
   "metadata": {},
   "outputs": [
    {
     "name": "stdout",
     "output_type": "stream",
     "text": [
      "[1, 4, 9, 16, 25, 36, 49, 64, 81, 100, 121, 144, 169, 196, 225, 256, 289, 324, 361, 400, 441, 484, 529, 576, 625, 676, 729, 784, 841, 900, 961, 1024, 1089, 1156, 1225, 1296, 1369, 1444, 1521, 1600, 1681, 1764, 1849, 1936, 2025, 2116, 2209, 2304, 2401, 2500, 2601, 2704, 2809, 2916, 3025, 3136, 3249, 3364, 3481, 3600, 3721, 3844, 3969, 4096, 4225, 4356, 4489, 4624, 4761, 4900, 5041, 5184, 5329, 5476, 5625, 5776, 5929, 6084, 6241, 6400, 6561, 6724, 6889, 7056, 7225, 7396, 7569, 7744, 7921, 8100, 8281, 8464, 8649, 8836, 9025, 9216, 9409, 9604, 9801, 10000]\n"
     ]
    }
   ],
   "source": [
    "l4 = [i**2 for i in range(1, 101)]\n",
    "\n",
    "print(l4)"
   ]
  },
  {
   "cell_type": "markdown",
   "id": "d07ccc33-f6e6-4810-8dfc-5549efb30648",
   "metadata": {},
   "source": [
    "### Create a list `l5` that contains the squares of ***odd*** integers from 1 to 100."
   ]
  },
  {
   "cell_type": "code",
   "execution_count": 39,
   "id": "687da03f-e9a6-46b2-9c61-2731e01a52ae",
   "metadata": {},
   "outputs": [
    {
     "name": "stdout",
     "output_type": "stream",
     "text": [
      "[1, 9, 25, 49, 81, 121, 169, 225, 289, 361, 441, 529, 625, 729, 841, 961, 1089, 1225, 1369, 1521, 1681, 1849, 2025, 2209, 2401, 2601, 2809, 3025, 3249, 3481, 3721, 3969, 4225, 4489, 4761, 5041, 5329, 5625, 5929, 6241, 6561, 6889, 7225, 7569, 7921, 8281, 8649, 9025, 9409, 9801]\n"
     ]
    }
   ],
   "source": [
    "l5 = [i**2 for i in range(1, 101) if i%2 != 0]\n",
    "\n",
    "print(l5)"
   ]
  },
  {
   "cell_type": "markdown",
   "id": "c7ec67de-3972-42ce-873f-40a7aaa57442",
   "metadata": {},
   "source": [
    "### Use a lambda function to sort `strings` by the last letter."
   ]
  },
  {
   "cell_type": "code",
   "execution_count": 40,
   "id": "7faff1c8-e416-4175-bcf9-e26c014e9c78",
   "metadata": {},
   "outputs": [],
   "source": [
    "strings = ['card', 'aaaa', 'foo', 'bar', 'abab']"
   ]
  },
  {
   "cell_type": "code",
   "execution_count": 41,
   "id": "99960c64-9636-4c91-ac00-00c37f24cbaf",
   "metadata": {},
   "outputs": [],
   "source": [
    "def get_last_letter(x):\n",
    "    return x[-1]"
   ]
  },
  {
   "cell_type": "code",
   "execution_count": 42,
   "id": "aba71fdc-b1a0-4941-9b1d-97c7ee9a27d5",
   "metadata": {},
   "outputs": [
    {
     "data": {
      "text/plain": [
       "'d'"
      ]
     },
     "execution_count": 42,
     "metadata": {},
     "output_type": "execute_result"
    }
   ],
   "source": [
    "get_last_letter(strings[0])"
   ]
  },
  {
   "cell_type": "markdown",
   "id": "16b6eb98-61be-42fb-b107-ee011d5244ce",
   "metadata": {},
   "source": [
    "I would usually use the `.sort()` method, which would modify the `strings` list *in place.*\n",
    "However, for this exercise I want to leave the `strings` list as is, so I can I can repeat this exercise a few times."
   ]
  },
  {
   "cell_type": "code",
   "execution_count": 43,
   "id": "c0d116a1-29c1-4bfc-9fe2-89d30029f39e",
   "metadata": {},
   "outputs": [
    {
     "data": {
      "text/plain": [
       "['aaaa', 'abab', 'bar', 'card', 'foo']"
      ]
     },
     "execution_count": 43,
     "metadata": {},
     "output_type": "execute_result"
    }
   ],
   "source": [
    "sorted(strings)"
   ]
  },
  {
   "cell_type": "code",
   "execution_count": 44,
   "id": "765f0737-e95a-485e-a6ae-d83bb85f5023",
   "metadata": {},
   "outputs": [
    {
     "data": {
      "text/plain": [
       "['aaaa', 'abab', 'card', 'foo', 'bar']"
      ]
     },
     "execution_count": 44,
     "metadata": {},
     "output_type": "execute_result"
    }
   ],
   "source": [
    "sorted(strings, key=get_last_letter)"
   ]
  },
  {
   "cell_type": "markdown",
   "id": "c42948d9-a2a1-494a-b507-d7d98ca65374",
   "metadata": {},
   "source": [
    "Here is the anonymous function version."
   ]
  },
  {
   "cell_type": "code",
   "execution_count": 45,
   "id": "b161e1cd-6ce9-467a-87e6-3379c689af07",
   "metadata": {},
   "outputs": [
    {
     "data": {
      "text/plain": [
       "['aaaa', 'abab', 'card', 'foo', 'bar']"
      ]
     },
     "execution_count": 45,
     "metadata": {},
     "output_type": "execute_result"
    }
   ],
   "source": [
    "sorted(strings, key=lambda x: x[-1])"
   ]
  },
  {
   "cell_type": "markdown",
   "id": "7014888b-43c0-46bd-b10c-d7819b55f952",
   "metadata": {},
   "source": [
    "Anonymous functions are very Pythonic and the ideal way to implement a calculation that you only plan to use once, thereby avoiding the overhead of writing a function."
   ]
  },
  {
   "cell_type": "markdown",
   "id": "c1243f61-c1db-4907-92af-d4145531b49e",
   "metadata": {},
   "source": [
    "### Given an integer array `nums` and an integer `k`, return the $k^{th}$ largest element in the array."
   ]
  },
  {
   "cell_type": "markdown",
   "id": "18a32df2-94dc-4b2c-8efa-c108d23a105e",
   "metadata": {},
   "source": [
    "Note that it is the $k^{th}$ largest element in the sorted order, not the $k^{th}$ distinct element.\n",
    "\n",
    "Example 1:\n",
    "\n",
    "Input: `nums = [3,2,1,5,6,4]`, `k = 2` \\\n",
    "Output: `5`\n",
    "\n",
    "Example 2:\n",
    "\n",
    "Input: `nums = [3,2,3,1,2,4,5,5,6]`, `k = 4` \\\n",
    "Output: `4`\n",
    "\n",
    "I saw this question on [LeetCode](https://leetcode.com/problems/kth-largest-element-in-an-array/)."
   ]
  },
  {
   "cell_type": "code",
   "execution_count": 46,
   "id": "0617863f-75e5-4391-87b8-c75dc8d95d58",
   "metadata": {},
   "outputs": [],
   "source": [
    "def get_largest(x, k):\n",
    "    return sorted(x)[-k]"
   ]
  },
  {
   "cell_type": "code",
   "execution_count": 47,
   "id": "c961666e-8098-4c31-8643-8bde6b2a8ea8",
   "metadata": {},
   "outputs": [
    {
     "data": {
      "text/plain": [
       "5"
      ]
     },
     "execution_count": 47,
     "metadata": {},
     "output_type": "execute_result"
    }
   ],
   "source": [
    "get_largest(x=[3,2,1,5,6,4], k=2)"
   ]
  },
  {
   "cell_type": "code",
   "execution_count": 48,
   "id": "6821aaee-3959-410e-b6b4-43bc88cd1a77",
   "metadata": {},
   "outputs": [
    {
     "data": {
      "text/plain": [
       "4"
      ]
     },
     "execution_count": 48,
     "metadata": {},
     "output_type": "execute_result"
    }
   ],
   "source": [
    "get_largest(x=[3,2,3,1,2,4,5,5,6], k=4)"
   ]
  },
  {
   "cell_type": "markdown",
   "id": "9ba84409-fb2d-47dc-a650-a5cde7463d7b",
   "metadata": {},
   "source": [
    "### Given an integer array `nums` and an integer `k`, return the `k` most frequent elements. "
   ]
  },
  {
   "cell_type": "markdown",
   "id": "f16ea5ed-5667-401e-855f-bce485671316",
   "metadata": {},
   "source": [
    "You may return the answer in any order.\n",
    "\n",
    "Example 1:\n",
    "\n",
    "Input: `nums = [1,1,1,2,2,3]`, `k = 2` \\\n",
    "Output: `[1,2]`\n",
    "\n",
    "Example 2:\n",
    "\n",
    "Input: `nums = [1]`, `k = 1` \\\n",
    "Output: `[1]`\n",
    "\n",
    "I saw this question on [LeetCode](https://leetcode.com/problems/top-k-frequent-elements/)."
   ]
  },
  {
   "cell_type": "code",
   "execution_count": 49,
   "id": "45d46926-4f25-4622-91a0-2f6cf9824921",
   "metadata": {},
   "outputs": [],
   "source": [
    "def get_frequent(nums, k):\n",
    "    counts = {}\n",
    "    for n in nums:\n",
    "        if n in counts:\n",
    "            counts[n] += 1\n",
    "        else:\n",
    "            counts[n] = 1\n",
    "    return [x[0] for x in sorted(counts.items(), key=lambda x: x[1], reverse=True)[:k]]\n"
   ]
  },
  {
   "cell_type": "code",
   "execution_count": 50,
   "id": "d98cee0a-858b-4c51-9261-e056c96994b0",
   "metadata": {},
   "outputs": [
    {
     "data": {
      "text/plain": [
       "[1, 2]"
      ]
     },
     "execution_count": 50,
     "metadata": {},
     "output_type": "execute_result"
    }
   ],
   "source": [
    "get_frequent(nums=[1,1,1,2,2,3], k=2)"
   ]
  },
  {
   "cell_type": "markdown",
   "id": "2960dfdb-8dad-48cd-ae6c-171a1467af4c",
   "metadata": {},
   "source": [
    "### Test whether the given strings are palindromes."
   ]
  },
  {
   "cell_type": "markdown",
   "id": "b4cd9be1-9f78-417b-ba8d-fedd1d2c6605",
   "metadata": {},
   "source": [
    "Input: `[\"aba\", \"no\"]` \\\n",
    "Output: `[True, False]`"
   ]
  },
  {
   "cell_type": "markdown",
   "id": "25e36cd8-eb7a-47ad-a5e0-14905334b89c",
   "metadata": {},
   "source": [
    "We can reverse a string with a `[::-1]` slice just like we reverse a string!"
   ]
  },
  {
   "cell_type": "code",
   "execution_count": 51,
   "id": "3913c665-94fa-44fd-9c73-69b4d866327f",
   "metadata": {},
   "outputs": [],
   "source": [
    "def is_palindrome(xs):\n",
    "    return [x == x[::-1] for x in xs]"
   ]
  },
  {
   "cell_type": "code",
   "execution_count": 52,
   "id": "21929fee-fc0c-4ecc-8f8d-ccc34cac57fe",
   "metadata": {},
   "outputs": [
    {
     "data": {
      "text/plain": [
       "[True, False]"
      ]
     },
     "execution_count": 52,
     "metadata": {},
     "output_type": "execute_result"
    }
   ],
   "source": [
    "is_palindrome([\"aba\", \"no\"])"
   ]
  },
  {
   "cell_type": "markdown",
   "id": "e999107f-269e-4f58-b64d-32c188ae2725",
   "metadata": {},
   "source": [
    "### Write a function `returns()` that accepts lists of prices and dividends and returns a list of returns."
   ]
  },
  {
   "cell_type": "code",
   "execution_count": 53,
   "id": "876346e1-ebea-41e4-a2e1-e9143b67b54b",
   "metadata": {},
   "outputs": [],
   "source": [
    "prices = [100, 150, 100, 50, 100, 150, 100, 150]\n",
    "dividends = [1, 1, 1, 1, 2, 2, 2, 2]"
   ]
  },
  {
   "cell_type": "markdown",
   "id": "dc2e2cf1-46c4-4779-8e12-aad47d4bef0b",
   "metadata": {},
   "source": [
    "This type problem is the rare case where I use a loop counter in Python."
   ]
  },
  {
   "cell_type": "code",
   "execution_count": 54,
   "id": "83f2bfec-c244-4e1f-b5e4-8a53a05c0bdf",
   "metadata": {},
   "outputs": [],
   "source": [
    "def returns(p, d):\n",
    "    rs = []\n",
    "    for i in range(1, len(p)):\n",
    "        r = (p[i] + d[i] - p[i-1]) / p[i-1]\n",
    "        rs.append(r)\n",
    "\n",
    "    return rs"
   ]
  },
  {
   "cell_type": "code",
   "execution_count": 55,
   "id": "9cfeeeb1-c30c-416c-be34-cbc267ef877e",
   "metadata": {},
   "outputs": [
    {
     "data": {
      "text/plain": [
       "'%.4f'"
      ]
     },
     "execution_count": 55,
     "metadata": {},
     "output_type": "execute_result"
    }
   ],
   "source": [
    "%precision 4"
   ]
  },
  {
   "cell_type": "code",
   "execution_count": 56,
   "id": "1bb9b3d6-e210-4d47-a824-7d62b0a742e4",
   "metadata": {},
   "outputs": [
    {
     "data": {
      "text/plain": [
       "[0.5100, -0.3267, -0.4900, 1.0400, 0.5200, -0.3200, 0.5200]"
      ]
     },
     "execution_count": 56,
     "metadata": {},
     "output_type": "execute_result"
    }
   ],
   "source": [
    "returns(p=prices, d=dividends)"
   ]
  },
  {
   "cell_type": "markdown",
   "id": "0e884991-6517-4621-b5f1-6e95e6ab4216",
   "metadata": {},
   "source": [
    "Here is a solution that avoids a loop counter and combines a list comprehension `zip()` to loop over prices, dividends, and lagged prices.\n",
    "This solution may be a little more Pythonic, but I find it harder to follow that our loop-counter solution above."
   ]
  },
  {
   "cell_type": "code",
   "execution_count": 57,
   "id": "4d721caf-e5f9-422a-b6ab-ef89de96d9c1",
   "metadata": {},
   "outputs": [
    {
     "data": {
      "text/plain": [
       "[0.5100, -0.3267, -0.4900, 1.0400, 0.5200, -0.3200, 0.5200]"
      ]
     },
     "execution_count": 57,
     "metadata": {},
     "output_type": "execute_result"
    }
   ],
   "source": [
    "[(p + d - p_lag) / p_lag for p, d, p_lag in zip(prices[1:], dividends[1:], prices[:-1])]"
   ]
  },
  {
   "cell_type": "markdown",
   "id": "59f6e878-8cb4-4bf8-8ff1-f883f8581a5d",
   "metadata": {},
   "source": [
    "### Rewrite the function `returns()` so it returns lists of returns, capital gains yields, and dividend yields."
   ]
  },
  {
   "cell_type": "code",
   "execution_count": 58,
   "id": "dced9d14-2794-441f-8884-e48af4af30c8",
   "metadata": {},
   "outputs": [],
   "source": [
    "def returns_2(p, d):\n",
    "    rs, d_ps, cg_ps = [], [], []\n",
    "    for i in range(1, len(p)):\n",
    "        r = (p[i] + d[i] - p[i-1]) / p[i-1]\n",
    "        d_p = d[i] / p[i-1]\n",
    "        cg_p = r - d_p\n",
    "        rs.append(r)\n",
    "        d_ps.append(d_p)\n",
    "        cg_ps.append(cg_p)\n",
    "\n",
    "    return {'r': rs, 'd_p': d_ps, 'cg': cg_ps}"
   ]
  },
  {
   "cell_type": "code",
   "execution_count": 59,
   "id": "acfa3ffb-95b8-4adf-9e71-5e3915e74147",
   "metadata": {},
   "outputs": [
    {
     "data": {
      "text/plain": [
       "{'r': [0.5100, -0.3267, -0.4900, 1.0400, 0.5200, -0.3200, 0.5200],\n",
       " 'd_p': [0.0100, 0.0067, 0.0100, 0.0400, 0.0200, 0.0133, 0.0200],\n",
       " 'cg': [0.5000, -0.3333, -0.5000, 1.0000, 0.5000, -0.3333, 0.5000]}"
      ]
     },
     "execution_count": 59,
     "metadata": {},
     "output_type": "execute_result"
    }
   ],
   "source": [
    "returns_2(p=prices, d=dividends)"
   ]
  },
  {
   "cell_type": "markdown",
   "id": "7eb026c8-a42b-4eef-b237-57cade6897ed",
   "metadata": {},
   "source": [
    "### Rescale and shift numbers so that they cover the range `[0, 1]`."
   ]
  },
  {
   "cell_type": "markdown",
   "id": "b373f8e6-cb9d-4d91-8432-2e77f69ec7ca",
   "metadata": {},
   "source": [
    "Input: `[18.5, 17.0, 18.0, 19.0, 18.0]` \\\n",
    "Output: `[0.75, 0.0, 0.5, 1.0, 0.5]`"
   ]
  },
  {
   "cell_type": "code",
   "execution_count": 60,
   "id": "57884637-4d5f-45a2-874d-3fcea264e405",
   "metadata": {},
   "outputs": [],
   "source": [
    "numbers = [18.5, 17.0, 18.0, 19.0, 18.0]"
   ]
  },
  {
   "cell_type": "code",
   "execution_count": 61,
   "id": "e1d767c5-7c19-481a-a25d-e5cb815b5967",
   "metadata": {},
   "outputs": [],
   "source": [
    "def rescale(x):\n",
    "    x_min = min(x)\n",
    "    x_max = max(x)\n",
    "\n",
    "    # Here is the for-loop equivalent of the list comprehension below\n",
    "    # rescaled = []\n",
    "    # for y in x:\n",
    "    #     rescaled.append((y - x_min) / (x_max - x_min))\n",
    "     \n",
    "    return [(y - x_min) / (x_max - x_min) for y in x]"
   ]
  },
  {
   "cell_type": "code",
   "execution_count": 62,
   "id": "a2568bfd-8626-41fb-a280-c05cc4505d58",
   "metadata": {},
   "outputs": [
    {
     "data": {
      "text/plain": [
       "[0.7500, 0.0000, 0.5000, 1.0000, 0.5000]"
      ]
     },
     "execution_count": 62,
     "metadata": {},
     "output_type": "execute_result"
    }
   ],
   "source": [
    "rescale(numbers)"
   ]
  }
 ],
 "metadata": {
  "author": "Richard Herron",
  "kernelspec": {
   "display_name": "Python 3 (ipykernel)",
   "language": "python",
   "name": "python3"
  },
  "language_info": {
   "codemirror_mode": {
    "name": "ipython",
    "version": 3
   },
   "file_extension": ".py",
   "mimetype": "text/x-python",
   "name": "python",
   "nbconvert_exporter": "python",
   "pygments_lexer": "ipython3",
   "version": "3.12.1"
  },
  "title": "McKinney Chapter 3 - Practice"
 },
 "nbformat": 4,
 "nbformat_minor": 5
}
