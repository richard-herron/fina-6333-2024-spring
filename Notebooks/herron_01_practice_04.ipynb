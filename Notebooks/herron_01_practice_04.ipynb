{
 "cells": [
  {
   "cell_type": "markdown",
   "id": "c1e33842-3bd0-4623-9296-60a1ad2fe57b",
   "metadata": {},
   "source": [
    "# Herron Topic 1 - Practice for Section 04"
   ]
  },
  {
   "cell_type": "markdown",
   "id": "e309ca3f-5058-4450-9f1d-c25d61e7a935",
   "metadata": {},
   "source": [
    "## Announcements"
   ]
  },
  {
   "cell_type": "markdown",
   "id": "51d362d4-e297-4b90-8e11-1c94166a8582",
   "metadata": {},
   "source": [
    "1. DataCamp\n",
    "   1. *Data Manipulation with pandas* due by Friday, 2/9, at 11:59 PM\n",
    "   2. *Joining Data with pandas* due by Friday, 2/16, at 11:59 PM\n",
    "   3. *Earn 10,000 XP* due by Friday, 3/15, at 11:59 PM\n",
    "2. I posted Project 1 to Canvas\n",
    "   1. Slides and notebook due by Friday, 2/23, at 11:59 PM\n",
    "   2. Keep joining teams and let me know if you need help"
   ]
  },
  {
   "cell_type": "markdown",
   "id": "cb68d7d7-4382-4365-9363-f51828495b66",
   "metadata": {},
   "source": [
    "## 10-Minute Recap"
   ]
  },
  {
   "cell_type": "code",
   "execution_count": 1,
   "id": "a3372be2-8043-4c4f-810f-4cb347b6d725",
   "metadata": {
    "editable": true
   },
   "outputs": [],
   "source": [
    "import matplotlib.pyplot as plt\n",
    "import numpy as np\n",
    "import pandas as pd\n",
    "import pandas_datareader as pdr\n",
    "import yfinance as yf"
   ]
  },
  {
   "cell_type": "code",
   "execution_count": 2,
   "id": "f2c5b683-aff2-4833-bf3f-fcd813ee0c59",
   "metadata": {},
   "outputs": [],
   "source": [
    "%precision 4\n",
    "pd.options.display.float_format = '{:.4f}'.format\n",
    "%config InlineBackend.figure_format = 'retina'"
   ]
  },
  {
   "cell_type": "code",
   "execution_count": 3,
   "id": "089653d1-b8ce-4abf-bd26-967045997c2c",
   "metadata": {},
   "outputs": [
    {
     "data": {
      "text/plain": [
       "0.1000"
      ]
     },
     "execution_count": 3,
     "metadata": {},
     "output_type": "execute_result"
    }
   ],
   "source": [
    "np.expm1(np.log1p(0.1))"
   ]
  },
  {
   "cell_type": "markdown",
   "id": "0be561bc-852b-4e0e-bbfa-c796d82b0f67",
   "metadata": {},
   "source": [
    "First, we will use two packages to download data from the web:\n",
    "\n",
    "1. `yfinance` for Yahoo! Finance data\n",
    "2. `pandas-datareader` for Ken French data (or FRED data to others)"
   ]
  },
  {
   "cell_type": "markdown",
   "id": "33ccb291-149f-418f-a5ab-ffa624845290",
   "metadata": {},
   "source": [
    "Second, there are \"simple returns\" and \"log returns\"\n",
    "\n",
    "1. Simple returns are the returns that investors receive that we learned in FINA 6331 and FINA 6333: $r_t = \\frac{p_t + d_t - p_{t-1}}{p_{t-1}}$\n",
    "3. Log returns are the log of one plus simple returns. Why do we use them?\n",
    "   1. ***Log returns are additive***, while simple returns are multiplicative. This additive property makes math really easy with log returns: $\\log(\\prod_{t=0}^T (1 + r_t)) = \\sum_{t=0}^T \\log(1+r_t)$, so $r_{0,T} = \\prod_{t=0}^T (1 + r_t) - 1 = e^{\\sum_{t=0}^T \\log(1+r_t)} - 1$\n",
    "   2. ***Log returns are almost normally distributed***\n",
    "  \n",
    "***We will almost always use simple returns.***\n",
    "The exeception is time-consuming calculations, which we will often do in log returns to save us time."
   ]
  },
  {
   "cell_type": "markdown",
   "id": "4d9ec2a6-973d-4547-96d5-b25157df418b",
   "metadata": {},
   "source": [
    "Third, we can calculate portfolio returns easily in pandas!\n",
    "\n",
    "1. `returns.mean(axis=1)` is the return on an equally-weighted portfolio, ***rebalanced at the same frequency as the returns in `returns`!***\n",
    "2. `returns.dot(weights)` is the return on a portfolio weighted according to the weights in the `weights` array, ***still rebalanced at the same frequency as the returns in `returns`!***"
   ]
  },
  {
   "cell_type": "markdown",
   "id": "f0b99b10-b82f-4ae3-80ad-f99641d50432",
   "metadata": {},
   "source": [
    "## Practice"
   ]
  },
  {
   "cell_type": "markdown",
   "id": "53640bc0-0716-4eff-929d-ff470d54d811",
   "metadata": {},
   "source": [
    "### Download all available daily price data for tickers TSLA, F, AAPL, AMZN, and META to data frame `prices`"
   ]
  },
  {
   "cell_type": "code",
   "execution_count": 4,
   "id": "caae0e9b-0696-4493-9c19-2e6ca70742aa",
   "metadata": {},
   "outputs": [
    {
     "name": "stderr",
     "output_type": "stream",
     "text": [
      "[*********************100%%**********************]  5 of 5 completed\n"
     ]
    },
    {
     "data": {
      "text/html": [
       "<div>\n",
       "<style scoped>\n",
       "    .dataframe tbody tr th:only-of-type {\n",
       "        vertical-align: middle;\n",
       "    }\n",
       "\n",
       "    .dataframe tbody tr th {\n",
       "        vertical-align: top;\n",
       "    }\n",
       "\n",
       "    .dataframe thead tr th {\n",
       "        text-align: left;\n",
       "    }\n",
       "\n",
       "    .dataframe thead tr:last-of-type th {\n",
       "        text-align: right;\n",
       "    }\n",
       "</style>\n",
       "<table border=\"1\" class=\"dataframe\">\n",
       "  <thead>\n",
       "    <tr>\n",
       "      <th></th>\n",
       "      <th colspan=\"5\" halign=\"left\">Adj Close</th>\n",
       "      <th colspan=\"5\" halign=\"left\">Close</th>\n",
       "      <th>...</th>\n",
       "      <th colspan=\"5\" halign=\"left\">Open</th>\n",
       "      <th colspan=\"5\" halign=\"left\">Volume</th>\n",
       "    </tr>\n",
       "    <tr>\n",
       "      <th></th>\n",
       "      <th>AAPL</th>\n",
       "      <th>AMZN</th>\n",
       "      <th>F</th>\n",
       "      <th>META</th>\n",
       "      <th>TSLA</th>\n",
       "      <th>AAPL</th>\n",
       "      <th>AMZN</th>\n",
       "      <th>F</th>\n",
       "      <th>META</th>\n",
       "      <th>TSLA</th>\n",
       "      <th>...</th>\n",
       "      <th>AAPL</th>\n",
       "      <th>AMZN</th>\n",
       "      <th>F</th>\n",
       "      <th>META</th>\n",
       "      <th>TSLA</th>\n",
       "      <th>AAPL</th>\n",
       "      <th>AMZN</th>\n",
       "      <th>F</th>\n",
       "      <th>META</th>\n",
       "      <th>TSLA</th>\n",
       "    </tr>\n",
       "    <tr>\n",
       "      <th>Date</th>\n",
       "      <th></th>\n",
       "      <th></th>\n",
       "      <th></th>\n",
       "      <th></th>\n",
       "      <th></th>\n",
       "      <th></th>\n",
       "      <th></th>\n",
       "      <th></th>\n",
       "      <th></th>\n",
       "      <th></th>\n",
       "      <th></th>\n",
       "      <th></th>\n",
       "      <th></th>\n",
       "      <th></th>\n",
       "      <th></th>\n",
       "      <th></th>\n",
       "      <th></th>\n",
       "      <th></th>\n",
       "      <th></th>\n",
       "      <th></th>\n",
       "      <th></th>\n",
       "    </tr>\n",
       "  </thead>\n",
       "  <tbody>\n",
       "    <tr>\n",
       "      <th>1972-06-01</th>\n",
       "      <td>NaN</td>\n",
       "      <td>NaN</td>\n",
       "      <td>0.2419</td>\n",
       "      <td>NaN</td>\n",
       "      <td>NaN</td>\n",
       "      <td>NaN</td>\n",
       "      <td>NaN</td>\n",
       "      <td>2.1532</td>\n",
       "      <td>NaN</td>\n",
       "      <td>NaN</td>\n",
       "      <td>...</td>\n",
       "      <td>NaN</td>\n",
       "      <td>NaN</td>\n",
       "      <td>0.0000</td>\n",
       "      <td>NaN</td>\n",
       "      <td>NaN</td>\n",
       "      <td>NaN</td>\n",
       "      <td>NaN</td>\n",
       "      <td>1091238</td>\n",
       "      <td>NaN</td>\n",
       "      <td>NaN</td>\n",
       "    </tr>\n",
       "    <tr>\n",
       "      <th>1972-06-02</th>\n",
       "      <td>NaN</td>\n",
       "      <td>NaN</td>\n",
       "      <td>0.2414</td>\n",
       "      <td>NaN</td>\n",
       "      <td>NaN</td>\n",
       "      <td>NaN</td>\n",
       "      <td>NaN</td>\n",
       "      <td>2.1492</td>\n",
       "      <td>NaN</td>\n",
       "      <td>NaN</td>\n",
       "      <td>...</td>\n",
       "      <td>NaN</td>\n",
       "      <td>NaN</td>\n",
       "      <td>2.1532</td>\n",
       "      <td>NaN</td>\n",
       "      <td>NaN</td>\n",
       "      <td>NaN</td>\n",
       "      <td>NaN</td>\n",
       "      <td>1174468</td>\n",
       "      <td>NaN</td>\n",
       "      <td>NaN</td>\n",
       "    </tr>\n",
       "    <tr>\n",
       "      <th>1972-06-05</th>\n",
       "      <td>NaN</td>\n",
       "      <td>NaN</td>\n",
       "      <td>0.2414</td>\n",
       "      <td>NaN</td>\n",
       "      <td>NaN</td>\n",
       "      <td>NaN</td>\n",
       "      <td>NaN</td>\n",
       "      <td>2.1492</td>\n",
       "      <td>NaN</td>\n",
       "      <td>NaN</td>\n",
       "      <td>...</td>\n",
       "      <td>NaN</td>\n",
       "      <td>NaN</td>\n",
       "      <td>2.1492</td>\n",
       "      <td>NaN</td>\n",
       "      <td>NaN</td>\n",
       "      <td>NaN</td>\n",
       "      <td>NaN</td>\n",
       "      <td>5209582</td>\n",
       "      <td>NaN</td>\n",
       "      <td>NaN</td>\n",
       "    </tr>\n",
       "    <tr>\n",
       "      <th>1972-06-06</th>\n",
       "      <td>NaN</td>\n",
       "      <td>NaN</td>\n",
       "      <td>0.2387</td>\n",
       "      <td>NaN</td>\n",
       "      <td>NaN</td>\n",
       "      <td>NaN</td>\n",
       "      <td>NaN</td>\n",
       "      <td>2.1248</td>\n",
       "      <td>NaN</td>\n",
       "      <td>NaN</td>\n",
       "      <td>...</td>\n",
       "      <td>NaN</td>\n",
       "      <td>NaN</td>\n",
       "      <td>2.1492</td>\n",
       "      <td>NaN</td>\n",
       "      <td>NaN</td>\n",
       "      <td>NaN</td>\n",
       "      <td>NaN</td>\n",
       "      <td>1424158</td>\n",
       "      <td>NaN</td>\n",
       "      <td>NaN</td>\n",
       "    </tr>\n",
       "    <tr>\n",
       "      <th>1972-06-07</th>\n",
       "      <td>NaN</td>\n",
       "      <td>NaN</td>\n",
       "      <td>0.2373</td>\n",
       "      <td>NaN</td>\n",
       "      <td>NaN</td>\n",
       "      <td>NaN</td>\n",
       "      <td>NaN</td>\n",
       "      <td>2.1127</td>\n",
       "      <td>NaN</td>\n",
       "      <td>NaN</td>\n",
       "      <td>...</td>\n",
       "      <td>NaN</td>\n",
       "      <td>NaN</td>\n",
       "      <td>2.1248</td>\n",
       "      <td>NaN</td>\n",
       "      <td>NaN</td>\n",
       "      <td>NaN</td>\n",
       "      <td>NaN</td>\n",
       "      <td>675088</td>\n",
       "      <td>NaN</td>\n",
       "      <td>NaN</td>\n",
       "    </tr>\n",
       "    <tr>\n",
       "      <th>...</th>\n",
       "      <td>...</td>\n",
       "      <td>...</td>\n",
       "      <td>...</td>\n",
       "      <td>...</td>\n",
       "      <td>...</td>\n",
       "      <td>...</td>\n",
       "      <td>...</td>\n",
       "      <td>...</td>\n",
       "      <td>...</td>\n",
       "      <td>...</td>\n",
       "      <td>...</td>\n",
       "      <td>...</td>\n",
       "      <td>...</td>\n",
       "      <td>...</td>\n",
       "      <td>...</td>\n",
       "      <td>...</td>\n",
       "      <td>...</td>\n",
       "      <td>...</td>\n",
       "      <td>...</td>\n",
       "      <td>...</td>\n",
       "      <td>...</td>\n",
       "    </tr>\n",
       "    <tr>\n",
       "      <th>2024-01-31</th>\n",
       "      <td>184.4000</td>\n",
       "      <td>155.2000</td>\n",
       "      <td>11.7200</td>\n",
       "      <td>390.1400</td>\n",
       "      <td>187.2900</td>\n",
       "      <td>184.4000</td>\n",
       "      <td>155.2000</td>\n",
       "      <td>11.7200</td>\n",
       "      <td>390.1400</td>\n",
       "      <td>187.2900</td>\n",
       "      <td>...</td>\n",
       "      <td>187.0400</td>\n",
       "      <td>157.0000</td>\n",
       "      <td>11.7600</td>\n",
       "      <td>389.0000</td>\n",
       "      <td>187.0000</td>\n",
       "      <td>55467800.0000</td>\n",
       "      <td>50284400.0000</td>\n",
       "      <td>74558900</td>\n",
       "      <td>20180800.0000</td>\n",
       "      <td>103221400.0000</td>\n",
       "    </tr>\n",
       "    <tr>\n",
       "      <th>2024-02-01</th>\n",
       "      <td>186.8600</td>\n",
       "      <td>159.2800</td>\n",
       "      <td>12.1000</td>\n",
       "      <td>394.7800</td>\n",
       "      <td>188.8600</td>\n",
       "      <td>186.8600</td>\n",
       "      <td>159.2800</td>\n",
       "      <td>12.1000</td>\n",
       "      <td>394.7800</td>\n",
       "      <td>188.8600</td>\n",
       "      <td>...</td>\n",
       "      <td>183.9900</td>\n",
       "      <td>155.8700</td>\n",
       "      <td>11.8200</td>\n",
       "      <td>393.9400</td>\n",
       "      <td>188.5000</td>\n",
       "      <td>64885400.0000</td>\n",
       "      <td>76542400.0000</td>\n",
       "      <td>81065800</td>\n",
       "      <td>29727100.0000</td>\n",
       "      <td>91843300.0000</td>\n",
       "    </tr>\n",
       "    <tr>\n",
       "      <th>2024-02-02</th>\n",
       "      <td>185.8500</td>\n",
       "      <td>171.8100</td>\n",
       "      <td>12.1400</td>\n",
       "      <td>474.9900</td>\n",
       "      <td>187.9100</td>\n",
       "      <td>185.8500</td>\n",
       "      <td>171.8100</td>\n",
       "      <td>12.1400</td>\n",
       "      <td>474.9900</td>\n",
       "      <td>187.9100</td>\n",
       "      <td>...</td>\n",
       "      <td>179.8600</td>\n",
       "      <td>169.1900</td>\n",
       "      <td>12.0300</td>\n",
       "      <td>459.6000</td>\n",
       "      <td>185.0400</td>\n",
       "      <td>102518000.0000</td>\n",
       "      <td>117154900.0000</td>\n",
       "      <td>73087000</td>\n",
       "      <td>84615500.0000</td>\n",
       "      <td>110505100.0000</td>\n",
       "    </tr>\n",
       "    <tr>\n",
       "      <th>2024-02-05</th>\n",
       "      <td>187.6800</td>\n",
       "      <td>170.3100</td>\n",
       "      <td>11.5900</td>\n",
       "      <td>459.4100</td>\n",
       "      <td>181.0600</td>\n",
       "      <td>187.6800</td>\n",
       "      <td>170.3100</td>\n",
       "      <td>11.5900</td>\n",
       "      <td>459.4100</td>\n",
       "      <td>181.0600</td>\n",
       "      <td>...</td>\n",
       "      <td>188.1500</td>\n",
       "      <td>170.2000</td>\n",
       "      <td>12.0100</td>\n",
       "      <td>469.8800</td>\n",
       "      <td>184.2600</td>\n",
       "      <td>69668800.0000</td>\n",
       "      <td>55081300.0000</td>\n",
       "      <td>81026800</td>\n",
       "      <td>40832400.0000</td>\n",
       "      <td>134294400.0000</td>\n",
       "    </tr>\n",
       "    <tr>\n",
       "      <th>2024-02-06</th>\n",
       "      <td>189.3000</td>\n",
       "      <td>169.1500</td>\n",
       "      <td>12.0700</td>\n",
       "      <td>454.7200</td>\n",
       "      <td>185.1000</td>\n",
       "      <td>189.3000</td>\n",
       "      <td>169.1500</td>\n",
       "      <td>12.0700</td>\n",
       "      <td>454.7200</td>\n",
       "      <td>185.1000</td>\n",
       "      <td>...</td>\n",
       "      <td>186.8600</td>\n",
       "      <td>169.3900</td>\n",
       "      <td>11.6400</td>\n",
       "      <td>464.0000</td>\n",
       "      <td>177.2100</td>\n",
       "      <td>43225255.0000</td>\n",
       "      <td>39617363.0000</td>\n",
       "      <td>83842760</td>\n",
       "      <td>21584859.0000</td>\n",
       "      <td>122217420.0000</td>\n",
       "    </tr>\n",
       "  </tbody>\n",
       "</table>\n",
       "<p>13032 rows × 30 columns</p>\n",
       "</div>"
      ],
      "text/plain": [
       "           Adj Close                                       Close           \\\n",
       "                AAPL     AMZN       F     META     TSLA     AAPL     AMZN   \n",
       "Date                                                                        \n",
       "1972-06-01       NaN      NaN  0.2419      NaN      NaN      NaN      NaN   \n",
       "1972-06-02       NaN      NaN  0.2414      NaN      NaN      NaN      NaN   \n",
       "1972-06-05       NaN      NaN  0.2414      NaN      NaN      NaN      NaN   \n",
       "1972-06-06       NaN      NaN  0.2387      NaN      NaN      NaN      NaN   \n",
       "1972-06-07       NaN      NaN  0.2373      NaN      NaN      NaN      NaN   \n",
       "...              ...      ...     ...      ...      ...      ...      ...   \n",
       "2024-01-31  184.4000 155.2000 11.7200 390.1400 187.2900 184.4000 155.2000   \n",
       "2024-02-01  186.8600 159.2800 12.1000 394.7800 188.8600 186.8600 159.2800   \n",
       "2024-02-02  185.8500 171.8100 12.1400 474.9900 187.9100 185.8500 171.8100   \n",
       "2024-02-05  187.6800 170.3100 11.5900 459.4100 181.0600 187.6800 170.3100   \n",
       "2024-02-06  189.3000 169.1500 12.0700 454.7200 185.1000 189.3000 169.1500   \n",
       "\n",
       "                                      ...     Open                            \\\n",
       "                 F     META     TSLA  ...     AAPL     AMZN       F     META   \n",
       "Date                                  ...                                      \n",
       "1972-06-01  2.1532      NaN      NaN  ...      NaN      NaN  0.0000      NaN   \n",
       "1972-06-02  2.1492      NaN      NaN  ...      NaN      NaN  2.1532      NaN   \n",
       "1972-06-05  2.1492      NaN      NaN  ...      NaN      NaN  2.1492      NaN   \n",
       "1972-06-06  2.1248      NaN      NaN  ...      NaN      NaN  2.1492      NaN   \n",
       "1972-06-07  2.1127      NaN      NaN  ...      NaN      NaN  2.1248      NaN   \n",
       "...            ...      ...      ...  ...      ...      ...     ...      ...   \n",
       "2024-01-31 11.7200 390.1400 187.2900  ... 187.0400 157.0000 11.7600 389.0000   \n",
       "2024-02-01 12.1000 394.7800 188.8600  ... 183.9900 155.8700 11.8200 393.9400   \n",
       "2024-02-02 12.1400 474.9900 187.9100  ... 179.8600 169.1900 12.0300 459.6000   \n",
       "2024-02-05 11.5900 459.4100 181.0600  ... 188.1500 170.2000 12.0100 469.8800   \n",
       "2024-02-06 12.0700 454.7200 185.1000  ... 186.8600 169.3900 11.6400 464.0000   \n",
       "\n",
       "                            Volume                                         \\\n",
       "               TSLA           AAPL           AMZN         F          META   \n",
       "Date                                                                        \n",
       "1972-06-01      NaN            NaN            NaN   1091238           NaN   \n",
       "1972-06-02      NaN            NaN            NaN   1174468           NaN   \n",
       "1972-06-05      NaN            NaN            NaN   5209582           NaN   \n",
       "1972-06-06      NaN            NaN            NaN   1424158           NaN   \n",
       "1972-06-07      NaN            NaN            NaN    675088           NaN   \n",
       "...             ...            ...            ...       ...           ...   \n",
       "2024-01-31 187.0000  55467800.0000  50284400.0000  74558900 20180800.0000   \n",
       "2024-02-01 188.5000  64885400.0000  76542400.0000  81065800 29727100.0000   \n",
       "2024-02-02 185.0400 102518000.0000 117154900.0000  73087000 84615500.0000   \n",
       "2024-02-05 184.2600  69668800.0000  55081300.0000  81026800 40832400.0000   \n",
       "2024-02-06 177.2100  43225255.0000  39617363.0000  83842760 21584859.0000   \n",
       "\n",
       "                           \n",
       "                     TSLA  \n",
       "Date                       \n",
       "1972-06-01            NaN  \n",
       "1972-06-02            NaN  \n",
       "1972-06-05            NaN  \n",
       "1972-06-06            NaN  \n",
       "1972-06-07            NaN  \n",
       "...                   ...  \n",
       "2024-01-31 103221400.0000  \n",
       "2024-02-01  91843300.0000  \n",
       "2024-02-02 110505100.0000  \n",
       "2024-02-05 134294400.0000  \n",
       "2024-02-06 122217420.0000  \n",
       "\n",
       "[13032 rows x 30 columns]"
      ]
     },
     "execution_count": 4,
     "metadata": {},
     "output_type": "execute_result"
    }
   ],
   "source": [
    "tickers = 'TSLA F AAPL AMZN META'\n",
    "prices = yf.download(tickers=tickers)\n",
    "\n",
    "prices"
   ]
  },
  {
   "cell_type": "markdown",
   "id": "384f7a33-b1b5-4594-8cda-114bc322ee7f",
   "metadata": {},
   "source": [
    "### Calculate all available daily returns and save to data frame `returns`"
   ]
  },
  {
   "cell_type": "markdown",
   "id": "208b6881-db09-4ba6-a055-f5f9948c87d4",
   "metadata": {},
   "source": [
    "### Calculate all available daily returns and save to data frame `returns`"
   ]
  },
  {
   "cell_type": "code",
   "execution_count": 5,
   "id": "420582ff-de0f-47f9-ae6d-82aa215174b6",
   "metadata": {},
   "outputs": [
    {
     "data": {
      "text/html": [
       "<div>\n",
       "<style scoped>\n",
       "    .dataframe tbody tr th:only-of-type {\n",
       "        vertical-align: middle;\n",
       "    }\n",
       "\n",
       "    .dataframe tbody tr th {\n",
       "        vertical-align: top;\n",
       "    }\n",
       "\n",
       "    .dataframe thead th {\n",
       "        text-align: right;\n",
       "    }\n",
       "</style>\n",
       "<table border=\"1\" class=\"dataframe\">\n",
       "  <thead>\n",
       "    <tr style=\"text-align: right;\">\n",
       "      <th></th>\n",
       "      <th>AAPL</th>\n",
       "      <th>AMZN</th>\n",
       "      <th>F</th>\n",
       "      <th>META</th>\n",
       "      <th>TSLA</th>\n",
       "    </tr>\n",
       "    <tr>\n",
       "      <th>Date</th>\n",
       "      <th></th>\n",
       "      <th></th>\n",
       "      <th></th>\n",
       "      <th></th>\n",
       "      <th></th>\n",
       "    </tr>\n",
       "  </thead>\n",
       "  <tbody>\n",
       "    <tr>\n",
       "      <th>1972-06-01</th>\n",
       "      <td>NaN</td>\n",
       "      <td>NaN</td>\n",
       "      <td>NaN</td>\n",
       "      <td>NaN</td>\n",
       "      <td>NaN</td>\n",
       "    </tr>\n",
       "    <tr>\n",
       "      <th>1972-06-02</th>\n",
       "      <td>NaN</td>\n",
       "      <td>NaN</td>\n",
       "      <td>-0.0019</td>\n",
       "      <td>NaN</td>\n",
       "      <td>NaN</td>\n",
       "    </tr>\n",
       "    <tr>\n",
       "      <th>1972-06-05</th>\n",
       "      <td>NaN</td>\n",
       "      <td>NaN</td>\n",
       "      <td>0.0000</td>\n",
       "      <td>NaN</td>\n",
       "      <td>NaN</td>\n",
       "    </tr>\n",
       "    <tr>\n",
       "      <th>1972-06-06</th>\n",
       "      <td>NaN</td>\n",
       "      <td>NaN</td>\n",
       "      <td>-0.0113</td>\n",
       "      <td>NaN</td>\n",
       "      <td>NaN</td>\n",
       "    </tr>\n",
       "    <tr>\n",
       "      <th>1972-06-07</th>\n",
       "      <td>NaN</td>\n",
       "      <td>NaN</td>\n",
       "      <td>-0.0057</td>\n",
       "      <td>NaN</td>\n",
       "      <td>NaN</td>\n",
       "    </tr>\n",
       "    <tr>\n",
       "      <th>...</th>\n",
       "      <td>...</td>\n",
       "      <td>...</td>\n",
       "      <td>...</td>\n",
       "      <td>...</td>\n",
       "      <td>...</td>\n",
       "    </tr>\n",
       "    <tr>\n",
       "      <th>2024-01-30</th>\n",
       "      <td>-0.0192</td>\n",
       "      <td>-0.0140</td>\n",
       "      <td>0.0199</td>\n",
       "      <td>-0.0024</td>\n",
       "      <td>0.0035</td>\n",
       "    </tr>\n",
       "    <tr>\n",
       "      <th>2024-01-31</th>\n",
       "      <td>-0.0194</td>\n",
       "      <td>-0.0239</td>\n",
       "      <td>-0.0051</td>\n",
       "      <td>-0.0248</td>\n",
       "      <td>-0.0224</td>\n",
       "    </tr>\n",
       "    <tr>\n",
       "      <th>2024-02-01</th>\n",
       "      <td>0.0133</td>\n",
       "      <td>0.0263</td>\n",
       "      <td>0.0324</td>\n",
       "      <td>0.0119</td>\n",
       "      <td>0.0084</td>\n",
       "    </tr>\n",
       "    <tr>\n",
       "      <th>2024-02-02</th>\n",
       "      <td>-0.0054</td>\n",
       "      <td>0.0787</td>\n",
       "      <td>0.0033</td>\n",
       "      <td>0.2032</td>\n",
       "      <td>-0.0050</td>\n",
       "    </tr>\n",
       "    <tr>\n",
       "      <th>2024-02-05</th>\n",
       "      <td>0.0098</td>\n",
       "      <td>-0.0087</td>\n",
       "      <td>-0.0453</td>\n",
       "      <td>-0.0328</td>\n",
       "      <td>-0.0365</td>\n",
       "    </tr>\n",
       "  </tbody>\n",
       "</table>\n",
       "<p>13031 rows × 5 columns</p>\n",
       "</div>"
      ],
      "text/plain": [
       "              AAPL    AMZN       F    META    TSLA\n",
       "Date                                              \n",
       "1972-06-01     NaN     NaN     NaN     NaN     NaN\n",
       "1972-06-02     NaN     NaN -0.0019     NaN     NaN\n",
       "1972-06-05     NaN     NaN  0.0000     NaN     NaN\n",
       "1972-06-06     NaN     NaN -0.0113     NaN     NaN\n",
       "1972-06-07     NaN     NaN -0.0057     NaN     NaN\n",
       "...            ...     ...     ...     ...     ...\n",
       "2024-01-30 -0.0192 -0.0140  0.0199 -0.0024  0.0035\n",
       "2024-01-31 -0.0194 -0.0239 -0.0051 -0.0248 -0.0224\n",
       "2024-02-01  0.0133  0.0263  0.0324  0.0119  0.0084\n",
       "2024-02-02 -0.0054  0.0787  0.0033  0.2032 -0.0050\n",
       "2024-02-05  0.0098 -0.0087 -0.0453 -0.0328 -0.0365\n",
       "\n",
       "[13031 rows x 5 columns]"
      ]
     },
     "execution_count": 5,
     "metadata": {},
     "output_type": "execute_result"
    }
   ],
   "source": [
    "returns = (\n",
    "    prices['Adj Close'] # slice adj close\n",
    "    .iloc[:-1] # drop the last price because it might be intraday (i.e., not a close)\n",
    "    .pct_change() # calculate simple returns\n",
    ")\n",
    "\n",
    "returns"
   ]
  },
  {
   "cell_type": "markdown",
   "id": "5e1df42a-972b-466c-81b8-bacb28d85d60",
   "metadata": {},
   "source": [
    "### Slices returns for the 2020s and assign to `returns_2020s`"
   ]
  },
  {
   "cell_type": "code",
   "execution_count": 6,
   "id": "b0103f2d-bc4d-4df0-b6c3-7e28243ec65a",
   "metadata": {},
   "outputs": [
    {
     "data": {
      "text/html": [
       "<div>\n",
       "<style scoped>\n",
       "    .dataframe tbody tr th:only-of-type {\n",
       "        vertical-align: middle;\n",
       "    }\n",
       "\n",
       "    .dataframe tbody tr th {\n",
       "        vertical-align: top;\n",
       "    }\n",
       "\n",
       "    .dataframe thead th {\n",
       "        text-align: right;\n",
       "    }\n",
       "</style>\n",
       "<table border=\"1\" class=\"dataframe\">\n",
       "  <thead>\n",
       "    <tr style=\"text-align: right;\">\n",
       "      <th></th>\n",
       "      <th>AAPL</th>\n",
       "      <th>AMZN</th>\n",
       "      <th>F</th>\n",
       "      <th>META</th>\n",
       "      <th>TSLA</th>\n",
       "    </tr>\n",
       "    <tr>\n",
       "      <th>Date</th>\n",
       "      <th></th>\n",
       "      <th></th>\n",
       "      <th></th>\n",
       "      <th></th>\n",
       "      <th></th>\n",
       "    </tr>\n",
       "  </thead>\n",
       "  <tbody>\n",
       "    <tr>\n",
       "      <th>2020-01-02</th>\n",
       "      <td>0.0228</td>\n",
       "      <td>0.0272</td>\n",
       "      <td>0.0129</td>\n",
       "      <td>0.0221</td>\n",
       "      <td>0.0285</td>\n",
       "    </tr>\n",
       "    <tr>\n",
       "      <th>2020-01-03</th>\n",
       "      <td>-0.0097</td>\n",
       "      <td>-0.0121</td>\n",
       "      <td>-0.0223</td>\n",
       "      <td>-0.0053</td>\n",
       "      <td>0.0296</td>\n",
       "    </tr>\n",
       "    <tr>\n",
       "      <th>2020-01-06</th>\n",
       "      <td>0.0080</td>\n",
       "      <td>0.0149</td>\n",
       "      <td>-0.0054</td>\n",
       "      <td>0.0188</td>\n",
       "      <td>0.0193</td>\n",
       "    </tr>\n",
       "    <tr>\n",
       "      <th>2020-01-07</th>\n",
       "      <td>-0.0047</td>\n",
       "      <td>0.0021</td>\n",
       "      <td>0.0098</td>\n",
       "      <td>0.0022</td>\n",
       "      <td>0.0388</td>\n",
       "    </tr>\n",
       "    <tr>\n",
       "      <th>2020-01-08</th>\n",
       "      <td>0.0161</td>\n",
       "      <td>-0.0078</td>\n",
       "      <td>0.0000</td>\n",
       "      <td>0.0101</td>\n",
       "      <td>0.0492</td>\n",
       "    </tr>\n",
       "    <tr>\n",
       "      <th>...</th>\n",
       "      <td>...</td>\n",
       "      <td>...</td>\n",
       "      <td>...</td>\n",
       "      <td>...</td>\n",
       "      <td>...</td>\n",
       "    </tr>\n",
       "    <tr>\n",
       "      <th>2024-01-30</th>\n",
       "      <td>-0.0192</td>\n",
       "      <td>-0.0140</td>\n",
       "      <td>0.0199</td>\n",
       "      <td>-0.0024</td>\n",
       "      <td>0.0035</td>\n",
       "    </tr>\n",
       "    <tr>\n",
       "      <th>2024-01-31</th>\n",
       "      <td>-0.0194</td>\n",
       "      <td>-0.0239</td>\n",
       "      <td>-0.0051</td>\n",
       "      <td>-0.0248</td>\n",
       "      <td>-0.0224</td>\n",
       "    </tr>\n",
       "    <tr>\n",
       "      <th>2024-02-01</th>\n",
       "      <td>0.0133</td>\n",
       "      <td>0.0263</td>\n",
       "      <td>0.0324</td>\n",
       "      <td>0.0119</td>\n",
       "      <td>0.0084</td>\n",
       "    </tr>\n",
       "    <tr>\n",
       "      <th>2024-02-02</th>\n",
       "      <td>-0.0054</td>\n",
       "      <td>0.0787</td>\n",
       "      <td>0.0033</td>\n",
       "      <td>0.2032</td>\n",
       "      <td>-0.0050</td>\n",
       "    </tr>\n",
       "    <tr>\n",
       "      <th>2024-02-05</th>\n",
       "      <td>0.0098</td>\n",
       "      <td>-0.0087</td>\n",
       "      <td>-0.0453</td>\n",
       "      <td>-0.0328</td>\n",
       "      <td>-0.0365</td>\n",
       "    </tr>\n",
       "  </tbody>\n",
       "</table>\n",
       "<p>1030 rows × 5 columns</p>\n",
       "</div>"
      ],
      "text/plain": [
       "              AAPL    AMZN       F    META    TSLA\n",
       "Date                                              \n",
       "2020-01-02  0.0228  0.0272  0.0129  0.0221  0.0285\n",
       "2020-01-03 -0.0097 -0.0121 -0.0223 -0.0053  0.0296\n",
       "2020-01-06  0.0080  0.0149 -0.0054  0.0188  0.0193\n",
       "2020-01-07 -0.0047  0.0021  0.0098  0.0022  0.0388\n",
       "2020-01-08  0.0161 -0.0078  0.0000  0.0101  0.0492\n",
       "...            ...     ...     ...     ...     ...\n",
       "2024-01-30 -0.0192 -0.0140  0.0199 -0.0024  0.0035\n",
       "2024-01-31 -0.0194 -0.0239 -0.0051 -0.0248 -0.0224\n",
       "2024-02-01  0.0133  0.0263  0.0324  0.0119  0.0084\n",
       "2024-02-02 -0.0054  0.0787  0.0033  0.2032 -0.0050\n",
       "2024-02-05  0.0098 -0.0087 -0.0453 -0.0328 -0.0365\n",
       "\n",
       "[1030 rows x 5 columns]"
      ]
     },
     "execution_count": 6,
     "metadata": {},
     "output_type": "execute_result"
    }
   ],
   "source": [
    "returns_2020s = returns.loc['2020':] # always use an unambiguos date format, like YYYY-MM-DD\n",
    "\n",
    "returns_2020s"
   ]
  },
  {
   "cell_type": "markdown",
   "id": "b11d2aac-1d59-4b74-830a-3d0dfb4e3d72",
   "metadata": {},
   "source": [
    "### Download all available data for the Fama and French daily benchmark factors to dictionary `ff_all`"
   ]
  },
  {
   "cell_type": "markdown",
   "id": "30936592-8d2c-4f8f-80df-894d33d1845c",
   "metadata": {},
   "source": [
    "I often use the following code snippet to find the exact name for the the daily benchmark factors file."
   ]
  },
  {
   "cell_type": "code",
   "execution_count": 7,
   "id": "e14db8b4-8dfd-4fa5-be32-eeb7e8fe7a94",
   "metadata": {},
   "outputs": [
    {
     "data": {
      "text/plain": [
       "['F-F_Research_Data_Factors',\n",
       " 'F-F_Research_Data_Factors_weekly',\n",
       " 'F-F_Research_Data_Factors_daily',\n",
       " 'F-F_Research_Data_5_Factors_2x3',\n",
       " 'F-F_Research_Data_5_Factors_2x3_daily']"
      ]
     },
     "execution_count": 7,
     "metadata": {},
     "output_type": "execute_result"
    }
   ],
   "source": [
    "pdr.famafrench.get_available_datasets()[:5]"
   ]
  },
  {
   "cell_type": "code",
   "execution_count": 8,
   "id": "8bfb4b83-9caa-450e-95ca-b7c501cd8df5",
   "metadata": {},
   "outputs": [
    {
     "name": "stderr",
     "output_type": "stream",
     "text": [
      "C:\\Users\\r.herron\\AppData\\Local\\Temp\\ipykernel_21288\\2526882917.py:1: FutureWarning: The argument 'date_parser' is deprecated and will be removed in a future version. Please use 'date_format' instead, or read your data in as 'object' dtype and then call 'to_datetime'.\n",
      "  ff_all = pdr.DataReader(\n"
     ]
    }
   ],
   "source": [
    "ff_all = pdr.DataReader(\n",
    "    name='F-F_Research_Data_Factors_daily',\n",
    "    data_source='famafrench',\n",
    "    start='1900'\n",
    ")"
   ]
  },
  {
   "cell_type": "code",
   "execution_count": 9,
   "id": "de388835-753a-4a0c-97b2-e19b35f72a71",
   "metadata": {},
   "outputs": [
    {
     "data": {
      "text/plain": [
       "dict"
      ]
     },
     "execution_count": 9,
     "metadata": {},
     "output_type": "execute_result"
    }
   ],
   "source": [
    "type(ff_all)"
   ]
  },
  {
   "cell_type": "markdown",
   "id": "98168117-7b66-4e07-9965-c5224a02932d",
   "metadata": {},
   "source": [
    "The `DESCR` key in the dictionary tells us about the data frames that `pandas-datareader` returns."
   ]
  },
  {
   "cell_type": "code",
   "execution_count": 10,
   "id": "457c7e7c-3c7f-4383-95d3-0ee925a89063",
   "metadata": {},
   "outputs": [
    {
     "name": "stdout",
     "output_type": "stream",
     "text": [
      "F-F Research Data Factors daily\n",
      "-------------------------------\n",
      "\n",
      "This file was created by CMPT_ME_BEME_RETS_DAILY using the 202312 CRSP database. The Tbill return is the simple daily rate that, over the number of trading days in the month, compounds to 1-month TBill rate from Ibbotson and Associates Inc. Copyright 2023 Kenneth R. French\n",
      "\n",
      "  0 : (25649 rows x 4 cols)\n"
     ]
    }
   ],
   "source": [
    "print(ff_all['DESCR'])"
   ]
  },
  {
   "cell_type": "markdown",
   "id": "5be5eb3b-9094-4df0-90a2-d0748d7484db",
   "metadata": {},
   "source": [
    "### Slice the daily benchmark factors, convert them to decimal returns, and assign to `ff`"
   ]
  },
  {
   "cell_type": "code",
   "execution_count": 11,
   "id": "25b11312-ab4a-409c-b281-451b8868b49d",
   "metadata": {},
   "outputs": [
    {
     "data": {
      "text/html": [
       "<div>\n",
       "<style scoped>\n",
       "    .dataframe tbody tr th:only-of-type {\n",
       "        vertical-align: middle;\n",
       "    }\n",
       "\n",
       "    .dataframe tbody tr th {\n",
       "        vertical-align: top;\n",
       "    }\n",
       "\n",
       "    .dataframe thead th {\n",
       "        text-align: right;\n",
       "    }\n",
       "</style>\n",
       "<table border=\"1\" class=\"dataframe\">\n",
       "  <thead>\n",
       "    <tr style=\"text-align: right;\">\n",
       "      <th></th>\n",
       "      <th>Mkt-RF</th>\n",
       "      <th>SMB</th>\n",
       "      <th>HML</th>\n",
       "      <th>RF</th>\n",
       "    </tr>\n",
       "    <tr>\n",
       "      <th>Date</th>\n",
       "      <th></th>\n",
       "      <th></th>\n",
       "      <th></th>\n",
       "      <th></th>\n",
       "    </tr>\n",
       "  </thead>\n",
       "  <tbody>\n",
       "    <tr>\n",
       "      <th>1926-07-01</th>\n",
       "      <td>0.0010</td>\n",
       "      <td>-0.0025</td>\n",
       "      <td>-0.0027</td>\n",
       "      <td>0.0001</td>\n",
       "    </tr>\n",
       "    <tr>\n",
       "      <th>1926-07-02</th>\n",
       "      <td>0.0045</td>\n",
       "      <td>-0.0033</td>\n",
       "      <td>-0.0006</td>\n",
       "      <td>0.0001</td>\n",
       "    </tr>\n",
       "    <tr>\n",
       "      <th>1926-07-06</th>\n",
       "      <td>0.0017</td>\n",
       "      <td>0.0030</td>\n",
       "      <td>-0.0039</td>\n",
       "      <td>0.0001</td>\n",
       "    </tr>\n",
       "    <tr>\n",
       "      <th>1926-07-07</th>\n",
       "      <td>0.0009</td>\n",
       "      <td>-0.0058</td>\n",
       "      <td>0.0002</td>\n",
       "      <td>0.0001</td>\n",
       "    </tr>\n",
       "    <tr>\n",
       "      <th>1926-07-08</th>\n",
       "      <td>0.0021</td>\n",
       "      <td>-0.0038</td>\n",
       "      <td>0.0019</td>\n",
       "      <td>0.0001</td>\n",
       "    </tr>\n",
       "    <tr>\n",
       "      <th>...</th>\n",
       "      <td>...</td>\n",
       "      <td>...</td>\n",
       "      <td>...</td>\n",
       "      <td>...</td>\n",
       "    </tr>\n",
       "    <tr>\n",
       "      <th>2023-12-22</th>\n",
       "      <td>0.0021</td>\n",
       "      <td>0.0064</td>\n",
       "      <td>0.0009</td>\n",
       "      <td>0.0002</td>\n",
       "    </tr>\n",
       "    <tr>\n",
       "      <th>2023-12-26</th>\n",
       "      <td>0.0048</td>\n",
       "      <td>0.0069</td>\n",
       "      <td>0.0046</td>\n",
       "      <td>0.0002</td>\n",
       "    </tr>\n",
       "    <tr>\n",
       "      <th>2023-12-27</th>\n",
       "      <td>0.0016</td>\n",
       "      <td>0.0014</td>\n",
       "      <td>0.0012</td>\n",
       "      <td>0.0002</td>\n",
       "    </tr>\n",
       "    <tr>\n",
       "      <th>2023-12-28</th>\n",
       "      <td>-0.0001</td>\n",
       "      <td>-0.0036</td>\n",
       "      <td>0.0003</td>\n",
       "      <td>0.0002</td>\n",
       "    </tr>\n",
       "    <tr>\n",
       "      <th>2023-12-29</th>\n",
       "      <td>-0.0043</td>\n",
       "      <td>-0.0112</td>\n",
       "      <td>-0.0037</td>\n",
       "      <td>0.0002</td>\n",
       "    </tr>\n",
       "  </tbody>\n",
       "</table>\n",
       "<p>25649 rows × 4 columns</p>\n",
       "</div>"
      ],
      "text/plain": [
       "            Mkt-RF     SMB     HML     RF\n",
       "Date                                     \n",
       "1926-07-01  0.0010 -0.0025 -0.0027 0.0001\n",
       "1926-07-02  0.0045 -0.0033 -0.0006 0.0001\n",
       "1926-07-06  0.0017  0.0030 -0.0039 0.0001\n",
       "1926-07-07  0.0009 -0.0058  0.0002 0.0001\n",
       "1926-07-08  0.0021 -0.0038  0.0019 0.0001\n",
       "...            ...     ...     ...    ...\n",
       "2023-12-22  0.0021  0.0064  0.0009 0.0002\n",
       "2023-12-26  0.0048  0.0069  0.0046 0.0002\n",
       "2023-12-27  0.0016  0.0014  0.0012 0.0002\n",
       "2023-12-28 -0.0001 -0.0036  0.0003 0.0002\n",
       "2023-12-29 -0.0043 -0.0112 -0.0037 0.0002\n",
       "\n",
       "[25649 rows x 4 columns]"
      ]
     },
     "execution_count": 11,
     "metadata": {},
     "output_type": "execute_result"
    }
   ],
   "source": [
    "ff = ff_all[0].div(100)\n",
    "\n",
    "ff"
   ]
  },
  {
   "cell_type": "markdown",
   "id": "be1d4818-6f3c-4a8a-b880-63b09bd2c0a3",
   "metadata": {},
   "source": [
    "### Use the `.cumprod()` method to plot cumulative returns for these stocks in the 2020s"
   ]
  },
  {
   "cell_type": "markdown",
   "id": "b5a5bc64-beeb-4fa3-801d-12104be9d903",
   "metadata": {},
   "source": [
    "We use the `.prod()` method to calculate *total* returns, because $r_{total} = r_{0,T} = \\left[ \\prod_{t=0}^T (1 + r_t) \\right] -1$."
   ]
  },
  {
   "cell_type": "code",
   "execution_count": 12,
   "id": "4bec2a01-5129-49de-b153-5f7673d10d6f",
   "metadata": {},
   "outputs": [
    {
     "data": {
      "text/plain": [
       "AAPL   1.6241\n",
       "AMZN   0.8433\n",
       "F      0.4535\n",
       "META   1.2383\n",
       "TSLA   5.4922\n",
       "dtype: float64"
      ]
     },
     "execution_count": 12,
     "metadata": {},
     "output_type": "execute_result"
    }
   ],
   "source": [
    "(\n",
    "    returns_2020s # returns during the 2020s\n",
    "    .add(1) # add 1 before we compound\n",
    "    .prod() # compound all returns\n",
    "    .sub(1) # subtract 1 to recover total returns\n",
    ")"
   ]
  },
  {
   "cell_type": "markdown",
   "id": "250afc0e-8314-43e0-a444-b54943b4f26e",
   "metadata": {},
   "source": [
    "### Use the `.cumsum()` method with log returns to plot cumulative returns for these stocks in the 2020s"
   ]
  },
  {
   "cell_type": "markdown",
   "id": "235e2931-5495-44fa-b2b4-78a3547db4a0",
   "metadata": {},
   "source": [
    "### Use price data only to plot cumulative returns for these stocks in the 2020s"
   ]
  },
  {
   "cell_type": "markdown",
   "id": "5d506ce4-e6b9-44fa-9619-63f81d4ed6fe",
   "metadata": {},
   "source": [
    "### Calculate the Sharpe Ratio for TSLA"
   ]
  },
  {
   "cell_type": "markdown",
   "id": "7efffc0d-4dcc-4b57-a019-6f9a716ee139",
   "metadata": {},
   "source": [
    "Calculate the Sharpe Ratio with all available returns and 2020s returns.\n",
    "Recall the Sharpe Ratio is $\\frac{\\overline{R_i - R_f}}{\\sigma_i}$, where $\\sigma_i$ is the volatility of *excess* returns.\n",
    "\n",
    "***I suggest you write a function named `calc_sharpe()` to use for the rest of this notebook.***"
   ]
  },
  {
   "cell_type": "markdown",
   "id": "5e484a60-7d3e-46cf-8676-856542f51574",
   "metadata": {},
   "source": [
    "### Calculate the market beta for TSLA"
   ]
  },
  {
   "cell_type": "markdown",
   "id": "f0f061b9-8329-4dae-8f1a-d967ef986647",
   "metadata": {},
   "source": [
    "Calculate the market beta with all available returns and 2020s returns.\n",
    "Recall we estimate market beta with the ordinary least squares (OLS) regression $R_i-R_f = \\alpha + \\beta (R_m-R_f) + \\epsilon$.\n",
    "We can estimate market beta with the covariance formula above for a univariate regression if we do not need goodness of fit statistics.\n",
    "\n",
    "***I suggest you write a function named `calc_beta()` to use for the rest of this notebook.***"
   ]
  },
  {
   "cell_type": "markdown",
   "id": "1908bee0-d511-4a2f-b431-359b7687e5c7",
   "metadata": {},
   "source": [
    "### Guess the Sharpe Ratios for these stocks in the 2020s"
   ]
  },
  {
   "cell_type": "markdown",
   "id": "271e8acd-eff0-4eb8-a6f6-8586cfe19ef9",
   "metadata": {},
   "source": [
    "### Guess the market betas for these stocks in the 2020s"
   ]
  },
  {
   "cell_type": "markdown",
   "id": "1110f708-6238-4b38-bb67-8c3d3bbb783c",
   "metadata": {},
   "source": [
    "### Calculate the Sharpe Ratios for these stocks in the 2020s"
   ]
  },
  {
   "cell_type": "markdown",
   "id": "67bfe42d-a579-4e47-a299-e63fca872d75",
   "metadata": {},
   "source": [
    "How good were your guesses?"
   ]
  },
  {
   "cell_type": "markdown",
   "id": "10c30782-71ae-47e4-98b6-debbea35f1c4",
   "metadata": {
    "tags": []
   },
   "source": [
    "### Calculate the market betas for these stocks in the 2020s"
   ]
  },
  {
   "cell_type": "markdown",
   "id": "8061ecbc-915d-4518-8794-43eea2ad60e7",
   "metadata": {},
   "source": [
    "How good were your guesses?"
   ]
  },
  {
   "cell_type": "markdown",
   "id": "4830c041-db48-4b77-ae22-86059c7874d6",
   "metadata": {
    "tags": []
   },
   "source": [
    "### Calculate the Sharpe Ratio for an *equally weighted* portfolio of these stocks in the 2020s"
   ]
  },
  {
   "cell_type": "markdown",
   "id": "a3afcdd5-cb53-42a7-b0e7-230644c6a04c",
   "metadata": {},
   "source": [
    "What do you notice?"
   ]
  },
  {
   "cell_type": "markdown",
   "id": "6543a68d-aab0-4f72-8688-49295751d643",
   "metadata": {
    "tags": []
   },
   "source": [
    "### Calculate the market beta for an *equally weighted* portfolio of these stocks in the 2020s"
   ]
  },
  {
   "cell_type": "markdown",
   "id": "d480e40c-09c6-4696-ba1a-a746121f9547",
   "metadata": {},
   "source": [
    "What do you notice?"
   ]
  },
  {
   "cell_type": "markdown",
   "id": "0a73a082-3bdf-4149-86c6-42a5b7fc374a",
   "metadata": {},
   "source": [
    "### Calculate the market betas for these stocks every calendar year for every possible year"
   ]
  },
  {
   "cell_type": "markdown",
   "id": "a76ff3ed-104f-46d1-9375-6118c2cc32f9",
   "metadata": {},
   "source": [
    "Save these market betas to data frame `betas`.\n",
    "Our current Python knowledge limits us to a for-loop, but we will learn easier and faster approaches soon!"
   ]
  },
  {
   "cell_type": "markdown",
   "id": "b90c5b04-9f97-488d-be12-a07511e72850",
   "metadata": {},
   "source": [
    "### Plot the time series of market betas"
   ]
  }
 ],
 "metadata": {
  "author": "Richard Herron",
  "kernelspec": {
   "display_name": "Python 3 (ipykernel)",
   "language": "python",
   "name": "python3"
  },
  "language_info": {
   "codemirror_mode": {
    "name": "ipython",
    "version": 3
   },
   "file_extension": ".py",
   "mimetype": "text/x-python",
   "name": "python",
   "nbconvert_exporter": "python",
   "pygments_lexer": "ipython3",
   "version": "3.12.1"
  },
  "title": "McKinney Chapter 5 - Practice"
 },
 "nbformat": 4,
 "nbformat_minor": 5
}
