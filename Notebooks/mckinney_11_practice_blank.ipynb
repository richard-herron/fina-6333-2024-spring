{
 "cells": [
  {
   "cell_type": "markdown",
   "id": "4660c66c-e02d-4f08-a478-475f8bafb27c",
   "metadata": {},
   "source": [
    "# McKinney Chapter 11 - Practice Blank"
   ]
  },
  {
   "cell_type": "markdown",
   "id": "04af5727-ac44-4e30-ac17-492039a186f6",
   "metadata": {},
   "source": [
    "## Announcements"
   ]
  },
  {
   "cell_type": "markdown",
   "id": "b5934b57-546f-4a2d-b89b-82ad3a3faad6",
   "metadata": {},
   "source": [
    "##  Practice"
   ]
  },
  {
   "cell_type": "markdown",
   "id": "05a9e6d4-6513-4367-9ac4-d1da88f51e73",
   "metadata": {},
   "source": [
    "### Calculate cumulative returns with all available data"
   ]
  },
  {
   "cell_type": "markdown",
   "id": "4bc9a1f0-abd6-43ff-970a-9301e2fdb4c2",
   "metadata": {},
   "source": [
    "### Calculate total returns for each calendar year"
   ]
  },
  {
   "cell_type": "markdown",
   "id": "ce8734ff-3d50-4d5f-9ca6-e7480783b185",
   "metadata": {},
   "source": [
    "### Calculate total returns over rolling 252-trading-day windows"
   ]
  },
  {
   "cell_type": "markdown",
   "id": "1100213a-a32f-4a0e-98c0-8605eaad2b05",
   "metadata": {},
   "source": [
    "### Calculate total returns over rolling 12-months windows after calculating monthly returns"
   ]
  },
  {
   "cell_type": "markdown",
   "id": "bd50d53f-465d-4525-a808-e5652601d3e1",
   "metadata": {},
   "source": [
    "### Calculate Sharpe Ratios for each calendar year"
   ]
  },
  {
   "cell_type": "markdown",
   "id": "e6caf0af-73f7-4a95-9e86-1a56956590ef",
   "metadata": {
    "tags": []
   },
   "source": [
    "### Calculate rolling betas\n",
    "\n",
    "Calculate rolling capital asset pricing model (CAPM) betas for the MATANA stocks.\n",
    "\n",
    "The CAPM says the risk premium on a stock depends on the risk-free rate, beta, and the risk premium on the market: $E(r_i) = r_f + \\beta_i \\times (E(r_M) - r_f)$.\n",
    "We can calculate CAPM betas as: $\\beta_i = \\frac{Cov(r_i - r_f, r_M - r_f)}{Var(r_M - r_f)}$."
   ]
  },
  {
   "cell_type": "markdown",
   "id": "8bbc4ad5-d3db-407b-badd-38a9a2432089",
   "metadata": {
    "tags": []
   },
   "source": [
    "### Calculate rolling Sharpe Ratios"
   ]
  },
  {
   "cell_type": "markdown",
   "id": "6a4bbf9f-16ec-499b-bd74-0eebb2999518",
   "metadata": {},
   "source": [
    "Calculate rolling Sharpe Ratios for the MATANA stocks.\n",
    "\n",
    "The Sharpe Ratio is often used to evaluate fund managers.\n",
    "The Sharpe Ratio is $S_i = \\frac{\\overline{r_i - r_f}}{\\sigma_i}$, where $\\overline{r_i-r_f}$ is mean fund return relative to the risk-free rate over some period and $\\sigma_i$ is the standard deviation of $r_i-r_f$ over the same period.\n",
    "While the Sharpe Ratio is typically used for funds, we can apply it to a single stock to test our knowledge of the `.rolling()` method.\n",
    "Calculate and plot the one-year rolling Sharpe Ratio for the MATANA stocks using all available daily data."
   ]
  }
 ],
 "metadata": {
  "author": "Richard Herron",
  "kernelspec": {
   "display_name": "Python 3 (ipykernel)",
   "language": "python",
   "name": "python3"
  },
  "language_info": {
   "codemirror_mode": {
    "name": "ipython",
    "version": 3
   },
   "file_extension": ".py",
   "mimetype": "text/x-python",
   "name": "python",
   "nbconvert_exporter": "python",
   "pygments_lexer": "ipython3",
   "version": "3.12.1"
  },
  "title": "McKinney Chapter 11 - Practice"
 },
 "nbformat": 4,
 "nbformat_minor": 5
}
