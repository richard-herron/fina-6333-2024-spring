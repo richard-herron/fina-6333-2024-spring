{
 "cells": [
  {
   "cell_type": "markdown",
   "id": "4660c66c-e02d-4f08-a478-475f8bafb27c",
   "metadata": {},
   "source": [
    "# McKinney Chapter 11 - Practice (Blank)"
   ]
  },
  {
   "cell_type": "markdown",
   "id": "04af5727-ac44-4e30-ac17-492039a186f6",
   "metadata": {},
   "source": [
    "## Announcements"
   ]
  },
  {
   "cell_type": "markdown",
   "id": "b5934b57-546f-4a2d-b89b-82ad3a3faad6",
   "metadata": {},
   "source": [
    "##  Practice"
   ]
  },
  {
   "cell_type": "markdown",
   "id": "09bb8407-f75f-4bc6-b4b5-60e93a0c060c",
   "metadata": {},
   "source": [
    "### Which are larger, overnight or intraday returns?"
   ]
  },
  {
   "cell_type": "markdown",
   "id": "b0b396a3-3b3b-4090-9475-492282db7c7b",
   "metadata": {},
   "source": [
    "Yahoo! Finance provides easy acces to high-quality open, high, low, close (OHLC) and adjusted close price data.\n",
    "However, Yahoo! Finance does not provide overnight or instraday returns directly.\n",
    "Therefore, we need to use math to decompose daily returns into overnight and intraday returns.\n",
    "\n",
    "Daily returns are defined as (adjusted) closing price to (adjusted) closing price returns.\n",
    "Therefore, daily returns consist of overnight returns compounded with the intraday returns from the next day $(1 + R_{daily}) = (1 + R_{overnight}) \\times (1 + R_{intraday})$ which we can rearrange to calculate overnight returns as $\\frac{1 + R_{daily}}{1 + R_{intraday}} - 1 = R_{overnight}$.\n",
    "\n",
    "We can calculate daily and intraday returns from Yahoo! Finance data as $R_{daily} = \\frac{Adj\\ Close_{t} - Adj\\ Close_{t-1}}{Adj\\ Close_{t-1}}$ and $R_{intraday} = \\frac{Close - Open}{Open}$.\n",
    "\n",
    "Compare the following for the SPY ETF:\n",
    "\n",
    "1. Cumulative returns with all available data\n",
    "1. Total returns for each calendar year\n",
    "1. Total returns over rolling 252-trading-day windows\n",
    "1. Total returns over rolling 12-months windows after calculating monthly returns\n",
    "1. Sharpe Ratios for each calendar year"
   ]
  },
  {
   "cell_type": "markdown",
   "id": "05a9e6d4-6513-4367-9ac4-d1da88f51e73",
   "metadata": {},
   "source": [
    "#### Cumulative returns with all available data"
   ]
  },
  {
   "cell_type": "markdown",
   "id": "4bc9a1f0-abd6-43ff-970a-9301e2fdb4c2",
   "metadata": {},
   "source": [
    "#### Total returns for each calendar year"
   ]
  },
  {
   "cell_type": "markdown",
   "id": "ce8734ff-3d50-4d5f-9ca6-e7480783b185",
   "metadata": {},
   "source": [
    "#### Total returns over rolling 252-trading-day windows"
   ]
  },
  {
   "cell_type": "markdown",
   "id": "1100213a-a32f-4a0e-98c0-8605eaad2b05",
   "metadata": {},
   "source": [
    "#### Total returns over rolling 12-months windows after calculating monthly returns"
   ]
  },
  {
   "cell_type": "markdown",
   "id": "bd50d53f-465d-4525-a808-e5652601d3e1",
   "metadata": {},
   "source": [
    "#### Sharpe Ratios for each calendar year"
   ]
  },
  {
   "cell_type": "markdown",
   "id": "e6caf0af-73f7-4a95-9e86-1a56956590ef",
   "metadata": {
    "tags": []
   },
   "source": [
    "### Calculate rolling betas\n",
    "\n",
    "Calculate rolling capital asset pricing model (CAPM) betas for the MATANA stocks.\n",
    "\n",
    "The CAPM says the risk premium on a stock depends on the risk-free rate, beta, and the risk premium on the market: $E(R_{stock}) = R_f + \\beta_{stock} \\times (E(R_{market}) - R_f)$.\n",
    "We can calculate CAPM betas as: $\\beta_{stock} = \\frac{Cov(R_{stock} - R_f, R_{market} - R_f)}{Var(R_{market} - R_f)}$."
   ]
  },
  {
   "cell_type": "markdown",
   "id": "8bbc4ad5-d3db-407b-badd-38a9a2432089",
   "metadata": {
    "tags": []
   },
   "source": [
    "### Calculate rolling Sharpe Ratios"
   ]
  },
  {
   "cell_type": "markdown",
   "id": "6a4bbf9f-16ec-499b-bd74-0eebb2999518",
   "metadata": {},
   "source": [
    "Calculate rolling Sharpe Ratios for the MATANA stocks.\n",
    "\n",
    "The Sharpe Ratio is often used to evaluate fund managers.\n",
    "The Sharpe Ratio is $SR_i = \\frac{\\overline{R_i - R_f}}{\\sigma}$, where $\\overline{R_i-R_f}$ is mean fund return relative to the risk-free rate over some period and $\\sigma$ is the standard deviation of $R_i-R_f$ over the same period.\n",
    "While the Sharpe Ratio is typically used for funds, we can apply it to a single stock to test our knowledge of the `.rolling()` method.\n",
    "Calculate and plot the one-year rolling Sharpe Ratio for the MATANA stocks using all available daily data."
   ]
  },
  {
   "cell_type": "markdown",
   "id": "7394b944-1b6d-4ce2-b1e0-5dbb163bd4a4",
   "metadata": {},
   "source": [
    "### Does more frequent rebalancing increase or decrease returns?"
   ]
  },
  {
   "cell_type": "markdown",
   "id": "bccd6197-3f3d-4992-9ef8-e45b4570e9d7",
   "metadata": {},
   "source": [
    "Compare decade-total returns for the following rebalancing frequencies:\n",
    "\n",
    "1. Daily rebalancing\n",
    "1. Monthly rebalancing\n",
    "1. Annual rebalancing\n",
    "1. Decade rebalancing\n",
    "\n",
    "Use equally-weighted portfolios of industry-level daily returns from French's website: `'17_Industry_Portfolios_daily'`."
   ]
  },
  {
   "cell_type": "code",
   "execution_count": null,
   "id": "bbeff9cc-4d3e-409e-94e8-e48cd45a5c89",
   "metadata": {},
   "outputs": [],
   "source": []
  }
 ],
 "metadata": {
  "author": "Richard Herron",
  "kernelspec": {
   "display_name": "Python 3 (ipykernel)",
   "language": "python",
   "name": "python3"
  },
  "language_info": {
   "codemirror_mode": {
    "name": "ipython",
    "version": 3
   },
   "file_extension": ".py",
   "mimetype": "text/x-python",
   "name": "python",
   "nbconvert_exporter": "python",
   "pygments_lexer": "ipython3",
   "version": "3.9.13"
  },
  "title": "McKinney Chapter 11 - Practice"
 },
 "nbformat": 4,
 "nbformat_minor": 5
}
