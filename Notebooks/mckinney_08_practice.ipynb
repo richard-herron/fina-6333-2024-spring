{
 "cells": [
  {
   "cell_type": "markdown",
   "id": "e22b96cf-fcc9-48eb-9193-5c4f7511d5ec",
   "metadata": {},
   "source": [
    "# McKinney Chapter 8 - Practice (Blank)"
   ]
  },
  {
   "cell_type": "markdown",
   "id": "d1d4d067-c386-43b6-a1c3-e9bfdf8aac47",
   "metadata": {},
   "source": [
    "## Announcements"
   ]
  },
  {
   "cell_type": "markdown",
   "id": "3aa04ff4-95f4-4f8d-a34a-48dc625048ea",
   "metadata": {},
   "source": [
    "## Practice"
   ]
  },
  {
   "cell_type": "markdown",
   "id": "e93fc119-300c-485b-8873-20e45cfe1076",
   "metadata": {},
   "source": [
    "### Download data from Yahoo! Finance for BAC, C, GS, JPM, MS, and PNC and assign to data frame `stocks`."
   ]
  },
  {
   "cell_type": "markdown",
   "id": "a1d8bbea-6f74-412b-99a0-f0c453b5e377",
   "metadata": {},
   "source": [
    "Use `stocks.columns.names` to assign the names `Variable` and `Ticker` to the column multi index."
   ]
  },
  {
   "cell_type": "markdown",
   "id": "b25d9cee-e491-4a19-97a9-8f77dddd8abf",
   "metadata": {},
   "source": [
    "### Reshape `stocks` from wide to long with dates and tickers as row indexes and assign to data frame `stocks_long`."
   ]
  },
  {
   "cell_type": "markdown",
   "id": "4d71d86f-2ded-4410-a67e-eb27d9691f5b",
   "metadata": {},
   "source": [
    "### Add daily returns for each stock to data frames `stocks` and `stocks_long`."
   ]
  },
  {
   "cell_type": "markdown",
   "id": "22bc3928-d1b5-4f44-955f-4c2f7c551417",
   "metadata": {},
   "source": [
    "Name the returns variable `Returns`, and maintain all multi indexes.\n",
    "*Hint:* Use `pd.MultiIndex()` to create a multi index for the the wide data frame `stocks`."
   ]
  },
  {
   "cell_type": "markdown",
   "id": "bd1c7307-ff48-47a8-971c-19e4535d0ac7",
   "metadata": {},
   "source": [
    "### Download the daily benchmark return factors from Ken French's data library."
   ]
  },
  {
   "cell_type": "markdown",
   "id": "fb5d25d2-1b2b-435d-b919-d242645060ee",
   "metadata": {},
   "source": [
    "### Add the daily benchmark return factors to `stocks` and `stocks_long`."
   ]
  },
  {
   "cell_type": "markdown",
   "id": "84823636-3557-4666-aa30-63743f8b223f",
   "metadata": {},
   "source": [
    "For the wide data frame `stocks`, use the outer index name `Factors`."
   ]
  },
  {
   "cell_type": "markdown",
   "id": "4a1d9ba1-dc4e-4f47-81a8-0279f12ba42a",
   "metadata": {},
   "source": [
    "### Write a function `download()` that accepts tickers and returns a wide data frame of returns with the daily benchmark return factors."
   ]
  },
  {
   "cell_type": "markdown",
   "id": "239b4431-4482-4cd2-bd31-8e83639b2c24",
   "metadata": {},
   "source": [
    "### Download earnings per share for the stocks in `stocks` and combine to a long data frame `earnings`."
   ]
  },
  {
   "cell_type": "markdown",
   "id": "091942f9-39b9-4bc5-8042-9080ce65c611",
   "metadata": {},
   "source": [
    "Use the `.earnings_dates` method described [here](https://pypi.org/project/yfinance/).\n",
    "Use `pd.concat()` to combine the result of each the `.earnings_date` data frames and assign them to a new data frame `earnings`.\n",
    "Name the row indexes `Ticker` and `Date` and swap to match the order of the row index in `stocks_long`."
   ]
  },
  {
   "cell_type": "code",
   "execution_count": 14,
   "id": "072ea4c2-612e-4c99-81d3-81b214fef248",
   "metadata": {
    "tags": []
   },
   "outputs": [],
   "source": [
    "# some students had to update yfinance to use the .earnings_dates atrtibute\n",
    "# %pip install -U yfinance"
   ]
  },
  {
   "cell_type": "markdown",
   "id": "3e8205f1-4184-491e-ae52-82b6f1d5fadf",
   "metadata": {
    "tags": []
   },
   "source": [
    "### Combine `earnings` with the returns from `stocks_long`."
   ]
  },
  {
   "cell_type": "markdown",
   "id": "1ce7296b-ce4a-42ce-bd5e-9913a92aa7f2",
   "metadata": {},
   "source": [
    "***It is easier to leave `stocks` and `stocks_long` as-is and work with slices `returns` and `returns_long`.***\n",
    "Use the `tz_localize('America/New_York')` method add time zone information back to `returns.index` and use `pd.to_timedelta(16, unit='h')` to set time to the market close in New York City.\n",
    "Use [`pd.merge_asof()`](https://pandas.pydata.org/pandas-docs/stable/reference/api/pandas.merge_asof.html) to match earnings announcement dates and times to appropriate return periods.\n",
    "For example, if a firm announces earnings after the close at 5 PM on February 7, we want to match the return period from 4 PM on February 7 to 4 PM on February 8."
   ]
  },
  {
   "cell_type": "markdown",
   "id": "ff90f7c7-a1ef-4e3a-b938-933ee91be1d1",
   "metadata": {},
   "source": [
    "### Plot the relation between daily returns and earnings surprises"
   ]
  },
  {
   "cell_type": "markdown",
   "id": "fd10f6f0-14d5-4547-82d4-c5e0308ec4a9",
   "metadata": {},
   "source": [
    "Three options in increasing difficulty:\n",
    "\n",
    "1. Scatter plot\n",
    "1. Scatter plot with a best-fit line using `regplot()` from the seaborn package\n",
    "1. Bar plot using `barplot()` from the seaborn package after using `pd.qcut()` to form five groups on earnings surprises"
   ]
  },
  {
   "cell_type": "markdown",
   "id": "c1ea3c76-200f-4f9f-b0a0-f43004d573f7",
   "metadata": {},
   "source": [
    "### Repeat the earnings exercise with the S&P 100 stocks"
   ]
  },
  {
   "cell_type": "markdown",
   "id": "fbd9aa4a-2488-4fbd-8242-13dd50c66928",
   "metadata": {
    "tags": []
   },
   "source": [
    "### Repeat the earnings exercise with *excess returns* of the S&P 100 Stocks"
   ]
  },
  {
   "cell_type": "markdown",
   "id": "d063d98b-cbc1-4823-9bb8-56fe86a2668e",
   "metadata": {},
   "source": [
    "Excess returns are returns minus market returns.\n",
    "We need to add a timezone and the closing time to the market return from Fama and French."
   ]
  },
  {
   "cell_type": "markdown",
   "id": "d691fe5e-ae3b-49fe-86f3-313797d1f654",
   "metadata": {},
   "source": [
    "### Improve your `download()` function from above"
   ]
  },
  {
   "cell_type": "markdown",
   "id": "09d0f6d1-d1d2-4243-b7a8-68957b2e74b1",
   "metadata": {},
   "source": [
    "Modify `download()` to accept one or more than one ticker.\n",
    "Since we will not use the advanced functionality of the tickers object that `yf.Tickers()` creates, we will use `yf.download()`.\n",
    "The current version of `yf.download()` does not accept a `session=` argument."
   ]
  }
 ],
 "metadata": {
  "author": "Richard Herron",
  "kernelspec": {
   "display_name": "Python 3 (ipykernel)",
   "language": "python",
   "name": "python3"
  },
  "language_info": {
   "codemirror_mode": {
    "name": "ipython",
    "version": 3
   },
   "file_extension": ".py",
   "mimetype": "text/x-python",
   "name": "python",
   "nbconvert_exporter": "python",
   "pygments_lexer": "ipython3",
   "version": "3.9.13"
  },
  "title": "McKinney Chapter 8 - Practice"
 },
 "nbformat": 4,
 "nbformat_minor": 5
}
