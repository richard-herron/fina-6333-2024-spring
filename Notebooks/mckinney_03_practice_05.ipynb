{
 "cells": [
  {
   "cell_type": "markdown",
   "id": "e1ac131b-4292-4bd1-860b-de2f34443775",
   "metadata": {},
   "source": [
    "# McKinney Chapter 3 - Practice for Section 05"
   ]
  },
  {
   "cell_type": "markdown",
   "id": "350a7939-cd07-4e00-94ef-e4ee4e246a7c",
   "metadata": {},
   "source": [
    "## Announcements"
   ]
  },
  {
   "cell_type": "markdown",
   "id": "1de27dbd-af24-4d38-883c-4c584dd5d56b",
   "metadata": {},
   "source": [
    "1. Due Friday, 1/19, at 11:59 PM:\n",
    "    1. Complete *Introduction to Python* course on DataCamp (and upload certificate to Canvas)\n",
    "    2. Acknowledge academic integrity statement on Canvas\n",
    "2. I will record and post the next lecture video on Thursday, 1/18, and the associate pre-class quiz is due before class on Tuesday, 1/23\n",
    "3. Start joining groups on Canvas (Canvas > People > Team Projects); I removed joining groups as a scored assignment, but please prioritize joining groups"
   ]
  },
  {
   "cell_type": "markdown",
   "id": "a00840cd-50da-4d43-a7c7-2a13c586f143",
   "metadata": {},
   "source": [
    "## 10-minute Recap"
   ]
  },
  {
   "cell_type": "markdown",
   "id": "bdcc44f9-38be-4776-b5a4-17d9954ad948",
   "metadata": {},
   "source": [
    "### List"
   ]
  },
  {
   "cell_type": "markdown",
   "id": "1853d52d-d25d-45fd-9b07-e593c5ee039f",
   "metadata": {},
   "source": [
    "A list is a collection of items that are ordered and changeable.\n",
    "You can add, remove, or modify elements in a list.\n",
    "In Python, you can create an empty list using either `[]` or `list()`."
   ]
  },
  {
   "cell_type": "code",
   "execution_count": 1,
   "id": "0737942f-b6d6-4d5f-b99a-e7007190e410",
   "metadata": {},
   "outputs": [
    {
     "data": {
      "text/plain": [
       "[1, 2, 3, [1, 2, 3, [1, 2, 3]]]"
      ]
     },
     "execution_count": 1,
     "metadata": {},
     "output_type": "execute_result"
    }
   ],
   "source": [
    "my_list = [1, 2, 3, [1, 2, 3, [1, 2, 3]]]\n",
    "\n",
    "my_list"
   ]
  },
  {
   "cell_type": "markdown",
   "id": "1a9ae691-5b50-4b94-af43-b68f743ebce6",
   "metadata": {},
   "source": [
    "***Python is zero-indexed!***"
   ]
  },
  {
   "cell_type": "code",
   "execution_count": 2,
   "id": "c03f0d00-ae53-46f4-9758-092d9915c528",
   "metadata": {},
   "outputs": [
    {
     "data": {
      "text/plain": [
       "2"
      ]
     },
     "execution_count": 2,
     "metadata": {},
     "output_type": "execute_result"
    }
   ],
   "source": [
    "my_list[1]"
   ]
  },
  {
   "cell_type": "markdown",
   "id": "5ac23860-2bcd-4262-a61e-ca08330e0848",
   "metadata": {},
   "source": [
    "We can chain indexes!"
   ]
  },
  {
   "cell_type": "code",
   "execution_count": 3,
   "id": "8015bf2a-1241-4453-b8be-a922b208b5b5",
   "metadata": {},
   "outputs": [
    {
     "data": {
      "text/plain": [
       "3"
      ]
     },
     "execution_count": 3,
     "metadata": {},
     "output_type": "execute_result"
    }
   ],
   "source": [
    "my_list[-1][-1][-1]"
   ]
  },
  {
   "cell_type": "code",
   "execution_count": 4,
   "id": "e8691c47-f0ed-49e4-9811-e6c0b1f4de94",
   "metadata": {},
   "outputs": [
    {
     "data": {
      "text/plain": [
       "[1, 2, 3, [1, 2, 3, [1, 2, 2001]]]"
      ]
     },
     "execution_count": 4,
     "metadata": {},
     "output_type": "execute_result"
    }
   ],
   "source": [
    "my_list[-1][-1][-1] = 2_001\n",
    "\n",
    "my_list"
   ]
  },
  {
   "cell_type": "markdown",
   "id": "9c0b8540-f032-4cac-b04d-6ed7ef548edb",
   "metadata": {},
   "source": [
    "### Tuple"
   ]
  },
  {
   "cell_type": "markdown",
   "id": "9cb2ff5c-757d-479d-81c3-bc362a6a5546",
   "metadata": {},
   "source": [
    "A tuple is similar to a list, but it is immutable, meaning that you cannot change its contents once it has been created.\n",
    "You can create a tuple using parentheses `()` or the `tuple()` function."
   ]
  },
  {
   "cell_type": "code",
   "execution_count": 5,
   "id": "c35063f0-80e6-4fc8-8fa5-f1c505758b02",
   "metadata": {},
   "outputs": [
    {
     "data": {
      "text/plain": [
       "(1, 2, 3, (1, 2, 3, (1, 2, 3)))"
      ]
     },
     "execution_count": 5,
     "metadata": {},
     "output_type": "execute_result"
    }
   ],
   "source": [
    "my_tuple = (1, 2, 3, (1, 2, 3, (1, 2, 3)))\n",
    "\n",
    "my_tuple"
   ]
  },
  {
   "cell_type": "code",
   "execution_count": 6,
   "id": "e18d29b4-a7c6-48ce-ba81-a7ca7c3674d2",
   "metadata": {},
   "outputs": [
    {
     "data": {
      "text/plain": [
       "3"
      ]
     },
     "execution_count": 6,
     "metadata": {},
     "output_type": "execute_result"
    }
   ],
   "source": [
    "my_tuple[-1][-1][-1]"
   ]
  },
  {
   "cell_type": "markdown",
   "id": "901969b4-6371-4862-bd58-e9daf192c3a7",
   "metadata": {},
   "source": [
    "***Tuples are immutable, so they cannot be changed!***"
   ]
  },
  {
   "cell_type": "code",
   "execution_count": 7,
   "id": "535601ba-8370-4e7d-97ab-3b1ec4cb82a4",
   "metadata": {},
   "outputs": [],
   "source": [
    "# my_tuple[-1][-1][-1] = 2_001\n",
    "# ---------------------------------------------------------------------------\n",
    "# TypeError                                 Traceback (most recent call last)\n",
    "# Cell In[12], line 1\n",
    "# ----> 1 my_tuple[-1][-1][-1] = 2_001\n",
    "\n",
    "# TypeError: 'tuple' object does not support item assignment"
   ]
  },
  {
   "cell_type": "markdown",
   "id": "a5fc1dc4-1d2e-4425-af38-6172706b6d0b",
   "metadata": {},
   "source": [
    "### Dictionary"
   ]
  },
  {
   "cell_type": "markdown",
   "id": "e91caee6-32d2-4245-9dd0-c832356fac40",
   "metadata": {},
   "source": [
    "A dictionary is a collection of key-value pairs that are unordered and changeable.\n",
    "You can add, remove, or modify elements in a dictionary.\n",
    "In Python, you can create an empty dictionary using either `{}` or the `dict()` function. "
   ]
  },
  {
   "cell_type": "code",
   "execution_count": 8,
   "id": "314a71d5-f6d0-4c72-96ec-d829b1e02091",
   "metadata": {},
   "outputs": [
    {
     "data": {
      "text/plain": [
       "{'A': 1, 'B': 2, 3: 2001, 'D': [1, 2, 3]}"
      ]
     },
     "execution_count": 8,
     "metadata": {},
     "output_type": "execute_result"
    }
   ],
   "source": [
    "my_dict = {'A': 1, 'B': 2, 3: 2_001, 'D': [1, 2, 3]}\n",
    "\n",
    "my_dict"
   ]
  },
  {
   "cell_type": "code",
   "execution_count": 9,
   "id": "558c17b7-4efc-42bd-9206-87af75f213c7",
   "metadata": {},
   "outputs": [
    {
     "data": {
      "text/plain": [
       "1"
      ]
     },
     "execution_count": 9,
     "metadata": {},
     "output_type": "execute_result"
    }
   ],
   "source": [
    "my_dict['A']"
   ]
  },
  {
   "cell_type": "code",
   "execution_count": 10,
   "id": "0fa7fb1a-4168-4911-a631-16b3829045de",
   "metadata": {},
   "outputs": [
    {
     "data": {
      "text/plain": [
       "{'A': 1, 'B': 2, 3: 2001, 'D': [1, 2, 3], 'E': [4, 5, 6]}"
      ]
     },
     "execution_count": 10,
     "metadata": {},
     "output_type": "execute_result"
    }
   ],
   "source": [
    "my_dict['E'] = [4, 5, 6]\n",
    "\n",
    "my_dict"
   ]
  },
  {
   "cell_type": "markdown",
   "id": "4ad82bbe-ce65-48c9-b3f2-64c4676f63c3",
   "metadata": {},
   "source": [
    "### List Comprehension"
   ]
  },
  {
   "cell_type": "markdown",
   "id": "4215ee3f-854f-41a8-ab4d-c9d755b0ce03",
   "metadata": {},
   "source": [
    "A list comprehension is a concise way of creating a new list by iterating over an existing list or other iterable object.\n",
    "It is more time and space-efficient than traditional for loops and offers a cleaner syntax.\n",
    "The basic syntax of a list comprehension is `new_list = [expression for item in iterable if condition]` where: \n",
    "\n",
    "1. `expression` is the operation to be performed on each element of the iterable\n",
    "1. `item` is the current element being processed\n",
    "1. `iterable` is the list or other iterable object being iterated over\n",
    "1. `condition` is an optional filter that only accepts items that evaluate to True.\n",
    "    \n",
    "For example, we can use the following list comprehension to create a new list of even numbers from 0 to 8: `even_numbers = [x for x in range(9) if x % 2 == 0]`\n",
    "\n",
    "List comprehensions are a powerful tool in Python that can help you write more efficient and readable code (i.e., more Pythonic code)."
   ]
  },
  {
   "cell_type": "markdown",
   "id": "c50d5046-886f-44ec-a066-50ac2e5573e0",
   "metadata": {},
   "source": [
    "What if we wanted multiples of 3 from 1 to 25?"
   ]
  },
  {
   "cell_type": "code",
   "execution_count": 11,
   "id": "3f9f6599-6f77-40d9-9932-674ba070926f",
   "metadata": {},
   "outputs": [
    {
     "data": {
      "text/plain": [
       "[3, 6, 9, 12, 15, 18, 21, 24]"
      ]
     },
     "execution_count": 11,
     "metadata": {},
     "output_type": "execute_result"
    }
   ],
   "source": [
    "[i for i in range(1, 26) if i%3 == 0]"
   ]
  },
  {
   "cell_type": "markdown",
   "id": "3f37c43b-ecec-417b-936a-a90c73f206b0",
   "metadata": {},
   "source": [
    "The list comprehension above is a simplification of:"
   ]
  },
  {
   "cell_type": "code",
   "execution_count": 12,
   "id": "5294e0b0-7011-4d4a-b8db-ae7d0efd33e7",
   "metadata": {},
   "outputs": [
    {
     "data": {
      "text/plain": [
       "[3, 6, 9, 12, 15, 18, 21, 24]"
      ]
     },
     "execution_count": 12,
     "metadata": {},
     "output_type": "execute_result"
    }
   ],
   "source": [
    "empty_list = []\n",
    "for i in range(1, 26):\n",
    "    if i%3 == 0:\n",
    "        empty_list.append(i)\n",
    "\n",
    "empty_list"
   ]
  },
  {
   "cell_type": "markdown",
   "id": "35ee69aa-e5b3-4f9b-8891-de06cf8a2a06",
   "metadata": {},
   "source": [
    "## Practice"
   ]
  },
  {
   "cell_type": "markdown",
   "id": "280ff089-3829-41e3-b0e3-7ef0a99b1616",
   "metadata": {},
   "source": [
    "### Swap the values assigned to `a` and `b` using a third variable `c`."
   ]
  },
  {
   "cell_type": "code",
   "execution_count": 13,
   "id": "9f5f9bb5-9ae5-46fb-89d5-8fd0e2233f84",
   "metadata": {
    "tags": []
   },
   "outputs": [],
   "source": [
    "a = 1"
   ]
  },
  {
   "cell_type": "code",
   "execution_count": 14,
   "id": "24bde31f-b7be-4228-bdff-5a46ed76a896",
   "metadata": {},
   "outputs": [],
   "source": [
    "b = 2"
   ]
  },
  {
   "cell_type": "code",
   "execution_count": 15,
   "id": "ef1d1a7b-ae41-44e8-a41c-2ed058aec757",
   "metadata": {},
   "outputs": [],
   "source": [
    "c = a"
   ]
  },
  {
   "cell_type": "code",
   "execution_count": 16,
   "id": "f52f2d05-2a33-42c2-ac24-f3a7c7d9ebce",
   "metadata": {},
   "outputs": [],
   "source": [
    "a = b"
   ]
  },
  {
   "cell_type": "code",
   "execution_count": 17,
   "id": "9d71be7d-83ef-4104-988e-1ee48b61e3b7",
   "metadata": {},
   "outputs": [],
   "source": [
    "b = c"
   ]
  },
  {
   "cell_type": "code",
   "execution_count": 18,
   "id": "b287231b-68f3-4a12-b8a6-1138a5fe678e",
   "metadata": {},
   "outputs": [],
   "source": [
    "del c"
   ]
  },
  {
   "cell_type": "code",
   "execution_count": 19,
   "id": "adb10ead-ac9e-452d-ad5f-a1405f7a4b26",
   "metadata": {},
   "outputs": [
    {
     "name": "stdout",
     "output_type": "stream",
     "text": [
      "Variable a is 2, and variable b is 1\n"
     ]
    }
   ],
   "source": [
    "print(f'Variable a is {a}, and variable b is {b}')"
   ]
  },
  {
   "cell_type": "markdown",
   "id": "04886f77-e0ae-4ab0-9263-2f0c36b8b4df",
   "metadata": {},
   "source": [
    "### Swap the values assigned to `a` and `b` ***without*** using a third variable `c`."
   ]
  },
  {
   "cell_type": "code",
   "execution_count": 20,
   "id": "2be3db05-1fd9-4d28-aab0-70c895358d87",
   "metadata": {},
   "outputs": [],
   "source": [
    "a = 1"
   ]
  },
  {
   "cell_type": "code",
   "execution_count": 21,
   "id": "4a10ac2d-1b0d-4e50-a6a2-0cbdc49d612a",
   "metadata": {},
   "outputs": [],
   "source": [
    "b = 2"
   ]
  },
  {
   "cell_type": "code",
   "execution_count": 22,
   "id": "15ecc6cb-21c2-4b3a-a21f-9c973f85a17f",
   "metadata": {},
   "outputs": [],
   "source": [
    "b, a = a, b"
   ]
  },
  {
   "cell_type": "code",
   "execution_count": 23,
   "id": "e6f355d9-adce-4dfd-aebb-8dad476e43b8",
   "metadata": {},
   "outputs": [
    {
     "name": "stdout",
     "output_type": "stream",
     "text": [
      "Variable a is 2, and variable b is 1\n"
     ]
    }
   ],
   "source": [
    "print(f'Variable a is {a}, and variable b is {b}')"
   ]
  },
  {
   "cell_type": "markdown",
   "id": "e111de5b-1daa-4079-9fe3-f7621386765a",
   "metadata": {},
   "source": [
    "The parentheses `()` around tuples are optional, but often very helpful!\n",
    "The commas `,` make the tuple, not the parentheses."
   ]
  },
  {
   "cell_type": "code",
   "execution_count": 24,
   "id": "2504cbf3-f7a1-4fa0-bf8e-68a37ee71c39",
   "metadata": {},
   "outputs": [],
   "source": [
    "a = 1"
   ]
  },
  {
   "cell_type": "code",
   "execution_count": 25,
   "id": "66fdb891-bdbf-4910-b0c4-8847b4066962",
   "metadata": {},
   "outputs": [],
   "source": [
    "b = 2"
   ]
  },
  {
   "cell_type": "code",
   "execution_count": 26,
   "id": "8dbf1ebf-1151-4ce5-86ad-c692335007df",
   "metadata": {},
   "outputs": [],
   "source": [
    "(b, a) = (a, b)"
   ]
  },
  {
   "cell_type": "code",
   "execution_count": 27,
   "id": "c85fc151-0880-4707-8cce-b6b786003946",
   "metadata": {},
   "outputs": [
    {
     "name": "stdout",
     "output_type": "stream",
     "text": [
      "Variable a is 2, and variable b is 1\n"
     ]
    }
   ],
   "source": [
    "print(f'Variable a is {a}, and variable b is {b}')"
   ]
  },
  {
   "cell_type": "markdown",
   "id": "090450f0-6545-496e-8a5f-6e5fa6e35b80",
   "metadata": {},
   "source": [
    "### What is the output of the following code and why?"
   ]
  },
  {
   "cell_type": "code",
   "execution_count": 28,
   "id": "e95000aa-e898-4d2d-9a61-7fa5ae7e4fce",
   "metadata": {},
   "outputs": [
    {
     "data": {
      "text/plain": [
       "(1, 1, False)"
      ]
     },
     "execution_count": 28,
     "metadata": {},
     "output_type": "execute_result"
    }
   ],
   "source": [
    "1, 1, 1 == (1, 1, 1)"
   ]
  },
  {
   "cell_type": "markdown",
   "id": "be04e181-0a58-4f0d-9fa6-d160ae3519a7",
   "metadata": {},
   "source": [
    "Without parentheses `()`, Python reads the final element in the tuple as `1 == (1, 1, 1)`, which is `False`.\n",
    "We can use parentheses `()` to force Python to do what we want!"
   ]
  },
  {
   "cell_type": "code",
   "execution_count": 29,
   "id": "7d468d45-26c7-45e4-aa5f-9e4c0aae6e70",
   "metadata": {},
   "outputs": [
    {
     "data": {
      "text/plain": [
       "True"
      ]
     },
     "execution_count": 29,
     "metadata": {},
     "output_type": "execute_result"
    }
   ],
   "source": [
    "(1, 1, 1) == (1, 1, 1)"
   ]
  },
  {
   "cell_type": "markdown",
   "id": "5593b233-4ff4-4574-9fc3-67c4bec2d402",
   "metadata": {},
   "source": [
    "For this example, we must use parentheses `()` to be unambiguos!"
   ]
  },
  {
   "cell_type": "code",
   "execution_count": 30,
   "id": "1d46ff8f-5a37-4a0d-8dd6-4187f25ab24b",
   "metadata": {},
   "outputs": [
    {
     "data": {
      "text/plain": [
       "(False, 1, 1)"
      ]
     },
     "execution_count": 30,
     "metadata": {},
     "output_type": "execute_result"
    }
   ],
   "source": [
    "(1, 1, 1) == 1, 1, 1"
   ]
  },
  {
   "cell_type": "markdown",
   "id": "14746ac1-7e63-4673-a0ee-7eefc66838e1",
   "metadata": {},
   "source": [
    "### Create a list `l1` of integers from 1 to 100."
   ]
  },
  {
   "cell_type": "code",
   "execution_count": 31,
   "id": "f180f2fb-c8d8-496d-844d-091352fc63a4",
   "metadata": {},
   "outputs": [
    {
     "name": "stdout",
     "output_type": "stream",
     "text": [
      "[1, 2, 3, 4, 5, 6, 7, 8, 9, 10, 11, 12, 13, 14, 15, 16, 17, 18, 19, 20, 21, 22, 23, 24, 25, 26, 27, 28, 29, 30, 31, 32, 33, 34, 35, 36, 37, 38, 39, 40, 41, 42, 43, 44, 45, 46, 47, 48, 49, 50, 51, 52, 53, 54, 55, 56, 57, 58, 59, 60, 61, 62, 63, 64, 65, 66, 67, 68, 69, 70, 71, 72, 73, 74, 75, 76, 77, 78, 79, 80, 81, 82, 83, 84, 85, 86, 87, 88, 89, 90, 91, 92, 93, 94, 95, 96, 97, 98, 99, 100]\n"
     ]
    }
   ],
   "source": [
    "l1 = list(range(1, 101))\n",
    "# the last entry in a code cell automatically prints\n",
    "# here we use print() to wrap the list to take up less space\n",
    "print(l1) "
   ]
  },
  {
   "cell_type": "markdown",
   "id": "8c8cc667-78cf-4628-921d-10c96888e48c",
   "metadata": {},
   "source": [
    "### Slice `l1` to create a list of integers from 60 to 50 (inclusive)."
   ]
  },
  {
   "cell_type": "markdown",
   "id": "b74678c6-73ad-4f87-a8b4-855e05e4c513",
   "metadata": {},
   "source": [
    "Name this list `l2`."
   ]
  },
  {
   "cell_type": "code",
   "execution_count": 32,
   "id": "d045c971-8687-4e8b-ab6b-33b16d0f8b9b",
   "metadata": {},
   "outputs": [
    {
     "data": {
      "text/plain": [
       "49"
      ]
     },
     "execution_count": 32,
     "metadata": {},
     "output_type": "execute_result"
    }
   ],
   "source": [
    "l1.index(50)"
   ]
  },
  {
   "cell_type": "code",
   "execution_count": 33,
   "id": "2e4c5c55-6b2a-4630-bae1-9efcded35f2a",
   "metadata": {},
   "outputs": [
    {
     "data": {
      "text/plain": [
       "[50, 51, 52, 53, 54, 55, 56, 57, 58, 59, 60]"
      ]
     },
     "execution_count": 33,
     "metadata": {},
     "output_type": "execute_result"
    }
   ],
   "source": [
    "l1[49:60]"
   ]
  },
  {
   "cell_type": "markdown",
   "id": "36c25e7e-c405-4a75-a868-0d9628824f91",
   "metadata": {},
   "source": [
    "In the solution above, we have to \"brute force\" picking the left edge at 49.\n",
    "However these are 11 values in 50 to 60 inclusive (i.e., 60 - 50 + 1), so we can add 11 to 49 to find the right edge.\n",
    "This trick is one of the benefits of Python's zero-indexing."
   ]
  },
  {
   "cell_type": "markdown",
   "id": "06d437b7-736a-49ee-a3c3-e84b1205a149",
   "metadata": {},
   "source": [
    "How do we reverse?\n",
    "I prefer `[::-1]`."
   ]
  },
  {
   "cell_type": "code",
   "execution_count": 34,
   "id": "8a7d6055-bad9-44a7-b144-e1989abedefb",
   "metadata": {},
   "outputs": [
    {
     "data": {
      "text/plain": [
       "[60, 59, 58, 57, 56, 55, 54, 53, 52, 51, 50]"
      ]
     },
     "execution_count": 34,
     "metadata": {},
     "output_type": "execute_result"
    }
   ],
   "source": [
    "l2 = l1[49:60][::-1] # the first [] slices, and the second [] reverses\n",
    "l2"
   ]
  },
  {
   "cell_type": "code",
   "execution_count": 35,
   "id": "9772db3d-54d6-4953-8646-3d6b36eafb8c",
   "metadata": {},
   "outputs": [
    {
     "data": {
      "text/plain": [
       "[60, 59, 58, 57, 56, 55, 54, 53, 52, 51, 50]"
      ]
     },
     "execution_count": 35,
     "metadata": {},
     "output_type": "execute_result"
    }
   ],
   "source": [
    "l2_alt = l1[49:60]\n",
    "l2_alt.reverse() # note, most core python operators modify the object \"in place\"\n",
    "l2_alt"
   ]
  },
  {
   "cell_type": "markdown",
   "id": "230d0817-c32b-4448-9052-f2128240549e",
   "metadata": {},
   "source": [
    "### Create a list `l3` of odd integers from 1 to 21."
   ]
  },
  {
   "cell_type": "code",
   "execution_count": 36,
   "id": "628708a8-39ec-4b9d-b3ef-03fa959bf1b3",
   "metadata": {},
   "outputs": [
    {
     "data": {
      "text/plain": [
       "[1, 3, 5, 7, 9, 11, 13, 15, 17, 19, 21]"
      ]
     },
     "execution_count": 36,
     "metadata": {},
     "output_type": "execute_result"
    }
   ],
   "source": [
    "l3 = l1[0:21][::2]\n",
    "\n",
    "l3"
   ]
  },
  {
   "cell_type": "code",
   "execution_count": 37,
   "id": "da8498fa-e0a0-40c5-9051-36427567399c",
   "metadata": {},
   "outputs": [
    {
     "data": {
      "text/plain": [
       "[1, 3, 5, 7, 9, 11, 13, 15, 17, 19, 21]"
      ]
     },
     "execution_count": 37,
     "metadata": {},
     "output_type": "execute_result"
    }
   ],
   "source": [
    "l1[0:21:2]"
   ]
  },
  {
   "cell_type": "code",
   "execution_count": 38,
   "id": "1094e817-4cf6-4a34-ad46-9931f8837be5",
   "metadata": {},
   "outputs": [
    {
     "data": {
      "text/plain": [
       "[1, 3, 5, 7, 9, 11, 13, 15, 17, 19, 21]"
      ]
     },
     "execution_count": 38,
     "metadata": {},
     "output_type": "execute_result"
    }
   ],
   "source": [
    "list(range(1, 22, 2))"
   ]
  },
  {
   "cell_type": "code",
   "execution_count": 39,
   "id": "2e8898bd-5128-4975-9a4a-733046ad2290",
   "metadata": {},
   "outputs": [
    {
     "data": {
      "text/plain": [
       "[1, 3, 5, 7, 9, 11, 13, 15, 17, 19, 21]"
      ]
     },
     "execution_count": 39,
     "metadata": {},
     "output_type": "execute_result"
    }
   ],
   "source": [
    "[i for i in range(22) if i%2 != 0]"
   ]
  },
  {
   "cell_type": "markdown",
   "id": "f23fc974-b45a-4642-8c36-fb7431ca09b1",
   "metadata": {},
   "source": [
    "What is the advantage of the list comprehension?\n",
    "There is no advantage in this example, but the list comprehension lets us specify several conditions and variable step sizes."
   ]
  },
  {
   "cell_type": "markdown",
   "id": "f1d41431-74bd-41c7-8e41-e14f7c4189fe",
   "metadata": {},
   "source": [
    "### Create a list `l4` of the squares of integers from 1 to 100."
   ]
  },
  {
   "cell_type": "code",
   "execution_count": 40,
   "id": "2935e1fa-e8ff-4fcb-a05c-a39c6a16b673",
   "metadata": {},
   "outputs": [
    {
     "name": "stdout",
     "output_type": "stream",
     "text": [
      "[1, 4, 9, 16, 25, 36, 49, 64, 81, 100, 121, 144, 169, 196, 225, 256, 289, 324, 361, 400, 441, 484, 529, 576, 625, 676, 729, 784, 841, 900, 961, 1024, 1089, 1156, 1225, 1296, 1369, 1444, 1521, 1600, 1681, 1764, 1849, 1936, 2025, 2116, 2209, 2304, 2401, 2500, 2601, 2704, 2809, 2916, 3025, 3136, 3249, 3364, 3481, 3600, 3721, 3844, 3969, 4096, 4225, 4356, 4489, 4624, 4761, 4900, 5041, 5184, 5329, 5476, 5625, 5776, 5929, 6084, 6241, 6400, 6561, 6724, 6889, 7056, 7225, 7396, 7569, 7744, 7921, 8100, 8281, 8464, 8649, 8836, 9025, 9216, 9409, 9604, 9801, 10000]\n"
     ]
    }
   ],
   "source": [
    "l4 = [i**2 for i in range(1, 101)]\n",
    "\n",
    "print(l4)"
   ]
  },
  {
   "cell_type": "markdown",
   "id": "d07ccc33-f6e6-4810-8dfc-5549efb30648",
   "metadata": {},
   "source": [
    "### Create a list `l5` that contains the squares of ***odd*** integers from 1 to 100."
   ]
  },
  {
   "cell_type": "code",
   "execution_count": 41,
   "id": "687da03f-e9a6-46b2-9c61-2731e01a52ae",
   "metadata": {},
   "outputs": [
    {
     "name": "stdout",
     "output_type": "stream",
     "text": [
      "[1, 9, 25, 49, 81, 121, 169, 225, 289, 361, 441, 529, 625, 729, 841, 961, 1089, 1225, 1369, 1521, 1681, 1849, 2025, 2209, 2401, 2601, 2809, 3025, 3249, 3481, 3721, 3969, 4225, 4489, 4761, 5041, 5329, 5625, 5929, 6241, 6561, 6889, 7225, 7569, 7921, 8281, 8649, 9025, 9409, 9801]\n"
     ]
    }
   ],
   "source": [
    "l5 = [i**2 for i in range(1, 101) if i%2 != 0]\n",
    "\n",
    "print(l5)"
   ]
  },
  {
   "cell_type": "markdown",
   "id": "c7ec67de-3972-42ce-873f-40a7aaa57442",
   "metadata": {},
   "source": [
    "### Use a lambda function to sort `strings` by the last letter."
   ]
  },
  {
   "cell_type": "code",
   "execution_count": 42,
   "id": "7faff1c8-e416-4175-bcf9-e26c014e9c78",
   "metadata": {},
   "outputs": [],
   "source": [
    "strings = ['card', 'aaaa', 'foo', 'bar', 'abab']"
   ]
  },
  {
   "cell_type": "markdown",
   "id": "1a7972bb-b881-4343-8374-2b61e9cde7f5",
   "metadata": {},
   "source": [
    "Most core Python methods modify their objects *in place*.\n",
    "For clarity, I will use the `sorted()` function, which *does not modify its argument in place.*"
   ]
  },
  {
   "cell_type": "code",
   "execution_count": 43,
   "id": "f33a8518-5fb7-4240-8df7-bcbcc83d6c3a",
   "metadata": {},
   "outputs": [
    {
     "data": {
      "text/plain": [
       "['aaaa', 'abab', 'bar', 'card', 'foo']"
      ]
     },
     "execution_count": 43,
     "metadata": {},
     "output_type": "execute_result"
    }
   ],
   "source": [
    "sorted(strings)"
   ]
  },
  {
   "cell_type": "markdown",
   "id": "5583dcc6-3d7c-42c6-94e2-24088d075441",
   "metadata": {},
   "source": [
    "We can pass a function name to the `key=` argument.\n",
    "Python applis this function to every element in the list, then uses the function output to sort the list."
   ]
  },
  {
   "cell_type": "code",
   "execution_count": 44,
   "id": "381c4e39-055b-4d26-b7ba-7fa320a3b546",
   "metadata": {},
   "outputs": [
    {
     "data": {
      "text/plain": [
       "['foo', 'bar', 'card', 'aaaa', 'abab']"
      ]
     },
     "execution_count": 44,
     "metadata": {},
     "output_type": "execute_result"
    }
   ],
   "source": [
    "sorted(strings, key=len)"
   ]
  },
  {
   "cell_type": "code",
   "execution_count": 45,
   "id": "72a8a291-ce18-4e89-9655-acbb09f7c611",
   "metadata": {},
   "outputs": [
    {
     "data": {
      "text/plain": [
       "['card', 'aaaa', 'abab', 'foo', 'bar']"
      ]
     },
     "execution_count": 45,
     "metadata": {},
     "output_type": "execute_result"
    }
   ],
   "source": [
    "sorted(strings, key=len, reverse=True)"
   ]
  },
  {
   "cell_type": "markdown",
   "id": "e1792b90-07fa-48d3-98ef-21a833962277",
   "metadata": {},
   "source": [
    "We can index and slice strings just like we do lists!"
   ]
  },
  {
   "cell_type": "code",
   "execution_count": 46,
   "id": "a4dc7efc-62dc-4589-9fcb-fb2f538df129",
   "metadata": {},
   "outputs": [
    {
     "data": {
      "text/plain": [
       "'g'"
      ]
     },
     "execution_count": 46,
     "metadata": {},
     "output_type": "execute_result"
    }
   ],
   "source": [
    "'string'[-1]"
   ]
  },
  {
   "cell_type": "code",
   "execution_count": 47,
   "id": "b7da2549-082e-4e3e-a5a9-666d3946443c",
   "metadata": {},
   "outputs": [
    {
     "data": {
      "text/plain": [
       "'ng'"
      ]
     },
     "execution_count": 47,
     "metadata": {},
     "output_type": "execute_result"
    }
   ],
   "source": [
    "'string'[-2:]"
   ]
  },
  {
   "cell_type": "code",
   "execution_count": 48,
   "id": "bd04b12e-928e-437d-b14b-b510d81321f0",
   "metadata": {},
   "outputs": [],
   "source": [
    "def get_last_letter(x):\n",
    "    return x[-1]"
   ]
  },
  {
   "cell_type": "code",
   "execution_count": 49,
   "id": "c2cef75d-f372-4115-8ccd-483f8804cdef",
   "metadata": {},
   "outputs": [
    {
     "data": {
      "text/plain": [
       "'g'"
      ]
     },
     "execution_count": 49,
     "metadata": {},
     "output_type": "execute_result"
    }
   ],
   "source": [
    "get_last_letter('string')"
   ]
  },
  {
   "cell_type": "code",
   "execution_count": 50,
   "id": "e5fbaa1f-6b98-4610-bd6a-0845eccd4258",
   "metadata": {},
   "outputs": [
    {
     "data": {
      "text/plain": [
       "['aaaa', 'abab', 'card', 'foo', 'bar']"
      ]
     },
     "execution_count": 50,
     "metadata": {},
     "output_type": "execute_result"
    }
   ],
   "source": [
    "sorted(strings, key=get_last_letter)"
   ]
  },
  {
   "cell_type": "markdown",
   "id": "cbba8d59-a26c-4605-89c9-f6b743fc335e",
   "metadata": {},
   "source": [
    "Anonymous functions (also called lambda functions) let us skip the function writing and naming steps!"
   ]
  },
  {
   "cell_type": "code",
   "execution_count": 51,
   "id": "f3dbd900-b53c-4289-b15d-c6317d6a185b",
   "metadata": {},
   "outputs": [
    {
     "data": {
      "text/plain": [
       "['aaaa', 'abab', 'card', 'foo', 'bar']"
      ]
     },
     "execution_count": 51,
     "metadata": {},
     "output_type": "execute_result"
    }
   ],
   "source": [
    "sorted(strings, key=lambda x: x[-1])"
   ]
  },
  {
   "cell_type": "markdown",
   "id": "c1243f61-c1db-4907-92af-d4145531b49e",
   "metadata": {},
   "source": [
    "### Given an integer array `nums` and an integer `k`, return the $k^{th}$ largest element in the array."
   ]
  },
  {
   "cell_type": "markdown",
   "id": "18a32df2-94dc-4b2c-8efa-c108d23a105e",
   "metadata": {},
   "source": [
    "Note that it is the $k^{th}$ largest element in the sorted order, not the $k^{th}$ distinct element.\n",
    "\n",
    "Example 1:\n",
    "\n",
    "Input: `nums = [3,2,1,5,6,4]`, `k = 2` \\\n",
    "Output: `5`\n",
    "\n",
    "Example 2:\n",
    "\n",
    "Input: `nums = [3,2,3,1,2,4,5,5,6]`, `k = 4` \\\n",
    "Output: `4`\n",
    "\n",
    "I saw this question on [LeetCode](https://leetcode.com/problems/kth-largest-element-in-an-array/)."
   ]
  },
  {
   "cell_type": "code",
   "execution_count": 52,
   "id": "0617863f-75e5-4391-87b8-c75dc8d95d58",
   "metadata": {},
   "outputs": [],
   "source": [
    "def get_largest(x, k):\n",
    "    return sorted(x)[-k]"
   ]
  },
  {
   "cell_type": "code",
   "execution_count": 53,
   "id": "c961666e-8098-4c31-8643-8bde6b2a8ea8",
   "metadata": {},
   "outputs": [
    {
     "data": {
      "text/plain": [
       "5"
      ]
     },
     "execution_count": 53,
     "metadata": {},
     "output_type": "execute_result"
    }
   ],
   "source": [
    "get_largest(x=[3,2,1,5,6,4], k=2)"
   ]
  },
  {
   "cell_type": "code",
   "execution_count": 54,
   "id": "6821aaee-3959-410e-b6b4-43bc88cd1a77",
   "metadata": {},
   "outputs": [
    {
     "data": {
      "text/plain": [
       "4"
      ]
     },
     "execution_count": 54,
     "metadata": {},
     "output_type": "execute_result"
    }
   ],
   "source": [
    "get_largest(x=[3,2,3,1,2,4,5,5,6], k=4)"
   ]
  },
  {
   "cell_type": "markdown",
   "id": "9ba84409-fb2d-47dc-a650-a5cde7463d7b",
   "metadata": {},
   "source": [
    "### Given an integer array `nums` and an integer `k`, return the `k` most frequent elements. "
   ]
  },
  {
   "cell_type": "markdown",
   "id": "f16ea5ed-5667-401e-855f-bce485671316",
   "metadata": {},
   "source": [
    "You may return the answer in any order.\n",
    "\n",
    "Example 1:\n",
    "\n",
    "Input: `nums = [1,1,1,2,2,3]`, `k = 2` \\\n",
    "Output: `[1,2]`\n",
    "\n",
    "Example 2:\n",
    "\n",
    "Input: `nums = [1]`, `k = 1` \\\n",
    "Output: `[1]`\n",
    "\n",
    "I saw this question on [LeetCode](https://leetcode.com/problems/top-k-frequent-elements/)."
   ]
  },
  {
   "cell_type": "code",
   "execution_count": 55,
   "id": "45d46926-4f25-4622-91a0-2f6cf9824921",
   "metadata": {},
   "outputs": [],
   "source": [
    "def get_frequent(nums, k):\n",
    "    counts = {}\n",
    "    for n in nums:\n",
    "        if n in counts:\n",
    "            counts[n] += 1\n",
    "        else:\n",
    "            counts[n] = 1\n",
    "    return [x[0] for x in sorted(counts.items(), key=lambda x: x[1], reverse=True)[:k]]\n"
   ]
  },
  {
   "cell_type": "code",
   "execution_count": 56,
   "id": "d98cee0a-858b-4c51-9261-e056c96994b0",
   "metadata": {},
   "outputs": [
    {
     "data": {
      "text/plain": [
       "[1, 2]"
      ]
     },
     "execution_count": 56,
     "metadata": {},
     "output_type": "execute_result"
    }
   ],
   "source": [
    "get_frequent(nums=[1,1,1,2,2,3], k=2)"
   ]
  },
  {
   "cell_type": "markdown",
   "id": "2960dfdb-8dad-48cd-ae6c-171a1467af4c",
   "metadata": {},
   "source": [
    "### Test whether the given strings are palindromes."
   ]
  },
  {
   "cell_type": "markdown",
   "id": "b4cd9be1-9f78-417b-ba8d-fedd1d2c6605",
   "metadata": {},
   "source": [
    "Input: `[\"aba\", \"no\"]` \\\n",
    "Output: `[True, False]`"
   ]
  },
  {
   "cell_type": "markdown",
   "id": "25e36cd8-eb7a-47ad-a5e0-14905334b89c",
   "metadata": {},
   "source": [
    "We can reverse a string with a `[::-1]` slice just like we reverse a string!"
   ]
  },
  {
   "cell_type": "code",
   "execution_count": 57,
   "id": "3913c665-94fa-44fd-9c73-69b4d866327f",
   "metadata": {},
   "outputs": [],
   "source": [
    "def is_palindrome(xs):\n",
    "    return [x == x[::-1] for x in xs]"
   ]
  },
  {
   "cell_type": "code",
   "execution_count": 58,
   "id": "21929fee-fc0c-4ecc-8f8d-ccc34cac57fe",
   "metadata": {},
   "outputs": [
    {
     "data": {
      "text/plain": [
       "[True, False]"
      ]
     },
     "execution_count": 58,
     "metadata": {},
     "output_type": "execute_result"
    }
   ],
   "source": [
    "is_palindrome([\"aba\", \"no\"])"
   ]
  },
  {
   "cell_type": "markdown",
   "id": "e999107f-269e-4f58-b64d-32c188ae2725",
   "metadata": {},
   "source": [
    "### Write a function `returns()` that accepts lists of prices and dividends and returns a list of returns."
   ]
  },
  {
   "cell_type": "code",
   "execution_count": 59,
   "id": "876346e1-ebea-41e4-a2e1-e9143b67b54b",
   "metadata": {},
   "outputs": [],
   "source": [
    "prices = [100, 150, 100, 50, 100, 150, 100, 150]\n",
    "dividends = [1, 1, 1, 1, 2, 2, 2, 2]"
   ]
  },
  {
   "cell_type": "markdown",
   "id": "f894efd0-ec46-41f9-9aec-1e01662e7811",
   "metadata": {},
   "source": [
    "Although loop counters are un-Pythonic, this calculation is the rare case where I found loop counters more clear."
   ]
  },
  {
   "cell_type": "code",
   "execution_count": 60,
   "id": "40fd8e24-0f70-4fa9-a396-740fd474c7b5",
   "metadata": {},
   "outputs": [],
   "source": [
    "def returns(p, d):\n",
    "    rs = []\n",
    "    for i in range(1, len(p)):\n",
    "        r = (p[i] + d[i] - p[i-1]) / p[i-1]\n",
    "        rs.append(r)\n",
    "\n",
    "    return rs"
   ]
  },
  {
   "cell_type": "code",
   "execution_count": 61,
   "id": "f6abee49-e3c7-471c-9528-a44db0e6be07",
   "metadata": {},
   "outputs": [
    {
     "data": {
      "text/plain": [
       "[0.51, -0.32666666666666666, -0.49, 1.04, 0.52, -0.32, 0.52]"
      ]
     },
     "execution_count": 61,
     "metadata": {},
     "output_type": "execute_result"
    }
   ],
   "source": [
    "returns(p=prices, d=dividends)"
   ]
  },
  {
   "cell_type": "markdown",
   "id": "0e884991-6517-4621-b5f1-6e95e6ab4216",
   "metadata": {},
   "source": [
    "Here is a solution that avoids a loop counter and combines a list comprehension `zip()` to loop over prices, dividends, and lagged prices.\n",
    "This solution may be a little more Pythonic, but I find it harder to follow that our loop-counter solution above."
   ]
  },
  {
   "cell_type": "code",
   "execution_count": 62,
   "id": "4d721caf-e5f9-422a-b6ab-ef89de96d9c1",
   "metadata": {},
   "outputs": [
    {
     "data": {
      "text/plain": [
       "[0.51, -0.32666666666666666, -0.49, 1.04, 0.52, -0.32, 0.52]"
      ]
     },
     "execution_count": 62,
     "metadata": {},
     "output_type": "execute_result"
    }
   ],
   "source": [
    "[(p + d - p_lag) / p_lag for p, d, p_lag in zip(prices[1:], dividends[1:], prices[:-1])]"
   ]
  },
  {
   "cell_type": "markdown",
   "id": "59f6e878-8cb4-4bf8-8ff1-f883f8581a5d",
   "metadata": {},
   "source": [
    "### Rewrite the function `returns()` so it returns lists of returns, capital gains yields, and dividend yields."
   ]
  },
  {
   "cell_type": "code",
   "execution_count": 63,
   "id": "7b12a809-f2e4-4fea-b810-c003475d0426",
   "metadata": {},
   "outputs": [],
   "source": [
    "def returns_2(p, d):\n",
    "    rs, d_ps, cgs = [], [], []\n",
    "    for i in range(1, len(p)):\n",
    "        r = (p[i] + d[i] - p[i-1]) / p[i-1]\n",
    "        d_p = d[i] / p[i-1]\n",
    "        cg = r - d_p\n",
    "        rs.append(r)\n",
    "        d_ps.append(d_p)\n",
    "        cgs.append(cg)\n",
    "\n",
    "    return {'r':rs, 'd_p':d_ps, 'cg':cgs}"
   ]
  },
  {
   "cell_type": "markdown",
   "id": "f79ea900-0a2c-40ab-be6d-6eb61d40a564",
   "metadata": {},
   "source": [
    "The `%precision` magic makes it easy to round all float on print to 4 decimal places."
   ]
  },
  {
   "cell_type": "code",
   "execution_count": 64,
   "id": "6c5b2189-d7d1-4694-b935-aaeea82142eb",
   "metadata": {},
   "outputs": [
    {
     "data": {
      "text/plain": [
       "'%.4f'"
      ]
     },
     "execution_count": 64,
     "metadata": {},
     "output_type": "execute_result"
    }
   ],
   "source": [
    "%precision 4"
   ]
  },
  {
   "cell_type": "code",
   "execution_count": 65,
   "id": "d84eadd8-6d16-458a-8009-28e92c3c727f",
   "metadata": {},
   "outputs": [
    {
     "data": {
      "text/plain": [
       "{'r': [0.5100, -0.3267, -0.4900, 1.0400, 0.5200, -0.3200, 0.5200],\n",
       " 'd_p': [0.0100, 0.0067, 0.0100, 0.0400, 0.0200, 0.0133, 0.0200],\n",
       " 'cg': [0.5000, -0.3333, -0.5000, 1.0000, 0.5000, -0.3333, 0.5000]}"
      ]
     },
     "execution_count": 65,
     "metadata": {},
     "output_type": "execute_result"
    }
   ],
   "source": [
    "returns_2(p=prices, d=dividends)"
   ]
  },
  {
   "cell_type": "markdown",
   "id": "b4196a78-96cc-4194-beb7-6adc4b95ccf3",
   "metadata": {},
   "source": [
    "By returning a dictionary instead of tuple, we can index returns, dividend yields, and capital gains yields by name instead of position."
   ]
  },
  {
   "cell_type": "code",
   "execution_count": 66,
   "id": "1d3da83d-fd83-4328-9d53-2897173a5107",
   "metadata": {},
   "outputs": [
    {
     "data": {
      "text/plain": [
       "[0.5100, -0.3267, -0.4900, 1.0400, 0.5200, -0.3200, 0.5200]"
      ]
     },
     "execution_count": 66,
     "metadata": {},
     "output_type": "execute_result"
    }
   ],
   "source": [
    "returns_2(p=prices, d=dividends)['r']"
   ]
  },
  {
   "cell_type": "markdown",
   "id": "7eb026c8-a42b-4eef-b237-57cade6897ed",
   "metadata": {},
   "source": [
    "### Rescale and shift numbers so that they cover the range `[0, 1]`."
   ]
  },
  {
   "cell_type": "markdown",
   "id": "b373f8e6-cb9d-4d91-8432-2e77f69ec7ca",
   "metadata": {},
   "source": [
    "Input: `[18.5, 17.0, 18.0, 19.0, 18.0]` \\\n",
    "Output: `[0.75, 0.0, 0.5, 1.0, 0.5]`"
   ]
  },
  {
   "cell_type": "code",
   "execution_count": 67,
   "id": "8be83c08-65f8-475e-8368-165e7487ee2c",
   "metadata": {},
   "outputs": [],
   "source": [
    "x = [18.5, 17.0, 18.0, 19.0, 18.0]"
   ]
  },
  {
   "cell_type": "code",
   "execution_count": 68,
   "id": "aef98170-0e71-414f-a0ed-437609b7611b",
   "metadata": {},
   "outputs": [],
   "source": [
    "def rescale(x):\n",
    "    x_min = min(x)\n",
    "    x_max = max(x)\n",
    "    return [(i - x_min) / (x_max - x_min) for i in x]"
   ]
  },
  {
   "cell_type": "code",
   "execution_count": 69,
   "id": "b6161eca-e0a4-470e-a37b-5ada19639c03",
   "metadata": {},
   "outputs": [
    {
     "data": {
      "text/plain": [
       "[0.7500, 0.0000, 0.5000, 1.0000, 0.5000]"
      ]
     },
     "execution_count": 69,
     "metadata": {},
     "output_type": "execute_result"
    }
   ],
   "source": [
    "rescale(x)"
   ]
  }
 ],
 "metadata": {
  "author": "Richard Herron",
  "kernelspec": {
   "display_name": "Python 3 (ipykernel)",
   "language": "python",
   "name": "python3"
  },
  "language_info": {
   "codemirror_mode": {
    "name": "ipython",
    "version": 3
   },
   "file_extension": ".py",
   "mimetype": "text/x-python",
   "name": "python",
   "nbconvert_exporter": "python",
   "pygments_lexer": "ipython3",
   "version": "3.12.1"
  },
  "title": "McKinney Chapter 3 - Practice"
 },
 "nbformat": 4,
 "nbformat_minor": 5
}
