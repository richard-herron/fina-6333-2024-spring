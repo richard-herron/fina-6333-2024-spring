{
 "cells": [
  {
   "cell_type": "markdown",
   "id": "dd06e180-4b25-481d-86df-1dc7ef1982c2",
   "metadata": {},
   "source": [
    "# McKinney Chapter 4 - Practice for Section 03"
   ]
  },
  {
   "cell_type": "markdown",
   "id": "7f3fc1cd-437b-46ba-835f-e11cdec6bb90",
   "metadata": {},
   "source": [
    "## Announcements"
   ]
  },
  {
   "cell_type": "markdown",
   "id": "08bf374d-b4db-4a38-9a27-491d084b880b",
   "metadata": {},
   "source": [
    "1. Our second DataCamp course, *Intermediate Python*, is due Friday, 1/26, at 11:59 PM\n",
    "2. I will record our week 4 lecture video on McKinney chapter 5 this Thursday evening, and the week 4 pre-class quiz is due before class next Tuesday, 1/30\n",
    "3. Team projects\n",
    "   1. Continue to join teams on Canvas > People > Team Projects\n",
    "   2. I removed the join-a-team assignment, but I will give the first project assignment in early February, so join a team by then"
   ]
  },
  {
   "cell_type": "markdown",
   "id": "096f3c1f-16b5-4f18-8ab5-5e8bb068bf68",
   "metadata": {},
   "source": [
    "## 10-minute Recap"
   ]
  },
  {
   "cell_type": "markdown",
   "id": "97974d57-e5ab-4ff4-babf-d2c53dbc1244",
   "metadata": {},
   "source": [
    "### NumPy Arrays"
   ]
  },
  {
   "cell_type": "markdown",
   "id": "3a9e5dee-5337-4196-b18c-d9b884ac5f06",
   "metadata": {},
   "source": [
    "NumPy arrays are multidimensional data structures that can store numerical data efficiently and perform fast mathematical operations on them.\r"
   ]
  },
  {
   "cell_type": "code",
   "execution_count": 1,
   "id": "df72269f-49b1-4934-8c5e-488ef5779464",
   "metadata": {},
   "outputs": [
    {
     "name": "stdout",
     "output_type": "stream",
     "text": [
      "The Zen of Python, by Tim Peters\n",
      "\n",
      "Beautiful is better than ugly.\n",
      "Explicit is better than implicit.\n",
      "Simple is better than complex.\n",
      "Complex is better than complicated.\n",
      "Flat is better than nested.\n",
      "Sparse is better than dense.\n",
      "Readability counts.\n",
      "Special cases aren't special enough to break the rules.\n",
      "Although practicality beats purity.\n",
      "Errors should never pass silently.\n",
      "Unless explicitly silenced.\n",
      "In the face of ambiguity, refuse the temptation to guess.\n",
      "There should be one-- and preferably only one --obvious way to do it.\n",
      "Although that way may not be obvious at first unless you're Dutch.\n",
      "Now is better than never.\n",
      "Although never is often better than *right* now.\n",
      "If the implementation is hard to explain, it's a bad idea.\n",
      "If the implementation is easy to explain, it may be a good idea.\n",
      "Namespaces are one honking great idea -- let's do more of those!\n"
     ]
    }
   ],
   "source": [
    "import this"
   ]
  },
  {
   "cell_type": "code",
   "execution_count": 2,
   "id": "8194707a-c40b-4ff5-b899-93ebf50f2809",
   "metadata": {},
   "outputs": [
    {
     "data": {
      "text/plain": [
       "'%.4f'"
      ]
     },
     "execution_count": 2,
     "metadata": {},
     "output_type": "execute_result"
    }
   ],
   "source": [
    "import numpy as np\n",
    "%precision 4"
   ]
  },
  {
   "cell_type": "code",
   "execution_count": 3,
   "id": "9847dbca-0765-434b-ac6b-b34768bd4521",
   "metadata": {},
   "outputs": [
    {
     "data": {
      "text/plain": [
       "array([0, 1, 2, 3, 4, 5, 6, 7, 8, 9])"
      ]
     },
     "execution_count": 3,
     "metadata": {},
     "output_type": "execute_result"
    }
   ],
   "source": [
    "np.arange(10)"
   ]
  },
  {
   "cell_type": "code",
   "execution_count": 4,
   "id": "871e321a-a71e-483d-80b3-3b34e06f0fcc",
   "metadata": {},
   "outputs": [
    {
     "data": {
      "text/plain": [
       "array([[1., 1.],\n",
       "       [1., 1.]])"
      ]
     },
     "execution_count": 4,
     "metadata": {},
     "output_type": "execute_result"
    }
   ],
   "source": [
    "np.ones((2, 2))"
   ]
  },
  {
   "cell_type": "code",
   "execution_count": 5,
   "id": "d7dd5fc0-6f2b-474e-a6cd-73bce6a8b5b5",
   "metadata": {},
   "outputs": [
    {
     "data": {
      "text/plain": [
       "array([[[[1., 1.],\n",
       "         [1., 1.]],\n",
       "\n",
       "        [[1., 1.],\n",
       "         [1., 1.]]],\n",
       "\n",
       "\n",
       "       [[[1., 1.],\n",
       "         [1., 1.]],\n",
       "\n",
       "        [[1., 1.],\n",
       "         [1., 1.]]]])"
      ]
     },
     "execution_count": 5,
     "metadata": {},
     "output_type": "execute_result"
    }
   ],
   "source": [
    "np.ones((2, 2, 2, 2))"
   ]
  },
  {
   "cell_type": "markdown",
   "id": "9a4fbd53-36f1-4a1b-9e5c-89b3a2c4838d",
   "metadata": {},
   "source": [
    "We can use `np.ranom.rand()` to create n-dimensional arrays of standard normal random variables (i.e., $\\mu=0, \\sigma=1$).\n",
    "We can use `np.random.seed()` to set the random number generator seed to make our analysis repeatable."
   ]
  },
  {
   "cell_type": "code",
   "execution_count": 6,
   "id": "1fa38013-d922-411e-ab63-334619585273",
   "metadata": {},
   "outputs": [
    {
     "data": {
      "text/plain": [
       "array([[ 0.4967, -0.1383],\n",
       "       [ 0.6477,  1.523 ]])"
      ]
     },
     "execution_count": 6,
     "metadata": {},
     "output_type": "execute_result"
    }
   ],
   "source": [
    "np.random.seed(42)\n",
    "np.random.randn(2, 2)"
   ]
  },
  {
   "cell_type": "markdown",
   "id": "599b30a8-ce7f-4265-9070-a39e0cec68fd",
   "metadata": {},
   "source": [
    "### Vectorized Functions"
   ]
  },
  {
   "cell_type": "markdown",
   "id": "cb66a001-0dfa-4b85-895f-9461ff06db43",
   "metadata": {},
   "source": [
    "Vectorized computation is the process of applying an operation to an entire array or a subset of an array without using explicit loops. NumPy supports vectorized computation using universal functions (ufuncs), which are functions that operate on arrays element-wise.\r"
   ]
  },
  {
   "cell_type": "markdown",
   "id": "05c70038-2586-4e75-a41d-08f0b30c4f48",
   "metadata": {},
   "source": [
    "Say we want to calculate square roots."
   ]
  },
  {
   "cell_type": "code",
   "execution_count": 7,
   "id": "7933ebc6-4df1-43fb-98b3-7435d40f5f02",
   "metadata": {},
   "outputs": [
    {
     "data": {
      "text/plain": [
       "2.0000"
      ]
     },
     "execution_count": 7,
     "metadata": {},
     "output_type": "execute_result"
    }
   ],
   "source": [
    "4**0.5"
   ]
  },
  {
   "cell_type": "code",
   "execution_count": 8,
   "id": "f447c974-9f70-4192-8764-aca5313d6ead",
   "metadata": {},
   "outputs": [
    {
     "data": {
      "text/plain": [
       "[0.0000,\n",
       " 1.0000,\n",
       " 1.4142,\n",
       " 1.7321,\n",
       " 2.0000,\n",
       " 2.2361,\n",
       " 2.4495,\n",
       " 2.6458,\n",
       " 2.8284,\n",
       " 3.0000]"
      ]
     },
     "execution_count": 8,
     "metadata": {},
     "output_type": "execute_result"
    }
   ],
   "source": [
    "[i**0.5 for i in range(10)]"
   ]
  },
  {
   "cell_type": "code",
   "execution_count": 9,
   "id": "e106335c-ff1f-4e07-b35d-3dffa6b73356",
   "metadata": {},
   "outputs": [
    {
     "data": {
      "text/plain": [
       "2.0000"
      ]
     },
     "execution_count": 9,
     "metadata": {},
     "output_type": "execute_result"
    }
   ],
   "source": [
    "np.sqrt(4)"
   ]
  },
  {
   "cell_type": "code",
   "execution_count": 10,
   "id": "2b18d352-761c-44ed-b5ed-7b49d52ff5a0",
   "metadata": {},
   "outputs": [
    {
     "data": {
      "text/plain": [
       "array([0.    , 1.    , 1.4142, 1.7321, 2.    , 2.2361, 2.4495, 2.6458,\n",
       "       2.8284, 3.    ])"
      ]
     },
     "execution_count": 10,
     "metadata": {},
     "output_type": "execute_result"
    }
   ],
   "source": [
    "np.sqrt(np.arange(10))"
   ]
  },
  {
   "cell_type": "markdown",
   "id": "a41cb278-6626-4ed2-b412-2c3ea110ee99",
   "metadata": {},
   "source": [
    "### Indexing and Slicing"
   ]
  },
  {
   "cell_type": "markdown",
   "id": "f4cc31e7-1015-4a40-8fc4-0ceefa1dec59",
   "metadata": {},
   "source": [
    "Indexing and slicing are techniques to access or modify specific elements or subsets of an array. NumPy also supports advanced indexing methods, such as fancy indexing and boolean indexing, which allow more flexible and complex selection of array elements."
   ]
  },
  {
   "cell_type": "code",
   "execution_count": 11,
   "id": "803d1861-8280-4302-a61d-2daa1dcffc7f",
   "metadata": {},
   "outputs": [
    {
     "data": {
      "text/plain": [
       "array([[ 0.4967, -0.1383,  0.6477],\n",
       "       [ 1.523 , -0.2342, -0.2341],\n",
       "       [ 1.5792,  0.7674, -0.4695]])"
      ]
     },
     "execution_count": 11,
     "metadata": {},
     "output_type": "execute_result"
    }
   ],
   "source": [
    "np.random.seed(42)\n",
    "my_array = np.random.randn(3, 3)\n",
    "\n",
    "my_array"
   ]
  },
  {
   "cell_type": "code",
   "execution_count": 12,
   "id": "ebeba18d-618a-4e6c-bd63-359c498b515f",
   "metadata": {},
   "outputs": [
    {
     "data": {
      "text/plain": [
       "array([ 0.4967, -0.1383,  0.6477])"
      ]
     },
     "execution_count": 12,
     "metadata": {},
     "output_type": "execute_result"
    }
   ],
   "source": [
    "my_array[0] # indexes first array in array of arrays"
   ]
  },
  {
   "cell_type": "code",
   "execution_count": 13,
   "id": "03a0a295-5cea-473f-bfd7-1fa0eca5fbf1",
   "metadata": {},
   "outputs": [
    {
     "data": {
      "text/plain": [
       "0.4967"
      ]
     },
     "execution_count": 13,
     "metadata": {},
     "output_type": "execute_result"
    }
   ],
   "source": [
    "my_array[0][0] # indexes first element in first array in array of arrays"
   ]
  },
  {
   "cell_type": "markdown",
   "id": "150cbd12-ad5a-44cc-ac79-0750b71604e2",
   "metadata": {},
   "source": [
    "In NumPy, we typically replace the chained `[i][j]` notation with the `[i, j]` from linear algebra class."
   ]
  },
  {
   "cell_type": "code",
   "execution_count": 14,
   "id": "f80a0290-978d-4109-a030-c410c7f120b4",
   "metadata": {},
   "outputs": [
    {
     "data": {
      "text/plain": [
       "0.4967"
      ]
     },
     "execution_count": 14,
     "metadata": {},
     "output_type": "execute_result"
    }
   ],
   "source": [
    "my_array[0, 0]"
   ]
  },
  {
   "cell_type": "code",
   "execution_count": 15,
   "id": "34736fbb-e709-4776-8a4b-985dab7a0104",
   "metadata": {},
   "outputs": [
    {
     "data": {
      "text/plain": [
       "array([[ 0.4967, -0.1383],\n",
       "       [ 1.523 , -0.2342]])"
      ]
     },
     "execution_count": 15,
     "metadata": {},
     "output_type": "execute_result"
    }
   ],
   "source": [
    "my_array[:2, :2]"
   ]
  },
  {
   "cell_type": "markdown",
   "id": "e74f334a-49b9-4dc3-a2ee-d87a514b1ee5",
   "metadata": {},
   "source": [
    "## Practice"
   ]
  },
  {
   "cell_type": "markdown",
   "id": "bd998b0b-6cb1-45c7-adec-48bb1fc62f9f",
   "metadata": {
    "tags": []
   },
   "source": [
    "### Create a 1-dimensional array named `a1` that counts from 0 to 24 by 1."
   ]
  },
  {
   "cell_type": "code",
   "execution_count": 16,
   "id": "0886d810-7074-4025-9677-f8cccb524405",
   "metadata": {},
   "outputs": [
    {
     "data": {
      "text/plain": [
       "array([ 0,  1,  2,  3,  4,  5,  6,  7,  8,  9, 10, 11, 12, 13, 14, 15, 16,\n",
       "       17, 18, 19, 20, 21, 22, 23, 24])"
      ]
     },
     "execution_count": 16,
     "metadata": {},
     "output_type": "execute_result"
    }
   ],
   "source": [
    "a1 = np.arange(25)\n",
    "\n",
    "a1"
   ]
  },
  {
   "cell_type": "code",
   "execution_count": 17,
   "id": "fd5a85d5-2112-44bc-8c77-656355d22b3d",
   "metadata": {},
   "outputs": [
    {
     "data": {
      "text/plain": [
       "1"
      ]
     },
     "execution_count": 17,
     "metadata": {},
     "output_type": "execute_result"
    }
   ],
   "source": [
    "a1.ndim"
   ]
  },
  {
   "cell_type": "code",
   "execution_count": 18,
   "id": "4b4d0e30-8150-485a-90f3-3f6d75ab2ecf",
   "metadata": {},
   "outputs": [
    {
     "data": {
      "text/plain": [
       "dtype('int32')"
      ]
     },
     "execution_count": 18,
     "metadata": {},
     "output_type": "execute_result"
    }
   ],
   "source": [
    "a1.dtype"
   ]
  },
  {
   "cell_type": "markdown",
   "id": "2bf711fc-5690-42ed-bfa8-5788b2af1320",
   "metadata": {},
   "source": [
    "### Create a 1-dimentional array named `a2` that counts from 0 to 24 by 3."
   ]
  },
  {
   "cell_type": "code",
   "execution_count": 19,
   "id": "57bf907e-eef5-4ef2-862c-c1fdbe94fd9a",
   "metadata": {},
   "outputs": [
    {
     "data": {
      "text/plain": [
       "array([ 0,  3,  6,  9, 12, 15, 18, 21, 24])"
      ]
     },
     "execution_count": 19,
     "metadata": {},
     "output_type": "execute_result"
    }
   ],
   "source": [
    "a2 = np.arange(0, 25, 3)\n",
    "\n",
    "a2"
   ]
  },
  {
   "cell_type": "markdown",
   "id": "ca4c0603-53bc-41e4-8be4-234b5d223033",
   "metadata": {},
   "source": [
    "### Create a 1-dimentional array named `a3` that counts from 0 to 100 by multiples of 3 or 5."
   ]
  },
  {
   "cell_type": "code",
   "execution_count": 20,
   "id": "43c48f60-7d4e-47aa-ad2b-cc9855f5466c",
   "metadata": {},
   "outputs": [
    {
     "data": {
      "text/plain": [
       "array([  0,   3,   5,   6,   9,  10,  12,  15,  18,  20,  21,  24,  25,\n",
       "        27,  30,  33,  35,  36,  39,  40,  42,  45,  48,  50,  51,  54,\n",
       "        55,  57,  60,  63,  65,  66,  69,  70,  72,  75,  78,  80,  81,\n",
       "        84,  85,  87,  90,  93,  95,  96,  99, 100])"
      ]
     },
     "execution_count": 20,
     "metadata": {},
     "output_type": "execute_result"
    }
   ],
   "source": [
    "a3 = np.array([i for i in range(101) if (i%3==0) or (i%5==0)]) # core Python allows \"or\" or \"|\"\n",
    "\n",
    "a3"
   ]
  },
  {
   "cell_type": "code",
   "execution_count": 21,
   "id": "79c38273-3cf8-48d9-bf42-3af71c991c4d",
   "metadata": {},
   "outputs": [
    {
     "data": {
      "text/plain": [
       "1"
      ]
     },
     "execution_count": 21,
     "metadata": {},
     "output_type": "execute_result"
    }
   ],
   "source": [
    "a3.ndim"
   ]
  },
  {
   "cell_type": "code",
   "execution_count": 22,
   "id": "81878a99-ab32-46b0-9f7b-5f6f3951e8f3",
   "metadata": {},
   "outputs": [
    {
     "data": {
      "text/plain": [
       "array([  0,   3,   5,   6,   9,  10,  12,  15,  18,  20,  21,  24,  25,\n",
       "        27,  30,  33,  35,  36,  39,  40,  42,  45,  48,  50,  51,  54,\n",
       "        55,  57,  60,  63,  65,  66,  69,  70,  72,  75,  78,  80,  81,\n",
       "        84,  85,  87,  90,  93,  95,  96,  99, 100])"
      ]
     },
     "execution_count": 22,
     "metadata": {},
     "output_type": "execute_result"
    }
   ],
   "source": [
    "a3_alt = np.arange(101)\n",
    "a3_alt = a3_alt[(a3_alt%3==0) | (a3_alt%5==0)] # NumPy does not allow \"or\", only \"|\"\n",
    "\n",
    "a3_alt"
   ]
  },
  {
   "cell_type": "markdown",
   "id": "8cf6be7e-aee5-4b57-88a4-8f3e03f91101",
   "metadata": {},
   "source": [
    "How can we test if `a3` and `a3_alt` have the same values?"
   ]
  },
  {
   "cell_type": "markdown",
   "id": "0d0befad-0aaf-4701-9e72-e1105d4d32b8",
   "metadata": {},
   "source": [
    "The `==` operators tests is NumPy arrays are the same, element by element.\n",
    "We can append the `.all()` to make sure all element-by-element comparisons are `True`!"
   ]
  },
  {
   "cell_type": "code",
   "execution_count": 23,
   "id": "137c2c3a-e9b6-4964-82c9-c5e10a89a2cb",
   "metadata": {},
   "outputs": [
    {
     "data": {
      "text/plain": [
       "True"
      ]
     },
     "execution_count": 23,
     "metadata": {},
     "output_type": "execute_result"
    }
   ],
   "source": [
    "(a3 == a3_alt).all()"
   ]
  },
  {
   "cell_type": "markdown",
   "id": "044e92e1-20ae-45ac-938d-3b227d771b21",
   "metadata": {},
   "source": [
    "if we want to compare within some tolerance, we can use `np.allclose()`."
   ]
  },
  {
   "cell_type": "code",
   "execution_count": 24,
   "id": "1341b9c8-235b-44f9-bc9b-c28e065dfb66",
   "metadata": {},
   "outputs": [
    {
     "data": {
      "text/plain": [
       "True"
      ]
     },
     "execution_count": 24,
     "metadata": {},
     "output_type": "execute_result"
    }
   ],
   "source": [
    "np.allclose(a3, a3_alt)"
   ]
  },
  {
   "cell_type": "markdown",
   "id": "49d3174e-3d57-40b9-8094-fde330901fff",
   "metadata": {},
   "source": [
    "---\n",
    "\n",
    "Minor detour for another example!\n",
    "How do I slice values greater than 5 in an array from 0 to 9?"
   ]
  },
  {
   "cell_type": "code",
   "execution_count": 25,
   "id": "0273fc8f-93f4-4713-a9fb-5eb2d0090cf2",
   "metadata": {},
   "outputs": [
    {
     "data": {
      "text/plain": [
       "array([6, 7, 8, 9])"
      ]
     },
     "execution_count": 25,
     "metadata": {},
     "output_type": "execute_result"
    }
   ],
   "source": [
    "ten = np.arange(10)\n",
    "gt_five = ten[ten > 5]\n",
    "\n",
    "gt_five"
   ]
  },
  {
   "cell_type": "markdown",
   "id": "af48024e-6dd9-4969-a246-e87276225c3a",
   "metadata": {},
   "source": [
    "---"
   ]
  },
  {
   "cell_type": "markdown",
   "id": "5d8094be-53ca-4fce-a493-e8ba05051e9a",
   "metadata": {},
   "source": [
    "### Create a 1-dimensional array `a3` that contains the squares of the even integers through 100,000."
   ]
  },
  {
   "cell_type": "markdown",
   "id": "c85459e5-1871-46c6-a682-3de73a5241ca",
   "metadata": {},
   "source": [
    "How much faster is the NumPy version than the list comprehension version?"
   ]
  },
  {
   "cell_type": "code",
   "execution_count": 26,
   "id": "02d4440b-aae9-4ac2-a221-87afc57ae607",
   "metadata": {},
   "outputs": [
    {
     "data": {
      "text/plain": [
       "array([         0,          4,         16, ..., 1409265424, 1409665412,\n",
       "       1410065408])"
      ]
     },
     "execution_count": 26,
     "metadata": {},
     "output_type": "execute_result"
    }
   ],
   "source": [
    "np.arange(0, 100_001, 2)**2"
   ]
  },
  {
   "cell_type": "markdown",
   "id": "a4bb3c6b-4335-47e3-b897-98270dbfeeb7",
   "metadata": {},
   "source": [
    "On some computers, the output above is wrong because NumPy defaults to 32-bit integers, depending on the computer!\n",
    "***Always check your output!***\n",
    "To avoid this problem, we can force `np.arange()` to use 64-bit integers with the `dtype=` argument."
   ]
  },
  {
   "cell_type": "code",
   "execution_count": 27,
   "id": "b701d3cd-8cfb-4c3e-b9ef-04f24cf0e93f",
   "metadata": {},
   "outputs": [
    {
     "data": {
      "text/plain": [
       "array([          0,           4,          16, ...,  9999200016,\n",
       "        9999600004, 10000000000], dtype=int64)"
      ]
     },
     "execution_count": 27,
     "metadata": {},
     "output_type": "execute_result"
    }
   ],
   "source": [
    "np.arange(0, 100_001, 2, dtype=np.int64)**2"
   ]
  },
  {
   "cell_type": "markdown",
   "id": "db1ce324-0086-4baf-9443-2d3bae1099a6",
   "metadata": {},
   "source": [
    "We can use the `%timeit` magic to time which code is faster!\n",
    "The `%timeit` magic runs the code on the same line many times and reports the mean computation time.\n",
    "The `%%timet` magic with two percent signs runs the code in the same cell many times and reports the mean computation time."
   ]
  },
  {
   "cell_type": "code",
   "execution_count": 28,
   "id": "6c09bd3e-4eb9-4467-a3b4-96fb4d51b9a4",
   "metadata": {},
   "outputs": [
    {
     "name": "stdout",
     "output_type": "stream",
     "text": [
      "56.8 µs ± 5.99 µs per loop (mean ± std. dev. of 7 runs, 10,000 loops each)\n"
     ]
    }
   ],
   "source": [
    "%timeit np.arange(0, 100_001, 2, dtype=np.int64)**2"
   ]
  },
  {
   "cell_type": "code",
   "execution_count": 29,
   "id": "a6f92fc6-3040-4705-86f2-448ba2f107a6",
   "metadata": {},
   "outputs": [
    {
     "name": "stdout",
     "output_type": "stream",
     "text": [
      "17.4 ms ± 1.43 ms per loop (mean ± std. dev. of 7 runs, 100 loops each)\n"
     ]
    }
   ],
   "source": [
    "%timeit np.array([i**2 for i in range(0, 100_001)])"
   ]
  },
  {
   "cell_type": "markdown",
   "id": "0afe900d-1c49-4340-98ee-e6eeb93020cb",
   "metadata": {},
   "source": [
    "The NumPy version is about 1,000 times faster!"
   ]
  },
  {
   "cell_type": "markdown",
   "id": "daa77654-df00-4f92-8b4e-158b62e27c0e",
   "metadata": {},
   "source": [
    "### Write a function that mimic Excel's `pv` function."
   ]
  },
  {
   "cell_type": "markdown",
   "id": "5a8bf648-ccfb-4569-a13f-4a8929efa3a2",
   "metadata": {},
   "source": [
    "Here is how we call Excel's `pv` function:\n",
    "`=PV(rate, nper, pmt, [fv], [type])`\n",
    "We can use the annuity and lump sum present value formulas.\n",
    "\n",
    "Present value of an annuity payment `pmt`:\n",
    "$PV_{pmt} = \\frac{pmt}{rate} \\times \\left(1 - \\frac{1}{(1+rate)^{nper}} \\right)$\n",
    "\n",
    "Present value of a lump sum `fv`:\n",
    "$PV_{fv} = \\frac{fv}{(1+rate)^{nper}}$"
   ]
  },
  {
   "cell_type": "code",
   "execution_count": 30,
   "id": "4e7937ab-576d-4c33-9f05-3039ab5d85c4",
   "metadata": {},
   "outputs": [],
   "source": [
    "def pv(rate, nper, pmt=None, fv=None, type=None):\n",
    "    if pmt is None:\n",
    "        pmt = 0\n",
    "    if fv is None:\n",
    "        fv = 0\n",
    "    if type is None:\n",
    "        type = 'END'\n",
    "    \n",
    "    pv_pmt = (pmt / rate) * (1 - 1 / (1 + rate)**nper)\n",
    "    pv_fv = fv / (1 + rate)**nper\n",
    "    pv = pv_pmt + pv_fv\n",
    "\n",
    "    if type == 'BGN':\n",
    "        pv *= (1 + rate) # same as pv = pv*(1 + rate)\n",
    "    \n",
    "    return -1 * pv"
   ]
  },
  {
   "cell_type": "code",
   "execution_count": 31,
   "id": "e20a4aac-8f08-43d4-b4ab-f94f24feb113",
   "metadata": {},
   "outputs": [
    {
     "data": {
      "text/plain": [
       "-505.0680"
      ]
     },
     "execution_count": 31,
     "metadata": {},
     "output_type": "execute_result"
    }
   ],
   "source": [
    "pv(rate = 0.05, nper = 14, fv = 1_000, type = 'END')"
   ]
  },
  {
   "cell_type": "code",
   "execution_count": 32,
   "id": "de6db561-644b-474a-b7f8-5e4c7117a033",
   "metadata": {},
   "outputs": [
    {
     "data": {
      "text/plain": [
       "125"
      ]
     },
     "execution_count": 32,
     "metadata": {},
     "output_type": "execute_result"
    }
   ],
   "source": [
    "a = 5\n",
    "a*= 5\n",
    "a*= 5\n",
    "a"
   ]
  },
  {
   "cell_type": "markdown",
   "id": "99aab945-099d-48fb-8390-71fca4b22c2e",
   "metadata": {},
   "source": [
    "### Write a function that mimic Excel's `fv` function."
   ]
  },
  {
   "cell_type": "markdown",
   "id": "9c479549-c910-4bf6-843c-f263d81520e5",
   "metadata": {},
   "source": [
    "### Replace the negative values in `data` with -1 and positive values with +1."
   ]
  },
  {
   "cell_type": "code",
   "execution_count": 33,
   "id": "e98dc508-db40-43d0-95a7-b5b3a36a34b2",
   "metadata": {},
   "outputs": [
    {
     "data": {
      "text/plain": [
       "array([[ 0.4967, -0.1383,  0.6477,  1.523 , -0.2342, -0.2341,  1.5792],\n",
       "       [ 0.7674, -0.4695,  0.5426, -0.4634, -0.4657,  0.242 , -1.9133],\n",
       "       [-1.7249, -0.5623, -1.0128,  0.3142, -0.908 , -1.4123,  1.4656],\n",
       "       [-0.2258,  0.0675, -1.4247, -0.5444,  0.1109, -1.151 ,  0.3757],\n",
       "       [-0.6006, -0.2917, -0.6017,  1.8523, -0.0135, -1.0577,  0.8225],\n",
       "       [-1.2208,  0.2089, -1.9597, -1.3282,  0.1969,  0.7385,  0.1714],\n",
       "       [-0.1156, -0.3011, -1.4785, -0.7198, -0.4606,  1.0571,  0.3436]])"
      ]
     },
     "execution_count": 33,
     "metadata": {},
     "output_type": "execute_result"
    }
   ],
   "source": [
    "np.random.seed(42)\n",
    "data = np.random.randn(7, 7)\n",
    "data"
   ]
  },
  {
   "cell_type": "markdown",
   "id": "784da531-3f16-4afd-b0bb-0d800c116540",
   "metadata": {},
   "source": [
    "### Write a function `npmts()` that calculates the number of payments that generate $x\\%$ of the present value of a perpetuity."
   ]
  },
  {
   "cell_type": "markdown",
   "id": "d275e333-9bcf-463b-a39d-9ea8a2eade3e",
   "metadata": {},
   "source": [
    "Your `npmts()` should accept arguments `c1`, `r`, and `g` that represent  $C_1$, $r$, and $g$.\n",
    "The present value of a growing perpetuity is $PV = \\frac{C_1}{r - g}$, and the present value of a growing annuity is $PV = \\frac{C_1}{r - g}\\left[ 1 - \\left( \\frac{1 + g}{1 + r} \\right)^t \\right]$."
   ]
  },
  {
   "cell_type": "markdown",
   "id": "c350c919-5358-414c-a106-ca845a1149ff",
   "metadata": {},
   "source": [
    "### Write a function that calculates the internal rate of return given a NumPy array of cash flows."
   ]
  },
  {
   "cell_type": "markdown",
   "id": "3bbc1ce3-1962-469e-bc58-f8c13b512961",
   "metadata": {},
   "source": [
    "### Write a function `returns()` that accepts *NumPy arrays* of prices and dividends and returns a *NumPy array* of returns."
   ]
  },
  {
   "cell_type": "code",
   "execution_count": 34,
   "id": "a0cddc6d-6efd-40b5-8747-aba48243558f",
   "metadata": {},
   "outputs": [],
   "source": [
    "prices = np.array([100, 150, 100, 50, 100, 150, 100, 150])\n",
    "dividends = np.array([1, 1, 1, 1, 2, 2, 2, 2])"
   ]
  },
  {
   "cell_type": "markdown",
   "id": "31b6c657-3164-46a0-9160-7c868714c76b",
   "metadata": {},
   "source": [
    "### Rewrite the function `returns()` so it returns *NumPy arrays* of returns, capital gains yields, and dividend yields."
   ]
  },
  {
   "cell_type": "markdown",
   "id": "d8bd7ca3-163d-4283-89bd-3902139b42a8",
   "metadata": {},
   "source": [
    "### Rescale and shift numbers so that they cover the range [0, 1]"
   ]
  },
  {
   "cell_type": "markdown",
   "id": "fadb2aee-d90a-4493-bfbb-d6b5b85fa829",
   "metadata": {},
   "source": [
    "Input: `np.array([18.5, 17.0, 18.0, 19.0, 18.0])` \\\n",
    "Output: `np.array([0.75, 0.0, 0.5, 1.0, 0.5])`"
   ]
  },
  {
   "cell_type": "code",
   "execution_count": 35,
   "id": "73c96365-d699-4762-b87a-f4f9f68643a1",
   "metadata": {},
   "outputs": [],
   "source": [
    "numbers = np.array([18.5, 17.0, 18.0, 19.0, 18.0])"
   ]
  },
  {
   "cell_type": "markdown",
   "id": "b2840013-143b-4c27-842b-737269192f17",
   "metadata": {},
   "source": [
    "### Write functions `var()` and `std()` that calculate variance and standard deviation."
   ]
  },
  {
   "cell_type": "markdown",
   "id": "892d8f7d-c891-42fc-877c-d2dee982200d",
   "metadata": {},
   "source": [
    "NumPy's `.var()` and `.std()` methods return *population* statistics (i.e., denominators of $n$).\n",
    "The pandas equivalents return *sample* statistics (denominators of $n-1$), which are more appropriate for financial data analysis where we have a sample instead of a population.\n",
    "\n",
    "\n",
    "Both function should have an argument `sample` that is `True` by default so both functions return sample statistics by default.\n",
    "\n",
    "Use the output of `returns()` to compare your functions with NumPy's `.var()` and `.std()` methods."
   ]
  }
 ],
 "metadata": {
  "author": "Richard Herron",
  "kernelspec": {
   "display_name": "Python 3 (ipykernel)",
   "language": "python",
   "name": "python3"
  },
  "language_info": {
   "codemirror_mode": {
    "name": "ipython",
    "version": 3
   },
   "file_extension": ".py",
   "mimetype": "text/x-python",
   "name": "python",
   "nbconvert_exporter": "python",
   "pygments_lexer": "ipython3",
   "version": "3.12.1"
  },
  "title": "McKinney Chapter 4 - Practice"
 },
 "nbformat": 4,
 "nbformat_minor": 5
}
