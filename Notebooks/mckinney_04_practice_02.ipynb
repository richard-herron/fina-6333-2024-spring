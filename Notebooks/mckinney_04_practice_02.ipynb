{
 "cells": [
  {
   "cell_type": "markdown",
   "id": "dd06e180-4b25-481d-86df-1dc7ef1982c2",
   "metadata": {},
   "source": [
    "# McKinney Chapter 4 - Practice for Section 02"
   ]
  },
  {
   "cell_type": "markdown",
   "id": "7f3fc1cd-437b-46ba-835f-e11cdec6bb90",
   "metadata": {},
   "source": [
    "## Announcements"
   ]
  },
  {
   "cell_type": "markdown",
   "id": "08bf374d-b4db-4a38-9a27-491d084b880b",
   "metadata": {},
   "source": [
    "1. Our second DataCamp course, *Intermediate Python*, is due Friday, 1/26, at 11:59 PM\n",
    "2. I will record our week 4 lecture video on McKinney chapter 5 this Thursday evening, and the week 4 pre-class quiz is due before class next Tuesday, 1/30\n",
    "3. Team projects\n",
    "   1. Continue to join teams on Canvas > People > Team Projects\n",
    "   2. I removed the join-a-team assignment, but I will give the first project assignment in early February, so join a team by then"
   ]
  },
  {
   "cell_type": "markdown",
   "id": "096f3c1f-16b5-4f18-8ab5-5e8bb068bf68",
   "metadata": {},
   "source": [
    "## 10-minute Recap"
   ]
  },
  {
   "cell_type": "markdown",
   "id": "97974d57-e5ab-4ff4-babf-d2c53dbc1244",
   "metadata": {},
   "source": [
    "### NumPy Arrays"
   ]
  },
  {
   "cell_type": "markdown",
   "id": "3a9e5dee-5337-4196-b18c-d9b884ac5f06",
   "metadata": {},
   "source": [
    "NumPy arrays are multidimensional data structures that can store numerical data efficiently and perform fast mathematical operations on them.\r",
    "The `%precision` magic displays floats (including in arrays) to 4 digits."
   ]
  },
  {
   "cell_type": "markdown",
   "id": "7768946c",
   "metadata": {},
   "source": [
    "NumPy arrays are multidimensional data structures that can store numerical data efficiently and perform fast mathematical operations on them.\r"
   ]
  },
  {
   "cell_type": "code",
   "execution_count": 1,
   "id": "df72269f-49b1-4934-8c5e-488ef5779464",
   "metadata": {},
   "outputs": [
    {
     "name": "stdout",
     "output_type": "stream",
     "text": [
      "The Zen of Python, by Tim Peters\n",
      "\n",
      "Beautiful is better than ugly.\n",
      "Explicit is better than implicit.\n",
      "Simple is better than complex.\n",
      "Complex is better than complicated.\n",
      "Flat is better than nested.\n",
      "Sparse is better than dense.\n",
      "Readability counts.\n",
      "Special cases aren't special enough to break the rules.\n",
      "Although practicality beats purity.\n",
      "Errors should never pass silently.\n",
      "Unless explicitly silenced.\n",
      "In the face of ambiguity, refuse the temptation to guess.\n",
      "There should be one-- and preferably only one --obvious way to do it.\n",
      "Although that way may not be obvious at first unless you're Dutch.\n",
      "Now is better than never.\n",
      "Although never is often better than *right* now.\n",
      "If the implementation is hard to explain, it's a bad idea.\n",
      "If the implementation is easy to explain, it may be a good idea.\n",
      "Namespaces are one honking great idea -- let's do more of those!\n"
     ]
    }
   ],
   "source": [
    "import this"
   ]
  },
  {
   "cell_type": "code",
   "execution_count": 2,
   "id": "f6a0a383-9b93-466a-9e31-bf906a3d49d4",
   "metadata": {},
   "outputs": [
    {
     "data": {
      "text/plain": [
       "'%.4f'"
      ]
     },
     "execution_count": 2,
     "metadata": {},
     "output_type": "execute_result"
    }
   ],
   "source": [
    "import numpy as np\n",
    "%precision 4"
   ]
  },
  {
   "cell_type": "code",
   "execution_count": 3,
   "id": "40de4195-64a6-432d-b7ee-735ef7144e17",
   "metadata": {},
   "outputs": [
    {
     "data": {
      "text/plain": [
       "array([0, 1, 2, 3, 4, 5, 6, 7, 8, 9])"
      ]
     },
     "execution_count": 3,
     "metadata": {},
     "output_type": "execute_result"
    }
   ],
   "source": [
    "np.arange(10)"
   ]
  },
  {
   "cell_type": "code",
   "execution_count": 4,
   "id": "8d74a8cd-82df-470f-9be7-77390494281b",
   "metadata": {},
   "outputs": [
    {
     "data": {
      "text/plain": [
       "array([1., 1., 1., 1., 1., 1., 1., 1., 1., 1.])"
      ]
     },
     "execution_count": 4,
     "metadata": {},
     "output_type": "execute_result"
    }
   ],
   "source": [
    "np.ones(10)"
   ]
  },
  {
   "cell_type": "code",
   "execution_count": 5,
   "id": "a0f72e6c-b82e-4fbe-a68a-25680f5c681e",
   "metadata": {},
   "outputs": [
    {
     "data": {
      "text/plain": [
       "array([[1., 1.],\n",
       "       [1., 1.]])"
      ]
     },
     "execution_count": 5,
     "metadata": {},
     "output_type": "execute_result"
    }
   ],
   "source": [
    "np.ones((2, 2)) # 2 rows and 2 columns"
   ]
  },
  {
   "cell_type": "code",
   "execution_count": 6,
   "id": "bcf7f93a-4d0b-48b2-a13a-5d463b0c92b8",
   "metadata": {},
   "outputs": [
    {
     "data": {
      "text/plain": [
       "array([[[[1., 1.],\n",
       "         [1., 1.]],\n",
       "\n",
       "        [[1., 1.],\n",
       "         [1., 1.]]],\n",
       "\n",
       "\n",
       "       [[[1., 1.],\n",
       "         [1., 1.]],\n",
       "\n",
       "        [[1., 1.],\n",
       "         [1., 1.]]]])"
      ]
     },
     "execution_count": 6,
     "metadata": {},
     "output_type": "execute_result"
    }
   ],
   "source": [
    "np.ones((2, 2, 2, 2)) # 2 rows, 2 columns, 2 stacks, 2 times"
   ]
  },
  {
   "cell_type": "markdown",
   "id": "f194f1ee-5d0f-4fe1-9bee-1ce9755fa71b",
   "metadata": {},
   "source": [
    "The `np.random.rand()` function creates standard normal random variables (i.e., mean of 0 and standard deviation of 1).\n",
    "We generally use the `np.random.seed()` function to make our random numbers repeatable."
   ]
  },
  {
   "cell_type": "code",
   "execution_count": 7,
   "id": "752b28b5-8022-4671-b89a-37189a8453c9",
   "metadata": {},
   "outputs": [
    {
     "data": {
      "text/plain": [
       "array([[ 0.4967, -0.1383],\n",
       "       [ 0.6477,  1.523 ]])"
      ]
     },
     "execution_count": 7,
     "metadata": {},
     "output_type": "execute_result"
    }
   ],
   "source": [
    "np.random.seed(42) # from the *Hitch-Hiker's Guide to the Galaxy*\n",
    "np.random.randn(2, 2)"
   ]
  },
  {
   "cell_type": "markdown",
   "id": "599b30a8-ce7f-4265-9070-a39e0cec68fd",
   "metadata": {},
   "source": [
    "### Vectorized Functions"
   ]
  },
  {
   "cell_type": "markdown",
   "id": "cb66a001-0dfa-4b85-895f-9461ff06db43",
   "metadata": {},
   "source": [
    "Vectorized computation is the process of applying an operation to an entire array or a subset of an array without using explicit loops. NumPy supports vectorized computation using universal functions (ufuncs), which are functions that operate on arrays element-wise.\r"
   ]
  },
  {
   "cell_type": "code",
   "execution_count": 8,
   "id": "49c1d4a1-c4b8-4695-ac98-0af2fb6420fe",
   "metadata": {},
   "outputs": [
    {
     "data": {
      "text/plain": [
       "2.0000"
      ]
     },
     "execution_count": 8,
     "metadata": {},
     "output_type": "execute_result"
    }
   ],
   "source": [
    "4**0.5"
   ]
  },
  {
   "cell_type": "code",
   "execution_count": 9,
   "id": "2701d9f9-9b9b-4fff-b692-efd051bebf7d",
   "metadata": {},
   "outputs": [
    {
     "data": {
      "text/plain": [
       "[0.0000,\n",
       " 1.0000,\n",
       " 1.4142,\n",
       " 1.7321,\n",
       " 2.0000,\n",
       " 2.2361,\n",
       " 2.4495,\n",
       " 2.6458,\n",
       " 2.8284,\n",
       " 3.0000]"
      ]
     },
     "execution_count": 9,
     "metadata": {},
     "output_type": "execute_result"
    }
   ],
   "source": [
    "[i**0.5 for i in range(10)]"
   ]
  },
  {
   "cell_type": "code",
   "execution_count": 10,
   "id": "aa0b124c-83b3-4291-ab02-a33876f1189b",
   "metadata": {},
   "outputs": [
    {
     "data": {
      "text/plain": [
       "array([0.    , 1.    , 1.4142, 1.7321, 2.    , 2.2361, 2.4495, 2.6458,\n",
       "       2.8284, 3.    ])"
      ]
     },
     "execution_count": 10,
     "metadata": {},
     "output_type": "execute_result"
    }
   ],
   "source": [
    "np.sqrt(np.arange(10))"
   ]
  },
  {
   "cell_type": "markdown",
   "id": "a41cb278-6626-4ed2-b412-2c3ea110ee99",
   "metadata": {},
   "source": [
    "### Indexing and Slicing"
   ]
  },
  {
   "cell_type": "markdown",
   "id": "f4cc31e7-1015-4a40-8fc4-0ceefa1dec59",
   "metadata": {},
   "source": [
    "Indexing and slicing are techniques to access or modify specific elements or subsets of an array. NumPy also supports advanced indexing methods, such as fancy indexing and boolean indexing, which allow more flexible and complex selection of array elements."
   ]
  },
  {
   "cell_type": "code",
   "execution_count": 11,
   "id": "8ae1e9c0-026c-4b3b-9fa1-921b0d6ff586",
   "metadata": {},
   "outputs": [
    {
     "data": {
      "text/plain": [
       "array([[ 0.4967, -0.1383,  0.6477],\n",
       "       [ 1.523 , -0.2342, -0.2341],\n",
       "       [ 1.5792,  0.7674, -0.4695]])"
      ]
     },
     "execution_count": 11,
     "metadata": {},
     "output_type": "execute_result"
    }
   ],
   "source": [
    "np.random.seed(42)\n",
    "my_array = np.random.randn(3, 3)\n",
    "\n",
    "my_array"
   ]
  },
  {
   "cell_type": "markdown",
   "id": "e966707e-0394-4f05-b0af-41ccd3e9bdd7",
   "metadata": {},
   "source": [
    "How can we get the first row in `my_array`?"
   ]
  },
  {
   "cell_type": "code",
   "execution_count": 12,
   "id": "f9471da0-1ea9-4555-b0bd-7ae0e08eb9f6",
   "metadata": {},
   "outputs": [
    {
     "data": {
      "text/plain": [
       "array([ 0.4967, -0.1383,  0.6477])"
      ]
     },
     "execution_count": 12,
     "metadata": {},
     "output_type": "execute_result"
    }
   ],
   "source": [
    "my_array[0]"
   ]
  },
  {
   "cell_type": "markdown",
   "id": "60cd5d52-c5af-4615-8567-829d07764e43",
   "metadata": {},
   "source": [
    "How can we get the 0.4967?\n",
    "Chain the `[0]` indexes."
   ]
  },
  {
   "cell_type": "code",
   "execution_count": 13,
   "id": "cbb369bd-b597-4014-a5be-5c106a83f61c",
   "metadata": {},
   "outputs": [
    {
     "data": {
      "text/plain": [
       "0.4967"
      ]
     },
     "execution_count": 13,
     "metadata": {},
     "output_type": "execute_result"
    }
   ],
   "source": [
    "my_array[0][0]"
   ]
  },
  {
   "cell_type": "markdown",
   "id": "feabb877-f0d7-4f52-944f-476c8b9018ae",
   "metadata": {},
   "source": [
    "This indexing is common enough, the we can replace `[0][0]` with `[0, 0]`, which is $i, j$ notation."
   ]
  },
  {
   "cell_type": "code",
   "execution_count": 14,
   "id": "197c4fb0-4ca6-49b2-99bb-58ec9c30645d",
   "metadata": {},
   "outputs": [
    {
     "data": {
      "text/plain": [
       "0.4967"
      ]
     },
     "execution_count": 14,
     "metadata": {},
     "output_type": "execute_result"
    }
   ],
   "source": [
    "my_array[0, 0]"
   ]
  },
  {
   "cell_type": "markdown",
   "id": "a06bd757-a125-4c75-bec8-3cf381a513fc",
   "metadata": {},
   "source": [
    "What if we want the first two columns of the first two rows?"
   ]
  },
  {
   "cell_type": "code",
   "execution_count": 15,
   "id": "7fb8f7a7-3f39-4ac3-a462-e249490114e9",
   "metadata": {},
   "outputs": [
    {
     "data": {
      "text/plain": [
       "array([[ 0.4967, -0.1383],\n",
       "       [ 1.523 , -0.2342]])"
      ]
     },
     "execution_count": 15,
     "metadata": {},
     "output_type": "execute_result"
    }
   ],
   "source": [
    "my_array[:2, :2]"
   ]
  },
  {
   "cell_type": "markdown",
   "id": "e74f334a-49b9-4dc3-a2ee-d87a514b1ee5",
   "metadata": {},
   "source": [
    "## Practice"
   ]
  },
  {
   "cell_type": "markdown",
   "id": "bd998b0b-6cb1-45c7-adec-48bb1fc62f9f",
   "metadata": {
    "tags": []
   },
   "source": [
    "### Create a 1-dimensional array named `a1` that counts from 0 to 24 by 1."
   ]
  },
  {
   "cell_type": "code",
   "execution_count": 16,
   "id": "12722d05-3261-4c81-8d46-9ac72c50561a",
   "metadata": {},
   "outputs": [
    {
     "data": {
      "text/plain": [
       "array([ 0,  1,  2,  3,  4,  5,  6,  7,  8,  9, 10, 11, 12, 13, 14, 15, 16,\n",
       "       17, 18, 19, 20, 21, 22, 23, 24])"
      ]
     },
     "execution_count": 16,
     "metadata": {},
     "output_type": "execute_result"
    }
   ],
   "source": [
    "a1 = np.arange(25)\n",
    "\n",
    "a1"
   ]
  },
  {
   "cell_type": "markdown",
   "id": "eae4d829-1eed-40a4-8b4c-00c2527da55a",
   "metadata": {},
   "source": [
    "Here, `np.arange()` replaces `np.array()`, `list()`, and `range()`!"
   ]
  },
  {
   "cell_type": "code",
   "execution_count": 17,
   "id": "3eb091ad-15ec-44fa-b4aa-f56e57eabd3a",
   "metadata": {},
   "outputs": [
    {
     "data": {
      "text/plain": [
       "array([ 0,  1,  2,  3,  4,  5,  6,  7,  8,  9, 10, 11, 12, 13, 14, 15, 16,\n",
       "       17, 18, 19, 20, 21, 22, 23, 24])"
      ]
     },
     "execution_count": 17,
     "metadata": {},
     "output_type": "execute_result"
    }
   ],
   "source": [
    "np.array(list(range(25)))"
   ]
  },
  {
   "cell_type": "markdown",
   "id": "2bf711fc-5690-42ed-bfa8-5788b2af1320",
   "metadata": {},
   "source": [
    "### Create a 1-dimentional array named `a2` that counts from 0 to 24 by 3."
   ]
  },
  {
   "cell_type": "code",
   "execution_count": 18,
   "id": "ef971cbb-cf3f-4295-91d9-31c19f5974af",
   "metadata": {},
   "outputs": [
    {
     "data": {
      "text/plain": [
       "array([ 0,  3,  6,  9, 12, 15, 18, 21, 24])"
      ]
     },
     "execution_count": 18,
     "metadata": {},
     "output_type": "execute_result"
    }
   ],
   "source": [
    "a2 = np.arange(0, 25, 3) # start, stop, step size\n",
    "\n",
    "a2"
   ]
  },
  {
   "cell_type": "markdown",
   "id": "ca4c0603-53bc-41e4-8be4-234b5d223033",
   "metadata": {},
   "source": [
    "### Create a 1-dimentional array named `a3` that counts from 0 to 100 by multiples of 3 or 5."
   ]
  },
  {
   "cell_type": "code",
   "execution_count": 19,
   "id": "45804cbf-a2e1-492d-9e8f-d7b7bac417f6",
   "metadata": {},
   "outputs": [
    {
     "data": {
      "text/plain": [
       "array([  0,   3,   5,   6,   9,  10,  12,  15,  18,  20,  21,  24,  25,\n",
       "        27,  30,  33,  35,  36,  39,  40,  42,  45,  48,  50,  51,  54,\n",
       "        55,  57,  60,  63,  65,  66,  69,  70,  72,  75,  78,  80,  81,\n",
       "        84,  85,  87,  90,  93,  95,  96,  99, 100])"
      ]
     },
     "execution_count": 19,
     "metadata": {},
     "output_type": "execute_result"
    }
   ],
   "source": [
    "a3 = np.array([i for i in range(101) if (i%3==0) or (i%5==0)]) # here we could replace \"or\" with \"|\"\n",
    "\n",
    "a3"
   ]
  },
  {
   "cell_type": "markdown",
   "id": "f81371db-9a9d-4943-b890-1b51c0f050fe",
   "metadata": {},
   "source": [
    "We can also use Booleans to slice the output of `np.arange(101)`."
   ]
  },
  {
   "cell_type": "code",
   "execution_count": 20,
   "id": "f6b275c7-e618-47e6-8a63-0db490498521",
   "metadata": {},
   "outputs": [
    {
     "data": {
      "text/plain": [
       "array([  0,   3,   5,   6,   9,  10,  12,  15,  18,  20,  21,  24,  25,\n",
       "        27,  30,  33,  35,  36,  39,  40,  42,  45,  48,  50,  51,  54,\n",
       "        55,  57,  60,  63,  65,  66,  69,  70,  72,  75,  78,  80,  81,\n",
       "        84,  85,  87,  90,  93,  95,  96,  99, 100])"
      ]
     },
     "execution_count": 20,
     "metadata": {},
     "output_type": "execute_result"
    }
   ],
   "source": [
    "a3_alt = np.arange(101)\n",
    "a3_alt = a3_alt[ (a3_alt%3==0) | (a3_alt%5==0) ]\n",
    "\n",
    "a3_alt"
   ]
  },
  {
   "cell_type": "code",
   "execution_count": 21,
   "id": "78843a11-7612-42f1-b136-dae45098730a",
   "metadata": {},
   "outputs": [
    {
     "data": {
      "text/plain": [
       "True"
      ]
     },
     "execution_count": 21,
     "metadata": {},
     "output_type": "execute_result"
    }
   ],
   "source": [
    "(a3 == a3_alt).all()"
   ]
  },
  {
   "cell_type": "markdown",
   "id": "b8f6318f-1034-4b99-bd3c-00b9923a62e3",
   "metadata": {},
   "source": [
    "The `np.allclose()` functions helps us test equality with some non-zero tolerance.\n",
    "More later in the class!"
   ]
  },
  {
   "cell_type": "code",
   "execution_count": 22,
   "id": "cf08fa16-11fe-42a1-bd57-27466787eb3d",
   "metadata": {},
   "outputs": [
    {
     "data": {
      "text/plain": [
       "True"
      ]
     },
     "execution_count": 22,
     "metadata": {},
     "output_type": "execute_result"
    }
   ],
   "source": [
    "np.allclose(a3, a3_alt)"
   ]
  },
  {
   "cell_type": "code",
   "execution_count": 23,
   "id": "d2f9b9cc-7207-4e0f-8a55-b3fa829e58cc",
   "metadata": {},
   "outputs": [
    {
     "data": {
      "text/plain": [
       "False"
      ]
     },
     "execution_count": 23,
     "metadata": {},
     "output_type": "execute_result"
    }
   ],
   "source": [
    "(a3 == 1.000001*a3_alt).all()"
   ]
  },
  {
   "cell_type": "code",
   "execution_count": 24,
   "id": "b259934c-46f8-4cb5-a295-74df40c5dbb0",
   "metadata": {},
   "outputs": [
    {
     "data": {
      "text/plain": [
       "True"
      ]
     },
     "execution_count": 24,
     "metadata": {},
     "output_type": "execute_result"
    }
   ],
   "source": [
    "np.allclose(a3, 1.000001*a3_alt)"
   ]
  },
  {
   "cell_type": "markdown",
   "id": "5d8094be-53ca-4fce-a493-e8ba05051e9a",
   "metadata": {},
   "source": [
    "### Create a 1-dimensional array `a3` that contains the squares of the even integers through 100,000."
   ]
  },
  {
   "cell_type": "markdown",
   "id": "c85459e5-1871-46c6-a682-3de73a5241ca",
   "metadata": {},
   "source": [
    "How much faster is the NumPy version than the list comprehension version?"
   ]
  },
  {
   "cell_type": "code",
   "execution_count": 25,
   "id": "02d4440b-aae9-4ac2-a221-87afc57ae607",
   "metadata": {},
   "outputs": [
    {
     "data": {
      "text/plain": [
       "array([         0,          4,         16, ..., 1409265424, 1409665412,\n",
       "       1410065408])"
      ]
     },
     "execution_count": 25,
     "metadata": {},
     "output_type": "execute_result"
    }
   ],
   "source": [
    "np.arange(0, 100_001, 2)**2"
   ]
  },
  {
   "cell_type": "markdown",
   "id": "a4bb3c6b-4335-47e3-b897-98270dbfeeb7",
   "metadata": {},
   "source": [
    "On some computers, the output above is wrong because NumPy defaults to 32-bit integers, depending on the computer!\n",
    "***Always check your output!***\n",
    "To avoid this problem, we can force `np.arange()` to use 64-bit integers with the `dtype=` argument."
   ]
  },
  {
   "cell_type": "code",
   "execution_count": 26,
   "id": "b701d3cd-8cfb-4c3e-b9ef-04f24cf0e93f",
   "metadata": {},
   "outputs": [
    {
     "data": {
      "text/plain": [
       "array([          0,           4,          16, ...,  9999200016,\n",
       "        9999600004, 10000000000], dtype=int64)"
      ]
     },
     "execution_count": 26,
     "metadata": {},
     "output_type": "execute_result"
    }
   ],
   "source": [
    "np.arange(0, 100_001, 2, dtype=np.int64)**2"
   ]
  },
  {
   "cell_type": "markdown",
   "id": "db1ce324-0086-4baf-9443-2d3bae1099a6",
   "metadata": {},
   "source": [
    "We can use the `%timeit` magic to time which code is faster!\n",
    "The `%timeit` magic runs the code on the same line many times and reports the mean computation time.\n",
    "The `%%timet` magic with two percent signs runs the code in the same cell many times and reports the mean computation time."
   ]
  },
  {
   "cell_type": "code",
   "execution_count": 27,
   "id": "6c09bd3e-4eb9-4467-a3b4-96fb4d51b9a4",
   "metadata": {},
   "outputs": [
    {
     "name": "stdout",
     "output_type": "stream",
     "text": [
      "32.5 µs ± 3.41 µs per loop (mean ± std. dev. of 7 runs, 10,000 loops each)\n"
     ]
    }
   ],
   "source": [
    "%timeit np.arange(0, 100_001, 2, dtype=np.int64)**2"
   ]
  },
  {
   "cell_type": "code",
   "execution_count": 28,
   "id": "a6f92fc6-3040-4705-86f2-448ba2f107a6",
   "metadata": {},
   "outputs": [
    {
     "name": "stdout",
     "output_type": "stream",
     "text": [
      "13.1 ms ± 700 µs per loop (mean ± std. dev. of 7 runs, 100 loops each)\n"
     ]
    }
   ],
   "source": [
    "%timeit np.array([i**2 for i in range(0, 100_001)])"
   ]
  },
  {
   "cell_type": "markdown",
   "id": "0afe900d-1c49-4340-98ee-e6eeb93020cb",
   "metadata": {},
   "source": [
    "The NumPy version is about 1,000 times faster!"
   ]
  },
  {
   "cell_type": "markdown",
   "id": "daa77654-df00-4f92-8b4e-158b62e27c0e",
   "metadata": {},
   "source": [
    "### Write a function that mimic Excel's `pv` function."
   ]
  },
  {
   "cell_type": "markdown",
   "id": "408f1902-f1a2-4645-b2bc-0c7f4a1a1a87",
   "metadata": {},
   "source": [
    "Here is how we call Excel's `pv` function:\n",
    "`=PV(rate, nper, pmt, [fv], [type])`\n",
    "We can use the annuity and lump sum present value formulas.\n",
    "\n",
    "Present value of an annuity payment `pmt`:\n",
    "$PV_{pmt} = \\frac{pmt}{rate} \\times \\left(1 - \\frac{1}{(1+rate)^{nper}} \\right)$\n",
    "\n",
    "Present value of a lump sum `fv`:\n",
    "$PV_{fv} = \\frac{fv}{(1+rate)^{nper}}$"
   ]
  },
  {
   "cell_type": "code",
   "execution_count": 29,
   "id": "4e7937ab-576d-4c33-9f05-3039ab5d85c4",
   "metadata": {},
   "outputs": [],
   "source": [
    "def calc_pv(rate, nper, pmt=None, fv=None, type=None):\n",
    "    if pmt is None:\n",
    "        pmt = 0\n",
    "    if fv is None:\n",
    "        fv = 0\n",
    "    if type is None:\n",
    "        type = 'END'\n",
    "    \n",
    "    pv_pmt = (pmt / rate) * (1 - 1 / (1 + rate)**nper)\n",
    "    pv_fv = fv / (1 + rate)**nper\n",
    "    pv = pv_pmt + pv_fv\n",
    "\n",
    "    if type == 'BGN':\n",
    "        pv *= (1 + rate) # same as pv = pv*(1 + rate)\n",
    "    \n",
    "    return -1 * pv"
   ]
  },
  {
   "cell_type": "code",
   "execution_count": 30,
   "id": "e20a4aac-8f08-43d4-b4ab-f94f24feb113",
   "metadata": {},
   "outputs": [
    {
     "data": {
      "text/plain": [
       "-1000.0000"
      ]
     },
     "execution_count": 30,
     "metadata": {},
     "output_type": "execute_result"
    }
   ],
   "source": [
    "calc_pv(rate=0.05, nper=14, pmt=50, fv=1_000, type='END')"
   ]
  },
  {
   "cell_type": "code",
   "execution_count": 31,
   "id": "bbc23e7f-5bc1-49b9-b374-094974c2a05f",
   "metadata": {},
   "outputs": [
    {
     "data": {
      "text/plain": [
       "-505.0680"
      ]
     },
     "execution_count": 31,
     "metadata": {},
     "output_type": "execute_result"
    }
   ],
   "source": [
    "calc_pv(rate=0.05, nper=14, fv=1_000, type='END')"
   ]
  },
  {
   "cell_type": "code",
   "execution_count": 32,
   "id": "de6db561-644b-474a-b7f8-5e4c7117a033",
   "metadata": {},
   "outputs": [
    {
     "data": {
      "text/plain": [
       "125"
      ]
     },
     "execution_count": 32,
     "metadata": {},
     "output_type": "execute_result"
    }
   ],
   "source": [
    "a = 5\n",
    "a*= 5\n",
    "a*= 5\n",
    "a"
   ]
  },
  {
   "cell_type": "markdown",
   "id": "99aab945-099d-48fb-8390-71fca4b22c2e",
   "metadata": {},
   "source": [
    "### Write a function that mimic Excel's `fv` function."
   ]
  },
  {
   "cell_type": "code",
   "execution_count": 33,
   "id": "3a321ee9-7568-4940-92ab-4097504c7265",
   "metadata": {},
   "outputs": [],
   "source": [
    "def calc_fv(rate, nper, pmt=None, pv=None, type=None):\n",
    "    if pmt is None:\n",
    "        pmt = 0\n",
    "    if pv is None:\n",
    "        pv = 0\n",
    "    if type is None:\n",
    "        type = 'END'\n",
    "    \n",
    "    fv_pmt = (pmt / rate) * ((1 + rate)**nper - 1)\n",
    "    fv_pv = pv * (1 + rate)**nper\n",
    "    fv = fv_pmt + fv_pv\n",
    "\n",
    "    if type == 'BGN':\n",
    "        fv *= (1 + rate) # same as pv = pv*(1 + rate)\n",
    "    \n",
    "    return -1 * fv"
   ]
  },
  {
   "cell_type": "code",
   "execution_count": 34,
   "id": "0c4c7c93-902e-4f1c-a1f1-c5fe8f79461d",
   "metadata": {},
   "outputs": [
    {
     "data": {
      "text/plain": [
       "2004.2314"
      ]
     },
     "execution_count": 34,
     "metadata": {},
     "output_type": "execute_result"
    }
   ],
   "source": [
    "calc_fv(rate=0.072, nper=10, pv=-1000)"
   ]
  },
  {
   "cell_type": "code",
   "execution_count": 35,
   "id": "503f056a-5c29-437c-bba5-872d1696447a",
   "metadata": {},
   "outputs": [
    {
     "data": {
      "text/plain": [
       "1000.0000"
      ]
     },
     "execution_count": 35,
     "metadata": {},
     "output_type": "execute_result"
    }
   ],
   "source": [
    "calc_fv(rate=0.072, nper=10, pmt=72, pv=-1000)"
   ]
  },
  {
   "cell_type": "markdown",
   "id": "9c479549-c910-4bf6-843c-f263d81520e5",
   "metadata": {},
   "source": [
    "### Replace the negative values in `data` with -1 and positive values with +1."
   ]
  },
  {
   "cell_type": "code",
   "execution_count": 36,
   "id": "e98dc508-db40-43d0-95a7-b5b3a36a34b2",
   "metadata": {},
   "outputs": [
    {
     "data": {
      "text/plain": [
       "array([[ 0.4967, -0.1383,  0.6477],\n",
       "       [ 1.523 , -0.2342, -0.2341],\n",
       "       [ 1.5792,  0.7674, -0.4695]])"
      ]
     },
     "execution_count": 36,
     "metadata": {},
     "output_type": "execute_result"
    }
   ],
   "source": [
    "np.random.seed(42)\n",
    "data = np.random.randn(3, 3)\n",
    "data"
   ]
  },
  {
   "cell_type": "code",
   "execution_count": 37,
   "id": "c046c62e-5169-43d3-a3ac-1a4769923b2e",
   "metadata": {},
   "outputs": [
    {
     "data": {
      "text/plain": [
       "array([[ 1., -1.,  1.],\n",
       "       [ 1., -1., -1.],\n",
       "       [ 1.,  1., -1.]])"
      ]
     },
     "execution_count": 37,
     "metadata": {},
     "output_type": "execute_result"
    }
   ],
   "source": [
    "data[data < 0] = -1\n",
    "data[data > 0] = +1\n",
    "data"
   ]
  },
  {
   "cell_type": "markdown",
   "id": "f14f9979-ec40-4dd0-b11e-51daafa64ff0",
   "metadata": {},
   "source": [
    "***Here is a second option!***\n",
    "NumPy's `np.where()` function has the same logic as Excel's `if()` function!\n",
    "I will recreate `data` so we start from the same point."
   ]
  },
  {
   "cell_type": "code",
   "execution_count": 38,
   "id": "943e9abe-4804-4336-b078-7878306bc794",
   "metadata": {},
   "outputs": [
    {
     "data": {
      "text/plain": [
       "array([[ 1, -1,  1],\n",
       "       [ 1, -1, -1],\n",
       "       [ 1,  1, -1]])"
      ]
     },
     "execution_count": 38,
     "metadata": {},
     "output_type": "execute_result"
    }
   ],
   "source": [
    "np.random.seed(42)\n",
    "data = np.random.randn(3, 3)\n",
    "data_where = np.where(data < 0, -1, np.where(data > 0, +1, 0))\n",
    "data_where"
   ]
  },
  {
   "cell_type": "markdown",
   "id": "4539a224-49be-4cba-aec4-d8ba076c14de",
   "metadata": {},
   "source": [
    "***Here is a third option!***\n",
    "NumPy's `np.select()` function lets us test *many* conditions!\n",
    "I will recreate `data` so we start from the same point."
   ]
  },
  {
   "cell_type": "code",
   "execution_count": 39,
   "id": "8a8d16e2-56c8-4d7f-a0b9-0babbdc633fc",
   "metadata": {},
   "outputs": [
    {
     "data": {
      "text/plain": [
       "array([[ 1, -1,  1],\n",
       "       [ 1, -1, -1],\n",
       "       [ 1,  1, -1]])"
      ]
     },
     "execution_count": 39,
     "metadata": {},
     "output_type": "execute_result"
    }
   ],
   "source": [
    "np.random.seed(42)\n",
    "data = np.random.randn(3, 3)\n",
    "data_select = np.select(\n",
    "    condlist=[data<0, data>0],\n",
    "    choicelist=[-1, +1],\n",
    "    default=0\n",
    ")\n",
    "data_select"
   ]
  },
  {
   "cell_type": "code",
   "execution_count": 40,
   "id": "a4376ce0-8f0c-4f26-bdc0-0a307e3c3743",
   "metadata": {},
   "outputs": [
    {
     "data": {
      "text/plain": [
       "True"
      ]
     },
     "execution_count": 40,
     "metadata": {},
     "output_type": "execute_result"
    }
   ],
   "source": [
    "(data_where == data_select).all()"
   ]
  },
  {
   "attachments": {},
   "cell_type": "markdown",
   "id": "208f1bcc-1717-4b1f-9ff2-4ecd19f860ec",
   "metadata": {},
   "source": [
    "Here is a more complex application of `np.select()`\n",
    "Say, we want to truncate values to be between -0.5 and +0.5."
   ]
  },
  {
   "cell_type": "code",
   "execution_count": 41,
   "id": "bb75e4b9-cf37-48bb-8fd0-0f725ad863f1",
   "metadata": {},
   "outputs": [
    {
     "data": {
      "text/plain": [
       "array([[ 0.4967, -0.1383,  0.6477],\n",
       "       [ 1.523 , -0.2342, -0.2341],\n",
       "       [ 1.5792,  0.7674, -0.4695]])"
      ]
     },
     "execution_count": 41,
     "metadata": {},
     "output_type": "execute_result"
    }
   ],
   "source": [
    "np.random.seed(42)\n",
    "data = np.random.randn(3, 3)\n",
    "data"
   ]
  },
  {
   "cell_type": "code",
   "execution_count": 42,
   "id": "531bf5a9-859d-4cc3-b9ec-71f6d2b7b225",
   "metadata": {},
   "outputs": [
    {
     "data": {
      "text/plain": [
       "array([[ 0.4967, -0.1383,  0.5   ],\n",
       "       [ 0.5   , -0.2342, -0.2341],\n",
       "       [ 0.5   ,  0.5   , -0.4695]])"
      ]
     },
     "execution_count": 42,
     "metadata": {},
     "output_type": "execute_result"
    }
   ],
   "source": [
    "np.select(\n",
    "    condlist=[data<-0.5, data>+0.5],\n",
    "    choicelist=[-0.5, +0.5],\n",
    "    default=data\n",
    ")"
   ]
  },
  {
   "cell_type": "markdown",
   "id": "784da531-3f16-4afd-b0bb-0d800c116540",
   "metadata": {},
   "source": [
    "### Write a function `npmts()` that calculates the number of payments that generate $x\\%$ of the present value of a perpetuity."
   ]
  },
  {
   "cell_type": "markdown",
   "id": "d275e333-9bcf-463b-a39d-9ea8a2eade3e",
   "metadata": {},
   "source": [
    "Your `npmts()` should accept arguments `c1`, `r`, and `g` that represent  $C_1$, $r$, and $g$.\n",
    "The present value of a growing perpetuity is $PV = \\frac{C_1}{r - g}$, and the present value of a growing annuity is $PV = \\frac{C_1}{r - g}\\left[ 1 - \\left( \\frac{1 + g}{1 + r} \\right)^t \\right]$."
   ]
  },
  {
   "cell_type": "markdown",
   "id": "c59bfb72-89d1-45e3-95ca-ab3d038e1da0",
   "metadata": {},
   "source": [
    "We can use the growing annuity and perpetuity formulas to show: $x = \\left[ 1 - \\left( \\frac{1 + g}{1 + r} \\right)^t \\right]$. \n",
    "\n",
    "Then: $1 - x = \\left( \\frac{1 + g}{1 + r} \\right)^t$.\n",
    "\n",
    "Finally: $t = \\frac{\\log(1-x)}{\\log\\left(\\frac{1 + g}{1 + r}\\right)}$\n",
    "\n",
    "***We do not need to accept an argument `c1` because $C_1$ cancels out!***"
   ]
  },
  {
   "cell_type": "code",
   "execution_count": 43,
   "id": "3c9a812c-9514-41d9-8c77-120ae0354bb6",
   "metadata": {},
   "outputs": [],
   "source": [
    "def npmts(x, r, g):\n",
    "    return np.log(1-x) / np.log((1 + g) / (1 + r))"
   ]
  },
  {
   "cell_type": "code",
   "execution_count": 44,
   "id": "d0b69424-ae41-4191-871c-a1c7f8b54d39",
   "metadata": {},
   "outputs": [
    {
     "data": {
      "text/plain": [
       "14.9000"
      ]
     },
     "execution_count": 44,
     "metadata": {},
     "output_type": "execute_result"
    }
   ],
   "source": [
    "npmts(0.5, 0.1, 0.05)"
   ]
  },
  {
   "cell_type": "markdown",
   "id": "c350c919-5358-414c-a106-ca845a1149ff",
   "metadata": {},
   "source": [
    "### Write a function that calculates the internal rate of return given a NumPy array of cash flows."
   ]
  },
  {
   "cell_type": "markdown",
   "id": "c87157ab-b16a-4a3e-8276-b240302d9aea",
   "metadata": {},
   "source": [
    "Here are some data where the $IRR$ is obvious!"
   ]
  },
  {
   "cell_type": "code",
   "execution_count": 45,
   "id": "fa7942a0-afaa-4c28-b54e-296ece65a013",
   "metadata": {},
   "outputs": [],
   "source": [
    "c = np.array([-100, +110])\n",
    "r = 0.1"
   ]
  },
  {
   "cell_type": "markdown",
   "id": "e31d5b16-a56b-46b3-b238-e4fdcddaadbc",
   "metadata": {},
   "source": [
    "First, write a function that calculates net present value (NPV) given cash flows in a NumpPy array `c` and a discount rate in a scalar `r`.\n",
    "The `npv()` function below uses NumPy arrays to calculate NPV as:\n",
    "$$NPV = \\sum_{t=0}^T \\frac{c_t}{(1+r)^t}$$"
   ]
  },
  {
   "cell_type": "code",
   "execution_count": 46,
   "id": "853a751d-7f64-4851-b197-7d391cf4d10c",
   "metadata": {},
   "outputs": [],
   "source": [
    "def calc_npv(r, c):\n",
    "    t = np.arange(len(c))\n",
    "    return (c / (1 + r)**t).sum()"
   ]
  },
  {
   "cell_type": "code",
   "execution_count": 47,
   "id": "8aea4e34-9648-4ec7-979c-92cba2c4c443",
   "metadata": {},
   "outputs": [
    {
     "data": {
      "text/plain": [
       "-0.0000"
      ]
     },
     "execution_count": 47,
     "metadata": {},
     "output_type": "execute_result"
    }
   ],
   "source": [
    "calc_npv(r=r, c=c)"
   ]
  },
  {
   "cell_type": "markdown",
   "id": "6adb4e8a-8908-4695-babf-d83fb1eecebd",
   "metadata": {},
   "source": [
    "We can use a `while` loop to guess IRR values until we find an NPV close to zero.\n",
    "We can use the [Newton-Rapshon method](https://en.wikipedia.org/wiki/Newton%27s_method) to make smarter guesses.\n",
    "If we have function $f(x)$ and guess $x_t$, our next guess should be $x_{t+1} = x_t - \\frac{f(x_t)}{f'(x_t)}$.\n",
    "Here our $f(x)$ is $NPV(r)$, and we can approximate $f'(x_t)$ as $\\frac{NPV(r+0.000001) - NPV(r)}{0.000001}$.\n",
    "We will make guess until $|NPV| < 0.000001$."
   ]
  },
  {
   "cell_type": "code",
   "execution_count": 48,
   "id": "ce94e45a-b251-4866-9e3b-f4067ced0852",
   "metadata": {},
   "outputs": [],
   "source": [
    "def calc_irr(c, guess=0, tol=1e-6, step=1e-6):\n",
    "    irr = guess\n",
    "    npv = calc_npv(r=irr, c=c) # I made this change after class to possibly save us an iteration\n",
    "    while np.abs(npv) > tol:\n",
    "        npv = calc_npv(r=irr, c=c)\n",
    "        deriv = (calc_npv(r=irr+step, c=c) - npv) / step\n",
    "        irr = irr - npv / deriv\n",
    "        # print(f'IRR is {irr}, and NPV is {npv}')\n",
    "    return irr"
   ]
  },
  {
   "cell_type": "code",
   "execution_count": 49,
   "id": "44d923c6-5bf6-4232-bf0c-0efaa129cba0",
   "metadata": {},
   "outputs": [
    {
     "data": {
      "text/plain": [
       "0.1000"
      ]
     },
     "execution_count": 49,
     "metadata": {},
     "output_type": "execute_result"
    }
   ],
   "source": [
    "calc_irr(c)"
   ]
  },
  {
   "cell_type": "markdown",
   "id": "3bbc1ce3-1962-469e-bc58-f8c13b512961",
   "metadata": {},
   "source": [
    "### Write a function `returns()` that accepts *NumPy arrays* of prices and dividends and returns a *NumPy array* of returns."
   ]
  },
  {
   "cell_type": "code",
   "execution_count": 50,
   "id": "a0cddc6d-6efd-40b5-8747-aba48243558f",
   "metadata": {},
   "outputs": [],
   "source": [
    "prices = np.array([100, 150, 100, 50, 100, 150, 100, 150])\n",
    "dividends = np.array([1, 1, 1, 1, 2, 2, 2, 2])"
   ]
  },
  {
   "cell_type": "markdown",
   "id": "3d10d841-089c-4c06-a848-4669d81867ab",
   "metadata": {},
   "source": [
    "We want to slice our arrays to \"lag\" or \"shift\" them!\n",
    "For example, we slice the `prices` array to calculate capital gains as follows."
   ]
  },
  {
   "cell_type": "code",
   "execution_count": 51,
   "id": "ef27ab42-896d-40de-a09a-fd189d3f15d0",
   "metadata": {},
   "outputs": [
    {
     "data": {
      "text/plain": [
       "array([ 50, -50, -50,  50,  50, -50,  50])"
      ]
     },
     "execution_count": 51,
     "metadata": {},
     "output_type": "execute_result"
    }
   ],
   "source": [
    "prices[1:] - prices[:-1]"
   ]
  },
  {
   "cell_type": "code",
   "execution_count": 52,
   "id": "dbd9cc61-e5e2-461d-a1a5-04d05e8c875b",
   "metadata": {},
   "outputs": [],
   "source": [
    "def returns(p, d):\n",
    "    return (p[1:] - p[:-1] + d[1:]) / p[:-1]"
   ]
  },
  {
   "cell_type": "code",
   "execution_count": 53,
   "id": "459035cc-f830-4da2-95f1-c38b2e1f624d",
   "metadata": {},
   "outputs": [
    {
     "data": {
      "text/plain": [
       "array([ 0.51  , -0.3267, -0.49  ,  1.04  ,  0.52  , -0.32  ,  0.52  ])"
      ]
     },
     "execution_count": 53,
     "metadata": {},
     "output_type": "execute_result"
    }
   ],
   "source": [
    "returns(p=prices, d=dividends)"
   ]
  },
  {
   "cell_type": "markdown",
   "id": "31b6c657-3164-46a0-9160-7c868714c76b",
   "metadata": {},
   "source": [
    "### Rewrite the function `returns()` so it returns *NumPy arrays* of returns, capital gains yields, and dividend yields."
   ]
  },
  {
   "cell_type": "code",
   "execution_count": 54,
   "id": "1a497f36-3471-4391-a18b-e6c0d3766c09",
   "metadata": {},
   "outputs": [],
   "source": [
    "def returns_2(p, d):\n",
    "    r = (p[1:] - p[:-1] + d[1:]) / p[:-1]\n",
    "    dp = d[1:] / p[:-1]\n",
    "    cgp = r - dp\n",
    "    return {'r':r, 'dp':dp, 'cgp':cgp}"
   ]
  },
  {
   "cell_type": "code",
   "execution_count": 55,
   "id": "23459fbb-93d1-48b0-a08a-64497d0cae1e",
   "metadata": {},
   "outputs": [
    {
     "data": {
      "text/plain": [
       "{'r': array([ 0.51  , -0.3267, -0.49  ,  1.04  ,  0.52  , -0.32  ,  0.52  ]),\n",
       " 'dp': array([0.01  , 0.0067, 0.01  , 0.04  , 0.02  , 0.0133, 0.02  ]),\n",
       " 'cgp': array([ 0.5   , -0.3333, -0.5   ,  1.    ,  0.5   , -0.3333,  0.5   ])}"
      ]
     },
     "execution_count": 55,
     "metadata": {},
     "output_type": "execute_result"
    }
   ],
   "source": [
    "returns_2(p=prices, d=dividends)"
   ]
  },
  {
   "cell_type": "markdown",
   "id": "d8bd7ca3-163d-4283-89bd-3902139b42a8",
   "metadata": {},
   "source": [
    "### Rescale and shift numbers so that they cover the range [0, 1]"
   ]
  },
  {
   "cell_type": "markdown",
   "id": "fadb2aee-d90a-4493-bfbb-d6b5b85fa829",
   "metadata": {},
   "source": [
    "Input: `np.array([18.5, 17.0, 18.0, 19.0, 18.0])` \\\n",
    "Output: `np.array([0.75, 0.0, 0.5, 1.0, 0.5])`"
   ]
  },
  {
   "cell_type": "code",
   "execution_count": 56,
   "id": "73c96365-d699-4762-b87a-f4f9f68643a1",
   "metadata": {},
   "outputs": [],
   "source": [
    "numbers = np.array([18.5, 17.0, 18.0, 19.0, 18.0])"
   ]
  },
  {
   "cell_type": "code",
   "execution_count": 57,
   "id": "abe3bc74-7ab3-48b7-984f-77abd06e506d",
   "metadata": {},
   "outputs": [
    {
     "data": {
      "text/plain": [
       "array([0.75, 0.  , 0.5 , 1.  , 0.5 ])"
      ]
     },
     "execution_count": 57,
     "metadata": {},
     "output_type": "execute_result"
    }
   ],
   "source": [
    "(numbers - numbers.min()) / (numbers.max() - numbers.min())"
   ]
  },
  {
   "cell_type": "markdown",
   "id": "b2840013-143b-4c27-842b-737269192f17",
   "metadata": {},
   "source": [
    "### Write functions `var()` and `std()` that calculate variance and standard deviation."
   ]
  },
  {
   "cell_type": "markdown",
   "id": "892d8f7d-c891-42fc-877c-d2dee982200d",
   "metadata": {},
   "source": [
    "NumPy's `.var()` and `.std()` methods return *population* statistics (i.e., denominators of $n$).\n",
    "The pandas equivalents return *sample* statistics (denominators of $n-1$), which are more appropriate for financial data analysis where we have a sample instead of a population.\n",
    "\n",
    "\n",
    "Both function should have an argument `sample` that is `True` by default so both functions return sample statistics by default.\n",
    "\n",
    "Use `numbers` to compare your functions with NumPy's `.var()` and `.std()` methods."
   ]
  },
  {
   "cell_type": "code",
   "execution_count": 58,
   "id": "0192c800-dcaf-4362-b889-80e52e084a08",
   "metadata": {},
   "outputs": [
    {
     "data": {
      "text/plain": [
       "0.4400"
      ]
     },
     "execution_count": 58,
     "metadata": {},
     "output_type": "execute_result"
    }
   ],
   "source": [
    "((numbers - numbers.mean())**2).mean()"
   ]
  },
  {
   "cell_type": "code",
   "execution_count": 59,
   "id": "5bde62f3-3758-4d88-aeca-8edc41e407dc",
   "metadata": {},
   "outputs": [
    {
     "data": {
      "text/plain": [
       "0.4400"
      ]
     },
     "execution_count": 59,
     "metadata": {},
     "output_type": "execute_result"
    }
   ],
   "source": [
    "numbers.var()"
   ]
  },
  {
   "cell_type": "code",
   "execution_count": 60,
   "id": "8413211d-fb11-4f0b-8886-0b24be3c5862",
   "metadata": {},
   "outputs": [],
   "source": [
    "def var(x, sample=True):\n",
    "    mu_x = x.mean()\n",
    "    return ((x - mu_x)**2).sum() / (len(x) - sample)"
   ]
  },
  {
   "cell_type": "code",
   "execution_count": 61,
   "id": "9f9df5ab-d15a-4d2f-abcd-e1b55716782f",
   "metadata": {},
   "outputs": [
    {
     "data": {
      "text/plain": [
       "0.5500"
      ]
     },
     "execution_count": 61,
     "metadata": {},
     "output_type": "execute_result"
    }
   ],
   "source": [
    "var(numbers)"
   ]
  },
  {
   "cell_type": "code",
   "execution_count": 62,
   "id": "f9654983-da4c-4245-b2f4-93ce9ea8da77",
   "metadata": {},
   "outputs": [
    {
     "data": {
      "text/plain": [
       "True"
      ]
     },
     "execution_count": 62,
     "metadata": {},
     "output_type": "execute_result"
    }
   ],
   "source": [
    "var(numbers) == numbers.var(ddof=1)"
   ]
  },
  {
   "cell_type": "code",
   "execution_count": 63,
   "id": "40ced1db-7f58-4af1-8e66-8dfdaf5ae2f4",
   "metadata": {},
   "outputs": [
    {
     "data": {
      "text/plain": [
       "0.4400"
      ]
     },
     "execution_count": 63,
     "metadata": {},
     "output_type": "execute_result"
    }
   ],
   "source": [
    "var(numbers, sample=False)"
   ]
  },
  {
   "cell_type": "code",
   "execution_count": 64,
   "id": "cfa739e4-93a4-405a-b4c8-169854acf611",
   "metadata": {},
   "outputs": [
    {
     "data": {
      "text/plain": [
       "True"
      ]
     },
     "execution_count": 64,
     "metadata": {},
     "output_type": "execute_result"
    }
   ],
   "source": [
    "var(numbers, sample=False) == numbers.var()"
   ]
  },
  {
   "cell_type": "code",
   "execution_count": 65,
   "id": "27b3dd83-da25-4ecb-9c40-d6131bdc4c45",
   "metadata": {},
   "outputs": [],
   "source": [
    "def std(x, sample=True):\n",
    "    return np.sqrt(var(x=x, sample=sample))"
   ]
  },
  {
   "cell_type": "code",
   "execution_count": 66,
   "id": "90fb9e96-bcef-4bf7-8540-3e282d6fc0bb",
   "metadata": {},
   "outputs": [
    {
     "data": {
      "text/plain": [
       "0.6633"
      ]
     },
     "execution_count": 66,
     "metadata": {},
     "output_type": "execute_result"
    }
   ],
   "source": [
    "std(numbers, sample=False)"
   ]
  },
  {
   "cell_type": "code",
   "execution_count": 67,
   "id": "c93a0f6f-3328-45d4-9f36-41271a3ad860",
   "metadata": {},
   "outputs": [
    {
     "data": {
      "text/plain": [
       "True"
      ]
     },
     "execution_count": 67,
     "metadata": {},
     "output_type": "execute_result"
    }
   ],
   "source": [
    "std(numbers, sample=False) == numbers.std()"
   ]
  },
  {
   "cell_type": "code",
   "execution_count": 68,
   "id": "5befa1af-494c-4f49-82af-a54844edc2fa",
   "metadata": {},
   "outputs": [
    {
     "data": {
      "text/plain": [
       "0.7416"
      ]
     },
     "execution_count": 68,
     "metadata": {},
     "output_type": "execute_result"
    }
   ],
   "source": [
    "std(numbers)"
   ]
  },
  {
   "cell_type": "code",
   "execution_count": 69,
   "id": "3e69a295-f93d-4dbd-898b-a19b89d9cc01",
   "metadata": {},
   "outputs": [
    {
     "data": {
      "text/plain": [
       "True"
      ]
     },
     "execution_count": 69,
     "metadata": {},
     "output_type": "execute_result"
    }
   ],
   "source": [
    "std(numbers) == numbers.std(ddof=1)"
   ]
  }
 ],
 "metadata": {
  "author": "Richard Herron",
  "kernelspec": {
   "display_name": "Python 3 (ipykernel)",
   "language": "python",
   "name": "python3"
  },
  "language_info": {
   "codemirror_mode": {
    "name": "ipython",
    "version": 3
   },
   "file_extension": ".py",
   "mimetype": "text/x-python",
   "name": "python",
   "nbconvert_exporter": "python",
   "pygments_lexer": "ipython3",
   "version": "3.12.1"
  },
  "title": "McKinney Chapter 4 - Practice"
 },
 "nbformat": 4,
 "nbformat_minor": 5
}
