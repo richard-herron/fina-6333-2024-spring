{
 "cells": [
  {
   "cell_type": "markdown",
   "id": "c1e33842-3bd0-4623-9296-60a1ad2fe57b",
   "metadata": {},
   "source": [
    "# McKinney Chapter 5 - Practice for Section 02"
   ]
  },
  {
   "cell_type": "markdown",
   "id": "f6c08ea9-54c1-4a00-aad3-a20df19c7e97",
   "metadata": {},
   "source": [
    "## Announcements"
   ]
  },
  {
   "cell_type": "markdown",
   "id": "c2111eb4-e490-4d2b-b6a2-9799483cf167",
   "metadata": {},
   "source": [
    "1. No DataCamp this week, but I suggest you keep working on it\n",
    "2. Keep forming groups, and I will post our first project early next week"
   ]
  },
  {
   "cell_type": "markdown",
   "id": "2681779e-e48d-48a5-9d08-75747d97ab0a",
   "metadata": {},
   "source": [
    "## 10-Minute Recap"
   ]
  },
  {
   "cell_type": "code",
   "execution_count": 1,
   "id": "d54495d6-a8aa-4471-a29f-abc4992bf074",
   "metadata": {
    "editable": true
   },
   "outputs": [],
   "source": [
    "import matplotlib.pyplot as plt\n",
    "import numpy as np\n",
    "import pandas as pd\n",
    "import yfinance as yf"
   ]
  },
  {
   "cell_type": "code",
   "execution_count": 2,
   "id": "3fab82cf-ea1a-4e1c-84a6-891b882a534e",
   "metadata": {},
   "outputs": [],
   "source": [
    "%precision 4\n",
    "pd.options.display.float_format = '{:.4f}'.format\n",
    "%config InlineBackend.figure_format = 'retina'"
   ]
  },
  {
   "cell_type": "markdown",
   "id": "c624761a-c1ca-4daa-a3be-2f0e31de5ef1",
   "metadata": {},
   "source": [
    "There are two pandas data structures:\n",
    "\n",
    "1. Data frames are like worksheets in an Excel workbook (2-D, mixed data type)\n",
    "2. Series are like a column in a worksheet (1-D, only one data type)"
   ]
  },
  {
   "cell_type": "code",
   "execution_count": 3,
   "id": "60a254f0-49a7-473f-aadb-902ae508d137",
   "metadata": {},
   "outputs": [
    {
     "data": {
      "text/html": [
       "<div>\n",
       "<style scoped>\n",
       "    .dataframe tbody tr th:only-of-type {\n",
       "        vertical-align: middle;\n",
       "    }\n",
       "\n",
       "    .dataframe tbody tr th {\n",
       "        vertical-align: top;\n",
       "    }\n",
       "\n",
       "    .dataframe thead th {\n",
       "        text-align: right;\n",
       "    }\n",
       "</style>\n",
       "<table border=\"1\" class=\"dataframe\">\n",
       "  <thead>\n",
       "    <tr style=\"text-align: right;\">\n",
       "      <th></th>\n",
       "      <th>a</th>\n",
       "      <th>b</th>\n",
       "      <th>c</th>\n",
       "      <th>d</th>\n",
       "      <th>e</th>\n",
       "    </tr>\n",
       "  </thead>\n",
       "  <tbody>\n",
       "    <tr>\n",
       "      <th>A</th>\n",
       "      <td>0.4967</td>\n",
       "      <td>-0.1383</td>\n",
       "      <td>0.6477</td>\n",
       "      <td>1.5230</td>\n",
       "      <td>-0.2342</td>\n",
       "    </tr>\n",
       "    <tr>\n",
       "      <th>B</th>\n",
       "      <td>-0.2341</td>\n",
       "      <td>1.5792</td>\n",
       "      <td>0.7674</td>\n",
       "      <td>-0.4695</td>\n",
       "      <td>0.5426</td>\n",
       "    </tr>\n",
       "    <tr>\n",
       "      <th>C</th>\n",
       "      <td>-0.4634</td>\n",
       "      <td>-0.4657</td>\n",
       "      <td>0.2420</td>\n",
       "      <td>-1.9133</td>\n",
       "      <td>-1.7249</td>\n",
       "    </tr>\n",
       "  </tbody>\n",
       "</table>\n",
       "</div>"
      ],
      "text/plain": [
       "        a       b      c       d       e\n",
       "A  0.4967 -0.1383 0.6477  1.5230 -0.2342\n",
       "B -0.2341  1.5792 0.7674 -0.4695  0.5426\n",
       "C -0.4634 -0.4657 0.2420 -1.9133 -1.7249"
      ]
     },
     "execution_count": 3,
     "metadata": {},
     "output_type": "execute_result"
    }
   ],
   "source": [
    "np.random.seed(42)\n",
    "df = pd.DataFrame(\n",
    "    data=np.random.randn(3, 5),\n",
    "    index=list('ABC'),\n",
    "    columns=list('abcde')\n",
    ")\n",
    "\n",
    "df"
   ]
  },
  {
   "cell_type": "markdown",
   "id": "3b61188c-f5d5-40bd-89c1-1f11ea0b2ed6",
   "metadata": {},
   "source": [
    "We can slice data frames two ways!\n",
    "\n",
    "1. By integer locations with the `.iloc[]` method\n",
    "2. By row and column names with the `.loc[]` method"
   ]
  },
  {
   "cell_type": "markdown",
   "id": "4d31079b-4753-4b19-b76c-cf41446c3d41",
   "metadata": {},
   "source": [
    "How can we grab the first 2 rows and 3 columns?"
   ]
  },
  {
   "cell_type": "code",
   "execution_count": 4,
   "id": "48ce4af5-db5f-4571-856a-23856f38e865",
   "metadata": {},
   "outputs": [
    {
     "data": {
      "text/html": [
       "<div>\n",
       "<style scoped>\n",
       "    .dataframe tbody tr th:only-of-type {\n",
       "        vertical-align: middle;\n",
       "    }\n",
       "\n",
       "    .dataframe tbody tr th {\n",
       "        vertical-align: top;\n",
       "    }\n",
       "\n",
       "    .dataframe thead th {\n",
       "        text-align: right;\n",
       "    }\n",
       "</style>\n",
       "<table border=\"1\" class=\"dataframe\">\n",
       "  <thead>\n",
       "    <tr style=\"text-align: right;\">\n",
       "      <th></th>\n",
       "      <th>a</th>\n",
       "      <th>b</th>\n",
       "      <th>c</th>\n",
       "    </tr>\n",
       "  </thead>\n",
       "  <tbody>\n",
       "    <tr>\n",
       "      <th>A</th>\n",
       "      <td>0.4967</td>\n",
       "      <td>-0.1383</td>\n",
       "      <td>0.6477</td>\n",
       "    </tr>\n",
       "    <tr>\n",
       "      <th>B</th>\n",
       "      <td>-0.2341</td>\n",
       "      <td>1.5792</td>\n",
       "      <td>0.7674</td>\n",
       "    </tr>\n",
       "  </tbody>\n",
       "</table>\n",
       "</div>"
      ],
      "text/plain": [
       "        a       b      c\n",
       "A  0.4967 -0.1383 0.6477\n",
       "B -0.2341  1.5792 0.7674"
      ]
     },
     "execution_count": 4,
     "metadata": {},
     "output_type": "execute_result"
    }
   ],
   "source": [
    "df.iloc[:2, :3] # pandas .iloc[] uses j,k notation, like NumPy"
   ]
  },
  {
   "cell_type": "markdown",
   "id": "d31340bf-8d35-4ed2-8c32-a631052ca178",
   "metadata": {},
   "source": [
    "***When we slice by names or string, pandas includes both left and right edges!***"
   ]
  },
  {
   "cell_type": "code",
   "execution_count": 5,
   "id": "18e9e84d-04e6-44e6-9252-16e423534b49",
   "metadata": {},
   "outputs": [
    {
     "data": {
      "text/html": [
       "<div>\n",
       "<style scoped>\n",
       "    .dataframe tbody tr th:only-of-type {\n",
       "        vertical-align: middle;\n",
       "    }\n",
       "\n",
       "    .dataframe tbody tr th {\n",
       "        vertical-align: top;\n",
       "    }\n",
       "\n",
       "    .dataframe thead th {\n",
       "        text-align: right;\n",
       "    }\n",
       "</style>\n",
       "<table border=\"1\" class=\"dataframe\">\n",
       "  <thead>\n",
       "    <tr style=\"text-align: right;\">\n",
       "      <th></th>\n",
       "      <th>a</th>\n",
       "      <th>b</th>\n",
       "      <th>c</th>\n",
       "    </tr>\n",
       "  </thead>\n",
       "  <tbody>\n",
       "    <tr>\n",
       "      <th>A</th>\n",
       "      <td>0.4967</td>\n",
       "      <td>-0.1383</td>\n",
       "      <td>0.6477</td>\n",
       "    </tr>\n",
       "    <tr>\n",
       "      <th>B</th>\n",
       "      <td>-0.2341</td>\n",
       "      <td>1.5792</td>\n",
       "      <td>0.7674</td>\n",
       "    </tr>\n",
       "  </tbody>\n",
       "</table>\n",
       "</div>"
      ],
      "text/plain": [
       "        a       b      c\n",
       "A  0.4967 -0.1383 0.6477\n",
       "B -0.2341  1.5792 0.7674"
      ]
     },
     "execution_count": 5,
     "metadata": {},
     "output_type": "execute_result"
    }
   ],
   "source": [
    "df.loc['A':'B', 'a':'c']"
   ]
  },
  {
   "cell_type": "markdown",
   "id": "3c4ed81b-aa38-428d-bb20-e961e339b141",
   "metadata": {},
   "source": [
    "How can we add a column?"
   ]
  },
  {
   "cell_type": "code",
   "execution_count": 6,
   "id": "bf83ef2a-9fbc-4baa-a339-63038c79bfcc",
   "metadata": {},
   "outputs": [
    {
     "data": {
      "text/html": [
       "<div>\n",
       "<style scoped>\n",
       "    .dataframe tbody tr th:only-of-type {\n",
       "        vertical-align: middle;\n",
       "    }\n",
       "\n",
       "    .dataframe tbody tr th {\n",
       "        vertical-align: top;\n",
       "    }\n",
       "\n",
       "    .dataframe thead th {\n",
       "        text-align: right;\n",
       "    }\n",
       "</style>\n",
       "<table border=\"1\" class=\"dataframe\">\n",
       "  <thead>\n",
       "    <tr style=\"text-align: right;\">\n",
       "      <th></th>\n",
       "      <th>a</th>\n",
       "      <th>b</th>\n",
       "      <th>c</th>\n",
       "      <th>d</th>\n",
       "      <th>e</th>\n",
       "      <th>f</th>\n",
       "    </tr>\n",
       "  </thead>\n",
       "  <tbody>\n",
       "    <tr>\n",
       "      <th>A</th>\n",
       "      <td>0.4967</td>\n",
       "      <td>-0.1383</td>\n",
       "      <td>0.6477</td>\n",
       "      <td>1.5230</td>\n",
       "      <td>-0.2342</td>\n",
       "      <td>2001</td>\n",
       "    </tr>\n",
       "    <tr>\n",
       "      <th>B</th>\n",
       "      <td>-0.2341</td>\n",
       "      <td>1.5792</td>\n",
       "      <td>0.7674</td>\n",
       "      <td>-0.4695</td>\n",
       "      <td>0.5426</td>\n",
       "      <td>2001</td>\n",
       "    </tr>\n",
       "    <tr>\n",
       "      <th>C</th>\n",
       "      <td>-0.4634</td>\n",
       "      <td>-0.4657</td>\n",
       "      <td>0.2420</td>\n",
       "      <td>-1.9133</td>\n",
       "      <td>-1.7249</td>\n",
       "      <td>2001</td>\n",
       "    </tr>\n",
       "  </tbody>\n",
       "</table>\n",
       "</div>"
      ],
      "text/plain": [
       "        a       b      c       d       e     f\n",
       "A  0.4967 -0.1383 0.6477  1.5230 -0.2342  2001\n",
       "B -0.2341  1.5792 0.7674 -0.4695  0.5426  2001\n",
       "C -0.4634 -0.4657 0.2420 -1.9133 -1.7249  2001"
      ]
     },
     "execution_count": 6,
     "metadata": {},
     "output_type": "execute_result"
    }
   ],
   "source": [
    "df['f'] = 2_001\n",
    "\n",
    "df"
   ]
  },
  {
   "cell_type": "markdown",
   "id": "06c77127-7d56-4aca-b30c-d2c3e10f3718",
   "metadata": {},
   "source": [
    "What if we want to insert a column between \"b\" and \"c\"?\n",
    "We can use the `.insert()` method!\n",
    "Note. I was surprised the `.insert()` operates \"in place\" without an option to override!"
   ]
  },
  {
   "cell_type": "code",
   "execution_count": 7,
   "id": "163890db-8c2a-4582-a065-d1a4e6ad25fd",
   "metadata": {},
   "outputs": [],
   "source": [
    "df.insert(\n",
    "    loc=2,\n",
    "    column='C',\n",
    "    value=5\n",
    ")"
   ]
  },
  {
   "cell_type": "code",
   "execution_count": 8,
   "id": "b0426ce3-d8d0-4166-a987-918c6ac7b17e",
   "metadata": {},
   "outputs": [
    {
     "data": {
      "text/html": [
       "<div>\n",
       "<style scoped>\n",
       "    .dataframe tbody tr th:only-of-type {\n",
       "        vertical-align: middle;\n",
       "    }\n",
       "\n",
       "    .dataframe tbody tr th {\n",
       "        vertical-align: top;\n",
       "    }\n",
       "\n",
       "    .dataframe thead th {\n",
       "        text-align: right;\n",
       "    }\n",
       "</style>\n",
       "<table border=\"1\" class=\"dataframe\">\n",
       "  <thead>\n",
       "    <tr style=\"text-align: right;\">\n",
       "      <th></th>\n",
       "      <th>a</th>\n",
       "      <th>b</th>\n",
       "      <th>C</th>\n",
       "      <th>c</th>\n",
       "    </tr>\n",
       "  </thead>\n",
       "  <tbody>\n",
       "    <tr>\n",
       "      <th>A</th>\n",
       "      <td>0.4967</td>\n",
       "      <td>-0.1383</td>\n",
       "      <td>5</td>\n",
       "      <td>0.6477</td>\n",
       "    </tr>\n",
       "    <tr>\n",
       "      <th>B</th>\n",
       "      <td>-0.2341</td>\n",
       "      <td>1.5792</td>\n",
       "      <td>5</td>\n",
       "      <td>0.7674</td>\n",
       "    </tr>\n",
       "    <tr>\n",
       "      <th>C</th>\n",
       "      <td>-0.4634</td>\n",
       "      <td>-0.4657</td>\n",
       "      <td>5</td>\n",
       "      <td>0.2420</td>\n",
       "    </tr>\n",
       "  </tbody>\n",
       "</table>\n",
       "</div>"
      ],
      "text/plain": [
       "        a       b  C      c\n",
       "A  0.4967 -0.1383  5 0.6477\n",
       "B -0.2341  1.5792  5 0.7674\n",
       "C -0.4634 -0.4657  5 0.2420"
      ]
     },
     "execution_count": 8,
     "metadata": {},
     "output_type": "execute_result"
    }
   ],
   "source": [
    "df.loc[:, 'a':'c']"
   ]
  },
  {
   "cell_type": "code",
   "execution_count": 9,
   "id": "b730a82f-4c22-490e-b5a9-b98ae38dbdf3",
   "metadata": {},
   "outputs": [
    {
     "data": {
      "text/html": [
       "<div>\n",
       "<style scoped>\n",
       "    .dataframe tbody tr th:only-of-type {\n",
       "        vertical-align: middle;\n",
       "    }\n",
       "\n",
       "    .dataframe tbody tr th {\n",
       "        vertical-align: top;\n",
       "    }\n",
       "\n",
       "    .dataframe thead th {\n",
       "        text-align: right;\n",
       "    }\n",
       "</style>\n",
       "<table border=\"1\" class=\"dataframe\">\n",
       "  <thead>\n",
       "    <tr style=\"text-align: right;\">\n",
       "      <th></th>\n",
       "      <th>a</th>\n",
       "      <th>b</th>\n",
       "      <th>C</th>\n",
       "      <th>c</th>\n",
       "    </tr>\n",
       "  </thead>\n",
       "  <tbody>\n",
       "    <tr>\n",
       "      <th>A</th>\n",
       "      <td>0.4967</td>\n",
       "      <td>-0.1383</td>\n",
       "      <td>5</td>\n",
       "      <td>0.6477</td>\n",
       "    </tr>\n",
       "    <tr>\n",
       "      <th>B</th>\n",
       "      <td>-0.2341</td>\n",
       "      <td>1.5792</td>\n",
       "      <td>5</td>\n",
       "      <td>0.7674</td>\n",
       "    </tr>\n",
       "    <tr>\n",
       "      <th>C</th>\n",
       "      <td>-0.4634</td>\n",
       "      <td>-0.4657</td>\n",
       "      <td>5</td>\n",
       "      <td>0.2420</td>\n",
       "    </tr>\n",
       "  </tbody>\n",
       "</table>\n",
       "</div>"
      ],
      "text/plain": [
       "        a       b  C      c\n",
       "A  0.4967 -0.1383  5 0.6477\n",
       "B -0.2341  1.5792  5 0.7674\n",
       "C -0.4634 -0.4657  5 0.2420"
      ]
     },
     "execution_count": 9,
     "metadata": {},
     "output_type": "execute_result"
    }
   ],
   "source": [
    "df[['a', 'b', 'C', 'c']]"
   ]
  },
  {
   "cell_type": "markdown",
   "id": "030a486f-93be-41f5-8ca7-31c9dcfbe13f",
   "metadata": {},
   "source": [
    "A series is the other data structure in pandas!"
   ]
  },
  {
   "cell_type": "code",
   "execution_count": 10,
   "id": "77671025-11d6-456b-8e43-1d745e00794e",
   "metadata": {},
   "outputs": [
    {
     "data": {
      "text/plain": [
       "B   0.0000\n",
       "C   1.0000\n",
       "dtype: float64"
      ]
     },
     "execution_count": 10,
     "metadata": {},
     "output_type": "execute_result"
    }
   ],
   "source": [
    "ser = pd.Series(data=np.arange(2.), index=['B', 'C'])\n",
    "\n",
    "ser"
   ]
  },
  {
   "cell_type": "code",
   "execution_count": 11,
   "id": "c2556217-05ea-4e31-807c-6371def1bdb4",
   "metadata": {},
   "outputs": [
    {
     "data": {
      "text/html": [
       "<div>\n",
       "<style scoped>\n",
       "    .dataframe tbody tr th:only-of-type {\n",
       "        vertical-align: middle;\n",
       "    }\n",
       "\n",
       "    .dataframe tbody tr th {\n",
       "        vertical-align: top;\n",
       "    }\n",
       "\n",
       "    .dataframe thead th {\n",
       "        text-align: right;\n",
       "    }\n",
       "</style>\n",
       "<table border=\"1\" class=\"dataframe\">\n",
       "  <thead>\n",
       "    <tr style=\"text-align: right;\">\n",
       "      <th></th>\n",
       "      <th>a</th>\n",
       "      <th>b</th>\n",
       "      <th>C</th>\n",
       "      <th>c</th>\n",
       "      <th>d</th>\n",
       "      <th>e</th>\n",
       "      <th>f</th>\n",
       "      <th>g</th>\n",
       "    </tr>\n",
       "  </thead>\n",
       "  <tbody>\n",
       "    <tr>\n",
       "      <th>A</th>\n",
       "      <td>0.4967</td>\n",
       "      <td>-0.1383</td>\n",
       "      <td>5</td>\n",
       "      <td>0.6477</td>\n",
       "      <td>1.5230</td>\n",
       "      <td>-0.2342</td>\n",
       "      <td>2001</td>\n",
       "      <td>NaN</td>\n",
       "    </tr>\n",
       "    <tr>\n",
       "      <th>B</th>\n",
       "      <td>-0.2341</td>\n",
       "      <td>1.5792</td>\n",
       "      <td>5</td>\n",
       "      <td>0.7674</td>\n",
       "      <td>-0.4695</td>\n",
       "      <td>0.5426</td>\n",
       "      <td>2001</td>\n",
       "      <td>0.0000</td>\n",
       "    </tr>\n",
       "    <tr>\n",
       "      <th>C</th>\n",
       "      <td>-0.4634</td>\n",
       "      <td>-0.4657</td>\n",
       "      <td>5</td>\n",
       "      <td>0.2420</td>\n",
       "      <td>-1.9133</td>\n",
       "      <td>-1.7249</td>\n",
       "      <td>2001</td>\n",
       "      <td>1.0000</td>\n",
       "    </tr>\n",
       "  </tbody>\n",
       "</table>\n",
       "</div>"
      ],
      "text/plain": [
       "        a       b  C      c       d       e     f      g\n",
       "A  0.4967 -0.1383  5 0.6477  1.5230 -0.2342  2001    NaN\n",
       "B -0.2341  1.5792  5 0.7674 -0.4695  0.5426  2001 0.0000\n",
       "C -0.4634 -0.4657  5 0.2420 -1.9133 -1.7249  2001 1.0000"
      ]
     },
     "execution_count": 11,
     "metadata": {},
     "output_type": "execute_result"
    }
   ],
   "source": [
    "df['g'] = ser\n",
    "\n",
    "df"
   ]
  },
  {
   "cell_type": "markdown",
   "id": "5e73929c-3629-4433-8111-1a64bd3c52dd",
   "metadata": {},
   "source": [
    "## Practice"
   ]
  },
  {
   "cell_type": "code",
   "execution_count": 12,
   "id": "e9dab0b0-3703-4edf-8d37-ce05df254851",
   "metadata": {},
   "outputs": [
    {
     "name": "stderr",
     "output_type": "stream",
     "text": [
      "[*********************100%%**********************]  4 of 4 completed\n"
     ]
    }
   ],
   "source": [
    "tickers = 'AAPL IBM MSFT GOOG'\n",
    "prices = yf.download(tickers=tickers)"
   ]
  },
  {
   "cell_type": "code",
   "execution_count": 13,
   "id": "92cc18a4-d8b2-4cc4-8e95-8ca6842aab82",
   "metadata": {},
   "outputs": [
    {
     "data": {
      "text/html": [
       "<div>\n",
       "<style scoped>\n",
       "    .dataframe tbody tr th:only-of-type {\n",
       "        vertical-align: middle;\n",
       "    }\n",
       "\n",
       "    .dataframe tbody tr th {\n",
       "        vertical-align: top;\n",
       "    }\n",
       "\n",
       "    .dataframe thead th {\n",
       "        text-align: right;\n",
       "    }\n",
       "</style>\n",
       "<table border=\"1\" class=\"dataframe\">\n",
       "  <thead>\n",
       "    <tr style=\"text-align: right;\">\n",
       "      <th></th>\n",
       "      <th>AAPL</th>\n",
       "      <th>GOOG</th>\n",
       "      <th>IBM</th>\n",
       "      <th>MSFT</th>\n",
       "    </tr>\n",
       "    <tr>\n",
       "      <th>Date</th>\n",
       "      <th></th>\n",
       "      <th></th>\n",
       "      <th></th>\n",
       "      <th></th>\n",
       "    </tr>\n",
       "  </thead>\n",
       "  <tbody>\n",
       "    <tr>\n",
       "      <th>2004-08-20</th>\n",
       "      <td>0.0029</td>\n",
       "      <td>0.0794</td>\n",
       "      <td>0.0042</td>\n",
       "      <td>0.0029</td>\n",
       "    </tr>\n",
       "    <tr>\n",
       "      <th>2004-08-23</th>\n",
       "      <td>0.0091</td>\n",
       "      <td>0.0101</td>\n",
       "      <td>-0.0070</td>\n",
       "      <td>0.0044</td>\n",
       "    </tr>\n",
       "    <tr>\n",
       "      <th>2004-08-24</th>\n",
       "      <td>0.0280</td>\n",
       "      <td>-0.0414</td>\n",
       "      <td>0.0007</td>\n",
       "      <td>0.0000</td>\n",
       "    </tr>\n",
       "    <tr>\n",
       "      <th>2004-08-25</th>\n",
       "      <td>0.0344</td>\n",
       "      <td>0.0108</td>\n",
       "      <td>0.0042</td>\n",
       "      <td>0.0114</td>\n",
       "    </tr>\n",
       "    <tr>\n",
       "      <th>2004-08-26</th>\n",
       "      <td>0.0487</td>\n",
       "      <td>0.0180</td>\n",
       "      <td>-0.0045</td>\n",
       "      <td>-0.0040</td>\n",
       "    </tr>\n",
       "    <tr>\n",
       "      <th>...</th>\n",
       "      <td>...</td>\n",
       "      <td>...</td>\n",
       "      <td>...</td>\n",
       "      <td>...</td>\n",
       "    </tr>\n",
       "    <tr>\n",
       "      <th>2024-01-23</th>\n",
       "      <td>0.0067</td>\n",
       "      <td>0.0066</td>\n",
       "      <td>0.0064</td>\n",
       "      <td>0.0060</td>\n",
       "    </tr>\n",
       "    <tr>\n",
       "      <th>2024-01-24</th>\n",
       "      <td>-0.0035</td>\n",
       "      <td>0.0112</td>\n",
       "      <td>-0.0001</td>\n",
       "      <td>0.0092</td>\n",
       "    </tr>\n",
       "    <tr>\n",
       "      <th>2024-01-25</th>\n",
       "      <td>-0.0017</td>\n",
       "      <td>0.0219</td>\n",
       "      <td>0.0949</td>\n",
       "      <td>0.0057</td>\n",
       "    </tr>\n",
       "    <tr>\n",
       "      <th>2024-01-26</th>\n",
       "      <td>-0.0090</td>\n",
       "      <td>0.0010</td>\n",
       "      <td>-0.0158</td>\n",
       "      <td>-0.0023</td>\n",
       "    </tr>\n",
       "    <tr>\n",
       "      <th>2024-01-29</th>\n",
       "      <td>-0.0036</td>\n",
       "      <td>0.0068</td>\n",
       "      <td>-0.0015</td>\n",
       "      <td>0.0143</td>\n",
       "    </tr>\n",
       "  </tbody>\n",
       "</table>\n",
       "<p>4893 rows × 4 columns</p>\n",
       "</div>"
      ],
      "text/plain": [
       "              AAPL    GOOG     IBM    MSFT\n",
       "Date                                      \n",
       "2004-08-20  0.0029  0.0794  0.0042  0.0029\n",
       "2004-08-23  0.0091  0.0101 -0.0070  0.0044\n",
       "2004-08-24  0.0280 -0.0414  0.0007  0.0000\n",
       "2004-08-25  0.0344  0.0108  0.0042  0.0114\n",
       "2004-08-26  0.0487  0.0180 -0.0045 -0.0040\n",
       "...            ...     ...     ...     ...\n",
       "2024-01-23  0.0067  0.0066  0.0064  0.0060\n",
       "2024-01-24 -0.0035  0.0112 -0.0001  0.0092\n",
       "2024-01-25 -0.0017  0.0219  0.0949  0.0057\n",
       "2024-01-26 -0.0090  0.0010 -0.0158 -0.0023\n",
       "2024-01-29 -0.0036  0.0068 -0.0015  0.0143\n",
       "\n",
       "[4893 rows x 4 columns]"
      ]
     },
     "execution_count": 13,
     "metadata": {},
     "output_type": "execute_result"
    }
   ],
   "source": [
    "returns = (\n",
    "    prices['Adj Close'] # slice adj close column\n",
    "    .iloc[:-1] # drop last row with intra day prices, which are sometimes missing\n",
    "    .pct_change() # calculate returns\n",
    "    .dropna() # drop leading rows with at least one missing value\n",
    ")\n",
    "\n",
    "returns"
   ]
  },
  {
   "cell_type": "code",
   "execution_count": 14,
   "id": "bcaf4a13-3594-44dc-92fa-13593abef3a5",
   "metadata": {},
   "outputs": [
    {
     "data": {
      "text/html": [
       "<div>\n",
       "<style scoped>\n",
       "    .dataframe tbody tr th:only-of-type {\n",
       "        vertical-align: middle;\n",
       "    }\n",
       "\n",
       "    .dataframe tbody tr th {\n",
       "        vertical-align: top;\n",
       "    }\n",
       "\n",
       "    .dataframe thead th {\n",
       "        text-align: right;\n",
       "    }\n",
       "</style>\n",
       "<table border=\"1\" class=\"dataframe\">\n",
       "  <thead>\n",
       "    <tr style=\"text-align: right;\">\n",
       "      <th></th>\n",
       "      <th>AAPL</th>\n",
       "      <th>GOOG</th>\n",
       "      <th>IBM</th>\n",
       "      <th>MSFT</th>\n",
       "    </tr>\n",
       "    <tr>\n",
       "      <th>Date</th>\n",
       "      <th></th>\n",
       "      <th></th>\n",
       "      <th></th>\n",
       "      <th></th>\n",
       "    </tr>\n",
       "  </thead>\n",
       "  <tbody>\n",
       "    <tr>\n",
       "      <th>2004-08-20</th>\n",
       "      <td>0.0029</td>\n",
       "      <td>0.0794</td>\n",
       "      <td>0.0042</td>\n",
       "      <td>0.0029</td>\n",
       "    </tr>\n",
       "    <tr>\n",
       "      <th>2004-08-23</th>\n",
       "      <td>0.0091</td>\n",
       "      <td>0.0101</td>\n",
       "      <td>-0.0070</td>\n",
       "      <td>0.0044</td>\n",
       "    </tr>\n",
       "    <tr>\n",
       "      <th>2004-08-24</th>\n",
       "      <td>0.0280</td>\n",
       "      <td>-0.0414</td>\n",
       "      <td>0.0007</td>\n",
       "      <td>0.0000</td>\n",
       "    </tr>\n",
       "    <tr>\n",
       "      <th>2004-08-25</th>\n",
       "      <td>0.0344</td>\n",
       "      <td>0.0108</td>\n",
       "      <td>0.0042</td>\n",
       "      <td>0.0114</td>\n",
       "    </tr>\n",
       "    <tr>\n",
       "      <th>2004-08-26</th>\n",
       "      <td>0.0487</td>\n",
       "      <td>0.0180</td>\n",
       "      <td>-0.0045</td>\n",
       "      <td>-0.0040</td>\n",
       "    </tr>\n",
       "    <tr>\n",
       "      <th>...</th>\n",
       "      <td>...</td>\n",
       "      <td>...</td>\n",
       "      <td>...</td>\n",
       "      <td>...</td>\n",
       "    </tr>\n",
       "    <tr>\n",
       "      <th>2024-01-24</th>\n",
       "      <td>-0.0035</td>\n",
       "      <td>0.0112</td>\n",
       "      <td>-0.0001</td>\n",
       "      <td>0.0092</td>\n",
       "    </tr>\n",
       "    <tr>\n",
       "      <th>2024-01-25</th>\n",
       "      <td>-0.0017</td>\n",
       "      <td>0.0219</td>\n",
       "      <td>0.0949</td>\n",
       "      <td>0.0057</td>\n",
       "    </tr>\n",
       "    <tr>\n",
       "      <th>2024-01-26</th>\n",
       "      <td>-0.0090</td>\n",
       "      <td>0.0010</td>\n",
       "      <td>-0.0158</td>\n",
       "      <td>-0.0023</td>\n",
       "    </tr>\n",
       "    <tr>\n",
       "      <th>2024-01-29</th>\n",
       "      <td>-0.0036</td>\n",
       "      <td>0.0068</td>\n",
       "      <td>-0.0015</td>\n",
       "      <td>0.0143</td>\n",
       "    </tr>\n",
       "    <tr>\n",
       "      <th>2024-01-30</th>\n",
       "      <td>-0.0192</td>\n",
       "      <td>-0.0116</td>\n",
       "      <td>0.0039</td>\n",
       "      <td>-0.0028</td>\n",
       "    </tr>\n",
       "  </tbody>\n",
       "</table>\n",
       "<p>4894 rows × 4 columns</p>\n",
       "</div>"
      ],
      "text/plain": [
       "              AAPL    GOOG     IBM    MSFT\n",
       "Date                                      \n",
       "2004-08-20  0.0029  0.0794  0.0042  0.0029\n",
       "2004-08-23  0.0091  0.0101 -0.0070  0.0044\n",
       "2004-08-24  0.0280 -0.0414  0.0007  0.0000\n",
       "2004-08-25  0.0344  0.0108  0.0042  0.0114\n",
       "2004-08-26  0.0487  0.0180 -0.0045 -0.0040\n",
       "...            ...     ...     ...     ...\n",
       "2024-01-24 -0.0035  0.0112 -0.0001  0.0092\n",
       "2024-01-25 -0.0017  0.0219  0.0949  0.0057\n",
       "2024-01-26 -0.0090  0.0010 -0.0158 -0.0023\n",
       "2024-01-29 -0.0036  0.0068 -0.0015  0.0143\n",
       "2024-01-30 -0.0192 -0.0116  0.0039 -0.0028\n",
       "\n",
       "[4894 rows x 4 columns]"
      ]
     },
     "execution_count": 14,
     "metadata": {},
     "output_type": "execute_result"
    }
   ],
   "source": [
    "returns = prices['Adj Close'].pct_change().dropna()\n",
    "returns"
   ]
  },
  {
   "cell_type": "markdown",
   "id": "4761cb0f-5db6-409b-822e-f4a354118458",
   "metadata": {},
   "source": [
    "### What are the mean daily returns for these four stocks?"
   ]
  },
  {
   "cell_type": "code",
   "execution_count": 15,
   "id": "af119381-d3ba-4520-aed0-a0d8fd544200",
   "metadata": {},
   "outputs": [
    {
     "data": {
      "text/plain": [
       "AAPL   0.0014\n",
       "GOOG   0.0010\n",
       "IBM    0.0004\n",
       "MSFT   0.0008\n",
       "dtype: float64"
      ]
     },
     "execution_count": 15,
     "metadata": {},
     "output_type": "execute_result"
    }
   ],
   "source": [
    "returns.mean()"
   ]
  },
  {
   "cell_type": "markdown",
   "id": "68c90930-be12-4180-890f-8efda3036400",
   "metadata": {},
   "source": [
    "We if want an equally-weighted portfolio return?\n",
    "We could take the mean of each *row* with `.mean(axis=1)`.\n",
    "The mean is the same as the sum of 0.25 times each of the 4 columns."
   ]
  },
  {
   "cell_type": "code",
   "execution_count": 16,
   "id": "7bbfcf86-6081-491e-96ff-d0ccfede462a",
   "metadata": {},
   "outputs": [
    {
     "data": {
      "text/plain": [
       "Date\n",
       "2004-08-20    0.0224\n",
       "2004-08-23    0.0041\n",
       "2004-08-24   -0.0032\n",
       "2004-08-25    0.0152\n",
       "2004-08-26    0.0146\n",
       "               ...  \n",
       "2024-01-24    0.0042\n",
       "2024-01-25    0.0302\n",
       "2024-01-26   -0.0065\n",
       "2024-01-29    0.0040\n",
       "2024-01-30   -0.0074\n",
       "Length: 4894, dtype: float64"
      ]
     },
     "execution_count": 16,
     "metadata": {},
     "output_type": "execute_result"
    }
   ],
   "source": [
    "returns.mean(axis=1)"
   ]
  },
  {
   "cell_type": "markdown",
   "id": "a98798fa-74f3-4fba-b56e-484e513a62a5",
   "metadata": {},
   "source": [
    "### What are the standard deviations of daily returns for these four stocks?"
   ]
  },
  {
   "cell_type": "code",
   "execution_count": 17,
   "id": "d4ba471f-3324-4882-8062-2231fd4bfbd7",
   "metadata": {},
   "outputs": [
    {
     "data": {
      "text/plain": [
       "AAPL   0.0206\n",
       "GOOG   0.0193\n",
       "IBM    0.0143\n",
       "MSFT   0.0171\n",
       "dtype: float64"
      ]
     },
     "execution_count": 17,
     "metadata": {},
     "output_type": "execute_result"
    }
   ],
   "source": [
    "returns.std()"
   ]
  },
  {
   "cell_type": "markdown",
   "id": "a64ae92c-8ce3-4c4c-80e2-f003db45d167",
   "metadata": {},
   "source": [
    "### What are the *annualized* means and standard deviations of daily returns for these four stocks?"
   ]
  },
  {
   "cell_type": "markdown",
   "id": "d53b2e9d-3f7c-4730-9edb-f6f9b7e73d41",
   "metadata": {},
   "source": [
    "We multiply by $T$ to annualize means, where $T$ is the number of observations per year."
   ]
  },
  {
   "cell_type": "code",
   "execution_count": 18,
   "id": "6d78c95a-8541-4a73-b5ca-539bb5e951d3",
   "metadata": {},
   "outputs": [
    {
     "data": {
      "text/plain": [
       "AAPL   0.3629\n",
       "GOOG   0.2588\n",
       "IBM    0.0983\n",
       "MSFT   0.2008\n",
       "dtype: float64"
      ]
     },
     "execution_count": 18,
     "metadata": {},
     "output_type": "execute_result"
    }
   ],
   "source": [
    "returns.mean().mul(252)"
   ]
  },
  {
   "cell_type": "markdown",
   "id": "90e89334-18e1-42c8-bb05-1e52db98061e",
   "metadata": {},
   "source": [
    "We multiply by $\\sqrt{T}$ to annualize volatilities, where $T$ is the number of observations per year."
   ]
  },
  {
   "cell_type": "code",
   "execution_count": 19,
   "id": "acbee231-e38a-4cb5-ab1f-c408b1390806",
   "metadata": {},
   "outputs": [
    {
     "data": {
      "text/plain": [
       "AAPL   0.3276\n",
       "GOOG   0.3070\n",
       "IBM    0.2271\n",
       "MSFT   0.2721\n",
       "dtype: float64"
      ]
     },
     "execution_count": 19,
     "metadata": {},
     "output_type": "execute_result"
    }
   ],
   "source": [
    "returns.std().mul(np.sqrt(252))"
   ]
  },
  {
   "cell_type": "markdown",
   "id": "38792fcb-86a8-405e-9ca9-0db53ac63bc9",
   "metadata": {},
   "source": [
    "### Plot *annualized* means versus standard deviations of daily returns for these four stocks"
   ]
  },
  {
   "cell_type": "markdown",
   "id": "697e77fc-9eb9-45f8-9a44-1ba88f5a0922",
   "metadata": {},
   "source": [
    "Use `plt.scatter()`, which expects arguments as `x` (standard deviations) then `y` (means)."
   ]
  },
  {
   "cell_type": "code",
   "execution_count": 20,
   "id": "8383188e-977e-4157-928b-15f94600844e",
   "metadata": {},
   "outputs": [
    {
     "data": {
      "image/png": "[encoded data removed]",
      "text/plain": [
       "<Figure size 640x480 with 1 Axes>"
      ]
     },
     "metadata": {
      "image/png": {
       "height": 454,
       "width": 575
      }
     },
     "output_type": "display_data"
    }
   ],
   "source": [
    "vols = returns.std().mul(np.sqrt(252) * 100)\n",
    "means = returns.mean().mul(252 * 100)\n",
    "\n",
    "plt.scatter(\n",
    "    x=vols,\n",
    "    y=means,\n",
    "    c=['red', 'blue', 'green', 'purple']\n",
    ")\n",
    "\n",
    "plt.xlabel('Annualized Volatility of Daily Returns (%)')\n",
    "plt.ylabel('Annualized Mean of Daily Returns (%)')\n",
    "\n",
    "# plt.xlim((0, vols.max() + 5))\n",
    "# plt.ylim((0, means.max() + 5))\n",
    "\n",
    "# add tickers to each point\n",
    "for i in means.index: # loop over ticker index\n",
    "    plt.text( # plots string s at coordinates x and y\n",
    "        x=vols[i], # indexes volatility\n",
    "        y=means[i], # indexes mean return\n",
    "        s=i # ticker index\n",
    "    )\n",
    "\n",
    "plt.title('Returns versus Risk')\n",
    "plt.show() # suppresses output of last function call"
   ]
  },
  {
   "cell_type": "markdown",
   "id": "492661cf-cac9-48fd-b4dc-465fcdf43b8a",
   "metadata": {},
   "source": [
    "### Repeat the previous calculations and plot for the stocks in the Dow-Jones Industrial Index (DJIA)"
   ]
  },
  {
   "cell_type": "markdown",
   "id": "f2726b01-2512-4b22-bca2-82ee1e5741a5",
   "metadata": {},
   "source": [
    "We can find the current DJIA stocks on [Wikipedia](https://en.wikipedia.org/wiki/Dow_Jones_Industrial_Average).\n",
    "We will need to download new data, into `tickers2`, `prices2`, and `returns2`."
   ]
  },
  {
   "cell_type": "markdown",
   "id": "16a850d1-f9e7-4dc8-b33f-74ec389bb9ab",
   "metadata": {},
   "source": [
    "### Calculate total returns for the stocks in the DJIA"
   ]
  },
  {
   "cell_type": "markdown",
   "id": "0502b05e-b768-4193-9f9e-23e6d76480c1",
   "metadata": {},
   "source": [
    "We can use the `.prod()` method to compound returns as $1 + R_T = \\prod_{t=1}^T (1 + R_t)$.\n",
    "Technically, we should write $R_T$ as $R_{0,T}$, but we typically omit the subscript $0$."
   ]
  },
  {
   "cell_type": "markdown",
   "id": "ab18bebf-855d-41e0-b442-4272af29511c",
   "metadata": {},
   "source": [
    "### Plot the distribution of total returns for the stocks in the DJIA"
   ]
  },
  {
   "cell_type": "markdown",
   "id": "7d7cdf0b-e78d-4126-99af-2bc279c2d839",
   "metadata": {},
   "source": [
    "We can plot a histogram, using either the `plt.hist()` function or the `.plot(kind='hist')` method."
   ]
  },
  {
   "cell_type": "markdown",
   "id": "255d61f5-cac6-4164-bdf4-7334ecf8ebab",
   "metadata": {},
   "source": [
    "### Which stocks have the minimum and maximum total returns?"
   ]
  },
  {
   "cell_type": "markdown",
   "id": "4abcfe01-5248-4cd3-b9c9-5fee3daf4912",
   "metadata": {},
   "source": [
    "### Plot the cumulative returns for the stocks in the DJIA"
   ]
  },
  {
   "cell_type": "markdown",
   "id": "a78a1284-8273-4342-ae6f-fb8f239d4649",
   "metadata": {},
   "source": [
    "We can use the cumulative product method `.cumprod()` to calculate the right hand side of the formula above."
   ]
  },
  {
   "cell_type": "markdown",
   "id": "a094ea46-cead-40fd-b74f-1a8eb4e100f4",
   "metadata": {},
   "source": [
    "### Repeat the plot above with only the minimum and maximum total returns"
   ]
  }
 ],
 "metadata": {
  "author": "Richard Herron",
  "kernelspec": {
   "display_name": "Python 3 (ipykernel)",
   "language": "python",
   "name": "python3"
  },
  "language_info": {
   "codemirror_mode": {
    "name": "ipython",
    "version": 3
   },
   "file_extension": ".py",
   "mimetype": "text/x-python",
   "name": "python",
   "nbconvert_exporter": "python",
   "pygments_lexer": "ipython3",
   "version": "3.12.1"
  },
  "title": "McKinney Chapter 5 - Practice"
 },
 "nbformat": 4,
 "nbformat_minor": 5
}
