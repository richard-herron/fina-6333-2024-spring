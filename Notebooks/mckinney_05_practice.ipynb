{
 "cells": [
  {
   "cell_type": "markdown",
   "id": "c1e33842-3bd0-4623-9296-60a1ad2fe57b",
   "metadata": {},
   "source": [
    "# McKinney Chapter 5 - Practice (Blank)"
   ]
  },
  {
   "cell_type": "code",
   "execution_count": 1,
   "id": "d54495d6-a8aa-4471-a29f-abc4992bf074",
   "metadata": {
    "editable": true
   },
   "outputs": [],
   "source": [
    "import matplotlib.pyplot as plt\n",
    "import numpy as np\n",
    "import pandas as pd\n",
    "\n",
    "import yfinance as yf\n",
    "import requests_cache"
   ]
  },
  {
   "cell_type": "code",
   "execution_count": 2,
   "id": "3fab82cf-ea1a-4e1c-84a6-891b882a534e",
   "metadata": {},
   "outputs": [],
   "source": [
    "%config InlineBackend.figure_format = 'retina'\n",
    "%precision 4\n",
    "pd.options.display.float_format = '{:.4f}'.format\n",
    "session = requests_cache.CachedSession()"
   ]
  },
  {
   "cell_type": "code",
   "execution_count": 3,
   "id": "6dcc8401-75dd-464b-8577-e1e376bd1f68",
   "metadata": {},
   "outputs": [
    {
     "name": "stdout",
     "output_type": "stream",
     "text": [
      "[*********************100%***********************]  4 of 4 completed\n"
     ]
    },
    {
     "data": {
      "text/html": [
       "<div>\n",
       "<style scoped>\n",
       "    .dataframe tbody tr th:only-of-type {\n",
       "        vertical-align: middle;\n",
       "    }\n",
       "\n",
       "    .dataframe tbody tr th {\n",
       "        vertical-align: top;\n",
       "    }\n",
       "\n",
       "    .dataframe thead th {\n",
       "        text-align: right;\n",
       "    }\n",
       "</style>\n",
       "<table border=\"1\" class=\"dataframe\">\n",
       "  <thead>\n",
       "    <tr style=\"text-align: right;\">\n",
       "      <th></th>\n",
       "      <th>AAPL</th>\n",
       "      <th>GOOG</th>\n",
       "      <th>IBM</th>\n",
       "      <th>MSFT</th>\n",
       "    </tr>\n",
       "    <tr>\n",
       "      <th>Date</th>\n",
       "      <th></th>\n",
       "      <th></th>\n",
       "      <th></th>\n",
       "      <th></th>\n",
       "    </tr>\n",
       "  </thead>\n",
       "  <tbody>\n",
       "    <tr>\n",
       "      <th>2004-08-20</th>\n",
       "      <td>0.0029</td>\n",
       "      <td>0.0794</td>\n",
       "      <td>0.0042</td>\n",
       "      <td>0.0030</td>\n",
       "    </tr>\n",
       "    <tr>\n",
       "      <th>2004-08-23</th>\n",
       "      <td>0.0091</td>\n",
       "      <td>0.0101</td>\n",
       "      <td>-0.0070</td>\n",
       "      <td>0.0044</td>\n",
       "    </tr>\n",
       "    <tr>\n",
       "      <th>2004-08-24</th>\n",
       "      <td>0.0280</td>\n",
       "      <td>-0.0414</td>\n",
       "      <td>0.0007</td>\n",
       "      <td>0.0000</td>\n",
       "    </tr>\n",
       "    <tr>\n",
       "      <th>2004-08-25</th>\n",
       "      <td>0.0344</td>\n",
       "      <td>0.0108</td>\n",
       "      <td>0.0042</td>\n",
       "      <td>0.0114</td>\n",
       "    </tr>\n",
       "    <tr>\n",
       "      <th>2004-08-26</th>\n",
       "      <td>0.0487</td>\n",
       "      <td>0.0180</td>\n",
       "      <td>-0.0045</td>\n",
       "      <td>-0.0040</td>\n",
       "    </tr>\n",
       "    <tr>\n",
       "      <th>...</th>\n",
       "      <td>...</td>\n",
       "      <td>...</td>\n",
       "      <td>...</td>\n",
       "      <td>...</td>\n",
       "    </tr>\n",
       "    <tr>\n",
       "      <th>2023-01-18</th>\n",
       "      <td>-0.0054</td>\n",
       "      <td>-0.0041</td>\n",
       "      <td>-0.0329</td>\n",
       "      <td>-0.0189</td>\n",
       "    </tr>\n",
       "    <tr>\n",
       "      <th>2023-01-19</th>\n",
       "      <td>0.0004</td>\n",
       "      <td>0.0232</td>\n",
       "      <td>0.0015</td>\n",
       "      <td>-0.0165</td>\n",
       "    </tr>\n",
       "    <tr>\n",
       "      <th>2023-01-20</th>\n",
       "      <td>0.0192</td>\n",
       "      <td>0.0572</td>\n",
       "      <td>0.0041</td>\n",
       "      <td>0.0357</td>\n",
       "    </tr>\n",
       "    <tr>\n",
       "      <th>2023-01-23</th>\n",
       "      <td>0.0235</td>\n",
       "      <td>0.0194</td>\n",
       "      <td>0.0047</td>\n",
       "      <td>0.0098</td>\n",
       "    </tr>\n",
       "    <tr>\n",
       "      <th>2023-01-24</th>\n",
       "      <td>0.0109</td>\n",
       "      <td>-0.0186</td>\n",
       "      <td>-0.0029</td>\n",
       "      <td>-0.0008</td>\n",
       "    </tr>\n",
       "  </tbody>\n",
       "</table>\n",
       "<p>4639 rows × 4 columns</p>\n",
       "</div>"
      ],
      "text/plain": [
       "              AAPL    GOOG     IBM    MSFT\n",
       "Date                                      \n",
       "2004-08-20  0.0029  0.0794  0.0042  0.0030\n",
       "2004-08-23  0.0091  0.0101 -0.0070  0.0044\n",
       "2004-08-24  0.0280 -0.0414  0.0007  0.0000\n",
       "2004-08-25  0.0344  0.0108  0.0042  0.0114\n",
       "2004-08-26  0.0487  0.0180 -0.0045 -0.0040\n",
       "...            ...     ...     ...     ...\n",
       "2023-01-18 -0.0054 -0.0041 -0.0329 -0.0189\n",
       "2023-01-19  0.0004  0.0232  0.0015 -0.0165\n",
       "2023-01-20  0.0192  0.0572  0.0041  0.0357\n",
       "2023-01-23  0.0235  0.0194  0.0047  0.0098\n",
       "2023-01-24  0.0109 -0.0186 -0.0029 -0.0008\n",
       "\n",
       "[4639 rows x 4 columns]"
      ]
     },
     "execution_count": 3,
     "metadata": {},
     "output_type": "execute_result"
    }
   ],
   "source": [
    "tickers = yf.Tickers('AAPL IBM MSFT GOOG', session=session)\n",
    "prices = tickers.history(period='max', auto_adjust=False, progress=False)\n",
    "prices.index = prices.index.tz_localize(None)\n",
    "returns = prices['Adj Close'].pct_change().dropna()\n",
    "returns"
   ]
  },
  {
   "cell_type": "markdown",
   "id": "34e9ca8b-3d1e-406a-a1c7-dce0a24de77e",
   "metadata": {},
   "source": [
    "## Practice"
   ]
  },
  {
   "cell_type": "markdown",
   "id": "4761cb0f-5db6-409b-822e-f4a354118458",
   "metadata": {},
   "source": [
    "### What are the mean daily returns for these four stocks?"
   ]
  },
  {
   "cell_type": "markdown",
   "id": "a98798fa-74f3-4fba-b56e-484e513a62a5",
   "metadata": {},
   "source": [
    "### What are the standard deviations of daily returns for these four stocks?"
   ]
  },
  {
   "cell_type": "markdown",
   "id": "a64ae92c-8ce3-4c4c-80e2-f003db45d167",
   "metadata": {},
   "source": [
    "### What are the *annualized* means and standard deviations of daily returns for these four stocks?"
   ]
  },
  {
   "cell_type": "markdown",
   "id": "38792fcb-86a8-405e-9ca9-0db53ac63bc9",
   "metadata": {},
   "source": [
    "### Plot *annualized* means versus standard deviations of daily returns for these four stocks"
   ]
  },
  {
   "cell_type": "markdown",
   "id": "697e77fc-9eb9-45f8-9a44-1ba88f5a0922",
   "metadata": {},
   "source": [
    "Use `plt.scatter()`, which expects arguments as `x` (standard deviations) then `y` (means)."
   ]
  },
  {
   "cell_type": "markdown",
   "id": "492661cf-cac9-48fd-b4dc-465fcdf43b8a",
   "metadata": {},
   "source": [
    "### Repeat the previous calculations and plot for the stocks in the Dow-Jones Industrial Index (DJIA)"
   ]
  },
  {
   "cell_type": "markdown",
   "id": "f2726b01-2512-4b22-bca2-82ee1e5741a5",
   "metadata": {},
   "source": [
    "We can find the current DJIA stocks on [Wikipedia](https://en.wikipedia.org/wiki/Dow_Jones_Industrial_Average).\n",
    "We will need to download new data, into `tickers2`, `prices2`, and `returns2`."
   ]
  },
  {
   "cell_type": "markdown",
   "id": "16a850d1-f9e7-4dc8-b33f-74ec389bb9ab",
   "metadata": {},
   "source": [
    "### Calculate total returns for the stocks in the DJIA"
   ]
  },
  {
   "cell_type": "markdown",
   "id": "0502b05e-b768-4193-9f9e-23e6d76480c1",
   "metadata": {},
   "source": [
    "We can use the `.prod()` method to compound returns as $1 + R_T = \\prod_{t=1}^T (1 + R_t)$.\n",
    "Technically, we should write $R_T$ as $R_{0,T}$, but we typically omit the subscript $0$."
   ]
  },
  {
   "cell_type": "markdown",
   "id": "ab18bebf-855d-41e0-b442-4272af29511c",
   "metadata": {},
   "source": [
    "### Plot the distribution of total returns for the stocks in the DJIA"
   ]
  },
  {
   "cell_type": "markdown",
   "id": "7d7cdf0b-e78d-4126-99af-2bc279c2d839",
   "metadata": {},
   "source": [
    "We can plot a histogram, using either the `plt.hist()` function or the `.plot(kind='hist')` method."
   ]
  },
  {
   "cell_type": "markdown",
   "id": "255d61f5-cac6-4164-bdf4-7334ecf8ebab",
   "metadata": {},
   "source": [
    "### Which stocks have the minimum and maximum total returns?"
   ]
  },
  {
   "cell_type": "markdown",
   "id": "4abcfe01-5248-4cd3-b9c9-5fee3daf4912",
   "metadata": {},
   "source": [
    "### Plot the cumulative returns for the stocks in the DJIA"
   ]
  },
  {
   "cell_type": "markdown",
   "id": "a78a1284-8273-4342-ae6f-fb8f239d4649",
   "metadata": {},
   "source": [
    "We can use the cumulative product method `.cumprod()` to calculate the right hand side of the formula above."
   ]
  },
  {
   "cell_type": "markdown",
   "id": "a094ea46-cead-40fd-b74f-1a8eb4e100f4",
   "metadata": {},
   "source": [
    "### Repeat the plot above with only the minimum and maximum total returns"
   ]
  }
 ],
 "metadata": {
  "author": "Richard Herron",
  "kernelspec": {
   "display_name": "Python 3 (ipykernel)",
   "language": "python",
   "name": "python3"
  },
  "language_info": {
   "codemirror_mode": {
    "name": "ipython",
    "version": 3
   },
   "file_extension": ".py",
   "mimetype": "text/x-python",
   "name": "python",
   "nbconvert_exporter": "python",
   "pygments_lexer": "ipython3",
   "version": "3.9.13"
  },
  "title": "McKinney Chapter 5 - Practice"
 },
 "nbformat": 4,
 "nbformat_minor": 5
}
