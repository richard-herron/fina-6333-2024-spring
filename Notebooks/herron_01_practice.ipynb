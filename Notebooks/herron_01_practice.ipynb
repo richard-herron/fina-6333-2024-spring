{
 "cells": [
  {
   "cell_type": "markdown",
   "id": "c1e33842-3bd0-4623-9296-60a1ad2fe57b",
   "metadata": {},
   "source": [
    "# Herron Topic 1 - Practice (Blank)"
   ]
  },
  {
   "cell_type": "markdown",
   "id": "de3d5645-4c87-472f-ba64-414ed2aad525",
   "metadata": {},
   "source": [
    "## Announcements"
   ]
  },
  {
   "cell_type": "markdown",
   "id": "d5ce90de-a8b3-4430-8cfc-ed88fc4dfad9",
   "metadata": {},
   "source": [
    "## Practice"
   ]
  },
  {
   "cell_type": "code",
   "execution_count": 1,
   "id": "d54495d6-a8aa-4471-a29f-abc4992bf074",
   "metadata": {
    "editable": true
   },
   "outputs": [],
   "source": [
    "import matplotlib.pyplot as plt\n",
    "import numpy as np\n",
    "import pandas as pd\n",
    "\n",
    "import yfinance as yf\n",
    "import pandas_datareader as pdr\n",
    "import requests_cache"
   ]
  },
  {
   "cell_type": "code",
   "execution_count": 2,
   "id": "3fab82cf-ea1a-4e1c-84a6-891b882a534e",
   "metadata": {},
   "outputs": [],
   "source": [
    "%config InlineBackend.figure_format = 'retina'\n",
    "%precision 4\n",
    "pd.options.display.float_format = '{:.4f}'.format\n",
    "session = requests_cache.CachedSession(expire_after=1)"
   ]
  },
  {
   "cell_type": "markdown",
   "id": "2d6423e5-4c98-4fe2-bdae-26d475d26383",
   "metadata": {},
   "source": [
    "### Download all available daily price data for tickers TSLA, F, AAPL, AMZN, and META to data frame `histories`"
   ]
  },
  {
   "cell_type": "markdown",
   "id": "0e906f67-d78b-4083-bf5f-b22cd7341c0f",
   "metadata": {},
   "source": [
    "Remove time zone information from the index and use `histories.columns.names` to label the variables and tickers as `Variable` and `Ticker`."
   ]
  },
  {
   "cell_type": "markdown",
   "id": "ed2b103e-0903-4fd5-b6d5-2787a236083b",
   "metadata": {},
   "source": [
    "### Calculate all available daily returns and save to data frame `returns`"
   ]
  },
  {
   "cell_type": "markdown",
   "id": "a9d8e5ad-9d72-430e-9f0d-396a7ebb56d4",
   "metadata": {},
   "source": [
    "### Slices returns for the 2020s and assign to `returns_2020s`"
   ]
  },
  {
   "cell_type": "markdown",
   "id": "d46e7779-9d11-4b5c-a2ea-fb499745dd63",
   "metadata": {},
   "source": [
    "### Download all available data for the Fama and French daily benchmark factors to dictionary `ff_all`"
   ]
  },
  {
   "cell_type": "markdown",
   "id": "74dc39e6-bf29-48c7-9cbf-6707608dc386",
   "metadata": {},
   "source": [
    "I often use the following code snippet to find the exact name for the the daily benchmark factors file."
   ]
  },
  {
   "cell_type": "code",
   "execution_count": 7,
   "id": "435d3b71-bce2-4d4e-a07a-b712b6d3d06a",
   "metadata": {},
   "outputs": [
    {
     "data": {
      "text/plain": [
       "['F-F_Research_Data_Factors',\n",
       " 'F-F_Research_Data_Factors_weekly',\n",
       " 'F-F_Research_Data_Factors_daily',\n",
       " 'F-F_Research_Data_5_Factors_2x3',\n",
       " 'F-F_Research_Data_5_Factors_2x3_daily']"
      ]
     },
     "execution_count": 7,
     "metadata": {},
     "output_type": "execute_result"
    }
   ],
   "source": [
    "pdr.famafrench.get_available_datasets()[:5]"
   ]
  },
  {
   "cell_type": "markdown",
   "id": "f1383440-c325-445f-8d3d-ac4f5aa3798b",
   "metadata": {},
   "source": [
    "### Slice the daily benchmark factors, convert them to decimal returns, and assign to `ff`"
   ]
  },
  {
   "cell_type": "markdown",
   "id": "dc97806e-755e-4412-bb5a-73a1c411bd8b",
   "metadata": {},
   "source": [
    "### Use the `.cumprod()` method to plot cumulative returns for these stocks in the 2020s"
   ]
  },
  {
   "cell_type": "markdown",
   "id": "c054cca6-e5c7-4500-95af-a3fd088a2548",
   "metadata": {},
   "source": [
    "### Use the `.cumsum()` method with log returns to plot cumulative returns for these stocks in the 2020s"
   ]
  },
  {
   "cell_type": "markdown",
   "id": "3aaa696c-227b-49f6-84d9-11f4bfab42f9",
   "metadata": {},
   "source": [
    "### Use price data only to plot cumulative returns for these stocks in the 2020s"
   ]
  },
  {
   "cell_type": "markdown",
   "id": "b2cfa840-3125-4c8b-a92a-af4bb294817b",
   "metadata": {},
   "source": [
    "### Calculate the Sharpe Ratio for TSLA"
   ]
  },
  {
   "cell_type": "markdown",
   "id": "f394cf5c-e0d1-4eab-aedb-146a6423a1f0",
   "metadata": {},
   "source": [
    "Calculate the Sharpe Ratio with all available returns and 2020s returns.\n",
    "Recall the Sharpe Ratio is $\\frac{\\overline{R_i - R_f}}{\\sigma_i}$, where $\\sigma_i$ is the volatility of *excess* returns.\n",
    "\n",
    "***I suggest you write a function named `sharpe()` to use for the rest of this notebook.***"
   ]
  },
  {
   "cell_type": "markdown",
   "id": "ac32f41a-5381-4293-84c1-8bfdb1bed373",
   "metadata": {},
   "source": [
    "### Calculate the market beta for TSLA"
   ]
  },
  {
   "cell_type": "markdown",
   "id": "17191326-5269-42ae-9f21-ab1892ec59c9",
   "metadata": {},
   "source": [
    "Calculate the market beta with all available returns and 2020s returns.\n",
    "Recall we estimate market beta with the ordinary least squares (OLS) regression $R_i-R_f = \\alpha + \\beta (R_m-R_f) + \\epsilon$.\n",
    "We can estimate market beta with the covariance formula above for a univariate regression if we do not need goodness of fit statistics.\n",
    "\n",
    "***I suggest you write a function named `beta()` to use for the rest of this notebook.***"
   ]
  },
  {
   "cell_type": "markdown",
   "id": "2a427921-720c-4367-ba64-c87ed83c1278",
   "metadata": {},
   "source": [
    "### Guess the Sharpe Ratios for these stocks in the 2020s"
   ]
  },
  {
   "cell_type": "markdown",
   "id": "da6dc586-4e48-4262-9204-d3ee9646535b",
   "metadata": {},
   "source": [
    "### Guess the market betas for these stocks in the 2020s"
   ]
  },
  {
   "cell_type": "markdown",
   "id": "e4b0a699-ce41-4471-85e1-b67d663f4c40",
   "metadata": {},
   "source": [
    "### Calculate the Sharpe Ratios for these stocks in the 2020s"
   ]
  },
  {
   "cell_type": "markdown",
   "id": "d506bc87-2714-4d0a-9fe6-0eeae2473358",
   "metadata": {},
   "source": [
    "How good were your guesses?"
   ]
  },
  {
   "cell_type": "markdown",
   "id": "289d83d3-51b2-4dac-a6bd-0d08a036cf21",
   "metadata": {
    "tags": []
   },
   "source": [
    "### Calculate the market betas for these stocks in the 2020s"
   ]
  },
  {
   "cell_type": "markdown",
   "id": "67ad8cf6-eb93-4fac-94c9-d3ba9570fe68",
   "metadata": {},
   "source": [
    "How good were your guesses?"
   ]
  },
  {
   "cell_type": "markdown",
   "id": "362d28a5-eb0c-484f-8bd0-69eedc9dc1e1",
   "metadata": {
    "tags": []
   },
   "source": [
    "### Calculate the Sharpe Ratio for an *equally weighted* portfolio of these stocks in the 2020s"
   ]
  },
  {
   "cell_type": "markdown",
   "id": "29633ed1-e74a-4c25-a635-70fbc031c001",
   "metadata": {},
   "source": [
    "What do you notice?"
   ]
  },
  {
   "cell_type": "markdown",
   "id": "8c04dcfb-2469-421c-9665-e5c15c2486d4",
   "metadata": {
    "tags": []
   },
   "source": [
    "### Calculate the market beta for an *equally weighted* portfolio of these stocks in the 2020s"
   ]
  },
  {
   "cell_type": "markdown",
   "id": "ee18e7b3-b162-4426-9bd2-55f6d3438cde",
   "metadata": {},
   "source": [
    "What do you notice?"
   ]
  },
  {
   "cell_type": "markdown",
   "id": "e315207d-fc5a-48bc-a3c3-9eb5a4e1c5d5",
   "metadata": {},
   "source": [
    "### Calculate the market betas for these stocks every calendar year for every possible year"
   ]
  },
  {
   "cell_type": "markdown",
   "id": "28da9f2f-265c-48fc-8747-c4483edbe2f2",
   "metadata": {},
   "source": [
    "Save these market betas to data frame `betas`.\n",
    "Our current Python knowledge limits us to a for-loop, but we will learn easier and faster approaches soon!"
   ]
  },
  {
   "cell_type": "markdown",
   "id": "0c30e993-49c1-48d1-b148-946465a956c7",
   "metadata": {},
   "source": [
    "### Plot the time series of market betas"
   ]
  }
 ],
 "metadata": {
  "author": "Richard Herron",
  "kernelspec": {
   "display_name": "Python 3 (ipykernel)",
   "language": "python",
   "name": "python3"
  },
  "language_info": {
   "codemirror_mode": {
    "name": "ipython",
    "version": 3
   },
   "file_extension": ".py",
   "mimetype": "text/x-python",
   "name": "python",
   "nbconvert_exporter": "python",
   "pygments_lexer": "ipython3",
   "version": "3.9.13"
  },
  "title": "McKinney Chapter 5 - Practice"
 },
 "nbformat": 4,
 "nbformat_minor": 5
}
