{
 "cells": [
  {
   "cell_type": "markdown",
   "id": "c6ca4c10-e13e-4d15-abeb-235009f50d96",
   "metadata": {
    "tags": []
   },
   "source": [
    "# Herron Topic 4 - Portfolio Optimization"
   ]
  },
  {
   "cell_type": "markdown",
   "id": "8e9e7b8b-10d4-4169-8d91-7cfecfe3f0b3",
   "metadata": {
    "tags": []
   },
   "source": [
    "This notebook covers portfolio optimization.\n",
    "I have not found a perfect reference that combines portfolio optimization and Python, but here are two references that I find useful:\n",
    "\n",
    "1. Ivo Welch discusses the mathematics and finance of portfolio optimization in [Chapter 12 of his draft textbook on investments](https://book.ivo-welch.info/bookg.pdf#chapter.12).\n",
    "1. Eryk Lewinson provides Python code for portfolio optimization in chapter 7 of his [*Python for Finance Cookbook*](https://onesearch.library.northeastern.edu/permalink/01NEU_INST/i2gqis/alma9952082522901401), but he uses several packages that are either non-free or abandoned.\n",
    "\n",
    "In this notebook, we will:\n",
    "\n",
    "1. Review the $\\frac{1}{n}$ portfolio (or equal-weighted portfolio) from [Herron Topic 1](herron_01_lecture.ipynb)\n",
    "1. Use SciPy's `minimize()` function to:\n",
    "    1. Find the minimum variance portfolio\n",
    "    1. Find the (mean-variance) efficient frontier\n",
    "\n",
    "In the practice notebook, we will use SciPy's `minimize()` function to achieve any objective."
   ]
  },
  {
   "cell_type": "code",
   "execution_count": 1,
   "id": "bfae8a35-2a98-4125-918f-46e388457407",
   "metadata": {
    "editable": true
   },
   "outputs": [],
   "source": [
    "import matplotlib.pyplot as plt\n",
    "import numpy as np\n",
    "import pandas as pd"
   ]
  },
  {
   "cell_type": "code",
   "execution_count": 2,
   "id": "c5c13f4c-9a2e-4858-86be-1fe80ffe4cf4",
   "metadata": {},
   "outputs": [],
   "source": [
    "%precision 4\n",
    "pd.options.display.float_format = '{:.4f}'.format\n",
    "%config InlineBackend.figure_format = 'retina'"
   ]
  },
  {
   "cell_type": "code",
   "execution_count": 3,
   "id": "72fb8b30-6d4c-4604-b5d1-23e7dadb5ec2",
   "metadata": {},
   "outputs": [],
   "source": [
    "import yfinance as yf\n",
    "import pandas_datareader as pdr"
   ]
  },
  {
   "cell_type": "markdown",
   "id": "d1e81845-23e9-4ab7-a15e-6fe886e2d366",
   "metadata": {},
   "source": [
    "## The $\\frac{1}{n}$ Portfolio"
   ]
  },
  {
   "cell_type": "markdown",
   "id": "318c6b13-2a24-4d9f-9b0a-b7580703384f",
   "metadata": {},
   "source": [
    "We first saw the $\\frac{1}{n}$ portfolio (or equal-weighted portfolio) in [Herron Topic 1](herron_01_lecture.ipynb).\n",
    "In the $\\frac{1}{n}$ portfolio, each of $n$ assets receives an equal portfolio weight $w_i = \\frac{1}{n}$.\n",
    "While the $\\frac{1}{n}$ strategy seems too simple to be useful, DeMiguel, Garlappi, and Uppal (2007) show that it is difficult to beat $\\frac{1}{n}$ strategy, even with more advanced strategies."
   ]
  },
  {
   "cell_type": "code",
   "execution_count": 4,
   "id": "3b7223a1-7b97-4d4f-b01c-9df48ed3338a",
   "metadata": {
    "ExecuteTime": {
     "end_time": "2020-01-27T22:40:05.074684Z",
     "start_time": "2020-01-27T22:40:00.619657Z"
    }
   },
   "outputs": [
    {
     "name": "stdout",
     "output_type": "stream",
     "text": [
      "[*********************100%%**********************]  6 of 6 completed\n"
     ]
    },
    {
     "data": {
      "text/html": [
       "<div>\n",
       "<style scoped>\n",
       "    .dataframe tbody tr th:only-of-type {\n",
       "        vertical-align: middle;\n",
       "    }\n",
       "\n",
       "    .dataframe tbody tr th {\n",
       "        vertical-align: top;\n",
       "    }\n",
       "\n",
       "    .dataframe thead tr th {\n",
       "        text-align: left;\n",
       "    }\n",
       "\n",
       "    .dataframe thead tr:last-of-type th {\n",
       "        text-align: right;\n",
       "    }\n",
       "</style>\n",
       "<table border=\"1\" class=\"dataframe\">\n",
       "  <thead>\n",
       "    <tr>\n",
       "      <th>Variable</th>\n",
       "      <th colspan=\"6\" halign=\"left\">Adj Close</th>\n",
       "      <th colspan=\"4\" halign=\"left\">Close</th>\n",
       "      <th>...</th>\n",
       "      <th colspan=\"4\" halign=\"left\">Open</th>\n",
       "      <th colspan=\"6\" halign=\"left\">Volume</th>\n",
       "    </tr>\n",
       "    <tr>\n",
       "      <th>Ticker</th>\n",
       "      <th>AAPL</th>\n",
       "      <th>AMZN</th>\n",
       "      <th>GOOG</th>\n",
       "      <th>MSFT</th>\n",
       "      <th>NVDA</th>\n",
       "      <th>TSLA</th>\n",
       "      <th>AAPL</th>\n",
       "      <th>AMZN</th>\n",
       "      <th>GOOG</th>\n",
       "      <th>MSFT</th>\n",
       "      <th>...</th>\n",
       "      <th>GOOG</th>\n",
       "      <th>MSFT</th>\n",
       "      <th>NVDA</th>\n",
       "      <th>TSLA</th>\n",
       "      <th>AAPL</th>\n",
       "      <th>AMZN</th>\n",
       "      <th>GOOG</th>\n",
       "      <th>MSFT</th>\n",
       "      <th>NVDA</th>\n",
       "      <th>TSLA</th>\n",
       "    </tr>\n",
       "    <tr>\n",
       "      <th>Date</th>\n",
       "      <th></th>\n",
       "      <th></th>\n",
       "      <th></th>\n",
       "      <th></th>\n",
       "      <th></th>\n",
       "      <th></th>\n",
       "      <th></th>\n",
       "      <th></th>\n",
       "      <th></th>\n",
       "      <th></th>\n",
       "      <th></th>\n",
       "      <th></th>\n",
       "      <th></th>\n",
       "      <th></th>\n",
       "      <th></th>\n",
       "      <th></th>\n",
       "      <th></th>\n",
       "      <th></th>\n",
       "      <th></th>\n",
       "      <th></th>\n",
       "      <th></th>\n",
       "    </tr>\n",
       "  </thead>\n",
       "  <tbody>\n",
       "    <tr>\n",
       "      <th>2023-12-18</th>\n",
       "      <td>195.8900</td>\n",
       "      <td>154.0700</td>\n",
       "      <td>137.1900</td>\n",
       "      <td>372.6500</td>\n",
       "      <td>500.7700</td>\n",
       "      <td>252.0800</td>\n",
       "      <td>195.8900</td>\n",
       "      <td>154.0700</td>\n",
       "      <td>137.1900</td>\n",
       "      <td>372.6500</td>\n",
       "      <td>...</td>\n",
       "      <td>133.8600</td>\n",
       "      <td>369.4500</td>\n",
       "      <td>494.0000</td>\n",
       "      <td>253.7800</td>\n",
       "      <td>55751900</td>\n",
       "      <td>62512800.0000</td>\n",
       "      <td>25699800.0000</td>\n",
       "      <td>21802900.0000</td>\n",
       "      <td>41258700.0000</td>\n",
       "      <td>116416500.0000</td>\n",
       "    </tr>\n",
       "    <tr>\n",
       "      <th>2023-12-19</th>\n",
       "      <td>196.9400</td>\n",
       "      <td>153.7900</td>\n",
       "      <td>138.1000</td>\n",
       "      <td>373.2600</td>\n",
       "      <td>496.0400</td>\n",
       "      <td>257.2200</td>\n",
       "      <td>196.9400</td>\n",
       "      <td>153.7900</td>\n",
       "      <td>138.1000</td>\n",
       "      <td>373.2600</td>\n",
       "      <td>...</td>\n",
       "      <td>138.0000</td>\n",
       "      <td>371.4900</td>\n",
       "      <td>494.2400</td>\n",
       "      <td>253.4800</td>\n",
       "      <td>40714100</td>\n",
       "      <td>43171300.0000</td>\n",
       "      <td>20661000.0000</td>\n",
       "      <td>20603700.0000</td>\n",
       "      <td>46444400.0000</td>\n",
       "      <td>106737400.0000</td>\n",
       "    </tr>\n",
       "    <tr>\n",
       "      <th>2023-12-20</th>\n",
       "      <td>194.8300</td>\n",
       "      <td>152.1200</td>\n",
       "      <td>139.6600</td>\n",
       "      <td>370.6200</td>\n",
       "      <td>481.1100</td>\n",
       "      <td>247.1400</td>\n",
       "      <td>194.8300</td>\n",
       "      <td>152.1200</td>\n",
       "      <td>139.6600</td>\n",
       "      <td>370.6200</td>\n",
       "      <td>...</td>\n",
       "      <td>140.3300</td>\n",
       "      <td>375.0000</td>\n",
       "      <td>496.5500</td>\n",
       "      <td>256.4100</td>\n",
       "      <td>52242800</td>\n",
       "      <td>50322100.0000</td>\n",
       "      <td>33507300.0000</td>\n",
       "      <td>26316700.0000</td>\n",
       "      <td>39789400.0000</td>\n",
       "      <td>125097000.0000</td>\n",
       "    </tr>\n",
       "    <tr>\n",
       "      <th>2023-12-21</th>\n",
       "      <td>194.6800</td>\n",
       "      <td>153.8400</td>\n",
       "      <td>141.8000</td>\n",
       "      <td>373.5400</td>\n",
       "      <td>489.9000</td>\n",
       "      <td>254.5000</td>\n",
       "      <td>194.6800</td>\n",
       "      <td>153.8400</td>\n",
       "      <td>141.8000</td>\n",
       "      <td>373.5400</td>\n",
       "      <td>...</td>\n",
       "      <td>140.7700</td>\n",
       "      <td>372.5600</td>\n",
       "      <td>488.1100</td>\n",
       "      <td>251.9000</td>\n",
       "      <td>46432100</td>\n",
       "      <td>36258000.0000</td>\n",
       "      <td>18082400.0000</td>\n",
       "      <td>17693500.0000</td>\n",
       "      <td>29996800.0000</td>\n",
       "      <td>109344200.0000</td>\n",
       "    </tr>\n",
       "    <tr>\n",
       "      <th>2023-12-22</th>\n",
       "      <td>195.1250</td>\n",
       "      <td>153.8300</td>\n",
       "      <td>142.6201</td>\n",
       "      <td>373.8800</td>\n",
       "      <td>NaN</td>\n",
       "      <td>256.5600</td>\n",
       "      <td>195.1250</td>\n",
       "      <td>153.8300</td>\n",
       "      <td>142.6201</td>\n",
       "      <td>373.8800</td>\n",
       "      <td>...</td>\n",
       "      <td>142.1300</td>\n",
       "      <td>373.6800</td>\n",
       "      <td>NaN</td>\n",
       "      <td>251.9000</td>\n",
       "      <td>4787178</td>\n",
       "      <td>3828849.0000</td>\n",
       "      <td>3078798.0000</td>\n",
       "      <td>2003345.0000</td>\n",
       "      <td>NaN</td>\n",
       "      <td>17460847.0000</td>\n",
       "    </tr>\n",
       "  </tbody>\n",
       "</table>\n",
       "<p>5 rows × 36 columns</p>\n",
       "</div>"
      ],
      "text/plain": [
       "Variable   Adj Close                                                 Close  \\\n",
       "Ticker          AAPL     AMZN     GOOG     MSFT     NVDA     TSLA     AAPL   \n",
       "Date                                                                         \n",
       "2023-12-18  195.8900 154.0700 137.1900 372.6500 500.7700 252.0800 195.8900   \n",
       "2023-12-19  196.9400 153.7900 138.1000 373.2600 496.0400 257.2200 196.9400   \n",
       "2023-12-20  194.8300 152.1200 139.6600 370.6200 481.1100 247.1400 194.8300   \n",
       "2023-12-21  194.6800 153.8400 141.8000 373.5400 489.9000 254.5000 194.6800   \n",
       "2023-12-22  195.1250 153.8300 142.6201 373.8800      NaN 256.5600 195.1250   \n",
       "\n",
       "Variable                               ...     Open                    \\\n",
       "Ticker         AMZN     GOOG     MSFT  ...     GOOG     MSFT     NVDA   \n",
       "Date                                   ...                              \n",
       "2023-12-18 154.0700 137.1900 372.6500  ... 133.8600 369.4500 494.0000   \n",
       "2023-12-19 153.7900 138.1000 373.2600  ... 138.0000 371.4900 494.2400   \n",
       "2023-12-20 152.1200 139.6600 370.6200  ... 140.3300 375.0000 496.5500   \n",
       "2023-12-21 153.8400 141.8000 373.5400  ... 140.7700 372.5600 488.1100   \n",
       "2023-12-22 153.8300 142.6201 373.8800  ... 142.1300 373.6800      NaN   \n",
       "\n",
       "Variable               Volume                                            \\\n",
       "Ticker         TSLA      AAPL          AMZN          GOOG          MSFT   \n",
       "Date                                                                      \n",
       "2023-12-18 253.7800  55751900 62512800.0000 25699800.0000 21802900.0000   \n",
       "2023-12-19 253.4800  40714100 43171300.0000 20661000.0000 20603700.0000   \n",
       "2023-12-20 256.4100  52242800 50322100.0000 33507300.0000 26316700.0000   \n",
       "2023-12-21 251.9000  46432100 36258000.0000 18082400.0000 17693500.0000   \n",
       "2023-12-22 251.9000   4787178  3828849.0000  3078798.0000  2003345.0000   \n",
       "\n",
       "Variable                                 \n",
       "Ticker              NVDA           TSLA  \n",
       "Date                                     \n",
       "2023-12-18 41258700.0000 116416500.0000  \n",
       "2023-12-19 46444400.0000 106737400.0000  \n",
       "2023-12-20 39789400.0000 125097000.0000  \n",
       "2023-12-21 29996800.0000 109344200.0000  \n",
       "2023-12-22           NaN  17460847.0000  \n",
       "\n",
       "[5 rows x 36 columns]"
      ]
     },
     "execution_count": 4,
     "metadata": {},
     "output_type": "execute_result"
    }
   ],
   "source": [
    "tickers = 'MSFT AAPL TSLA AMZN NVDA GOOG'\n",
    "\n",
    "matana = (\n",
    "    yf.download(tickers=tickers)\n",
    "    .rename_axis(columns=['Variable', 'Ticker'])\n",
    ")\n",
    "\n",
    "matana.tail()"
   ]
  },
  {
   "cell_type": "code",
   "execution_count": 5,
   "id": "a2d0de07-6ee5-45bd-a6f2-78f95a1da555",
   "metadata": {
    "ExecuteTime": {
     "end_time": "2019-12-06T18:05:52.060088Z",
     "start_time": "2019-12-06T18:05:52.047752Z"
    }
   },
   "outputs": [
    {
     "name": "stderr",
     "output_type": "stream",
     "text": [
      "C:\\Users\\r.herron\\AppData\\Local\\Temp\\ipykernel_5180\\2146458459.py:1: FutureWarning: The default fill_method='pad' in DataFrame.pct_change is deprecated and will be removed in a future version. Either fill in any non-leading NA values prior to calling pct_change or specify 'fill_method=None' to not fill NA values.\n",
      "  returns = matana['Adj Close'].pct_change().iloc[(-3 * 252):]\n"
     ]
    },
    {
     "data": {
      "text/html": [
       "<div>\n",
       "<style scoped>\n",
       "    .dataframe tbody tr th:only-of-type {\n",
       "        vertical-align: middle;\n",
       "    }\n",
       "\n",
       "    .dataframe tbody tr th {\n",
       "        vertical-align: top;\n",
       "    }\n",
       "\n",
       "    .dataframe thead th {\n",
       "        text-align: right;\n",
       "    }\n",
       "</style>\n",
       "<table border=\"1\" class=\"dataframe\">\n",
       "  <thead>\n",
       "    <tr style=\"text-align: right;\">\n",
       "      <th>Ticker</th>\n",
       "      <th>AAPL</th>\n",
       "      <th>AMZN</th>\n",
       "      <th>GOOG</th>\n",
       "      <th>MSFT</th>\n",
       "      <th>NVDA</th>\n",
       "      <th>TSLA</th>\n",
       "    </tr>\n",
       "  </thead>\n",
       "  <tbody>\n",
       "    <tr>\n",
       "      <th>count</th>\n",
       "      <td>756.0000</td>\n",
       "      <td>756.0000</td>\n",
       "      <td>756.0000</td>\n",
       "      <td>756.0000</td>\n",
       "      <td>756.0000</td>\n",
       "      <td>756.0000</td>\n",
       "    </tr>\n",
       "    <tr>\n",
       "      <th>mean</th>\n",
       "      <td>0.0007</td>\n",
       "      <td>0.0002</td>\n",
       "      <td>0.0009</td>\n",
       "      <td>0.0009</td>\n",
       "      <td>0.0023</td>\n",
       "      <td>0.0009</td>\n",
       "    </tr>\n",
       "    <tr>\n",
       "      <th>std</th>\n",
       "      <td>0.0176</td>\n",
       "      <td>0.0236</td>\n",
       "      <td>0.0199</td>\n",
       "      <td>0.0175</td>\n",
       "      <td>0.0333</td>\n",
       "      <td>0.0370</td>\n",
       "    </tr>\n",
       "    <tr>\n",
       "      <th>min</th>\n",
       "      <td>-0.0587</td>\n",
       "      <td>-0.1405</td>\n",
       "      <td>-0.0963</td>\n",
       "      <td>-0.0772</td>\n",
       "      <td>-0.0947</td>\n",
       "      <td>-0.1224</td>\n",
       "    </tr>\n",
       "    <tr>\n",
       "      <th>25%</th>\n",
       "      <td>-0.0089</td>\n",
       "      <td>-0.0128</td>\n",
       "      <td>-0.0098</td>\n",
       "      <td>-0.0089</td>\n",
       "      <td>-0.0171</td>\n",
       "      <td>-0.0194</td>\n",
       "    </tr>\n",
       "    <tr>\n",
       "      <th>50%</th>\n",
       "      <td>0.0009</td>\n",
       "      <td>0.0003</td>\n",
       "      <td>0.0009</td>\n",
       "      <td>0.0007</td>\n",
       "      <td>0.0024</td>\n",
       "      <td>0.0018</td>\n",
       "    </tr>\n",
       "    <tr>\n",
       "      <th>75%</th>\n",
       "      <td>0.0115</td>\n",
       "      <td>0.0127</td>\n",
       "      <td>0.0110</td>\n",
       "      <td>0.0112</td>\n",
       "      <td>0.0208</td>\n",
       "      <td>0.0205</td>\n",
       "    </tr>\n",
       "    <tr>\n",
       "      <th>max</th>\n",
       "      <td>0.0890</td>\n",
       "      <td>0.1354</td>\n",
       "      <td>0.0775</td>\n",
       "      <td>0.0823</td>\n",
       "      <td>0.2437</td>\n",
       "      <td>0.1964</td>\n",
       "    </tr>\n",
       "  </tbody>\n",
       "</table>\n",
       "</div>"
      ],
      "text/plain": [
       "Ticker     AAPL     AMZN     GOOG     MSFT     NVDA     TSLA\n",
       "count  756.0000 756.0000 756.0000 756.0000 756.0000 756.0000\n",
       "mean     0.0007   0.0002   0.0009   0.0009   0.0023   0.0009\n",
       "std      0.0176   0.0236   0.0199   0.0175   0.0333   0.0370\n",
       "min     -0.0587  -0.1405  -0.0963  -0.0772  -0.0947  -0.1224\n",
       "25%     -0.0089  -0.0128  -0.0098  -0.0089  -0.0171  -0.0194\n",
       "50%      0.0009   0.0003   0.0009   0.0007   0.0024   0.0018\n",
       "75%      0.0115   0.0127   0.0110   0.0112   0.0208   0.0205\n",
       "max      0.0890   0.1354   0.0775   0.0823   0.2437   0.1964"
      ]
     },
     "execution_count": 5,
     "metadata": {},
     "output_type": "execute_result"
    }
   ],
   "source": [
    "returns = matana['Adj Close'].pct_change().iloc[(-3 * 252):]\n",
    "\n",
    "returns.describe()"
   ]
  },
  {
   "cell_type": "markdown",
   "id": "9b6e1fb9-e0ec-4f0b-8b86-094aed5b452f",
   "metadata": {},
   "source": [
    "Before we revisit the advanced techniques from [Herron Topic 1](herron_01_lecture), we can calculate $\\frac{1}{n}$ portfolio returns manually, where $R_P = \\frac{\\sum_{i}^{n} R_i}{n}$\n",
    "Since our weights are constant (i.e., do not change over time), we rebalance our portfolio every return period.\n",
    "If we have daily data, rebalance daily.\n",
    "If we have monthly data, we rebalance monthly, and so on."
   ]
  },
  {
   "cell_type": "code",
   "execution_count": 6,
   "id": "59f9cd2e-5e5e-4db7-a485-20d1ad1dd2e5",
   "metadata": {},
   "outputs": [
    {
     "data": {
      "text/plain": [
       "count   756.0000\n",
       "mean      0.0010\n",
       "std       0.0200\n",
       "min      -0.0632\n",
       "25%      -0.0113\n",
       "50%       0.0016\n",
       "75%       0.0124\n",
       "max       0.0980\n",
       "dtype: float64"
      ]
     },
     "execution_count": 6,
     "metadata": {},
     "output_type": "execute_result"
    }
   ],
   "source": [
    "n = returns.shape[1]\n",
    "p1 = returns.sum(axis=1).div(n)\n",
    "\n",
    "p1.describe()"
   ]
  },
  {
   "cell_type": "markdown",
   "id": "33bb0dab-0f32-4270-8208-ffdd036a561e",
   "metadata": {},
   "source": [
    "Recall from [Herron Topic 1](herron_01_lecture) we have two better options:\n",
    "\n",
    "1. The `.mean(axis=1)` method for the $\\frac{1}{n}$ portfolio\n",
    "1. The `.dot(weights)` method where `weights` is a pandas series or NumPy array of portfolio weights, allowing different weights for each asset"
   ]
  },
  {
   "cell_type": "code",
   "execution_count": 7,
   "id": "6bfa0576-5e28-4e11-8f0f-758af7269913",
   "metadata": {},
   "outputs": [
    {
     "data": {
      "text/plain": [
       "count   756.0000\n",
       "mean      0.0010\n",
       "std       0.0200\n",
       "min      -0.0632\n",
       "25%      -0.0113\n",
       "50%       0.0016\n",
       "75%       0.0124\n",
       "max       0.0980\n",
       "dtype: float64"
      ]
     },
     "execution_count": 7,
     "metadata": {},
     "output_type": "execute_result"
    }
   ],
   "source": [
    "p2 = returns.mean(axis=1)\n",
    "\n",
    "p2.describe()"
   ]
  },
  {
   "cell_type": "code",
   "execution_count": 8,
   "id": "fd11e6a7-f8c7-4286-b64d-0414b4ccfc8b",
   "metadata": {},
   "outputs": [
    {
     "data": {
      "text/plain": [
       "count   756.0000\n",
       "mean      0.0010\n",
       "std       0.0200\n",
       "min      -0.0632\n",
       "25%      -0.0113\n",
       "50%       0.0016\n",
       "75%       0.0124\n",
       "max       0.0980\n",
       "dtype: float64"
      ]
     },
     "execution_count": 8,
     "metadata": {},
     "output_type": "execute_result"
    }
   ],
   "source": [
    "weights = np.ones(n) / n\n",
    "p3 = returns.dot(weights)\n",
    "\n",
    "p3.describe()"
   ]
  },
  {
   "cell_type": "markdown",
   "id": "98e4efc4-0fcc-4aff-bcb5-84208c8b5001",
   "metadata": {},
   "source": [
    "The `.describe()` method provides summary statistics for data, letting us make quick comparisons.\n",
    "However, we should use `np.allclose()` if we want to be sure that `p1`, `p2`, and `p3` are similar."
   ]
  },
  {
   "cell_type": "code",
   "execution_count": 9,
   "id": "0e4d5f54-8ab8-4458-96f5-0f6bc1b2a7e8",
   "metadata": {},
   "outputs": [
    {
     "data": {
      "text/plain": [
       "True"
      ]
     },
     "execution_count": 9,
     "metadata": {},
     "output_type": "execute_result"
    }
   ],
   "source": [
    "np.allclose(p1, p2)"
   ]
  },
  {
   "cell_type": "code",
   "execution_count": 10,
   "id": "68ba53a0-58f5-4bb1-9f0c-f9b1111d6499",
   "metadata": {},
   "outputs": [
    {
     "data": {
      "text/plain": [
       "True"
      ]
     },
     "execution_count": 10,
     "metadata": {},
     "output_type": "execute_result"
    }
   ],
   "source": [
    "np.allclose(p1, p3)"
   ]
  },
  {
   "cell_type": "markdown",
   "id": "1c62dd23-03c2-47d6-b233-a6df780592c5",
   "metadata": {},
   "source": [
    "---"
   ]
  },
  {
   "cell_type": "markdown",
   "id": "195c9e19-8c17-4f14-8b71-24c9745f3c29",
   "metadata": {},
   "source": [
    "Here is a simple example to help understand the `.dot()` method."
   ]
  },
  {
   "cell_type": "code",
   "execution_count": 11,
   "id": "fd36dc53-1621-429c-9874-624b0df394e5",
   "metadata": {},
   "outputs": [],
   "source": [
    "silly_n = 3\n",
    "silly_R = pd.DataFrame(np.arange(2*silly_n).reshape(2, silly_n))\n",
    "silly_w = np.ones(3) / 3"
   ]
  },
  {
   "cell_type": "code",
   "execution_count": 12,
   "id": "27b4dc37-f3a3-42af-a86a-d608acf175da",
   "metadata": {},
   "outputs": [
    {
     "name": "stdout",
     "output_type": "stream",
     "text": [
      "silly_n:\n",
      "3\n",
      "\n",
      "silly_R:\n",
      "   0  1  2\n",
      "0  0  1  2\n",
      "1  3  4  5\n",
      "\n",
      "silly_w:\n",
      "[0.3333 0.3333 0.3333]\n"
     ]
    }
   ],
   "source": [
    "print(\n",
    "    f'silly_n:\\n{silly_n}',\n",
    "    f'silly_R:\\n{silly_R}',\n",
    "    f'silly_w:\\n{silly_w}',\n",
    "    sep='\\n\\n'\n",
    ")"
   ]
  },
  {
   "cell_type": "code",
   "execution_count": 13,
   "id": "a15492fc-9a05-4253-8fa3-ba43cde70447",
   "metadata": {},
   "outputs": [
    {
     "data": {
      "text/plain": [
       "0   1.0000\n",
       "1   4.0000\n",
       "dtype: float64"
      ]
     },
     "execution_count": 13,
     "metadata": {},
     "output_type": "execute_result"
    }
   ],
   "source": [
    "silly_R.dot(silly_w)"
   ]
  },
  {
   "cell_type": "markdown",
   "id": "31e1c510-e973-4a4c-9429-d125c4faebcc",
   "metadata": {},
   "source": [
    "Under the hood, Python and the `.dot()` method (effectively) do the following calculation:"
   ]
  },
  {
   "cell_type": "code",
   "execution_count": 14,
   "id": "3c97d48e-bc76-4cae-a1da-b35e4510df3e",
   "metadata": {},
   "outputs": [
    {
     "name": "stdout",
     "output_type": "stream",
     "text": [
      "Row 0:  0.33 * 0 + 0.33 * 1 + 0.33 * 2  =  1.00\n",
      "Row 1:  0.33 * 3 + 0.33 * 4 + 0.33 * 5  =  4.00\n"
     ]
    }
   ],
   "source": [
    "for i, row in silly_R.iterrows():\n",
    "    print(\n",
    "        f'Row {i}: ',\n",
    "        ' + '.join([f'{w:0.2f} * {y}' for w, y in zip(silly_w, row)]),\n",
    "        ' = ',\n",
    "        f'{silly_R.dot(silly_w).iloc[i]:0.2f}'\n",
    "    )"
   ]
  },
  {
   "cell_type": "markdown",
   "id": "98f464e3-d32e-4f5a-8163-abab50721401",
   "metadata": {},
   "source": [
    "---"
   ]
  },
  {
   "cell_type": "markdown",
   "id": "61758ea1-59a8-464e-a9ed-39d601a7868b",
   "metadata": {},
   "source": [
    "## SciPy's `minimize()` Function "
   ]
  },
  {
   "cell_type": "markdown",
   "id": "5089415d-9a80-4ccf-93f2-0eb146ab63d3",
   "metadata": {
    "tags": []
   },
   "source": [
    "### A Crash Course in SciPy's `minimize()` Function"
   ]
  },
  {
   "cell_type": "markdown",
   "id": "bb176150-ea18-4ae0-a589-568bf403e50f",
   "metadata": {},
   "source": [
    "The `minimize()` function from SciPy's `optimize` module finds the input array `x` that minimizes the output of the function `fun`.\n",
    "The `minimize()` function uses optimization techniques that are outside this course, but you can consider these optimization techniques to be sophisticated trial and error.\n",
    "\n",
    "Here are the most common arguments we will pass to the `minimize()` function:\n",
    "\n",
    "1. We pass our first guess for input array `x` to argument `x0=`.\n",
    "1. We pass additional arguments for function `fun` as a tuple to argument `args=`.\n",
    "1. We pass lower and upper bounds on `x` as a tuple of tuples to argument `bounds=`.\n",
    "1. We constrain our results with a tuple of dictionaries of functions to argument `contraints=`.\n",
    "\n",
    "Here is a simple example that minimizes the function `quadratic()` that accepts arguments `x` and `a` and returns $y = (x - a)^2$."
   ]
  },
  {
   "cell_type": "code",
   "execution_count": 15,
   "id": "8f2ac689-b798-409d-a05a-92943ebd1a6b",
   "metadata": {
    "ExecuteTime": {
     "end_time": "2020-01-27T23:15:25.643290Z",
     "start_time": "2020-01-27T23:15:25.640591Z"
    }
   },
   "outputs": [],
   "source": [
    "import scipy.optimize as sco"
   ]
  },
  {
   "cell_type": "code",
   "execution_count": 16,
   "id": "d60def34-16df-4cbf-819a-ff0c80c16f75",
   "metadata": {},
   "outputs": [],
   "source": [
    "def quadratic(x, a=5):\n",
    "    return (x - a) ** 2"
   ]
  },
  {
   "cell_type": "code",
   "execution_count": 17,
   "id": "e17e592c-10ef-4cac-b462-7f47ca13abd5",
   "metadata": {},
   "outputs": [
    {
     "data": {
      "text/plain": [
       "0"
      ]
     },
     "execution_count": 17,
     "metadata": {},
     "output_type": "execute_result"
    }
   ],
   "source": [
    "quadratic(x=5, a=5)"
   ]
  },
  {
   "cell_type": "code",
   "execution_count": 18,
   "id": "ea29b5c6-0918-4a05-a3c6-78c835fb0f89",
   "metadata": {},
   "outputs": [
    {
     "data": {
      "text/plain": [
       "25"
      ]
     },
     "execution_count": 18,
     "metadata": {},
     "output_type": "execute_result"
    }
   ],
   "source": [
    "quadratic(x=10, a=5)"
   ]
  },
  {
   "cell_type": "markdown",
   "id": "f5ff20ed-55b6-4c73-800e-4501b09dcf7a",
   "metadata": {},
   "source": [
    "It is helpful to plot $y = (x - a)$ first."
   ]
  },
  {
   "cell_type": "code",
   "execution_count": 19,
   "id": "1ee67033-dff8-4424-8e55-a47bf2407695",
   "metadata": {},
   "outputs": [
    {
     "data": {
      "image/png": "[encoded data removed]",
      "text/plain": [
       "<Figure size 640x480 with 1 Axes>"
      ]
     },
     "metadata": {
      "image/png": {
       "height": 457,
       "width": 571
      }
     },
     "output_type": "display_data"
    }
   ],
   "source": [
    "x = np.linspace(-5, 15, 101)\n",
    "y = quadratic(x=x)\n",
    "plt.plot(x, y)\n",
    "plt.xlabel(r'$x$')\n",
    "plt.ylabel(r'$y$')\n",
    "plt.title(r'$y = (x - 5)^2$')\n",
    "plt.show()"
   ]
  },
  {
   "cell_type": "markdown",
   "id": "f505f39b-2612-4b2e-b57f-2cb75d482666",
   "metadata": {},
   "source": [
    "The minimum output of `quadratic()` occurs at $x=5$ if we do not use bounds or constraints, even if we start far away from $x=5$."
   ]
  },
  {
   "cell_type": "code",
   "execution_count": 20,
   "id": "a1d853e7-41c9-4c6a-afb4-faed55727186",
   "metadata": {},
   "outputs": [
    {
     "data": {
      "text/plain": [
       "  message: Optimization terminated successfully.\n",
       "  success: True\n",
       "   status: 0\n",
       "      fun: 2.0392713450495178e-16\n",
       "        x: [ 5.000e+00]\n",
       "      nit: 4\n",
       "      jac: [-1.366e-08]\n",
       " hess_inv: [[ 5.000e-01]]\n",
       "     nfev: 18\n",
       "     njev: 9"
      ]
     },
     "execution_count": 20,
     "metadata": {},
     "output_type": "execute_result"
    }
   ],
   "source": [
    "sco.minimize(\n",
    "    fun=quadratic,\n",
    "    x0=np.array([2001])\n",
    ")"
   ]
  },
  {
   "cell_type": "markdown",
   "id": "4a984bc6-3060-445e-b62e-88fc4b0b0eaf",
   "metadata": {},
   "source": [
    "The minimum output of `quadratic()` occurs at $x=6$ if we bound `x` between 6 and 10 (i.e., $6 \\leq x \\leq 10$)."
   ]
  },
  {
   "cell_type": "code",
   "execution_count": 21,
   "id": "57c13b98-7960-4d93-a5ee-ea73416f57e6",
   "metadata": {},
   "outputs": [
    {
     "data": {
      "text/plain": [
       "  message: CONVERGENCE: NORM_OF_PROJECTED_GRADIENT_<=_PGTOL\n",
       "  success: True\n",
       "   status: 0\n",
       "      fun: 1.0\n",
       "        x: [ 6.000e+00]\n",
       "      nit: 1\n",
       "      jac: [ 2.000e+00]\n",
       "     nfev: 4\n",
       "     njev: 2\n",
       " hess_inv: <1x1 LbfgsInvHessProduct with dtype=float64>"
      ]
     },
     "execution_count": 21,
     "metadata": {},
     "output_type": "execute_result"
    }
   ],
   "source": [
    "sco.minimize(\n",
    "    fun=quadratic,\n",
    "    x0=np.array([2001]),\n",
    "    bounds=((6, 10),)\n",
    ")"
   ]
  },
  {
   "cell_type": "markdown",
   "id": "4ea95546-f28d-4769-a2a9-82aa9cb06018",
   "metadata": {},
   "source": [
    "The minimum output of `quadratic()` occurs at $x=6$, again, if we constrain `x - 6` to be non-negative.\n",
    "We use bounds to limit the search space directly, and we use constraints to limit the search space indirectly based on a formula."
   ]
  },
  {
   "cell_type": "code",
   "execution_count": 22,
   "id": "bd6c8fb9-991f-4025-80dc-b6c5dafd9289",
   "metadata": {},
   "outputs": [
    {
     "data": {
      "text/plain": [
       " message: Optimization terminated successfully\n",
       " success: True\n",
       "  status: 0\n",
       "     fun: 1.0000000000000018\n",
       "       x: [ 6.000e+00]\n",
       "     nit: 3\n",
       "     jac: [ 2.000e+00]\n",
       "    nfev: 6\n",
       "    njev: 3"
      ]
     },
     "execution_count": 22,
     "metadata": {},
     "output_type": "execute_result"
    }
   ],
   "source": [
    "sco.minimize(\n",
    "    fun=quadratic,\n",
    "    x0=np.array([2001]),\n",
    "    constraints=({'type': 'ineq', 'fun': lambda x: x - 6})\n",
    ")"
   ]
  },
  {
   "cell_type": "markdown",
   "id": "e742b7c8-d8d7-4d48-aa79-6bba5550cf4d",
   "metadata": {},
   "source": [
    "We can use the `args=` argument to pass additional arguments to `fun`.\n",
    "For example, we change the `a=` argument in `quadratic()` from the default of `a=5` to `a=20` with `args=(20,)`.\n",
    "Note that `args=` expects a tuple, so we need a trailing comma `,` if we have one argument."
   ]
  },
  {
   "cell_type": "code",
   "execution_count": 23,
   "id": "383f3c9c-fc49-47b3-afe8-d0392ecb17a3",
   "metadata": {},
   "outputs": [
    {
     "data": {
      "text/plain": [
       "  message: Optimization terminated successfully.\n",
       "  success: True\n",
       "   status: 0\n",
       "      fun: 7.090392030754976e-17\n",
       "        x: [ 2.000e+01]\n",
       "      nit: 4\n",
       "      jac: [-1.940e-09]\n",
       " hess_inv: [[ 5.000e-01]]\n",
       "     nfev: 18\n",
       "     njev: 9"
      ]
     },
     "execution_count": 23,
     "metadata": {},
     "output_type": "execute_result"
    }
   ],
   "source": [
    "sco.minimize(\n",
    "    fun=quadratic,\n",
    "    args=(20,),\n",
    "    x0=np.array([2001]),\n",
    ")"
   ]
  },
  {
   "cell_type": "markdown",
   "id": "21d2168a-b54e-40e2-8f54-256049eb5c69",
   "metadata": {},
   "source": [
    "### The Minimum Variance Portfolio"
   ]
  },
  {
   "cell_type": "markdown",
   "id": "3cd1489a-84b0-431d-b38c-3decb8afbcf1",
   "metadata": {},
   "source": [
    "We can find the minimum variance portfolio with `minimize()` function from SciPy's `optimize` module.\n",
    "The `minimize()` function with vary an input array `x` (starting from argument `x0=`) to minimize the objective function `fun=` subject to the bounds and constraints in `bounds=` and `constraints=`. \n",
    "We will define a function `port_vol()` to calculate portfolio volatility.\n",
    "The first argument to `port_vol()` must be the input array `x` that the `minimize()` function searches over.\n",
    "For clarity, we will call this first argument `x`, but the argument's name is not important."
   ]
  },
  {
   "cell_type": "code",
   "execution_count": 24,
   "id": "5db84cab-f631-44c2-88a8-700bca5aeb94",
   "metadata": {},
   "outputs": [],
   "source": [
    "def port_vol(x, r, ppy):\n",
    "    return np.sqrt(ppy) * r.dot(x).std()"
   ]
  },
  {
   "cell_type": "markdown",
   "id": "0eb7179f-0593-4837-b3b8-06225142cb21",
   "metadata": {},
   "source": [
    "We will eventually need a mean portfolio return function, too."
   ]
  },
  {
   "cell_type": "code",
   "execution_count": 25,
   "id": "7071a5e2-16bc-4a2e-977c-7e8b65577090",
   "metadata": {},
   "outputs": [],
   "source": [
    "def port_mean(x, r, ppy):\n",
    "    return ppy * r.dot(x).mean()"
   ]
  },
  {
   "cell_type": "code",
   "execution_count": 26,
   "id": "1319daec-3e67-4868-a8c9-6c9dcf4a4c5b",
   "metadata": {},
   "outputs": [
    {
     "name": "stdout",
     "output_type": "stream",
     "text": [
      " message: Optimization terminated successfully\n",
      " success: True\n",
      "  status: 0\n",
      "     fun: 0.2571111710752664\n",
      "       x: [ 4.478e-01  5.399e-17  1.281e-01  4.241e-01  2.060e-17\n",
      "            1.323e-17]\n",
      "     nit: 10\n",
      "     jac: [ 2.571e-01  2.645e-01  2.571e-01  2.571e-01  3.738e-01\n",
      "            3.130e-01]\n",
      "    nfev: 70\n",
      "    njev: 10\n"
     ]
    }
   ],
   "source": [
    "res_mv = sco.minimize(\n",
    "    fun=port_vol, # objective function that we minimize\n",
    "    x0=np.ones(returns.shape[1]) / returns.shape[1], # initial portfolio weights\n",
    "    args=(returns, 252), # additional arguments to our objective function\n",
    "    bounds=[(0,1) for _ in returns], # bounds limit the search space for each portfolio weights\n",
    "    constraints=(\n",
    "        {'type': 'eq', 'fun': lambda x: x.sum() - 1} # minimize drives \"eq\" constraints to zero\n",
    "    )\n",
    ")\n",
    "\n",
    "print(res_mv)"
   ]
  },
  {
   "cell_type": "markdown",
   "id": "2214c329-5d09-4dc4-85a7-2d28eb09a5c9",
   "metadata": {},
   "source": [
    "What are the attributes of this minimum variance portfolio?"
   ]
  },
  {
   "cell_type": "code",
   "execution_count": 27,
   "id": "3bf1cc96-7707-47f5-a5ea-e7a169c3c588",
   "metadata": {},
   "outputs": [],
   "source": [
    "def print_port_res(w, r, title, ppy=252, tgt=None):\n",
    "    width = len(title)\n",
    "    rp = r.dot(w)\n",
    "    mu = ppy * rp.mean()\n",
    "    sigma = np.sqrt(ppy) * rp.std()\n",
    "    if tgt is not None:\n",
    "        er = rp.sub(tgt)\n",
    "        sr = np.sqrt(ppy) * er.mean() / er.std()\n",
    "    else:\n",
    "        sr = None\n",
    "    \n",
    "    return print(\n",
    "        title,\n",
    "        '=' * width,\n",
    "        '',\n",
    "        'Performance',\n",
    "        '-' * width,\n",
    "        'Return:'.ljust(width - 6) + f'{mu:0.4f}',\n",
    "        'Volatility:'.ljust(width - 6) + f'{sigma:0.4f}',\n",
    "        'Sharpe Ratio:'.ljust(width - 6) + f'{sr:0.4f}\\n' if sr is not None else '',\n",
    "        'Weights', \n",
    "        '-' * width, \n",
    "        '\\n'.join([f'{_r}:'.ljust(width - 6) + f'{_w:0.4f}' for _r, _w in zip(r.columns, w)]),\n",
    "        sep='\\n',\n",
    "    )"
   ]
  },
  {
   "cell_type": "code",
   "execution_count": 28,
   "id": "c774bfbf-efa6-4116-88db-a2b7b0182601",
   "metadata": {},
   "outputs": [
    {
     "name": "stdout",
     "output_type": "stream",
     "text": [
      "Minimum Variance Portfolio\n",
      "==========================\n",
      "\n",
      "Performance\n",
      "--------------------------\n",
      "Return:             0.2037\n",
      "Volatility:         0.2571\n",
      "\n",
      "Weights\n",
      "--------------------------\n",
      "AAPL:               0.4478\n",
      "AMZN:               0.0000\n",
      "GOOG:               0.1281\n",
      "MSFT:               0.4241\n",
      "NVDA:               0.0000\n",
      "TSLA:               0.0000\n"
     ]
    }
   ],
   "source": [
    "print_port_res(w=res_mv['x'], r=returns, title='Minimum Variance Portfolio')"
   ]
  },
  {
   "cell_type": "markdown",
   "id": "d5228da5-fb04-4d19-91d2-61657640a005",
   "metadata": {},
   "source": [
    "### The Mean-Variance Efficient Frontier"
   ]
  },
  {
   "cell_type": "markdown",
   "id": "c78b35fb-d52b-469c-a124-f5a4e110ba07",
   "metadata": {},
   "source": [
    "We will use the `minimize()` function to map the efficient frontier.\n",
    "Here is a basic outline:\n",
    "\n",
    "1. Create a NumPy array `tret` of target returns\n",
    "1. Create an empty list `res_ef` of `minimize()` results\n",
    "1. Loop over `tret`, passing each as a constraint to the `minimize()` function\n",
    "1. Append each `minimize()` result to `res_ef`"
   ]
  },
  {
   "cell_type": "code",
   "execution_count": 29,
   "id": "c251c253-28d2-470a-b64f-64e2f67c85d6",
   "metadata": {},
   "outputs": [
    {
     "data": {
      "text/plain": [
       "array([0.0561, 0.0776, 0.0991, 0.1206, 0.1421, 0.1637, 0.1852, 0.2067,\n",
       "       0.2282, 0.2497, 0.2713, 0.2928, 0.3143, 0.3358, 0.3574, 0.3789,\n",
       "       0.4004, 0.4219, 0.4434, 0.465 , 0.4865, 0.508 , 0.5295, 0.551 ,\n",
       "       0.5726])"
      ]
     },
     "execution_count": 29,
     "metadata": {},
     "output_type": "execute_result"
    }
   ],
   "source": [
    "tret = 252 * np.linspace(returns.mean().min(), returns.mean().max(), 25)\n",
    "\n",
    "tret"
   ]
  },
  {
   "cell_type": "markdown",
   "id": "8de179d6-265f-41cd-b5f1-5a812397ad6b",
   "metadata": {},
   "source": [
    "We will loop over these target returns, finding the minimum variance portfolio for each target return."
   ]
  },
  {
   "cell_type": "code",
   "execution_count": 30,
   "id": "15c25607-37cb-4d30-b309-4f8a3e827ef6",
   "metadata": {},
   "outputs": [],
   "source": [
    "res_ef = []\n",
    "\n",
    "for t in tret:\n",
    "    _ = sco.minimize(\n",
    "        fun=port_vol, # minimize portfolio volatility\n",
    "        x0=np.ones(returns.shape[1]) / returns.shape[1], # initial portfolio weights\n",
    "        args=(returns, 252), # additional arguments to fun, in order\n",
    "        bounds=[(0, 1) for c in returns.columns], # bounds limit the search space for each portfolio weight\n",
    "        constraints=(\n",
    "            {'type': 'eq', 'fun': lambda x: x.sum() - 1}, # constrain sum of weights to one\n",
    "            {'type': 'eq', 'fun': lambda x: port_mean(x=x, r=returns, ppy=252) - t} # constrains portfolio mean return to the target return\n",
    "\n",
    "        )\n",
    "    )\n",
    "    res_ef.append(_)"
   ]
  },
  {
   "cell_type": "markdown",
   "id": "b4ce009b-f40d-40f5-89d9-21677b952f14",
   "metadata": {},
   "source": [
    "List `res_ef` contains the results of all 25 minimum-variance portfolios.\n",
    "For example, `res_ef[0]` is the minimum variance portfolio for the lowest target return."
   ]
  },
  {
   "cell_type": "code",
   "execution_count": 31,
   "id": "6e72edd2-3bb6-47e2-85c8-6dc949afb705",
   "metadata": {},
   "outputs": [
    {
     "data": {
      "text/plain": [
       " message: Optimization terminated successfully\n",
       " success: True\n",
       "  status: 0\n",
       "     fun: 0.37384794293656093\n",
       "       x: [ 1.031e-09  1.000e+00  6.384e-16  0.000e+00  0.000e+00\n",
       "            8.327e-17]\n",
       "     nit: 2\n",
       "     jac: [ 1.697e-01  3.738e-01  2.114e-01  1.859e-01  3.090e-01\n",
       "            2.698e-01]\n",
       "    nfev: 14\n",
       "    njev: 2"
      ]
     },
     "execution_count": 31,
     "metadata": {},
     "output_type": "execute_result"
    }
   ],
   "source": [
    "res_ef[0]"
   ]
  },
  {
   "cell_type": "markdown",
   "id": "3e19202c-ca12-4f57-a87c-be413f72360b",
   "metadata": {},
   "source": [
    "I typically check that all portfolio volatility minimization succeeds.\n",
    "If a portfolio volatility minimization fails, we should check our function, bounds, and constraints."
   ]
  },
  {
   "cell_type": "code",
   "execution_count": 32,
   "id": "74767957-4946-45b9-9602-f96e81788d5c",
   "metadata": {},
   "outputs": [],
   "source": [
    "for r in res_ef:\n",
    "    assert r['success'] "
   ]
  },
  {
   "cell_type": "markdown",
   "id": "04d12d0b-4d37-4a5a-b32e-89c44875974e",
   "metadata": {},
   "source": [
    "We can combine the target returns and volatilities into a data frame `ef`."
   ]
  },
  {
   "cell_type": "code",
   "execution_count": 33,
   "id": "3d30a59f-68bd-44eb-bfac-24d2d06a1fb2",
   "metadata": {},
   "outputs": [
    {
     "data": {
      "text/html": [
       "<div>\n",
       "<style scoped>\n",
       "    .dataframe tbody tr th:only-of-type {\n",
       "        vertical-align: middle;\n",
       "    }\n",
       "\n",
       "    .dataframe tbody tr th {\n",
       "        vertical-align: top;\n",
       "    }\n",
       "\n",
       "    .dataframe thead th {\n",
       "        text-align: right;\n",
       "    }\n",
       "</style>\n",
       "<table border=\"1\" class=\"dataframe\">\n",
       "  <thead>\n",
       "    <tr style=\"text-align: right;\">\n",
       "      <th></th>\n",
       "      <th>tret</th>\n",
       "      <th>tvol</th>\n",
       "    </tr>\n",
       "  </thead>\n",
       "  <tbody>\n",
       "    <tr>\n",
       "      <th>0</th>\n",
       "      <td>0.0561</td>\n",
       "      <td>0.3738</td>\n",
       "    </tr>\n",
       "    <tr>\n",
       "      <th>1</th>\n",
       "      <td>0.0776</td>\n",
       "      <td>0.3417</td>\n",
       "    </tr>\n",
       "    <tr>\n",
       "      <th>2</th>\n",
       "      <td>0.0991</td>\n",
       "      <td>0.3144</td>\n",
       "    </tr>\n",
       "    <tr>\n",
       "      <th>3</th>\n",
       "      <td>0.1206</td>\n",
       "      <td>0.2933</td>\n",
       "    </tr>\n",
       "    <tr>\n",
       "      <th>4</th>\n",
       "      <td>0.1421</td>\n",
       "      <td>0.2778</td>\n",
       "    </tr>\n",
       "  </tbody>\n",
       "</table>\n",
       "</div>"
      ],
      "text/plain": [
       "    tret   tvol\n",
       "0 0.0561 0.3738\n",
       "1 0.0776 0.3417\n",
       "2 0.0991 0.3144\n",
       "3 0.1206 0.2933\n",
       "4 0.1421 0.2778"
      ]
     },
     "execution_count": 33,
     "metadata": {},
     "output_type": "execute_result"
    }
   ],
   "source": [
    "ef = pd.DataFrame(\n",
    "    {\n",
    "        'tret': tret,\n",
    "        'tvol': np.array([r['fun'] if r['success'] else np.nan for r in res_ef])\n",
    "    }\n",
    ")\n",
    "\n",
    "ef.head()"
   ]
  },
  {
   "cell_type": "code",
   "execution_count": 34,
   "id": "a4a63af8-68d7-454c-b722-30250403dc53",
   "metadata": {},
   "outputs": [
    {
     "data": {
      "image/png": "[encoded data removed]",
      "text/plain": [
       "<Figure size 640x480 with 1 Axes>"
      ]
     },
     "metadata": {
      "image/png": {
       "height": 492,
       "width": 580
      }
     },
     "output_type": "display_data"
    }
   ],
   "source": [
    "ef.mul(100).plot(x='tvol', y='tret', legend=False)\n",
    "plt.ylabel('Annualized Mean Return (%)')\n",
    "plt.xlabel('Annualized Volatility (%)')\n",
    "plt.title(\n",
    "    f'Efficient Frontier' +\n",
    "    f'\\nfor {\", \".join(returns.columns)}' +\n",
    "    f'\\nfrom {returns.index[0]:%B %d, %Y} to {returns.index[-1]:%B %d, %Y}'\n",
    ")\n",
    "\n",
    "for t, x, y in zip(\n",
    "    returns.columns, \n",
    "    returns.std().mul(100*np.sqrt(252)),\n",
    "    returns.mean().mul(100*252)\n",
    "):\n",
    "    plt.annotate(text=t, xy=(x, y))\n",
    "    \n",
    "plt.show()"
   ]
  }
 ],
 "metadata": {
  "author": "Richard Herron",
  "kernelspec": {
   "display_name": "Python 3 (ipykernel)",
   "language": "python",
   "name": "python3"
  },
  "language_info": {
   "codemirror_mode": {
    "name": "ipython",
    "version": 3
   },
   "file_extension": ".py",
   "mimetype": "text/x-python",
   "name": "python",
   "nbconvert_exporter": "python",
   "pygments_lexer": "ipython3",
   "version": "3.9.18"
  },
  "title": "Herron Topic 4 - Portfolio Optimization"
 },
 "nbformat": 4,
 "nbformat_minor": 5
}
