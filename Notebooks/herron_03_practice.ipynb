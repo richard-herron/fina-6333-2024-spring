{
 "cells": [
  {
   "cell_type": "markdown",
   "id": "22b59adb-864b-49c7-99dc-5f498ced59c2",
   "metadata": {},
   "source": [
    "# Herron Topic 3 - Practice (Blank)"
   ]
  },
  {
   "cell_type": "markdown",
   "id": "5adf9803-55e1-4ccc-a675-65f13ac58bca",
   "metadata": {},
   "source": [
    "## Announcements"
   ]
  },
  {
   "cell_type": "markdown",
   "id": "837fbfec-079d-4190-b763-7cf5e73ec3e2",
   "metadata": {},
   "source": [
    "##  Practice"
   ]
  },
  {
   "cell_type": "markdown",
   "id": "defd2709-7b97-436e-93ce-5e0675378796",
   "metadata": {
    "pycharm": {
     "name": "#%% md\n"
    }
   },
   "source": [
    "### Plot the security market line (SML) for a variety of asset classes"
   ]
  },
  {
   "cell_type": "markdown",
   "id": "5aac7c76-56fc-4ac3-942b-9dc9125fc460",
   "metadata": {
    "pycharm": {
     "name": "#%% md\n"
    }
   },
   "source": [
    "Use the past three years of daily data for the following exhange traded funds (ETFs):\n",
    "\n",
    "1. SPY (SPDR---Standard and Poor's Depository Receipts---ETF for the S&P 500 index)\n",
    "1. BIL (SPDR ETF for 1-3 month Treasury bills)\n",
    "1. GLD (SPDR ETF for gold)\n",
    "1. JNK (SPDR ETF for high-yield debt)\n",
    "1. MDY (SPDR ETF for S&P 400 mid-cap index)\n",
    "1. SLY (SPDR ETF for S&P 600 small-cap index)\n",
    "1. SPBO (SPDR ETF for corporate bonds)\n",
    "1. SPMB (SPDR ETF for mortgage-backed securities)\n",
    "1. SPTL (SPDR ETF for long-term Treasury bonds)"
   ]
  },
  {
   "cell_type": "markdown",
   "id": "1b1559b0-f718-4820-b4b2-b5141dbacc72",
   "metadata": {},
   "source": [
    "### Plot the SML for the Dow Jones Industrial Average (DJIA) stocks"
   ]
  },
  {
   "cell_type": "markdown",
   "id": "3ff6d6c6-2967-4137-8475-6166558fb1a9",
   "metadata": {},
   "source": [
    "Use the past three years of daily returns data for the stocks listed on the [DJIA Wikipedia page](https://en.wikipedia.org/wiki/Dow_Jones_Industrial_Average).\n",
    "Compare the DJIA SML to the asset class SML above."
   ]
  },
  {
   "cell_type": "markdown",
   "id": "f0a86d81-6802-4d38-a1ac-f6833f8b3cb3",
   "metadata": {},
   "source": [
    "### Plot the SML for the five portfolios formed on beta"
   ]
  },
  {
   "cell_type": "markdown",
   "id": "b3137f8f-512a-4fd1-94e6-949769d3c09d",
   "metadata": {},
   "source": [
    "Download data for portfolios formed on $\\beta$ (`Portfolios_Formed_on_BETA`) from Ken French.\n",
    "For the value-weighted portfolios, plot realized returns versus $\\beta$.\n",
    "These data should elements `[2]` and `[6]`, respectively."
   ]
  },
  {
   "cell_type": "markdown",
   "id": "f33a8edb-7dd5-493a-9088-df859eb51f4d",
   "metadata": {},
   "source": [
    "### Estimate the CAPM $\\beta$s on several levered and inverse exchange traded funds (ETFs)"
   ]
  },
  {
   "cell_type": "markdown",
   "id": "f6fbd390-e6b0-4b3f-90b7-3083ef2d9af6",
   "metadata": {},
   "source": [
    "Try the following ETFs:\n",
    "\n",
    "1. SPY\n",
    "1. UPRO\n",
    "1. SPXU\n",
    "\n",
    "Can you determine what these products do from the data alone?\n",
    "Estimate $\\beta$s and plot cumulative returns.\n",
    "You may want to pick short periods of time with large market swings."
   ]
  },
  {
   "cell_type": "markdown",
   "id": "5446e100-7599-44df-9062-ba8cad1d63f5",
   "metadata": {},
   "source": [
    "### Explore the size factor"
   ]
  },
  {
   "cell_type": "markdown",
   "id": "ef5e5102-4f0b-4682-83ff-f8f97b367316",
   "metadata": {},
   "source": [
    "#### Estimate $\\alpha$s for the ten portfolios formed on size"
   ]
  },
  {
   "cell_type": "markdown",
   "id": "3f2f757d-00d4-47ec-80fa-75b471273f21",
   "metadata": {},
   "source": [
    "Academics started researching size-based portfolios in the early 1980s, so you may want to focus on the pre-1980 sample."
   ]
  },
  {
   "cell_type": "markdown",
   "id": "d4491fe9-f3e6-40e8-a407-7b9917baeb6f",
   "metadata": {},
   "source": [
    "#### Are the returns on these ten portfolios formed on size concentrated in a specific month?"
   ]
  },
  {
   "cell_type": "markdown",
   "id": "33bf3270-c0ee-4ed4-8b36-ae716b6a8c56",
   "metadata": {},
   "source": [
    "#### Compare the size factor to the market factor"
   ]
  },
  {
   "cell_type": "markdown",
   "id": "ecd5ea21-35a2-4fae-b7b8-3c88708427fa",
   "metadata": {},
   "source": [
    "You may want to consider mean excess returns by decade."
   ]
  },
  {
   "cell_type": "markdown",
   "id": "42c93465-e6d9-4dad-85ae-27d9bd169c3e",
   "metadata": {},
   "source": [
    "### Repeat the exercises above with the value factor"
   ]
  },
  {
   "cell_type": "markdown",
   "id": "bb0a2982-c053-4f63-8f18-a7886bf42d66",
   "metadata": {},
   "source": [
    "### Repeat the exercises above with the momentum factor"
   ]
  },
  {
   "cell_type": "markdown",
   "id": "fe9f1bb9-ae8d-47b7-ad67-c0aa7e97a16e",
   "metadata": {},
   "source": [
    "You may find it helpful to consider the worst months and years for the momentum factor."
   ]
  },
  {
   "cell_type": "markdown",
   "id": "c520890a-6d3e-40d5-8c4c-4d341625bdb2",
   "metadata": {},
   "source": [
    "### Plot the coefficient estimates from a rolling Fama-French three-factor model for Berkshire Hathaway"
   ]
  },
  {
   "cell_type": "markdown",
   "id": "ac608adc-77d5-42a4-bf51-5a41e87e5371",
   "metadata": {},
   "source": [
    "Use a three-year window with daily returns.\n",
    "How has Buffett's $\\alpha$ and $\\beta$s changed over the past four decades?"
   ]
  },
  {
   "cell_type": "markdown",
   "id": "139dbd7c-d27a-46c2-8a07-b31d562a9499",
   "metadata": {},
   "source": [
    "### Use the three-, four-, and five-factor models to determine how the ARKK Innovation ETF generates returns "
   ]
  }
 ],
 "metadata": {
  "kernelspec": {
   "display_name": "Python 3 (ipykernel)",
   "language": "python",
   "name": "python3"
  },
  "language_info": {
   "codemirror_mode": {
    "name": "ipython",
    "version": 3
   },
   "file_extension": ".py",
   "mimetype": "text/x-python",
   "name": "python",
   "nbconvert_exporter": "python",
   "pygments_lexer": "ipython3",
   "version": "3.11.4"
  },
  "title": "Herron Topic 3 - Practice"
 },
 "nbformat": 4,
 "nbformat_minor": 5
}
