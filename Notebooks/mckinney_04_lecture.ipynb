{
 "cells": [
  {
   "cell_type": "markdown",
   "id": "9f0ba7a1-8aa8-46c6-b47d-6c696a2f0012",
   "metadata": {
    "tags": []
   },
   "source": [
    "# McKinney Chapter 4 - NumPy Basics: Arrays and Vectorized Computation"
   ]
  },
  {
   "cell_type": "markdown",
   "id": "eb609aac-2ced-434d-9127-951c75464d8d",
   "metadata": {},
   "source": [
    "## Introduction"
   ]
  },
  {
   "cell_type": "markdown",
   "id": "28e8cd8d-e748-4aed-8cba-99ffbde4654a",
   "metadata": {},
   "source": [
    "Chapter 4 of Wes McKinney's [*Python for Data Analysis*](https://wesmckinney.com/book/) discusses the NumPy package (an abbreviation of numerical Python), which is the foundation for numerical computing in Python, including pandas.\n",
    "\n",
    "We will focus on:\n",
    "\n",
    "1. Creating arrays\n",
    "1. Slicing arrays\n",
    "1. Applying functions and methods to arrays\n",
    "1. Using conditional logic with arrays (i.e., `np.where()` and `np.select()`)\n",
    "\n",
    "***Note:*** \n",
    "Indented block quotes are from McKinney unless otherwise indicated.\n",
    "The section numbers here differ from McKinney because we will only discuss some topics."
   ]
  },
  {
   "cell_type": "markdown",
   "id": "10c7566f-e7f8-425e-8dbe-16ae0d22a150",
   "metadata": {},
   "source": [
    "The typical abbreviation for NumPy is `np`."
   ]
  },
  {
   "cell_type": "code",
   "execution_count": 1,
   "id": "dd755d07-93ef-444d-824b-aaa1ace421af",
   "metadata": {
    "editable": true,
    "jupyter": {
     "outputs_hidden": false
    },
    "tags": []
   },
   "outputs": [],
   "source": [
    "import numpy as np"
   ]
  },
  {
   "cell_type": "markdown",
   "id": "86f65a41-cf67-4658-8e0a-db93a46694ea",
   "metadata": {},
   "source": [
    "The \"magic\" function `%precision 4` tells JupyterLab to print NumPy arrays to 4 decimals.\n",
    "This magic function only changes the printed precision and does not change the stored precision of the underlying values."
   ]
  },
  {
   "cell_type": "code",
   "execution_count": 2,
   "id": "9b05266f-ec0c-4937-a6fa-b89624b76aad",
   "metadata": {},
   "outputs": [
    {
     "data": {
      "text/plain": [
       "'%.4f'"
      ]
     },
     "execution_count": 2,
     "metadata": {},
     "output_type": "execute_result"
    }
   ],
   "source": [
    "%precision 4"
   ]
  },
  {
   "cell_type": "markdown",
   "id": "07c1082b-c7b5-4594-b904-6b750e1bdba4",
   "metadata": {},
   "source": [
    "McKinney thoroughly discuesses the history on NumPy, as well as its technical advantages.\n",
    "But here is a simple illustration of the speed and syntax advantages of NumPy of Python's built-in data structures.\n",
    "First, we create a list and array with values from 0 to 999,999."
   ]
  },
  {
   "cell_type": "code",
   "execution_count": 3,
   "id": "18605722-6daa-433e-8124-2543a250dd91",
   "metadata": {
    "editable": true,
    "jupyter": {
     "outputs_hidden": false
    },
    "tags": []
   },
   "outputs": [],
   "source": [
    "my_list = list(range(1_000_000))"
   ]
  },
  {
   "cell_type": "code",
   "execution_count": 4,
   "id": "6c440489-246d-46a0-b7d3-b7057b03e759",
   "metadata": {
    "tags": []
   },
   "outputs": [],
   "source": [
    "my_arr = np.arange(1_000_000)"
   ]
  },
  {
   "cell_type": "code",
   "execution_count": 5,
   "id": "2b47b0ea-9983-4c62-a3e8-04b12bdf58cd",
   "metadata": {},
   "outputs": [
    {
     "data": {
      "text/plain": [
       "[0, 1, 2, 3, 4]"
      ]
     },
     "execution_count": 5,
     "metadata": {},
     "output_type": "execute_result"
    }
   ],
   "source": [
    "my_list[:5]"
   ]
  },
  {
   "cell_type": "code",
   "execution_count": 6,
   "id": "c0b96bdc-118d-44ac-b701-4bd14c92e886",
   "metadata": {},
   "outputs": [
    {
     "data": {
      "text/plain": [
       "array([0, 1, 2, 3, 4])"
      ]
     },
     "execution_count": 6,
     "metadata": {},
     "output_type": "execute_result"
    }
   ],
   "source": [
    "my_arr[:5]"
   ]
  },
  {
   "cell_type": "markdown",
   "id": "62d2a436-266b-4c6e-9980-a2c4e1c35acb",
   "metadata": {},
   "source": [
    "If we want to double each value in `my_list` we have to use a for loop or a list comprehension."
   ]
  },
  {
   "cell_type": "code",
   "execution_count": 7,
   "id": "18621fe9-c3ec-4d25-b01e-5c398e8b508b",
   "metadata": {
    "tags": []
   },
   "outputs": [
    {
     "data": {
      "text/plain": [
       "2000000"
      ]
     },
     "execution_count": 7,
     "metadata": {},
     "output_type": "execute_result"
    }
   ],
   "source": [
    "len(my_list * 2) # concatenates two copies of my_list"
   ]
  },
  {
   "cell_type": "code",
   "execution_count": 8,
   "id": "84fa8517-b450-4c17-8e1f-e3c7b66f4ca5",
   "metadata": {
    "tags": []
   },
   "outputs": [],
   "source": [
    "# [2 * x for x in my_list] # list comprehension to double each value"
   ]
  },
  {
   "cell_type": "markdown",
   "id": "550a8e8e-e93a-4c5a-b925-76a5b04ded21",
   "metadata": {},
   "source": [
    "However, we can multiply `my_arr` by two because math \"just works\" with NumPy."
   ]
  },
  {
   "cell_type": "code",
   "execution_count": 9,
   "id": "bf2040ac-3451-4c5d-b535-9a00c2dd492e",
   "metadata": {
    "tags": []
   },
   "outputs": [
    {
     "data": {
      "text/plain": [
       "array([      0,       2,       4, ..., 1999994, 1999996, 1999998])"
      ]
     },
     "execution_count": 9,
     "metadata": {},
     "output_type": "execute_result"
    }
   ],
   "source": [
    "my_arr * 2"
   ]
  },
  {
   "cell_type": "markdown",
   "id": "fe22ff28-3900-4d2b-93ff-d85344fca95b",
   "metadata": {},
   "source": [
    "We can use the \"magic\" function `%timeit` to time these two calculations."
   ]
  },
  {
   "cell_type": "code",
   "execution_count": 10,
   "id": "3b4e588e-a4a6-473f-964c-64dc894be794",
   "metadata": {},
   "outputs": [
    {
     "name": "stdout",
     "output_type": "stream",
     "text": [
      "39.8 ms ± 512 µs per loop (mean ± std. dev. of 7 runs, 10 loops each)\n"
     ]
    }
   ],
   "source": [
    "%timeit [x * 2 for x in my_list]"
   ]
  },
  {
   "cell_type": "code",
   "execution_count": 11,
   "id": "16bba037-60a5-486e-991c-fd61b58158c5",
   "metadata": {
    "deletable": true,
    "editable": true,
    "jupyter": {
     "outputs_hidden": false
    },
    "tags": []
   },
   "outputs": [
    {
     "name": "stdout",
     "output_type": "stream",
     "text": [
      "814 µs ± 26 µs per loop (mean ± std. dev. of 7 runs, 1,000 loops each)\n"
     ]
    }
   ],
   "source": [
    "%timeit my_arr * 2"
   ]
  },
  {
   "cell_type": "markdown",
   "id": "0a7e173c-47b4-4aa0-b920-8d6e55659131",
   "metadata": {},
   "source": [
    "The NumPy version is a hundred times faster than the list version.\n",
    "The NumPy version is also faster to type, read, and troubleshoot, which are typically more important.\n",
    "Our time is more valuable than the computer time!"
   ]
  },
  {
   "cell_type": "markdown",
   "id": "41f5102a-9e95-4641-b4b7-a99f90c97326",
   "metadata": {},
   "source": [
    "## The NumPy ndarray: A Multidimensional Array Object"
   ]
  },
  {
   "cell_type": "markdown",
   "id": "713ab396-6dca-4dc1-9442-612d2111c0d0",
   "metadata": {},
   "source": [
    "> One of the key features of NumPy is its N-dimensional array object, or ndarray, which is a fast, flexible container for large datasets in Python. Arrays enable you to perform mathematical operations on whole blocks of data using similar syntax to the equivalent operations between scalar elements.\n",
    "\n",
    "We generate random data to explore NumPy arrays.\n",
    "Whenever we generate random data, we should set the random number seed with `np.random.seed(42)`, which makes our random numbers repeatable.\n",
    "If we use the same random number seed, our random numbers will be the same."
   ]
  },
  {
   "cell_type": "code",
   "execution_count": 12,
   "id": "33dfdea7-4b6e-4f04-8130-d800974bc11c",
   "metadata": {},
   "outputs": [
    {
     "data": {
      "text/plain": [
       "array([[ 0.4967, -0.1383,  0.6477],\n",
       "       [ 1.523 , -0.2342, -0.2341]])"
      ]
     },
     "execution_count": 12,
     "metadata": {},
     "output_type": "execute_result"
    }
   ],
   "source": [
    "np.random.seed(42)\n",
    "data = np.random.randn(2, 3)\n",
    "data"
   ]
  },
  {
   "cell_type": "markdown",
   "id": "e99f543b-67b5-460a-a24b-02ebea8ea59c",
   "metadata": {},
   "source": [
    "Multiplying `data` by 10 multiplies each element in `data` by 10, and adding `data` to itself adds each element to itself (i.e., element-wise addition).\n",
    "To achieve this common-sense behavior, NumPy arrays must contain homogeneous data types (e.g., all floats or all integers)."
   ]
  },
  {
   "cell_type": "code",
   "execution_count": 13,
   "id": "bdd0241b-8d46-47f3-b34e-a33590ab56a3",
   "metadata": {
    "deletable": true,
    "editable": true,
    "jupyter": {
     "outputs_hidden": false
    },
    "tags": []
   },
   "outputs": [
    {
     "data": {
      "text/plain": [
       "array([[ 4.9671, -1.3826,  6.4769],\n",
       "       [15.2303, -2.3415, -2.3414]])"
      ]
     },
     "execution_count": 13,
     "metadata": {},
     "output_type": "execute_result"
    }
   ],
   "source": [
    "data * 10"
   ]
  },
  {
   "cell_type": "code",
   "execution_count": 14,
   "id": "3b4b95b2-df57-4d47-8abc-0aca6e2d7f50",
   "metadata": {
    "tags": []
   },
   "outputs": [
    {
     "data": {
      "text/plain": [
       "array([[ 0.9934, -0.2765,  1.2954],\n",
       "       [ 3.0461, -0.4683, -0.4683]])"
      ]
     },
     "execution_count": 14,
     "metadata": {},
     "output_type": "execute_result"
    }
   ],
   "source": [
    "data_2 = data + data\n",
    "data_2"
   ]
  },
  {
   "cell_type": "markdown",
   "id": "6467e274-490c-4364-ad0c-3e42a2a35240",
   "metadata": {},
   "source": [
    "NumPy arrays have attributes.\n",
    "Recall that Jupyter Notebooks provides tab completion."
   ]
  },
  {
   "cell_type": "code",
   "execution_count": 15,
   "id": "4046c399-32ff-42da-abf5-a057d74252c8",
   "metadata": {},
   "outputs": [
    {
     "data": {
      "text/plain": [
       "2"
      ]
     },
     "execution_count": 15,
     "metadata": {},
     "output_type": "execute_result"
    }
   ],
   "source": [
    "data.ndim"
   ]
  },
  {
   "cell_type": "code",
   "execution_count": 16,
   "id": "4d69835a-eaf1-4bdf-8cf5-b9afc70d0a84",
   "metadata": {
    "deletable": true,
    "editable": true,
    "jupyter": {
     "outputs_hidden": false
    },
    "tags": []
   },
   "outputs": [
    {
     "data": {
      "text/plain": [
       "(2, 3)"
      ]
     },
     "execution_count": 16,
     "metadata": {},
     "output_type": "execute_result"
    }
   ],
   "source": [
    "data.shape"
   ]
  },
  {
   "cell_type": "code",
   "execution_count": 17,
   "id": "7d4cf529-53e9-4bd9-a9e8-9626699ac50e",
   "metadata": {
    "deletable": true,
    "editable": true,
    "jupyter": {
     "outputs_hidden": false
    },
    "tags": []
   },
   "outputs": [
    {
     "data": {
      "text/plain": [
       "dtype('float64')"
      ]
     },
     "execution_count": 17,
     "metadata": {},
     "output_type": "execute_result"
    }
   ],
   "source": [
    "data.dtype"
   ]
  },
  {
   "cell_type": "markdown",
   "id": "b1c93275-a298-4bfc-a5e3-eb634b3d1a93",
   "metadata": {},
   "source": [
    "We access or slice elements in a NumPy array using `[]`, the same as we slice lists and tuples."
   ]
  },
  {
   "cell_type": "code",
   "execution_count": 18,
   "id": "813050da-4149-4480-8072-95d3daf78d5d",
   "metadata": {
    "tags": []
   },
   "outputs": [
    {
     "data": {
      "text/plain": [
       "array([ 0.4967, -0.1383,  0.6477])"
      ]
     },
     "execution_count": 18,
     "metadata": {},
     "output_type": "execute_result"
    }
   ],
   "source": [
    "data[0]"
   ]
  },
  {
   "cell_type": "markdown",
   "id": "cf4937cf-58f6-450b-bd70-2b86a1e1d684",
   "metadata": {},
   "source": [
    "As with list and tuples, we can chain `[]`s."
   ]
  },
  {
   "cell_type": "code",
   "execution_count": 19,
   "id": "7d007385-0544-4054-a95b-eec20dd79f77",
   "metadata": {
    "tags": []
   },
   "outputs": [
    {
     "data": {
      "text/plain": [
       "0.4967"
      ]
     },
     "execution_count": 19,
     "metadata": {},
     "output_type": "execute_result"
    }
   ],
   "source": [
    "data[0][0]"
   ]
  },
  {
   "cell_type": "markdown",
   "id": "06f4cfd0-2bd5-4798-aecb-02496b2efb45",
   "metadata": {},
   "source": [
    "However, with NumPy arrays. we can replace $n$ chained `[]`s with one pair of `[]`s containing $n$ values separated by commas.\n",
    "For example, `[i][j]` becomes `[i, j]`, `[i][j][k]` becomes `[i, j, k]`.\n",
    "This abbreviated notation is similar to what you see in your math and econometrics courses."
   ]
  },
  {
   "cell_type": "code",
   "execution_count": 20,
   "id": "31b6dd37-7629-414d-b421-7361355ad771",
   "metadata": {
    "tags": []
   },
   "outputs": [
    {
     "data": {
      "text/plain": [
       "0.4967"
      ]
     },
     "execution_count": 20,
     "metadata": {},
     "output_type": "execute_result"
    }
   ],
   "source": [
    "data[0, 0] # zero row, zero column"
   ]
  },
  {
   "cell_type": "code",
   "execution_count": 21,
   "id": "c5dca045-7d31-47ab-9854-f8762f6ffad5",
   "metadata": {},
   "outputs": [
    {
     "data": {
      "text/plain": [
       "True"
      ]
     },
     "execution_count": 21,
     "metadata": {},
     "output_type": "execute_result"
    }
   ],
   "source": [
    "data[0][0] == data[0, 0]"
   ]
  },
  {
   "cell_type": "markdown",
   "id": "2311872c-99eb-4358-ad68-0f2e44ef2bef",
   "metadata": {},
   "source": [
    "### Creating ndarrays"
   ]
  },
  {
   "cell_type": "markdown",
   "id": "4cc73a13-173a-4d5c-b18c-0bc4fa4ab1b0",
   "metadata": {},
   "source": [
    "> The easiest way to create an array is to use the array function. This accepts any sequence-like object (including other arrays) and produces a new NumPy array containing the passed data"
   ]
  },
  {
   "cell_type": "code",
   "execution_count": 22,
   "id": "2ab0a484-4288-4a11-9cf1-a371bba92a07",
   "metadata": {},
   "outputs": [
    {
     "data": {
      "text/plain": [
       "array([6. , 7.5, 8. , 0. , 1. ])"
      ]
     },
     "execution_count": 22,
     "metadata": {},
     "output_type": "execute_result"
    }
   ],
   "source": [
    "data1 = [6, 7.5, 8, 0, 1]\n",
    "arr1 = np.array(data1)\n",
    "arr1"
   ]
  },
  {
   "cell_type": "code",
   "execution_count": 23,
   "id": "b642cfb9-644a-4144-8ecf-c653ac23c225",
   "metadata": {},
   "outputs": [
    {
     "data": {
      "text/plain": [
       "dtype('float64')"
      ]
     },
     "execution_count": 23,
     "metadata": {},
     "output_type": "execute_result"
    }
   ],
   "source": [
    "arr1.dtype"
   ]
  },
  {
   "cell_type": "markdown",
   "id": "d2c8d027-40d6-4db6-970a-97bb61ee9ee8",
   "metadata": {},
   "source": [
    "Here `np.array()` casts the values in `data1` to floats becuase NumPy arrays must have homogenous data types.\n",
    "We could coerce these values to integers but would lose information."
   ]
  },
  {
   "cell_type": "code",
   "execution_count": 24,
   "id": "fa06ecac-57bf-4215-9a1f-285fe7d938ff",
   "metadata": {
    "tags": []
   },
   "outputs": [
    {
     "data": {
      "text/plain": [
       "array([6, 7, 8, 0, 1], dtype=int64)"
      ]
     },
     "execution_count": 24,
     "metadata": {},
     "output_type": "execute_result"
    }
   ],
   "source": [
    "np.array(data1, dtype=np.int64)"
   ]
  },
  {
   "cell_type": "markdown",
   "id": "6ddbd235-ab72-4d58-8b07-9b42f8b82583",
   "metadata": {},
   "source": [
    "We can coerce or cast a list-of-lists to a two-dimensional NumPy array."
   ]
  },
  {
   "cell_type": "code",
   "execution_count": 25,
   "id": "efc0c5bc-dc9d-4a23-a836-a0734b7ce693",
   "metadata": {},
   "outputs": [
    {
     "data": {
      "text/plain": [
       "array([[1, 2, 3, 4],\n",
       "       [5, 6, 7, 8]])"
      ]
     },
     "execution_count": 25,
     "metadata": {},
     "output_type": "execute_result"
    }
   ],
   "source": [
    "data2 = [[1, 2, 3, 4], [5, 6, 7, 8]]\n",
    "arr2 = np.array(data2)\n",
    "arr2"
   ]
  },
  {
   "cell_type": "code",
   "execution_count": 26,
   "id": "f2bcac2b-b3f0-45e9-bbe6-670f4593c04f",
   "metadata": {
    "tags": []
   },
   "outputs": [
    {
     "data": {
      "text/plain": [
       "2"
      ]
     },
     "execution_count": 26,
     "metadata": {},
     "output_type": "execute_result"
    }
   ],
   "source": [
    "arr2.ndim"
   ]
  },
  {
   "cell_type": "code",
   "execution_count": 27,
   "id": "9ca800ba-82ec-4c51-bcbe-afa3511ec459",
   "metadata": {
    "deletable": true,
    "editable": true,
    "jupyter": {
     "outputs_hidden": false
    },
    "tags": []
   },
   "outputs": [
    {
     "data": {
      "text/plain": [
       "(2, 4)"
      ]
     },
     "execution_count": 27,
     "metadata": {},
     "output_type": "execute_result"
    }
   ],
   "source": [
    "arr2.shape"
   ]
  },
  {
   "cell_type": "code",
   "execution_count": 28,
   "id": "69ef3f06-e1c8-4d39-9673-efba5d3f9371",
   "metadata": {
    "tags": []
   },
   "outputs": [
    {
     "data": {
      "text/plain": [
       "dtype('int32')"
      ]
     },
     "execution_count": 28,
     "metadata": {},
     "output_type": "execute_result"
    }
   ],
   "source": [
    "arr2.dtype"
   ]
  },
  {
   "cell_type": "markdown",
   "id": "5953ca52-e3ea-46b8-8de0-e8b58f3892ba",
   "metadata": {},
   "source": [
    "There are several other ways to create NumPy arrays."
   ]
  },
  {
   "cell_type": "code",
   "execution_count": 29,
   "id": "9cb0de3e-a126-415e-8334-558aa332fb50",
   "metadata": {
    "deletable": true,
    "editable": true,
    "jupyter": {
     "outputs_hidden": false
    },
    "tags": []
   },
   "outputs": [
    {
     "data": {
      "text/plain": [
       "array([0., 0., 0., 0., 0., 0., 0., 0., 0., 0.])"
      ]
     },
     "execution_count": 29,
     "metadata": {},
     "output_type": "execute_result"
    }
   ],
   "source": [
    "np.zeros(10)"
   ]
  },
  {
   "cell_type": "code",
   "execution_count": 30,
   "id": "6fe07680-1de4-430a-ac8d-3f7dbd0bda2a",
   "metadata": {
    "tags": []
   },
   "outputs": [
    {
     "data": {
      "text/plain": [
       "array([[0., 0., 0., 0., 0., 0.],\n",
       "       [0., 0., 0., 0., 0., 0.],\n",
       "       [0., 0., 0., 0., 0., 0.]])"
      ]
     },
     "execution_count": 30,
     "metadata": {},
     "output_type": "execute_result"
    }
   ],
   "source": [
    "np.zeros((3, 6))"
   ]
  },
  {
   "cell_type": "markdown",
   "id": "03e05afa-d0b3-46f9-b4ab-397c57a9dc2d",
   "metadata": {},
   "source": [
    "The `np.arange()` function is similar to Python's built-in `range()` but creates an array directly."
   ]
  },
  {
   "cell_type": "code",
   "execution_count": 31,
   "id": "d67f47b9-7b3a-4060-8683-484ed0e92f61",
   "metadata": {},
   "outputs": [
    {
     "data": {
      "text/plain": [
       "[0, 1, 2, 3, 4, 5, 6, 7, 8, 9, 10, 11, 12, 13, 14]"
      ]
     },
     "execution_count": 31,
     "metadata": {},
     "output_type": "execute_result"
    }
   ],
   "source": [
    "list(range(15))"
   ]
  },
  {
   "cell_type": "code",
   "execution_count": 32,
   "id": "72628c5f-f403-4aa7-b8c1-1850b8f1f4fc",
   "metadata": {},
   "outputs": [
    {
     "data": {
      "text/plain": [
       "array([ 0,  1,  2,  3,  4,  5,  6,  7,  8,  9, 10, 11, 12, 13, 14])"
      ]
     },
     "execution_count": 32,
     "metadata": {},
     "output_type": "execute_result"
    }
   ],
   "source": [
    "np.array(range(15))"
   ]
  },
  {
   "cell_type": "code",
   "execution_count": 33,
   "id": "6b0c89bc-18ae-4f3b-9aaf-2524568b2055",
   "metadata": {
    "deletable": true,
    "editable": true,
    "jupyter": {
     "outputs_hidden": false
    }
   },
   "outputs": [
    {
     "data": {
      "text/plain": [
       "array([ 0,  1,  2,  3,  4,  5,  6,  7,  8,  9, 10, 11, 12, 13, 14])"
      ]
     },
     "execution_count": 33,
     "metadata": {},
     "output_type": "execute_result"
    }
   ],
   "source": [
    "np.arange(15)"
   ]
  },
  {
   "cell_type": "markdown",
   "id": "c88261e5-0685-43ca-856c-94dccc7c3e02",
   "metadata": {},
   "source": [
    "***Table 4-1*** from McKinney lists some NumPy array creation functions.\n",
    "\n",
    "- `array`: Convert input data (list, tuple, array, or other sequence type) to an ndarray either by inferring a dtype or explicitly specifying a dtype; copies the input data by default\n",
    "- `asarray`:  Convert input to ndarray, but do not copy if the input is already an ndarray \n",
    "- `arange`:  Like the built-in range but returns an ndarray instead of a list\n",
    "- `ones`, `ones_like`:  Produce an array of all 1s with the given shape and dtype; `ones_like` takes another array and produces a `ones` array of the - same shape and dtype\n",
    "- `zeros`, `zeros_like`:  Like `ones` and `ones_like` but producing arrays of 0s instead\n",
    "- `empty`, `empty_like`:  Create new arrays by allocating new memory, but do not populate with any values like ones and zeros\n",
    "- `full`, `full_like`:  Produce an array of the given shape and dtype with all values set to the indicated \"fill value\"\n",
    "- `eye`, `identity`:  Create a square N-by-N identity matrix (1s on the diagonal and 0s elsewhere)"
   ]
  },
  {
   "cell_type": "markdown",
   "id": "0c5f2a37-fd81-497d-ba57-d780aab06901",
   "metadata": {},
   "source": [
    "### Arithmetic with NumPy Arrays"
   ]
  },
  {
   "cell_type": "markdown",
   "id": "6d83543e-319e-45a7-936b-3c07dfddf182",
   "metadata": {},
   "source": [
    "> Arrays are important because they enable you to express batch operations on data without writing any for loops. NumPy users call this vectorization. Any arithmetic operations between equal-size arrays applies the operation element-wise"
   ]
  },
  {
   "cell_type": "code",
   "execution_count": 34,
   "id": "1414d706-7eed-45d7-a83b-de97cea83e09",
   "metadata": {
    "deletable": true,
    "editable": true,
    "jupyter": {
     "outputs_hidden": false
    }
   },
   "outputs": [
    {
     "data": {
      "text/plain": [
       "array([[1., 2., 3.],\n",
       "       [4., 5., 6.]])"
      ]
     },
     "execution_count": 34,
     "metadata": {},
     "output_type": "execute_result"
    }
   ],
   "source": [
    "arr = np.array([[1., 2., 3.], [4., 5., 6.]])\n",
    "arr"
   ]
  },
  {
   "cell_type": "code",
   "execution_count": 35,
   "id": "fbbc55ea-3c4f-4fbb-b7c6-9d4d808bde6f",
   "metadata": {},
   "outputs": [
    {
     "data": {
      "text/plain": [
       "(2, 3)"
      ]
     },
     "execution_count": 35,
     "metadata": {},
     "output_type": "execute_result"
    }
   ],
   "source": [
    "arr.shape"
   ]
  },
  {
   "cell_type": "markdown",
   "id": "c3114f9c-4524-45c8-9d39-ad38fccb42e4",
   "metadata": {},
   "source": [
    "NumPy array addition is elementwise."
   ]
  },
  {
   "cell_type": "code",
   "execution_count": 36,
   "id": "a5a32bb5-ae6f-4e37-baad-6b7e34166b8d",
   "metadata": {},
   "outputs": [
    {
     "data": {
      "text/plain": [
       "array([[ 2.,  4.,  6.],\n",
       "       [ 8., 10., 12.]])"
      ]
     },
     "execution_count": 36,
     "metadata": {},
     "output_type": "execute_result"
    }
   ],
   "source": [
    "arr + arr"
   ]
  },
  {
   "cell_type": "markdown",
   "id": "35895410-9c68-45cc-92ad-c4eac3eed629",
   "metadata": {},
   "source": [
    "NumPy array multiplication is elementwise."
   ]
  },
  {
   "cell_type": "code",
   "execution_count": 37,
   "id": "bdc01105-206a-4148-8749-81229b63da25",
   "metadata": {},
   "outputs": [
    {
     "data": {
      "text/plain": [
       "array([[ 1.,  4.,  9.],\n",
       "       [16., 25., 36.]])"
      ]
     },
     "execution_count": 37,
     "metadata": {},
     "output_type": "execute_result"
    }
   ],
   "source": [
    "arr * arr"
   ]
  },
  {
   "cell_type": "markdown",
   "id": "cda4dbd1-6ade-4d68-9bba-3084d134e4eb",
   "metadata": {},
   "source": [
    "NumPy array division is elementwise."
   ]
  },
  {
   "cell_type": "code",
   "execution_count": 38,
   "id": "79cf3cfb-bc83-405d-bb60-aeadcae1c399",
   "metadata": {
    "deletable": true,
    "editable": true,
    "jupyter": {
     "outputs_hidden": false
    }
   },
   "outputs": [
    {
     "data": {
      "text/plain": [
       "array([[1.    , 0.5   , 0.3333],\n",
       "       [0.25  , 0.2   , 0.1667]])"
      ]
     },
     "execution_count": 38,
     "metadata": {},
     "output_type": "execute_result"
    }
   ],
   "source": [
    "1 / arr"
   ]
  },
  {
   "cell_type": "markdown",
   "id": "c6aa1fcc-8ffd-4c59-bb71-359ecd8a1b23",
   "metadata": {},
   "source": [
    "NumPy powers are elementwise, too."
   ]
  },
  {
   "cell_type": "code",
   "execution_count": 39,
   "id": "a6aefa24-ae9d-4790-bb70-4580dfacb661",
   "metadata": {},
   "outputs": [
    {
     "data": {
      "text/plain": [
       "array([[ 1.,  4.,  9.],\n",
       "       [16., 25., 36.]])"
      ]
     },
     "execution_count": 39,
     "metadata": {},
     "output_type": "execute_result"
    }
   ],
   "source": [
    "arr ** 2"
   ]
  },
  {
   "cell_type": "markdown",
   "id": "e2e2889c-3a3c-4fc8-9a35-c43270743887",
   "metadata": {},
   "source": [
    "We can also raise a single value to an array!"
   ]
  },
  {
   "cell_type": "code",
   "execution_count": 40,
   "id": "1e207183-3d78-4d22-b881-4222c68e993e",
   "metadata": {},
   "outputs": [
    {
     "data": {
      "text/plain": [
       "array([[ 2.,  4.,  8.],\n",
       "       [16., 32., 64.]])"
      ]
     },
     "execution_count": 40,
     "metadata": {},
     "output_type": "execute_result"
    }
   ],
   "source": [
    "2 ** arr"
   ]
  },
  {
   "cell_type": "markdown",
   "id": "2336fc97-478b-4c47-9a8f-87f0614826c1",
   "metadata": {},
   "source": [
    "### Basic Indexing and Slicing"
   ]
  },
  {
   "cell_type": "markdown",
   "id": "afafd6ac-adff-44ad-8d73-80dfc5237906",
   "metadata": {},
   "source": [
    "One-dimensional array index and slice the same as lists."
   ]
  },
  {
   "cell_type": "code",
   "execution_count": 41,
   "id": "85abc105-50b6-429b-8089-ac1f9e76366c",
   "metadata": {},
   "outputs": [
    {
     "data": {
      "text/plain": [
       "array([0, 1, 2, 3, 4, 5, 6, 7, 8, 9])"
      ]
     },
     "execution_count": 41,
     "metadata": {},
     "output_type": "execute_result"
    }
   ],
   "source": [
    "arr = np.arange(10)\n",
    "arr"
   ]
  },
  {
   "cell_type": "code",
   "execution_count": 42,
   "id": "62feb138-cdad-439a-ae12-5fb217a2f642",
   "metadata": {},
   "outputs": [
    {
     "data": {
      "text/plain": [
       "5"
      ]
     },
     "execution_count": 42,
     "metadata": {},
     "output_type": "execute_result"
    }
   ],
   "source": [
    "arr[5]"
   ]
  },
  {
   "cell_type": "code",
   "execution_count": 43,
   "id": "3df65250-7e55-4e27-bd1b-389f942c5385",
   "metadata": {},
   "outputs": [
    {
     "data": {
      "text/plain": [
       "array([5, 6, 7])"
      ]
     },
     "execution_count": 43,
     "metadata": {},
     "output_type": "execute_result"
    }
   ],
   "source": [
    "arr[5:8]"
   ]
  },
  {
   "cell_type": "code",
   "execution_count": 44,
   "id": "bad268c4-a9fb-47fa-9f69-c1f209a39984",
   "metadata": {},
   "outputs": [
    {
     "data": {
      "text/plain": [
       "[0, 1, 2, 3, 4, 5, 6, 7, 8, 9]"
      ]
     },
     "execution_count": 44,
     "metadata": {},
     "output_type": "execute_result"
    }
   ],
   "source": [
    "equiv_list = list(range(10))\n",
    "equiv_list"
   ]
  },
  {
   "cell_type": "code",
   "execution_count": 45,
   "id": "1e0b1f7c-d741-474d-a3fe-219d1528a6f4",
   "metadata": {},
   "outputs": [
    {
     "data": {
      "text/plain": [
       "[5, 6, 7]"
      ]
     },
     "execution_count": 45,
     "metadata": {},
     "output_type": "execute_result"
    }
   ],
   "source": [
    "equiv_list[5:8]"
   ]
  },
  {
   "cell_type": "markdown",
   "id": "62fcc1c9-c691-4f61-bca3-a281865c1684",
   "metadata": {},
   "source": [
    "We have to jump through some hoops if we want to replace elements 5, 6, and 7 in `equiv_list` with the value 12."
   ]
  },
  {
   "cell_type": "code",
   "execution_count": 46,
   "id": "4662fa43-8aa4-4fc4-b496-ded5d4a48108",
   "metadata": {},
   "outputs": [],
   "source": [
    "# TypeError: can only assign an iterable\n",
    "# equiv_list[5:8] = 12"
   ]
  },
  {
   "cell_type": "code",
   "execution_count": 47,
   "id": "5b2aeb24-4d91-4e29-8c77-0a7a15214cf7",
   "metadata": {},
   "outputs": [
    {
     "data": {
      "text/plain": [
       "[0, 1, 2, 3, 4, 12, 12, 12, 8, 9]"
      ]
     },
     "execution_count": 47,
     "metadata": {},
     "output_type": "execute_result"
    }
   ],
   "source": [
    "equiv_list[5:8] = [12] * 3\n",
    "equiv_list"
   ]
  },
  {
   "cell_type": "markdown",
   "id": "3359d020-0ab9-4a0a-9b4e-bba669f3e525",
   "metadata": {},
   "source": [
    "However, this operation is easy with the NumPy array `arr`!"
   ]
  },
  {
   "cell_type": "code",
   "execution_count": 48,
   "id": "58d61128-2c71-432b-840a-c4af1a3724bd",
   "metadata": {},
   "outputs": [
    {
     "data": {
      "text/plain": [
       "array([ 0,  1,  2,  3,  4, 12, 12, 12,  8,  9])"
      ]
     },
     "execution_count": 48,
     "metadata": {},
     "output_type": "execute_result"
    }
   ],
   "source": [
    "arr[5:8] = 12\n",
    "arr"
   ]
  },
  {
   "cell_type": "markdown",
   "id": "b60a3312-2868-43d1-9f23-fc1f23d86656",
   "metadata": {},
   "source": [
    "\"Broadcasting\" is the name for this behavior.\n",
    "\n",
    "> As you can see, if you assign a scalar value to a slice, as in `arr[5:8] = 12`, the value is propagated (or broadcasted henceforth) to the entire selection. An important first distinction from Python’s built-in lists is that array slices are views on the original array. This means that the data is not copied, and any modifications to the view will be reflected in the source array."
   ]
  },
  {
   "cell_type": "code",
   "execution_count": 49,
   "id": "ae3bdab9-8fb0-496d-acf5-2d87b0e04bdd",
   "metadata": {},
   "outputs": [
    {
     "data": {
      "text/plain": [
       "array([12, 12, 12])"
      ]
     },
     "execution_count": 49,
     "metadata": {},
     "output_type": "execute_result"
    }
   ],
   "source": [
    "arr_slice = arr[5:8]\n",
    "arr_slice"
   ]
  },
  {
   "cell_type": "code",
   "execution_count": 50,
   "id": "c63cf1f1-e71e-49a8-b554-30867c30f4e9",
   "metadata": {},
   "outputs": [
    {
     "data": {
      "text/plain": [
       "array([12, 12, 12])"
      ]
     },
     "execution_count": 50,
     "metadata": {},
     "output_type": "execute_result"
    }
   ],
   "source": [
    "x = arr_slice\n",
    "x"
   ]
  },
  {
   "cell_type": "code",
   "execution_count": 51,
   "id": "693903b1-daa1-4356-87ed-9ae52a3fa848",
   "metadata": {},
   "outputs": [
    {
     "data": {
      "text/plain": [
       "True"
      ]
     },
     "execution_count": 51,
     "metadata": {},
     "output_type": "execute_result"
    }
   ],
   "source": [
    "x is arr_slice"
   ]
  },
  {
   "cell_type": "code",
   "execution_count": 52,
   "id": "53262dc7-f80d-46d0-be30-0556ef527cbb",
   "metadata": {},
   "outputs": [],
   "source": [
    "y = x.copy()"
   ]
  },
  {
   "cell_type": "code",
   "execution_count": 53,
   "id": "90fbab3b-a530-4c80-b0f8-4793fd379655",
   "metadata": {},
   "outputs": [
    {
     "data": {
      "text/plain": [
       "False"
      ]
     },
     "execution_count": 53,
     "metadata": {},
     "output_type": "execute_result"
    }
   ],
   "source": [
    "y is arr_slice"
   ]
  },
  {
   "cell_type": "code",
   "execution_count": 54,
   "id": "45999733-a015-4083-9afa-a6aec757110e",
   "metadata": {},
   "outputs": [
    {
     "data": {
      "text/plain": [
       "array([   12, 12345,    12])"
      ]
     },
     "execution_count": 54,
     "metadata": {},
     "output_type": "execute_result"
    }
   ],
   "source": [
    "arr_slice[1] = 12345\n",
    "arr_slice"
   ]
  },
  {
   "cell_type": "code",
   "execution_count": 55,
   "id": "ff1c046f-de0d-4798-8889-eb97ed59f0b2",
   "metadata": {},
   "outputs": [
    {
     "data": {
      "text/plain": [
       "array([    0,     1,     2,     3,     4,    12, 12345,    12,     8,\n",
       "           9])"
      ]
     },
     "execution_count": 55,
     "metadata": {},
     "output_type": "execute_result"
    }
   ],
   "source": [
    "arr"
   ]
  },
  {
   "cell_type": "markdown",
   "id": "2fdc837d-4aa2-4098-a7cc-ffb7eaae4635",
   "metadata": {},
   "source": [
    "The `:` slices every element in `arr_slice`."
   ]
  },
  {
   "cell_type": "code",
   "execution_count": 56,
   "id": "565741cb-005c-4e68-9834-d8d0fc1beef9",
   "metadata": {},
   "outputs": [
    {
     "data": {
      "text/plain": [
       "array([64, 64, 64])"
      ]
     },
     "execution_count": 56,
     "metadata": {},
     "output_type": "execute_result"
    }
   ],
   "source": [
    "arr_slice[:] = 64\n",
    "arr_slice"
   ]
  },
  {
   "cell_type": "code",
   "execution_count": 57,
   "id": "ca506836-48f9-49e2-bede-5631bc745378",
   "metadata": {},
   "outputs": [
    {
     "data": {
      "text/plain": [
       "array([ 0,  1,  2,  3,  4, 64, 64, 64,  8,  9])"
      ]
     },
     "execution_count": 57,
     "metadata": {},
     "output_type": "execute_result"
    }
   ],
   "source": [
    "arr"
   ]
  },
  {
   "cell_type": "markdown",
   "id": "cee445ec-f8aa-446e-a635-201da764708b",
   "metadata": {},
   "source": [
    "> If you want a copy of a slice of an ndarray instead of a view, you will need to explicitly copy the array-for example, `arr[5:8].copy()`."
   ]
  },
  {
   "cell_type": "code",
   "execution_count": 58,
   "id": "3d467808-d33a-4048-bc88-cbe11d15d0ce",
   "metadata": {},
   "outputs": [
    {
     "data": {
      "text/plain": [
       "array([64, 64, 64])"
      ]
     },
     "execution_count": 58,
     "metadata": {},
     "output_type": "execute_result"
    }
   ],
   "source": [
    "arr_slice_2 = arr[5:8].copy()\n",
    "arr_slice_2"
   ]
  },
  {
   "cell_type": "code",
   "execution_count": 59,
   "id": "d5eaa537-2dbe-44c5-ab7f-a729b3b0c5d6",
   "metadata": {},
   "outputs": [
    {
     "data": {
      "text/plain": [
       "array([2001, 2001, 2001])"
      ]
     },
     "execution_count": 59,
     "metadata": {},
     "output_type": "execute_result"
    }
   ],
   "source": [
    "arr_slice_2[:] = 2001\n",
    "arr_slice_2"
   ]
  },
  {
   "cell_type": "code",
   "execution_count": 60,
   "id": "89eb8484-0802-4452-8912-47777b17797b",
   "metadata": {},
   "outputs": [
    {
     "data": {
      "text/plain": [
       "array([ 0,  1,  2,  3,  4, 64, 64, 64,  8,  9])"
      ]
     },
     "execution_count": 60,
     "metadata": {},
     "output_type": "execute_result"
    }
   ],
   "source": [
    "arr"
   ]
  },
  {
   "cell_type": "markdown",
   "id": "875d9f81-4513-4f67-9cf0-727174bfd76a",
   "metadata": {
    "deletable": true,
    "editable": true
   },
   "source": [
    "### Indexing with slices"
   ]
  },
  {
   "cell_type": "markdown",
   "id": "a0724e4a-65e4-416c-ae6e-b07bfee8b4c5",
   "metadata": {},
   "source": [
    "We can slice across two or more dimensions, including the `[i, j]` notation."
   ]
  },
  {
   "cell_type": "code",
   "execution_count": 61,
   "id": "855e25f4-5596-433b-bb16-30ad8d220a4a",
   "metadata": {},
   "outputs": [
    {
     "data": {
      "text/plain": [
       "array([[1, 2, 3],\n",
       "       [4, 5, 6],\n",
       "       [7, 8, 9]])"
      ]
     },
     "execution_count": 61,
     "metadata": {},
     "output_type": "execute_result"
    }
   ],
   "source": [
    "arr2d = np.array([[1,2,3], [4,5,6], [7,8,9]])\n",
    "arr2d"
   ]
  },
  {
   "cell_type": "code",
   "execution_count": 62,
   "id": "be8e56f8-5eee-48a6-a2c0-d635b04106c6",
   "metadata": {},
   "outputs": [
    {
     "data": {
      "text/plain": [
       "array([[1, 2, 3],\n",
       "       [4, 5, 6]])"
      ]
     },
     "execution_count": 62,
     "metadata": {},
     "output_type": "execute_result"
    }
   ],
   "source": [
    "arr2d[:2]"
   ]
  },
  {
   "cell_type": "code",
   "execution_count": 63,
   "id": "7b52bf0c-b361-4c9f-a946-2c23b56fb637",
   "metadata": {
    "deletable": true,
    "editable": true,
    "jupyter": {
     "outputs_hidden": false
    }
   },
   "outputs": [
    {
     "data": {
      "text/plain": [
       "array([[2, 3],\n",
       "       [5, 6]])"
      ]
     },
     "execution_count": 63,
     "metadata": {},
     "output_type": "execute_result"
    }
   ],
   "source": [
    "arr2d[:2, 1:]"
   ]
  },
  {
   "cell_type": "markdown",
   "id": "16e93c8d-0bf6-4a9f-9048-8a7d52097627",
   "metadata": {},
   "source": [
    "A colon (`:`) by itself selects the entire dimension and is necessary to slice higher dimensions."
   ]
  },
  {
   "cell_type": "code",
   "execution_count": 64,
   "id": "37a73c8e-c014-461b-9d65-8b13962ce07a",
   "metadata": {
    "deletable": true,
    "editable": true,
    "jupyter": {
     "outputs_hidden": false
    }
   },
   "outputs": [
    {
     "data": {
      "text/plain": [
       "array([[1],\n",
       "       [4],\n",
       "       [7]])"
      ]
     },
     "execution_count": 64,
     "metadata": {},
     "output_type": "execute_result"
    }
   ],
   "source": [
    "arr2d[:, :1]"
   ]
  },
  {
   "cell_type": "code",
   "execution_count": 65,
   "id": "bc7a3e11-36b7-4103-90a1-7a56259f04b4",
   "metadata": {
    "deletable": true,
    "editable": true,
    "jupyter": {
     "outputs_hidden": false
    }
   },
   "outputs": [
    {
     "data": {
      "text/plain": [
       "array([[1, 0, 0],\n",
       "       [4, 0, 0],\n",
       "       [7, 8, 9]])"
      ]
     },
     "execution_count": 65,
     "metadata": {},
     "output_type": "execute_result"
    }
   ],
   "source": [
    "arr2d[:2, 1:] = 0\n",
    "arr2d"
   ]
  },
  {
   "cell_type": "markdown",
   "id": "b26ab85e-6f54-432f-b829-4e560d7d1cad",
   "metadata": {},
   "source": [
    "Slicing multi-dimension arrays is tricky!\n",
    "***Always check your output!***"
   ]
  },
  {
   "cell_type": "markdown",
   "id": "9cf7ee23-d766-48be-a7f9-eb0a85ab2585",
   "metadata": {},
   "source": [
    "### Boolean Indexing"
   ]
  },
  {
   "cell_type": "markdown",
   "id": "3e0e883d-4bb6-4abf-b66d-739ea0251367",
   "metadata": {},
   "source": [
    "We can use Booleans (`True`s and `False`s) to slice arrays, too.\n",
    "Boolean indexing in Python is like combining `index()` and `match()` in Excel."
   ]
  },
  {
   "cell_type": "code",
   "execution_count": 66,
   "id": "c2793268-55fe-4dd1-96ae-3f04ffe271ca",
   "metadata": {
    "deletable": true,
    "editable": true,
    "jupyter": {
     "outputs_hidden": false
    },
    "tags": []
   },
   "outputs": [],
   "source": [
    "names = np.array(['Bob', 'Joe', 'Will', 'Bob', 'Will', 'Joe', 'Joe'])\n",
    "np.random.seed(42)\n",
    "data = np.random.randn(7, 4)"
   ]
  },
  {
   "cell_type": "code",
   "execution_count": 67,
   "id": "c1ccb57f-aa5e-4591-99e6-afbf6e8f15dc",
   "metadata": {},
   "outputs": [
    {
     "data": {
      "text/plain": [
       "array(['Bob', 'Joe', 'Will', 'Bob', 'Will', 'Joe', 'Joe'], dtype='<U4')"
      ]
     },
     "execution_count": 67,
     "metadata": {},
     "output_type": "execute_result"
    }
   ],
   "source": [
    "names"
   ]
  },
  {
   "cell_type": "code",
   "execution_count": 68,
   "id": "26ae6a6a-de1e-4ad6-bd5d-7615c2e0a5cb",
   "metadata": {},
   "outputs": [
    {
     "data": {
      "text/plain": [
       "array([[ 0.4967, -0.1383,  0.6477,  1.523 ],\n",
       "       [-0.2342, -0.2341,  1.5792,  0.7674],\n",
       "       [-0.4695,  0.5426, -0.4634, -0.4657],\n",
       "       [ 0.242 , -1.9133, -1.7249, -0.5623],\n",
       "       [-1.0128,  0.3142, -0.908 , -1.4123],\n",
       "       [ 1.4656, -0.2258,  0.0675, -1.4247],\n",
       "       [-0.5444,  0.1109, -1.151 ,  0.3757]])"
      ]
     },
     "execution_count": 68,
     "metadata": {},
     "output_type": "execute_result"
    }
   ],
   "source": [
    "data"
   ]
  },
  {
   "cell_type": "markdown",
   "id": "fea10b0f-c010-4025-8690-fe6986a9e3e8",
   "metadata": {},
   "source": [
    "Here `names` provides seven names for the seven rows in `data`."
   ]
  },
  {
   "cell_type": "code",
   "execution_count": 69,
   "id": "54b013af-220d-40d2-8ad8-1aa95d9650a8",
   "metadata": {
    "deletable": true,
    "editable": true,
    "jupyter": {
     "outputs_hidden": false
    },
    "tags": []
   },
   "outputs": [
    {
     "data": {
      "text/plain": [
       "array([ True, False, False,  True, False, False, False])"
      ]
     },
     "execution_count": 69,
     "metadata": {},
     "output_type": "execute_result"
    }
   ],
   "source": [
    "names == 'Bob'"
   ]
  },
  {
   "cell_type": "code",
   "execution_count": 70,
   "id": "f760f1b6-2319-41c1-b3ff-060f70933348",
   "metadata": {
    "deletable": true,
    "editable": true,
    "jupyter": {
     "outputs_hidden": false
    },
    "tags": []
   },
   "outputs": [
    {
     "data": {
      "text/plain": [
       "array([[ 0.4967, -0.1383,  0.6477,  1.523 ],\n",
       "       [ 0.242 , -1.9133, -1.7249, -0.5623]])"
      ]
     },
     "execution_count": 70,
     "metadata": {},
     "output_type": "execute_result"
    }
   ],
   "source": [
    "data[names == 'Bob']"
   ]
  },
  {
   "cell_type": "markdown",
   "id": "01dd446a-7732-405f-b3fb-09608a9e4b1e",
   "metadata": {},
   "source": [
    "We can combine Boolean slicing with `:` slicing."
   ]
  },
  {
   "cell_type": "code",
   "execution_count": 71,
   "id": "f0fa063b-a8cb-41d9-8359-7cf248640677",
   "metadata": {
    "deletable": true,
    "editable": true,
    "jupyter": {
     "outputs_hidden": false
    },
    "tags": []
   },
   "outputs": [
    {
     "data": {
      "text/plain": [
       "array([[ 0.6477,  1.523 ],\n",
       "       [-1.7249, -0.5623]])"
      ]
     },
     "execution_count": 71,
     "metadata": {},
     "output_type": "execute_result"
    }
   ],
   "source": [
    "data[names == 'Bob', 2:]"
   ]
  },
  {
   "cell_type": "markdown",
   "id": "ffa06685-a7a2-4c6a-b924-b44457ee9407",
   "metadata": {},
   "source": [
    "We can use `~` to invert a Boolean."
   ]
  },
  {
   "cell_type": "code",
   "execution_count": 72,
   "id": "bc9a0053-2629-4569-b27f-902e2c582e1b",
   "metadata": {
    "deletable": true,
    "editable": true,
    "jupyter": {
     "outputs_hidden": false
    },
    "tags": []
   },
   "outputs": [
    {
     "data": {
      "text/plain": [
       "array([[-0.2342, -0.2341,  1.5792,  0.7674],\n",
       "       [-0.4695,  0.5426, -0.4634, -0.4657],\n",
       "       [-1.0128,  0.3142, -0.908 , -1.4123],\n",
       "       [ 1.4656, -0.2258,  0.0675, -1.4247],\n",
       "       [-0.5444,  0.1109, -1.151 ,  0.3757]])"
      ]
     },
     "execution_count": 72,
     "metadata": {},
     "output_type": "execute_result"
    }
   ],
   "source": [
    "cond = names == 'Bob'\n",
    "data[~cond]"
   ]
  },
  {
   "cell_type": "markdown",
   "id": "a33f81ad-64f4-43ef-af18-7ab69b88ca5f",
   "metadata": {},
   "source": [
    "For NumPy arrays, we must use `&` and `|` instead of `and` and `or`."
   ]
  },
  {
   "cell_type": "code",
   "execution_count": 73,
   "id": "f9bd02d8-8f58-43df-9656-94885a516529",
   "metadata": {},
   "outputs": [
    {
     "data": {
      "text/plain": [
       "array([[ 0.4967, -0.1383,  0.6477,  1.523 ],\n",
       "       [-0.4695,  0.5426, -0.4634, -0.4657],\n",
       "       [ 0.242 , -1.9133, -1.7249, -0.5623],\n",
       "       [-1.0128,  0.3142, -0.908 , -1.4123]])"
      ]
     },
     "execution_count": 73,
     "metadata": {},
     "output_type": "execute_result"
    }
   ],
   "source": [
    "cond = (names == 'Bob') | (names == 'Will')\n",
    "data[cond]"
   ]
  },
  {
   "cell_type": "markdown",
   "id": "4ff96bc2-aa92-4c45-9c89-cacc2d4d2dd4",
   "metadata": {},
   "source": [
    "We can also create a Boolean for each element."
   ]
  },
  {
   "cell_type": "code",
   "execution_count": 74,
   "id": "8e1e38db-d564-40be-ae02-8008576867b6",
   "metadata": {},
   "outputs": [
    {
     "data": {
      "text/plain": [
       "array([[False,  True, False, False],\n",
       "       [ True,  True, False, False],\n",
       "       [ True, False,  True,  True],\n",
       "       [False,  True,  True,  True],\n",
       "       [ True, False,  True,  True],\n",
       "       [False,  True, False,  True],\n",
       "       [ True, False,  True, False]])"
      ]
     },
     "execution_count": 74,
     "metadata": {},
     "output_type": "execute_result"
    }
   ],
   "source": [
    "data < 0"
   ]
  },
  {
   "cell_type": "code",
   "execution_count": 75,
   "id": "d6055b6e-ebe6-4e56-b599-b851358629bf",
   "metadata": {},
   "outputs": [
    {
     "data": {
      "text/plain": [
       "array([[0.4967, 0.    , 0.6477, 1.523 ],\n",
       "       [0.    , 0.    , 1.5792, 0.7674],\n",
       "       [0.    , 0.5426, 0.    , 0.    ],\n",
       "       [0.242 , 0.    , 0.    , 0.    ],\n",
       "       [0.    , 0.3142, 0.    , 0.    ],\n",
       "       [1.4656, 0.    , 0.0675, 0.    ],\n",
       "       [0.    , 0.1109, 0.    , 0.3757]])"
      ]
     },
     "execution_count": 75,
     "metadata": {},
     "output_type": "execute_result"
    }
   ],
   "source": [
    "data[data < 0] = 0\n",
    "data"
   ]
  },
  {
   "cell_type": "markdown",
   "id": "cb70b5fd-b5bf-4d89-b9a7-a9c4144f5d11",
   "metadata": {},
   "source": [
    "## Universal Functions: Fast Element-Wise Array Functions"
   ]
  },
  {
   "cell_type": "markdown",
   "id": "8913291f-c238-4ffa-b850-f37b5fe3592b",
   "metadata": {},
   "source": [
    "> A universal function, or ufunc, is a function that performs element-wise operations on data in ndarrays. You can think of them as fast vectorized wrappers for simple functions that take one or more scalar values and produce one or more scalar results."
   ]
  },
  {
   "cell_type": "code",
   "execution_count": 76,
   "id": "af3601e2-3d71-4ad7-811d-618721bdc02b",
   "metadata": {
    "deletable": true,
    "editable": true,
    "jupyter": {
     "outputs_hidden": false
    }
   },
   "outputs": [
    {
     "data": {
      "text/plain": [
       "array([0, 1, 2, 3, 4, 5, 6, 7, 8, 9])"
      ]
     },
     "execution_count": 76,
     "metadata": {},
     "output_type": "execute_result"
    }
   ],
   "source": [
    "arr = np.arange(10)\n",
    "arr"
   ]
  },
  {
   "cell_type": "code",
   "execution_count": 77,
   "id": "4392fb12-843a-4a2a-a8c2-b61c58d4a533",
   "metadata": {},
   "outputs": [
    {
     "data": {
      "text/plain": [
       "array([0.    , 1.    , 1.4142, 1.7321, 2.    , 2.2361, 2.4495, 2.6458,\n",
       "       2.8284, 3.    ])"
      ]
     },
     "execution_count": 77,
     "metadata": {},
     "output_type": "execute_result"
    }
   ],
   "source": [
    "np.sqrt(arr)"
   ]
  },
  {
   "cell_type": "markdown",
   "id": "498157ee-b837-4f56-8ce0-c5c464138c83",
   "metadata": {},
   "source": [
    "Like above, we can raise a single value to a NumPy array of powers."
   ]
  },
  {
   "cell_type": "code",
   "execution_count": 78,
   "id": "6e2a3932-f6c2-4e3d-aa54-96f93b387aeb",
   "metadata": {},
   "outputs": [
    {
     "data": {
      "text/plain": [
       "array([  1,   2,   4,   8,  16,  32,  64, 128, 256, 512], dtype=int32)"
      ]
     },
     "execution_count": 78,
     "metadata": {},
     "output_type": "execute_result"
    }
   ],
   "source": [
    "2**arr"
   ]
  },
  {
   "cell_type": "markdown",
   "id": "a776ce0d-7bfc-4cf5-bf51-fab61dc1ef31",
   "metadata": {},
   "source": [
    "`np.exp(x)` is $e^x$."
   ]
  },
  {
   "cell_type": "code",
   "execution_count": 79,
   "id": "26e8fc9b-be4d-41f3-8ba7-1dd9d984581d",
   "metadata": {},
   "outputs": [
    {
     "data": {
      "text/plain": [
       "array([1.0000e+00, 2.7183e+00, 7.3891e+00, 2.0086e+01, 5.4598e+01,\n",
       "       1.4841e+02, 4.0343e+02, 1.0966e+03, 2.9810e+03, 8.1031e+03])"
      ]
     },
     "execution_count": 79,
     "metadata": {},
     "output_type": "execute_result"
    }
   ],
   "source": [
    "np.exp(arr)"
   ]
  },
  {
   "cell_type": "markdown",
   "id": "1dd52dfa-c02a-4996-9832-0130d23cb159",
   "metadata": {},
   "source": [
    "The functions above accept one argument.\n",
    "These \"unary\" functions operate on one array and return a new array with the same shape.\n",
    "There are also \"binary\" functions that operate on two arrays and return one array."
   ]
  },
  {
   "cell_type": "code",
   "execution_count": 80,
   "id": "9597f949-7c91-4875-a20a-2edda6452e28",
   "metadata": {
    "deletable": true,
    "editable": true,
    "jupyter": {
     "outputs_hidden": false
    }
   },
   "outputs": [],
   "source": [
    "np.random.seed(42)\n",
    "x = np.random.randn(8)\n",
    "y = np.random.randn(8)"
   ]
  },
  {
   "cell_type": "code",
   "execution_count": 81,
   "id": "a9a48b91-39be-452d-b428-cdce0af99665",
   "metadata": {},
   "outputs": [
    {
     "data": {
      "text/plain": [
       "array([ 0.4967, -0.1383,  0.6477,  1.523 , -0.2342, -0.2341,  1.5792,\n",
       "        0.7674])"
      ]
     },
     "execution_count": 81,
     "metadata": {},
     "output_type": "execute_result"
    }
   ],
   "source": [
    "x"
   ]
  },
  {
   "cell_type": "code",
   "execution_count": 82,
   "id": "940f6cdd-77e4-4950-a51d-576aee2dad5d",
   "metadata": {},
   "outputs": [
    {
     "data": {
      "text/plain": [
       "array([-0.4695,  0.5426, -0.4634, -0.4657,  0.242 , -1.9133, -1.7249,\n",
       "       -0.5623])"
      ]
     },
     "execution_count": 82,
     "metadata": {},
     "output_type": "execute_result"
    }
   ],
   "source": [
    "y"
   ]
  },
  {
   "cell_type": "code",
   "execution_count": 83,
   "id": "89b89423-f2e1-43ba-9d5c-e8e76887b5c9",
   "metadata": {},
   "outputs": [
    {
     "data": {
      "text/plain": [
       "array([ 0.4967,  0.5426,  0.6477,  1.523 ,  0.242 , -0.2341,  1.5792,\n",
       "        0.7674])"
      ]
     },
     "execution_count": 83,
     "metadata": {},
     "output_type": "execute_result"
    }
   ],
   "source": [
    "np.maximum(x, y)"
   ]
  },
  {
   "cell_type": "markdown",
   "id": "c71eb7ac-f075-4b95-98c0-297a14a0805d",
   "metadata": {},
   "source": [
    "***Be careful!\n",
    "Function names are not the whole story.\n",
    "Check your output and read the docstring!***\n",
    "For example, `np.max()` returns the maximum of an array, instead of the elementwise maximum of two arrays for `np.maximum()`."
   ]
  },
  {
   "cell_type": "code",
   "execution_count": 84,
   "id": "11e94746-be2f-45fc-b78e-6bebeb431349",
   "metadata": {},
   "outputs": [
    {
     "data": {
      "text/plain": [
       "1.5792"
      ]
     },
     "execution_count": 84,
     "metadata": {},
     "output_type": "execute_result"
    }
   ],
   "source": [
    "np.max(x)"
   ]
  },
  {
   "cell_type": "markdown",
   "id": "42e3b444-71c5-442c-b7e2-38d6eb71734f",
   "metadata": {},
   "source": [
    "***Table 4-4*** from McKinney lists some fast, element-wise unary functions:\n",
    "\n",
    "- `abs`, `fabs`: Compute the absolute value element-wise for integer, oating-point, or complex values\n",
    "- `sqrt`: Compute the square root of each element (equivalent to arr ** 0.5) \n",
    "- `square`: Compute the square of each element (equivalent to arr ** 2)\n",
    "- `exp`: Compute the exponent $e^x$ of each element\n",
    "- `log`, `log10`, `log2`, `log1p`: Natural logarithm (base e), log base 10, log base 2, and log(1 + x), respectively\n",
    "- `sign`: Compute the sign of each element: 1 (positive), 0 (zero), or –1 (negative)\n",
    "- `ceil`: Compute the ceiling of each element (i.e., the smallest integer greater than or equal to thatnumber)\n",
    "- `floor`: Compute the oor of each element (i.e., the largest integer less than or equal to each element)\n",
    "- `rint`: Round elements to the nearest integer, preserving the dtype\n",
    "- `modf`: Return fractional and integral parts of array as a separate array\n",
    "- `isnan`: Return boolean array indicating whether each value is NaN (Not a Number)\n",
    "- `isfinite`, `isinf`: Return boolean array indicating whether each element is finite (non-inf, non-NaN) or infinite, respectively\n",
    "- `cos`, `cosh`, `sin`, `sinh`, `tan`, `tanh`: Regular and hyperbolic trigonometric functions\n",
    "- `arccos`, `arccosh`, `arcsin`, `arcsinh`, `arctan`, `arctanh`: Inverse trigonometric functions\n",
    "- `logical_not`: Compute truth value of not x element-wise (equivalent to ~arr)."
   ]
  },
  {
   "cell_type": "markdown",
   "id": "5ace7769-7428-4892-9c0d-a187adf42c3f",
   "metadata": {},
   "source": [
    "***Table 4-5*** from McKinney lists some fast, element-wise binary functions:\n",
    "\n",
    "- `add`: Add corresponding elements in arrays\n",
    "- `subtract`: Subtract elements in second array from first array\n",
    "- `multiply`: Multiply array elements\n",
    "- `divide`, `floor_divide`: Divide or floor divide (truncating the remainder)\n",
    "- `power`: Raise elements in first array to powers indicated in second array\n",
    "- `maximum`, `fmax`: Element-wise maximum; `fmax` ignores `NaN`\n",
    "- `minimum`, `fmin`: Element-wise minimum; `fmin` ignores `NaN`\n",
    "- `mod`: Element-wise modulus (remainder of division)\n",
    "- `copysign`: Copy sign of values in second argument to values in first argument\n",
    "- `greater`, `greater_equal`, `less`, `less_equal`, `equal`, `not_equal`: Perform element-wise comparison, yielding boolean array (equivalent to infix operators >, >=, <, <=, ==, !=)\n",
    "- `logical_and`, `logical_or`, `logical_xor`: Compute element-wise truth value of logical operation (equivalent to infix operators & |, ^)"
   ]
  },
  {
   "cell_type": "markdown",
   "id": "6acaca33-e10c-43a4-8c63-21951a687096",
   "metadata": {},
   "source": [
    "## Array-Oriented Programming with Arrays"
   ]
  },
  {
   "cell_type": "markdown",
   "id": "0a011386-5519-4a61-a7c4-5a0f86e3b5e5",
   "metadata": {},
   "source": [
    "> Using NumPy arrays enables you to express many kinds of data processing tasks as concise array expressions that might otherwise require writing loops. This practice of replacing explicit loops with array expressions is commonly referred to as vectorization. In general, vectorized array operations will often be one or two (or more) orders of magnitude faster than their pure Python equivalents, with the biggest impact in any kind of numerical computations. Later, in Appendix A, I explain broadcasting, a powerful method for vectorizing computations."
   ]
  },
  {
   "cell_type": "markdown",
   "id": "6053bf34-786a-415a-b061-add17b16a29a",
   "metadata": {},
   "source": [
    "### Expressing Conditional Logic as Array Operations"
   ]
  },
  {
   "cell_type": "markdown",
   "id": "4442975f-a177-4d9a-aa3e-2918d25b3a7c",
   "metadata": {},
   "source": [
    "> The numpy.where function is a vectorized version of the ternary expression x if condition else y."
   ]
  },
  {
   "cell_type": "markdown",
   "id": "77d4a4b1-40df-41cc-aaa5-9ad52cea88b0",
   "metadata": {},
   "source": [
    "NumPy's `where()` is an if-else statement that operates like Excel's `if()`."
   ]
  },
  {
   "cell_type": "code",
   "execution_count": 85,
   "id": "98447562-4524-48a0-a767-a7bb19f7cfbc",
   "metadata": {
    "editable": true,
    "jupyter": {
     "outputs_hidden": false
    },
    "tags": []
   },
   "outputs": [],
   "source": [
    "xarr = np.array([1.1, 1.2, 1.3, 1.4, 1.5])\n",
    "yarr = np.array([2.1, 2.2, 2.3, 2.4, 2.5])\n",
    "cond = np.array([True, False, True, True, False])"
   ]
  },
  {
   "cell_type": "code",
   "execution_count": 86,
   "id": "ab848fbe-8db5-40a2-b61b-b4d6f75f8726",
   "metadata": {},
   "outputs": [
    {
     "data": {
      "text/plain": [
       "array([1.1, 2.2, 1.3, 1.4, 2.5])"
      ]
     },
     "execution_count": 86,
     "metadata": {},
     "output_type": "execute_result"
    }
   ],
   "source": [
    "np.where(cond, xarr, yarr)"
   ]
  },
  {
   "cell_type": "markdown",
   "id": "d722da68-45ef-40d5-b599-56417173dd21",
   "metadata": {},
   "source": [
    "We could use a list comprehension, instead, but the list comprehension is takes longer to type, read, and troubleshoot."
   ]
  },
  {
   "cell_type": "code",
   "execution_count": 87,
   "id": "26f1c72d-e422-4a49-94f0-d56a39379532",
   "metadata": {
    "deletable": true,
    "editable": true,
    "jupyter": {
     "outputs_hidden": false
    },
    "tags": []
   },
   "outputs": [
    {
     "data": {
      "text/plain": [
       "array([1.1, 2.2, 1.3, 1.4, 2.5])"
      ]
     },
     "execution_count": 87,
     "metadata": {},
     "output_type": "execute_result"
    }
   ],
   "source": [
    "np.array([(x if c else y) for x, y, c in zip(xarr, yarr, cond)])"
   ]
  },
  {
   "cell_type": "markdown",
   "id": "39cec28e-2800-472d-9721-e870554da0a2",
   "metadata": {},
   "source": [
    "We could also use `np.select()` here, but it is overkill to test one condition.\n",
    "`np.select()` lets us test more more than one condition and provides a default value if no condition is met."
   ]
  },
  {
   "cell_type": "code",
   "execution_count": 88,
   "id": "dfe8423d-2c09-46e5-a112-755a2543522b",
   "metadata": {},
   "outputs": [
    {
     "data": {
      "text/plain": [
       "array([1.1, 2.2, 1.3, 1.4, 2.5])"
      ]
     },
     "execution_count": 88,
     "metadata": {},
     "output_type": "execute_result"
    }
   ],
   "source": [
    "np.select(\n",
    "    condlist=[cond==True, cond==False],\n",
    "    choicelist=[xarr, yarr]\n",
    ")"
   ]
  },
  {
   "cell_type": "markdown",
   "id": "26d0fbc5-4d19-467a-bbcf-dd34833a6f07",
   "metadata": {},
   "source": [
    "### Mathematical and Statistical Methods"
   ]
  },
  {
   "cell_type": "markdown",
   "id": "06563dc2-89b8-4c99-96a2-85e2a90fba27",
   "metadata": {},
   "source": [
    "> A set of mathematical functions that compute statistics about an entire array or about the data along an axis are accessible as methods of the array class. You can use aggregations (often called reductions) like sum, mean, and std (standard deviation) either by calling the array instance method or using the top-level NumPy function.\n",
    "\n",
    "We will use these aggregations extensively in pandas."
   ]
  },
  {
   "cell_type": "code",
   "execution_count": 89,
   "id": "553d84e4-87b7-45e3-bbb0-d7ace5d2a355",
   "metadata": {
    "deletable": true,
    "editable": true,
    "jupyter": {
     "outputs_hidden": false
    }
   },
   "outputs": [
    {
     "data": {
      "text/plain": [
       "array([[ 0.4967, -0.1383,  0.6477,  1.523 ],\n",
       "       [-0.2342, -0.2341,  1.5792,  0.7674],\n",
       "       [-0.4695,  0.5426, -0.4634, -0.4657],\n",
       "       [ 0.242 , -1.9133, -1.7249, -0.5623],\n",
       "       [-1.0128,  0.3142, -0.908 , -1.4123]])"
      ]
     },
     "execution_count": 89,
     "metadata": {},
     "output_type": "execute_result"
    }
   ],
   "source": [
    "np.random.seed(42)\n",
    "arr = np.random.randn(5, 4)\n",
    "arr"
   ]
  },
  {
   "cell_type": "code",
   "execution_count": 90,
   "id": "6ec3954e-5c73-4c0d-abeb-7f396d6e14b6",
   "metadata": {},
   "outputs": [
    {
     "data": {
      "text/plain": [
       "-0.1713"
      ]
     },
     "execution_count": 90,
     "metadata": {},
     "output_type": "execute_result"
    }
   ],
   "source": [
    "arr.mean()"
   ]
  },
  {
   "cell_type": "code",
   "execution_count": 91,
   "id": "cdd36861-4055-45fb-b220-d0f9fe17c21c",
   "metadata": {},
   "outputs": [
    {
     "data": {
      "text/plain": [
       "-3.4260"
      ]
     },
     "execution_count": 91,
     "metadata": {},
     "output_type": "execute_result"
    }
   ],
   "source": [
    "arr.sum()"
   ]
  },
  {
   "cell_type": "markdown",
   "id": "0c94799d-8587-4890-8721-84acb8d5d019",
   "metadata": {},
   "source": [
    "The aggregation methods above aggregated the whole array.\n",
    "We can use the `axis` argument to aggregate columns (`axis=0`) and rows (`axis=1`)."
   ]
  },
  {
   "cell_type": "code",
   "execution_count": 92,
   "id": "2b12b6a7-2404-44b7-92b4-e6f6b49df591",
   "metadata": {
    "deletable": true,
    "editable": true,
    "jupyter": {
     "outputs_hidden": false
    }
   },
   "outputs": [
    {
     "data": {
      "text/plain": [
       "array([ 0.6323,  0.4696, -0.214 , -0.9896, -0.7547])"
      ]
     },
     "execution_count": 92,
     "metadata": {},
     "output_type": "execute_result"
    }
   ],
   "source": [
    "arr.mean(axis=1)"
   ]
  },
  {
   "cell_type": "code",
   "execution_count": 93,
   "id": "9e54053e-e6a2-48fd-a598-459b487035cd",
   "metadata": {},
   "outputs": [
    {
     "data": {
      "text/plain": [
       "0.6323"
      ]
     },
     "execution_count": 93,
     "metadata": {},
     "output_type": "execute_result"
    }
   ],
   "source": [
    "arr[0].mean()"
   ]
  },
  {
   "cell_type": "code",
   "execution_count": 94,
   "id": "3748f165-c8f6-4e17-8d16-19bacea6fea3",
   "metadata": {},
   "outputs": [
    {
     "data": {
      "text/plain": [
       "array([-0.1956, -0.2858, -0.1739, -0.03  ])"
      ]
     },
     "execution_count": 94,
     "metadata": {},
     "output_type": "execute_result"
    }
   ],
   "source": [
    "arr.mean(axis=0)"
   ]
  },
  {
   "cell_type": "code",
   "execution_count": 95,
   "id": "ebf87d75-432e-4ce9-a7bf-274e74b05d00",
   "metadata": {},
   "outputs": [
    {
     "data": {
      "text/plain": [
       "-0.1956"
      ]
     },
     "execution_count": 95,
     "metadata": {},
     "output_type": "execute_result"
    }
   ],
   "source": [
    "arr[:, 0].mean()"
   ]
  },
  {
   "cell_type": "markdown",
   "id": "315bfabc-d38a-4ef9-b612-786ae2a2ccd5",
   "metadata": {},
   "source": [
    "The `.cumsum()` method returns the sum of all previous elements."
   ]
  },
  {
   "cell_type": "code",
   "execution_count": 96,
   "id": "86b0c128-f862-42fb-8197-8d81b857cf61",
   "metadata": {
    "deletable": true,
    "editable": true,
    "jupyter": {
     "outputs_hidden": false
    }
   },
   "outputs": [
    {
     "data": {
      "text/plain": [
       "array([ 0,  1,  3,  6, 10, 15, 21, 28])"
      ]
     },
     "execution_count": 96,
     "metadata": {},
     "output_type": "execute_result"
    }
   ],
   "source": [
    "arr = np.array([0, 1, 2, 3, 4, 5, 6, 7])\n",
    "arr.cumsum()"
   ]
  },
  {
   "cell_type": "markdown",
   "id": "c5a9abcf-8da7-4202-b944-0efeaa47d8ab",
   "metadata": {},
   "source": [
    "We can use the `.cumsum()` method along the axis of a multi-dimension array, too."
   ]
  },
  {
   "cell_type": "code",
   "execution_count": 97,
   "id": "d922d7e5-5816-42c1-9c8b-a9150cab8d96",
   "metadata": {},
   "outputs": [
    {
     "data": {
      "text/plain": [
       "array([[0, 1, 2],\n",
       "       [3, 4, 5],\n",
       "       [6, 7, 8]])"
      ]
     },
     "execution_count": 97,
     "metadata": {},
     "output_type": "execute_result"
    }
   ],
   "source": [
    "arr = np.array([[0, 1, 2], [3, 4, 5], [6, 7, 8]])\n",
    "arr"
   ]
  },
  {
   "cell_type": "code",
   "execution_count": 98,
   "id": "01b79aa5-b5c0-470b-92b6-47ddcdfe6cbd",
   "metadata": {},
   "outputs": [
    {
     "data": {
      "text/plain": [
       "array([[ 0,  1,  2],\n",
       "       [ 3,  5,  7],\n",
       "       [ 9, 12, 15]])"
      ]
     },
     "execution_count": 98,
     "metadata": {},
     "output_type": "execute_result"
    }
   ],
   "source": [
    "arr.cumsum(axis=0)"
   ]
  },
  {
   "cell_type": "code",
   "execution_count": 99,
   "id": "625a52f6-751a-47f9-a4b0-af7aea4584cb",
   "metadata": {},
   "outputs": [
    {
     "data": {
      "text/plain": [
       "array([[  0,   0,   0],\n",
       "       [  3,  12,  60],\n",
       "       [  6,  42, 336]])"
      ]
     },
     "execution_count": 99,
     "metadata": {},
     "output_type": "execute_result"
    }
   ],
   "source": [
    "arr.cumprod(axis=1)"
   ]
  },
  {
   "cell_type": "markdown",
   "id": "20e35b68-90e4-4bc6-afc0-39b8bf251a78",
   "metadata": {},
   "source": [
    "***Table 4-6*** from McKinney lists some basic statistical methods:\n",
    "\n",
    "- `sum`: Sum of all the elements in the array or along an axis; zero-length arrays have sum 0\n",
    "- `mean`: Arithmetic mean; zero-length arrays have NaN mean\n",
    "- `std`, `var`: Standard deviation and variance, respectively, with optional degrees of freedom adjustment (default denominator $n$)\n",
    "- `min`, `max`: Minimum and maximum\n",
    "- `argmin`, `argmax`: Indices of minimum and maximum elements, respectively\n",
    "- `cumsum`: Cumulative sum of elements starting from 0\n",
    "- `cumprod`: Cumulative product of elements starting from 1"
   ]
  },
  {
   "cell_type": "markdown",
   "id": "ffccd7b2-11bd-48b6-964d-848d4821f544",
   "metadata": {
    "deletable": true,
    "editable": true
   },
   "source": [
    "### Methods for Boolean Arrays"
   ]
  },
  {
   "cell_type": "code",
   "execution_count": 100,
   "id": "07bb74b3-91dd-4714-9070-6bd0d6771e90",
   "metadata": {
    "deletable": true,
    "editable": true,
    "jupyter": {
     "outputs_hidden": false
    }
   },
   "outputs": [
    {
     "data": {
      "text/plain": [
       "array([ 0.4967, -0.1383,  0.6477,  1.523 , -0.2342, -0.2341,  1.5792,\n",
       "        0.7674, -0.4695,  0.5426, -0.4634, -0.4657,  0.242 , -1.9133,\n",
       "       -1.7249, -0.5623, -1.0128,  0.3142, -0.908 , -1.4123,  1.4656,\n",
       "       -0.2258,  0.0675, -1.4247, -0.5444,  0.1109, -1.151 ,  0.3757,\n",
       "       -0.6006, -0.2917, -0.6017,  1.8523, -0.0135, -1.0577,  0.8225,\n",
       "       -1.2208,  0.2089, -1.9597, -1.3282,  0.1969,  0.7385,  0.1714,\n",
       "       -0.1156, -0.3011, -1.4785, -0.7198, -0.4606,  1.0571,  0.3436,\n",
       "       -1.763 ,  0.3241, -0.3851, -0.6769,  0.6117,  1.031 ,  0.9313,\n",
       "       -0.8392, -0.3092,  0.3313,  0.9755, -0.4792, -0.1857, -1.1063,\n",
       "       -1.1962,  0.8125,  1.3562, -0.072 ,  1.0035,  0.3616, -0.6451,\n",
       "        0.3614,  1.538 , -0.0358,  1.5646, -2.6197,  0.8219,  0.087 ,\n",
       "       -0.299 ,  0.0918, -1.9876, -0.2197,  0.3571,  1.4779, -0.5183,\n",
       "       -0.8085, -0.5018,  0.9154,  0.3288, -0.5298,  0.5133,  0.0971,\n",
       "        0.9686, -0.7021, -0.3277, -0.3921, -1.4635,  0.2961,  0.2611,\n",
       "        0.0051, -0.2346])"
      ]
     },
     "execution_count": 100,
     "metadata": {},
     "output_type": "execute_result"
    }
   ],
   "source": [
    "np.random.seed(42)\n",
    "arr = np.random.randn(100)\n",
    "arr"
   ]
  },
  {
   "cell_type": "code",
   "execution_count": 101,
   "id": "61f80c84-a74f-44d5-a808-cc8f341550b9",
   "metadata": {},
   "outputs": [
    {
     "data": {
      "text/plain": [
       "array([ True, False,  True,  True, False, False,  True,  True, False,\n",
       "        True, False, False,  True, False, False, False, False,  True,\n",
       "       False, False,  True, False,  True, False, False,  True, False,\n",
       "        True, False, False, False,  True, False, False,  True, False,\n",
       "        True, False, False,  True,  True,  True, False, False, False,\n",
       "       False, False,  True,  True, False,  True, False, False,  True,\n",
       "        True,  True, False, False,  True,  True, False, False, False,\n",
       "       False,  True,  True, False,  True,  True, False,  True,  True,\n",
       "       False,  True, False,  True,  True, False,  True, False, False,\n",
       "        True,  True, False, False, False,  True,  True, False,  True,\n",
       "        True,  True, False, False, False, False,  True,  True,  True,\n",
       "       False])"
      ]
     },
     "execution_count": 101,
     "metadata": {},
     "output_type": "execute_result"
    }
   ],
   "source": [
    "arr > 0"
   ]
  },
  {
   "cell_type": "code",
   "execution_count": 102,
   "id": "6ae21fc5-4e40-4313-9dc2-fcc9d99c7c81",
   "metadata": {},
   "outputs": [
    {
     "data": {
      "text/plain": [
       "46"
      ]
     },
     "execution_count": 102,
     "metadata": {},
     "output_type": "execute_result"
    }
   ],
   "source": [
    "(arr > 0).sum() # Number of positive values"
   ]
  },
  {
   "cell_type": "code",
   "execution_count": 103,
   "id": "91666085-b1d8-4579-a589-c91b5f87f5a7",
   "metadata": {},
   "outputs": [
    {
     "data": {
      "text/plain": [
       "0.4600"
      ]
     },
     "execution_count": 103,
     "metadata": {},
     "output_type": "execute_result"
    }
   ],
   "source": [
    "(arr > 0).mean() # percentage of positive values"
   ]
  },
  {
   "cell_type": "code",
   "execution_count": 104,
   "id": "5a83c1da-48a7-467d-b6f9-9a8bcc2f0ff3",
   "metadata": {
    "deletable": true,
    "editable": true,
    "jupyter": {
     "outputs_hidden": false
    }
   },
   "outputs": [
    {
     "data": {
      "text/plain": [
       "array([False, False,  True, False])"
      ]
     },
     "execution_count": 104,
     "metadata": {},
     "output_type": "execute_result"
    }
   ],
   "source": [
    "bools = np.array([False, False, True, False])\n",
    "bools"
   ]
  },
  {
   "cell_type": "code",
   "execution_count": 105,
   "id": "b28da602-6f52-475a-b5d5-a72d5095aad8",
   "metadata": {},
   "outputs": [
    {
     "data": {
      "text/plain": [
       "True"
      ]
     },
     "execution_count": 105,
     "metadata": {},
     "output_type": "execute_result"
    }
   ],
   "source": [
    "bools.any()"
   ]
  },
  {
   "cell_type": "code",
   "execution_count": 106,
   "id": "5cfc8815-d447-479b-912a-c8834db6eda6",
   "metadata": {},
   "outputs": [
    {
     "data": {
      "text/plain": [
       "False"
      ]
     },
     "execution_count": 106,
     "metadata": {},
     "output_type": "execute_result"
    }
   ],
   "source": [
    "bools.all()"
   ]
  }
 ],
 "metadata": {
  "author": "Richard Herron",
  "kernelspec": {
   "display_name": "Python 3 (ipykernel)",
   "language": "python",
   "name": "python3"
  },
  "language_info": {
   "codemirror_mode": {
    "name": "ipython",
    "version": 3
   },
   "file_extension": ".py",
   "mimetype": "text/x-python",
   "name": "python",
   "nbconvert_exporter": "python",
   "pygments_lexer": "ipython3",
   "version": "3.9.18"
  },
  "title": "McKinney Chapter 4 - NumPy Basics: Arrays and Vectorized Computation"
 },
 "nbformat": 4,
 "nbformat_minor": 5
}
