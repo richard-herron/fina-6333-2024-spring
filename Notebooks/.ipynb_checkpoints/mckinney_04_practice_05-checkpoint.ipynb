{
 "cells": [
  {
   "cell_type": "markdown",
   "id": "dd06e180-4b25-481d-86df-1dc7ef1982c2",
   "metadata": {},
   "source": [
    "# McKinney Chapter 4 - Practice for Section 05"
   ]
  },
  {
   "cell_type": "markdown",
   "id": "7f3fc1cd-437b-46ba-835f-e11cdec6bb90",
   "metadata": {},
   "source": [
    "## Announcements"
   ]
  },
  {
   "cell_type": "markdown",
   "id": "e74f334a-49b9-4dc3-a2ee-d87a514b1ee5",
   "metadata": {},
   "source": [
    "## Practice"
   ]
  },
  {
   "cell_type": "code",
   "execution_count": 1,
   "id": "e699f608-e306-43be-833d-942d29021c50",
   "metadata": {},
   "outputs": [
    {
     "data": {
      "text/plain": [
       "'%.4f'"
      ]
     },
     "execution_count": 1,
     "metadata": {},
     "output_type": "execute_result"
    }
   ],
   "source": [
    "import numpy as np\n",
    "%precision 4"
   ]
  },
  {
   "cell_type": "markdown",
   "id": "bd998b0b-6cb1-45c7-adec-48bb1fc62f9f",
   "metadata": {
    "tags": []
   },
   "source": [
    "### Create a 1-dimensional array named `a1` that counts from 0 to 24 by 1."
   ]
  },
  {
   "cell_type": "markdown",
   "id": "2bf711fc-5690-42ed-bfa8-5788b2af1320",
   "metadata": {},
   "source": [
    "### Create a 1-dimentional array named `a2` that counts from 0 to 24 by 3."
   ]
  },
  {
   "cell_type": "markdown",
   "id": "ca4c0603-53bc-41e4-8be4-234b5d223033",
   "metadata": {},
   "source": [
    "### Create a 1-dimentional array named `a3` that counts from 0 to 100 by multiples of 3 and 5."
   ]
  },
  {
   "cell_type": "markdown",
   "id": "5d8094be-53ca-4fce-a493-e8ba05051e9a",
   "metadata": {},
   "source": [
    "### Create a 1-dimensional array `a3` that contains the squares of the even integers through 100,000."
   ]
  },
  {
   "cell_type": "markdown",
   "id": "c85459e5-1871-46c6-a682-3de73a5241ca",
   "metadata": {},
   "source": [
    "How much faster is the NumPy version than the list comprehension version?"
   ]
  },
  {
   "cell_type": "markdown",
   "id": "daa77654-df00-4f92-8b4e-158b62e27c0e",
   "metadata": {},
   "source": [
    "### Write a function that mimic Excel's `pv` function."
   ]
  },
  {
   "cell_type": "markdown",
   "id": "99aab945-099d-48fb-8390-71fca4b22c2e",
   "metadata": {},
   "source": [
    "### Write a function that mimic Excel's `fv` function."
   ]
  },
  {
   "cell_type": "markdown",
   "id": "9c479549-c910-4bf6-843c-f263d81520e5",
   "metadata": {},
   "source": [
    "### Replace the negative values in `data` with -1 and positive values with +1."
   ]
  },
  {
   "cell_type": "code",
   "execution_count": 2,
   "id": "e98dc508-db40-43d0-95a7-b5b3a36a34b2",
   "metadata": {},
   "outputs": [
    {
     "data": {
      "text/plain": [
       "array([[ 0.4967, -0.1383,  0.6477,  1.523 , -0.2342, -0.2341,  1.5792],\n",
       "       [ 0.7674, -0.4695,  0.5426, -0.4634, -0.4657,  0.242 , -1.9133],\n",
       "       [-1.7249, -0.5623, -1.0128,  0.3142, -0.908 , -1.4123,  1.4656],\n",
       "       [-0.2258,  0.0675, -1.4247, -0.5444,  0.1109, -1.151 ,  0.3757],\n",
       "       [-0.6006, -0.2917, -0.6017,  1.8523, -0.0135, -1.0577,  0.8225],\n",
       "       [-1.2208,  0.2089, -1.9597, -1.3282,  0.1969,  0.7385,  0.1714],\n",
       "       [-0.1156, -0.3011, -1.4785, -0.7198, -0.4606,  1.0571,  0.3436]])"
      ]
     },
     "execution_count": 2,
     "metadata": {},
     "output_type": "execute_result"
    }
   ],
   "source": [
    "np.random.seed(42)\n",
    "data = np.random.randn(7, 7)\n",
    "data"
   ]
  },
  {
   "cell_type": "markdown",
   "id": "784da531-3f16-4afd-b0bb-0d800c116540",
   "metadata": {},
   "source": [
    "### Write a function `npmts()` that calculates the number of payments that generate $x\\%$ of the present value of a perpetuity."
   ]
  },
  {
   "cell_type": "markdown",
   "id": "d275e333-9bcf-463b-a39d-9ea8a2eade3e",
   "metadata": {},
   "source": [
    "Your `npmts()` should accept arguments `c1`, `r`, and `g` that represent  $C_1$, $r$, and $g$.\n",
    "The present value of a growing perpetuity is $PV = \\frac{C_1}{r - g}$, and the present value of a growing annuity is $PV = \\frac{C_1}{r - g}\\left[ 1 - \\left( \\frac{1 + g}{1 + r} \\right)^t \\right]$."
   ]
  },
  {
   "cell_type": "markdown",
   "id": "c350c919-5358-414c-a106-ca845a1149ff",
   "metadata": {},
   "source": [
    "### Write a function that calculates the internal rate of return given a NumPy array of cash flows."
   ]
  },
  {
   "cell_type": "markdown",
   "id": "3bbc1ce3-1962-469e-bc58-f8c13b512961",
   "metadata": {},
   "source": [
    "### Write a function `returns()` that accepts *NumPy arrays* of prices and dividends and returns a *NumPy array* of returns."
   ]
  },
  {
   "cell_type": "code",
   "execution_count": 3,
   "id": "a0cddc6d-6efd-40b5-8747-aba48243558f",
   "metadata": {},
   "outputs": [],
   "source": [
    "prices = np.array([100, 150, 100, 50, 100, 150, 100, 150])\n",
    "dividends = np.array([1, 1, 1, 1, 2, 2, 2, 2])"
   ]
  },
  {
   "cell_type": "markdown",
   "id": "31b6c657-3164-46a0-9160-7c868714c76b",
   "metadata": {},
   "source": [
    "### Rewrite the function `returns()` so it returns *NumPy arrays* of returns, capital gains yields, and dividend yields."
   ]
  },
  {
   "cell_type": "markdown",
   "id": "d8bd7ca3-163d-4283-89bd-3902139b42a8",
   "metadata": {},
   "source": [
    "### Rescale and shift numbers so that they cover the range [0, 1]"
   ]
  },
  {
   "cell_type": "markdown",
   "id": "fadb2aee-d90a-4493-bfbb-d6b5b85fa829",
   "metadata": {},
   "source": [
    "Input: `np.array([18.5, 17.0, 18.0, 19.0, 18.0])` \\\n",
    "Output: `np.array([0.75, 0.0, 0.5, 1.0, 0.5])`"
   ]
  },
  {
   "cell_type": "code",
   "execution_count": 4,
   "id": "73c96365-d699-4762-b87a-f4f9f68643a1",
   "metadata": {},
   "outputs": [],
   "source": [
    "numbers = np.array([18.5, 17.0, 18.0, 19.0, 18.0])"
   ]
  },
  {
   "cell_type": "markdown",
   "id": "b2840013-143b-4c27-842b-737269192f17",
   "metadata": {},
   "source": [
    "### Write functions `var()` and `std()` that calculate variance and standard deviation."
   ]
  },
  {
   "cell_type": "markdown",
   "id": "892d8f7d-c891-42fc-877c-d2dee982200d",
   "metadata": {},
   "source": [
    "NumPy's `.var()` and `.std()` methods return *population* statistics (i.e., denominators of $n$).\n",
    "The pandas equivalents return *sample* statistics (denominators of $n-1$), which are more appropriate for financial data analysis where we have a sample instead of a population.\n",
    "\n",
    "\n",
    "Both function should have an argument `sample` that is `True` by default so both functions return sample statistics by default.\n",
    "\n",
    "Use the output of `returns()` to compare your functions with NumPy's `.var()` and `.std()` methods."
   ]
  }
 ],
 "metadata": {
  "author": "Richard Herron",
  "kernelspec": {
   "display_name": "Python 3 (ipykernel)",
   "language": "python",
   "name": "python3"
  },
  "language_info": {
   "codemirror_mode": {
    "name": "ipython",
    "version": 3
   },
   "file_extension": ".py",
   "mimetype": "text/x-python",
   "name": "python",
   "nbconvert_exporter": "python",
   "pygments_lexer": "ipython3",
   "version": "3.9.18"
  },
  "title": "McKinney Chapter 4 - Practice"
 },
 "nbformat": 4,
 "nbformat_minor": 5
}
