{
 "cells": [
  {
   "cell_type": "markdown",
   "id": "dd06e180-4b25-481d-86df-1dc7ef1982c2",
   "metadata": {},
   "source": [
    "# McKinney Chapter 4 - Practice for Section 03"
   ]
  },
  {
   "cell_type": "markdown",
   "id": "7f3fc1cd-437b-46ba-835f-e11cdec6bb90",
   "metadata": {},
   "source": [
    "## Announcements"
   ]
  },
  {
   "cell_type": "markdown",
   "id": "08bf374d-b4db-4a38-9a27-491d084b880b",
   "metadata": {},
   "source": [
    "1. Our second DataCamp course, *Intermediate Python*, is due Friday, 1/26, at 11:59 PM\n",
    "2. I will record our week 4 lecture video on McKinney chapter 5 this Thursday evening, and the week 4 pre-class quiz is due before class next Tuesday, 1/30\n",
    "3. Team projects\n",
    "   1. Continue to join teams on Canvas > People > Team Projects\n",
    "   2. I removed the join-a-team assignment, but I will give the first project assignment in early February, so join a team by then"
   ]
  },
  {
   "cell_type": "markdown",
   "id": "096f3c1f-16b5-4f18-8ab5-5e8bb068bf68",
   "metadata": {},
   "source": [
    "## 10-minute Recap"
   ]
  },
  {
   "cell_type": "markdown",
   "id": "97974d57-e5ab-4ff4-babf-d2c53dbc1244",
   "metadata": {},
   "source": [
    "### NumPy Arrays"
   ]
  },
  {
   "cell_type": "markdown",
   "id": "3a9e5dee-5337-4196-b18c-d9b884ac5f06",
   "metadata": {},
   "source": [
    "NumPy arrays are multidimensional data structures that can store numerical data efficiently and perform fast mathematical operations on them.\r"
   ]
  },
  {
   "cell_type": "code",
   "execution_count": 1,
   "id": "df72269f-49b1-4934-8c5e-488ef5779464",
   "metadata": {},
   "outputs": [
    {
     "name": "stdout",
     "output_type": "stream",
     "text": [
      "The Zen of Python, by Tim Peters\n",
      "\n",
      "Beautiful is better than ugly.\n",
      "Explicit is better than implicit.\n",
      "Simple is better than complex.\n",
      "Complex is better than complicated.\n",
      "Flat is better than nested.\n",
      "Sparse is better than dense.\n",
      "Readability counts.\n",
      "Special cases aren't special enough to break the rules.\n",
      "Although practicality beats purity.\n",
      "Errors should never pass silently.\n",
      "Unless explicitly silenced.\n",
      "In the face of ambiguity, refuse the temptation to guess.\n",
      "There should be one-- and preferably only one --obvious way to do it.\n",
      "Although that way may not be obvious at first unless you're Dutch.\n",
      "Now is better than never.\n",
      "Although never is often better than *right* now.\n",
      "If the implementation is hard to explain, it's a bad idea.\n",
      "If the implementation is easy to explain, it may be a good idea.\n",
      "Namespaces are one honking great idea -- let's do more of those!\n"
     ]
    }
   ],
   "source": [
    "import this"
   ]
  },
  {
   "cell_type": "code",
   "execution_count": 2,
   "id": "8194707a-c40b-4ff5-b899-93ebf50f2809",
   "metadata": {},
   "outputs": [
    {
     "data": {
      "text/plain": [
       "'%.4f'"
      ]
     },
     "execution_count": 2,
     "metadata": {},
     "output_type": "execute_result"
    }
   ],
   "source": [
    "import numpy as np\n",
    "%precision 4"
   ]
  },
  {
   "cell_type": "code",
   "execution_count": 3,
   "id": "9847dbca-0765-434b-ac6b-b34768bd4521",
   "metadata": {},
   "outputs": [
    {
     "data": {
      "text/plain": [
       "array([0, 1, 2, 3, 4, 5, 6, 7, 8, 9])"
      ]
     },
     "execution_count": 3,
     "metadata": {},
     "output_type": "execute_result"
    }
   ],
   "source": [
    "np.arange(10)"
   ]
  },
  {
   "cell_type": "code",
   "execution_count": 4,
   "id": "871e321a-a71e-483d-80b3-3b34e06f0fcc",
   "metadata": {},
   "outputs": [
    {
     "data": {
      "text/plain": [
       "array([[1., 1.],\n",
       "       [1., 1.]])"
      ]
     },
     "execution_count": 4,
     "metadata": {},
     "output_type": "execute_result"
    }
   ],
   "source": [
    "np.ones((2, 2))"
   ]
  },
  {
   "cell_type": "code",
   "execution_count": 5,
   "id": "d7dd5fc0-6f2b-474e-a6cd-73bce6a8b5b5",
   "metadata": {},
   "outputs": [
    {
     "data": {
      "text/plain": [
       "array([[[[1., 1.],\n",
       "         [1., 1.]],\n",
       "\n",
       "        [[1., 1.],\n",
       "         [1., 1.]]],\n",
       "\n",
       "\n",
       "       [[[1., 1.],\n",
       "         [1., 1.]],\n",
       "\n",
       "        [[1., 1.],\n",
       "         [1., 1.]]]])"
      ]
     },
     "execution_count": 5,
     "metadata": {},
     "output_type": "execute_result"
    }
   ],
   "source": [
    "np.ones((2, 2, 2, 2))"
   ]
  },
  {
   "cell_type": "markdown",
   "id": "9a4fbd53-36f1-4a1b-9e5c-89b3a2c4838d",
   "metadata": {},
   "source": [
    "We can use `np.ranom.rand()` to create n-dimensional arrays of standard normal random variables (i.e., $\\mu=0, \\sigma=1$).\n",
    "We can use `np.random.seed()` to set the random number generator seed to make our analysis repeatable."
   ]
  },
  {
   "cell_type": "code",
   "execution_count": 6,
   "id": "1fa38013-d922-411e-ab63-334619585273",
   "metadata": {},
   "outputs": [
    {
     "data": {
      "text/plain": [
       "array([[ 0.4967, -0.1383],\n",
       "       [ 0.6477,  1.523 ]])"
      ]
     },
     "execution_count": 6,
     "metadata": {},
     "output_type": "execute_result"
    }
   ],
   "source": [
    "np.random.seed(42)\n",
    "np.random.randn(2, 2)"
   ]
  },
  {
   "cell_type": "markdown",
   "id": "599b30a8-ce7f-4265-9070-a39e0cec68fd",
   "metadata": {},
   "source": [
    "### Vectorized Functions"
   ]
  },
  {
   "cell_type": "markdown",
   "id": "cb66a001-0dfa-4b85-895f-9461ff06db43",
   "metadata": {},
   "source": [
    "Vectorized computation is the process of applying an operation to an entire array or a subset of an array without using explicit loops. NumPy supports vectorized computation using universal functions (ufuncs), which are functions that operate on arrays element-wise.\r"
   ]
  },
  {
   "cell_type": "markdown",
   "id": "05c70038-2586-4e75-a41d-08f0b30c4f48",
   "metadata": {},
   "source": [
    "Say we want to calculate square roots."
   ]
  },
  {
   "cell_type": "code",
   "execution_count": 7,
   "id": "7933ebc6-4df1-43fb-98b3-7435d40f5f02",
   "metadata": {},
   "outputs": [
    {
     "data": {
      "text/plain": [
       "2.0000"
      ]
     },
     "execution_count": 7,
     "metadata": {},
     "output_type": "execute_result"
    }
   ],
   "source": [
    "4**0.5"
   ]
  },
  {
   "cell_type": "code",
   "execution_count": 8,
   "id": "f447c974-9f70-4192-8764-aca5313d6ead",
   "metadata": {},
   "outputs": [
    {
     "data": {
      "text/plain": [
       "[0.0000,\n",
       " 1.0000,\n",
       " 1.4142,\n",
       " 1.7321,\n",
       " 2.0000,\n",
       " 2.2361,\n",
       " 2.4495,\n",
       " 2.6458,\n",
       " 2.8284,\n",
       " 3.0000]"
      ]
     },
     "execution_count": 8,
     "metadata": {},
     "output_type": "execute_result"
    }
   ],
   "source": [
    "[i**0.5 for i in range(10)]"
   ]
  },
  {
   "cell_type": "code",
   "execution_count": 9,
   "id": "e106335c-ff1f-4e07-b35d-3dffa6b73356",
   "metadata": {},
   "outputs": [
    {
     "data": {
      "text/plain": [
       "2.0000"
      ]
     },
     "execution_count": 9,
     "metadata": {},
     "output_type": "execute_result"
    }
   ],
   "source": [
    "np.sqrt(4)"
   ]
  },
  {
   "cell_type": "code",
   "execution_count": 10,
   "id": "2b18d352-761c-44ed-b5ed-7b49d52ff5a0",
   "metadata": {},
   "outputs": [
    {
     "data": {
      "text/plain": [
       "array([0.    , 1.    , 1.4142, 1.7321, 2.    , 2.2361, 2.4495, 2.6458,\n",
       "       2.8284, 3.    ])"
      ]
     },
     "execution_count": 10,
     "metadata": {},
     "output_type": "execute_result"
    }
   ],
   "source": [
    "np.sqrt(np.arange(10))"
   ]
  },
  {
   "cell_type": "markdown",
   "id": "a41cb278-6626-4ed2-b412-2c3ea110ee99",
   "metadata": {},
   "source": [
    "### Indexing and Slicing"
   ]
  },
  {
   "cell_type": "markdown",
   "id": "f4cc31e7-1015-4a40-8fc4-0ceefa1dec59",
   "metadata": {},
   "source": [
    "Indexing and slicing are techniques to access or modify specific elements or subsets of an array. NumPy also supports advanced indexing methods, such as fancy indexing and boolean indexing, which allow more flexible and complex selection of array elements."
   ]
  },
  {
   "cell_type": "code",
   "execution_count": 11,
   "id": "803d1861-8280-4302-a61d-2daa1dcffc7f",
   "metadata": {},
   "outputs": [
    {
     "data": {
      "text/plain": [
       "array([[ 0.4967, -0.1383,  0.6477],\n",
       "       [ 1.523 , -0.2342, -0.2341],\n",
       "       [ 1.5792,  0.7674, -0.4695]])"
      ]
     },
     "execution_count": 11,
     "metadata": {},
     "output_type": "execute_result"
    }
   ],
   "source": [
    "np.random.seed(42)\n",
    "my_array = np.random.randn(3, 3)\n",
    "\n",
    "my_array"
   ]
  },
  {
   "cell_type": "code",
   "execution_count": 12,
   "id": "ebeba18d-618a-4e6c-bd63-359c498b515f",
   "metadata": {},
   "outputs": [
    {
     "data": {
      "text/plain": [
       "array([ 0.4967, -0.1383,  0.6477])"
      ]
     },
     "execution_count": 12,
     "metadata": {},
     "output_type": "execute_result"
    }
   ],
   "source": [
    "my_array[0] # indexes first array in array of arrays"
   ]
  },
  {
   "cell_type": "code",
   "execution_count": 13,
   "id": "03a0a295-5cea-473f-bfd7-1fa0eca5fbf1",
   "metadata": {},
   "outputs": [
    {
     "data": {
      "text/plain": [
       "0.4967"
      ]
     },
     "execution_count": 13,
     "metadata": {},
     "output_type": "execute_result"
    }
   ],
   "source": [
    "my_array[0][0] # indexes first element in first array in array of arrays"
   ]
  },
  {
   "cell_type": "markdown",
   "id": "150cbd12-ad5a-44cc-ac79-0750b71604e2",
   "metadata": {},
   "source": [
    "In NumPy, we typically replace the chained `[i][j]` notation with the `[i, j]` from linear algebra class."
   ]
  },
  {
   "cell_type": "code",
   "execution_count": 14,
   "id": "f80a0290-978d-4109-a030-c410c7f120b4",
   "metadata": {},
   "outputs": [
    {
     "data": {
      "text/plain": [
       "0.4967"
      ]
     },
     "execution_count": 14,
     "metadata": {},
     "output_type": "execute_result"
    }
   ],
   "source": [
    "my_array[0, 0]"
   ]
  },
  {
   "cell_type": "code",
   "execution_count": 15,
   "id": "34736fbb-e709-4776-8a4b-985dab7a0104",
   "metadata": {},
   "outputs": [
    {
     "data": {
      "text/plain": [
       "array([[ 0.4967, -0.1383],\n",
       "       [ 1.523 , -0.2342]])"
      ]
     },
     "execution_count": 15,
     "metadata": {},
     "output_type": "execute_result"
    }
   ],
   "source": [
    "my_array[:2, :2]"
   ]
  },
  {
   "cell_type": "markdown",
   "id": "e74f334a-49b9-4dc3-a2ee-d87a514b1ee5",
   "metadata": {},
   "source": [
    "## Practice"
   ]
  },
  {
   "cell_type": "markdown",
   "id": "bd998b0b-6cb1-45c7-adec-48bb1fc62f9f",
   "metadata": {
    "tags": []
   },
   "source": [
    "### Create a 1-dimensional array named `a1` that counts from 0 to 24 by 1."
   ]
  },
  {
   "cell_type": "code",
   "execution_count": 16,
   "id": "0886d810-7074-4025-9677-f8cccb524405",
   "metadata": {},
   "outputs": [
    {
     "data": {
      "text/plain": [
       "array([ 0,  1,  2,  3,  4,  5,  6,  7,  8,  9, 10, 11, 12, 13, 14, 15, 16,\n",
       "       17, 18, 19, 20, 21, 22, 23, 24])"
      ]
     },
     "execution_count": 16,
     "metadata": {},
     "output_type": "execute_result"
    }
   ],
   "source": [
    "a1 = np.arange(25)\n",
    "\n",
    "a1"
   ]
  },
  {
   "cell_type": "code",
   "execution_count": 17,
   "id": "fd5a85d5-2112-44bc-8c77-656355d22b3d",
   "metadata": {},
   "outputs": [
    {
     "data": {
      "text/plain": [
       "1"
      ]
     },
     "execution_count": 17,
     "metadata": {},
     "output_type": "execute_result"
    }
   ],
   "source": [
    "a1.ndim"
   ]
  },
  {
   "cell_type": "code",
   "execution_count": 18,
   "id": "4b4d0e30-8150-485a-90f3-3f6d75ab2ecf",
   "metadata": {},
   "outputs": [
    {
     "data": {
      "text/plain": [
       "dtype('int32')"
      ]
     },
     "execution_count": 18,
     "metadata": {},
     "output_type": "execute_result"
    }
   ],
   "source": [
    "a1.dtype"
   ]
  },
  {
   "cell_type": "markdown",
   "id": "2bf711fc-5690-42ed-bfa8-5788b2af1320",
   "metadata": {},
   "source": [
    "### Create a 1-dimentional array named `a2` that counts from 0 to 24 by 3."
   ]
  },
  {
   "cell_type": "code",
   "execution_count": 19,
   "id": "57bf907e-eef5-4ef2-862c-c1fdbe94fd9a",
   "metadata": {},
   "outputs": [
    {
     "data": {
      "text/plain": [
       "array([ 0,  3,  6,  9, 12, 15, 18, 21, 24])"
      ]
     },
     "execution_count": 19,
     "metadata": {},
     "output_type": "execute_result"
    }
   ],
   "source": [
    "a2 = np.arange(0, 25, 3)\n",
    "\n",
    "a2"
   ]
  },
  {
   "cell_type": "markdown",
   "id": "ca4c0603-53bc-41e4-8be4-234b5d223033",
   "metadata": {},
   "source": [
    "### Create a 1-dimentional array named `a3` that counts from 0 to 100 by multiples of 3 or 5."
   ]
  },
  {
   "cell_type": "code",
   "execution_count": 20,
   "id": "43c48f60-7d4e-47aa-ad2b-cc9855f5466c",
   "metadata": {},
   "outputs": [
    {
     "data": {
      "text/plain": [
       "array([  0,   3,   5,   6,   9,  10,  12,  15,  18,  20,  21,  24,  25,\n",
       "        27,  30,  33,  35,  36,  39,  40,  42,  45,  48,  50,  51,  54,\n",
       "        55,  57,  60,  63,  65,  66,  69,  70,  72,  75,  78,  80,  81,\n",
       "        84,  85,  87,  90,  93,  95,  96,  99, 100])"
      ]
     },
     "execution_count": 20,
     "metadata": {},
     "output_type": "execute_result"
    }
   ],
   "source": [
    "a3 = np.array([i for i in range(101) if (i%3==0) or (i%5==0)]) # core Python allows \"or\" or \"|\"\n",
    "\n",
    "a3"
   ]
  },
  {
   "cell_type": "code",
   "execution_count": 21,
   "id": "79c38273-3cf8-48d9-bf42-3af71c991c4d",
   "metadata": {},
   "outputs": [
    {
     "data": {
      "text/plain": [
       "1"
      ]
     },
     "execution_count": 21,
     "metadata": {},
     "output_type": "execute_result"
    }
   ],
   "source": [
    "a3.ndim"
   ]
  },
  {
   "cell_type": "code",
   "execution_count": 22,
   "id": "81878a99-ab32-46b0-9f7b-5f6f3951e8f3",
   "metadata": {},
   "outputs": [
    {
     "data": {
      "text/plain": [
       "array([  0,   3,   5,   6,   9,  10,  12,  15,  18,  20,  21,  24,  25,\n",
       "        27,  30,  33,  35,  36,  39,  40,  42,  45,  48,  50,  51,  54,\n",
       "        55,  57,  60,  63,  65,  66,  69,  70,  72,  75,  78,  80,  81,\n",
       "        84,  85,  87,  90,  93,  95,  96,  99, 100])"
      ]
     },
     "execution_count": 22,
     "metadata": {},
     "output_type": "execute_result"
    }
   ],
   "source": [
    "a3_alt = np.arange(101)\n",
    "a3_alt = a3_alt[(a3_alt%3==0) | (a3_alt%5==0)] # NumPy does not allow \"or\", only \"|\"\n",
    "\n",
    "a3_alt"
   ]
  },
  {
   "cell_type": "markdown",
   "id": "8cf6be7e-aee5-4b57-88a4-8f3e03f91101",
   "metadata": {},
   "source": [
    "How can we test if `a3` and `a3_alt` have the same values?"
   ]
  },
  {
   "cell_type": "markdown",
   "id": "0d0befad-0aaf-4701-9e72-e1105d4d32b8",
   "metadata": {},
   "source": [
    "The `==` operators tests is NumPy arrays are the same, element by element.\n",
    "We can append the `.all()` to make sure all element-by-element comparisons are `True`!"
   ]
  },
  {
   "cell_type": "code",
   "execution_count": 23,
   "id": "137c2c3a-e9b6-4964-82c9-c5e10a89a2cb",
   "metadata": {},
   "outputs": [
    {
     "data": {
      "text/plain": [
       "True"
      ]
     },
     "execution_count": 23,
     "metadata": {},
     "output_type": "execute_result"
    }
   ],
   "source": [
    "(a3 == a3_alt).all()"
   ]
  },
  {
   "cell_type": "markdown",
   "id": "044e92e1-20ae-45ac-938d-3b227d771b21",
   "metadata": {},
   "source": [
    "if we want to compare within some tolerance, we can use `np.allclose()`."
   ]
  },
  {
   "cell_type": "code",
   "execution_count": 24,
   "id": "1341b9c8-235b-44f9-bc9b-c28e065dfb66",
   "metadata": {},
   "outputs": [
    {
     "data": {
      "text/plain": [
       "True"
      ]
     },
     "execution_count": 24,
     "metadata": {},
     "output_type": "execute_result"
    }
   ],
   "source": [
    "np.allclose(a3, a3_alt)"
   ]
  },
  {
   "cell_type": "markdown",
   "id": "49d3174e-3d57-40b9-8094-fde330901fff",
   "metadata": {},
   "source": [
    "---\n",
    "\n",
    "Minor detour for another example!\n",
    "How do I slice values greater than 5 in an array from 0 to 9?"
   ]
  },
  {
   "cell_type": "code",
   "execution_count": 25,
   "id": "0273fc8f-93f4-4713-a9fb-5eb2d0090cf2",
   "metadata": {},
   "outputs": [
    {
     "data": {
      "text/plain": [
       "array([6, 7, 8, 9])"
      ]
     },
     "execution_count": 25,
     "metadata": {},
     "output_type": "execute_result"
    }
   ],
   "source": [
    "ten = np.arange(10)\n",
    "gt_five = ten[ten > 5]\n",
    "\n",
    "gt_five"
   ]
  },
  {
   "cell_type": "markdown",
   "id": "af48024e-6dd9-4969-a246-e87276225c3a",
   "metadata": {},
   "source": [
    "---"
   ]
  },
  {
   "cell_type": "markdown",
   "id": "5d8094be-53ca-4fce-a493-e8ba05051e9a",
   "metadata": {},
   "source": [
    "### Create a 1-dimensional array `a3` that contains the squares of the even integers through 100,000."
   ]
  },
  {
   "cell_type": "markdown",
   "id": "c85459e5-1871-46c6-a682-3de73a5241ca",
   "metadata": {},
   "source": [
    "How much faster is the NumPy version than the list comprehension version?"
   ]
  },
  {
   "cell_type": "code",
   "execution_count": 26,
   "id": "02d4440b-aae9-4ac2-a221-87afc57ae607",
   "metadata": {},
   "outputs": [
    {
     "data": {
      "text/plain": [
       "array([         0,          4,         16, ..., 1409265424, 1409665412,\n",
       "       1410065408])"
      ]
     },
     "execution_count": 26,
     "metadata": {},
     "output_type": "execute_result"
    }
   ],
   "source": [
    "np.arange(0, 100_001, 2)**2"
   ]
  },
  {
   "cell_type": "markdown",
   "id": "a4bb3c6b-4335-47e3-b897-98270dbfeeb7",
   "metadata": {},
   "source": [
    "On some computers, the output above is wrong because NumPy defaults to 32-bit integers, depending on the computer!\n",
    "***Always check your output!***\n",
    "To avoid this problem, we can force `np.arange()` to use 64-bit integers with the `dtype=` argument."
   ]
  },
  {
   "cell_type": "code",
   "execution_count": 27,
   "id": "b701d3cd-8cfb-4c3e-b9ef-04f24cf0e93f",
   "metadata": {},
   "outputs": [
    {
     "data": {
      "text/plain": [
       "array([          0,           4,          16, ...,  9999200016,\n",
       "        9999600004, 10000000000], dtype=int64)"
      ]
     },
     "execution_count": 27,
     "metadata": {},
     "output_type": "execute_result"
    }
   ],
   "source": [
    "np.arange(0, 100_001, 2, dtype=np.int64)**2"
   ]
  },
  {
   "cell_type": "markdown",
   "id": "db1ce324-0086-4baf-9443-2d3bae1099a6",
   "metadata": {},
   "source": [
    "We can use the `%timeit` magic to time which code is faster!\n",
    "The `%timeit` magic runs the code on the same line many times and reports the mean computation time.\n",
    "The `%%timet` magic with two percent signs runs the code in the same cell many times and reports the mean computation time."
   ]
  },
  {
   "cell_type": "code",
   "execution_count": 28,
   "id": "6c09bd3e-4eb9-4467-a3b4-96fb4d51b9a4",
   "metadata": {},
   "outputs": [
    {
     "name": "stdout",
     "output_type": "stream",
     "text": [
      "43.8 µs ± 5.15 µs per loop (mean ± std. dev. of 7 runs, 10,000 loops each)\n"
     ]
    }
   ],
   "source": [
    "%timeit np.arange(0, 100_001, 2, dtype=np.int64)**2"
   ]
  },
  {
   "cell_type": "code",
   "execution_count": 29,
   "id": "a6f92fc6-3040-4705-86f2-448ba2f107a6",
   "metadata": {},
   "outputs": [
    {
     "name": "stdout",
     "output_type": "stream",
     "text": [
      "13.4 ms ± 918 µs per loop (mean ± std. dev. of 7 runs, 100 loops each)\n"
     ]
    }
   ],
   "source": [
    "%timeit np.array([i**2 for i in range(0, 100_001)])"
   ]
  },
  {
   "cell_type": "markdown",
   "id": "0afe900d-1c49-4340-98ee-e6eeb93020cb",
   "metadata": {},
   "source": [
    "The NumPy version is about 1,000 times faster!"
   ]
  },
  {
   "cell_type": "markdown",
   "id": "daa77654-df00-4f92-8b4e-158b62e27c0e",
   "metadata": {},
   "source": [
    "### Write a function that mimic Excel's `pv` function."
   ]
  },
  {
   "cell_type": "markdown",
   "id": "5a8bf648-ccfb-4569-a13f-4a8929efa3a2",
   "metadata": {},
   "source": [
    "Here is how we call Excel's `pv` function:\n",
    "`=PV(rate, nper, pmt, [fv], [type])`\n",
    "We can use the annuity and lump sum present value formulas.\n",
    "\n",
    "Present value of an annuity payment `pmt`:\n",
    "$PV_{pmt} = \\frac{pmt}{rate} \\times \\left(1 - \\frac{1}{(1+rate)^{nper}} \\right)$\n",
    "\n",
    "Present value of a lump sum `fv`:\n",
    "$PV_{fv} = \\frac{fv}{(1+rate)^{nper}}$"
   ]
  },
  {
   "cell_type": "code",
   "execution_count": 30,
   "id": "4e7937ab-576d-4c33-9f05-3039ab5d85c4",
   "metadata": {},
   "outputs": [],
   "source": [
    "def pv(rate, nper, pmt=None, fv=None, type=None):\n",
    "    if pmt is None:\n",
    "        pmt = 0\n",
    "    if fv is None:\n",
    "        fv = 0\n",
    "    if type is None:\n",
    "        type = 'END'\n",
    "    \n",
    "    pv_pmt = (pmt / rate) * (1 - 1 / (1 + rate)**nper)\n",
    "    pv_fv = fv / (1 + rate)**nper\n",
    "    pv = pv_pmt + pv_fv\n",
    "\n",
    "    if type == 'BGN':\n",
    "        pv *= (1 + rate) # same as pv = pv*(1 + rate)\n",
    "    \n",
    "    return -1 * pv"
   ]
  },
  {
   "cell_type": "code",
   "execution_count": 31,
   "id": "e20a4aac-8f08-43d4-b4ab-f94f24feb113",
   "metadata": {},
   "outputs": [
    {
     "data": {
      "text/plain": [
       "-505.0680"
      ]
     },
     "execution_count": 31,
     "metadata": {},
     "output_type": "execute_result"
    }
   ],
   "source": [
    "pv(rate = 0.05, nper = 14, fv = 1_000, type = 'END')"
   ]
  },
  {
   "cell_type": "code",
   "execution_count": 32,
   "id": "de6db561-644b-474a-b7f8-5e4c7117a033",
   "metadata": {},
   "outputs": [
    {
     "data": {
      "text/plain": [
       "125"
      ]
     },
     "execution_count": 32,
     "metadata": {},
     "output_type": "execute_result"
    }
   ],
   "source": [
    "a = 5\n",
    "a*= 5\n",
    "a*= 5\n",
    "a"
   ]
  },
  {
   "cell_type": "markdown",
   "id": "004d8eec-26ff-4231-b86d-920174d53736",
   "metadata": {},
   "source": [
    "### Write a function that mimic Excel's `fv` function."
   ]
  },
  {
   "cell_type": "code",
   "execution_count": 33,
   "id": "8e9f29af-7346-4a08-aeed-34ca7e8d2aec",
   "metadata": {},
   "outputs": [],
   "source": [
    "def calc_fv(rate, nper, pmt=None, pv=None, type=None):\n",
    "    if pmt is None:\n",
    "        pmt = 0\n",
    "    if pv is None:\n",
    "        pv = 0\n",
    "    if type is None:\n",
    "        type = 'END'\n",
    "    \n",
    "    fv_pmt = (pmt / rate) * ((1 + rate)**nper - 1)\n",
    "    fv_pv = pv * (1 + rate)**nper\n",
    "    fv = fv_pmt + fv_pv\n",
    "\n",
    "    if type == 'BGN':\n",
    "        fv *= (1 + rate) # same as pv = pv*(1 + rate)\n",
    "    \n",
    "    return -1 * fv"
   ]
  },
  {
   "cell_type": "code",
   "execution_count": 34,
   "id": "f7c767a2-faea-42b9-9820-3655cc0471ff",
   "metadata": {},
   "outputs": [
    {
     "data": {
      "text/plain": [
       "2004.2314"
      ]
     },
     "execution_count": 34,
     "metadata": {},
     "output_type": "execute_result"
    }
   ],
   "source": [
    "calc_fv(rate=0.072, nper=10, pv=-1000)"
   ]
  },
  {
   "cell_type": "code",
   "execution_count": 35,
   "id": "df208e1f-cc9d-4eaf-98a6-2577deaf62bb",
   "metadata": {},
   "outputs": [
    {
     "data": {
      "text/plain": [
       "1000.0000"
      ]
     },
     "execution_count": 35,
     "metadata": {},
     "output_type": "execute_result"
    }
   ],
   "source": [
    "calc_fv(rate=0.072, nper=10, pmt=72, pv=-1000)"
   ]
  },
  {
   "cell_type": "markdown",
   "id": "2709bc30-fed9-43d7-a09f-cc355214f64a",
   "metadata": {},
   "source": [
    "### Replace the negative values in `data` with -1 and positive values with +1."
   ]
  },
  {
   "cell_type": "code",
   "execution_count": 36,
   "id": "e98dc508-db40-43d0-95a7-b5b3a36a34b2",
   "metadata": {},
   "outputs": [
    {
     "data": {
      "text/plain": [
       "array([[ 0.4967, -0.1383,  0.6477,  1.523 ],\n",
       "       [-0.2342, -0.2341,  1.5792,  0.7674],\n",
       "       [-0.4695,  0.5426, -0.4634, -0.4657],\n",
       "       [ 0.242 , -1.9133, -1.7249, -0.5623]])"
      ]
     },
     "execution_count": 36,
     "metadata": {},
     "output_type": "execute_result"
    }
   ],
   "source": [
    "np.random.seed(42)\n",
    "data = np.random.randn(4, 4)\n",
    "data"
   ]
  },
  {
   "cell_type": "code",
   "execution_count": 37,
   "id": "384c6491-4118-47cc-bfbc-dd31bc40bf82",
   "metadata": {},
   "outputs": [
    {
     "data": {
      "text/plain": [
       "array([[ 1., -1.,  1.,  1.],\n",
       "       [-1., -1.,  1.,  1.],\n",
       "       [-1.,  1., -1., -1.],\n",
       "       [ 1., -1., -1., -1.]])"
      ]
     },
     "execution_count": 37,
     "metadata": {},
     "output_type": "execute_result"
    }
   ],
   "source": [
    "data[data < 0] = -1\n",
    "data[data > 0] = +1\n",
    "\n",
    "data"
   ]
  },
  {
   "cell_type": "markdown",
   "id": "748dd81c-8f34-4afb-ad8b-a451c7c47a29",
   "metadata": {},
   "source": [
    "***We have a second option in NumPy!***\n",
    "NumPy's `np.where()` function works the same as Excel's `if()` function."
   ]
  },
  {
   "cell_type": "code",
   "execution_count": 38,
   "id": "9bfd069e-7ab8-4bb2-8c74-27265eb33df7",
   "metadata": {},
   "outputs": [
    {
     "data": {
      "text/plain": [
       "array([[ 1., -1.,  1.,  1.],\n",
       "       [-1., -1.,  1.,  1.],\n",
       "       [-1.,  1., -1., -1.],\n",
       "       [ 1., -1., -1., -1.]])"
      ]
     },
     "execution_count": 38,
     "metadata": {},
     "output_type": "execute_result"
    }
   ],
   "source": [
    "np.random.seed(42)\n",
    "data = np.random.randn(4, 4)\n",
    "\n",
    "np.where( # we can add whitespace inside parentheses ()!\n",
    "    data < 0, # condition to test\n",
    "    -1, # result if true\n",
    "    np.where(data > 0, +1, data) # result if false\n",
    ")"
   ]
  },
  {
   "cell_type": "markdown",
   "id": "be516b9d-a1d6-45c4-9743-f723faed419d",
   "metadata": {},
   "source": [
    "***We also have a third option in NumPy!***\n",
    "NumPy's `np.select()` function lets test multiple conditions!"
   ]
  },
  {
   "cell_type": "code",
   "execution_count": 39,
   "id": "4ec508b7-b242-450b-9b7e-8bf4de3d32e2",
   "metadata": {},
   "outputs": [
    {
     "data": {
      "text/plain": [
       "array([[ 1., -1.,  1.,  1.],\n",
       "       [-1., -1.,  1.,  1.],\n",
       "       [-1.,  1., -1., -1.],\n",
       "       [ 1., -1., -1., -1.]])"
      ]
     },
     "execution_count": 39,
     "metadata": {},
     "output_type": "execute_result"
    }
   ],
   "source": [
    "np.random.seed(42)\n",
    "data = np.random.randn(4, 4)\n",
    "\n",
    "np.select( # we can add whitespace inside parentheses ()!\n",
    "    condlist=[data<0, data>0],\n",
    "    choicelist=[-1, +1],\n",
    "    default=data\n",
    ")"
   ]
  },
  {
   "cell_type": "markdown",
   "id": "3c7d2b0b-8645-4144-b24b-250423448cbc",
   "metadata": {},
   "source": [
    "### Write a function `npmts()` that calculates the number of payments that generate $x\\%$ of the present value of a perpetuity."
   ]
  },
  {
   "cell_type": "markdown",
   "id": "831eec51-9ec4-4d8a-ab90-263717bfcb96",
   "metadata": {},
   "source": [
    "Your `npmts()` should accept arguments `c1`, `r`, and `g` that represent  $C_1$, $r$, and $g$.\n",
    "The present value of a growing perpetuity is $PV = \\frac{C_1}{r - g}$, and the present value of a growing annuity is $PV = \\frac{C_1}{r - g}\\left[ 1 - \\left( \\frac{1 + g}{1 + r} \\right)^t \\right]$."
   ]
  },
  {
   "cell_type": "markdown",
   "id": "c59bfb72-89d1-45e3-95ca-ab3d038e1da0",
   "metadata": {},
   "source": [
    "We can use the growing annuity and perpetuity formulas to show: $x = \\left[ 1 - \\left( \\frac{1 + g}{1 + r} \\right)^t \\right]$. \n",
    "\n",
    "Then: $1 - x = \\left( \\frac{1 + g}{1 + r} \\right)^t$.\n",
    "\n",
    "Finally: $t = \\frac{\\log(1-x)}{\\log\\left(\\frac{1 + g}{1 + r}\\right)}$\n",
    "\n",
    "***We do not need to accept an argument `c1` because $C_1$ cancels out!***"
   ]
  },
  {
   "cell_type": "code",
   "execution_count": 40,
   "id": "3c9a812c-9514-41d9-8c77-120ae0354bb6",
   "metadata": {},
   "outputs": [],
   "source": [
    "def npmts(x, r, g):\n",
    "    return np.log(1-x) / np.log((1 + g) / (1 + r))"
   ]
  },
  {
   "cell_type": "code",
   "execution_count": 41,
   "id": "d0b69424-ae41-4191-871c-a1c7f8b54d39",
   "metadata": {},
   "outputs": [
    {
     "data": {
      "text/plain": [
       "14.9000"
      ]
     },
     "execution_count": 41,
     "metadata": {},
     "output_type": "execute_result"
    }
   ],
   "source": [
    "npmts(0.5, 0.1, 0.05)"
   ]
  },
  {
   "cell_type": "markdown",
   "id": "8e05dc58-ab1c-40bf-baa6-5202a5df5962",
   "metadata": {},
   "source": [
    "### Write a function that calculates the internal rate of return given a NumPy array of cash flows."
   ]
  },
  {
   "cell_type": "markdown",
   "id": "c87157ab-b16a-4a3e-8276-b240302d9aea",
   "metadata": {},
   "source": [
    "Here are some data where the $IRR$ is obvious!"
   ]
  },
  {
   "cell_type": "code",
   "execution_count": 42,
   "id": "d1be7f83-2711-4be6-8602-79efa51b9fc2",
   "metadata": {},
   "outputs": [],
   "source": [
    "c = np.array([-100, 110])\n",
    "r = 0.10"
   ]
  },
  {
   "cell_type": "markdown",
   "id": "e31d5b16-a56b-46b3-b238-e4fdcddaadbc",
   "metadata": {},
   "source": [
    "First, write a function that calculates net present value (NPV) given cash flows in a NumpPy array `c` and a discount rate in a scalar `r`.\n",
    "The `npv()` function below uses NumPy arrays to calculate NPV as:\n",
    "$$NPV = \\sum_{t=0}^T \\frac{c_t}{(1+r)^t}$$"
   ]
  },
  {
   "cell_type": "code",
   "execution_count": 43,
   "id": "ad2bdbe3-dd95-4afb-932f-9b30462a734f",
   "metadata": {},
   "outputs": [],
   "source": [
    "def calc_npv(r, c):\n",
    "    t = np.arange(len(c))\n",
    "    return (c / (1 + r)**t).sum()"
   ]
  },
  {
   "cell_type": "code",
   "execution_count": 44,
   "id": "9629c7b1-f896-4b37-bc41-22a616ff24c8",
   "metadata": {},
   "outputs": [
    {
     "data": {
      "text/plain": [
       "-0.0000"
      ]
     },
     "execution_count": 44,
     "metadata": {},
     "output_type": "execute_result"
    }
   ],
   "source": [
    "calc_npv(r=r, c=c)"
   ]
  },
  {
   "cell_type": "markdown",
   "id": "6adb4e8a-8908-4695-babf-d83fb1eecebd",
   "metadata": {},
   "source": [
    "We can use a `while` loop to guess IRR values until we find an NPV close to zero.\n",
    "We can use the [Newton-Rapshon method](https://en.wikipedia.org/wiki/Newton%27s_method) to make smarter guesses.\n",
    "If we have function $f(x)$ and guess $x_t$, our next guess should be $x_{t+1} = x_t - \\frac{f(x_t)}{f'(x_t)}$.\n",
    "Here our $f(x)$ is $NPV(r)$, and we can approximate $f'(x_t)$ as $\\frac{NPV(r+0.000001) - NPV(r)}{0.000001}$.\n",
    "We will make guess until $|NPV| < 0.000001$."
   ]
  },
  {
   "cell_type": "code",
   "execution_count": 45,
   "id": "df618a65-8b15-4fc8-acb3-0da847269b7f",
   "metadata": {},
   "outputs": [],
   "source": [
    "def calc_irr(c, guess=0):\n",
    "    irr = guess\n",
    "    npv = calc_npv(r=irr, c=c)\n",
    "    while np.abs(npv) > 1e-6:\n",
    "        slope = (calc_npv(r=irr+1e-6, c=c) - npv) / 1e-6 # Delta NPV / Delta r\n",
    "        irr = irr - npv / slope\n",
    "        npv = calc_npv(r=irr, c=c)\n",
    "        # print(f'NPV is {npv}, IRR is {irr}')\n",
    "\n",
    "    return irr"
   ]
  },
  {
   "cell_type": "code",
   "execution_count": 46,
   "id": "96be3877-ea3d-48dd-b5cf-bea9ccbcd578",
   "metadata": {},
   "outputs": [
    {
     "data": {
      "text/plain": [
       "0.1000"
      ]
     },
     "execution_count": 46,
     "metadata": {},
     "output_type": "execute_result"
    }
   ],
   "source": [
    "calc_irr(c=c) # c is the first positional argument, so we can omit \"c=\" "
   ]
  },
  {
   "cell_type": "markdown",
   "id": "1366165a-d591-4179-8467-9d6f538061ad",
   "metadata": {},
   "source": [
    "### Write a function `returns()` that accepts *NumPy arrays* of prices and dividends and returns a *NumPy array* of returns."
   ]
  },
  {
   "cell_type": "code",
   "execution_count": 47,
   "id": "a0cddc6d-6efd-40b5-8747-aba48243558f",
   "metadata": {},
   "outputs": [],
   "source": [
    "prices = np.array([100, 150, 100, 50, 100, 150, 100, 150])\n",
    "dividends = np.array([1, 1, 1, 1, 2, 2, 2, 2])"
   ]
  },
  {
   "cell_type": "markdown",
   "id": "c621da67-4f01-4498-8bcd-4b796d4d1c60",
   "metadata": {},
   "source": [
    "Here is the return for the first period."
   ]
  },
  {
   "cell_type": "code",
   "execution_count": 48,
   "id": "9ea3c003-e3a7-4705-a751-83892021ae25",
   "metadata": {},
   "outputs": [
    {
     "data": {
      "text/plain": [
       "0.5100"
      ]
     },
     "execution_count": 48,
     "metadata": {},
     "output_type": "execute_result"
    }
   ],
   "source": [
    "(prices[1] - prices[0] + dividends[1]) / prices[0]"
   ]
  },
  {
   "cell_type": "markdown",
   "id": "a5b883bd-fae9-44e2-835a-ec1cb8814e12",
   "metadata": {},
   "source": [
    "Here are the capital gains for every period."
   ]
  },
  {
   "cell_type": "code",
   "execution_count": 49,
   "id": "907a1479-23d3-4b67-bf0c-9f938cd7452a",
   "metadata": {},
   "outputs": [
    {
     "data": {
      "text/plain": [
       "array([ 50, -50, -50,  50,  50, -50,  50])"
      ]
     },
     "execution_count": 49,
     "metadata": {},
     "output_type": "execute_result"
    }
   ],
   "source": [
    "prices[1:] - prices[:-1]"
   ]
  },
  {
   "cell_type": "code",
   "execution_count": 50,
   "id": "3dc06c2b-d351-4a53-9bc6-a049ef892b2d",
   "metadata": {},
   "outputs": [
    {
     "data": {
      "text/plain": [
       "array([ 0.51  , -0.3267, -0.49  ,  1.04  ,  0.52  , -0.32  ,  0.52  ])"
      ]
     },
     "execution_count": 50,
     "metadata": {},
     "output_type": "execute_result"
    }
   ],
   "source": [
    "(prices[1:] - prices[:-1] + dividends[1:]) / prices[:-1]"
   ]
  },
  {
   "cell_type": "code",
   "execution_count": 51,
   "id": "dbd9cc61-e5e2-461d-a1a5-04d05e8c875b",
   "metadata": {},
   "outputs": [],
   "source": [
    "def returns(p, d):\n",
    "    return (p[1:] - p[:-1] + d[1:]) / p[:-1]"
   ]
  },
  {
   "cell_type": "code",
   "execution_count": 52,
   "id": "459035cc-f830-4da2-95f1-c38b2e1f624d",
   "metadata": {},
   "outputs": [
    {
     "data": {
      "text/plain": [
       "array([ 0.51  , -0.3267, -0.49  ,  1.04  ,  0.52  , -0.32  ,  0.52  ])"
      ]
     },
     "execution_count": 52,
     "metadata": {},
     "output_type": "execute_result"
    }
   ],
   "source": [
    "returns(p=prices, d=dividends)"
   ]
  },
  {
   "cell_type": "markdown",
   "id": "482efd17-6f3c-40fc-9db2-f10aa8b7c066",
   "metadata": {},
   "source": [
    "### Rewrite the function `returns()` so it returns *NumPy arrays* of returns, capital gains yields, and dividend yields."
   ]
  },
  {
   "cell_type": "code",
   "execution_count": 53,
   "id": "1a497f36-3471-4391-a18b-e6c0d3766c09",
   "metadata": {},
   "outputs": [],
   "source": [
    "def returns_2(p, d):\n",
    "    r = (p[1:] - p[:-1] + d[1:]) / p[:-1]\n",
    "    dp = d[1:] / p[:-1]\n",
    "    cgp = r - dp\n",
    "    return {'r':r, 'dp':dp, 'cgp':cgp}"
   ]
  },
  {
   "cell_type": "code",
   "execution_count": 54,
   "id": "23459fbb-93d1-48b0-a08a-64497d0cae1e",
   "metadata": {},
   "outputs": [
    {
     "data": {
      "text/plain": [
       "{'r': array([ 0.51  , -0.3267, -0.49  ,  1.04  ,  0.52  , -0.32  ,  0.52  ]),\n",
       " 'dp': array([0.01  , 0.0067, 0.01  , 0.04  , 0.02  , 0.0133, 0.02  ]),\n",
       " 'cgp': array([ 0.5   , -0.3333, -0.5   ,  1.    ,  0.5   , -0.3333,  0.5   ])}"
      ]
     },
     "execution_count": 54,
     "metadata": {},
     "output_type": "execute_result"
    }
   ],
   "source": [
    "returns_2(p=prices, d=dividends)"
   ]
  },
  {
   "cell_type": "markdown",
   "id": "125cdf43-830c-4d02-a041-3644f727ac2a",
   "metadata": {},
   "source": [
    "### Rescale and shift numbers so that they cover the range [0, 1]"
   ]
  },
  {
   "cell_type": "markdown",
   "id": "cfab00bd-88b3-4a89-b77b-2f4fa7841452",
   "metadata": {},
   "source": [
    "Input: `np.array([18.5, 17.0, 18.0, 19.0, 18.0])` \\\n",
    "Output: `np.array([0.75, 0.0, 0.5, 1.0, 0.5])`"
   ]
  },
  {
   "cell_type": "code",
   "execution_count": 55,
   "id": "73c96365-d699-4762-b87a-f4f9f68643a1",
   "metadata": {},
   "outputs": [],
   "source": [
    "numbers = np.array([18.5, 17.0, 18.0, 19.0, 18.0])"
   ]
  },
  {
   "cell_type": "code",
   "execution_count": 56,
   "id": "abe3bc74-7ab3-48b7-984f-77abd06e506d",
   "metadata": {},
   "outputs": [
    {
     "data": {
      "text/plain": [
       "array([0.75, 0.  , 0.5 , 1.  , 0.5 ])"
      ]
     },
     "execution_count": 56,
     "metadata": {},
     "output_type": "execute_result"
    }
   ],
   "source": [
    "(numbers - numbers.min()) / (numbers.max() - numbers.min())"
   ]
  },
  {
   "cell_type": "markdown",
   "id": "0a59bac9-2d5a-4db3-980d-adac2e4b847d",
   "metadata": {},
   "source": [
    "### Write functions `var()` and `std()` that calculate variance and standard deviation."
   ]
  },
  {
   "cell_type": "markdown",
   "id": "ae761ad6-2618-4a83-ae12-5bdf3588b8ba",
   "metadata": {},
   "source": [
    "NumPy's `.var()` and `.std()` methods return *population* statistics (i.e., denominators of $n$).\n",
    "The pandas equivalents return *sample* statistics (denominators of $n-1$), which are more appropriate for financial data analysis where we have a sample instead of a population.\n",
    "\n",
    "\n",
    "Both function should have an argument `sample` that is `True` by default so both functions return sample statistics by default.\n",
    "\n",
    "Use `numbers` to compare your functions with NumPy's `.var()` and `.std()` methods."
   ]
  },
  {
   "cell_type": "markdown",
   "id": "905da005-1a32-4ab5-b085-00f2e29a7a62",
   "metadata": {},
   "source": [
    "The population variance is \"the average squared distance from the average.\""
   ]
  },
  {
   "cell_type": "code",
   "execution_count": 57,
   "id": "0192c800-dcaf-4362-b889-80e52e084a08",
   "metadata": {},
   "outputs": [
    {
     "data": {
      "text/plain": [
       "0.4400"
      ]
     },
     "execution_count": 57,
     "metadata": {},
     "output_type": "execute_result"
    }
   ],
   "source": [
    "((numbers - numbers.mean())**2).mean()"
   ]
  },
  {
   "cell_type": "code",
   "execution_count": 58,
   "id": "5bde62f3-3758-4d88-aeca-8edc41e407dc",
   "metadata": {},
   "outputs": [
    {
     "data": {
      "text/plain": [
       "0.4400"
      ]
     },
     "execution_count": 58,
     "metadata": {},
     "output_type": "execute_result"
    }
   ],
   "source": [
    "numbers.var()"
   ]
  },
  {
   "cell_type": "code",
   "execution_count": 59,
   "id": "8413211d-fb11-4f0b-8886-0b24be3c5862",
   "metadata": {},
   "outputs": [],
   "source": [
    "def var(x, sample=True):\n",
    "    mu_x = x.mean()\n",
    "    return ((x - mu_x)**2).sum() / (len(x) - sample)"
   ]
  },
  {
   "cell_type": "code",
   "execution_count": 60,
   "id": "9f9df5ab-d15a-4d2f-abcd-e1b55716782f",
   "metadata": {},
   "outputs": [
    {
     "data": {
      "text/plain": [
       "0.5500"
      ]
     },
     "execution_count": 60,
     "metadata": {},
     "output_type": "execute_result"
    }
   ],
   "source": [
    "var(numbers)"
   ]
  },
  {
   "cell_type": "code",
   "execution_count": 61,
   "id": "f9654983-da4c-4245-b2f4-93ce9ea8da77",
   "metadata": {},
   "outputs": [
    {
     "data": {
      "text/plain": [
       "True"
      ]
     },
     "execution_count": 61,
     "metadata": {},
     "output_type": "execute_result"
    }
   ],
   "source": [
    "var(numbers) == numbers.var(ddof=1)"
   ]
  },
  {
   "cell_type": "code",
   "execution_count": 62,
   "id": "40ced1db-7f58-4af1-8e66-8dfdaf5ae2f4",
   "metadata": {},
   "outputs": [
    {
     "data": {
      "text/plain": [
       "0.4400"
      ]
     },
     "execution_count": 62,
     "metadata": {},
     "output_type": "execute_result"
    }
   ],
   "source": [
    "var(numbers, sample=False)"
   ]
  },
  {
   "cell_type": "code",
   "execution_count": 63,
   "id": "cfa739e4-93a4-405a-b4c8-169854acf611",
   "metadata": {},
   "outputs": [
    {
     "data": {
      "text/plain": [
       "True"
      ]
     },
     "execution_count": 63,
     "metadata": {},
     "output_type": "execute_result"
    }
   ],
   "source": [
    "var(numbers, sample=False) == numbers.var()"
   ]
  },
  {
   "cell_type": "code",
   "execution_count": 64,
   "id": "27b3dd83-da25-4ecb-9c40-d6131bdc4c45",
   "metadata": {},
   "outputs": [],
   "source": [
    "def std(x, sample=True):\n",
    "    return np.sqrt(var(x=x, sample=sample))"
   ]
  },
  {
   "cell_type": "code",
   "execution_count": 65,
   "id": "90fb9e96-bcef-4bf7-8540-3e282d6fc0bb",
   "metadata": {},
   "outputs": [
    {
     "data": {
      "text/plain": [
       "0.6633"
      ]
     },
     "execution_count": 65,
     "metadata": {},
     "output_type": "execute_result"
    }
   ],
   "source": [
    "std(numbers, sample=False)"
   ]
  },
  {
   "cell_type": "code",
   "execution_count": 66,
   "id": "c93a0f6f-3328-45d4-9f36-41271a3ad860",
   "metadata": {},
   "outputs": [
    {
     "data": {
      "text/plain": [
       "True"
      ]
     },
     "execution_count": 66,
     "metadata": {},
     "output_type": "execute_result"
    }
   ],
   "source": [
    "std(numbers, sample=False) == numbers.std()"
   ]
  },
  {
   "cell_type": "code",
   "execution_count": 67,
   "id": "5befa1af-494c-4f49-82af-a54844edc2fa",
   "metadata": {},
   "outputs": [
    {
     "data": {
      "text/plain": [
       "0.7416"
      ]
     },
     "execution_count": 67,
     "metadata": {},
     "output_type": "execute_result"
    }
   ],
   "source": [
    "std(numbers)"
   ]
  },
  {
   "cell_type": "code",
   "execution_count": 68,
   "id": "3e69a295-f93d-4dbd-898b-a19b89d9cc01",
   "metadata": {},
   "outputs": [
    {
     "data": {
      "text/plain": [
       "True"
      ]
     },
     "execution_count": 68,
     "metadata": {},
     "output_type": "execute_result"
    }
   ],
   "source": [
    "std(numbers) == numbers.std(ddof=1)"
   ]
  },
  {
   "cell_type": "code",
   "execution_count": null,
   "id": "aee56115-a25b-41db-93fa-a2b7e947f94b",
   "metadata": {},
   "outputs": [],
   "source": []
  }
 ],
 "metadata": {
  "author": "Richard Herron",
  "kernelspec": {
   "display_name": "Python 3 (ipykernel)",
   "language": "python",
   "name": "python3"
  },
  "language_info": {
   "codemirror_mode": {
    "name": "ipython",
    "version": 3
   },
   "file_extension": ".py",
   "mimetype": "text/x-python",
   "name": "python",
   "nbconvert_exporter": "python",
   "pygments_lexer": "ipython3",
   "version": "3.12.1"
  },
  "title": "McKinney Chapter 4 - Practice"
 },
 "nbformat": 4,
 "nbformat_minor": 5
}
