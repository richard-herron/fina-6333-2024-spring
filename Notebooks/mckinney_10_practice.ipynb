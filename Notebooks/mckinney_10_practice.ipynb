{
 "cells": [
  {
   "cell_type": "markdown",
   "id": "8178742d-2457-4e82-b936-265ef2bde302",
   "metadata": {},
   "source": [
    "# McKinney Chapter 10 - Practice (Blank)"
   ]
  },
  {
   "cell_type": "markdown",
   "id": "2abe814c-82cc-4cfd-b77a-7b4d48d7bddd",
   "metadata": {},
   "source": [
    "## Announcements"
   ]
  },
  {
   "cell_type": "markdown",
   "id": "1dd7f11d-884e-45a0-a263-20ae9cf74b17",
   "metadata": {},
   "source": [
    "## Practice"
   ]
  },
  {
   "cell_type": "code",
   "execution_count": 3,
   "id": "77ed6939-d509-439b-8060-1f67f8c7ef8b",
   "metadata": {
    "deletable": true,
    "editable": true
   },
   "outputs": [],
   "source": [
    "import matplotlib.pyplot as plt\n",
    "import numpy as np\n",
    "import pandas as pd"
   ]
  },
  {
   "cell_type": "code",
   "execution_count": 4,
   "id": "064e8cc4-b268-48bf-9526-b1f2b850d8b8",
   "metadata": {},
   "outputs": [],
   "source": [
    "%config InlineBackend.figure_format = 'retina'\n",
    "%precision 4\n",
    "pd.options.display.float_format = '{:.4f}'.format"
   ]
  },
  {
   "cell_type": "code",
   "execution_count": 5,
   "id": "71005cb1-79ed-48cb-b2ac-e422d8b52482",
   "metadata": {},
   "outputs": [],
   "source": [
    "import yfinance as yf\n",
    "import pandas_datareader as pdr\n",
    "import requests_cache\n",
    "session = requests_cache.CachedSession()"
   ]
  },
  {
   "cell_type": "markdown",
   "id": "6092dec9-76d7-4f2b-af8d-db0d2859b6b4",
   "metadata": {},
   "source": [
    "### Replicate the following `.pivot_table()` output with `.groupby()`"
   ]
  },
  {
   "cell_type": "code",
   "execution_count": 6,
   "id": "d6605f4c-9478-4aef-a6bf-36700e4f5040",
   "metadata": {},
   "outputs": [],
   "source": [
    "ind = (\n",
    "    yf.download(\n",
    "        tickers='^GSPC ^DJI ^IXIC ^FTSE ^N225 ^HSI',\n",
    "        progress=False\n",
    "    )\n",
    "    .rename_axis(columns=['Variable', 'Index'])\n",
    "    .stack()\n",
    ")"
   ]
  },
  {
   "cell_type": "code",
   "execution_count": 7,
   "id": "b5fd01e0-db4e-4cca-8480-5f7627790370",
   "metadata": {},
   "outputs": [
    {
     "data": {
      "text/html": [
       "<div>\n",
       "<style scoped>\n",
       "    .dataframe tbody tr th:only-of-type {\n",
       "        vertical-align: middle;\n",
       "    }\n",
       "\n",
       "    .dataframe tbody tr th {\n",
       "        vertical-align: top;\n",
       "    }\n",
       "\n",
       "    .dataframe thead tr th {\n",
       "        text-align: left;\n",
       "    }\n",
       "\n",
       "    .dataframe thead tr:last-of-type th {\n",
       "        text-align: right;\n",
       "    }\n",
       "</style>\n",
       "<table border=\"1\" class=\"dataframe\">\n",
       "  <thead>\n",
       "    <tr>\n",
       "      <th></th>\n",
       "      <th colspan=\"6\" halign=\"left\">min</th>\n",
       "      <th colspan=\"6\" halign=\"left\">max</th>\n",
       "    </tr>\n",
       "    <tr>\n",
       "      <th>Index</th>\n",
       "      <th>^DJI</th>\n",
       "      <th>^FTSE</th>\n",
       "      <th>^GSPC</th>\n",
       "      <th>^HSI</th>\n",
       "      <th>^IXIC</th>\n",
       "      <th>^N225</th>\n",
       "      <th>^DJI</th>\n",
       "      <th>^FTSE</th>\n",
       "      <th>^GSPC</th>\n",
       "      <th>^HSI</th>\n",
       "      <th>^IXIC</th>\n",
       "      <th>^N225</th>\n",
       "    </tr>\n",
       "    <tr>\n",
       "      <th>Date</th>\n",
       "      <th></th>\n",
       "      <th></th>\n",
       "      <th></th>\n",
       "      <th></th>\n",
       "      <th></th>\n",
       "      <th></th>\n",
       "      <th></th>\n",
       "      <th></th>\n",
       "      <th></th>\n",
       "      <th></th>\n",
       "      <th></th>\n",
       "      <th></th>\n",
       "    </tr>\n",
       "  </thead>\n",
       "  <tbody>\n",
       "    <tr>\n",
       "      <th>2015-12-31 00:00:00+00:00</th>\n",
       "      <td>15666.4404</td>\n",
       "      <td>5874.1001</td>\n",
       "      <td>1867.6100</td>\n",
       "      <td>20556.5996</td>\n",
       "      <td>4506.4902</td>\n",
       "      <td>16795.9609</td>\n",
       "      <td>18312.3906</td>\n",
       "      <td>7104.0000</td>\n",
       "      <td>2130.8201</td>\n",
       "      <td>28442.7500</td>\n",
       "      <td>5218.8599</td>\n",
       "      <td>20868.0293</td>\n",
       "    </tr>\n",
       "    <tr>\n",
       "      <th>2016-12-31 00:00:00+00:00</th>\n",
       "      <td>15660.1797</td>\n",
       "      <td>5537.0000</td>\n",
       "      <td>1829.0800</td>\n",
       "      <td>18319.5801</td>\n",
       "      <td>4266.8398</td>\n",
       "      <td>14952.0195</td>\n",
       "      <td>19974.6191</td>\n",
       "      <td>7142.7998</td>\n",
       "      <td>2271.7200</td>\n",
       "      <td>24099.6992</td>\n",
       "      <td>5487.4399</td>\n",
       "      <td>19494.5293</td>\n",
       "    </tr>\n",
       "    <tr>\n",
       "      <th>2017-12-31 00:00:00+00:00</th>\n",
       "      <td>19732.4004</td>\n",
       "      <td>7099.2002</td>\n",
       "      <td>2257.8301</td>\n",
       "      <td>22134.4707</td>\n",
       "      <td>5429.0801</td>\n",
       "      <td>18335.6309</td>\n",
       "      <td>24837.5098</td>\n",
       "      <td>7687.7998</td>\n",
       "      <td>2690.1599</td>\n",
       "      <td>30003.4902</td>\n",
       "      <td>6994.7598</td>\n",
       "      <td>22939.1797</td>\n",
       "    </tr>\n",
       "    <tr>\n",
       "      <th>2018-12-31 00:00:00+00:00</th>\n",
       "      <td>21792.1992</td>\n",
       "      <td>6584.7002</td>\n",
       "      <td>2351.1001</td>\n",
       "      <td>24585.5293</td>\n",
       "      <td>6192.9199</td>\n",
       "      <td>19155.7402</td>\n",
       "      <td>26828.3906</td>\n",
       "      <td>7877.5000</td>\n",
       "      <td>2930.7500</td>\n",
       "      <td>33154.1211</td>\n",
       "      <td>8109.6899</td>\n",
       "      <td>24270.6191</td>\n",
       "    </tr>\n",
       "    <tr>\n",
       "      <th>2019-12-31 00:00:00+00:00</th>\n",
       "      <td>22686.2207</td>\n",
       "      <td>6692.7002</td>\n",
       "      <td>2447.8899</td>\n",
       "      <td>25064.3594</td>\n",
       "      <td>6463.5000</td>\n",
       "      <td>19561.9609</td>\n",
       "      <td>28645.2598</td>\n",
       "      <td>7686.6001</td>\n",
       "      <td>3240.0200</td>\n",
       "      <td>30157.4902</td>\n",
       "      <td>9022.3896</td>\n",
       "      <td>24066.1191</td>\n",
       "    </tr>\n",
       "    <tr>\n",
       "      <th>2020-12-31 00:00:00+00:00</th>\n",
       "      <td>18591.9297</td>\n",
       "      <td>4993.8999</td>\n",
       "      <td>2237.3999</td>\n",
       "      <td>21696.1309</td>\n",
       "      <td>6860.6699</td>\n",
       "      <td>16552.8301</td>\n",
       "      <td>30606.4805</td>\n",
       "      <td>7674.6001</td>\n",
       "      <td>3756.0701</td>\n",
       "      <td>29056.4199</td>\n",
       "      <td>12899.4199</td>\n",
       "      <td>27568.1504</td>\n",
       "    </tr>\n",
       "    <tr>\n",
       "      <th>2021-12-31 00:00:00+00:00</th>\n",
       "      <td>29982.6191</td>\n",
       "      <td>6407.5000</td>\n",
       "      <td>3700.6499</td>\n",
       "      <td>22744.8594</td>\n",
       "      <td>12609.1602</td>\n",
       "      <td>27013.2500</td>\n",
       "      <td>36488.6289</td>\n",
       "      <td>7420.7002</td>\n",
       "      <td>4793.0601</td>\n",
       "      <td>31084.9395</td>\n",
       "      <td>16057.4404</td>\n",
       "      <td>30670.0996</td>\n",
       "    </tr>\n",
       "    <tr>\n",
       "      <th>2022-12-31 00:00:00+00:00</th>\n",
       "      <td>28725.5098</td>\n",
       "      <td>6826.2002</td>\n",
       "      <td>3577.0300</td>\n",
       "      <td>14687.0195</td>\n",
       "      <td>10213.2900</td>\n",
       "      <td>24717.5293</td>\n",
       "      <td>36799.6484</td>\n",
       "      <td>7672.3999</td>\n",
       "      <td>4796.5601</td>\n",
       "      <td>24965.5508</td>\n",
       "      <td>15832.7998</td>\n",
       "      <td>29332.1602</td>\n",
       "    </tr>\n",
       "    <tr>\n",
       "      <th>2023-12-31 00:00:00+00:00</th>\n",
       "      <td>32930.0781</td>\n",
       "      <td>7554.1001</td>\n",
       "      <td>3808.1001</td>\n",
       "      <td>20145.2891</td>\n",
       "      <td>10305.2402</td>\n",
       "      <td>25716.8594</td>\n",
       "      <td>34302.6094</td>\n",
       "      <td>8012.5000</td>\n",
       "      <td>4179.7598</td>\n",
       "      <td>22688.9004</td>\n",
       "      <td>12200.8203</td>\n",
       "      <td>27696.4395</td>\n",
       "    </tr>\n",
       "  </tbody>\n",
       "</table>\n",
       "</div>"
      ],
      "text/plain": [
       "                                 min                                 \\\n",
       "Index                           ^DJI     ^FTSE     ^GSPC       ^HSI   \n",
       "Date                                                                  \n",
       "2015-12-31 00:00:00+00:00 15666.4404 5874.1001 1867.6100 20556.5996   \n",
       "2016-12-31 00:00:00+00:00 15660.1797 5537.0000 1829.0800 18319.5801   \n",
       "2017-12-31 00:00:00+00:00 19732.4004 7099.2002 2257.8301 22134.4707   \n",
       "2018-12-31 00:00:00+00:00 21792.1992 6584.7002 2351.1001 24585.5293   \n",
       "2019-12-31 00:00:00+00:00 22686.2207 6692.7002 2447.8899 25064.3594   \n",
       "2020-12-31 00:00:00+00:00 18591.9297 4993.8999 2237.3999 21696.1309   \n",
       "2021-12-31 00:00:00+00:00 29982.6191 6407.5000 3700.6499 22744.8594   \n",
       "2022-12-31 00:00:00+00:00 28725.5098 6826.2002 3577.0300 14687.0195   \n",
       "2023-12-31 00:00:00+00:00 32930.0781 7554.1001 3808.1001 20145.2891   \n",
       "\n",
       "                                                       max            \\\n",
       "Index                          ^IXIC      ^N225       ^DJI     ^FTSE   \n",
       "Date                                                                   \n",
       "2015-12-31 00:00:00+00:00  4506.4902 16795.9609 18312.3906 7104.0000   \n",
       "2016-12-31 00:00:00+00:00  4266.8398 14952.0195 19974.6191 7142.7998   \n",
       "2017-12-31 00:00:00+00:00  5429.0801 18335.6309 24837.5098 7687.7998   \n",
       "2018-12-31 00:00:00+00:00  6192.9199 19155.7402 26828.3906 7877.5000   \n",
       "2019-12-31 00:00:00+00:00  6463.5000 19561.9609 28645.2598 7686.6001   \n",
       "2020-12-31 00:00:00+00:00  6860.6699 16552.8301 30606.4805 7674.6001   \n",
       "2021-12-31 00:00:00+00:00 12609.1602 27013.2500 36488.6289 7420.7002   \n",
       "2022-12-31 00:00:00+00:00 10213.2900 24717.5293 36799.6484 7672.3999   \n",
       "2023-12-31 00:00:00+00:00 10305.2402 25716.8594 34302.6094 8012.5000   \n",
       "\n",
       "                                                                      \n",
       "Index                         ^GSPC       ^HSI      ^IXIC      ^N225  \n",
       "Date                                                                  \n",
       "2015-12-31 00:00:00+00:00 2130.8201 28442.7500  5218.8599 20868.0293  \n",
       "2016-12-31 00:00:00+00:00 2271.7200 24099.6992  5487.4399 19494.5293  \n",
       "2017-12-31 00:00:00+00:00 2690.1599 30003.4902  6994.7598 22939.1797  \n",
       "2018-12-31 00:00:00+00:00 2930.7500 33154.1211  8109.6899 24270.6191  \n",
       "2019-12-31 00:00:00+00:00 3240.0200 30157.4902  9022.3896 24066.1191  \n",
       "2020-12-31 00:00:00+00:00 3756.0701 29056.4199 12899.4199 27568.1504  \n",
       "2021-12-31 00:00:00+00:00 4793.0601 31084.9395 16057.4404 30670.0996  \n",
       "2022-12-31 00:00:00+00:00 4796.5601 24965.5508 15832.7998 29332.1602  \n",
       "2023-12-31 00:00:00+00:00 4179.7598 22688.9004 12200.8203 27696.4395  "
      ]
     },
     "execution_count": 7,
     "metadata": {},
     "output_type": "execute_result"
    }
   ],
   "source": [
    "(\n",
    "    ind\n",
    "    .loc['2015':]\n",
    "    .reset_index()\n",
    "    .pivot_table(\n",
    "        values='Close',\n",
    "        index=pd.Grouper(key='Date', freq='A'),\n",
    "        columns='Index',\n",
    "        aggfunc=['min', 'max']\n",
    "    )\n",
    ")"
   ]
  },
  {
   "cell_type": "markdown",
   "id": "dbc813ae-f054-42ef-8af9-52399356e544",
   "metadata": {},
   "source": [
    "### Calulate the mean and standard deviation of returns by ticker for the MATANA (MSFT, AAPL, TSLA, AMZN, NVDA, and GOOG) stocks"
   ]
  },
  {
   "cell_type": "markdown",
   "id": "bee430a8-9f9f-4993-abc5-42c6e025f037",
   "metadata": {},
   "source": [
    "Consider only dates with complete returns data.\n",
    "Try this calculation with wide and long data frames, and confirm your results are the same."
   ]
  },
  {
   "cell_type": "markdown",
   "id": "6a98e0ba-03a9-4ecc-9adf-6aefb5c3a55d",
   "metadata": {},
   "source": [
    "### Calculate the mean and standard deviation of returns and the maximum of closing prices by ticker for the MATANA stocks"
   ]
  },
  {
   "cell_type": "markdown",
   "id": "5abfa9fa-1735-40f4-a7fd-151a776dbf00",
   "metadata": {},
   "source": [
    "Again, consider only dates with complete returns data.\n",
    "Try this calculation with wide and long data frames, and confirm your results are the same."
   ]
  },
  {
   "cell_type": "markdown",
   "id": "6038bd49-9fea-415d-8ec0-ece18a9a152e",
   "metadata": {},
   "source": [
    "### Calculate monthly means and volatilities for SPY and GOOG returns"
   ]
  },
  {
   "cell_type": "markdown",
   "id": "b1ba36ef-e562-4ea6-9b26-ee9544d51164",
   "metadata": {},
   "source": [
    "### Plot the monthly means and volatilities from the previous exercise"
   ]
  },
  {
   "cell_type": "markdown",
   "id": "6aad3e07-2e0c-4336-95bd-ea91074fa962",
   "metadata": {},
   "source": [
    "### Assign the Dow Jones stocks to five portfolios based on their monthly volatility"
   ]
  },
  {
   "cell_type": "markdown",
   "id": "52f26592-5736-471f-9059-d3559d867d60",
   "metadata": {},
   "source": [
    "First, we need to download Dow Jones stock data and calculate daily returns.\n",
    "Use data from 2019 through today."
   ]
  },
  {
   "cell_type": "markdown",
   "id": "b93412fb-2c26-4306-a40b-3d2eb1717390",
   "metadata": {},
   "source": [
    "### Plot the time-series volatilities of these five portfolios"
   ]
  },
  {
   "cell_type": "markdown",
   "id": "3d45fa63-1374-4074-b8c4-cd7f25b9a59e",
   "metadata": {},
   "source": [
    "How do these portfolio volatilies compare to (1) each other and (2) the mean volatility of their constituent stocks?"
   ]
  },
  {
   "cell_type": "markdown",
   "id": "71eada9a-058e-4cf1-88b4-7e008d261a89",
   "metadata": {},
   "source": [
    "### Calculate the *mean* monthly correlation between the Dow Jones stocks"
   ]
  },
  {
   "cell_type": "markdown",
   "id": "cd304c1d-3865-4c34-ae5c-31d0dd078a71",
   "metadata": {},
   "source": [
    "Drop duplicate correlations and self correlations (i.e., correlation between AAPL and AAPL), which are 1, by definition."
   ]
  },
  {
   "cell_type": "markdown",
   "id": "1d5dbefb-36eb-4ee1-a098-6bad54e2989e",
   "metadata": {},
   "source": [
    "### Is market volatility higher during wars?"
   ]
  },
  {
   "cell_type": "markdown",
   "id": "bb9359a2-490a-4a4a-a1a0-4ace7a884f95",
   "metadata": {},
   "source": [
    "Here is some guidance:\n",
    "\n",
    "1. Download the daily factor data from Ken French's website\n",
    "1. Calculate daily market returns by summing the market risk premium and risk-free rates (`Mkt-RF` and `RF`, respectively)\n",
    "1. Calculate the volatility (standard deviation) of daily returns *every month* by combining `pd.Grouper()` and `.groupby()`)\n",
    "1. Multiply by $\\sqrt{252}$ to annualize these volatilities of daily returns\n",
    "1. Plot these annualized volatilities\n",
    "\n",
    "Is market volatility higher during wars?\n",
    "Consider the following dates:\n",
    "\n",
    "1. WWII: December 1941 to September 1945\n",
    "1. Korean War: 1950 to 1953\n",
    "1. Viet Nam War: 1959 to 1975\n",
    "1. Gulf War: 1990 to 1991\n",
    "1. War in Afghanistan: 2001 to 2021"
   ]
  }
 ],
 "metadata": {
  "author": "Richard Herron",
  "kernelspec": {
   "display_name": "Python 3 (ipykernel)",
   "language": "python",
   "name": "python3"
  },
  "language_info": {
   "codemirror_mode": {
    "name": "ipython",
    "version": 3
   },
   "file_extension": ".py",
   "mimetype": "text/x-python",
   "name": "python",
   "nbconvert_exporter": "python",
   "pygments_lexer": "ipython3",
   "version": "3.9.13"
  },
  "title": "McKinney Chapter 10 - Practice"
 },
 "nbformat": 4,
 "nbformat_minor": 5
}
