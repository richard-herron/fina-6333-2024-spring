{
 "cells": [
  {
   "cell_type": "markdown",
   "id": "c1e33842-3bd0-4623-9296-60a1ad2fe57b",
   "metadata": {},
   "source": [
    "# Herron Topic 1 - Practice for Section 05"
   ]
  },
  {
   "cell_type": "markdown",
   "id": "de3d5645-4c87-472f-ba64-414ed2aad525",
   "metadata": {},
   "source": [
    "## Announcements"
   ]
  },
  {
   "cell_type": "markdown",
   "id": "c6440748-db7d-428c-a248-6b0e5e8dc506",
   "metadata": {},
   "source": [
    "1. DataCamp\n",
    "   1. *Data Manipulation with pandas* due by Friday, 2/9, at 11:59 PM\n",
    "   2. *Joining Data with pandas* due by Friday, 2/16, at 11:59 PM\n",
    "   3. *Earn 10,000 XP* due by Friday, 3/15, at 11:59 PM\n",
    "2. I posted Project 1 to Canvas\n",
    "   1. Slides and notebook due by Friday, 2/23, at 11:59 PM\n",
    "   2. Keep joining teams and let me know if you need help"
   ]
  },
  {
   "cell_type": "markdown",
   "id": "8b6378d9-2a37-4764-9340-ec8298e06786",
   "metadata": {},
   "source": [
    "## 10-Minute Recap"
   ]
  },
  {
   "cell_type": "code",
   "execution_count": 1,
   "id": "525cab2b-7c0c-43f3-a64a-f3784b5608ab",
   "metadata": {
    "editable": true
   },
   "outputs": [],
   "source": [
    "import matplotlib.pyplot as plt\n",
    "import numpy as np\n",
    "import pandas as pd\n",
    "import pandas_datareader as pdr\n",
    "import yfinance as yf"
   ]
  },
  {
   "cell_type": "code",
   "execution_count": 2,
   "id": "3fab82cf-ea1a-4e1c-84a6-891b882a534e",
   "metadata": {},
   "outputs": [],
   "source": [
    "%precision 4\n",
    "pd.options.display.float_format = '{:.4f}'.format\n",
    "%config InlineBackend.figure_format = 'retina'"
   ]
  },
  {
   "cell_type": "markdown",
   "id": "25ff6102-6956-46d3-8df2-a1fd138598d7",
   "metadata": {},
   "source": [
    "First, we will use two packages to download data from the Web:\n",
    "\n",
    "1. `yfinance` for Yahoo! Finance\n",
    "2. `pandas-datareader` for Ken French (and FRED and many others)"
   ]
  },
  {
   "cell_type": "markdown",
   "id": "33ccb291-149f-418f-a5ab-ffa624845290",
   "metadata": {},
   "source": [
    "Second, there are \"simple returns\" and \"log returns\"\n",
    "\n",
    "1. Simple returns are the returns that investors receive that we learned in FINA 6331 and FINA 6333: $r_t = \\frac{p_t + d_t - p_{t-1}}{p_{t-1}}$\n",
    "3. Log returns are the log of one plus simple returns. Why do we use them?\n",
    "   1. ***Log returns are additive***, while simple returns are multiplicative. This additive property makes math really easy with log returns: $\\log(\\prod_{t=0}^T (1 + r_t)) = \\sum_{t=0}^T \\log(1+r_t)$, so $r_{0,T} = \\prod_{t=0}^T (1 + r_t) - 1 = e^{\\sum_{t=0}^T \\log(1+r_t)} - 1$\n",
    "   2. ***Log returns are almost normally distributed***\n",
    "  \n",
    "***We will almost always use simple returns.***\n",
    "The exeception is time-consuming calculations, which we will often do in log returns to save us time."
   ]
  },
  {
   "cell_type": "markdown",
   "id": "7be918ac-053a-496a-b52d-7b7e3f1a7b8f",
   "metadata": {},
   "source": [
    "Third, we can calculate portfolio returns a few ways!\n",
    "\n",
    "1. `returns.mean(axis=1)` is *equally-weighted* portfolio returns, rebalanced at the same frequency as the returns (i.e., rebalanced every return period)\n",
    "2. `returns.dot(weights)` lets us use any weights in the `weights` array, rebalanced at the same frequency as the returns"
   ]
  },
  {
   "cell_type": "markdown",
   "id": "d5ce90de-a8b3-4430-8cfc-ed88fc4dfad9",
   "metadata": {},
   "source": [
    "## Practice"
   ]
  },
  {
   "cell_type": "markdown",
   "id": "2d6423e5-4c98-4fe2-bdae-26d475d26383",
   "metadata": {},
   "source": [
    "### Download all available daily price data for tickers TSLA, F, AAPL, AMZN, and META to data frame `prices`"
   ]
  },
  {
   "cell_type": "code",
   "execution_count": 3,
   "id": "b0210645-5b59-48d6-aed0-16d36bf44890",
   "metadata": {},
   "outputs": [
    {
     "name": "stderr",
     "output_type": "stream",
     "text": [
      "[*********************100%%**********************]  5 of 5 completed\n"
     ]
    }
   ],
   "source": [
    "tickers = 'TSLA F AAPL AMZN META'\n",
    "prices = yf.download(tickers=tickers)"
   ]
  },
  {
   "cell_type": "code",
   "execution_count": 4,
   "id": "2dfccb50-0b75-41a2-a8c2-294706f521db",
   "metadata": {},
   "outputs": [
    {
     "data": {
      "text/html": [
       "<div>\n",
       "<style scoped>\n",
       "    .dataframe tbody tr th:only-of-type {\n",
       "        vertical-align: middle;\n",
       "    }\n",
       "\n",
       "    .dataframe tbody tr th {\n",
       "        vertical-align: top;\n",
       "    }\n",
       "\n",
       "    .dataframe thead tr th {\n",
       "        text-align: left;\n",
       "    }\n",
       "\n",
       "    .dataframe thead tr:last-of-type th {\n",
       "        text-align: right;\n",
       "    }\n",
       "</style>\n",
       "<table border=\"1\" class=\"dataframe\">\n",
       "  <thead>\n",
       "    <tr>\n",
       "      <th></th>\n",
       "      <th colspan=\"5\" halign=\"left\">Adj Close</th>\n",
       "      <th colspan=\"5\" halign=\"left\">Close</th>\n",
       "      <th>...</th>\n",
       "      <th colspan=\"5\" halign=\"left\">Open</th>\n",
       "      <th colspan=\"5\" halign=\"left\">Volume</th>\n",
       "    </tr>\n",
       "    <tr>\n",
       "      <th></th>\n",
       "      <th>AAPL</th>\n",
       "      <th>AMZN</th>\n",
       "      <th>F</th>\n",
       "      <th>META</th>\n",
       "      <th>TSLA</th>\n",
       "      <th>AAPL</th>\n",
       "      <th>AMZN</th>\n",
       "      <th>F</th>\n",
       "      <th>META</th>\n",
       "      <th>TSLA</th>\n",
       "      <th>...</th>\n",
       "      <th>AAPL</th>\n",
       "      <th>AMZN</th>\n",
       "      <th>F</th>\n",
       "      <th>META</th>\n",
       "      <th>TSLA</th>\n",
       "      <th>AAPL</th>\n",
       "      <th>AMZN</th>\n",
       "      <th>F</th>\n",
       "      <th>META</th>\n",
       "      <th>TSLA</th>\n",
       "    </tr>\n",
       "    <tr>\n",
       "      <th>Date</th>\n",
       "      <th></th>\n",
       "      <th></th>\n",
       "      <th></th>\n",
       "      <th></th>\n",
       "      <th></th>\n",
       "      <th></th>\n",
       "      <th></th>\n",
       "      <th></th>\n",
       "      <th></th>\n",
       "      <th></th>\n",
       "      <th></th>\n",
       "      <th></th>\n",
       "      <th></th>\n",
       "      <th></th>\n",
       "      <th></th>\n",
       "      <th></th>\n",
       "      <th></th>\n",
       "      <th></th>\n",
       "      <th></th>\n",
       "      <th></th>\n",
       "      <th></th>\n",
       "    </tr>\n",
       "  </thead>\n",
       "  <tbody>\n",
       "    <tr>\n",
       "      <th>1972-06-01</th>\n",
       "      <td>NaN</td>\n",
       "      <td>NaN</td>\n",
       "      <td>0.2419</td>\n",
       "      <td>NaN</td>\n",
       "      <td>NaN</td>\n",
       "      <td>NaN</td>\n",
       "      <td>NaN</td>\n",
       "      <td>2.1532</td>\n",
       "      <td>NaN</td>\n",
       "      <td>NaN</td>\n",
       "      <td>...</td>\n",
       "      <td>NaN</td>\n",
       "      <td>NaN</td>\n",
       "      <td>0.0000</td>\n",
       "      <td>NaN</td>\n",
       "      <td>NaN</td>\n",
       "      <td>NaN</td>\n",
       "      <td>NaN</td>\n",
       "      <td>1091238</td>\n",
       "      <td>NaN</td>\n",
       "      <td>NaN</td>\n",
       "    </tr>\n",
       "    <tr>\n",
       "      <th>1972-06-02</th>\n",
       "      <td>NaN</td>\n",
       "      <td>NaN</td>\n",
       "      <td>0.2414</td>\n",
       "      <td>NaN</td>\n",
       "      <td>NaN</td>\n",
       "      <td>NaN</td>\n",
       "      <td>NaN</td>\n",
       "      <td>2.1492</td>\n",
       "      <td>NaN</td>\n",
       "      <td>NaN</td>\n",
       "      <td>...</td>\n",
       "      <td>NaN</td>\n",
       "      <td>NaN</td>\n",
       "      <td>2.1532</td>\n",
       "      <td>NaN</td>\n",
       "      <td>NaN</td>\n",
       "      <td>NaN</td>\n",
       "      <td>NaN</td>\n",
       "      <td>1174468</td>\n",
       "      <td>NaN</td>\n",
       "      <td>NaN</td>\n",
       "    </tr>\n",
       "    <tr>\n",
       "      <th>1972-06-05</th>\n",
       "      <td>NaN</td>\n",
       "      <td>NaN</td>\n",
       "      <td>0.2414</td>\n",
       "      <td>NaN</td>\n",
       "      <td>NaN</td>\n",
       "      <td>NaN</td>\n",
       "      <td>NaN</td>\n",
       "      <td>2.1492</td>\n",
       "      <td>NaN</td>\n",
       "      <td>NaN</td>\n",
       "      <td>...</td>\n",
       "      <td>NaN</td>\n",
       "      <td>NaN</td>\n",
       "      <td>2.1492</td>\n",
       "      <td>NaN</td>\n",
       "      <td>NaN</td>\n",
       "      <td>NaN</td>\n",
       "      <td>NaN</td>\n",
       "      <td>5209582</td>\n",
       "      <td>NaN</td>\n",
       "      <td>NaN</td>\n",
       "    </tr>\n",
       "    <tr>\n",
       "      <th>1972-06-06</th>\n",
       "      <td>NaN</td>\n",
       "      <td>NaN</td>\n",
       "      <td>0.2387</td>\n",
       "      <td>NaN</td>\n",
       "      <td>NaN</td>\n",
       "      <td>NaN</td>\n",
       "      <td>NaN</td>\n",
       "      <td>2.1248</td>\n",
       "      <td>NaN</td>\n",
       "      <td>NaN</td>\n",
       "      <td>...</td>\n",
       "      <td>NaN</td>\n",
       "      <td>NaN</td>\n",
       "      <td>2.1492</td>\n",
       "      <td>NaN</td>\n",
       "      <td>NaN</td>\n",
       "      <td>NaN</td>\n",
       "      <td>NaN</td>\n",
       "      <td>1424158</td>\n",
       "      <td>NaN</td>\n",
       "      <td>NaN</td>\n",
       "    </tr>\n",
       "    <tr>\n",
       "      <th>1972-06-07</th>\n",
       "      <td>NaN</td>\n",
       "      <td>NaN</td>\n",
       "      <td>0.2373</td>\n",
       "      <td>NaN</td>\n",
       "      <td>NaN</td>\n",
       "      <td>NaN</td>\n",
       "      <td>NaN</td>\n",
       "      <td>2.1127</td>\n",
       "      <td>NaN</td>\n",
       "      <td>NaN</td>\n",
       "      <td>...</td>\n",
       "      <td>NaN</td>\n",
       "      <td>NaN</td>\n",
       "      <td>2.1248</td>\n",
       "      <td>NaN</td>\n",
       "      <td>NaN</td>\n",
       "      <td>NaN</td>\n",
       "      <td>NaN</td>\n",
       "      <td>675088</td>\n",
       "      <td>NaN</td>\n",
       "      <td>NaN</td>\n",
       "    </tr>\n",
       "  </tbody>\n",
       "</table>\n",
       "<p>5 rows × 30 columns</p>\n",
       "</div>"
      ],
      "text/plain": [
       "           Adj Close                       Close                        ...  \\\n",
       "                AAPL AMZN      F META TSLA  AAPL AMZN      F META TSLA  ...   \n",
       "Date                                                                    ...   \n",
       "1972-06-01       NaN  NaN 0.2419  NaN  NaN   NaN  NaN 2.1532  NaN  NaN  ...   \n",
       "1972-06-02       NaN  NaN 0.2414  NaN  NaN   NaN  NaN 2.1492  NaN  NaN  ...   \n",
       "1972-06-05       NaN  NaN 0.2414  NaN  NaN   NaN  NaN 2.1492  NaN  NaN  ...   \n",
       "1972-06-06       NaN  NaN 0.2387  NaN  NaN   NaN  NaN 2.1248  NaN  NaN  ...   \n",
       "1972-06-07       NaN  NaN 0.2373  NaN  NaN   NaN  NaN 2.1127  NaN  NaN  ...   \n",
       "\n",
       "           Open                       Volume                          \n",
       "           AAPL AMZN      F META TSLA   AAPL AMZN        F META TSLA  \n",
       "Date                                                                  \n",
       "1972-06-01  NaN  NaN 0.0000  NaN  NaN    NaN  NaN  1091238  NaN  NaN  \n",
       "1972-06-02  NaN  NaN 2.1532  NaN  NaN    NaN  NaN  1174468  NaN  NaN  \n",
       "1972-06-05  NaN  NaN 2.1492  NaN  NaN    NaN  NaN  5209582  NaN  NaN  \n",
       "1972-06-06  NaN  NaN 2.1492  NaN  NaN    NaN  NaN  1424158  NaN  NaN  \n",
       "1972-06-07  NaN  NaN 2.1248  NaN  NaN    NaN  NaN   675088  NaN  NaN  \n",
       "\n",
       "[5 rows x 30 columns]"
      ]
     },
     "execution_count": 4,
     "metadata": {},
     "output_type": "execute_result"
    }
   ],
   "source": [
    "prices.head()"
   ]
  },
  {
   "cell_type": "markdown",
   "id": "ed2b103e-0903-4fd5-b6d5-2787a236083b",
   "metadata": {},
   "source": [
    "### Calculate all available daily returns and save to data frame `returns`"
   ]
  },
  {
   "cell_type": "code",
   "execution_count": 5,
   "id": "420582ff-de0f-47f9-ae6d-82aa215174b6",
   "metadata": {},
   "outputs": [
    {
     "data": {
      "text/html": [
       "<div>\n",
       "<style scoped>\n",
       "    .dataframe tbody tr th:only-of-type {\n",
       "        vertical-align: middle;\n",
       "    }\n",
       "\n",
       "    .dataframe tbody tr th {\n",
       "        vertical-align: top;\n",
       "    }\n",
       "\n",
       "    .dataframe thead th {\n",
       "        text-align: right;\n",
       "    }\n",
       "</style>\n",
       "<table border=\"1\" class=\"dataframe\">\n",
       "  <thead>\n",
       "    <tr style=\"text-align: right;\">\n",
       "      <th></th>\n",
       "      <th>AAPL</th>\n",
       "      <th>AMZN</th>\n",
       "      <th>F</th>\n",
       "      <th>META</th>\n",
       "      <th>TSLA</th>\n",
       "    </tr>\n",
       "    <tr>\n",
       "      <th>Date</th>\n",
       "      <th></th>\n",
       "      <th></th>\n",
       "      <th></th>\n",
       "      <th></th>\n",
       "      <th></th>\n",
       "    </tr>\n",
       "  </thead>\n",
       "  <tbody>\n",
       "    <tr>\n",
       "      <th>1972-06-01</th>\n",
       "      <td>NaN</td>\n",
       "      <td>NaN</td>\n",
       "      <td>NaN</td>\n",
       "      <td>NaN</td>\n",
       "      <td>NaN</td>\n",
       "    </tr>\n",
       "    <tr>\n",
       "      <th>1972-06-02</th>\n",
       "      <td>NaN</td>\n",
       "      <td>NaN</td>\n",
       "      <td>-0.0019</td>\n",
       "      <td>NaN</td>\n",
       "      <td>NaN</td>\n",
       "    </tr>\n",
       "    <tr>\n",
       "      <th>1972-06-05</th>\n",
       "      <td>NaN</td>\n",
       "      <td>NaN</td>\n",
       "      <td>0.0000</td>\n",
       "      <td>NaN</td>\n",
       "      <td>NaN</td>\n",
       "    </tr>\n",
       "    <tr>\n",
       "      <th>1972-06-06</th>\n",
       "      <td>NaN</td>\n",
       "      <td>NaN</td>\n",
       "      <td>-0.0113</td>\n",
       "      <td>NaN</td>\n",
       "      <td>NaN</td>\n",
       "    </tr>\n",
       "    <tr>\n",
       "      <th>1972-06-07</th>\n",
       "      <td>NaN</td>\n",
       "      <td>NaN</td>\n",
       "      <td>-0.0057</td>\n",
       "      <td>NaN</td>\n",
       "      <td>NaN</td>\n",
       "    </tr>\n",
       "    <tr>\n",
       "      <th>...</th>\n",
       "      <td>...</td>\n",
       "      <td>...</td>\n",
       "      <td>...</td>\n",
       "      <td>...</td>\n",
       "      <td>...</td>\n",
       "    </tr>\n",
       "    <tr>\n",
       "      <th>2024-01-30</th>\n",
       "      <td>-0.0192</td>\n",
       "      <td>-0.0140</td>\n",
       "      <td>0.0199</td>\n",
       "      <td>-0.0024</td>\n",
       "      <td>0.0035</td>\n",
       "    </tr>\n",
       "    <tr>\n",
       "      <th>2024-01-31</th>\n",
       "      <td>-0.0194</td>\n",
       "      <td>-0.0239</td>\n",
       "      <td>-0.0051</td>\n",
       "      <td>-0.0248</td>\n",
       "      <td>-0.0224</td>\n",
       "    </tr>\n",
       "    <tr>\n",
       "      <th>2024-02-01</th>\n",
       "      <td>0.0133</td>\n",
       "      <td>0.0263</td>\n",
       "      <td>0.0324</td>\n",
       "      <td>0.0119</td>\n",
       "      <td>0.0084</td>\n",
       "    </tr>\n",
       "    <tr>\n",
       "      <th>2024-02-02</th>\n",
       "      <td>-0.0054</td>\n",
       "      <td>0.0787</td>\n",
       "      <td>0.0033</td>\n",
       "      <td>0.2032</td>\n",
       "      <td>-0.0050</td>\n",
       "    </tr>\n",
       "    <tr>\n",
       "      <th>2024-02-05</th>\n",
       "      <td>0.0098</td>\n",
       "      <td>-0.0087</td>\n",
       "      <td>-0.0453</td>\n",
       "      <td>-0.0328</td>\n",
       "      <td>-0.0365</td>\n",
       "    </tr>\n",
       "  </tbody>\n",
       "</table>\n",
       "<p>13031 rows × 5 columns</p>\n",
       "</div>"
      ],
      "text/plain": [
       "              AAPL    AMZN       F    META    TSLA\n",
       "Date                                              \n",
       "1972-06-01     NaN     NaN     NaN     NaN     NaN\n",
       "1972-06-02     NaN     NaN -0.0019     NaN     NaN\n",
       "1972-06-05     NaN     NaN  0.0000     NaN     NaN\n",
       "1972-06-06     NaN     NaN -0.0113     NaN     NaN\n",
       "1972-06-07     NaN     NaN -0.0057     NaN     NaN\n",
       "...            ...     ...     ...     ...     ...\n",
       "2024-01-30 -0.0192 -0.0140  0.0199 -0.0024  0.0035\n",
       "2024-01-31 -0.0194 -0.0239 -0.0051 -0.0248 -0.0224\n",
       "2024-02-01  0.0133  0.0263  0.0324  0.0119  0.0084\n",
       "2024-02-02 -0.0054  0.0787  0.0033  0.2032 -0.0050\n",
       "2024-02-05  0.0098 -0.0087 -0.0453 -0.0328 -0.0365\n",
       "\n",
       "[13031 rows x 5 columns]"
      ]
     },
     "execution_count": 5,
     "metadata": {},
     "output_type": "execute_result"
    }
   ],
   "source": [
    "returns = (\n",
    "    prices['Adj Close'] # slice adj close\n",
    "    .iloc[:-1] # drop the last price because it might be intraday (i.e., not a close)\n",
    "    .pct_change() # calculate simple returns\n",
    ")\n",
    "\n",
    "returns"
   ]
  },
  {
   "cell_type": "markdown",
   "id": "a9d8e5ad-9d72-430e-9f0d-396a7ebb56d4",
   "metadata": {},
   "source": [
    "### Slices returns for the 2020s and assign to `returns_2020s`"
   ]
  },
  {
   "cell_type": "code",
   "execution_count": 6,
   "id": "e3723dfd-33b8-4602-b786-c67388ae028c",
   "metadata": {},
   "outputs": [
    {
     "data": {
      "text/html": [
       "<div>\n",
       "<style scoped>\n",
       "    .dataframe tbody tr th:only-of-type {\n",
       "        vertical-align: middle;\n",
       "    }\n",
       "\n",
       "    .dataframe tbody tr th {\n",
       "        vertical-align: top;\n",
       "    }\n",
       "\n",
       "    .dataframe thead th {\n",
       "        text-align: right;\n",
       "    }\n",
       "</style>\n",
       "<table border=\"1\" class=\"dataframe\">\n",
       "  <thead>\n",
       "    <tr style=\"text-align: right;\">\n",
       "      <th></th>\n",
       "      <th>AAPL</th>\n",
       "      <th>AMZN</th>\n",
       "      <th>F</th>\n",
       "      <th>META</th>\n",
       "      <th>TSLA</th>\n",
       "    </tr>\n",
       "    <tr>\n",
       "      <th>Date</th>\n",
       "      <th></th>\n",
       "      <th></th>\n",
       "      <th></th>\n",
       "      <th></th>\n",
       "      <th></th>\n",
       "    </tr>\n",
       "  </thead>\n",
       "  <tbody>\n",
       "    <tr>\n",
       "      <th>2020-01-02</th>\n",
       "      <td>0.0228</td>\n",
       "      <td>0.0272</td>\n",
       "      <td>0.0129</td>\n",
       "      <td>0.0221</td>\n",
       "      <td>0.0285</td>\n",
       "    </tr>\n",
       "    <tr>\n",
       "      <th>2020-01-03</th>\n",
       "      <td>-0.0097</td>\n",
       "      <td>-0.0121</td>\n",
       "      <td>-0.0223</td>\n",
       "      <td>-0.0053</td>\n",
       "      <td>0.0296</td>\n",
       "    </tr>\n",
       "    <tr>\n",
       "      <th>2020-01-06</th>\n",
       "      <td>0.0080</td>\n",
       "      <td>0.0149</td>\n",
       "      <td>-0.0054</td>\n",
       "      <td>0.0188</td>\n",
       "      <td>0.0193</td>\n",
       "    </tr>\n",
       "    <tr>\n",
       "      <th>2020-01-07</th>\n",
       "      <td>-0.0047</td>\n",
       "      <td>0.0021</td>\n",
       "      <td>0.0098</td>\n",
       "      <td>0.0022</td>\n",
       "      <td>0.0388</td>\n",
       "    </tr>\n",
       "    <tr>\n",
       "      <th>2020-01-08</th>\n",
       "      <td>0.0161</td>\n",
       "      <td>-0.0078</td>\n",
       "      <td>0.0000</td>\n",
       "      <td>0.0101</td>\n",
       "      <td>0.0492</td>\n",
       "    </tr>\n",
       "    <tr>\n",
       "      <th>...</th>\n",
       "      <td>...</td>\n",
       "      <td>...</td>\n",
       "      <td>...</td>\n",
       "      <td>...</td>\n",
       "      <td>...</td>\n",
       "    </tr>\n",
       "    <tr>\n",
       "      <th>2024-01-30</th>\n",
       "      <td>-0.0192</td>\n",
       "      <td>-0.0140</td>\n",
       "      <td>0.0199</td>\n",
       "      <td>-0.0024</td>\n",
       "      <td>0.0035</td>\n",
       "    </tr>\n",
       "    <tr>\n",
       "      <th>2024-01-31</th>\n",
       "      <td>-0.0194</td>\n",
       "      <td>-0.0239</td>\n",
       "      <td>-0.0051</td>\n",
       "      <td>-0.0248</td>\n",
       "      <td>-0.0224</td>\n",
       "    </tr>\n",
       "    <tr>\n",
       "      <th>2024-02-01</th>\n",
       "      <td>0.0133</td>\n",
       "      <td>0.0263</td>\n",
       "      <td>0.0324</td>\n",
       "      <td>0.0119</td>\n",
       "      <td>0.0084</td>\n",
       "    </tr>\n",
       "    <tr>\n",
       "      <th>2024-02-02</th>\n",
       "      <td>-0.0054</td>\n",
       "      <td>0.0787</td>\n",
       "      <td>0.0033</td>\n",
       "      <td>0.2032</td>\n",
       "      <td>-0.0050</td>\n",
       "    </tr>\n",
       "    <tr>\n",
       "      <th>2024-02-05</th>\n",
       "      <td>0.0098</td>\n",
       "      <td>-0.0087</td>\n",
       "      <td>-0.0453</td>\n",
       "      <td>-0.0328</td>\n",
       "      <td>-0.0365</td>\n",
       "    </tr>\n",
       "  </tbody>\n",
       "</table>\n",
       "<p>1030 rows × 5 columns</p>\n",
       "</div>"
      ],
      "text/plain": [
       "              AAPL    AMZN       F    META    TSLA\n",
       "Date                                              \n",
       "2020-01-02  0.0228  0.0272  0.0129  0.0221  0.0285\n",
       "2020-01-03 -0.0097 -0.0121 -0.0223 -0.0053  0.0296\n",
       "2020-01-06  0.0080  0.0149 -0.0054  0.0188  0.0193\n",
       "2020-01-07 -0.0047  0.0021  0.0098  0.0022  0.0388\n",
       "2020-01-08  0.0161 -0.0078  0.0000  0.0101  0.0492\n",
       "...            ...     ...     ...     ...     ...\n",
       "2024-01-30 -0.0192 -0.0140  0.0199 -0.0024  0.0035\n",
       "2024-01-31 -0.0194 -0.0239 -0.0051 -0.0248 -0.0224\n",
       "2024-02-01  0.0133  0.0263  0.0324  0.0119  0.0084\n",
       "2024-02-02 -0.0054  0.0787  0.0033  0.2032 -0.0050\n",
       "2024-02-05  0.0098 -0.0087 -0.0453 -0.0328 -0.0365\n",
       "\n",
       "[1030 rows x 5 columns]"
      ]
     },
     "execution_count": 6,
     "metadata": {},
     "output_type": "execute_result"
    }
   ],
   "source": [
    "returns_2020s = returns.loc['2020':] # always use an unambiguos date format, like YYYY-MM-DD\n",
    "\n",
    "returns_2020s"
   ]
  },
  {
   "cell_type": "markdown",
   "id": "d46e7779-9d11-4b5c-a2ea-fb499745dd63",
   "metadata": {},
   "source": [
    "### Download all available data for the Fama and French daily benchmark factors to dictionary `ff_all`"
   ]
  },
  {
   "cell_type": "markdown",
   "id": "74dc39e6-bf29-48c7-9cbf-6707608dc386",
   "metadata": {},
   "source": [
    "I often use the following code snippet to find the exact name for the the daily benchmark factors file."
   ]
  },
  {
   "cell_type": "code",
   "execution_count": 7,
   "id": "435d3b71-bce2-4d4e-a07a-b712b6d3d06a",
   "metadata": {},
   "outputs": [
    {
     "data": {
      "text/plain": [
       "['F-F_Research_Data_Factors',\n",
       " 'F-F_Research_Data_Factors_weekly',\n",
       " 'F-F_Research_Data_Factors_daily',\n",
       " 'F-F_Research_Data_5_Factors_2x3',\n",
       " 'F-F_Research_Data_5_Factors_2x3_daily']"
      ]
     },
     "execution_count": 7,
     "metadata": {},
     "output_type": "execute_result"
    }
   ],
   "source": [
    "pdr.famafrench.get_available_datasets()[:5]"
   ]
  },
  {
   "cell_type": "code",
   "execution_count": 8,
   "id": "d8a70953-8ee4-4322-b96a-e5d50f3f8f25",
   "metadata": {},
   "outputs": [
    {
     "name": "stderr",
     "output_type": "stream",
     "text": [
      "C:\\Users\\r.herron\\AppData\\Local\\Temp\\ipykernel_15912\\4231759426.py:1: FutureWarning: The argument 'date_parser' is deprecated and will be removed in a future version. Please use 'date_format' instead, or read your data in as 'object' dtype and then call 'to_datetime'.\n",
      "  ff_all = pdr.DataReader(\n"
     ]
    }
   ],
   "source": [
    "ff_all = pdr.DataReader(\n",
    "    name='F-F_Research_Data_Factors_daily',\n",
    "    data_source='famafrench',\n",
    "    start='1900' # most data start in 1926-07-01, but 1900 is easier to remember and type\n",
    ")"
   ]
  },
  {
   "cell_type": "markdown",
   "id": "98168117-7b66-4e07-9965-c5224a02932d",
   "metadata": {},
   "source": [
    "The `DESCR` key in the dictionary tells us about the data frames that `pandas-datareader` returns."
   ]
  },
  {
   "cell_type": "code",
   "execution_count": 9,
   "id": "222e5205-5a38-4b25-aa19-8d679c2f22f6",
   "metadata": {},
   "outputs": [
    {
     "name": "stdout",
     "output_type": "stream",
     "text": [
      "F-F Research Data Factors daily\n",
      "-------------------------------\n",
      "\n",
      "This file was created by CMPT_ME_BEME_RETS_DAILY using the 202312 CRSP database. The Tbill return is the simple daily rate that, over the number of trading days in the month, compounds to 1-month TBill rate from Ibbotson and Associates Inc. Copyright 2023 Kenneth R. French\n",
      "\n",
      "  0 : (25649 rows x 4 cols)\n"
     ]
    }
   ],
   "source": [
    "print(ff_all['DESCR'])"
   ]
  },
  {
   "cell_type": "markdown",
   "id": "f1383440-c325-445f-8d3d-ac4f5aa3798b",
   "metadata": {},
   "source": [
    "### Slice the daily benchmark factors, convert them to decimal returns, and assign to `ff`"
   ]
  },
  {
   "cell_type": "code",
   "execution_count": 10,
   "id": "c18581d9-1427-46ab-bf34-92715c4558af",
   "metadata": {},
   "outputs": [
    {
     "data": {
      "text/html": [
       "<div>\n",
       "<style scoped>\n",
       "    .dataframe tbody tr th:only-of-type {\n",
       "        vertical-align: middle;\n",
       "    }\n",
       "\n",
       "    .dataframe tbody tr th {\n",
       "        vertical-align: top;\n",
       "    }\n",
       "\n",
       "    .dataframe thead th {\n",
       "        text-align: right;\n",
       "    }\n",
       "</style>\n",
       "<table border=\"1\" class=\"dataframe\">\n",
       "  <thead>\n",
       "    <tr style=\"text-align: right;\">\n",
       "      <th></th>\n",
       "      <th>Mkt-RF</th>\n",
       "      <th>SMB</th>\n",
       "      <th>HML</th>\n",
       "      <th>RF</th>\n",
       "    </tr>\n",
       "    <tr>\n",
       "      <th>Date</th>\n",
       "      <th></th>\n",
       "      <th></th>\n",
       "      <th></th>\n",
       "      <th></th>\n",
       "    </tr>\n",
       "  </thead>\n",
       "  <tbody>\n",
       "    <tr>\n",
       "      <th>1926-07-01</th>\n",
       "      <td>0.0010</td>\n",
       "      <td>-0.0025</td>\n",
       "      <td>-0.0027</td>\n",
       "      <td>0.0001</td>\n",
       "    </tr>\n",
       "    <tr>\n",
       "      <th>1926-07-02</th>\n",
       "      <td>0.0045</td>\n",
       "      <td>-0.0033</td>\n",
       "      <td>-0.0006</td>\n",
       "      <td>0.0001</td>\n",
       "    </tr>\n",
       "    <tr>\n",
       "      <th>1926-07-06</th>\n",
       "      <td>0.0017</td>\n",
       "      <td>0.0030</td>\n",
       "      <td>-0.0039</td>\n",
       "      <td>0.0001</td>\n",
       "    </tr>\n",
       "    <tr>\n",
       "      <th>1926-07-07</th>\n",
       "      <td>0.0009</td>\n",
       "      <td>-0.0058</td>\n",
       "      <td>0.0002</td>\n",
       "      <td>0.0001</td>\n",
       "    </tr>\n",
       "    <tr>\n",
       "      <th>1926-07-08</th>\n",
       "      <td>0.0021</td>\n",
       "      <td>-0.0038</td>\n",
       "      <td>0.0019</td>\n",
       "      <td>0.0001</td>\n",
       "    </tr>\n",
       "    <tr>\n",
       "      <th>...</th>\n",
       "      <td>...</td>\n",
       "      <td>...</td>\n",
       "      <td>...</td>\n",
       "      <td>...</td>\n",
       "    </tr>\n",
       "    <tr>\n",
       "      <th>2023-12-22</th>\n",
       "      <td>0.0021</td>\n",
       "      <td>0.0064</td>\n",
       "      <td>0.0009</td>\n",
       "      <td>0.0002</td>\n",
       "    </tr>\n",
       "    <tr>\n",
       "      <th>2023-12-26</th>\n",
       "      <td>0.0048</td>\n",
       "      <td>0.0069</td>\n",
       "      <td>0.0046</td>\n",
       "      <td>0.0002</td>\n",
       "    </tr>\n",
       "    <tr>\n",
       "      <th>2023-12-27</th>\n",
       "      <td>0.0016</td>\n",
       "      <td>0.0014</td>\n",
       "      <td>0.0012</td>\n",
       "      <td>0.0002</td>\n",
       "    </tr>\n",
       "    <tr>\n",
       "      <th>2023-12-28</th>\n",
       "      <td>-0.0001</td>\n",
       "      <td>-0.0036</td>\n",
       "      <td>0.0003</td>\n",
       "      <td>0.0002</td>\n",
       "    </tr>\n",
       "    <tr>\n",
       "      <th>2023-12-29</th>\n",
       "      <td>-0.0043</td>\n",
       "      <td>-0.0112</td>\n",
       "      <td>-0.0037</td>\n",
       "      <td>0.0002</td>\n",
       "    </tr>\n",
       "  </tbody>\n",
       "</table>\n",
       "<p>25649 rows × 4 columns</p>\n",
       "</div>"
      ],
      "text/plain": [
       "            Mkt-RF     SMB     HML     RF\n",
       "Date                                     \n",
       "1926-07-01  0.0010 -0.0025 -0.0027 0.0001\n",
       "1926-07-02  0.0045 -0.0033 -0.0006 0.0001\n",
       "1926-07-06  0.0017  0.0030 -0.0039 0.0001\n",
       "1926-07-07  0.0009 -0.0058  0.0002 0.0001\n",
       "1926-07-08  0.0021 -0.0038  0.0019 0.0001\n",
       "...            ...     ...     ...    ...\n",
       "2023-12-22  0.0021  0.0064  0.0009 0.0002\n",
       "2023-12-26  0.0048  0.0069  0.0046 0.0002\n",
       "2023-12-27  0.0016  0.0014  0.0012 0.0002\n",
       "2023-12-28 -0.0001 -0.0036  0.0003 0.0002\n",
       "2023-12-29 -0.0043 -0.0112 -0.0037 0.0002\n",
       "\n",
       "[25649 rows x 4 columns]"
      ]
     },
     "execution_count": 10,
     "metadata": {},
     "output_type": "execute_result"
    }
   ],
   "source": [
    "ff = ff_all[0].div(100)\n",
    "\n",
    "ff"
   ]
  },
  {
   "cell_type": "markdown",
   "id": "dc97806e-755e-4412-bb5a-73a1c411bd8b",
   "metadata": {},
   "source": [
    "### Use the `.cumprod()` method to plot cumulative returns for these stocks in the 2020s"
   ]
  },
  {
   "cell_type": "markdown",
   "id": "45343db8-35a0-41c2-b811-e947438da141",
   "metadata": {},
   "source": [
    "We use the `.prod()` method to calculate *total* returns, because $r_{total} = r_{0,T} = \\left[ \\prod_{t=0}^T (1 + r_t) \\right] -1$."
   ]
  },
  {
   "cell_type": "code",
   "execution_count": 11,
   "id": "801502a8-5e7c-47c3-8385-7e98c78e3deb",
   "metadata": {},
   "outputs": [
    {
     "data": {
      "text/plain": [
       "AAPL   1.6241\n",
       "AMZN   0.8433\n",
       "F      0.4535\n",
       "META   1.2383\n",
       "TSLA   5.4922\n",
       "dtype: float64"
      ]
     },
     "execution_count": 11,
     "metadata": {},
     "output_type": "execute_result"
    }
   ],
   "source": [
    "(\n",
    "    returns_2020s # returns during the 2020s\n",
    "    .add(1) # add 1 before we compound\n",
    "    .prod() # compound all returns\n",
    "    .sub(1) # subtract 1 to recover total returns\n",
    ")"
   ]
  },
  {
   "cell_type": "markdown",
   "id": "9852f9de-cb58-45c5-abaa-b3d8c307729e",
   "metadata": {},
   "source": [
    "We use the `.cumprod()` to calculate *cumulative* returns, which are the total returns for every date between $0$ and $T$ (i.e., $r_{0,t} \\forall t \\in {0, 1, \\ldots T}$)"
   ]
  },
  {
   "cell_type": "code",
   "execution_count": 12,
   "id": "2adba7b9-1258-48ea-befa-884f8217b7bc",
   "metadata": {},
   "outputs": [
    {
     "data": {
      "image/png": "[encoded data removed]",
      "text/plain": [
       "<Figure size 640x480 with 1 Axes>"
      ]
     },
     "metadata": {
      "image/png": {
       "height": 457,
       "width": 598
      }
     },
     "output_type": "display_data"
    }
   ],
   "source": [
    "(\n",
    "    returns_2020s # returns during the 2020s\n",
    "    .add(1) # add 1 before we compound\n",
    "    .cumprod() # compound returns up to time t\n",
    "    .sub(1) # subtract 1 to recover cumulative return at time t\n",
    "    .mul(100) # convert decimal to percent\n",
    "    .plot() # plot\n",
    ")\n",
    "\n",
    "# https://stackoverflow.com/questions/25973581/how-to-format-axis-number-format-to-thousands-with-a-comma\n",
    "from matplotlib import ticker\n",
    "plt.gca().get_yaxis().set_major_formatter(ticker.FuncFormatter(lambda x, p: '{:,}'.format(x)))\n",
    "\n",
    "plt.ylabel('Cumulative Return (%)')\n",
    "plt.title(f'Cumulative Returns\\n from {returns_2020s.index.min():%b %Y} to {returns_2020s.index.max():%b %Y}')\n",
    "plt.show()"
   ]
  },
  {
   "cell_type": "markdown",
   "id": "c054cca6-e5c7-4500-95af-a3fd088a2548",
   "metadata": {},
   "source": [
    "### Use the `.cumsum()` method with log returns to plot cumulative returns for these stocks in the 2020s"
   ]
  },
  {
   "cell_type": "markdown",
   "id": "3aaa696c-227b-49f6-84d9-11f4bfab42f9",
   "metadata": {},
   "source": [
    "### Use price data only to plot cumulative returns for these stocks in the 2020s"
   ]
  },
  {
   "cell_type": "markdown",
   "id": "b2cfa840-3125-4c8b-a92a-af4bb294817b",
   "metadata": {},
   "source": [
    "### Calculate the Sharpe Ratio for TSLA"
   ]
  },
  {
   "cell_type": "markdown",
   "id": "f394cf5c-e0d1-4eab-aedb-146a6423a1f0",
   "metadata": {},
   "source": [
    "Calculate the Sharpe Ratio with all available returns and 2020s returns.\n",
    "Recall the Sharpe Ratio is $\\frac{\\overline{R_i - R_f}}{\\sigma_i}$, where $\\sigma_i$ is the volatility of *excess* returns.\n",
    "\n",
    "***I suggest you write a function named `calc_sharpe()` to use for the rest of this notebook.***"
   ]
  },
  {
   "cell_type": "markdown",
   "id": "ac32f41a-5381-4293-84c1-8bfdb1bed373",
   "metadata": {},
   "source": [
    "### Calculate the market beta for TSLA"
   ]
  },
  {
   "cell_type": "markdown",
   "id": "17191326-5269-42ae-9f21-ab1892ec59c9",
   "metadata": {},
   "source": [
    "Calculate the market beta with all available returns and 2020s returns.\n",
    "Recall we estimate market beta with the ordinary least squares (OLS) regression $R_i-R_f = \\alpha + \\beta (R_m-R_f) + \\epsilon$.\n",
    "We can estimate market beta with the covariance formula above for a univariate regression if we do not need goodness of fit statistics.\n",
    "\n",
    "***I suggest you write a function named `calc_beta()` to use for the rest of this notebook.***"
   ]
  },
  {
   "cell_type": "markdown",
   "id": "2a427921-720c-4367-ba64-c87ed83c1278",
   "metadata": {},
   "source": [
    "### Guess the Sharpe Ratios for these stocks in the 2020s"
   ]
  },
  {
   "cell_type": "markdown",
   "id": "da6dc586-4e48-4262-9204-d3ee9646535b",
   "metadata": {},
   "source": [
    "### Guess the market betas for these stocks in the 2020s"
   ]
  },
  {
   "cell_type": "markdown",
   "id": "e4b0a699-ce41-4471-85e1-b67d663f4c40",
   "metadata": {},
   "source": [
    "### Calculate the Sharpe Ratios for these stocks in the 2020s"
   ]
  },
  {
   "cell_type": "markdown",
   "id": "d506bc87-2714-4d0a-9fe6-0eeae2473358",
   "metadata": {},
   "source": [
    "How good were your guesses?"
   ]
  },
  {
   "cell_type": "markdown",
   "id": "289d83d3-51b2-4dac-a6bd-0d08a036cf21",
   "metadata": {
    "tags": []
   },
   "source": [
    "### Calculate the market betas for these stocks in the 2020s"
   ]
  },
  {
   "cell_type": "markdown",
   "id": "67ad8cf6-eb93-4fac-94c9-d3ba9570fe68",
   "metadata": {},
   "source": [
    "How good were your guesses?"
   ]
  },
  {
   "cell_type": "markdown",
   "id": "362d28a5-eb0c-484f-8bd0-69eedc9dc1e1",
   "metadata": {
    "tags": []
   },
   "source": [
    "### Calculate the Sharpe Ratio for an *equally weighted* portfolio of these stocks in the 2020s"
   ]
  },
  {
   "cell_type": "markdown",
   "id": "29633ed1-e74a-4c25-a635-70fbc031c001",
   "metadata": {},
   "source": [
    "What do you notice?"
   ]
  },
  {
   "cell_type": "markdown",
   "id": "8c04dcfb-2469-421c-9665-e5c15c2486d4",
   "metadata": {
    "tags": []
   },
   "source": [
    "### Calculate the market beta for an *equally weighted* portfolio of these stocks in the 2020s"
   ]
  },
  {
   "cell_type": "markdown",
   "id": "ee18e7b3-b162-4426-9bd2-55f6d3438cde",
   "metadata": {},
   "source": [
    "What do you notice?"
   ]
  },
  {
   "cell_type": "markdown",
   "id": "e315207d-fc5a-48bc-a3c3-9eb5a4e1c5d5",
   "metadata": {},
   "source": [
    "### Calculate the market betas for these stocks every calendar year for every possible year"
   ]
  },
  {
   "cell_type": "markdown",
   "id": "28da9f2f-265c-48fc-8747-c4483edbe2f2",
   "metadata": {},
   "source": [
    "Save these market betas to data frame `betas`.\n",
    "Our current Python knowledge limits us to a for-loop, but we will learn easier and faster approaches soon!"
   ]
  },
  {
   "cell_type": "markdown",
   "id": "0c30e993-49c1-48d1-b148-946465a956c7",
   "metadata": {},
   "source": [
    "### Plot the time series of market betas"
   ]
  }
 ],
 "metadata": {
  "author": "Richard Herron",
  "kernelspec": {
   "display_name": "Python 3 (ipykernel)",
   "language": "python",
   "name": "python3"
  },
  "language_info": {
   "codemirror_mode": {
    "name": "ipython",
    "version": 3
   },
   "file_extension": ".py",
   "mimetype": "text/x-python",
   "name": "python",
   "nbconvert_exporter": "python",
   "pygments_lexer": "ipython3",
   "version": "3.12.1"
  },
  "title": "McKinney Chapter 5 - Practice"
 },
 "nbformat": 4,
 "nbformat_minor": 5
}
