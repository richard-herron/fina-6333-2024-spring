{
 "cells": [
  {
   "cell_type": "markdown",
   "id": "8178742d-2457-4e82-b936-265ef2bde302",
   "metadata": {},
   "source": [
    "# McKinney Chapter 10 - Practice for Section 04"
   ]
  },
  {
   "cell_type": "markdown",
   "id": "2abe814c-82cc-4cfd-b77a-7b4d48d7bddd",
   "metadata": {},
   "source": [
    "## Announcements"
   ]
  },
  {
   "cell_type": "markdown",
   "id": "2ea20c70-47df-498f-b228-830602da2fa7",
   "metadata": {},
   "source": [
    "1. I will grade your projects over spring break\n",
    "2. Please complete your peer reviews on Teammates by midnight on Tuesday, 2/27\n",
    "3. I will record the week 9 lecture video on Thursday\n",
    "4. Enjoy your spring breaks!"
   ]
  },
  {
   "cell_type": "markdown",
   "id": "f33dc355-dec6-4e3f-8d5e-da9a62448c14",
   "metadata": {},
   "source": [
    "## 10-Minute Recap"
   ]
  },
  {
   "cell_type": "markdown",
   "id": "02b0fa3f-323d-4c1a-a208-b7e90d47ba4c",
   "metadata": {},
   "source": [
    "We will focus on 3 topics from chapter 10 of McKinney:\n",
    "\n",
    "1. *GroupBy Mechanics:* We will use the `.groupby()` method to perform \"split-apply-combine\" calculations in pandas, which let us aggregate data by one of more columns or indexes.\n",
    "2. *Data Aggregation:* We will combine optimized methods, like `.count()`, `.sum()`, `.mean()`, etc., with `.groupby()` to quickly aggregate data. We will combine the `.agg()` or `.aggregate()` method with `.groupby()` when we want to apply more than one aggregation function.\n",
    "3. *Pivot Tables:* We can use the `.pivot_table()` method to aggregate data with a syntax similar to Excel's pivot tables. We can almost always get the same output with the `.groupby()`, `.agg()`, and `.unstack()` methods."
   ]
  },
  {
   "cell_type": "markdown",
   "id": "1dd7f11d-884e-45a0-a263-20ae9cf74b17",
   "metadata": {},
   "source": [
    "## Practice"
   ]
  },
  {
   "cell_type": "code",
   "execution_count": 1,
   "id": "ed2aa618-2dc0-4f23-b6e7-aa219c563652",
   "metadata": {},
   "outputs": [],
   "source": [
    "import matplotlib.pyplot as plt\n",
    "import numpy as np\n",
    "import pandas as pd\n",
    "import pandas_datareader as pdr\n",
    "import yfinance as yf"
   ]
  },
  {
   "cell_type": "code",
   "execution_count": 2,
   "id": "8463b282-660a-411e-bc73-6bb3e9a8da54",
   "metadata": {},
   "outputs": [],
   "source": [
    "%precision 4\n",
    "pd.options.display.float_format = '{:.4f}'.format\n",
    "%config InlineBackend.figure_format = 'retina'"
   ]
  },
  {
   "cell_type": "markdown",
   "id": "6092dec9-76d7-4f2b-af8d-db0d2859b6b4",
   "metadata": {},
   "source": [
    "### Replicate the following `.pivot_table()` output with `.groupby()`"
   ]
  },
  {
   "cell_type": "code",
   "execution_count": 3,
   "id": "d6605f4c-9478-4aef-a6bf-36700e4f5040",
   "metadata": {},
   "outputs": [
    {
     "name": "stderr",
     "output_type": "stream",
     "text": [
      "[*********************100%%**********************]  6 of 6 completed\n"
     ]
    }
   ],
   "source": [
    "ind = (\n",
    "    yf.download(tickers='^GSPC ^DJI ^IXIC ^FTSE ^N225 ^HSI')\n",
    "    .rename_axis(columns=['Variable', 'Index'])\n",
    "    .stack()\n",
    ")"
   ]
  },
  {
   "cell_type": "code",
   "execution_count": 4,
   "id": "33fe9bee-5d76-40a1-874f-c86dbcee93fe",
   "metadata": {},
   "outputs": [
    {
     "data": {
      "text/plain": [
       "True"
      ]
     },
     "execution_count": 4,
     "metadata": {},
     "output_type": "execute_result"
    }
   ],
   "source": [
    "np.allclose(\n",
    "    ind['Adj Close'],\n",
    "    ind['Close']\n",
    ")"
   ]
  },
  {
   "cell_type": "code",
   "execution_count": 5,
   "id": "b5fd01e0-db4e-4cca-8480-5f7627790370",
   "metadata": {},
   "outputs": [
    {
     "data": {
      "text/html": [
       "<div>\n",
       "<style scoped>\n",
       "    .dataframe tbody tr th:only-of-type {\n",
       "        vertical-align: middle;\n",
       "    }\n",
       "\n",
       "    .dataframe tbody tr th {\n",
       "        vertical-align: top;\n",
       "    }\n",
       "\n",
       "    .dataframe thead tr th {\n",
       "        text-align: left;\n",
       "    }\n",
       "\n",
       "    .dataframe thead tr:last-of-type th {\n",
       "        text-align: right;\n",
       "    }\n",
       "</style>\n",
       "<table border=\"1\" class=\"dataframe\">\n",
       "  <thead>\n",
       "    <tr>\n",
       "      <th></th>\n",
       "      <th colspan=\"6\" halign=\"left\">min</th>\n",
       "      <th colspan=\"6\" halign=\"left\">max</th>\n",
       "    </tr>\n",
       "    <tr>\n",
       "      <th>Index</th>\n",
       "      <th>^DJI</th>\n",
       "      <th>^FTSE</th>\n",
       "      <th>^GSPC</th>\n",
       "      <th>^HSI</th>\n",
       "      <th>^IXIC</th>\n",
       "      <th>^N225</th>\n",
       "      <th>^DJI</th>\n",
       "      <th>^FTSE</th>\n",
       "      <th>^GSPC</th>\n",
       "      <th>^HSI</th>\n",
       "      <th>^IXIC</th>\n",
       "      <th>^N225</th>\n",
       "    </tr>\n",
       "    <tr>\n",
       "      <th>Date</th>\n",
       "      <th></th>\n",
       "      <th></th>\n",
       "      <th></th>\n",
       "      <th></th>\n",
       "      <th></th>\n",
       "      <th></th>\n",
       "      <th></th>\n",
       "      <th></th>\n",
       "      <th></th>\n",
       "      <th></th>\n",
       "      <th></th>\n",
       "      <th></th>\n",
       "    </tr>\n",
       "  </thead>\n",
       "  <tbody>\n",
       "    <tr>\n",
       "      <th>2015-12-31</th>\n",
       "      <td>15666.4404</td>\n",
       "      <td>5874.1001</td>\n",
       "      <td>1867.6100</td>\n",
       "      <td>20556.5996</td>\n",
       "      <td>4506.4902</td>\n",
       "      <td>16795.9609</td>\n",
       "      <td>18312.3906</td>\n",
       "      <td>7104.0000</td>\n",
       "      <td>2130.8201</td>\n",
       "      <td>28442.7500</td>\n",
       "      <td>5218.8599</td>\n",
       "      <td>20868.0293</td>\n",
       "    </tr>\n",
       "    <tr>\n",
       "      <th>2016-12-31</th>\n",
       "      <td>15660.1797</td>\n",
       "      <td>5537.0000</td>\n",
       "      <td>1829.0800</td>\n",
       "      <td>18319.5801</td>\n",
       "      <td>4266.8398</td>\n",
       "      <td>14952.0195</td>\n",
       "      <td>19974.6191</td>\n",
       "      <td>7142.7998</td>\n",
       "      <td>2271.7200</td>\n",
       "      <td>24099.6992</td>\n",
       "      <td>5487.4399</td>\n",
       "      <td>19494.5293</td>\n",
       "    </tr>\n",
       "    <tr>\n",
       "      <th>2017-12-31</th>\n",
       "      <td>19732.4004</td>\n",
       "      <td>7099.2002</td>\n",
       "      <td>2257.8301</td>\n",
       "      <td>22134.4707</td>\n",
       "      <td>5429.0801</td>\n",
       "      <td>18335.6309</td>\n",
       "      <td>24837.5098</td>\n",
       "      <td>7687.7998</td>\n",
       "      <td>2690.1599</td>\n",
       "      <td>30003.4902</td>\n",
       "      <td>6994.7598</td>\n",
       "      <td>22939.1797</td>\n",
       "    </tr>\n",
       "    <tr>\n",
       "      <th>2018-12-31</th>\n",
       "      <td>21792.1992</td>\n",
       "      <td>6584.7002</td>\n",
       "      <td>2351.1001</td>\n",
       "      <td>24585.5293</td>\n",
       "      <td>6192.9199</td>\n",
       "      <td>19155.7402</td>\n",
       "      <td>26828.3906</td>\n",
       "      <td>7877.5000</td>\n",
       "      <td>2930.7500</td>\n",
       "      <td>33154.1211</td>\n",
       "      <td>8109.6899</td>\n",
       "      <td>24270.6191</td>\n",
       "    </tr>\n",
       "    <tr>\n",
       "      <th>2019-12-31</th>\n",
       "      <td>22686.2207</td>\n",
       "      <td>6692.7002</td>\n",
       "      <td>2447.8899</td>\n",
       "      <td>25064.3594</td>\n",
       "      <td>6463.5000</td>\n",
       "      <td>19561.9609</td>\n",
       "      <td>28645.2598</td>\n",
       "      <td>7686.6001</td>\n",
       "      <td>3240.0200</td>\n",
       "      <td>30157.4902</td>\n",
       "      <td>9022.3896</td>\n",
       "      <td>24066.1191</td>\n",
       "    </tr>\n",
       "    <tr>\n",
       "      <th>2020-12-31</th>\n",
       "      <td>18591.9297</td>\n",
       "      <td>4993.8999</td>\n",
       "      <td>2237.3999</td>\n",
       "      <td>21696.1309</td>\n",
       "      <td>6860.6699</td>\n",
       "      <td>16552.8301</td>\n",
       "      <td>30606.4805</td>\n",
       "      <td>7674.6001</td>\n",
       "      <td>3756.0701</td>\n",
       "      <td>29056.4199</td>\n",
       "      <td>12899.4199</td>\n",
       "      <td>27568.1504</td>\n",
       "    </tr>\n",
       "    <tr>\n",
       "      <th>2021-12-31</th>\n",
       "      <td>29982.6191</td>\n",
       "      <td>6407.5000</td>\n",
       "      <td>3700.6499</td>\n",
       "      <td>22744.8594</td>\n",
       "      <td>12609.1602</td>\n",
       "      <td>27013.2500</td>\n",
       "      <td>36488.6289</td>\n",
       "      <td>7420.7002</td>\n",
       "      <td>4793.0601</td>\n",
       "      <td>31084.9395</td>\n",
       "      <td>16057.4404</td>\n",
       "      <td>30670.0996</td>\n",
       "    </tr>\n",
       "    <tr>\n",
       "      <th>2022-12-31</th>\n",
       "      <td>28725.5098</td>\n",
       "      <td>6826.2002</td>\n",
       "      <td>3577.0300</td>\n",
       "      <td>14687.0195</td>\n",
       "      <td>10213.2900</td>\n",
       "      <td>24717.5293</td>\n",
       "      <td>36799.6484</td>\n",
       "      <td>7672.3999</td>\n",
       "      <td>4796.5601</td>\n",
       "      <td>24965.5508</td>\n",
       "      <td>15832.7998</td>\n",
       "      <td>29332.1602</td>\n",
       "    </tr>\n",
       "    <tr>\n",
       "      <th>2023-12-31</th>\n",
       "      <td>31819.1406</td>\n",
       "      <td>7256.8999</td>\n",
       "      <td>3808.1001</td>\n",
       "      <td>16201.4902</td>\n",
       "      <td>10305.2402</td>\n",
       "      <td>25716.8594</td>\n",
       "      <td>37710.1016</td>\n",
       "      <td>8014.2998</td>\n",
       "      <td>4783.3501</td>\n",
       "      <td>22688.9004</td>\n",
       "      <td>15099.1797</td>\n",
       "      <td>33753.3281</td>\n",
       "    </tr>\n",
       "    <tr>\n",
       "      <th>2024-12-31</th>\n",
       "      <td>37266.6719</td>\n",
       "      <td>7446.2998</td>\n",
       "      <td>4688.6802</td>\n",
       "      <td>14961.1797</td>\n",
       "      <td>14510.2998</td>\n",
       "      <td>33288.2891</td>\n",
       "      <td>39131.5312</td>\n",
       "      <td>7728.5000</td>\n",
       "      <td>5088.7998</td>\n",
       "      <td>16790.8008</td>\n",
       "      <td>16041.6201</td>\n",
       "      <td>39233.7109</td>\n",
       "    </tr>\n",
       "  </tbody>\n",
       "</table>\n",
       "</div>"
      ],
      "text/plain": [
       "                  min                                                       \\\n",
       "Index            ^DJI     ^FTSE     ^GSPC       ^HSI      ^IXIC      ^N225   \n",
       "Date                                                                         \n",
       "2015-12-31 15666.4404 5874.1001 1867.6100 20556.5996  4506.4902 16795.9609   \n",
       "2016-12-31 15660.1797 5537.0000 1829.0800 18319.5801  4266.8398 14952.0195   \n",
       "2017-12-31 19732.4004 7099.2002 2257.8301 22134.4707  5429.0801 18335.6309   \n",
       "2018-12-31 21792.1992 6584.7002 2351.1001 24585.5293  6192.9199 19155.7402   \n",
       "2019-12-31 22686.2207 6692.7002 2447.8899 25064.3594  6463.5000 19561.9609   \n",
       "2020-12-31 18591.9297 4993.8999 2237.3999 21696.1309  6860.6699 16552.8301   \n",
       "2021-12-31 29982.6191 6407.5000 3700.6499 22744.8594 12609.1602 27013.2500   \n",
       "2022-12-31 28725.5098 6826.2002 3577.0300 14687.0195 10213.2900 24717.5293   \n",
       "2023-12-31 31819.1406 7256.8999 3808.1001 16201.4902 10305.2402 25716.8594   \n",
       "2024-12-31 37266.6719 7446.2998 4688.6802 14961.1797 14510.2998 33288.2891   \n",
       "\n",
       "                  max                                                       \n",
       "Index            ^DJI     ^FTSE     ^GSPC       ^HSI      ^IXIC      ^N225  \n",
       "Date                                                                        \n",
       "2015-12-31 18312.3906 7104.0000 2130.8201 28442.7500  5218.8599 20868.0293  \n",
       "2016-12-31 19974.6191 7142.7998 2271.7200 24099.6992  5487.4399 19494.5293  \n",
       "2017-12-31 24837.5098 7687.7998 2690.1599 30003.4902  6994.7598 22939.1797  \n",
       "2018-12-31 26828.3906 7877.5000 2930.7500 33154.1211  8109.6899 24270.6191  \n",
       "2019-12-31 28645.2598 7686.6001 3240.0200 30157.4902  9022.3896 24066.1191  \n",
       "2020-12-31 30606.4805 7674.6001 3756.0701 29056.4199 12899.4199 27568.1504  \n",
       "2021-12-31 36488.6289 7420.7002 4793.0601 31084.9395 16057.4404 30670.0996  \n",
       "2022-12-31 36799.6484 7672.3999 4796.5601 24965.5508 15832.7998 29332.1602  \n",
       "2023-12-31 37710.1016 8014.2998 4783.3501 22688.9004 15099.1797 33753.3281  \n",
       "2024-12-31 39131.5312 7728.5000 5088.7998 16790.8008 16041.6201 39233.7109  "
      ]
     },
     "execution_count": 5,
     "metadata": {},
     "output_type": "execute_result"
    }
   ],
   "source": [
    "a = (\n",
    "    ind\n",
    "    .loc['2015':]\n",
    "    .reset_index()\n",
    "    .pivot_table(\n",
    "        values='Close',\n",
    "        index=pd.Grouper(key='Date', freq='A'),\n",
    "        columns='Index',\n",
    "        aggfunc=['min', 'max']\n",
    "    )\n",
    ")\n",
    "\n",
    "a"
   ]
  },
  {
   "cell_type": "code",
   "execution_count": 6,
   "id": "6cd423db-8cb8-42e9-8278-41041b0c4eb4",
   "metadata": {},
   "outputs": [
    {
     "data": {
      "text/html": [
       "<div>\n",
       "<style scoped>\n",
       "    .dataframe tbody tr th:only-of-type {\n",
       "        vertical-align: middle;\n",
       "    }\n",
       "\n",
       "    .dataframe tbody tr th {\n",
       "        vertical-align: top;\n",
       "    }\n",
       "\n",
       "    .dataframe thead tr th {\n",
       "        text-align: left;\n",
       "    }\n",
       "\n",
       "    .dataframe thead tr:last-of-type th {\n",
       "        text-align: right;\n",
       "    }\n",
       "</style>\n",
       "<table border=\"1\" class=\"dataframe\">\n",
       "  <thead>\n",
       "    <tr>\n",
       "      <th></th>\n",
       "      <th colspan=\"6\" halign=\"left\">min</th>\n",
       "      <th colspan=\"6\" halign=\"left\">max</th>\n",
       "    </tr>\n",
       "    <tr>\n",
       "      <th>Index</th>\n",
       "      <th>^DJI</th>\n",
       "      <th>^FTSE</th>\n",
       "      <th>^GSPC</th>\n",
       "      <th>^HSI</th>\n",
       "      <th>^IXIC</th>\n",
       "      <th>^N225</th>\n",
       "      <th>^DJI</th>\n",
       "      <th>^FTSE</th>\n",
       "      <th>^GSPC</th>\n",
       "      <th>^HSI</th>\n",
       "      <th>^IXIC</th>\n",
       "      <th>^N225</th>\n",
       "    </tr>\n",
       "    <tr>\n",
       "      <th>Date</th>\n",
       "      <th></th>\n",
       "      <th></th>\n",
       "      <th></th>\n",
       "      <th></th>\n",
       "      <th></th>\n",
       "      <th></th>\n",
       "      <th></th>\n",
       "      <th></th>\n",
       "      <th></th>\n",
       "      <th></th>\n",
       "      <th></th>\n",
       "      <th></th>\n",
       "    </tr>\n",
       "  </thead>\n",
       "  <tbody>\n",
       "    <tr>\n",
       "      <th>2015-12-31</th>\n",
       "      <td>15666.4404</td>\n",
       "      <td>5874.1001</td>\n",
       "      <td>1867.6100</td>\n",
       "      <td>20556.5996</td>\n",
       "      <td>4506.4902</td>\n",
       "      <td>16795.9609</td>\n",
       "      <td>18312.3906</td>\n",
       "      <td>7104.0000</td>\n",
       "      <td>2130.8201</td>\n",
       "      <td>28442.7500</td>\n",
       "      <td>5218.8599</td>\n",
       "      <td>20868.0293</td>\n",
       "    </tr>\n",
       "    <tr>\n",
       "      <th>2016-12-31</th>\n",
       "      <td>15660.1797</td>\n",
       "      <td>5537.0000</td>\n",
       "      <td>1829.0800</td>\n",
       "      <td>18319.5801</td>\n",
       "      <td>4266.8398</td>\n",
       "      <td>14952.0195</td>\n",
       "      <td>19974.6191</td>\n",
       "      <td>7142.7998</td>\n",
       "      <td>2271.7200</td>\n",
       "      <td>24099.6992</td>\n",
       "      <td>5487.4399</td>\n",
       "      <td>19494.5293</td>\n",
       "    </tr>\n",
       "    <tr>\n",
       "      <th>2017-12-31</th>\n",
       "      <td>19732.4004</td>\n",
       "      <td>7099.2002</td>\n",
       "      <td>2257.8301</td>\n",
       "      <td>22134.4707</td>\n",
       "      <td>5429.0801</td>\n",
       "      <td>18335.6309</td>\n",
       "      <td>24837.5098</td>\n",
       "      <td>7687.7998</td>\n",
       "      <td>2690.1599</td>\n",
       "      <td>30003.4902</td>\n",
       "      <td>6994.7598</td>\n",
       "      <td>22939.1797</td>\n",
       "    </tr>\n",
       "    <tr>\n",
       "      <th>2018-12-31</th>\n",
       "      <td>21792.1992</td>\n",
       "      <td>6584.7002</td>\n",
       "      <td>2351.1001</td>\n",
       "      <td>24585.5293</td>\n",
       "      <td>6192.9199</td>\n",
       "      <td>19155.7402</td>\n",
       "      <td>26828.3906</td>\n",
       "      <td>7877.5000</td>\n",
       "      <td>2930.7500</td>\n",
       "      <td>33154.1211</td>\n",
       "      <td>8109.6899</td>\n",
       "      <td>24270.6191</td>\n",
       "    </tr>\n",
       "    <tr>\n",
       "      <th>2019-12-31</th>\n",
       "      <td>22686.2207</td>\n",
       "      <td>6692.7002</td>\n",
       "      <td>2447.8899</td>\n",
       "      <td>25064.3594</td>\n",
       "      <td>6463.5000</td>\n",
       "      <td>19561.9609</td>\n",
       "      <td>28645.2598</td>\n",
       "      <td>7686.6001</td>\n",
       "      <td>3240.0200</td>\n",
       "      <td>30157.4902</td>\n",
       "      <td>9022.3896</td>\n",
       "      <td>24066.1191</td>\n",
       "    </tr>\n",
       "    <tr>\n",
       "      <th>2020-12-31</th>\n",
       "      <td>18591.9297</td>\n",
       "      <td>4993.8999</td>\n",
       "      <td>2237.3999</td>\n",
       "      <td>21696.1309</td>\n",
       "      <td>6860.6699</td>\n",
       "      <td>16552.8301</td>\n",
       "      <td>30606.4805</td>\n",
       "      <td>7674.6001</td>\n",
       "      <td>3756.0701</td>\n",
       "      <td>29056.4199</td>\n",
       "      <td>12899.4199</td>\n",
       "      <td>27568.1504</td>\n",
       "    </tr>\n",
       "    <tr>\n",
       "      <th>2021-12-31</th>\n",
       "      <td>29982.6191</td>\n",
       "      <td>6407.5000</td>\n",
       "      <td>3700.6499</td>\n",
       "      <td>22744.8594</td>\n",
       "      <td>12609.1602</td>\n",
       "      <td>27013.2500</td>\n",
       "      <td>36488.6289</td>\n",
       "      <td>7420.7002</td>\n",
       "      <td>4793.0601</td>\n",
       "      <td>31084.9395</td>\n",
       "      <td>16057.4404</td>\n",
       "      <td>30670.0996</td>\n",
       "    </tr>\n",
       "    <tr>\n",
       "      <th>2022-12-31</th>\n",
       "      <td>28725.5098</td>\n",
       "      <td>6826.2002</td>\n",
       "      <td>3577.0300</td>\n",
       "      <td>14687.0195</td>\n",
       "      <td>10213.2900</td>\n",
       "      <td>24717.5293</td>\n",
       "      <td>36799.6484</td>\n",
       "      <td>7672.3999</td>\n",
       "      <td>4796.5601</td>\n",
       "      <td>24965.5508</td>\n",
       "      <td>15832.7998</td>\n",
       "      <td>29332.1602</td>\n",
       "    </tr>\n",
       "    <tr>\n",
       "      <th>2023-12-31</th>\n",
       "      <td>31819.1406</td>\n",
       "      <td>7256.8999</td>\n",
       "      <td>3808.1001</td>\n",
       "      <td>16201.4902</td>\n",
       "      <td>10305.2402</td>\n",
       "      <td>25716.8594</td>\n",
       "      <td>37710.1016</td>\n",
       "      <td>8014.2998</td>\n",
       "      <td>4783.3501</td>\n",
       "      <td>22688.9004</td>\n",
       "      <td>15099.1797</td>\n",
       "      <td>33753.3281</td>\n",
       "    </tr>\n",
       "    <tr>\n",
       "      <th>2024-12-31</th>\n",
       "      <td>37266.6719</td>\n",
       "      <td>7446.2998</td>\n",
       "      <td>4688.6802</td>\n",
       "      <td>14961.1797</td>\n",
       "      <td>14510.2998</td>\n",
       "      <td>33288.2891</td>\n",
       "      <td>39131.5312</td>\n",
       "      <td>7728.5000</td>\n",
       "      <td>5088.7998</td>\n",
       "      <td>16790.8008</td>\n",
       "      <td>16041.6201</td>\n",
       "      <td>39233.7109</td>\n",
       "    </tr>\n",
       "  </tbody>\n",
       "</table>\n",
       "</div>"
      ],
      "text/plain": [
       "                  min                                                       \\\n",
       "Index            ^DJI     ^FTSE     ^GSPC       ^HSI      ^IXIC      ^N225   \n",
       "Date                                                                         \n",
       "2015-12-31 15666.4404 5874.1001 1867.6100 20556.5996  4506.4902 16795.9609   \n",
       "2016-12-31 15660.1797 5537.0000 1829.0800 18319.5801  4266.8398 14952.0195   \n",
       "2017-12-31 19732.4004 7099.2002 2257.8301 22134.4707  5429.0801 18335.6309   \n",
       "2018-12-31 21792.1992 6584.7002 2351.1001 24585.5293  6192.9199 19155.7402   \n",
       "2019-12-31 22686.2207 6692.7002 2447.8899 25064.3594  6463.5000 19561.9609   \n",
       "2020-12-31 18591.9297 4993.8999 2237.3999 21696.1309  6860.6699 16552.8301   \n",
       "2021-12-31 29982.6191 6407.5000 3700.6499 22744.8594 12609.1602 27013.2500   \n",
       "2022-12-31 28725.5098 6826.2002 3577.0300 14687.0195 10213.2900 24717.5293   \n",
       "2023-12-31 31819.1406 7256.8999 3808.1001 16201.4902 10305.2402 25716.8594   \n",
       "2024-12-31 37266.6719 7446.2998 4688.6802 14961.1797 14510.2998 33288.2891   \n",
       "\n",
       "                  max                                                       \n",
       "Index            ^DJI     ^FTSE     ^GSPC       ^HSI      ^IXIC      ^N225  \n",
       "Date                                                                        \n",
       "2015-12-31 18312.3906 7104.0000 2130.8201 28442.7500  5218.8599 20868.0293  \n",
       "2016-12-31 19974.6191 7142.7998 2271.7200 24099.6992  5487.4399 19494.5293  \n",
       "2017-12-31 24837.5098 7687.7998 2690.1599 30003.4902  6994.7598 22939.1797  \n",
       "2018-12-31 26828.3906 7877.5000 2930.7500 33154.1211  8109.6899 24270.6191  \n",
       "2019-12-31 28645.2598 7686.6001 3240.0200 30157.4902  9022.3896 24066.1191  \n",
       "2020-12-31 30606.4805 7674.6001 3756.0701 29056.4199 12899.4199 27568.1504  \n",
       "2021-12-31 36488.6289 7420.7002 4793.0601 31084.9395 16057.4404 30670.0996  \n",
       "2022-12-31 36799.6484 7672.3999 4796.5601 24965.5508 15832.7998 29332.1602  \n",
       "2023-12-31 37710.1016 8014.2998 4783.3501 22688.9004 15099.1797 33753.3281  \n",
       "2024-12-31 39131.5312 7728.5000 5088.7998 16790.8008 16041.6201 39233.7109  "
      ]
     },
     "execution_count": 6,
     "metadata": {},
     "output_type": "execute_result"
    }
   ],
   "source": [
    "b = (\n",
    "    ind\n",
    "    .loc['2015':]\n",
    "    .reset_index()\n",
    "    .groupby([pd.Grouper(key='Date', freq='A'), 'Index'])\n",
    "    ['Close']\n",
    "    .agg(['min', 'max'])\n",
    "    .unstack()\n",
    ")\n",
    "\n",
    "b"
   ]
  },
  {
   "cell_type": "code",
   "execution_count": 7,
   "id": "9ae866b3-4728-47cd-9804-6ea5449075b0",
   "metadata": {},
   "outputs": [
    {
     "data": {
      "text/plain": [
       "True"
      ]
     },
     "execution_count": 7,
     "metadata": {},
     "output_type": "execute_result"
    }
   ],
   "source": [
    "np.allclose(a, b)"
   ]
  },
  {
   "cell_type": "markdown",
   "id": "dbc813ae-f054-42ef-8af9-52399356e544",
   "metadata": {},
   "source": [
    "### Calulate the mean and standard deviation of returns by ticker for the MATANA (MSFT, AAPL, TSLA, AMZN, NVDA, and GOOG) stocks"
   ]
  },
  {
   "cell_type": "markdown",
   "id": "bee430a8-9f9f-4993-abc5-42c6e025f037",
   "metadata": {},
   "source": [
    "Consider only dates with complete returns data.\n",
    "Try this calculation with wide and long data frames, and confirm your results are the same."
   ]
  },
  {
   "cell_type": "code",
   "execution_count": 8,
   "id": "596ded4c-7924-4bc7-96c9-233dde1dee56",
   "metadata": {},
   "outputs": [
    {
     "name": "stderr",
     "output_type": "stream",
     "text": [
      "[*********************100%%**********************]  6 of 6 completed\n"
     ]
    }
   ],
   "source": [
    "matana = (\n",
    "    yf.download(tickers='MSFT AAPL TSLA AMZN NVDA GOOG')\n",
    "    .rename_axis(columns=['Variable', 'Ticker'])\n",
    ")"
   ]
  },
  {
   "cell_type": "markdown",
   "id": "54378681-0b89-4652-8e30-3c30a3b833db",
   "metadata": {},
   "source": [
    "We can add the returns columns first, using the `pd.MultiIndex` trick from a few weeks ago."
   ]
  },
  {
   "cell_type": "code",
   "execution_count": 9,
   "id": "9d0305ca-06e3-4330-90d9-4ab6b22b2fe0",
   "metadata": {},
   "outputs": [],
   "source": [
    "_ = pd.MultiIndex.from_product([['Return'], matana['Adj Close'].columns])\n",
    "matana[_] = matana['Adj Close'].iloc[:-1].pct_change()"
   ]
  },
  {
   "cell_type": "code",
   "execution_count": 10,
   "id": "6a72d6a5-5f5a-40ad-8f21-ff5e6be0996c",
   "metadata": {},
   "outputs": [
    {
     "data": {
      "text/html": [
       "<div>\n",
       "<style scoped>\n",
       "    .dataframe tbody tr th:only-of-type {\n",
       "        vertical-align: middle;\n",
       "    }\n",
       "\n",
       "    .dataframe tbody tr th {\n",
       "        vertical-align: top;\n",
       "    }\n",
       "\n",
       "    .dataframe thead th {\n",
       "        text-align: right;\n",
       "    }\n",
       "</style>\n",
       "<table border=\"1\" class=\"dataframe\">\n",
       "  <thead>\n",
       "    <tr style=\"text-align: right;\">\n",
       "      <th>Ticker</th>\n",
       "      <th>AAPL</th>\n",
       "      <th>AMZN</th>\n",
       "      <th>GOOG</th>\n",
       "      <th>MSFT</th>\n",
       "      <th>NVDA</th>\n",
       "      <th>TSLA</th>\n",
       "    </tr>\n",
       "  </thead>\n",
       "  <tbody>\n",
       "    <tr>\n",
       "      <th>mean</th>\n",
       "      <td>0.0011</td>\n",
       "      <td>0.0012</td>\n",
       "      <td>0.0009</td>\n",
       "      <td>0.0010</td>\n",
       "      <td>0.0021</td>\n",
       "      <td>0.0020</td>\n",
       "    </tr>\n",
       "    <tr>\n",
       "      <th>std</th>\n",
       "      <td>0.0176</td>\n",
       "      <td>0.0207</td>\n",
       "      <td>0.0172</td>\n",
       "      <td>0.0163</td>\n",
       "      <td>0.0283</td>\n",
       "      <td>0.0358</td>\n",
       "    </tr>\n",
       "  </tbody>\n",
       "</table>\n",
       "</div>"
      ],
      "text/plain": [
       "Ticker   AAPL   AMZN   GOOG   MSFT   NVDA   TSLA\n",
       "mean   0.0011 0.0012 0.0009 0.0010 0.0021 0.0020\n",
       "std    0.0176 0.0207 0.0172 0.0163 0.0283 0.0358"
      ]
     },
     "execution_count": 10,
     "metadata": {},
     "output_type": "execute_result"
    }
   ],
   "source": [
    "(\n",
    "    matana['Return']\n",
    "    .dropna()\n",
    "    .describe()\n",
    "    .loc[['mean', 'std']]\n",
    ")"
   ]
  },
  {
   "cell_type": "code",
   "execution_count": 11,
   "id": "dd4de83a-f6ca-4184-bf98-3aaf3685e561",
   "metadata": {},
   "outputs": [],
   "source": [
    "a = (\n",
    "    matana['Return']\n",
    "    .dropna()\n",
    "    .agg(['mean', 'std'])\n",
    ")"
   ]
  },
  {
   "cell_type": "markdown",
   "id": "cbfb19f6-9873-4929-89fb-7f3e4e5f6ba1",
   "metadata": {},
   "source": [
    "Here is the `.pivot_table()` solution!"
   ]
  },
  {
   "cell_type": "code",
   "execution_count": 12,
   "id": "b6d9e116-dacf-44e5-85b6-a4d2233aa133",
   "metadata": {},
   "outputs": [
    {
     "data": {
      "text/html": [
       "<div>\n",
       "<style scoped>\n",
       "    .dataframe tbody tr th:only-of-type {\n",
       "        vertical-align: middle;\n",
       "    }\n",
       "\n",
       "    .dataframe tbody tr th {\n",
       "        vertical-align: top;\n",
       "    }\n",
       "\n",
       "    .dataframe thead tr th {\n",
       "        text-align: left;\n",
       "    }\n",
       "\n",
       "    .dataframe thead tr:last-of-type th {\n",
       "        text-align: right;\n",
       "    }\n",
       "</style>\n",
       "<table border=\"1\" class=\"dataframe\">\n",
       "  <thead>\n",
       "    <tr>\n",
       "      <th></th>\n",
       "      <th>mean</th>\n",
       "      <th>std</th>\n",
       "    </tr>\n",
       "    <tr>\n",
       "      <th>Variable</th>\n",
       "      <th>Return</th>\n",
       "      <th>Return</th>\n",
       "    </tr>\n",
       "    <tr>\n",
       "      <th>Ticker</th>\n",
       "      <th></th>\n",
       "      <th></th>\n",
       "    </tr>\n",
       "  </thead>\n",
       "  <tbody>\n",
       "    <tr>\n",
       "      <th>AAPL</th>\n",
       "      <td>0.0011</td>\n",
       "      <td>0.0176</td>\n",
       "    </tr>\n",
       "    <tr>\n",
       "      <th>AMZN</th>\n",
       "      <td>0.0012</td>\n",
       "      <td>0.0207</td>\n",
       "    </tr>\n",
       "    <tr>\n",
       "      <th>GOOG</th>\n",
       "      <td>0.0009</td>\n",
       "      <td>0.0172</td>\n",
       "    </tr>\n",
       "    <tr>\n",
       "      <th>MSFT</th>\n",
       "      <td>0.0010</td>\n",
       "      <td>0.0163</td>\n",
       "    </tr>\n",
       "    <tr>\n",
       "      <th>NVDA</th>\n",
       "      <td>0.0021</td>\n",
       "      <td>0.0283</td>\n",
       "    </tr>\n",
       "    <tr>\n",
       "      <th>TSLA</th>\n",
       "      <td>0.0020</td>\n",
       "      <td>0.0358</td>\n",
       "    </tr>\n",
       "  </tbody>\n",
       "</table>\n",
       "</div>"
      ],
      "text/plain": [
       "           mean    std\n",
       "Variable Return Return\n",
       "Ticker                \n",
       "AAPL     0.0011 0.0176\n",
       "AMZN     0.0012 0.0207\n",
       "GOOG     0.0009 0.0172\n",
       "MSFT     0.0010 0.0163\n",
       "NVDA     0.0021 0.0283\n",
       "TSLA     0.0020 0.0358"
      ]
     },
     "execution_count": 12,
     "metadata": {},
     "output_type": "execute_result"
    }
   ],
   "source": [
    "b = (\n",
    "    matana\n",
    "    .dropna()\n",
    "    .stack()\n",
    "    .pivot_table(\n",
    "        values='Return',\n",
    "        index='Ticker',\n",
    "        aggfunc=['mean', 'std']\n",
    "    )\n",
    ")\n",
    "\n",
    "b"
   ]
  },
  {
   "cell_type": "code",
   "execution_count": 13,
   "id": "c97f7600-f8cf-4e35-b63a-543759199dfb",
   "metadata": {},
   "outputs": [
    {
     "ename": "ValueError",
     "evalue": "operands could not be broadcast together with shapes (2,6) (6,2) ",
     "output_type": "error",
     "traceback": [
      "\u001b[1;31m---------------------------------------------------------------------------\u001b[0m",
      "\u001b[1;31mValueError\u001b[0m                                Traceback (most recent call last)",
      "Cell \u001b[1;32mIn[13], line 1\u001b[0m\n\u001b[1;32m----> 1\u001b[0m \u001b[43mnp\u001b[49m\u001b[38;5;241;43m.\u001b[39;49m\u001b[43mallclose\u001b[49m\u001b[43m(\u001b[49m\u001b[43ma\u001b[49m\u001b[43m,\u001b[49m\u001b[43m \u001b[49m\u001b[43mb\u001b[49m\u001b[43m)\u001b[49m\n",
      "File \u001b[1;32m~\\AppData\\Local\\miniconda3\\envs\\fina6333\\Lib\\site-packages\\numpy\\core\\numeric.py:2241\u001b[0m, in \u001b[0;36mallclose\u001b[1;34m(a, b, rtol, atol, equal_nan)\u001b[0m\n\u001b[0;32m   2170\u001b[0m \u001b[38;5;129m@array_function_dispatch\u001b[39m(_allclose_dispatcher)\n\u001b[0;32m   2171\u001b[0m \u001b[38;5;28;01mdef\u001b[39;00m \u001b[38;5;21mallclose\u001b[39m(a, b, rtol\u001b[38;5;241m=\u001b[39m\u001b[38;5;241m1.e-5\u001b[39m, atol\u001b[38;5;241m=\u001b[39m\u001b[38;5;241m1.e-8\u001b[39m, equal_nan\u001b[38;5;241m=\u001b[39m\u001b[38;5;28;01mFalse\u001b[39;00m):\n\u001b[0;32m   2172\u001b[0m \u001b[38;5;250m    \u001b[39m\u001b[38;5;124;03m\"\"\"\u001b[39;00m\n\u001b[0;32m   2173\u001b[0m \u001b[38;5;124;03m    Returns True if two arrays are element-wise equal within a tolerance.\u001b[39;00m\n\u001b[0;32m   2174\u001b[0m \n\u001b[1;32m   (...)\u001b[0m\n\u001b[0;32m   2239\u001b[0m \n\u001b[0;32m   2240\u001b[0m \u001b[38;5;124;03m    \"\"\"\u001b[39;00m\n\u001b[1;32m-> 2241\u001b[0m     res \u001b[38;5;241m=\u001b[39m \u001b[38;5;28mall\u001b[39m(\u001b[43misclose\u001b[49m\u001b[43m(\u001b[49m\u001b[43ma\u001b[49m\u001b[43m,\u001b[49m\u001b[43m \u001b[49m\u001b[43mb\u001b[49m\u001b[43m,\u001b[49m\u001b[43m \u001b[49m\u001b[43mrtol\u001b[49m\u001b[38;5;241;43m=\u001b[39;49m\u001b[43mrtol\u001b[49m\u001b[43m,\u001b[49m\u001b[43m \u001b[49m\u001b[43matol\u001b[49m\u001b[38;5;241;43m=\u001b[39;49m\u001b[43matol\u001b[49m\u001b[43m,\u001b[49m\u001b[43m \u001b[49m\u001b[43mequal_nan\u001b[49m\u001b[38;5;241;43m=\u001b[39;49m\u001b[43mequal_nan\u001b[49m\u001b[43m)\u001b[49m)\n\u001b[0;32m   2242\u001b[0m     \u001b[38;5;28;01mreturn\u001b[39;00m \u001b[38;5;28mbool\u001b[39m(res)\n",
      "File \u001b[1;32m~\\AppData\\Local\\miniconda3\\envs\\fina6333\\Lib\\site-packages\\numpy\\core\\numeric.py:2351\u001b[0m, in \u001b[0;36misclose\u001b[1;34m(a, b, rtol, atol, equal_nan)\u001b[0m\n\u001b[0;32m   2349\u001b[0m yfin \u001b[38;5;241m=\u001b[39m isfinite(y)\n\u001b[0;32m   2350\u001b[0m \u001b[38;5;28;01mif\u001b[39;00m \u001b[38;5;28mall\u001b[39m(xfin) \u001b[38;5;129;01mand\u001b[39;00m \u001b[38;5;28mall\u001b[39m(yfin):\n\u001b[1;32m-> 2351\u001b[0m     \u001b[38;5;28;01mreturn\u001b[39;00m \u001b[43mwithin_tol\u001b[49m\u001b[43m(\u001b[49m\u001b[43mx\u001b[49m\u001b[43m,\u001b[49m\u001b[43m \u001b[49m\u001b[43my\u001b[49m\u001b[43m,\u001b[49m\u001b[43m \u001b[49m\u001b[43matol\u001b[49m\u001b[43m,\u001b[49m\u001b[43m \u001b[49m\u001b[43mrtol\u001b[49m\u001b[43m)\u001b[49m\n\u001b[0;32m   2352\u001b[0m \u001b[38;5;28;01melse\u001b[39;00m:\n\u001b[0;32m   2353\u001b[0m     finite \u001b[38;5;241m=\u001b[39m xfin \u001b[38;5;241m&\u001b[39m yfin\n",
      "File \u001b[1;32m~\\AppData\\Local\\miniconda3\\envs\\fina6333\\Lib\\site-packages\\numpy\\core\\numeric.py:2332\u001b[0m, in \u001b[0;36misclose.<locals>.within_tol\u001b[1;34m(x, y, atol, rtol)\u001b[0m\n\u001b[0;32m   2330\u001b[0m \u001b[38;5;28;01mdef\u001b[39;00m \u001b[38;5;21mwithin_tol\u001b[39m(x, y, atol, rtol):\n\u001b[0;32m   2331\u001b[0m     \u001b[38;5;28;01mwith\u001b[39;00m errstate(invalid\u001b[38;5;241m=\u001b[39m\u001b[38;5;124m'\u001b[39m\u001b[38;5;124mignore\u001b[39m\u001b[38;5;124m'\u001b[39m), _no_nep50_warning():\n\u001b[1;32m-> 2332\u001b[0m         \u001b[38;5;28;01mreturn\u001b[39;00m less_equal(\u001b[38;5;28mabs\u001b[39m(\u001b[43mx\u001b[49m\u001b[38;5;241;43m-\u001b[39;49m\u001b[43my\u001b[49m), atol \u001b[38;5;241m+\u001b[39m rtol \u001b[38;5;241m*\u001b[39m \u001b[38;5;28mabs\u001b[39m(y))\n",
      "\u001b[1;31mValueError\u001b[0m: operands could not be broadcast together with shapes (2,6) (6,2) "
     ]
    }
   ],
   "source": [
    "np.allclose(a, b)"
   ]
  },
  {
   "cell_type": "markdown",
   "id": "6213232e-9114-4bab-a75f-ba4e758ea6b8",
   "metadata": {},
   "source": [
    "---"
   ]
  },
  {
   "cell_type": "markdown",
   "id": "22219b79-0811-40ae-a712-ce6937764dac",
   "metadata": {},
   "source": [
    "What if we want to add skewness and kurtosis?\n",
    "There a skewness method built-in, but we have to write a lambda function for kurtosis."
   ]
  },
  {
   "cell_type": "code",
   "execution_count": null,
   "id": "bfe06999-39c1-46a6-99da-ae07f09efe1b",
   "metadata": {},
   "outputs": [],
   "source": [
    "(\n",
    "    matana\n",
    "    .dropna()\n",
    "    .stack()\n",
    "    .pivot_table(\n",
    "        values='Return',\n",
    "        index='Ticker',\n",
    "        aggfunc=['mean', 'std', 'skew', lambda x: x.kurt()]\n",
    "    )\n",
    "    .rename(columns={'<lambda>': 'kurt'})\n",
    ")"
   ]
  },
  {
   "cell_type": "markdown",
   "id": "e34a82a8-7c24-4272-9ae5-3b8044929ebe",
   "metadata": {},
   "source": [
    "Here is the `.groupby()` solution!"
   ]
  },
  {
   "cell_type": "code",
   "execution_count": null,
   "id": "1224ffcd-694a-4e9c-be42-403c2ea9ad3d",
   "metadata": {},
   "outputs": [],
   "source": [
    "c = (\n",
    "    matana\n",
    "    .dropna()\n",
    "    .stack()\n",
    "    .groupby('Ticker')\n",
    "    ['Return']\n",
    "    .agg(['mean', 'std'])\n",
    ")\n",
    "\n",
    "c"
   ]
  },
  {
   "cell_type": "code",
   "execution_count": null,
   "id": "e91b2f34-8848-439d-9140-0006cd1361f2",
   "metadata": {},
   "outputs": [],
   "source": [
    "np.allclose(a, c)"
   ]
  },
  {
   "cell_type": "markdown",
   "id": "6a98e0ba-03a9-4ecc-9adf-6aefb5c3a55d",
   "metadata": {},
   "source": [
    "### Calculate the mean and standard deviation of returns and the maximum of closing prices by ticker for the MATANA stocks"
   ]
  },
  {
   "cell_type": "markdown",
   "id": "5abfa9fa-1735-40f4-a7fd-151a776dbf00",
   "metadata": {},
   "source": [
    "Again, consider only dates with complete returns data.\n",
    "Try this calculation with wide and long data frames, and confirm your results are the same."
   ]
  },
  {
   "cell_type": "code",
   "execution_count": null,
   "id": "a659b57f-5c27-42b0-a396-ef30add7b1a1",
   "metadata": {},
   "outputs": [],
   "source": [
    "a = (\n",
    "    matana\n",
    "    .dropna()\n",
    "    .stack()\n",
    "    .pivot_table(\n",
    "        index='Ticker',\n",
    "        aggfunc={'Return': ['mean', 'std'], 'Close': 'max'}\n",
    "    )\n",
    ")\n",
    "\n",
    "a"
   ]
  },
  {
   "cell_type": "code",
   "execution_count": null,
   "id": "9cccdfc8-f744-4ca8-ac2b-8db2b5c6da96",
   "metadata": {},
   "outputs": [],
   "source": [
    "b = (\n",
    "    matana\n",
    "    .dropna()\n",
    "    .stack()\n",
    "    .groupby('Ticker')\n",
    "    .agg({'Return': ['mean', 'std'], 'Close':'max'})\n",
    ")\n",
    "\n",
    "b"
   ]
  },
  {
   "cell_type": "code",
   "execution_count": null,
   "id": "7eee6a14-f253-4777-820a-d612f84f4af7",
   "metadata": {},
   "outputs": [],
   "source": [
    "np.allclose(a, b)"
   ]
  },
  {
   "cell_type": "markdown",
   "id": "0533a940-f126-42ff-8c4b-e44c56bf8b78",
   "metadata": {},
   "source": [
    "The `.pivot_table()` method sorts it columns, but `groupby()` method does not!\n",
    "We need to sort columns with `.sort_index(axis=1)` to make sure our output is the same!"
   ]
  },
  {
   "cell_type": "code",
   "execution_count": null,
   "id": "0153c38f-d260-4239-93b9-fe937be7a3d6",
   "metadata": {},
   "outputs": [],
   "source": [
    "np.allclose(\n",
    "    a.sort_index(axis=1),\n",
    "    b.sort_index(axis=1)\n",
    ")"
   ]
  },
  {
   "cell_type": "markdown",
   "id": "b185dfcf-68ad-4cd7-b581-7cc2050932a3",
   "metadata": {},
   "source": [
    "---"
   ]
  },
  {
   "cell_type": "markdown",
   "id": "68cb826a-a613-4768-b629-72f1240bc928",
   "metadata": {},
   "source": [
    "We can use the following code to display all index levels for all rows and columns."
   ]
  },
  {
   "cell_type": "code",
   "execution_count": null,
   "id": "0fc72439-e3a1-440c-af13-670c7cec7815",
   "metadata": {},
   "outputs": [],
   "source": [
    "with pd.option_context('display.multi_sparse', False):\n",
    "    display(b)"
   ]
  },
  {
   "cell_type": "markdown",
   "id": "3fc6e62c-b6be-44b7-8fa1-fe62137ad24d",
   "metadata": {},
   "source": [
    "If we prefer to see all index levels all the time, we can set the following setting at the top of our notebook:\n",
    "\n",
    "```\n",
    "pd.options.display.multi_sparse = False\n",
    "```\r\n"
   ]
  },
  {
   "cell_type": "markdown",
   "id": "6eca922d-8a0d-4da4-8c20-59e5e56b93a8",
   "metadata": {},
   "source": [
    "We can also copy our output to our clipboaerd then paste it into Excel if we want to convince ourelves of the column multi index arrangement."
   ]
  },
  {
   "cell_type": "code",
   "execution_count": null,
   "id": "4f07a701-2ea2-4c50-9949-bc537df1d0f5",
   "metadata": {},
   "outputs": [],
   "source": [
    "b.to_clipboard()"
   ]
  },
  {
   "cell_type": "markdown",
   "id": "7187e926-6d17-4783-bea2-825ec7697590",
   "metadata": {},
   "source": [
    "---"
   ]
  },
  {
   "cell_type": "markdown",
   "id": "6038bd49-9fea-415d-8ec0-ece18a9a152e",
   "metadata": {},
   "source": [
    "### Calculate monthly means and volatilities for SPY and GOOG returns"
   ]
  },
  {
   "cell_type": "markdown",
   "id": "b1ba36ef-e562-4ea6-9b26-ee9544d51164",
   "metadata": {},
   "source": [
    "### Plot the monthly means and volatilities from the previous exercise"
   ]
  },
  {
   "cell_type": "markdown",
   "id": "6aad3e07-2e0c-4336-95bd-ea91074fa962",
   "metadata": {},
   "source": [
    "### Assign the Dow Jones stocks to five portfolios based on their monthly volatility"
   ]
  },
  {
   "cell_type": "markdown",
   "id": "52f26592-5736-471f-9059-d3559d867d60",
   "metadata": {},
   "source": [
    "First, we need to download Dow Jones stock data and calculate daily returns.\n",
    "Use data from 2019 through today."
   ]
  },
  {
   "cell_type": "markdown",
   "id": "b93412fb-2c26-4306-a40b-3d2eb1717390",
   "metadata": {},
   "source": [
    "### Plot the time-series volatilities of these five portfolios"
   ]
  },
  {
   "cell_type": "markdown",
   "id": "3d45fa63-1374-4074-b8c4-cd7f25b9a59e",
   "metadata": {},
   "source": [
    "How do these portfolio volatilies compare to (1) each other and (2) the mean volatility of their constituent stocks?"
   ]
  },
  {
   "cell_type": "markdown",
   "id": "71eada9a-058e-4cf1-88b4-7e008d261a89",
   "metadata": {},
   "source": [
    "### Calculate the *mean* monthly correlation between the Dow Jones stocks"
   ]
  },
  {
   "cell_type": "markdown",
   "id": "cd304c1d-3865-4c34-ae5c-31d0dd078a71",
   "metadata": {},
   "source": [
    "Drop duplicate correlations and self correlations (i.e., correlation between AAPL and AAPL), which are 1, by definition."
   ]
  },
  {
   "cell_type": "markdown",
   "id": "1d5dbefb-36eb-4ee1-a098-6bad54e2989e",
   "metadata": {},
   "source": [
    "### Is market volatility higher during wars?"
   ]
  },
  {
   "cell_type": "markdown",
   "id": "bb9359a2-490a-4a4a-a1a0-4ace7a884f95",
   "metadata": {},
   "source": [
    "Here is some guidance:\n",
    "\n",
    "1. Download the daily factor data from Ken French's website\n",
    "1. Calculate daily market returns by summing the market risk premium and risk-free rates (`Mkt-RF` and `RF`, respectively)\n",
    "1. Calculate the volatility (standard deviation) of daily returns *every month* by combining `pd.Grouper()` and `.groupby()`)\n",
    "1. Multiply by $\\sqrt{252}$ to annualize these volatilities of daily returns\n",
    "1. Plot these annualized volatilities\n",
    "\n",
    "Is market volatility higher during wars?\n",
    "Consider the following dates:\n",
    "\n",
    "1. WWII: December 1941 to September 1945\n",
    "1. Korean War: 1950 to 1953\n",
    "1. Viet Nam War: 1959 to 1975\n",
    "1. Gulf War: 1990 to 1991\n",
    "1. War in Afghanistan: 2001 to 2021"
   ]
  }
 ],
 "metadata": {
  "author": "Richard Herron",
  "kernelspec": {
   "display_name": "Python 3 (ipykernel)",
   "language": "python",
   "name": "python3"
  },
  "language_info": {
   "codemirror_mode": {
    "name": "ipython",
    "version": 3
   },
   "file_extension": ".py",
   "mimetype": "text/x-python",
   "name": "python",
   "nbconvert_exporter": "python",
   "pygments_lexer": "ipython3",
   "version": "3.12.1"
  },
  "title": "McKinney Chapter 10 - Practice"
 },
 "nbformat": 4,
 "nbformat_minor": 5
}
