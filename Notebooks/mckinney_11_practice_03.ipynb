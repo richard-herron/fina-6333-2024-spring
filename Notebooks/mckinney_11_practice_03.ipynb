{
 "cells": [
  {
   "cell_type": "markdown",
   "id": "4660c66c-e02d-4f08-a478-475f8bafb27c",
   "metadata": {},
   "source": [
    "# McKinney Chapter 11 - Practice for Section 03"
   ]
  },
  {
   "cell_type": "markdown",
   "id": "04af5727-ac44-4e30-ac17-492039a186f6",
   "metadata": {},
   "source": [
    "## Announcements"
   ]
  },
  {
   "cell_type": "markdown",
   "id": "b5934b57-546f-4a2d-b89b-82ad3a3faad6",
   "metadata": {},
   "source": [
    "##  Practice"
   ]
  },
  {
   "cell_type": "markdown",
   "id": "a4ccc0ef-cba0-4291-bd4f-debf4fc319bb",
   "metadata": {},
   "source": [
    "### Calculate cumulative returns with all available data"
   ]
  },
  {
   "cell_type": "markdown",
   "id": "fd63b185-3308-4582-b17d-d5aab1f50062",
   "metadata": {},
   "source": [
    "### Calculate total returns for each calendar year"
   ]
  },
  {
   "cell_type": "markdown",
   "id": "1ec72011-9e4f-4566-bb81-b16e2effeaea",
   "metadata": {},
   "source": [
    "### Calculate total returns over rolling 252-trading-day windows"
   ]
  },
  {
   "cell_type": "markdown",
   "id": "9f13929f-bbc4-415c-a24b-34e5311a9faf",
   "metadata": {},
   "source": [
    "### Calculate total returns over rolling 12-months windows after calculating monthly returns"
   ]
  },
  {
   "cell_type": "markdown",
   "id": "d53648c2-7d5a-43d4-b578-83dcc7aa0ab2",
   "metadata": {},
   "source": [
    "### Calculate Sharpe Ratios for each calendar year"
   ]
  },
  {
   "cell_type": "markdown",
   "id": "b4545454-7123-4cfd-9950-06d8c3d32eb8",
   "metadata": {
    "tags": []
   },
   "source": [
    "### Calculate rolling betas\n",
    "\n",
    "Calculate rolling capital asset pricing model (CAPM) betas for the MATANA stocks.\n",
    "\n",
    "The CAPM says the risk premium on a stock depends on the risk-free rate, beta, and the risk premium on the market: $E(r_i) = r_f + \\beta_i \\times (E(r_M) - r_f)$.\n",
    "We can calculate CAPM betas as: $\\beta_i = \\frac{Cov(r_i - r_f, r_M - r_f)}{Var(r_M - r_f)}$."
   ]
  },
  {
   "cell_type": "markdown",
   "id": "1e632fe6-c6b7-40b1-b14d-604a75bfe20a",
   "metadata": {
    "tags": []
   },
   "source": [
    "### Calculate rolling Sharpe Ratios"
   ]
  },
  {
   "cell_type": "markdown",
   "id": "23837b2f-083a-47ad-94f7-739160d36ef2",
   "metadata": {},
   "source": [
    "Calculate rolling Sharpe Ratios for the MATANA stocks.\n",
    "\n",
    "The Sharpe Ratio is often used to evaluate fund managers.\n",
    "The Sharpe Ratio is $S_i = \\frac{\\overline{r_i - r_f}}{\\sigma_i}$, where $\\overline{r_i-r_f}$ is mean fund return relative to the risk-free rate over some period and $\\sigma_i$ is the standard deviation of $r_i-r_f$ over the same period.\n",
    "While the Sharpe Ratio is typically used for funds, we can apply it to a single stock to test our knowledge of the `.rolling()` method.\n",
    "Calculate and plot the one-year rolling Sharpe Ratio for the MATANA stocks using all available daily data."
   ]
  }
 ],
 "metadata": {
  "author": "Richard Herron",
  "kernelspec": {
   "display_name": "Python 3 (ipykernel)",
   "language": "python",
   "name": "python3"
  },
  "language_info": {
   "codemirror_mode": {
    "name": "ipython",
    "version": 3
   },
   "file_extension": ".py",
   "mimetype": "text/x-python",
   "name": "python",
   "nbconvert_exporter": "python",
   "pygments_lexer": "ipython3",
   "version": "3.12.1"
  },
  "title": "McKinney Chapter 11 - Practice"
 },
 "nbformat": 4,
 "nbformat_minor": 5
}
