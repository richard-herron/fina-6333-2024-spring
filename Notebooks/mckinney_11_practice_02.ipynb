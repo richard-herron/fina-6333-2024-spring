{
 "cells": [
  {
   "cell_type": "markdown",
   "id": "4660c66c-e02d-4f08-a478-475f8bafb27c",
   "metadata": {},
   "source": [
    "# McKinney Chapter 11 - Practice for Section 02"
   ]
  },
  {
   "cell_type": "markdown",
   "id": "04af5727-ac44-4e30-ac17-492039a186f6",
   "metadata": {},
   "source": [
    "## Announcements"
   ]
  },
  {
   "cell_type": "markdown",
   "id": "b5934b57-546f-4a2d-b89b-82ad3a3faad6",
   "metadata": {},
   "source": [
    "##  Practice"
   ]
  },
  {
   "cell_type": "markdown",
   "id": "fbc78e5e-d1d3-40ac-a515-59ab3f8f29e9",
   "metadata": {},
   "source": [
    "### Calculate cumulative returns with all available data"
   ]
  },
  {
   "cell_type": "markdown",
   "id": "e6ecee65-440d-4016-8462-cdf88a2dfdb0",
   "metadata": {},
   "source": [
    "### Calculate total returns for each calendar year"
   ]
  },
  {
   "cell_type": "markdown",
   "id": "74a54c9f-a497-4de4-8e82-3173dbcd1fa0",
   "metadata": {},
   "source": [
    "### Calculate total returns over rolling 252-trading-day windows"
   ]
  },
  {
   "cell_type": "markdown",
   "id": "97702a26-b05d-43e9-8ed2-515fa123d6f3",
   "metadata": {},
   "source": [
    "### Calculate total returns over rolling 12-months windows after calculating monthly returns"
   ]
  },
  {
   "cell_type": "markdown",
   "id": "21bd30ac-bdad-43f4-81be-f926c78b8b9e",
   "metadata": {},
   "source": [
    "### Calculate Sharpe Ratios for each calendar year"
   ]
  },
  {
   "cell_type": "markdown",
   "id": "e581515e-b559-4587-bbf3-687d4e670fcd",
   "metadata": {
    "tags": []
   },
   "source": [
    "### Calculate rolling betas\n",
    "\n",
    "Calculate rolling capital asset pricing model (CAPM) betas for the MATANA stocks.\n",
    "\n",
    "The CAPM says the risk premium on a stock depends on the risk-free rate, beta, and the risk premium on the market: $E(r_i) = r_f + \\beta_i \\times (E(r_M) - r_f)$.\n",
    "We can calculate CAPM betas as: $\\beta_i = \\frac{Cov(r_i - r_f, r_M - r_f)}{Var(r_M - r_f)}$."
   ]
  },
  {
   "cell_type": "markdown",
   "id": "45ffbd01-8d43-4dcc-a352-87cbcb02c6af",
   "metadata": {
    "tags": []
   },
   "source": [
    "### Calculate rolling Sharpe Ratios"
   ]
  },
  {
   "cell_type": "markdown",
   "id": "eefdc8dc-3c27-42f2-925a-7dfc601f14a0",
   "metadata": {},
   "source": [
    "Calculate rolling Sharpe Ratios for the MATANA stocks.\n",
    "\n",
    "The Sharpe Ratio is often used to evaluate fund managers.\n",
    "The Sharpe Ratio is $S_i = \\frac{\\overline{r_i - r_f}}{\\sigma_i}$, where $\\overline{r_i-r_f}$ is mean fund return relative to the risk-free rate over some period and $\\sigma_i$ is the standard deviation of $r_i-r_f$ over the same period.\n",
    "While the Sharpe Ratio is typically used for funds, we can apply it to a single stock to test our knowledge of the `.rolling()` method.\n",
    "Calculate and plot the one-year rolling Sharpe Ratio for the MATANA stocks using all available daily data."
   ]
  }
 ],
 "metadata": {
  "author": "Richard Herron",
  "kernelspec": {
   "display_name": "Python 3 (ipykernel)",
   "language": "python",
   "name": "python3"
  },
  "language_info": {
   "codemirror_mode": {
    "name": "ipython",
    "version": 3
   },
   "file_extension": ".py",
   "mimetype": "text/x-python",
   "name": "python",
   "nbconvert_exporter": "python",
   "pygments_lexer": "ipython3",
   "version": "3.12.1"
  },
  "title": "McKinney Chapter 11 - Practice"
 },
 "nbformat": 4,
 "nbformat_minor": 5
}
