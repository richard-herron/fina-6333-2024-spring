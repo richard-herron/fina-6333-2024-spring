{
 "cells": [
  {
   "cell_type": "code",
   "execution_count": 1,
   "id": "30e6c05b-2c04-4a6f-b055-a4681e5d800e",
   "metadata": {},
   "outputs": [
    {
     "data": {
      "text/plain": [
       "'%.4f'"
      ]
     },
     "execution_count": 1,
     "metadata": {},
     "output_type": "execute_result"
    }
   ],
   "source": [
    "%precision 4"
   ]
  },
  {
   "cell_type": "code",
   "execution_count": 2,
   "id": "e6e0e2ba-b791-4d86-b881-542b1a11e928",
   "metadata": {},
   "outputs": [
    {
     "data": {
      "text/plain": [
       "2.0000"
      ]
     },
     "execution_count": 2,
     "metadata": {},
     "output_type": "execute_result"
    }
   ],
   "source": [
    "2.0000001"
   ]
  },
  {
   "cell_type": "code",
   "execution_count": null,
   "id": "0d4b4b74-e2df-46ca-92ac-e38cf72b8422",
   "metadata": {},
   "outputs": [],
   "source": []
  },
  {
   "cell_type": "code",
   "execution_count": 3,
   "id": "1cf2735f-aa4f-4ceb-9544-cdfa5d5f22fe",
   "metadata": {},
   "outputs": [
    {
     "data": {
      "text/plain": [
       "'%r'"
      ]
     },
     "execution_count": 3,
     "metadata": {},
     "output_type": "execute_result"
    }
   ],
   "source": [
    "%precision"
   ]
  },
  {
   "cell_type": "code",
   "execution_count": 4,
   "id": "f3ac0d25-870f-4269-9b0f-89560096c5b6",
   "metadata": {},
   "outputs": [
    {
     "data": {
      "text/plain": [
       "2.0000001"
      ]
     },
     "execution_count": 4,
     "metadata": {},
     "output_type": "execute_result"
    }
   ],
   "source": [
    "2.0000001"
   ]
  },
  {
   "cell_type": "code",
   "execution_count": null,
   "id": "e1bf2780-f8d5-4857-8901-e9dc73596914",
   "metadata": {},
   "outputs": [],
   "source": []
  }
 ],
 "metadata": {
  "kernelspec": {
   "display_name": "Python 3 (ipykernel)",
   "language": "python",
   "name": "python3"
  },
  "language_info": {
   "codemirror_mode": {
    "name": "ipython",
    "version": 3
   },
   "file_extension": ".py",
   "mimetype": "text/x-python",
   "name": "python",
   "nbconvert_exporter": "python",
   "pygments_lexer": "ipython3",
   "version": "3.12.1"
  }
 },
 "nbformat": 4,
 "nbformat_minor": 5
}
