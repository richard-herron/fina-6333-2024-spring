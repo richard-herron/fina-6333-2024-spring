{
 "cells": [
  {
   "cell_type": "markdown",
   "id": "c6ca4c10-e13e-4d15-abeb-235009f50d96",
   "metadata": {
    "editable": true,
    "slideshow": {
     "slide_type": ""
    },
    "tags": []
   },
   "source": [
    "# Herron Topic 4 - Portfolio Optimization"
   ]
  },
  {
   "cell_type": "markdown",
   "id": "8e9e7b8b-10d4-4169-8d91-7cfecfe3f0b3",
   "metadata": {
    "tags": []
   },
   "source": [
    "This notebook covers portfolio optimization.\n",
    "I have not found a perfect reference that combines portfolio optimization and Python, but here are two references that I find useful:\n",
    "\n",
    "1. Ivo Welch discusses the mathematics and finance of portfolio optimization in [Chapter 12 of his draft textbook on investments](https://book.ivo-welch.info/bookg.pdf#chapter.12).\n",
    "1. Eryk Lewinson provides Python code for portfolio optimization in chapter 7 of his [*Python for Finance Cookbook*](https://onesearch.library.northeastern.edu/permalink/01NEU_INST/i2gqis/alma9952082522901401), but he uses several packages that are either non-free or abandoned.\n",
    "\n",
    "In this notebook, we will:\n",
    "\n",
    "1. Review the $\\frac{1}{n}$ portfolio (or equal-weighted portfolio) from [Herron Topic 1](herron_01_lecture.ipynb)\n",
    "1. Use SciPy's `minimize()` function to:\n",
    "    1. Find the minimum variance portfolio\n",
    "    1. Find the (mean-variance) efficient frontier\n",
    "\n",
    "In the practice notebook, we will use SciPy's `minimize()` function to achieve any objective."
   ]
  },
  {
   "cell_type": "code",
   "execution_count": 1,
   "id": "3f2f6392-c521-4053-9314-1c54c6201a83",
   "metadata": {
    "editable": true
   },
   "outputs": [],
   "source": [
    "import matplotlib.pyplot as plt\n",
    "import numpy as np\n",
    "import pandas as pd\n",
    "import pandas_datareader as pdr\n",
    "import yfinance as yf"
   ]
  },
  {
   "cell_type": "code",
   "execution_count": 2,
   "id": "c5c13f4c-9a2e-4858-86be-1fe80ffe4cf4",
   "metadata": {},
   "outputs": [],
   "source": [
    "%precision 4\n",
    "pd.options.display.float_format = '{:.4f}'.format\n",
    "%config InlineBackend.figure_format = 'retina'"
   ]
  },
  {
   "cell_type": "markdown",
   "id": "d1e81845-23e9-4ab7-a15e-6fe886e2d366",
   "metadata": {},
   "source": [
    "## The $\\frac{1}{n}$ Portfolio"
   ]
  },
  {
   "cell_type": "markdown",
   "id": "318c6b13-2a24-4d9f-9b0a-b7580703384f",
   "metadata": {},
   "source": [
    "We first saw the $\\frac{1}{n}$ portfolio (or equal-weighted portfolio) in [Herron Topic 1](herron_01_lecture.ipynb).\n",
    "In the $\\frac{1}{n}$ portfolio, each of $n$ assets receives an equal portfolio weight $w_i = \\frac{1}{n}$.\n",
    "While the $\\frac{1}{n}$ strategy seems too simple to be useful, DeMiguel, Garlappi, and Uppal (2007) show that it is difficult to beat $\\frac{1}{n}$ strategy, even with more advanced strategies."
   ]
  },
  {
   "cell_type": "code",
   "execution_count": 4,
   "id": "3b7223a1-7b97-4d4f-b01c-9df48ed3338a",
   "metadata": {
    "ExecuteTime": {
     "end_time": "2020-01-27T22:40:05.074684Z",
     "start_time": "2020-01-27T22:40:00.619657Z"
    }
   },
   "outputs": [
    {
     "name": "stderr",
     "output_type": "stream",
     "text": [
      "[*********************100%%**********************]  6 of 6 completed\n"
     ]
    },
    {
     "data": {
      "text/html": [
       "<div>\n",
       "<style scoped>\n",
       "    .dataframe tbody tr th:only-of-type {\n",
       "        vertical-align: middle;\n",
       "    }\n",
       "\n",
       "    .dataframe tbody tr th {\n",
       "        vertical-align: top;\n",
       "    }\n",
       "\n",
       "    .dataframe thead tr th {\n",
       "        text-align: left;\n",
       "    }\n",
       "\n",
       "    .dataframe thead tr:last-of-type th {\n",
       "        text-align: right;\n",
       "    }\n",
       "</style>\n",
       "<table border=\"1\" class=\"dataframe\">\n",
       "  <thead>\n",
       "    <tr>\n",
       "      <th>Variable</th>\n",
       "      <th colspan=\"6\" halign=\"left\">Adj Close</th>\n",
       "      <th colspan=\"4\" halign=\"left\">Close</th>\n",
       "      <th>...</th>\n",
       "      <th colspan=\"4\" halign=\"left\">Open</th>\n",
       "      <th colspan=\"6\" halign=\"left\">Volume</th>\n",
       "    </tr>\n",
       "    <tr>\n",
       "      <th>Ticker</th>\n",
       "      <th>AAPL</th>\n",
       "      <th>AMZN</th>\n",
       "      <th>GOOG</th>\n",
       "      <th>MSFT</th>\n",
       "      <th>NVDA</th>\n",
       "      <th>TSLA</th>\n",
       "      <th>AAPL</th>\n",
       "      <th>AMZN</th>\n",
       "      <th>GOOG</th>\n",
       "      <th>MSFT</th>\n",
       "      <th>...</th>\n",
       "      <th>GOOG</th>\n",
       "      <th>MSFT</th>\n",
       "      <th>NVDA</th>\n",
       "      <th>TSLA</th>\n",
       "      <th>AAPL</th>\n",
       "      <th>AMZN</th>\n",
       "      <th>GOOG</th>\n",
       "      <th>MSFT</th>\n",
       "      <th>NVDA</th>\n",
       "      <th>TSLA</th>\n",
       "    </tr>\n",
       "    <tr>\n",
       "      <th>Date</th>\n",
       "      <th></th>\n",
       "      <th></th>\n",
       "      <th></th>\n",
       "      <th></th>\n",
       "      <th></th>\n",
       "      <th></th>\n",
       "      <th></th>\n",
       "      <th></th>\n",
       "      <th></th>\n",
       "      <th></th>\n",
       "      <th></th>\n",
       "      <th></th>\n",
       "      <th></th>\n",
       "      <th></th>\n",
       "      <th></th>\n",
       "      <th></th>\n",
       "      <th></th>\n",
       "      <th></th>\n",
       "      <th></th>\n",
       "      <th></th>\n",
       "      <th></th>\n",
       "    </tr>\n",
       "  </thead>\n",
       "  <tbody>\n",
       "    <tr>\n",
       "      <th>2024-03-28</th>\n",
       "      <td>171.4800</td>\n",
       "      <td>180.3800</td>\n",
       "      <td>152.2600</td>\n",
       "      <td>420.7200</td>\n",
       "      <td>903.5600</td>\n",
       "      <td>175.7900</td>\n",
       "      <td>171.4800</td>\n",
       "      <td>180.3800</td>\n",
       "      <td>152.2600</td>\n",
       "      <td>420.7200</td>\n",
       "      <td>...</td>\n",
       "      <td>152.0000</td>\n",
       "      <td>420.9600</td>\n",
       "      <td>900.0000</td>\n",
       "      <td>177.4500</td>\n",
       "      <td>65672700</td>\n",
       "      <td>38051600.0000</td>\n",
       "      <td>21105600.0000</td>\n",
       "      <td>21871200.0000</td>\n",
       "      <td>43521200.0000</td>\n",
       "      <td>77654800.0000</td>\n",
       "    </tr>\n",
       "    <tr>\n",
       "      <th>2024-04-01</th>\n",
       "      <td>170.0300</td>\n",
       "      <td>180.9700</td>\n",
       "      <td>156.5000</td>\n",
       "      <td>424.5700</td>\n",
       "      <td>903.6300</td>\n",
       "      <td>175.2200</td>\n",
       "      <td>170.0300</td>\n",
       "      <td>180.9700</td>\n",
       "      <td>156.5000</td>\n",
       "      <td>424.5700</td>\n",
       "      <td>...</td>\n",
       "      <td>151.8300</td>\n",
       "      <td>423.9500</td>\n",
       "      <td>902.9900</td>\n",
       "      <td>176.1700</td>\n",
       "      <td>46240500</td>\n",
       "      <td>29174500.0000</td>\n",
       "      <td>24469800.0000</td>\n",
       "      <td>16316000.0000</td>\n",
       "      <td>45244100.0000</td>\n",
       "      <td>81562100.0000</td>\n",
       "    </tr>\n",
       "    <tr>\n",
       "      <th>2024-04-02</th>\n",
       "      <td>168.8400</td>\n",
       "      <td>180.6900</td>\n",
       "      <td>155.8700</td>\n",
       "      <td>421.4400</td>\n",
       "      <td>894.5200</td>\n",
       "      <td>166.6300</td>\n",
       "      <td>168.8400</td>\n",
       "      <td>180.6900</td>\n",
       "      <td>155.8700</td>\n",
       "      <td>421.4400</td>\n",
       "      <td>...</td>\n",
       "      <td>154.7500</td>\n",
       "      <td>420.1100</td>\n",
       "      <td>884.4800</td>\n",
       "      <td>164.7500</td>\n",
       "      <td>49329500</td>\n",
       "      <td>32611500.0000</td>\n",
       "      <td>17598100.0000</td>\n",
       "      <td>17912000.0000</td>\n",
       "      <td>43306400.0000</td>\n",
       "      <td>116650600.0000</td>\n",
       "    </tr>\n",
       "    <tr>\n",
       "      <th>2024-04-03</th>\n",
       "      <td>169.6500</td>\n",
       "      <td>182.4100</td>\n",
       "      <td>156.3700</td>\n",
       "      <td>420.4500</td>\n",
       "      <td>889.6400</td>\n",
       "      <td>168.3800</td>\n",
       "      <td>169.6500</td>\n",
       "      <td>182.4100</td>\n",
       "      <td>156.3700</td>\n",
       "      <td>420.4500</td>\n",
       "      <td>...</td>\n",
       "      <td>154.9200</td>\n",
       "      <td>419.7300</td>\n",
       "      <td>884.8400</td>\n",
       "      <td>164.0200</td>\n",
       "      <td>47602100</td>\n",
       "      <td>30959800.0000</td>\n",
       "      <td>17218400.0000</td>\n",
       "      <td>16475600.0000</td>\n",
       "      <td>36845000.0000</td>\n",
       "      <td>82578000.0000</td>\n",
       "    </tr>\n",
       "    <tr>\n",
       "      <th>2024-04-04</th>\n",
       "      <td>168.8200</td>\n",
       "      <td>180.0000</td>\n",
       "      <td>151.9400</td>\n",
       "      <td>417.8800</td>\n",
       "      <td>859.0500</td>\n",
       "      <td>171.1100</td>\n",
       "      <td>168.8200</td>\n",
       "      <td>180.0000</td>\n",
       "      <td>151.9400</td>\n",
       "      <td>417.8800</td>\n",
       "      <td>...</td>\n",
       "      <td>155.0800</td>\n",
       "      <td>424.9900</td>\n",
       "      <td>904.0600</td>\n",
       "      <td>170.0700</td>\n",
       "      <td>53582300</td>\n",
       "      <td>41543000.0000</td>\n",
       "      <td>24114800.0000</td>\n",
       "      <td>19330000.0000</td>\n",
       "      <td>43300900.0000</td>\n",
       "      <td>122832800.0000</td>\n",
       "    </tr>\n",
       "  </tbody>\n",
       "</table>\n",
       "<p>5 rows × 36 columns</p>\n",
       "</div>"
      ],
      "text/plain": [
       "Variable   Adj Close                                                 Close  \\\n",
       "Ticker          AAPL     AMZN     GOOG     MSFT     NVDA     TSLA     AAPL   \n",
       "Date                                                                         \n",
       "2024-03-28  171.4800 180.3800 152.2600 420.7200 903.5600 175.7900 171.4800   \n",
       "2024-04-01  170.0300 180.9700 156.5000 424.5700 903.6300 175.2200 170.0300   \n",
       "2024-04-02  168.8400 180.6900 155.8700 421.4400 894.5200 166.6300 168.8400   \n",
       "2024-04-03  169.6500 182.4100 156.3700 420.4500 889.6400 168.3800 169.6500   \n",
       "2024-04-04  168.8200 180.0000 151.9400 417.8800 859.0500 171.1100 168.8200   \n",
       "\n",
       "Variable                               ...     Open                    \\\n",
       "Ticker         AMZN     GOOG     MSFT  ...     GOOG     MSFT     NVDA   \n",
       "Date                                   ...                              \n",
       "2024-03-28 180.3800 152.2600 420.7200  ... 152.0000 420.9600 900.0000   \n",
       "2024-04-01 180.9700 156.5000 424.5700  ... 151.8300 423.9500 902.9900   \n",
       "2024-04-02 180.6900 155.8700 421.4400  ... 154.7500 420.1100 884.4800   \n",
       "2024-04-03 182.4100 156.3700 420.4500  ... 154.9200 419.7300 884.8400   \n",
       "2024-04-04 180.0000 151.9400 417.8800  ... 155.0800 424.9900 904.0600   \n",
       "\n",
       "Variable               Volume                                            \\\n",
       "Ticker         TSLA      AAPL          AMZN          GOOG          MSFT   \n",
       "Date                                                                      \n",
       "2024-03-28 177.4500  65672700 38051600.0000 21105600.0000 21871200.0000   \n",
       "2024-04-01 176.1700  46240500 29174500.0000 24469800.0000 16316000.0000   \n",
       "2024-04-02 164.7500  49329500 32611500.0000 17598100.0000 17912000.0000   \n",
       "2024-04-03 164.0200  47602100 30959800.0000 17218400.0000 16475600.0000   \n",
       "2024-04-04 170.0700  53582300 41543000.0000 24114800.0000 19330000.0000   \n",
       "\n",
       "Variable                                 \n",
       "Ticker              NVDA           TSLA  \n",
       "Date                                     \n",
       "2024-03-28 43521200.0000  77654800.0000  \n",
       "2024-04-01 45244100.0000  81562100.0000  \n",
       "2024-04-02 43306400.0000 116650600.0000  \n",
       "2024-04-03 36845000.0000  82578000.0000  \n",
       "2024-04-04 43300900.0000 122832800.0000  \n",
       "\n",
       "[5 rows x 36 columns]"
      ]
     },
     "execution_count": 4,
     "metadata": {},
     "output_type": "execute_result"
    }
   ],
   "source": [
    "tickers = 'MSFT AAPL TSLA AMZN NVDA GOOG'\n",
    "\n",
    "matana = (\n",
    "    yf.download(tickers=tickers)\n",
    "    .rename_axis(columns=['Variable', 'Ticker'])\n",
    ")\n",
    "\n",
    "matana.tail()"
   ]
  },
  {
   "cell_type": "code",
   "execution_count": 5,
   "id": "a2d0de07-6ee5-45bd-a6f2-78f95a1da555",
   "metadata": {
    "ExecuteTime": {
     "end_time": "2019-12-06T18:05:52.060088Z",
     "start_time": "2019-12-06T18:05:52.047752Z"
    }
   },
   "outputs": [
    {
     "data": {
      "text/html": [
       "<div>\n",
       "<style scoped>\n",
       "    .dataframe tbody tr th:only-of-type {\n",
       "        vertical-align: middle;\n",
       "    }\n",
       "\n",
       "    .dataframe tbody tr th {\n",
       "        vertical-align: top;\n",
       "    }\n",
       "\n",
       "    .dataframe thead th {\n",
       "        text-align: right;\n",
       "    }\n",
       "</style>\n",
       "<table border=\"1\" class=\"dataframe\">\n",
       "  <thead>\n",
       "    <tr style=\"text-align: right;\">\n",
       "      <th>Ticker</th>\n",
       "      <th>AAPL</th>\n",
       "      <th>AMZN</th>\n",
       "      <th>GOOG</th>\n",
       "      <th>MSFT</th>\n",
       "      <th>NVDA</th>\n",
       "      <th>TSLA</th>\n",
       "    </tr>\n",
       "  </thead>\n",
       "  <tbody>\n",
       "    <tr>\n",
       "      <th>count</th>\n",
       "      <td>756.0000</td>\n",
       "      <td>756.0000</td>\n",
       "      <td>756.0000</td>\n",
       "      <td>756.0000</td>\n",
       "      <td>756.0000</td>\n",
       "      <td>756.0000</td>\n",
       "    </tr>\n",
       "    <tr>\n",
       "      <th>mean</th>\n",
       "      <td>0.0006</td>\n",
       "      <td>0.0005</td>\n",
       "      <td>0.0007</td>\n",
       "      <td>0.0009</td>\n",
       "      <td>0.0031</td>\n",
       "      <td>0.0003</td>\n",
       "    </tr>\n",
       "    <tr>\n",
       "      <th>std</th>\n",
       "      <td>0.0169</td>\n",
       "      <td>0.0235</td>\n",
       "      <td>0.0198</td>\n",
       "      <td>0.0173</td>\n",
       "      <td>0.0335</td>\n",
       "      <td>0.0356</td>\n",
       "    </tr>\n",
       "    <tr>\n",
       "      <th>min</th>\n",
       "      <td>-0.0587</td>\n",
       "      <td>-0.1405</td>\n",
       "      <td>-0.0963</td>\n",
       "      <td>-0.0772</td>\n",
       "      <td>-0.0947</td>\n",
       "      <td>-0.1224</td>\n",
       "    </tr>\n",
       "    <tr>\n",
       "      <th>25%</th>\n",
       "      <td>-0.0085</td>\n",
       "      <td>-0.0123</td>\n",
       "      <td>-0.0097</td>\n",
       "      <td>-0.0081</td>\n",
       "      <td>-0.0161</td>\n",
       "      <td>-0.0194</td>\n",
       "    </tr>\n",
       "    <tr>\n",
       "      <th>50%</th>\n",
       "      <td>0.0006</td>\n",
       "      <td>0.0003</td>\n",
       "      <td>0.0010</td>\n",
       "      <td>0.0003</td>\n",
       "      <td>0.0030</td>\n",
       "      <td>0.0014</td>\n",
       "    </tr>\n",
       "    <tr>\n",
       "      <th>75%</th>\n",
       "      <td>0.0102</td>\n",
       "      <td>0.0129</td>\n",
       "      <td>0.0110</td>\n",
       "      <td>0.0110</td>\n",
       "      <td>0.0211</td>\n",
       "      <td>0.0190</td>\n",
       "    </tr>\n",
       "    <tr>\n",
       "      <th>max</th>\n",
       "      <td>0.0890</td>\n",
       "      <td>0.1354</td>\n",
       "      <td>0.0775</td>\n",
       "      <td>0.0823</td>\n",
       "      <td>0.2437</td>\n",
       "      <td>0.1353</td>\n",
       "    </tr>\n",
       "  </tbody>\n",
       "</table>\n",
       "</div>"
      ],
      "text/plain": [
       "Ticker     AAPL     AMZN     GOOG     MSFT     NVDA     TSLA\n",
       "count  756.0000 756.0000 756.0000 756.0000 756.0000 756.0000\n",
       "mean     0.0006   0.0005   0.0007   0.0009   0.0031   0.0003\n",
       "std      0.0169   0.0235   0.0198   0.0173   0.0335   0.0356\n",
       "min     -0.0587  -0.1405  -0.0963  -0.0772  -0.0947  -0.1224\n",
       "25%     -0.0085  -0.0123  -0.0097  -0.0081  -0.0161  -0.0194\n",
       "50%      0.0006   0.0003   0.0010   0.0003   0.0030   0.0014\n",
       "75%      0.0102   0.0129   0.0110   0.0110   0.0211   0.0190\n",
       "max      0.0890   0.1354   0.0775   0.0823   0.2437   0.1353"
      ]
     },
     "execution_count": 5,
     "metadata": {},
     "output_type": "execute_result"
    }
   ],
   "source": [
    "returns = (\n",
    "    matana['Adj Close']\n",
    "    .iloc[:-1]\n",
    "    .pct_change()\n",
    "    .iloc[(-3 * 252):]\n",
    ")\n",
    "\n",
    "returns.describe()"
   ]
  },
  {
   "cell_type": "markdown",
   "id": "9b6e1fb9-e0ec-4f0b-8b86-094aed5b452f",
   "metadata": {},
   "source": [
    "Before we revisit the advanced techniques from [Herron Topic 1](herron_01_lecture), we can calculate $\\frac{1}{n}$ portfolio returns manually, where $r_P = \\frac{\\sum_{i}^{n} r_i}{n}$\n",
    "Since our weights are constant (i.e., do not change over time), we rebalance our portfolio every return period.\n",
    "If we have daily data, rebalance daily.\n",
    "If we have monthly data, we rebalance monthly, and so on."
   ]
  },
  {
   "cell_type": "code",
   "execution_count": 6,
   "id": "59f9cd2e-5e5e-4db7-a485-20d1ad1dd2e5",
   "metadata": {},
   "outputs": [
    {
     "data": {
      "text/plain": [
       "count   756.0000\n",
       "mean      0.0010\n",
       "std       0.0195\n",
       "min      -0.0632\n",
       "25%      -0.0101\n",
       "50%       0.0014\n",
       "75%       0.0121\n",
       "max       0.0980\n",
       "dtype: float64"
      ]
     },
     "execution_count": 6,
     "metadata": {},
     "output_type": "execute_result"
    }
   ],
   "source": [
    "n = returns.shape[1]\n",
    "p1 = returns.sum(axis=1).div(n)\n",
    "\n",
    "p1.describe()"
   ]
  },
  {
   "cell_type": "markdown",
   "id": "33bb0dab-0f32-4270-8208-ffdd036a561e",
   "metadata": {},
   "source": [
    "Recall from [Herron Topic 1](herron_01_lecture) we have two better options:\n",
    "\n",
    "1. The `.mean(axis=1)` method for the $\\frac{1}{n}$ portfolio\n",
    "1. The `.dot(weights)` method where `weights` is a pandas series or NumPy array of portfolio weights, allowing different weights for each asset"
   ]
  },
  {
   "cell_type": "code",
   "execution_count": 7,
   "id": "6bfa0576-5e28-4e11-8f0f-758af7269913",
   "metadata": {},
   "outputs": [
    {
     "data": {
      "text/plain": [
       "count   756.0000\n",
       "mean      0.0010\n",
       "std       0.0195\n",
       "min      -0.0632\n",
       "25%      -0.0101\n",
       "50%       0.0014\n",
       "75%       0.0121\n",
       "max       0.0980\n",
       "dtype: float64"
      ]
     },
     "execution_count": 7,
     "metadata": {},
     "output_type": "execute_result"
    }
   ],
   "source": [
    "p2 = returns.mean(axis=1)\n",
    "\n",
    "p2.describe()"
   ]
  },
  {
   "cell_type": "code",
   "execution_count": 8,
   "id": "3f414a82-bec1-46aa-bd60-8ebdef2ac470",
   "metadata": {},
   "outputs": [
    {
     "data": {
      "text/plain": [
       "array([0.1667, 0.1667, 0.1667, 0.1667, 0.1667, 0.1667])"
      ]
     },
     "execution_count": 8,
     "metadata": {},
     "output_type": "execute_result"
    }
   ],
   "source": [
    "weights = np.ones(n) / n\n",
    "\n",
    "weights"
   ]
  },
  {
   "cell_type": "code",
   "execution_count": 9,
   "id": "6d2bfedb-2c2a-46a9-bf1a-6d5fa2b1b6e4",
   "metadata": {},
   "outputs": [
    {
     "data": {
      "text/plain": [
       "count   756.0000\n",
       "mean      0.0010\n",
       "std       0.0195\n",
       "min      -0.0632\n",
       "25%      -0.0101\n",
       "50%       0.0014\n",
       "75%       0.0121\n",
       "max       0.0980\n",
       "dtype: float64"
      ]
     },
     "execution_count": 9,
     "metadata": {},
     "output_type": "execute_result"
    }
   ],
   "source": [
    "p3 = returns.dot(weights)\n",
    "\n",
    "p3.describe()"
   ]
  },
  {
   "cell_type": "markdown",
   "id": "98e4efc4-0fcc-4aff-bcb5-84208c8b5001",
   "metadata": {},
   "source": [
    "The `.describe()` method provides summary statistics for data, letting us make quick comparisons.\n",
    "However, we should use `np.allclose()` if we want to be sure that `p1`, `p2`, and `p3` are similar."
   ]
  },
  {
   "cell_type": "code",
   "execution_count": 10,
   "id": "0e4d5f54-8ab8-4458-96f5-0f6bc1b2a7e8",
   "metadata": {},
   "outputs": [
    {
     "data": {
      "text/plain": [
       "True"
      ]
     },
     "execution_count": 10,
     "metadata": {},
     "output_type": "execute_result"
    }
   ],
   "source": [
    "np.allclose(p1, p2)"
   ]
  },
  {
   "cell_type": "code",
   "execution_count": 11,
   "id": "68ba53a0-58f5-4bb1-9f0c-f9b1111d6499",
   "metadata": {},
   "outputs": [
    {
     "data": {
      "text/plain": [
       "True"
      ]
     },
     "execution_count": 11,
     "metadata": {},
     "output_type": "execute_result"
    }
   ],
   "source": [
    "np.allclose(p1, p3)"
   ]
  },
  {
   "cell_type": "markdown",
   "id": "1c62dd23-03c2-47d6-b233-a6df780592c5",
   "metadata": {},
   "source": [
    "---"
   ]
  },
  {
   "cell_type": "markdown",
   "id": "195c9e19-8c17-4f14-8b71-24c9745f3c29",
   "metadata": {},
   "source": [
    "Here is a simple example to help understand the `.dot()` method."
   ]
  },
  {
   "cell_type": "code",
   "execution_count": 12,
   "id": "fd36dc53-1621-429c-9874-624b0df394e5",
   "metadata": {},
   "outputs": [],
   "source": [
    "silly_n = 3\n",
    "silly_r = pd.DataFrame(np.arange(2*silly_n).reshape(2, silly_n))\n",
    "silly_w = np.ones(3) / 3"
   ]
  },
  {
   "cell_type": "code",
   "execution_count": 13,
   "id": "27b4dc37-f3a3-42af-a86a-d608acf175da",
   "metadata": {},
   "outputs": [
    {
     "name": "stdout",
     "output_type": "stream",
     "text": [
      "silly_n:\n",
      "3\n",
      "\n",
      "silly_r:\n",
      "   0  1  2\n",
      "0  0  1  2\n",
      "1  3  4  5\n",
      "\n",
      "silly_w:\n",
      "[0.3333 0.3333 0.3333]\n"
     ]
    }
   ],
   "source": [
    "print(\n",
    "    f'silly_n:\\n{silly_n}',\n",
    "    f'silly_r:\\n{silly_r}',\n",
    "    f'silly_w:\\n{silly_w}',\n",
    "    sep='\\n\\n'\n",
    ")"
   ]
  },
  {
   "cell_type": "code",
   "execution_count": 14,
   "id": "a15492fc-9a05-4253-8fa3-ba43cde70447",
   "metadata": {},
   "outputs": [
    {
     "data": {
      "text/plain": [
       "0   1.0000\n",
       "1   4.0000\n",
       "dtype: float64"
      ]
     },
     "execution_count": 14,
     "metadata": {},
     "output_type": "execute_result"
    }
   ],
   "source": [
    "silly_r.dot(silly_w)"
   ]
  },
  {
   "cell_type": "markdown",
   "id": "31e1c510-e973-4a4c-9429-d125c4faebcc",
   "metadata": {},
   "source": [
    "Under the hood, Python and the `.dot()` method (effectively) do the following calculation:"
   ]
  },
  {
   "cell_type": "code",
   "execution_count": 15,
   "id": "3c97d48e-bc76-4cae-a1da-b35e4510df3e",
   "metadata": {},
   "outputs": [
    {
     "name": "stdout",
     "output_type": "stream",
     "text": [
      "Row 0:  0.33 * 0 + 0.33 * 1 + 0.33 * 2  =  1.00\n",
      "Row 1:  0.33 * 3 + 0.33 * 4 + 0.33 * 5  =  4.00\n"
     ]
    }
   ],
   "source": [
    "for i, row in silly_r.iterrows():\n",
    "    print(\n",
    "        f'Row {i}: ',\n",
    "        ' + '.join([f'{w:0.2f} * {y}' for w, y in zip(silly_w, row)]),\n",
    "        ' = ',\n",
    "        f'{silly_r.dot(silly_w).iloc[i]:0.2f}'\n",
    "    )"
   ]
  },
  {
   "cell_type": "markdown",
   "id": "98f464e3-d32e-4f5a-8163-abab50721401",
   "metadata": {},
   "source": [
    "---"
   ]
  },
  {
   "cell_type": "markdown",
   "id": "61758ea1-59a8-464e-a9ed-39d601a7868b",
   "metadata": {},
   "source": [
    "## SciPy's `minimize()` Function "
   ]
  },
  {
   "cell_type": "markdown",
   "id": "5089415d-9a80-4ccf-93f2-0eb146ab63d3",
   "metadata": {
    "tags": []
   },
   "source": [
    "### A Crash Course in SciPy's `minimize()` Function"
   ]
  },
  {
   "cell_type": "markdown",
   "id": "bb176150-ea18-4ae0-a589-568bf403e50f",
   "metadata": {},
   "source": [
    "The `minimize()` function from SciPy's `optimize` module finds the input array `x` that minimizes the output of the function `fun`.\n",
    "The `minimize()` function uses optimization techniques that are outside this course, but you can consider these optimization techniques to be sophisticated trial and error.\n",
    "\n",
    "Here are the most common arguments we will pass to the `minimize()` function:\n",
    "\n",
    "1. We pass our first guess for input array `x` to argument `x0=`.\n",
    "1. We pass additional arguments for function `fun` as a tuple to argument `args=`.\n",
    "1. We pass lower and upper bounds on `x` as a tuple of tuples to argument `bounds=`.\n",
    "1. We constrain our results with a tuple of dictionaries of functions to argument `contraints=`.\n",
    "\n",
    "Here is a simple example that minimizes the function `quadratic()` that accepts arguments `x` and `a` and returns $y = (x - a)^2$."
   ]
  },
  {
   "cell_type": "code",
   "execution_count": 16,
   "id": "8f2ac689-b798-409d-a05a-92943ebd1a6b",
   "metadata": {
    "ExecuteTime": {
     "end_time": "2020-01-27T23:15:25.643290Z",
     "start_time": "2020-01-27T23:15:25.640591Z"
    }
   },
   "outputs": [],
   "source": [
    "import scipy.optimize as sco"
   ]
  },
  {
   "cell_type": "code",
   "execution_count": 17,
   "id": "d60def34-16df-4cbf-819a-ff0c80c16f75",
   "metadata": {},
   "outputs": [],
   "source": [
    "def quadratic(x, a=5):\n",
    "    return (x - a) ** 2"
   ]
  },
  {
   "cell_type": "code",
   "execution_count": 18,
   "id": "e17e592c-10ef-4cac-b462-7f47ca13abd5",
   "metadata": {},
   "outputs": [
    {
     "data": {
      "text/plain": [
       "0"
      ]
     },
     "execution_count": 18,
     "metadata": {},
     "output_type": "execute_result"
    }
   ],
   "source": [
    "quadratic(x=5, a=5)"
   ]
  },
  {
   "cell_type": "code",
   "execution_count": 19,
   "id": "ea29b5c6-0918-4a05-a3c6-78c835fb0f89",
   "metadata": {},
   "outputs": [
    {
     "data": {
      "text/plain": [
       "25"
      ]
     },
     "execution_count": 19,
     "metadata": {},
     "output_type": "execute_result"
    }
   ],
   "source": [
    "quadratic(x=10, a=5)"
   ]
  },
  {
   "cell_type": "markdown",
   "id": "f5ff20ed-55b6-4c73-800e-4501b09dcf7a",
   "metadata": {},
   "source": [
    "It is helpful to plot $y = (x - a)$ first."
   ]
  },
  {
   "cell_type": "code",
   "execution_count": 20,
   "id": "1ee67033-dff8-4424-8e55-a47bf2407695",
   "metadata": {},
   "outputs": [
    {
     "data": {
      "image/png": "[encoded data removed]",
      "text/plain": [
       "<Figure size 640x480 with 1 Axes>"
      ]
     },
     "metadata": {
      "image/png": {
       "height": 457,
       "width": 571
      }
     },
     "output_type": "display_data"
    }
   ],
   "source": [
    "x = np.linspace(-5, 15, 101)\n",
    "y = quadratic(x=x)\n",
    "plt.plot(x, y)\n",
    "plt.xlabel(r'$x$')\n",
    "plt.ylabel(r'$y$')\n",
    "plt.title(r'$y = (x - 5)^2$')\n",
    "plt.show()"
   ]
  },
  {
   "cell_type": "markdown",
   "id": "f505f39b-2612-4b2e-b57f-2cb75d482666",
   "metadata": {},
   "source": [
    "The minimum output of `quadratic()` occurs at $x=5$ if we do not use bounds or constraints, even if we start far away from $x=5$."
   ]
  },
  {
   "cell_type": "code",
   "execution_count": 21,
   "id": "a1d853e7-41c9-4c6a-afb4-faed55727186",
   "metadata": {},
   "outputs": [
    {
     "data": {
      "text/plain": [
       "  message: Optimization terminated successfully.\n",
       "  success: True\n",
       "   status: 0\n",
       "      fun: 2.0392713450495178e-16\n",
       "        x: [ 5.000e+00]\n",
       "      nit: 4\n",
       "      jac: [-1.366e-08]\n",
       " hess_inv: [[ 5.000e-01]]\n",
       "     nfev: 18\n",
       "     njev: 9"
      ]
     },
     "execution_count": 21,
     "metadata": {},
     "output_type": "execute_result"
    }
   ],
   "source": [
    "sco.minimize(\n",
    "    fun=quadratic,\n",
    "    x0=np.array([2001])\n",
    ")"
   ]
  },
  {
   "cell_type": "markdown",
   "id": "4a984bc6-3060-445e-b62e-88fc4b0b0eaf",
   "metadata": {},
   "source": [
    "The minimum output of `quadratic()` occurs at $x=6$ if we bound `x` between 6 and 10 (i.e., $6 \\leq x \\leq 10$)."
   ]
  },
  {
   "cell_type": "code",
   "execution_count": 24,
   "id": "57c13b98-7960-4d93-a5ee-ea73416f57e6",
   "metadata": {},
   "outputs": [
    {
     "data": {
      "text/plain": [
       "  message: CONVERGENCE: NORM_OF_PROJECTED_GRADIENT_<=_PGTOL\n",
       "  success: True\n",
       "   status: 0\n",
       "      fun: 1.0\n",
       "        x: [ 6.000e+00]\n",
       "      nit: 1\n",
       "      jac: [ 2.000e+00]\n",
       "     nfev: 4\n",
       "     njev: 2\n",
       " hess_inv: <1x1 LbfgsInvHessProduct with dtype=float64>"
      ]
     },
     "execution_count": 24,
     "metadata": {},
     "output_type": "execute_result"
    }
   ],
   "source": [
    "sco.minimize(\n",
    "    fun=quadratic,\n",
    "    x0=np.array([2001]),\n",
    "    bounds=((6, 10),)\n",
    ")"
   ]
  },
  {
   "cell_type": "markdown",
   "id": "4ea95546-f28d-4769-a2a9-82aa9cb06018",
   "metadata": {},
   "source": [
    "The minimum output of `quadratic()` occurs at $x=6$, again, if we constrain `x - 6` to be non-negative.\n",
    "We use bounds to limit the search space directly, and we use constraints to limit the search space indirectly based on a formula."
   ]
  },
  {
   "cell_type": "code",
   "execution_count": 25,
   "id": "bd6c8fb9-991f-4025-80dc-b6c5dafd9289",
   "metadata": {},
   "outputs": [
    {
     "data": {
      "text/plain": [
       " message: Optimization terminated successfully\n",
       " success: True\n",
       "  status: 0\n",
       "     fun: 1.0000000000000018\n",
       "       x: [ 6.000e+00]\n",
       "     nit: 3\n",
       "     jac: [ 2.000e+00]\n",
       "    nfev: 6\n",
       "    njev: 3"
      ]
     },
     "execution_count": 25,
     "metadata": {},
     "output_type": "execute_result"
    }
   ],
   "source": [
    "sco.minimize(\n",
    "    fun=quadratic,\n",
    "    x0=np.array([2001]),\n",
    "    constraints=({'type': 'ineq', 'fun': lambda x: x - 6})\n",
    ")"
   ]
  },
  {
   "cell_type": "markdown",
   "id": "e742b7c8-d8d7-4d48-aa79-6bba5550cf4d",
   "metadata": {},
   "source": [
    "We can use the `args=` argument to pass additional arguments to `fun`.\n",
    "For example, we change the `a=` argument in `quadratic()` from the default of `a=5` to `a=20` with `args=(20,)`.\n",
    "Note that `args=` expects a tuple, so we need a trailing comma `,` if we have one argument."
   ]
  },
  {
   "cell_type": "code",
   "execution_count": 26,
   "id": "383f3c9c-fc49-47b3-afe8-d0392ecb17a3",
   "metadata": {},
   "outputs": [
    {
     "data": {
      "text/plain": [
       "  message: Optimization terminated successfully.\n",
       "  success: True\n",
       "   status: 0\n",
       "      fun: 7.090392030754976e-17\n",
       "        x: [ 2.000e+01]\n",
       "      nit: 4\n",
       "      jac: [-1.940e-09]\n",
       " hess_inv: [[ 5.000e-01]]\n",
       "     nfev: 18\n",
       "     njev: 9"
      ]
     },
     "execution_count": 26,
     "metadata": {},
     "output_type": "execute_result"
    }
   ],
   "source": [
    "sco.minimize(\n",
    "    fun=quadratic,\n",
    "    args=(20,),\n",
    "    x0=np.array([2001]),\n",
    ")"
   ]
  },
  {
   "cell_type": "markdown",
   "id": "21d2168a-b54e-40e2-8f54-256049eb5c69",
   "metadata": {},
   "source": [
    "### The Minimum Variance Portfolio"
   ]
  },
  {
   "cell_type": "markdown",
   "id": "3cd1489a-84b0-431d-b38c-3decb8afbcf1",
   "metadata": {},
   "source": [
    "We can find the minimum variance portfolio with `minimize()` function from SciPy's `optimize` module.\n",
    "The `minimize()` function with vary an input array `x` (starting from argument `x0=`) to minimize the objective function `fun=` subject to the bounds and constraints in `bounds=` and `constraints=`. \n",
    "We will define a function `port_vol()` to calculate portfolio volatility.\n",
    "The first argument to `port_vol()` must be the input array `x` that the `minimize()` function searches over.\n",
    "For clarity, we will call this first argument `x`, but the argument's name is not important."
   ]
  },
  {
   "cell_type": "code",
   "execution_count": 27,
   "id": "5db84cab-f631-44c2-88a8-700bca5aeb94",
   "metadata": {},
   "outputs": [],
   "source": [
    "def port_vol(x, r, ppy):\n",
    "    return np.sqrt(ppy) * r.dot(x).std()"
   ]
  },
  {
   "cell_type": "markdown",
   "id": "0eb7179f-0593-4837-b3b8-06225142cb21",
   "metadata": {},
   "source": [
    "We will eventually need a mean portfolio return function, too."
   ]
  },
  {
   "cell_type": "code",
   "execution_count": 28,
   "id": "7071a5e2-16bc-4a2e-977c-7e8b65577090",
   "metadata": {},
   "outputs": [],
   "source": [
    "def port_mean(x, r, ppy):\n",
    "    return ppy * r.dot(x).mean()"
   ]
  },
  {
   "cell_type": "code",
   "execution_count": 29,
   "id": "4be9484d-9829-4abe-8ca1-854d9744568e",
   "metadata": {},
   "outputs": [
    {
     "data": {
      "text/plain": [
       "[(0, 1), (0, 1), (0, 1), (0, 1), (0, 1), (0, 1)]"
      ]
     },
     "execution_count": 29,
     "metadata": {},
     "output_type": "execute_result"
    }
   ],
   "source": [
    "[(0,1) for _ in returns]"
   ]
  },
  {
   "cell_type": "code",
   "execution_count": 30,
   "id": "1319daec-3e67-4868-a8c9-6c9dcf4a4c5b",
   "metadata": {},
   "outputs": [
    {
     "name": "stdout",
     "output_type": "stream",
     "text": [
      " message: Optimization terminated successfully\n",
      " success: True\n",
      "  status: 0\n",
      "     fun: 0.2501306149875224\n",
      "       x: [ 5.064e-01  2.776e-17  9.326e-02  4.004e-01  2.082e-17\n",
      "            6.939e-18]\n",
      "     nit: 7\n",
      "     jac: [ 2.506e-01  2.591e-01  2.502e-01  2.496e-01  3.628e-01\n",
      "            2.920e-01]\n",
      "    nfev: 49\n",
      "    njev: 7\n"
     ]
    }
   ],
   "source": [
    "res_mv = sco.minimize(\n",
    "    fun=port_vol, # objective function that we minimize\n",
    "    x0=np.ones(returns.shape[1]) / returns.shape[1], # initial portfolio weights are 1/n\n",
    "    args=(returns, 252), # additional arguments to our objective function\n",
    "    bounds=[(0,1) for _ in returns], # bounds limit the search space for each portfolio weights\n",
    "    constraints=(\n",
    "        {'type': 'eq', 'fun': lambda x: x.sum() - 1} # minimize drives \"eq\" constraints to zero\n",
    "    )\n",
    ")\n",
    "\n",
    "print(res_mv)"
   ]
  },
  {
   "cell_type": "markdown",
   "id": "2214c329-5d09-4dc4-85a7-2d28eb09a5c9",
   "metadata": {},
   "source": [
    "What are the attributes of this minimum variance portfolio?"
   ]
  },
  {
   "cell_type": "code",
   "execution_count": 31,
   "id": "3bf1cc96-7707-47f5-a5ea-e7a169c3c588",
   "metadata": {},
   "outputs": [],
   "source": [
    "def print_port_res(w, r, title, ppy=252, tgt=None):\n",
    "    width = len(title)\n",
    "    rp = r.dot(w)\n",
    "    mu = ppy * rp.mean()\n",
    "    sigma = np.sqrt(ppy) * rp.std()\n",
    "    if tgt is not None:\n",
    "        er = rp.sub(tgt)\n",
    "        sr = np.sqrt(ppy) * er.mean() / er.std()\n",
    "    else:\n",
    "        sr = None\n",
    "    \n",
    "    return print(\n",
    "        title,\n",
    "        '=' * width,\n",
    "        '',\n",
    "        'Performance',\n",
    "        '-' * width,\n",
    "        'Return:'.ljust(width - 6) + f'{mu:0.4f}',\n",
    "        'Volatility:'.ljust(width - 6) + f'{sigma:0.4f}',\n",
    "        'Sharpe Ratio:'.ljust(width - 6) + f'{sr:0.4f}\\n' if sr is not None else '',\n",
    "        'Weights', \n",
    "        '-' * width, \n",
    "        '\\n'.join([f'{_r}:'.ljust(width - 6) + f'{_w:0.4f}' for _r, _w in zip(r.columns, w)]),\n",
    "        sep='\\n',\n",
    "    )"
   ]
  },
  {
   "cell_type": "code",
   "execution_count": 32,
   "id": "c774bfbf-efa6-4116-88db-a2b7b0182601",
   "metadata": {},
   "outputs": [
    {
     "name": "stdout",
     "output_type": "stream",
     "text": [
      "Minimum Variance Portfolio\n",
      "==========================\n",
      "\n",
      "Performance\n",
      "--------------------------\n",
      "Return:             0.1897\n",
      "Volatility:         0.2501\n",
      "\n",
      "Weights\n",
      "--------------------------\n",
      "AAPL:               0.5064\n",
      "AMZN:               0.0000\n",
      "GOOG:               0.0933\n",
      "MSFT:               0.4004\n",
      "NVDA:               0.0000\n",
      "TSLA:               0.0000\n"
     ]
    }
   ],
   "source": [
    "print_port_res(w=res_mv['x'], r=returns, title='Minimum Variance Portfolio')"
   ]
  },
  {
   "cell_type": "markdown",
   "id": "d5228da5-fb04-4d19-91d2-61657640a005",
   "metadata": {},
   "source": [
    "### The Mean-Variance Efficient Frontier"
   ]
  },
  {
   "cell_type": "markdown",
   "id": "c78b35fb-d52b-469c-a124-f5a4e110ba07",
   "metadata": {},
   "source": [
    "We will use the `minimize()` function to map the efficient frontier.\n",
    "Here is a basic outline:\n",
    "\n",
    "1. Create a NumPy array `tret` of target returns\n",
    "1. Create an empty list `res_ef` of `minimize()` results\n",
    "1. Loop over `tret`, passing each as a constraint to the `minimize()` function\n",
    "1. Append each `minimize()` result to `res_ef`"
   ]
  },
  {
   "cell_type": "code",
   "execution_count": 33,
   "id": "55cdbf59-e2e1-4514-87b2-31485454547b",
   "metadata": {},
   "outputs": [
    {
     "data": {
      "text/plain": [
       "Ticker\n",
       "AAPL   0.0006\n",
       "AMZN   0.0005\n",
       "GOOG   0.0007\n",
       "MSFT   0.0009\n",
       "NVDA   0.0031\n",
       "TSLA   0.0003\n",
       "dtype: float64"
      ]
     },
     "execution_count": 33,
     "metadata": {},
     "output_type": "execute_result"
    }
   ],
   "source": [
    "returns.mean()"
   ]
  },
  {
   "cell_type": "code",
   "execution_count": 36,
   "id": "c251c253-28d2-470a-b64f-64e2f67c85d6",
   "metadata": {},
   "outputs": [
    {
     "data": {
      "text/plain": [
       "array([0.0675, 0.0968, 0.1262, 0.1555, 0.1849, 0.2143, 0.2436, 0.273 ,\n",
       "       0.3023, 0.3317, 0.3611, 0.3904, 0.4198, 0.4492, 0.4785, 0.5079,\n",
       "       0.5372, 0.5666, 0.596 , 0.6253, 0.6547, 0.684 , 0.7134, 0.7428,\n",
       "       0.7721])"
      ]
     },
     "execution_count": 36,
     "metadata": {},
     "output_type": "execute_result"
    }
   ],
   "source": [
    "tret = 252 * np.linspace(returns.mean().min(), returns.mean().max(), 25)\n",
    "\n",
    "tret"
   ]
  },
  {
   "cell_type": "markdown",
   "id": "8de179d6-265f-41cd-b5f1-5a812397ad6b",
   "metadata": {},
   "source": [
    "We will loop over these target returns, finding the minimum variance portfolio for each target return."
   ]
  },
  {
   "cell_type": "code",
   "execution_count": 37,
   "id": "15c25607-37cb-4d30-b309-4f8a3e827ef6",
   "metadata": {},
   "outputs": [],
   "source": [
    "res_ef = []\n",
    "\n",
    "for t in tret:\n",
    "    _ = sco.minimize(\n",
    "        fun=port_vol, # minimize portfolio volatility\n",
    "        x0=np.ones(returns.shape[1]) / returns.shape[1], # initial portfolio weights of 1/n\n",
    "        args=(returns, 252), # additional arguments to fun, in order\n",
    "        bounds=[(0, 1) for c in returns.columns], # bounds limit the search space for each portfolio weight\n",
    "        constraints=(\n",
    "            {'type': 'eq', 'fun': lambda x: x.sum() - 1}, # constrain sum of weights to one\n",
    "            {'type': 'eq', 'fun': lambda x: port_mean(x=x, r=returns, ppy=252) - t} # constrains portfolio mean return to the target return\n",
    "        )\n",
    "    )\n",
    "    res_ef.append(_)"
   ]
  },
  {
   "cell_type": "markdown",
   "id": "b4ce009b-f40d-40f5-89d9-21677b952f14",
   "metadata": {},
   "source": [
    "List `res_ef` contains the results of all 25 minimum-variance portfolios.\n",
    "For example, `res_ef[0]` is the minimum variance portfolio for the lowest target return."
   ]
  },
  {
   "cell_type": "code",
   "execution_count": 39,
   "id": "d082b162-ecb4-4622-93da-31ab847359b7",
   "metadata": {},
   "outputs": [
    {
     "data": {
      "text/plain": [
       "Index(['AAPL', 'AMZN', 'GOOG', 'MSFT', 'NVDA', 'TSLA'], dtype='object', name='Ticker')"
      ]
     },
     "execution_count": 39,
     "metadata": {},
     "output_type": "execute_result"
    }
   ],
   "source": [
    "returns.columns"
   ]
  },
  {
   "cell_type": "code",
   "execution_count": 38,
   "id": "6e72edd2-3bb6-47e2-85c8-6dc949afb705",
   "metadata": {},
   "outputs": [
    {
     "data": {
      "text/plain": [
       " message: Optimization terminated successfully\n",
       " success: True\n",
       "  status: 0\n",
       "     fun: 0.5658612930635905\n",
       "       x: [ 0.000e+00  1.206e-10  0.000e+00  1.775e-16  0.000e+00\n",
       "            1.000e+00]\n",
       "     nit: 3\n",
       "     jac: [ 1.383e-01  1.648e-01  1.271e-01  1.179e-01  2.690e-01\n",
       "            5.659e-01]\n",
       "    nfev: 21\n",
       "    njev: 3"
      ]
     },
     "execution_count": 38,
     "metadata": {},
     "output_type": "execute_result"
    }
   ],
   "source": [
    "res_ef[0]"
   ]
  },
  {
   "cell_type": "markdown",
   "id": "3e19202c-ca12-4f57-a87c-be413f72360b",
   "metadata": {},
   "source": [
    "I typically check that all portfolio volatility minimization succeeds.\n",
    "If a portfolio volatility minimization fails, we should check our function, bounds, and constraints."
   ]
  },
  {
   "cell_type": "code",
   "execution_count": 40,
   "id": "74767957-4946-45b9-9602-f96e81788d5c",
   "metadata": {},
   "outputs": [],
   "source": [
    "for r in res_ef:\n",
    "    assert r['success'] "
   ]
  },
  {
   "cell_type": "markdown",
   "id": "04d12d0b-4d37-4a5a-b32e-89c44875974e",
   "metadata": {},
   "source": [
    "We can combine the target returns and volatilities into a data frame `ef`."
   ]
  },
  {
   "cell_type": "code",
   "execution_count": 41,
   "id": "3d30a59f-68bd-44eb-bfac-24d2d06a1fb2",
   "metadata": {},
   "outputs": [
    {
     "data": {
      "text/html": [
       "<div>\n",
       "<style scoped>\n",
       "    .dataframe tbody tr th:only-of-type {\n",
       "        vertical-align: middle;\n",
       "    }\n",
       "\n",
       "    .dataframe tbody tr th {\n",
       "        vertical-align: top;\n",
       "    }\n",
       "\n",
       "    .dataframe thead th {\n",
       "        text-align: right;\n",
       "    }\n",
       "</style>\n",
       "<table border=\"1\" class=\"dataframe\">\n",
       "  <thead>\n",
       "    <tr style=\"text-align: right;\">\n",
       "      <th></th>\n",
       "      <th>tret</th>\n",
       "      <th>tvol</th>\n",
       "    </tr>\n",
       "  </thead>\n",
       "  <tbody>\n",
       "    <tr>\n",
       "      <th>0</th>\n",
       "      <td>0.0675</td>\n",
       "      <td>0.5659</td>\n",
       "    </tr>\n",
       "    <tr>\n",
       "      <th>1</th>\n",
       "      <td>0.0968</td>\n",
       "      <td>0.3984</td>\n",
       "    </tr>\n",
       "    <tr>\n",
       "      <th>2</th>\n",
       "      <td>0.1262</td>\n",
       "      <td>0.2974</td>\n",
       "    </tr>\n",
       "    <tr>\n",
       "      <th>3</th>\n",
       "      <td>0.1555</td>\n",
       "      <td>0.2597</td>\n",
       "    </tr>\n",
       "    <tr>\n",
       "      <th>4</th>\n",
       "      <td>0.1849</td>\n",
       "      <td>0.2504</td>\n",
       "    </tr>\n",
       "  </tbody>\n",
       "</table>\n",
       "</div>"
      ],
      "text/plain": [
       "    tret   tvol\n",
       "0 0.0675 0.5659\n",
       "1 0.0968 0.3984\n",
       "2 0.1262 0.2974\n",
       "3 0.1555 0.2597\n",
       "4 0.1849 0.2504"
      ]
     },
     "execution_count": 41,
     "metadata": {},
     "output_type": "execute_result"
    }
   ],
   "source": [
    "ef = pd.DataFrame(\n",
    "    {\n",
    "        'tret': tret,\n",
    "        'tvol': np.array([r['fun'] if r['success'] else np.nan for r in res_ef])\n",
    "    }\n",
    ")\n",
    "\n",
    "ef.head()"
   ]
  },
  {
   "cell_type": "code",
   "execution_count": 42,
   "id": "a4a63af8-68d7-454c-b722-30250403dc53",
   "metadata": {},
   "outputs": [
    {
     "data": {
      "image/png": "[encoded data removed]",
      "text/plain": [
       "<Figure size 640x480 with 1 Axes>"
      ]
     },
     "metadata": {
      "image/png": {
       "height": 492,
       "width": 575
      }
     },
     "output_type": "display_data"
    }
   ],
   "source": [
    "ef.mul(100).plot(x='tvol', y='tret', legend=False)\n",
    "plt.ylabel('Annualized Mean Return (%)')\n",
    "plt.xlabel('Annualized Volatility (%)')\n",
    "plt.title(\n",
    "    f'Efficient Frontier' +\n",
    "    f'\\nfor {\", \".join(returns.columns)}' +\n",
    "    f'\\nfrom {returns.index[0]:%B %d, %Y} to {returns.index[-1]:%B %d, %Y}'\n",
    ")\n",
    "\n",
    "for t, x, y in zip(\n",
    "    returns.columns, \n",
    "    returns.std().mul(100*np.sqrt(252)),\n",
    "    returns.mean().mul(100*252)\n",
    "):\n",
    "    plt.annotate(text=t, xy=(x, y))\n",
    "    \n",
    "plt.show()"
   ]
  },
  {
   "cell_type": "code",
   "execution_count": null,
   "id": "b8d92c4a-2d4d-4764-a588-4591c6078438",
   "metadata": {},
   "outputs": [],
   "source": []
  }
 ],
 "metadata": {
  "author": "Richard Herron",
  "kernelspec": {
   "display_name": "Python 3 (ipykernel)",
   "language": "python",
   "name": "python3"
  },
  "language_info": {
   "codemirror_mode": {
    "name": "ipython",
    "version": 3
   },
   "file_extension": ".py",
   "mimetype": "text/x-python",
   "name": "python",
   "nbconvert_exporter": "python",
   "pygments_lexer": "ipython3",
   "version": "3.12.1"
  },
  "title": "Herron Topic 4 - Portfolio Optimization"
 },
 "nbformat": 4,
 "nbformat_minor": 5
}
