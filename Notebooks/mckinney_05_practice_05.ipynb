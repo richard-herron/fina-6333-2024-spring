{
 "cells": [
  {
   "cell_type": "markdown",
   "id": "c1e33842-3bd0-4623-9296-60a1ad2fe57b",
   "metadata": {},
   "source": [
    "# McKinney Chapter 5 - Practice for Section 05"
   ]
  },
  {
   "cell_type": "markdown",
   "id": "f6c08ea9-54c1-4a00-aad3-a20df19c7e97",
   "metadata": {},
   "source": [
    "## Announcements"
   ]
  },
  {
   "cell_type": "markdown",
   "id": "dfd20bbd-32ef-485a-befa-33e05829b1e2",
   "metadata": {},
   "source": [
    "1. No DataCamp this week, but I suggest you keep working on it\n",
    "2. Keep forming groups, and I will post our first project early next week"
   ]
  },
  {
   "cell_type": "markdown",
   "id": "3160c5e7-3a34-4287-8c3c-a10df008358f",
   "metadata": {},
   "source": [
    "## 10-Minute Recap"
   ]
  },
  {
   "cell_type": "code",
   "execution_count": 1,
   "id": "d54495d6-a8aa-4471-a29f-abc4992bf074",
   "metadata": {
    "editable": true
   },
   "outputs": [],
   "source": [
    "import matplotlib.pyplot as plt\n",
    "import numpy as np\n",
    "import pandas as pd\n",
    "import yfinance as yf"
   ]
  },
  {
   "cell_type": "code",
   "execution_count": 2,
   "id": "3fab82cf-ea1a-4e1c-84a6-891b882a534e",
   "metadata": {},
   "outputs": [],
   "source": [
    "%precision 4\n",
    "pd.options.display.float_format = '{:.4f}'.format\n",
    "%config InlineBackend.figure_format = 'retina'"
   ]
  },
  {
   "cell_type": "markdown",
   "id": "20dc4035-a1ee-41f6-9110-fe5f4cf74bb7",
   "metadata": {},
   "source": [
    "pandas gives us two data structures:\n",
    "\n",
    "1. Data Frames\n",
    "2. Series"
   ]
  },
  {
   "cell_type": "markdown",
   "id": "a9bfd8a9-bece-4326-b203-a182d534bee9",
   "metadata": {},
   "source": [
    "A data frame is like a worksheet in an Excel workbook."
   ]
  },
  {
   "cell_type": "code",
   "execution_count": 3,
   "id": "107d0e59-87ea-42e7-af0b-be97599507ef",
   "metadata": {},
   "outputs": [
    {
     "data": {
      "text/html": [
       "<div>\n",
       "<style scoped>\n",
       "    .dataframe tbody tr th:only-of-type {\n",
       "        vertical-align: middle;\n",
       "    }\n",
       "\n",
       "    .dataframe tbody tr th {\n",
       "        vertical-align: top;\n",
       "    }\n",
       "\n",
       "    .dataframe thead th {\n",
       "        text-align: right;\n",
       "    }\n",
       "</style>\n",
       "<table border=\"1\" class=\"dataframe\">\n",
       "  <thead>\n",
       "    <tr style=\"text-align: right;\">\n",
       "      <th></th>\n",
       "      <th>a</th>\n",
       "      <th>b</th>\n",
       "      <th>c</th>\n",
       "      <th>d</th>\n",
       "      <th>e</th>\n",
       "    </tr>\n",
       "  </thead>\n",
       "  <tbody>\n",
       "    <tr>\n",
       "      <th>A</th>\n",
       "      <td>0.4967</td>\n",
       "      <td>-0.1383</td>\n",
       "      <td>0.6477</td>\n",
       "      <td>1.5230</td>\n",
       "      <td>-0.2342</td>\n",
       "    </tr>\n",
       "    <tr>\n",
       "      <th>B</th>\n",
       "      <td>-0.2341</td>\n",
       "      <td>1.5792</td>\n",
       "      <td>0.7674</td>\n",
       "      <td>-0.4695</td>\n",
       "      <td>0.5426</td>\n",
       "    </tr>\n",
       "    <tr>\n",
       "      <th>C</th>\n",
       "      <td>-0.4634</td>\n",
       "      <td>-0.4657</td>\n",
       "      <td>0.2420</td>\n",
       "      <td>-1.9133</td>\n",
       "      <td>-1.7249</td>\n",
       "    </tr>\n",
       "  </tbody>\n",
       "</table>\n",
       "</div>"
      ],
      "text/plain": [
       "        a       b      c       d       e\n",
       "A  0.4967 -0.1383 0.6477  1.5230 -0.2342\n",
       "B -0.2341  1.5792 0.7674 -0.4695  0.5426\n",
       "C -0.4634 -0.4657 0.2420 -1.9133 -1.7249"
      ]
     },
     "execution_count": 3,
     "metadata": {},
     "output_type": "execute_result"
    }
   ],
   "source": [
    "np.random.seed(42)\n",
    "df = pd.DataFrame(\n",
    "    data=np.random.randn(3, 5), # 15 random numbers\n",
    "    index=list('ABC'), # labels the rows for easy indexing and slicing\n",
    "    columns=list('abcde') # labels the columns for easy indexing and slicing\n",
    ")\n",
    "\n",
    "df"
   ]
  },
  {
   "cell_type": "markdown",
   "id": "7e6c61a2-b92a-4194-af82-80c3c3bb4e3b",
   "metadata": {},
   "source": [
    "How can we get the first two rows and first three columns?\n",
    "\n",
    "1. We can slice by integer location with the `.iloc[]` method\n",
    "2. We can slice by names with the `.loc[]` method"
   ]
  },
  {
   "cell_type": "code",
   "execution_count": 4,
   "id": "66de5c2c-3d3c-4322-a89c-a9b5db979b2b",
   "metadata": {},
   "outputs": [
    {
     "data": {
      "text/html": [
       "<div>\n",
       "<style scoped>\n",
       "    .dataframe tbody tr th:only-of-type {\n",
       "        vertical-align: middle;\n",
       "    }\n",
       "\n",
       "    .dataframe tbody tr th {\n",
       "        vertical-align: top;\n",
       "    }\n",
       "\n",
       "    .dataframe thead th {\n",
       "        text-align: right;\n",
       "    }\n",
       "</style>\n",
       "<table border=\"1\" class=\"dataframe\">\n",
       "  <thead>\n",
       "    <tr style=\"text-align: right;\">\n",
       "      <th></th>\n",
       "      <th>a</th>\n",
       "      <th>b</th>\n",
       "      <th>c</th>\n",
       "    </tr>\n",
       "  </thead>\n",
       "  <tbody>\n",
       "    <tr>\n",
       "      <th>A</th>\n",
       "      <td>0.4967</td>\n",
       "      <td>-0.1383</td>\n",
       "      <td>0.6477</td>\n",
       "    </tr>\n",
       "    <tr>\n",
       "      <th>B</th>\n",
       "      <td>-0.2341</td>\n",
       "      <td>1.5792</td>\n",
       "      <td>0.7674</td>\n",
       "    </tr>\n",
       "  </tbody>\n",
       "</table>\n",
       "</div>"
      ],
      "text/plain": [
       "        a       b      c\n",
       "A  0.4967 -0.1383 0.6477\n",
       "B -0.2341  1.5792 0.7674"
      ]
     },
     "execution_count": 4,
     "metadata": {},
     "output_type": "execute_result"
    }
   ],
   "source": [
    "df.iloc[:2, :3] # j,k slicing, as in NumPy"
   ]
  },
  {
   "cell_type": "markdown",
   "id": "155e36ed-83ba-4324-8aba-aa1101084e33",
   "metadata": {},
   "source": [
    "***When we slice by names, both left and right edges are *included*!***"
   ]
  },
  {
   "cell_type": "code",
   "execution_count": 5,
   "id": "ee085898-afa1-4dcc-a34f-5ca597da3c06",
   "metadata": {},
   "outputs": [
    {
     "data": {
      "text/html": [
       "<div>\n",
       "<style scoped>\n",
       "    .dataframe tbody tr th:only-of-type {\n",
       "        vertical-align: middle;\n",
       "    }\n",
       "\n",
       "    .dataframe tbody tr th {\n",
       "        vertical-align: top;\n",
       "    }\n",
       "\n",
       "    .dataframe thead th {\n",
       "        text-align: right;\n",
       "    }\n",
       "</style>\n",
       "<table border=\"1\" class=\"dataframe\">\n",
       "  <thead>\n",
       "    <tr style=\"text-align: right;\">\n",
       "      <th></th>\n",
       "      <th>a</th>\n",
       "      <th>b</th>\n",
       "      <th>c</th>\n",
       "    </tr>\n",
       "  </thead>\n",
       "  <tbody>\n",
       "    <tr>\n",
       "      <th>A</th>\n",
       "      <td>0.4967</td>\n",
       "      <td>-0.1383</td>\n",
       "      <td>0.6477</td>\n",
       "    </tr>\n",
       "    <tr>\n",
       "      <th>B</th>\n",
       "      <td>-0.2341</td>\n",
       "      <td>1.5792</td>\n",
       "      <td>0.7674</td>\n",
       "    </tr>\n",
       "  </tbody>\n",
       "</table>\n",
       "</div>"
      ],
      "text/plain": [
       "        a       b      c\n",
       "A  0.4967 -0.1383 0.6477\n",
       "B -0.2341  1.5792 0.7674"
      ]
     },
     "execution_count": 5,
     "metadata": {},
     "output_type": "execute_result"
    }
   ],
   "source": [
    "df.loc['A':'B', 'a':'c']"
   ]
  },
  {
   "cell_type": "markdown",
   "id": "ed8788e3-ac15-4e9d-b64b-db50062278c7",
   "metadata": {},
   "source": [
    "We can use the `.head()` method to show the first `n` rows in `df`."
   ]
  },
  {
   "cell_type": "code",
   "execution_count": 6,
   "id": "006e2324-f912-438c-87b9-aed409c1b7da",
   "metadata": {},
   "outputs": [
    {
     "data": {
      "text/html": [
       "<div>\n",
       "<style scoped>\n",
       "    .dataframe tbody tr th:only-of-type {\n",
       "        vertical-align: middle;\n",
       "    }\n",
       "\n",
       "    .dataframe tbody tr th {\n",
       "        vertical-align: top;\n",
       "    }\n",
       "\n",
       "    .dataframe thead th {\n",
       "        text-align: right;\n",
       "    }\n",
       "</style>\n",
       "<table border=\"1\" class=\"dataframe\">\n",
       "  <thead>\n",
       "    <tr style=\"text-align: right;\">\n",
       "      <th></th>\n",
       "      <th>a</th>\n",
       "      <th>b</th>\n",
       "      <th>c</th>\n",
       "      <th>d</th>\n",
       "      <th>e</th>\n",
       "    </tr>\n",
       "  </thead>\n",
       "  <tbody>\n",
       "    <tr>\n",
       "      <th>A</th>\n",
       "      <td>0.4967</td>\n",
       "      <td>-0.1383</td>\n",
       "      <td>0.6477</td>\n",
       "      <td>1.5230</td>\n",
       "      <td>-0.2342</td>\n",
       "    </tr>\n",
       "    <tr>\n",
       "      <th>B</th>\n",
       "      <td>-0.2341</td>\n",
       "      <td>1.5792</td>\n",
       "      <td>0.7674</td>\n",
       "      <td>-0.4695</td>\n",
       "      <td>0.5426</td>\n",
       "    </tr>\n",
       "  </tbody>\n",
       "</table>\n",
       "</div>"
      ],
      "text/plain": [
       "        a       b      c       d       e\n",
       "A  0.4967 -0.1383 0.6477  1.5230 -0.2342\n",
       "B -0.2341  1.5792 0.7674 -0.4695  0.5426"
      ]
     },
     "execution_count": 6,
     "metadata": {},
     "output_type": "execute_result"
    }
   ],
   "source": [
    "df.head(2)"
   ]
  },
  {
   "cell_type": "markdown",
   "id": "112ce4f5-b28d-43b2-a582-25ebfc8a633e",
   "metadata": {},
   "source": [
    "How do I add a column?"
   ]
  },
  {
   "cell_type": "code",
   "execution_count": 7,
   "id": "c9357518-2b19-43ca-991c-702d79c5cb2a",
   "metadata": {},
   "outputs": [
    {
     "data": {
      "text/html": [
       "<div>\n",
       "<style scoped>\n",
       "    .dataframe tbody tr th:only-of-type {\n",
       "        vertical-align: middle;\n",
       "    }\n",
       "\n",
       "    .dataframe tbody tr th {\n",
       "        vertical-align: top;\n",
       "    }\n",
       "\n",
       "    .dataframe thead th {\n",
       "        text-align: right;\n",
       "    }\n",
       "</style>\n",
       "<table border=\"1\" class=\"dataframe\">\n",
       "  <thead>\n",
       "    <tr style=\"text-align: right;\">\n",
       "      <th></th>\n",
       "      <th>a</th>\n",
       "      <th>b</th>\n",
       "      <th>c</th>\n",
       "      <th>d</th>\n",
       "      <th>e</th>\n",
       "      <th>f</th>\n",
       "    </tr>\n",
       "  </thead>\n",
       "  <tbody>\n",
       "    <tr>\n",
       "      <th>A</th>\n",
       "      <td>0.4967</td>\n",
       "      <td>-0.1383</td>\n",
       "      <td>0.6477</td>\n",
       "      <td>1.5230</td>\n",
       "      <td>-0.2342</td>\n",
       "      <td>5</td>\n",
       "    </tr>\n",
       "    <tr>\n",
       "      <th>B</th>\n",
       "      <td>-0.2341</td>\n",
       "      <td>1.5792</td>\n",
       "      <td>0.7674</td>\n",
       "      <td>-0.4695</td>\n",
       "      <td>0.5426</td>\n",
       "      <td>5</td>\n",
       "    </tr>\n",
       "    <tr>\n",
       "      <th>C</th>\n",
       "      <td>-0.4634</td>\n",
       "      <td>-0.4657</td>\n",
       "      <td>0.2420</td>\n",
       "      <td>-1.9133</td>\n",
       "      <td>-1.7249</td>\n",
       "      <td>5</td>\n",
       "    </tr>\n",
       "  </tbody>\n",
       "</table>\n",
       "</div>"
      ],
      "text/plain": [
       "        a       b      c       d       e  f\n",
       "A  0.4967 -0.1383 0.6477  1.5230 -0.2342  5\n",
       "B -0.2341  1.5792 0.7674 -0.4695  0.5426  5\n",
       "C -0.4634 -0.4657 0.2420 -1.9133 -1.7249  5"
      ]
     },
     "execution_count": 7,
     "metadata": {},
     "output_type": "execute_result"
    }
   ],
   "source": [
    "df['f'] = 5 # as in NumPy, this 5 will broadcast to all the rows\n",
    "\n",
    "df"
   ]
  },
  {
   "cell_type": "markdown",
   "id": "e010b94e-6963-42da-b2d8-9b168ee8fe65",
   "metadata": {},
   "source": [
    "A series is like a single column in an Excel worksheet (or a pandas data frame)."
   ]
  },
  {
   "cell_type": "code",
   "execution_count": 8,
   "id": "44326aa9-d98b-4bea-b238-b7f1a9b48fcc",
   "metadata": {},
   "outputs": [
    {
     "data": {
      "text/plain": [
       "B   0.0000\n",
       "C   1.0000\n",
       "dtype: float64"
      ]
     },
     "execution_count": 8,
     "metadata": {},
     "output_type": "execute_result"
    }
   ],
   "source": [
    "ser = pd.Series(data=np.arange(2.), index=list('BC'))\n",
    "\n",
    "ser"
   ]
  },
  {
   "cell_type": "markdown",
   "id": "e7862532-69ce-43b4-aa06-dd010ae3e345",
   "metadata": {},
   "source": [
    "pandas aligns operations on row and column names"
   ]
  },
  {
   "cell_type": "code",
   "execution_count": 9,
   "id": "f53ae9c1-c824-445d-86e8-63b5653ed9ba",
   "metadata": {},
   "outputs": [
    {
     "data": {
      "text/html": [
       "<div>\n",
       "<style scoped>\n",
       "    .dataframe tbody tr th:only-of-type {\n",
       "        vertical-align: middle;\n",
       "    }\n",
       "\n",
       "    .dataframe tbody tr th {\n",
       "        vertical-align: top;\n",
       "    }\n",
       "\n",
       "    .dataframe thead th {\n",
       "        text-align: right;\n",
       "    }\n",
       "</style>\n",
       "<table border=\"1\" class=\"dataframe\">\n",
       "  <thead>\n",
       "    <tr style=\"text-align: right;\">\n",
       "      <th></th>\n",
       "      <th>a</th>\n",
       "      <th>b</th>\n",
       "      <th>c</th>\n",
       "      <th>d</th>\n",
       "      <th>e</th>\n",
       "      <th>f</th>\n",
       "      <th>g</th>\n",
       "    </tr>\n",
       "  </thead>\n",
       "  <tbody>\n",
       "    <tr>\n",
       "      <th>A</th>\n",
       "      <td>0.4967</td>\n",
       "      <td>-0.1383</td>\n",
       "      <td>0.6477</td>\n",
       "      <td>1.5230</td>\n",
       "      <td>-0.2342</td>\n",
       "      <td>5</td>\n",
       "      <td>NaN</td>\n",
       "    </tr>\n",
       "    <tr>\n",
       "      <th>B</th>\n",
       "      <td>-0.2341</td>\n",
       "      <td>1.5792</td>\n",
       "      <td>0.7674</td>\n",
       "      <td>-0.4695</td>\n",
       "      <td>0.5426</td>\n",
       "      <td>5</td>\n",
       "      <td>0.0000</td>\n",
       "    </tr>\n",
       "    <tr>\n",
       "      <th>C</th>\n",
       "      <td>-0.4634</td>\n",
       "      <td>-0.4657</td>\n",
       "      <td>0.2420</td>\n",
       "      <td>-1.9133</td>\n",
       "      <td>-1.7249</td>\n",
       "      <td>5</td>\n",
       "      <td>1.0000</td>\n",
       "    </tr>\n",
       "  </tbody>\n",
       "</table>\n",
       "</div>"
      ],
      "text/plain": [
       "        a       b      c       d       e  f      g\n",
       "A  0.4967 -0.1383 0.6477  1.5230 -0.2342  5    NaN\n",
       "B -0.2341  1.5792 0.7674 -0.4695  0.5426  5 0.0000\n",
       "C -0.4634 -0.4657 0.2420 -1.9133 -1.7249  5 1.0000"
      ]
     },
     "execution_count": 9,
     "metadata": {},
     "output_type": "execute_result"
    }
   ],
   "source": [
    "df['g'] = ser\n",
    "\n",
    "df"
   ]
  },
  {
   "cell_type": "markdown",
   "id": "5e73929c-3629-4433-8111-1a64bd3c52dd",
   "metadata": {},
   "source": [
    "## Practice"
   ]
  },
  {
   "cell_type": "code",
   "execution_count": 10,
   "id": "917d4dc4-27f8-4991-b9e9-2357d29a5c02",
   "metadata": {},
   "outputs": [
    {
     "name": "stderr",
     "output_type": "stream",
     "text": [
      "[*********************100%%**********************]  4 of 4 completed\n"
     ]
    }
   ],
   "source": [
    "tickers = 'AAPL IBM MSFT GOOG'\n",
    "prices = yf.download(tickers=tickers)"
   ]
  },
  {
   "cell_type": "code",
   "execution_count": 11,
   "id": "bbab01d0-4cf7-4438-b6ed-c8c2531e8a27",
   "metadata": {},
   "outputs": [
    {
     "data": {
      "text/html": [
       "<div>\n",
       "<style scoped>\n",
       "    .dataframe tbody tr th:only-of-type {\n",
       "        vertical-align: middle;\n",
       "    }\n",
       "\n",
       "    .dataframe tbody tr th {\n",
       "        vertical-align: top;\n",
       "    }\n",
       "\n",
       "    .dataframe thead th {\n",
       "        text-align: right;\n",
       "    }\n",
       "</style>\n",
       "<table border=\"1\" class=\"dataframe\">\n",
       "  <thead>\n",
       "    <tr style=\"text-align: right;\">\n",
       "      <th></th>\n",
       "      <th>AAPL</th>\n",
       "      <th>GOOG</th>\n",
       "      <th>IBM</th>\n",
       "      <th>MSFT</th>\n",
       "    </tr>\n",
       "    <tr>\n",
       "      <th>Date</th>\n",
       "      <th></th>\n",
       "      <th></th>\n",
       "      <th></th>\n",
       "      <th></th>\n",
       "    </tr>\n",
       "  </thead>\n",
       "  <tbody>\n",
       "    <tr>\n",
       "      <th>2004-08-20</th>\n",
       "      <td>0.0029</td>\n",
       "      <td>0.0794</td>\n",
       "      <td>0.0042</td>\n",
       "      <td>0.0030</td>\n",
       "    </tr>\n",
       "    <tr>\n",
       "      <th>2004-08-23</th>\n",
       "      <td>0.0091</td>\n",
       "      <td>0.0101</td>\n",
       "      <td>-0.0070</td>\n",
       "      <td>0.0044</td>\n",
       "    </tr>\n",
       "    <tr>\n",
       "      <th>2004-08-24</th>\n",
       "      <td>0.0280</td>\n",
       "      <td>-0.0414</td>\n",
       "      <td>0.0007</td>\n",
       "      <td>0.0000</td>\n",
       "    </tr>\n",
       "    <tr>\n",
       "      <th>2004-08-25</th>\n",
       "      <td>0.0344</td>\n",
       "      <td>0.0108</td>\n",
       "      <td>0.0042</td>\n",
       "      <td>0.0114</td>\n",
       "    </tr>\n",
       "    <tr>\n",
       "      <th>2004-08-26</th>\n",
       "      <td>0.0487</td>\n",
       "      <td>0.0180</td>\n",
       "      <td>-0.0045</td>\n",
       "      <td>-0.0040</td>\n",
       "    </tr>\n",
       "    <tr>\n",
       "      <th>...</th>\n",
       "      <td>...</td>\n",
       "      <td>...</td>\n",
       "      <td>...</td>\n",
       "      <td>...</td>\n",
       "    </tr>\n",
       "    <tr>\n",
       "      <th>2024-01-23</th>\n",
       "      <td>0.0067</td>\n",
       "      <td>0.0066</td>\n",
       "      <td>0.0064</td>\n",
       "      <td>0.0060</td>\n",
       "    </tr>\n",
       "    <tr>\n",
       "      <th>2024-01-24</th>\n",
       "      <td>-0.0035</td>\n",
       "      <td>0.0112</td>\n",
       "      <td>-0.0001</td>\n",
       "      <td>0.0092</td>\n",
       "    </tr>\n",
       "    <tr>\n",
       "      <th>2024-01-25</th>\n",
       "      <td>-0.0017</td>\n",
       "      <td>0.0219</td>\n",
       "      <td>0.0949</td>\n",
       "      <td>0.0057</td>\n",
       "    </tr>\n",
       "    <tr>\n",
       "      <th>2024-01-26</th>\n",
       "      <td>-0.0090</td>\n",
       "      <td>0.0010</td>\n",
       "      <td>-0.0158</td>\n",
       "      <td>-0.0023</td>\n",
       "    </tr>\n",
       "    <tr>\n",
       "      <th>2024-01-29</th>\n",
       "      <td>-0.0036</td>\n",
       "      <td>0.0068</td>\n",
       "      <td>-0.0015</td>\n",
       "      <td>0.0143</td>\n",
       "    </tr>\n",
       "  </tbody>\n",
       "</table>\n",
       "<p>4893 rows × 4 columns</p>\n",
       "</div>"
      ],
      "text/plain": [
       "              AAPL    GOOG     IBM    MSFT\n",
       "Date                                      \n",
       "2004-08-20  0.0029  0.0794  0.0042  0.0030\n",
       "2004-08-23  0.0091  0.0101 -0.0070  0.0044\n",
       "2004-08-24  0.0280 -0.0414  0.0007  0.0000\n",
       "2004-08-25  0.0344  0.0108  0.0042  0.0114\n",
       "2004-08-26  0.0487  0.0180 -0.0045 -0.0040\n",
       "...            ...     ...     ...     ...\n",
       "2024-01-23  0.0067  0.0066  0.0064  0.0060\n",
       "2024-01-24 -0.0035  0.0112 -0.0001  0.0092\n",
       "2024-01-25 -0.0017  0.0219  0.0949  0.0057\n",
       "2024-01-26 -0.0090  0.0010 -0.0158 -0.0023\n",
       "2024-01-29 -0.0036  0.0068 -0.0015  0.0143\n",
       "\n",
       "[4893 rows x 4 columns]"
      ]
     },
     "execution_count": 11,
     "metadata": {},
     "output_type": "execute_result"
    }
   ],
   "source": [
    "returns = (\n",
    "    prices['Adj Close'] # slice adj close column\n",
    "    .iloc[:-1] # drop last row with intra day prices, which are sometimes missing\n",
    "    .pct_change() # calculate returns\n",
    "    .dropna() # drop leading rows with at least one missing value\n",
    ")\n",
    "\n",
    "returns"
   ]
  },
  {
   "cell_type": "markdown",
   "id": "4761cb0f-5db6-409b-822e-f4a354118458",
   "metadata": {},
   "source": [
    "### What are the mean daily returns for these four stocks?"
   ]
  },
  {
   "cell_type": "code",
   "execution_count": 12,
   "id": "a3ce4217-d1cf-46b7-bb1c-c23616f53e5d",
   "metadata": {},
   "outputs": [
    {
     "data": {
      "text/plain": [
       "AAPL   0.0014\n",
       "GOOG   0.0010\n",
       "IBM    0.0004\n",
       "MSFT   0.0008\n",
       "dtype: float64"
      ]
     },
     "execution_count": 12,
     "metadata": {},
     "output_type": "execute_result"
    }
   ],
   "source": [
    "returns.mean() # default is axis=0, so we get the mean of each column"
   ]
  },
  {
   "cell_type": "markdown",
   "id": "68c90930-be12-4180-890f-8efda3036400",
   "metadata": {},
   "source": [
    "We if want an equally-weighted portfolio return?\n",
    "We could take the mean of each *row* with `.mean(axis=1)`.\n",
    "The mean is the same as the sum of 0.25 times each of the 4 columns."
   ]
  },
  {
   "cell_type": "code",
   "execution_count": 13,
   "id": "7bbfcf86-6081-491e-96ff-d0ccfede462a",
   "metadata": {},
   "outputs": [
    {
     "data": {
      "text/plain": [
       "Date\n",
       "2004-08-20    0.0224\n",
       "2004-08-23    0.0041\n",
       "2004-08-24   -0.0032\n",
       "2004-08-25    0.0152\n",
       "2004-08-26    0.0146\n",
       "               ...  \n",
       "2024-01-23    0.0064\n",
       "2024-01-24    0.0042\n",
       "2024-01-25    0.0302\n",
       "2024-01-26   -0.0065\n",
       "2024-01-29    0.0040\n",
       "Length: 4893, dtype: float64"
      ]
     },
     "execution_count": 13,
     "metadata": {},
     "output_type": "execute_result"
    }
   ],
   "source": [
    "returns.mean(axis=1)"
   ]
  },
  {
   "cell_type": "markdown",
   "id": "a98798fa-74f3-4fba-b56e-484e513a62a5",
   "metadata": {},
   "source": [
    "### What are the standard deviations of daily returns for these four stocks?"
   ]
  },
  {
   "cell_type": "markdown",
   "id": "97286a9b-afb5-413d-a61d-f2fb7f81bce7",
   "metadata": {},
   "source": [
    "We can use the `.std()` method to find the *sample* standard deviation of each column."
   ]
  },
  {
   "cell_type": "code",
   "execution_count": 14,
   "id": "8a8590e9-a520-4bbe-ba87-bf07dc5f191f",
   "metadata": {},
   "outputs": [
    {
     "data": {
      "text/plain": [
       "AAPL   0.0206\n",
       "GOOG   0.0193\n",
       "IBM    0.0143\n",
       "MSFT   0.0171\n",
       "dtype: float64"
      ]
     },
     "execution_count": 14,
     "metadata": {},
     "output_type": "execute_result"
    }
   ],
   "source": [
    "returns.std()"
   ]
  },
  {
   "cell_type": "markdown",
   "id": "a64ae92c-8ce3-4c4c-80e2-f003db45d167",
   "metadata": {},
   "source": [
    "### What are the *annualized* means and standard deviations of daily returns for these four stocks?"
   ]
  },
  {
   "cell_type": "markdown",
   "id": "38061cfe-fe0d-4dbf-af90-3223aee33a5a",
   "metadata": {},
   "source": [
    "We annualize mean returns by multiplying by $T$ ($T=252$ for daily returns, $T=12$ for month returns, and so on).\n",
    "We annualize standard deviations by multiplying by $\\sqrt(T)$."
   ]
  },
  {
   "cell_type": "code",
   "execution_count": 15,
   "id": "58185985-bde3-4b61-86a3-4af28d40aef7",
   "metadata": {},
   "outputs": [
    {
     "data": {
      "text/plain": [
       "AAPL   0.3640\n",
       "GOOG   0.2594\n",
       "IBM    0.0981\n",
       "MSFT   0.2010\n",
       "dtype: float64"
      ]
     },
     "execution_count": 15,
     "metadata": {},
     "output_type": "execute_result"
    }
   ],
   "source": [
    "returns.mean().mul(252) # whenever I can, I use the .mul() method, so I can keep chaining!"
   ]
  },
  {
   "cell_type": "code",
   "execution_count": 16,
   "id": "74fa98d6-5046-4ab8-ab12-2b1e6629a6d7",
   "metadata": {},
   "outputs": [
    {
     "data": {
      "text/plain": [
       "AAPL   0.3276\n",
       "GOOG   0.3070\n",
       "IBM    0.2271\n",
       "MSFT   0.2722\n",
       "dtype: float64"
      ]
     },
     "execution_count": 16,
     "metadata": {},
     "output_type": "execute_result"
    }
   ],
   "source": [
    "returns.std().mul(np.sqrt(252))"
   ]
  },
  {
   "cell_type": "markdown",
   "id": "38792fcb-86a8-405e-9ca9-0db53ac63bc9",
   "metadata": {},
   "source": [
    "### Plot *annualized* means versus standard deviations of daily returns for these four stocks"
   ]
  },
  {
   "cell_type": "markdown",
   "id": "697e77fc-9eb9-45f8-9a44-1ba88f5a0922",
   "metadata": {},
   "source": [
    "Use `plt.scatter()`, which expects arguments as `x` (standard deviations) then `y` (means)."
   ]
  },
  {
   "cell_type": "code",
   "execution_count": 17,
   "id": "2f809be1-e71c-4d50-90b7-40db6fc129e7",
   "metadata": {},
   "outputs": [
    {
     "data": {
      "image/png": "[encoded data removed]",
      "text/plain": [
       "<Figure size 640x480 with 1 Axes>"
      ]
     },
     "metadata": {
      "image/png": {
       "height": 454,
       "width": 575
      }
     },
     "output_type": "display_data"
    }
   ],
   "source": [
    "vols = returns.std().mul(np.sqrt(252) * 100)\n",
    "means = returns.mean().mul(252 * 100)\n",
    "\n",
    "plt.scatter(\n",
    "    x=vols,\n",
    "    y=means\n",
    ")\n",
    "\n",
    "plt.xlabel('Annualized Volatility of Daily Returns (%)')\n",
    "plt.ylabel('Annualized Mean of Daily Returns (%)')\n",
    "\n",
    "# plt.xlim((0, vols.max() + 5))\n",
    "# plt.ylim((0, means.max() + 5))\n",
    "\n",
    "# add tickers to each point\n",
    "for i in means.index: # loop over ticker index\n",
    "    plt.text( # plots string s at coordinates x and y\n",
    "        x=vols[i], # indexes volatility\n",
    "        y=means[i], # indexes mean return\n",
    "        s=i # ticker index\n",
    "    )\n",
    "\n",
    "plt.title('Returns versus Risk')\n",
    "plt.show() # suppresses output of last function call"
   ]
  },
  {
   "cell_type": "markdown",
   "id": "492661cf-cac9-48fd-b4dc-465fcdf43b8a",
   "metadata": {},
   "source": [
    "### Repeat the previous calculations and plot for the stocks in the Dow-Jones Industrial Index (DJIA)"
   ]
  },
  {
   "cell_type": "markdown",
   "id": "f2726b01-2512-4b22-bca2-82ee1e5741a5",
   "metadata": {},
   "source": [
    "We can find the current DJIA stocks on [Wikipedia](https://en.wikipedia.org/wiki/Dow_Jones_Industrial_Average).\n",
    "We will need to download new data, into `tickers2`, `prices2`, and `returns2`."
   ]
  },
  {
   "cell_type": "code",
   "execution_count": 18,
   "id": "87874224-147d-409d-83ba-89cdafed0109",
   "metadata": {},
   "outputs": [
    {
     "name": "stderr",
     "output_type": "stream",
     "text": [
      "[*********************100%%**********************]  30 of 30 completed\n"
     ]
    }
   ],
   "source": [
    "url2 = 'https://en.wikipedia.org/wiki/Dow_Jones_Industrial_Average'\n",
    "wiki2 = pd.read_html(io=url2)\n",
    "tickers2 = wiki2[1]['Symbol'].to_list()\n",
    "prices2 = yf.download(tickers=tickers2)"
   ]
  },
  {
   "cell_type": "code",
   "execution_count": 19,
   "id": "19096695-35aa-4194-89a6-c8c80a4f1e4e",
   "metadata": {},
   "outputs": [
    {
     "data": {
      "text/html": [
       "<div>\n",
       "<style scoped>\n",
       "    .dataframe tbody tr th:only-of-type {\n",
       "        vertical-align: middle;\n",
       "    }\n",
       "\n",
       "    .dataframe tbody tr th {\n",
       "        vertical-align: top;\n",
       "    }\n",
       "\n",
       "    .dataframe thead th {\n",
       "        text-align: right;\n",
       "    }\n",
       "</style>\n",
       "<table border=\"1\" class=\"dataframe\">\n",
       "  <thead>\n",
       "    <tr style=\"text-align: right;\">\n",
       "      <th></th>\n",
       "      <th>AAPL</th>\n",
       "      <th>AMGN</th>\n",
       "      <th>AXP</th>\n",
       "      <th>BA</th>\n",
       "      <th>CAT</th>\n",
       "      <th>CRM</th>\n",
       "      <th>CSCO</th>\n",
       "      <th>CVX</th>\n",
       "      <th>DIS</th>\n",
       "      <th>DOW</th>\n",
       "      <th>...</th>\n",
       "      <th>MRK</th>\n",
       "      <th>MSFT</th>\n",
       "      <th>NKE</th>\n",
       "      <th>PG</th>\n",
       "      <th>TRV</th>\n",
       "      <th>UNH</th>\n",
       "      <th>V</th>\n",
       "      <th>VZ</th>\n",
       "      <th>WBA</th>\n",
       "      <th>WMT</th>\n",
       "    </tr>\n",
       "    <tr>\n",
       "      <th>Date</th>\n",
       "      <th></th>\n",
       "      <th></th>\n",
       "      <th></th>\n",
       "      <th></th>\n",
       "      <th></th>\n",
       "      <th></th>\n",
       "      <th></th>\n",
       "      <th></th>\n",
       "      <th></th>\n",
       "      <th></th>\n",
       "      <th></th>\n",
       "      <th></th>\n",
       "      <th></th>\n",
       "      <th></th>\n",
       "      <th></th>\n",
       "      <th></th>\n",
       "      <th></th>\n",
       "      <th></th>\n",
       "      <th></th>\n",
       "      <th></th>\n",
       "      <th></th>\n",
       "    </tr>\n",
       "  </thead>\n",
       "  <tbody>\n",
       "    <tr>\n",
       "      <th>2019-03-21</th>\n",
       "      <td>0.0368</td>\n",
       "      <td>0.0040</td>\n",
       "      <td>0.0095</td>\n",
       "      <td>-0.0092</td>\n",
       "      <td>0.0079</td>\n",
       "      <td>0.0210</td>\n",
       "      <td>0.0128</td>\n",
       "      <td>0.0094</td>\n",
       "      <td>-0.0121</td>\n",
       "      <td>-0.0165</td>\n",
       "      <td>...</td>\n",
       "      <td>0.0106</td>\n",
       "      <td>0.0230</td>\n",
       "      <td>0.0152</td>\n",
       "      <td>0.0076</td>\n",
       "      <td>0.0231</td>\n",
       "      <td>0.0061</td>\n",
       "      <td>0.0133</td>\n",
       "      <td>0.0108</td>\n",
       "      <td>0.0129</td>\n",
       "      <td>0.0043</td>\n",
       "    </tr>\n",
       "    <tr>\n",
       "      <th>2019-03-22</th>\n",
       "      <td>-0.0207</td>\n",
       "      <td>-0.0270</td>\n",
       "      <td>-0.0211</td>\n",
       "      <td>-0.0283</td>\n",
       "      <td>-0.0320</td>\n",
       "      <td>-0.0326</td>\n",
       "      <td>-0.0222</td>\n",
       "      <td>-0.0220</td>\n",
       "      <td>-0.0040</td>\n",
       "      <td>-0.0078</td>\n",
       "      <td>...</td>\n",
       "      <td>-0.0080</td>\n",
       "      <td>-0.0264</td>\n",
       "      <td>-0.0661</td>\n",
       "      <td>-0.0081</td>\n",
       "      <td>0.0039</td>\n",
       "      <td>-0.0196</td>\n",
       "      <td>-0.0175</td>\n",
       "      <td>0.0252</td>\n",
       "      <td>-0.0187</td>\n",
       "      <td>-0.0079</td>\n",
       "    </tr>\n",
       "    <tr>\n",
       "      <th>2019-03-25</th>\n",
       "      <td>-0.0121</td>\n",
       "      <td>-0.0006</td>\n",
       "      <td>-0.0038</td>\n",
       "      <td>0.0229</td>\n",
       "      <td>0.0124</td>\n",
       "      <td>-0.0038</td>\n",
       "      <td>-0.0002</td>\n",
       "      <td>-0.0016</td>\n",
       "      <td>-0.0041</td>\n",
       "      <td>0.0113</td>\n",
       "      <td>...</td>\n",
       "      <td>0.0007</td>\n",
       "      <td>0.0052</td>\n",
       "      <td>0.0017</td>\n",
       "      <td>0.0030</td>\n",
       "      <td>0.0004</td>\n",
       "      <td>-0.0009</td>\n",
       "      <td>-0.0003</td>\n",
       "      <td>0.0054</td>\n",
       "      <td>-0.0115</td>\n",
       "      <td>-0.0011</td>\n",
       "    </tr>\n",
       "    <tr>\n",
       "      <th>2019-03-26</th>\n",
       "      <td>-0.0103</td>\n",
       "      <td>0.0090</td>\n",
       "      <td>0.0042</td>\n",
       "      <td>-0.0002</td>\n",
       "      <td>0.0035</td>\n",
       "      <td>-0.0092</td>\n",
       "      <td>0.0095</td>\n",
       "      <td>0.0101</td>\n",
       "      <td>0.0218</td>\n",
       "      <td>-0.0061</td>\n",
       "      <td>...</td>\n",
       "      <td>0.0069</td>\n",
       "      <td>0.0021</td>\n",
       "      <td>0.0128</td>\n",
       "      <td>0.0104</td>\n",
       "      <td>0.0002</td>\n",
       "      <td>-0.0141</td>\n",
       "      <td>0.0148</td>\n",
       "      <td>0.0092</td>\n",
       "      <td>0.0037</td>\n",
       "      <td>0.0015</td>\n",
       "    </tr>\n",
       "    <tr>\n",
       "      <th>2019-03-27</th>\n",
       "      <td>0.0090</td>\n",
       "      <td>-0.0104</td>\n",
       "      <td>-0.0047</td>\n",
       "      <td>0.0103</td>\n",
       "      <td>-0.0049</td>\n",
       "      <td>-0.0269</td>\n",
       "      <td>-0.0017</td>\n",
       "      <td>-0.0108</td>\n",
       "      <td>0.0013</td>\n",
       "      <td>0.0256</td>\n",
       "      <td>...</td>\n",
       "      <td>-0.0076</td>\n",
       "      <td>-0.0097</td>\n",
       "      <td>-0.0035</td>\n",
       "      <td>-0.0012</td>\n",
       "      <td>0.0101</td>\n",
       "      <td>-0.0069</td>\n",
       "      <td>-0.0070</td>\n",
       "      <td>0.0041</td>\n",
       "      <td>0.0050</td>\n",
       "      <td>-0.0113</td>\n",
       "    </tr>\n",
       "    <tr>\n",
       "      <th>...</th>\n",
       "      <td>...</td>\n",
       "      <td>...</td>\n",
       "      <td>...</td>\n",
       "      <td>...</td>\n",
       "      <td>...</td>\n",
       "      <td>...</td>\n",
       "      <td>...</td>\n",
       "      <td>...</td>\n",
       "      <td>...</td>\n",
       "      <td>...</td>\n",
       "      <td>...</td>\n",
       "      <td>...</td>\n",
       "      <td>...</td>\n",
       "      <td>...</td>\n",
       "      <td>...</td>\n",
       "      <td>...</td>\n",
       "      <td>...</td>\n",
       "      <td>...</td>\n",
       "      <td>...</td>\n",
       "      <td>...</td>\n",
       "      <td>...</td>\n",
       "    </tr>\n",
       "    <tr>\n",
       "      <th>2024-01-23</th>\n",
       "      <td>0.0067</td>\n",
       "      <td>-0.0008</td>\n",
       "      <td>0.0025</td>\n",
       "      <td>-0.0160</td>\n",
       "      <td>0.0006</td>\n",
       "      <td>-0.0126</td>\n",
       "      <td>0.0037</td>\n",
       "      <td>-0.0028</td>\n",
       "      <td>-0.0138</td>\n",
       "      <td>0.0065</td>\n",
       "      <td>...</td>\n",
       "      <td>0.0034</td>\n",
       "      <td>0.0060</td>\n",
       "      <td>0.0133</td>\n",
       "      <td>0.0414</td>\n",
       "      <td>-0.0135</td>\n",
       "      <td>0.0049</td>\n",
       "      <td>0.0002</td>\n",
       "      <td>0.0670</td>\n",
       "      <td>0.0009</td>\n",
       "      <td>0.0025</td>\n",
       "    </tr>\n",
       "    <tr>\n",
       "      <th>2024-01-24</th>\n",
       "      <td>-0.0035</td>\n",
       "      <td>-0.0142</td>\n",
       "      <td>0.0019</td>\n",
       "      <td>0.0124</td>\n",
       "      <td>0.0064</td>\n",
       "      <td>0.0004</td>\n",
       "      <td>-0.0087</td>\n",
       "      <td>0.0199</td>\n",
       "      <td>-0.0029</td>\n",
       "      <td>-0.0152</td>\n",
       "      <td>...</td>\n",
       "      <td>-0.0080</td>\n",
       "      <td>0.0092</td>\n",
       "      <td>-0.0112</td>\n",
       "      <td>-0.0121</td>\n",
       "      <td>0.0000</td>\n",
       "      <td>-0.0044</td>\n",
       "      <td>0.0014</td>\n",
       "      <td>-0.0225</td>\n",
       "      <td>-0.0093</td>\n",
       "      <td>-0.0141</td>\n",
       "    </tr>\n",
       "    <tr>\n",
       "      <th>2024-01-25</th>\n",
       "      <td>-0.0017</td>\n",
       "      <td>0.0156</td>\n",
       "      <td>0.0121</td>\n",
       "      <td>-0.0572</td>\n",
       "      <td>0.0347</td>\n",
       "      <td>0.0078</td>\n",
       "      <td>0.0199</td>\n",
       "      <td>0.0252</td>\n",
       "      <td>0.0145</td>\n",
       "      <td>0.0348</td>\n",
       "      <td>...</td>\n",
       "      <td>0.0105</td>\n",
       "      <td>0.0057</td>\n",
       "      <td>0.0001</td>\n",
       "      <td>0.0230</td>\n",
       "      <td>0.0026</td>\n",
       "      <td>-0.0386</td>\n",
       "      <td>0.0035</td>\n",
       "      <td>0.0245</td>\n",
       "      <td>0.0331</td>\n",
       "      <td>0.0146</td>\n",
       "    </tr>\n",
       "    <tr>\n",
       "      <th>2024-01-26</th>\n",
       "      <td>-0.0090</td>\n",
       "      <td>0.0049</td>\n",
       "      <td>0.0710</td>\n",
       "      <td>0.0178</td>\n",
       "      <td>-0.0045</td>\n",
       "      <td>0.0033</td>\n",
       "      <td>-0.0036</td>\n",
       "      <td>0.0038</td>\n",
       "      <td>0.0053</td>\n",
       "      <td>-0.0160</td>\n",
       "      <td>...</td>\n",
       "      <td>0.0057</td>\n",
       "      <td>-0.0023</td>\n",
       "      <td>0.0196</td>\n",
       "      <td>0.0033</td>\n",
       "      <td>-0.0004</td>\n",
       "      <td>0.0199</td>\n",
       "      <td>-0.0171</td>\n",
       "      <td>0.0026</td>\n",
       "      <td>-0.0113</td>\n",
       "      <td>0.0088</td>\n",
       "    </tr>\n",
       "    <tr>\n",
       "      <th>2024-01-29</th>\n",
       "      <td>-0.0036</td>\n",
       "      <td>0.0054</td>\n",
       "      <td>-0.0028</td>\n",
       "      <td>-0.0014</td>\n",
       "      <td>0.0128</td>\n",
       "      <td>0.0283</td>\n",
       "      <td>0.0029</td>\n",
       "      <td>-0.0004</td>\n",
       "      <td>0.0223</td>\n",
       "      <td>0.0002</td>\n",
       "      <td>...</td>\n",
       "      <td>0.0038</td>\n",
       "      <td>0.0143</td>\n",
       "      <td>0.0110</td>\n",
       "      <td>0.0001</td>\n",
       "      <td>-0.0015</td>\n",
       "      <td>0.0027</td>\n",
       "      <td>0.0213</td>\n",
       "      <td>-0.0083</td>\n",
       "      <td>-0.0057</td>\n",
       "      <td>0.0047</td>\n",
       "    </tr>\n",
       "  </tbody>\n",
       "</table>\n",
       "<p>1223 rows × 30 columns</p>\n",
       "</div>"
      ],
      "text/plain": [
       "              AAPL    AMGN     AXP      BA     CAT     CRM    CSCO     CVX  \\\n",
       "Date                                                                         \n",
       "2019-03-21  0.0368  0.0040  0.0095 -0.0092  0.0079  0.0210  0.0128  0.0094   \n",
       "2019-03-22 -0.0207 -0.0270 -0.0211 -0.0283 -0.0320 -0.0326 -0.0222 -0.0220   \n",
       "2019-03-25 -0.0121 -0.0006 -0.0038  0.0229  0.0124 -0.0038 -0.0002 -0.0016   \n",
       "2019-03-26 -0.0103  0.0090  0.0042 -0.0002  0.0035 -0.0092  0.0095  0.0101   \n",
       "2019-03-27  0.0090 -0.0104 -0.0047  0.0103 -0.0049 -0.0269 -0.0017 -0.0108   \n",
       "...            ...     ...     ...     ...     ...     ...     ...     ...   \n",
       "2024-01-23  0.0067 -0.0008  0.0025 -0.0160  0.0006 -0.0126  0.0037 -0.0028   \n",
       "2024-01-24 -0.0035 -0.0142  0.0019  0.0124  0.0064  0.0004 -0.0087  0.0199   \n",
       "2024-01-25 -0.0017  0.0156  0.0121 -0.0572  0.0347  0.0078  0.0199  0.0252   \n",
       "2024-01-26 -0.0090  0.0049  0.0710  0.0178 -0.0045  0.0033 -0.0036  0.0038   \n",
       "2024-01-29 -0.0036  0.0054 -0.0028 -0.0014  0.0128  0.0283  0.0029 -0.0004   \n",
       "\n",
       "               DIS     DOW  ...     MRK    MSFT     NKE      PG     TRV  \\\n",
       "Date                        ...                                           \n",
       "2019-03-21 -0.0121 -0.0165  ...  0.0106  0.0230  0.0152  0.0076  0.0231   \n",
       "2019-03-22 -0.0040 -0.0078  ... -0.0080 -0.0264 -0.0661 -0.0081  0.0039   \n",
       "2019-03-25 -0.0041  0.0113  ...  0.0007  0.0052  0.0017  0.0030  0.0004   \n",
       "2019-03-26  0.0218 -0.0061  ...  0.0069  0.0021  0.0128  0.0104  0.0002   \n",
       "2019-03-27  0.0013  0.0256  ... -0.0076 -0.0097 -0.0035 -0.0012  0.0101   \n",
       "...            ...     ...  ...     ...     ...     ...     ...     ...   \n",
       "2024-01-23 -0.0138  0.0065  ...  0.0034  0.0060  0.0133  0.0414 -0.0135   \n",
       "2024-01-24 -0.0029 -0.0152  ... -0.0080  0.0092 -0.0112 -0.0121  0.0000   \n",
       "2024-01-25  0.0145  0.0348  ...  0.0105  0.0057  0.0001  0.0230  0.0026   \n",
       "2024-01-26  0.0053 -0.0160  ...  0.0057 -0.0023  0.0196  0.0033 -0.0004   \n",
       "2024-01-29  0.0223  0.0002  ...  0.0038  0.0143  0.0110  0.0001 -0.0015   \n",
       "\n",
       "               UNH       V      VZ     WBA     WMT  \n",
       "Date                                                \n",
       "2019-03-21  0.0061  0.0133  0.0108  0.0129  0.0043  \n",
       "2019-03-22 -0.0196 -0.0175  0.0252 -0.0187 -0.0079  \n",
       "2019-03-25 -0.0009 -0.0003  0.0054 -0.0115 -0.0011  \n",
       "2019-03-26 -0.0141  0.0148  0.0092  0.0037  0.0015  \n",
       "2019-03-27 -0.0069 -0.0070  0.0041  0.0050 -0.0113  \n",
       "...            ...     ...     ...     ...     ...  \n",
       "2024-01-23  0.0049  0.0002  0.0670  0.0009  0.0025  \n",
       "2024-01-24 -0.0044  0.0014 -0.0225 -0.0093 -0.0141  \n",
       "2024-01-25 -0.0386  0.0035  0.0245  0.0331  0.0146  \n",
       "2024-01-26  0.0199 -0.0171  0.0026 -0.0113  0.0088  \n",
       "2024-01-29  0.0027  0.0213 -0.0083 -0.0057  0.0047  \n",
       "\n",
       "[1223 rows x 30 columns]"
      ]
     },
     "execution_count": 19,
     "metadata": {},
     "output_type": "execute_result"
    }
   ],
   "source": [
    "returns2 = (\n",
    "    prices2['Adj Close'] # slices the adj close group of columns from prices\n",
    "    .iloc[:-1] # drop last row (which is intraday during class) to avoid fill_method warning\n",
    "    .pct_change() # calculate percent in adj closes (row[n] - row[n-1]) / row[n-1]\n",
    "    .dropna() # drops rows with any missing values\n",
    ")\n",
    "\n",
    "returns2"
   ]
  },
  {
   "cell_type": "code",
   "execution_count": 20,
   "id": "c6466692-ba33-43ca-8eb3-92969d4719d4",
   "metadata": {},
   "outputs": [
    {
     "data": {
      "image/png": "[encoded data removed]",
      "text/plain": [
       "<Figure size 640x480 with 1 Axes>"
      ]
     },
     "metadata": {
      "image/png": {
       "height": 454,
       "width": 574
      }
     },
     "output_type": "display_data"
    }
   ],
   "source": [
    "vols = returns2.std().mul(np.sqrt(252) * 100)\n",
    "means = returns2.mean().mul(252 * 100)\n",
    "\n",
    "plt.scatter(\n",
    "    x=vols,\n",
    "    y=means\n",
    ")\n",
    "\n",
    "plt.xlabel('Annualized Volatility of Daily Returns (%)')\n",
    "plt.ylabel('Annualized Mean of Daily Returns (%)')\n",
    "\n",
    "# plt.xlim((0, vols.max() + 5))\n",
    "# plt.ylim((0, means.max() + 5))\n",
    "\n",
    "# add tickers to each point\n",
    "for i in means.index: # loop over ticker index\n",
    "    plt.text( # plots string s at coordinates x and y\n",
    "        x=vols[i], # indexes volatility\n",
    "        y=means[i], # indexes mean return\n",
    "        s=i # ticker index\n",
    "    )\n",
    "\n",
    "plt.title('Returns versus Risk')\n",
    "plt.show() # suppresses output of last function call"
   ]
  },
  {
   "cell_type": "markdown",
   "id": "16a850d1-f9e7-4dc8-b33f-74ec389bb9ab",
   "metadata": {},
   "source": [
    "### Calculate total returns for the stocks in the DJIA"
   ]
  },
  {
   "cell_type": "markdown",
   "id": "0502b05e-b768-4193-9f9e-23e6d76480c1",
   "metadata": {},
   "source": [
    "We can use the `.prod()` method to compound returns as $1 + R_T = \\prod_{t=1}^T (1 + R_t)$.\n",
    "Technically, we should write $R_T$ as $R_{0,T}$, but we typically omit the subscript $0$."
   ]
  },
  {
   "cell_type": "markdown",
   "id": "ab18bebf-855d-41e0-b442-4272af29511c",
   "metadata": {},
   "source": [
    "### Plot the distribution of total returns for the stocks in the DJIA"
   ]
  },
  {
   "cell_type": "markdown",
   "id": "7d7cdf0b-e78d-4126-99af-2bc279c2d839",
   "metadata": {},
   "source": [
    "We can plot a histogram, using either the `plt.hist()` function or the `.plot(kind='hist')` method."
   ]
  },
  {
   "cell_type": "markdown",
   "id": "255d61f5-cac6-4164-bdf4-7334ecf8ebab",
   "metadata": {},
   "source": [
    "### Which stocks have the minimum and maximum total returns?"
   ]
  },
  {
   "cell_type": "markdown",
   "id": "4abcfe01-5248-4cd3-b9c9-5fee3daf4912",
   "metadata": {},
   "source": [
    "### Plot the cumulative returns for the stocks in the DJIA"
   ]
  },
  {
   "cell_type": "markdown",
   "id": "a78a1284-8273-4342-ae6f-fb8f239d4649",
   "metadata": {},
   "source": [
    "We can use the cumulative product method `.cumprod()` to calculate the right hand side of the formula above."
   ]
  },
  {
   "cell_type": "markdown",
   "id": "a094ea46-cead-40fd-b74f-1a8eb4e100f4",
   "metadata": {},
   "source": [
    "### Repeat the plot above with only the minimum and maximum total returns"
   ]
  }
 ],
 "metadata": {
  "author": "Richard Herron",
  "kernelspec": {
   "display_name": "Python 3 (ipykernel)",
   "language": "python",
   "name": "python3"
  },
  "language_info": {
   "codemirror_mode": {
    "name": "ipython",
    "version": 3
   },
   "file_extension": ".py",
   "mimetype": "text/x-python",
   "name": "python",
   "nbconvert_exporter": "python",
   "pygments_lexer": "ipython3",
   "version": "3.12.1"
  },
  "title": "McKinney Chapter 5 - Practice"
 },
 "nbformat": 4,
 "nbformat_minor": 5
}
