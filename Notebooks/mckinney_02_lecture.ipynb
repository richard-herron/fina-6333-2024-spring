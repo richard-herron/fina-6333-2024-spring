{
 "cells": [
  {
   "cell_type": "markdown",
   "id": "d246ff89-3782-4dc8-ba62-70f65b2bc660",
   "metadata": {
    "tags": []
   },
   "source": [
    "# McKinney Chapter 2 - Python Language Basics, IPython, and Jupyter Notebooks"
   ]
  },
  {
   "cell_type": "markdown",
   "id": "07e80a6f-4f26-4d73-94de-0dd3a4d07c16",
   "metadata": {
    "tags": []
   },
   "source": [
    "## Introduction"
   ]
  },
  {
   "cell_type": "markdown",
   "id": "6a573b33-7049-49ab-bc82-3193109648da",
   "metadata": {},
   "source": [
    "We must understand the basics of Python before we can use it to analyze financial data.\n",
    "Chapter 2 of Wes McKinney's [*Python for Data Analysis*](https://wesmckinney.com/book/) provides a crash course in Python's syntax, and chapter 3 provides a crash course in Python's built-in data structures.\n",
    "This notebook focuses on the \"Python Language Basics\" in section 2.3, which covers language semantics, scalar types, and control flow.\n",
    "\n",
    "***Note:*** \n",
    "Indented block quotes are from McKinney unless otherwise indicated.\n",
    "The section numbers here differ from McKinney because we will only discuss some topics."
   ]
  },
  {
   "cell_type": "markdown",
   "id": "47bcfcaf-0163-4ae0-984c-ff28b001b069",
   "metadata": {
    "tags": []
   },
   "source": [
    "## Language Semantics"
   ]
  },
  {
   "cell_type": "markdown",
   "id": "cccf5b53-d410-49f4-b401-7641e104b003",
   "metadata": {
    "tags": []
   },
   "source": [
    "### Indentation, not braces"
   ]
  },
  {
   "cell_type": "markdown",
   "id": "977a5425-4654-49a0-821b-74da69ac4fdb",
   "metadata": {},
   "source": [
    "> Python uses whitespace (tabs or spaces) to structure code instead of using braces as in many other languages like R, C++, Java, and Perl.\n",
    "\n",
    "***So, spaces are more than cosmetic in Python.***\n",
    "For non-Python programmers, white space is often Python's defining feature.\n",
    "Here is a for loop with an if block that shows how Python uses white space."
   ]
  },
  {
   "cell_type": "code",
   "execution_count": 1,
   "id": "e5de0f81-b922-4e26-b6ea-a7b2ae15edbf",
   "metadata": {
    "pycharm": {
     "name": "#%%\n"
    },
    "tags": []
   },
   "outputs": [
    {
     "name": "stdout",
     "output_type": "stream",
     "text": [
      "1 is less than 2\n",
      "2 is NOT less than 2\n",
      "3 is NOT less than 2\n"
     ]
    }
   ],
   "source": [
    "array = [1, 2, 3]\n",
    "pivot = 2\n",
    "less = []\n",
    "greater = []\n",
    "\n",
    "for x in array:\n",
    "    if x < pivot:\n",
    "        print(f'{x} is less than {pivot}')\n",
    "        less.append(x)        \n",
    "    else:\n",
    "        print(f'{x} is NOT less than {pivot}')\n",
    "        greater.append(x)"
   ]
  },
  {
   "cell_type": "code",
   "execution_count": 2,
   "id": "68414f07-25df-4b5d-a775-73679e915f3b",
   "metadata": {
    "tags": []
   },
   "outputs": [
    {
     "data": {
      "text/plain": [
       "[1]"
      ]
     },
     "execution_count": 2,
     "metadata": {},
     "output_type": "execute_result"
    }
   ],
   "source": [
    "less"
   ]
  },
  {
   "cell_type": "code",
   "execution_count": 3,
   "id": "240ade72-368f-4d8d-aa90-c92e99ee3bdc",
   "metadata": {
    "tags": []
   },
   "outputs": [
    {
     "data": {
      "text/plain": [
       "[2, 3]"
      ]
     },
     "execution_count": 3,
     "metadata": {},
     "output_type": "execute_result"
    }
   ],
   "source": [
    "greater"
   ]
  },
  {
   "cell_type": "markdown",
   "id": "1e9b516b-8f3d-441f-b031-16a021529143",
   "metadata": {},
   "source": [
    "***Note:***\n",
    "We will use f-string print statements wherever we can.\n",
    "These f-string print statements are easy to use, and I do not want to teach old approaches when the new ones are better."
   ]
  },
  {
   "cell_type": "markdown",
   "id": "e7bb9a64-569e-42fa-8880-1ba2fcca56c7",
   "metadata": {
    "jp-MarkdownHeadingCollapsed": true,
    "tags": []
   },
   "source": [
    "### Comments"
   ]
  },
  {
   "cell_type": "markdown",
   "id": "1a82da5c-7544-4466-9b12-b8d3b049d384",
   "metadata": {},
   "source": [
    "> Any text preceded by the hash mark (pound sign) # is ignored by the Python interpreter. This is often used to add comments to code. At times you may also want to exclude certain blocks of code without deleting them.\n",
    "\n",
    "The Python interpreter ignores any code after a hash mark `#` on a given line.\n",
    "We can quickly comment/un-comment lines of code with the `<Ctrl>-/` shortcut."
   ]
  },
  {
   "cell_type": "code",
   "execution_count": 4,
   "id": "f21ef4bc-73fe-41ab-8d51-f81b278f56b7",
   "metadata": {
    "pycharm": {
     "name": "#%%\n"
    },
    "tags": []
   },
   "outputs": [],
   "source": [
    "# 5 + 5"
   ]
  },
  {
   "cell_type": "markdown",
   "id": "08245af1-a2ff-4e8b-9a4a-5ae4fa041b53",
   "metadata": {
    "jp-MarkdownHeadingCollapsed": true,
    "tags": []
   },
   "source": [
    "### Function and object method calls"
   ]
  },
  {
   "cell_type": "markdown",
   "id": "6f92b8f3-e808-444d-9f07-f733f8dfefad",
   "metadata": {},
   "source": [
    "> You call functions using parentheses and passing zero or more arguments, optionally assigning the returned value to a variable:\n",
    "> ```python\n",
    ">     result = f(x, y, z)\n",
    ">     g()\n",
    "> ```\n",
    "> Almost every object in Python has attached functions, known as methods, that have access to the object's internal contents. You can call them using the following > syntax:\n",
    "> ```python\n",
    ">     obj.some_method(x, y, z)\n",
    "> ```\n",
    "> Functions can take both positional and keyword arguments:\n",
    "> ```python\n",
    ">     result = f(a, b, c, d=5, e='foo')\n",
    "> ```\n",
    "> More on this later.\n",
    "\n",
    "We can write a function that adds two numbers."
   ]
  },
  {
   "cell_type": "code",
   "execution_count": 5,
   "id": "0bed7dd7-b3e6-459d-b0b6-5ecab022d27f",
   "metadata": {
    "tags": []
   },
   "outputs": [],
   "source": [
    "def add_numbers(a, b):\n",
    "    return a + b"
   ]
  },
  {
   "cell_type": "code",
   "execution_count": 6,
   "id": "490b1247-80e2-4773-8677-b25e75624b2f",
   "metadata": {
    "tags": []
   },
   "outputs": [
    {
     "data": {
      "text/plain": [
       "10"
      ]
     },
     "execution_count": 6,
     "metadata": {},
     "output_type": "execute_result"
    }
   ],
   "source": [
    "add_numbers(5, 5)"
   ]
  },
  {
   "cell_type": "markdown",
   "id": "9eadcd95-671c-46dd-894a-7db947a61417",
   "metadata": {},
   "source": [
    "We can write a function that adds two strings separated by a space."
   ]
  },
  {
   "cell_type": "code",
   "execution_count": 7,
   "id": "1abf3837-3c43-4ea5-bd3c-3cf7fb269ea3",
   "metadata": {
    "tags": []
   },
   "outputs": [],
   "source": [
    "def add_strings(a, b):\n",
    "    return a + ' ' + b"
   ]
  },
  {
   "cell_type": "code",
   "execution_count": 8,
   "id": "ff813af9-04e7-4f76-b2d0-29cb1e31aa80",
   "metadata": {
    "tags": []
   },
   "outputs": [
    {
     "data": {
      "text/plain": [
       "'5 5'"
      ]
     },
     "execution_count": 8,
     "metadata": {},
     "output_type": "execute_result"
    }
   ],
   "source": [
    "add_strings('5', '5')"
   ]
  },
  {
   "cell_type": "markdown",
   "id": "2bba6fa0-28c5-48fe-9467-ec10a284fed8",
   "metadata": {},
   "source": [
    "***What is the difference between `print()` and `return`?***\n",
    "`print()` returns its arguments to the console or \"standard output\", whereas `return` returns its argument as an output we can assign to variables.\n",
    "In the example below, we use the `return` line to assign the output of `add_string_2()` to the variable `return_from_add_strings_2`.\n",
    "The `print()` line prints to the console or \"standard output\", but its output is not assigned or captured."
   ]
  },
  {
   "cell_type": "code",
   "execution_count": 9,
   "id": "9fe758c5-ab07-4423-8894-788391886249",
   "metadata": {
    "tags": []
   },
   "outputs": [],
   "source": [
    "def add_strings_2(a, b):\n",
    "    string_to_print = a + ' ' + b + ' (this is from the print statement)'\n",
    "    string_to_return = a + ' ' + b + ' (this is from the return statement)'\n",
    "    print(string_to_print)\n",
    "    return string_to_return"
   ]
  },
  {
   "cell_type": "code",
   "execution_count": 10,
   "id": "e8d51182-d13b-4b82-9823-6bac7f974bbc",
   "metadata": {
    "tags": []
   },
   "outputs": [
    {
     "name": "stdout",
     "output_type": "stream",
     "text": [
      "5 5 (this is from the print statement)\n"
     ]
    }
   ],
   "source": [
    "returned = add_strings_2('5', '5')"
   ]
  },
  {
   "cell_type": "code",
   "execution_count": 11,
   "id": "81f5bf85-56d7-43a6-8d64-c7183e974d08",
   "metadata": {
    "tags": []
   },
   "outputs": [
    {
     "data": {
      "text/plain": [
       "'5 5 (this is from the return statement)'"
      ]
     },
     "execution_count": 11,
     "metadata": {},
     "output_type": "execute_result"
    }
   ],
   "source": [
    "returned"
   ]
  },
  {
   "cell_type": "markdown",
   "id": "2a5eefb2-2a3f-4563-a599-2747ec95ede3",
   "metadata": {
    "jp-MarkdownHeadingCollapsed": true,
    "tags": []
   },
   "source": [
    "### Variables and argument passing"
   ]
  },
  {
   "cell_type": "markdown",
   "id": "8f546c0f-ab5f-4871-b81d-f2a688a09a0c",
   "metadata": {},
   "source": [
    "> When assigning a variable (or name) in Python, you are creating a reference to the object on the righthand side of the equals sign."
   ]
  },
  {
   "cell_type": "code",
   "execution_count": 12,
   "id": "1e7beb1a-7ce0-4da4-b9fa-3c3064982d8a",
   "metadata": {
    "pycharm": {
     "name": "#%%\n"
    },
    "tags": []
   },
   "outputs": [],
   "source": [
    "a = [1, 2, 3]"
   ]
  },
  {
   "cell_type": "code",
   "execution_count": 13,
   "id": "736b0efd-d80a-4636-a301-79f0e4fddacc",
   "metadata": {
    "tags": []
   },
   "outputs": [
    {
     "data": {
      "text/plain": [
       "[1, 2, 3]"
      ]
     },
     "execution_count": 13,
     "metadata": {},
     "output_type": "execute_result"
    }
   ],
   "source": [
    "a"
   ]
  },
  {
   "cell_type": "markdown",
   "id": "197ac142-28f6-471f-a773-26bce19f359d",
   "metadata": {},
   "source": [
    "If we assign `a` to a new variable `b`, both `a` and `b` refer to the *same* object.\n",
    "This same object is the list `[1, 2, 3]`.\n",
    "If we change `a`, we also change `b`, because these variables or names refer to the *same* object."
   ]
  },
  {
   "cell_type": "code",
   "execution_count": 14,
   "id": "8c0412dd-756c-4eac-bfcf-8975cf70aa3e",
   "metadata": {
    "pycharm": {
     "name": "#%%\n"
    },
    "tags": []
   },
   "outputs": [],
   "source": [
    "b = a"
   ]
  },
  {
   "cell_type": "code",
   "execution_count": 15,
   "id": "4a80e853-417f-478c-b98e-24520f3e469f",
   "metadata": {
    "tags": []
   },
   "outputs": [
    {
     "data": {
      "text/plain": [
       "[1, 2, 3]"
      ]
     },
     "execution_count": 15,
     "metadata": {},
     "output_type": "execute_result"
    }
   ],
   "source": [
    "b"
   ]
  },
  {
   "cell_type": "markdown",
   "id": "7aeb5e16-c087-45e6-91f0-568109c3cd76",
   "metadata": {},
   "source": [
    "***Variables `a` and `b` refer to the same object, a list `[1, 2, 3]`.***\n",
    "We will learn more about lists (and tuples and dictionaries) in chapter 3 of McKinney."
   ]
  },
  {
   "cell_type": "code",
   "execution_count": 16,
   "id": "97c1e28d-d990-436a-afce-5ef2ec9ed570",
   "metadata": {
    "pycharm": {
     "name": "#%%\n"
    }
   },
   "outputs": [
    {
     "data": {
      "text/plain": [
       "True"
      ]
     },
     "execution_count": 16,
     "metadata": {},
     "output_type": "execute_result"
    }
   ],
   "source": [
    "a is b"
   ]
  },
  {
   "cell_type": "markdown",
   "id": "56558ef6-1882-428e-8984-49a223f35791",
   "metadata": {},
   "source": [
    "***If we modify `a` by appending a 4, we change `b` because `a` and `b` refer to the same list.***"
   ]
  },
  {
   "cell_type": "code",
   "execution_count": 17,
   "id": "87fe3b44-c540-4ac2-b1ee-2656f70b9a9f",
   "metadata": {
    "pycharm": {
     "name": "#%%\n"
    }
   },
   "outputs": [],
   "source": [
    "a.append(4)"
   ]
  },
  {
   "cell_type": "code",
   "execution_count": 18,
   "id": "93d374a1-364b-4bcc-9115-20b50dde27c5",
   "metadata": {},
   "outputs": [
    {
     "data": {
      "text/plain": [
       "[1, 2, 3, 4]"
      ]
     },
     "execution_count": 18,
     "metadata": {},
     "output_type": "execute_result"
    }
   ],
   "source": [
    "a"
   ]
  },
  {
   "cell_type": "code",
   "execution_count": 19,
   "id": "c57cb72f-8ca5-466e-a9fa-192e1e5a2239",
   "metadata": {},
   "outputs": [
    {
     "data": {
      "text/plain": [
       "[1, 2, 3, 4]"
      ]
     },
     "execution_count": 19,
     "metadata": {},
     "output_type": "execute_result"
    }
   ],
   "source": [
    "b"
   ]
  },
  {
   "cell_type": "markdown",
   "id": "4dbd25d9-0097-4c0d-a27a-d1842fcb6859",
   "metadata": {},
   "source": [
    "***Likewise, if we modify `b` by appending a 5, we change `a`, too!***"
   ]
  },
  {
   "cell_type": "code",
   "execution_count": 20,
   "id": "7de8514e-5018-491c-bf08-ccbb267f2507",
   "metadata": {},
   "outputs": [],
   "source": [
    "b.append(5)"
   ]
  },
  {
   "cell_type": "code",
   "execution_count": 21,
   "id": "eba3b0f3-c991-422c-8142-71a27659e6b6",
   "metadata": {},
   "outputs": [
    {
     "data": {
      "text/plain": [
       "[1, 2, 3, 4, 5]"
      ]
     },
     "execution_count": 21,
     "metadata": {},
     "output_type": "execute_result"
    }
   ],
   "source": [
    "a"
   ]
  },
  {
   "cell_type": "code",
   "execution_count": 22,
   "id": "25996657-7199-4a08-b92b-321fa6a4ad40",
   "metadata": {},
   "outputs": [
    {
     "data": {
      "text/plain": [
       "[1, 2, 3, 4, 5]"
      ]
     },
     "execution_count": 22,
     "metadata": {},
     "output_type": "execute_result"
    }
   ],
   "source": [
    "b"
   ]
  },
  {
   "cell_type": "markdown",
   "id": "3c10ad01-16d4-497f-a89d-15b7a098a870",
   "metadata": {},
   "source": [
    "The behavior is useful but a double-edged sword!\n",
    "[Here](https://nedbatchelder.com/text/names.html) is a deeper discussion of this behavior."
   ]
  },
  {
   "cell_type": "markdown",
   "id": "bd8a404f-1506-4753-bdba-a1f2d6333e13",
   "metadata": {
    "jp-MarkdownHeadingCollapsed": true,
    "tags": []
   },
   "source": [
    "### Dynamic references, strong types"
   ]
  },
  {
   "cell_type": "markdown",
   "id": "f49cc612-f48e-45fe-8d9d-d8b68aa6f2f9",
   "metadata": {},
   "source": [
    "> In contrast with many compiled languages, such as Java and C++, object references in Python have no type associated with them.\n",
    "\n",
    "In Python, \n",
    "\n",
    "1. We do not declare variables and their types\n",
    "1. We can change variables' types because variables are only names that refer to objects\n",
    "\n",
    "*Dynamic references* mean we can reassign a variable to a new object in Python.\n",
    "For example, we can reassign `a` from a list to an integer to a string."
   ]
  },
  {
   "cell_type": "code",
   "execution_count": 23,
   "id": "082a4ea6-7ac0-4969-b607-11f766e4aae4",
   "metadata": {
    "tags": []
   },
   "outputs": [
    {
     "data": {
      "text/plain": [
       "[1, 2, 3, 4, 5]"
      ]
     },
     "execution_count": 23,
     "metadata": {},
     "output_type": "execute_result"
    }
   ],
   "source": [
    "a"
   ]
  },
  {
   "cell_type": "code",
   "execution_count": 24,
   "id": "a6808582-6860-48ac-a312-3da02ba27922",
   "metadata": {
    "pycharm": {
     "name": "#%%\n"
    },
    "tags": []
   },
   "outputs": [
    {
     "data": {
      "text/plain": [
       "list"
      ]
     },
     "execution_count": 24,
     "metadata": {},
     "output_type": "execute_result"
    }
   ],
   "source": [
    "type(a)"
   ]
  },
  {
   "cell_type": "code",
   "execution_count": 25,
   "id": "5dc7ef10-2e1d-496e-8d40-3f0133ede113",
   "metadata": {
    "pycharm": {
     "name": "#%%\n"
    },
    "tags": []
   },
   "outputs": [
    {
     "data": {
      "text/plain": [
       "int"
      ]
     },
     "execution_count": 25,
     "metadata": {},
     "output_type": "execute_result"
    }
   ],
   "source": [
    "a = 5\n",
    "type(a)"
   ]
  },
  {
   "cell_type": "code",
   "execution_count": 26,
   "id": "b5704a24-a5df-48fb-ab90-3a0982ff545a",
   "metadata": {
    "pycharm": {
     "name": "#%%\n"
    },
    "tags": []
   },
   "outputs": [
    {
     "data": {
      "text/plain": [
       "str"
      ]
     },
     "execution_count": 26,
     "metadata": {},
     "output_type": "execute_result"
    }
   ],
   "source": [
    "a = 'foo'\n",
    "type(a)"
   ]
  },
  {
   "cell_type": "markdown",
   "id": "acf430bb-bc9a-472a-9715-7f5da5bdc232",
   "metadata": {},
   "source": [
    "*Strong types* mean Python typically will not convert object types.\n",
    "For example, the code  returns either `'55'` as a string or `10` as an integer in many programming languages.\n",
    "However, `'5' + 5` returns an error in Python."
   ]
  },
  {
   "cell_type": "code",
   "execution_count": 27,
   "id": "201ff2f8-6897-40eb-8b4b-e73501cb5002",
   "metadata": {
    "pycharm": {
     "name": "#%%\n"
    },
    "tags": []
   },
   "outputs": [],
   "source": [
    "# '5' + 5"
   ]
  },
  {
   "cell_type": "markdown",
   "id": "d69a9b05-54f3-4ee9-88d5-766ed33c80a2",
   "metadata": {},
   "source": [
    "However, Python implicitly converts integers to floats."
   ]
  },
  {
   "cell_type": "code",
   "execution_count": 28,
   "id": "e674a7db-e8f3-4141-ab01-dcbb3f22a729",
   "metadata": {
    "pycharm": {
     "name": "#%%\n"
    },
    "tags": []
   },
   "outputs": [
    {
     "name": "stdout",
     "output_type": "stream",
     "text": [
      "a is <class 'float'>, b is <class 'int'>\n"
     ]
    },
    {
     "data": {
      "text/plain": [
       "2.25"
      ]
     },
     "execution_count": 28,
     "metadata": {},
     "output_type": "execute_result"
    }
   ],
   "source": [
    "a = 4.5\n",
    "b = 2\n",
    "print(f'a is {type(a)}, b is {type(b)}')\n",
    "a / b"
   ]
  },
  {
   "cell_type": "markdown",
   "id": "74ade0a2-eed4-41cb-b2af-901247d1fefc",
   "metadata": {},
   "source": [
    "In the previous code cell:\n",
    "\n",
    "1. The 'a is ...' output prints because of the explicit `print()` function call\n",
    "1. The output of `a / b` prints (or displays) because it is the last line in the code cell"
   ]
  },
  {
   "cell_type": "markdown",
   "id": "0cffb81c-3799-4991-9be5-2533ecb6d031",
   "metadata": {},
   "source": [
    "If we want integer division (or floor division), we have to use `//`."
   ]
  },
  {
   "cell_type": "code",
   "execution_count": 29,
   "id": "3163cdd2-fabd-4807-9f63-3b59b2efc2b9",
   "metadata": {
    "tags": []
   },
   "outputs": [
    {
     "data": {
      "text/plain": [
       "2"
      ]
     },
     "execution_count": 29,
     "metadata": {},
     "output_type": "execute_result"
    }
   ],
   "source": [
    "5 // 2"
   ]
  },
  {
   "cell_type": "code",
   "execution_count": 30,
   "id": "39a898b0-ccc4-4e85-9359-27bf66144629",
   "metadata": {
    "tags": []
   },
   "outputs": [
    {
     "data": {
      "text/plain": [
       "2.5"
      ]
     },
     "execution_count": 30,
     "metadata": {},
     "output_type": "execute_result"
    }
   ],
   "source": [
    "5 / 2"
   ]
  },
  {
   "cell_type": "markdown",
   "id": "1ea1632f-af1c-47f5-a0b0-5208a74483e9",
   "metadata": {
    "jp-MarkdownHeadingCollapsed": true,
    "tags": []
   },
   "source": [
    "### Attributes and methods"
   ]
  },
  {
   "cell_type": "markdown",
   "id": "864674c7-979c-4d59-a4ff-1257ee0bb807",
   "metadata": {},
   "source": [
    "We can use tab completion to list attributes (characteristics stored inside objects) and methods (functions associated with objects)."
   ]
  },
  {
   "cell_type": "code",
   "execution_count": 31,
   "id": "04ad9e59-72e9-46c5-9296-911e4558b572",
   "metadata": {
    "pycharm": {
     "name": "#%%\n"
    },
    "tags": []
   },
   "outputs": [],
   "source": [
    "a = 'foo'"
   ]
  },
  {
   "cell_type": "code",
   "execution_count": 32,
   "id": "45a47e17-2122-48ea-9e6d-9e0203e0d0b7",
   "metadata": {
    "pycharm": {
     "name": "#%%\n"
    },
    "tags": []
   },
   "outputs": [
    {
     "data": {
      "text/plain": [
       "'Foo'"
      ]
     },
     "execution_count": 32,
     "metadata": {},
     "output_type": "execute_result"
    }
   ],
   "source": [
    "a.capitalize()"
   ]
  },
  {
   "cell_type": "markdown",
   "id": "b27487e9-c4cd-44cf-9442-a09930b1a1af",
   "metadata": {
    "jp-MarkdownHeadingCollapsed": true,
    "tags": []
   },
   "source": [
    "### Imports"
   ]
  },
  {
   "cell_type": "markdown",
   "id": "6c65483e-747d-40a8-bdca-9ca9721e5341",
   "metadata": {},
   "source": [
    "> In Python a module is simply a file with the .py extension containing Python code.\n",
    "\n",
    "We can import with `import` statements, which have several syntaxes.\n",
    "The basic syntax uses the module name as the prefix to separate module items from our current namespace."
   ]
  },
  {
   "cell_type": "code",
   "execution_count": 33,
   "id": "e045f648-7c0d-4c22-b15c-ac1ea623bf46",
   "metadata": {
    "pycharm": {
     "name": "#%%\n"
    },
    "tags": []
   },
   "outputs": [],
   "source": [
    "import pandas"
   ]
  },
  {
   "cell_type": "markdown",
   "id": "9c5bdc81-99de-4b46-8437-4d4239e46752",
   "metadata": {},
   "source": [
    "The `import as` syntax lets us define an abbreviated prefix."
   ]
  },
  {
   "cell_type": "code",
   "execution_count": 34,
   "id": "6bed1227-fdfd-44cf-9467-9bf0667157f3",
   "metadata": {
    "pycharm": {
     "name": "#%%\n"
    },
    "tags": []
   },
   "outputs": [],
   "source": [
    "import pandas as pd"
   ]
  },
  {
   "cell_type": "markdown",
   "id": "ab745ca1-42c7-4e30-b0ce-90ec8c60d1b7",
   "metadata": {},
   "source": [
    "We can also import one or more items from a package into our namespace with the following syntaxes."
   ]
  },
  {
   "cell_type": "code",
   "execution_count": 35,
   "id": "96bab7e8-79e3-4410-a7a3-9d3489ad68d9",
   "metadata": {
    "pycharm": {
     "name": "#%%\n"
    },
    "tags": []
   },
   "outputs": [],
   "source": [
    "from pandas import DataFrame"
   ]
  },
  {
   "cell_type": "code",
   "execution_count": 36,
   "id": "7f9c0053-fdf3-4c15-b549-280c1ae0150e",
   "metadata": {
    "pycharm": {
     "name": "#%%\n"
    },
    "tags": []
   },
   "outputs": [],
   "source": [
    "from pandas import DataFrame as df"
   ]
  },
  {
   "cell_type": "markdown",
   "id": "f2a66aa7-d706-4e06-9732-a6d0de769003",
   "metadata": {
    "jp-MarkdownHeadingCollapsed": true,
    "tags": []
   },
   "source": [
    "### Binary operators and comparisons"
   ]
  },
  {
   "cell_type": "markdown",
   "id": "11f2d2fa-7c4b-410b-bc83-a8446dfa59ba",
   "metadata": {},
   "source": [
    "Binary operators work like Excel."
   ]
  },
  {
   "cell_type": "code",
   "execution_count": 37,
   "id": "b46d06f8-bb6f-45d6-883b-6de151900497",
   "metadata": {
    "pycharm": {
     "name": "#%%\n"
    },
    "tags": []
   },
   "outputs": [
    {
     "data": {
      "text/plain": [
       "-2"
      ]
     },
     "execution_count": 37,
     "metadata": {},
     "output_type": "execute_result"
    }
   ],
   "source": [
    "5 - 7"
   ]
  },
  {
   "cell_type": "code",
   "execution_count": 38,
   "id": "7ad74237-99fe-4253-a8b6-c45f884a06c5",
   "metadata": {
    "pycharm": {
     "name": "#%%\n"
    },
    "tags": []
   },
   "outputs": [
    {
     "data": {
      "text/plain": [
       "33.5"
      ]
     },
     "execution_count": 38,
     "metadata": {},
     "output_type": "execute_result"
    }
   ],
   "source": [
    "12 + 21.5"
   ]
  },
  {
   "cell_type": "code",
   "execution_count": 39,
   "id": "a1abb8da-9362-4daf-ab37-c5d07ac738f3",
   "metadata": {
    "pycharm": {
     "name": "#%%\n"
    },
    "tags": []
   },
   "outputs": [
    {
     "data": {
      "text/plain": [
       "False"
      ]
     },
     "execution_count": 39,
     "metadata": {},
     "output_type": "execute_result"
    }
   ],
   "source": [
    "5 <= 2"
   ]
  },
  {
   "cell_type": "markdown",
   "id": "d7627a2d-6900-42d9-83bb-3ad8974e3031",
   "metadata": {},
   "source": [
    "We can operate during an assignment to avoid two names referring to the same object."
   ]
  },
  {
   "cell_type": "code",
   "execution_count": 40,
   "id": "37f87cfe-6f50-48af-b280-09d6a5792dbd",
   "metadata": {
    "pycharm": {
     "name": "#%%\n"
    },
    "tags": []
   },
   "outputs": [],
   "source": [
    "a = [1, 2, 3]\n",
    "b = a\n",
    "c = list(a)"
   ]
  },
  {
   "cell_type": "code",
   "execution_count": 41,
   "id": "d3f5f008-6ac4-48e5-8c09-8a8ac629331f",
   "metadata": {
    "pycharm": {
     "name": "#%%\n"
    },
    "tags": []
   },
   "outputs": [
    {
     "data": {
      "text/plain": [
       "True"
      ]
     },
     "execution_count": 41,
     "metadata": {},
     "output_type": "execute_result"
    }
   ],
   "source": [
    "a is b"
   ]
  },
  {
   "cell_type": "code",
   "execution_count": 42,
   "id": "fc61230b-75b1-4afd-bc89-2bff483e7b9e",
   "metadata": {
    "pycharm": {
     "name": "#%%\n"
    },
    "tags": []
   },
   "outputs": [
    {
     "data": {
      "text/plain": [
       "False"
      ]
     },
     "execution_count": 42,
     "metadata": {},
     "output_type": "execute_result"
    }
   ],
   "source": [
    "a is c"
   ]
  },
  {
   "cell_type": "markdown",
   "id": "e1daa04f-3094-4366-bfae-39e433d63fa2",
   "metadata": {},
   "source": [
    "Here `a` and `c` have the same *values* but are not the same object!"
   ]
  },
  {
   "cell_type": "code",
   "execution_count": 43,
   "id": "33ddfd61-59bb-4838-a664-bd381ad29ac9",
   "metadata": {
    "tags": []
   },
   "outputs": [
    {
     "data": {
      "text/plain": [
       "True"
      ]
     },
     "execution_count": 43,
     "metadata": {},
     "output_type": "execute_result"
    }
   ],
   "source": [
    "a == c"
   ]
  },
  {
   "cell_type": "code",
   "execution_count": 44,
   "id": "cf623b9f-9500-4127-9907-2497fce29853",
   "metadata": {
    "pycharm": {
     "name": "#%%\n"
    },
    "tags": []
   },
   "outputs": [
    {
     "data": {
      "text/plain": [
       "True"
      ]
     },
     "execution_count": 44,
     "metadata": {},
     "output_type": "execute_result"
    }
   ],
   "source": [
    "a is not c"
   ]
  },
  {
   "cell_type": "markdown",
   "id": "5a0535d3-e1a2-4559-b9fc-29e28d3f97f1",
   "metadata": {},
   "source": [
    "In Python, `=` is the assignment operator, `==` tests equality, and `!=` tests inequality."
   ]
  },
  {
   "cell_type": "code",
   "execution_count": 45,
   "id": "d2122d0d-ea4c-4518-815f-cbf354348f5f",
   "metadata": {
    "pycharm": {
     "name": "#%%\n"
    },
    "tags": []
   },
   "outputs": [
    {
     "data": {
      "text/plain": [
       "True"
      ]
     },
     "execution_count": 45,
     "metadata": {},
     "output_type": "execute_result"
    }
   ],
   "source": [
    "a == c"
   ]
  },
  {
   "cell_type": "code",
   "execution_count": 46,
   "id": "3a8b3680-7f5f-4e6d-a987-df389d26563f",
   "metadata": {
    "pycharm": {
     "name": "#%%\n"
    },
    "tags": []
   },
   "outputs": [
    {
     "data": {
      "text/plain": [
       "False"
      ]
     },
     "execution_count": 46,
     "metadata": {},
     "output_type": "execute_result"
    }
   ],
   "source": [
    "a != c"
   ]
  },
  {
   "cell_type": "markdown",
   "id": "7a98136c-681b-4c29-a0c5-ad964941fb50",
   "metadata": {},
   "source": [
    "`a` and `c` have the same values but reference different objects in memory."
   ]
  },
  {
   "cell_type": "markdown",
   "id": "bac6a12c-cf2a-4d71-9765-0284e6407859",
   "metadata": {},
   "source": [
    "***Table 2-1*** from McKinney summarizes the binary operators.\n",
    "\n",
    "- `a + b` : Add a and b\n",
    "- `a - b` : Subtract b from a\n",
    "- `a * b` : Multiply a by b\n",
    "- `a / b` : Divide a by b\n",
    "- `a // b` : Floor-divide a by b, dropping any fractional remainder\n",
    "- `a ** b` : Raise a to the b power\n",
    "- `a & b` : True if both a and b are True; for integers, take the bitwise AND\n",
    "- `a | b` : True if either a or b is True; for integers, take the bitwise OR\n",
    "- `a ^ b` : For booleans, True if a or b is True , but not both; for integers, take the bitwise EXCLUSIVE-OR\n",
    "- `a == b` : True if a equals b\n",
    "- `a != b`: True if a is not equal to b\n",
    "- `a <= b, a < b` : True if a is less than (less than or equal) to b\n",
    "- `a > b, a >= b`: True if a is greater than (greater than or equal) to b\n",
    "- `a is b` : True if a and b reference the same Python object\n",
    "- `a is not b` : True if a and b reference different Python objects"
   ]
  },
  {
   "cell_type": "markdown",
   "id": "71d9eb9a-28c1-4458-ab92-a3f67b37fa02",
   "metadata": {
    "jp-MarkdownHeadingCollapsed": true,
    "tags": []
   },
   "source": [
    "### Mutable and immutable objects"
   ]
  },
  {
   "cell_type": "markdown",
   "id": "160d0730-e38c-4b42-bb0c-e40af7150c3b",
   "metadata": {},
   "source": [
    "> Most objects in Python, such as lists, dicts, NumPy arrays, and most user-defined\n",
    "types (classes), are mutable. This means that the object or values that they contain can\n",
    "be modified.\n",
    "\n",
    "Lists are mutable, so we can modify them."
   ]
  },
  {
   "cell_type": "code",
   "execution_count": 47,
   "id": "f03473c3-ee34-42b1-9c80-fd27176e0c62",
   "metadata": {
    "pycharm": {
     "name": "#%%\n"
    },
    "tags": []
   },
   "outputs": [],
   "source": [
    "a_list = ['foo', 2, [4, 5]]"
   ]
  },
  {
   "cell_type": "markdown",
   "id": "96d16ab6-9892-476c-8daa-0b409e781c82",
   "metadata": {},
   "source": [
    "***Python is zero-indexed! The first element has a zero subscript `[0]`!***"
   ]
  },
  {
   "cell_type": "code",
   "execution_count": 48,
   "id": "3dd59728-3f39-42eb-a8b4-20c5cbe8cd51",
   "metadata": {
    "pycharm": {
     "name": "#%%\n"
    },
    "tags": []
   },
   "outputs": [
    {
     "data": {
      "text/plain": [
       "'foo'"
      ]
     },
     "execution_count": 48,
     "metadata": {},
     "output_type": "execute_result"
    }
   ],
   "source": [
    "a_list[0]"
   ]
  },
  {
   "cell_type": "code",
   "execution_count": 49,
   "id": "a7b64145-b729-46ba-a7ba-e3acbc6de1de",
   "metadata": {
    "pycharm": {
     "name": "#%%\n"
    },
    "tags": []
   },
   "outputs": [
    {
     "data": {
      "text/plain": [
       "[4, 5]"
      ]
     },
     "execution_count": 49,
     "metadata": {},
     "output_type": "execute_result"
    }
   ],
   "source": [
    "a_list[2]"
   ]
  },
  {
   "cell_type": "code",
   "execution_count": 50,
   "id": "bf825fb1-ad2f-4ace-9d7e-b72d055236e1",
   "metadata": {
    "pycharm": {
     "name": "#%%\n"
    },
    "tags": []
   },
   "outputs": [
    {
     "data": {
      "text/plain": [
       "4"
      ]
     },
     "execution_count": 50,
     "metadata": {},
     "output_type": "execute_result"
    }
   ],
   "source": [
    "a_list[2][0]"
   ]
  },
  {
   "cell_type": "code",
   "execution_count": 51,
   "id": "badce255-d137-4e05-b0bb-87cd8e622141",
   "metadata": {
    "pycharm": {
     "name": "#%%\n"
    },
    "tags": []
   },
   "outputs": [],
   "source": [
    "a_list[2] = (3, 4)"
   ]
  },
  {
   "cell_type": "markdown",
   "id": "f73b4043-0f01-4302-a2e2-0dd425c38480",
   "metadata": {},
   "source": [
    "Tuples are *immutable*, so we cannot modify them."
   ]
  },
  {
   "cell_type": "code",
   "execution_count": 52,
   "id": "a96f13b7-d930-47da-8af8-8d72cb24f189",
   "metadata": {
    "pycharm": {
     "name": "#%%\n"
    },
    "tags": []
   },
   "outputs": [],
   "source": [
    "a_tuple = (3, 5, (4, 5))"
   ]
  },
  {
   "cell_type": "markdown",
   "id": "9260f1d1-2624-4668-ae7c-29b6ee88aaff",
   "metadata": {},
   "source": [
    "The Python interpreter returns an error if we try to modify `a_tuple` because tuples are immutable."
   ]
  },
  {
   "cell_type": "code",
   "execution_count": 53,
   "id": "d336259b-23de-4942-a6c1-c86af1e6c0b2",
   "metadata": {
    "pycharm": {
     "name": "#%%\n"
    },
    "tags": []
   },
   "outputs": [],
   "source": [
    "# a_tuple[1] = 'four'"
   ]
  },
  {
   "cell_type": "markdown",
   "id": "cb171a26-0e7c-4c43-8dfa-71723d7d9bda",
   "metadata": {},
   "source": [
    "***Note:***\n",
    "Tuples do not require `()`, but `()` improve readability."
   ]
  },
  {
   "cell_type": "code",
   "execution_count": 54,
   "id": "c56aa82c-e6cc-4e9d-b2f0-df93a05f3653",
   "metadata": {
    "tags": []
   },
   "outputs": [],
   "source": [
    "test = 1, 2, 3"
   ]
  },
  {
   "cell_type": "code",
   "execution_count": 55,
   "id": "ec602ac8-7c9c-4c35-bc1b-0a381c834c89",
   "metadata": {
    "tags": []
   },
   "outputs": [
    {
     "data": {
      "text/plain": [
       "tuple"
      ]
     },
     "execution_count": 55,
     "metadata": {},
     "output_type": "execute_result"
    }
   ],
   "source": [
    "type(test)"
   ]
  },
  {
   "cell_type": "markdown",
   "id": "2c5b94e2-6a72-4895-9aeb-723044c4759d",
   "metadata": {},
   "source": [
    "We will learn more about Python's built-in data structures in McKinney chapter 3."
   ]
  },
  {
   "cell_type": "markdown",
   "id": "344ddd90-f644-47d8-a138-40dbae798aac",
   "metadata": {
    "jp-MarkdownHeadingCollapsed": true,
    "tags": []
   },
   "source": [
    "## Scalar Types"
   ]
  },
  {
   "cell_type": "markdown",
   "id": "1294193e-b066-446b-abc2-b0b4f311b4e0",
   "metadata": {},
   "source": [
    "> Python along with its standard library has a small set of built-in types for handling numerical data, strings, boolean ( True or False ) values, and dates and time. These \"single value\" types are sometimes called scalar types and we refer to them in this book as scalars. See Table 2-4 for a list of the main scalar types. Date and time handling will be discussed separately, as these are provided by the datetime module in the standard  library.\n",
    "\n",
    "***Table 2-2*** from McKinney lists the standard scalar types.\n",
    "\n",
    "- `None`: The Python \"null\" value (only one instance of the None object exists)\n",
    "- `str`: String type; holds Unicode (UTF-8 encoded) strings\n",
    "- `bytes`: Raw ASCII bytes (or Unicode encoded as bytes)\n",
    "- `float`: Double-precision (64-bit) floating-point number (note there is no separate double type)\n",
    "- `bool`: A True or False value\n",
    "- `int`: Arbitrary precision signed integer"
   ]
  },
  {
   "cell_type": "markdown",
   "id": "77ceda36-41c8-4570-a20d-dd35f8645760",
   "metadata": {
    "jp-MarkdownHeadingCollapsed": true,
    "tags": []
   },
   "source": [
    "### Numeric types"
   ]
  },
  {
   "cell_type": "markdown",
   "id": "473cf5f6-f174-43fe-b270-d9dc66c147f3",
   "metadata": {},
   "source": [
    "In Python, integers are unbounded, and `**` raises numbers to a power.\n",
    "So, `ival ** 6` is $17239781^6$."
   ]
  },
  {
   "cell_type": "code",
   "execution_count": 56,
   "id": "d5c986e9-22d7-4cb5-8edd-0886a08d2435",
   "metadata": {
    "pycharm": {
     "name": "#%%\n"
    }
   },
   "outputs": [
    {
     "data": {
      "text/plain": [
       "26254519291092456596965462913230729701102721"
      ]
     },
     "execution_count": 56,
     "metadata": {},
     "output_type": "execute_result"
    }
   ],
   "source": [
    "ival = 17239871\n",
    "ival ** 6"
   ]
  },
  {
   "cell_type": "markdown",
   "id": "78e093e9-dabf-47d3-b062-9f77c0925fe2",
   "metadata": {},
   "source": [
    "Floats (decimal numbers) are 64-bit in Python."
   ]
  },
  {
   "cell_type": "code",
   "execution_count": 57,
   "id": "82915c3b-7696-42da-afef-6dae83010a95",
   "metadata": {
    "pycharm": {
     "name": "#%%\n"
    }
   },
   "outputs": [],
   "source": [
    "fval = 7.243"
   ]
  },
  {
   "cell_type": "code",
   "execution_count": 58,
   "id": "76563272-02e2-45cf-9a65-69543a7e7e8e",
   "metadata": {},
   "outputs": [
    {
     "data": {
      "text/plain": [
       "float"
      ]
     },
     "execution_count": 58,
     "metadata": {},
     "output_type": "execute_result"
    }
   ],
   "source": [
    "type(fval)"
   ]
  },
  {
   "cell_type": "markdown",
   "id": "4cdcd73a-389a-4f98-a8cf-6304f3fe0273",
   "metadata": {},
   "source": [
    "Dividing integers yields a float, if necessary."
   ]
  },
  {
   "cell_type": "code",
   "execution_count": 59,
   "id": "3386fe04-e984-4892-82fd-81624424f7d9",
   "metadata": {
    "pycharm": {
     "name": "#%%\n"
    }
   },
   "outputs": [
    {
     "data": {
      "text/plain": [
       "1.5"
      ]
     },
     "execution_count": 59,
     "metadata": {},
     "output_type": "execute_result"
    }
   ],
   "source": [
    "3 / 2"
   ]
  },
  {
   "cell_type": "markdown",
   "id": "6736ed5c-0709-4d2c-b5c9-d36422688800",
   "metadata": {},
   "source": [
    "We have to use `//` if we want C-style integer division (i.e., $3 / 2 = 1$)."
   ]
  },
  {
   "cell_type": "code",
   "execution_count": 60,
   "id": "e56b25cd-8787-40b6-9876-84e41f3146ea",
   "metadata": {
    "pycharm": {
     "name": "#%%\n"
    }
   },
   "outputs": [
    {
     "data": {
      "text/plain": [
       "1"
      ]
     },
     "execution_count": 60,
     "metadata": {},
     "output_type": "execute_result"
    }
   ],
   "source": [
    "3 // 2"
   ]
  },
  {
   "cell_type": "markdown",
   "id": "3bd53040-747e-4879-b324-373fe449e750",
   "metadata": {
    "jp-MarkdownHeadingCollapsed": true,
    "tags": []
   },
   "source": [
    "### Booleans"
   ]
  },
  {
   "cell_type": "markdown",
   "id": "81b7f0db-0d83-4d41-8b31-04e72abd5a06",
   "metadata": {},
   "source": [
    "> The two Boolean values in Python are written as True and False. Comparisons and other conditional expressions evaluate to either True or False. Boolean values are combined with the and and or keywords.\n",
    "\n",
    "Python is case sensitive, so we must type Booleans as `True` and `False`."
   ]
  },
  {
   "cell_type": "code",
   "execution_count": 61,
   "id": "11d7abbc-b60b-419c-bab5-c721759a8fd1",
   "metadata": {
    "pycharm": {
     "name": "#%%\n"
    },
    "tags": []
   },
   "outputs": [
    {
     "data": {
      "text/plain": [
       "True"
      ]
     },
     "execution_count": 61,
     "metadata": {},
     "output_type": "execute_result"
    }
   ],
   "source": [
    "True and True"
   ]
  },
  {
   "cell_type": "code",
   "execution_count": 62,
   "id": "2a321d1e-ed05-4405-a1e2-29070f8fdd40",
   "metadata": {
    "tags": []
   },
   "outputs": [
    {
     "data": {
      "text/plain": [
       "True"
      ]
     },
     "execution_count": 62,
     "metadata": {},
     "output_type": "execute_result"
    }
   ],
   "source": [
    "(5 > 1) and (10 > 5)"
   ]
  },
  {
   "cell_type": "code",
   "execution_count": 63,
   "id": "6a83a50f-9054-4307-9f2f-ab68b7b8b237",
   "metadata": {
    "pycharm": {
     "name": "#%%\n"
    },
    "tags": []
   },
   "outputs": [
    {
     "data": {
      "text/plain": [
       "True"
      ]
     },
     "execution_count": 63,
     "metadata": {},
     "output_type": "execute_result"
    }
   ],
   "source": [
    "False or True"
   ]
  },
  {
   "cell_type": "code",
   "execution_count": 64,
   "id": "634ff015-5cea-4b64-8f98-6feb9cf36b00",
   "metadata": {
    "tags": []
   },
   "outputs": [
    {
     "data": {
      "text/plain": [
       "True"
      ]
     },
     "execution_count": 64,
     "metadata": {},
     "output_type": "execute_result"
    }
   ],
   "source": [
    "(5 > 1) or (10 > 5)"
   ]
  },
  {
   "cell_type": "markdown",
   "id": "440d0017-e23b-49d8-a270-579f49224b0c",
   "metadata": {},
   "source": [
    "We can substitute `&` for `and` and `|` for `or`."
   ]
  },
  {
   "cell_type": "code",
   "execution_count": 65,
   "id": "618be101-4797-48fe-a45c-4efa6698a596",
   "metadata": {
    "pycharm": {
     "name": "#%%\n"
    },
    "tags": []
   },
   "outputs": [
    {
     "data": {
      "text/plain": [
       "True"
      ]
     },
     "execution_count": 65,
     "metadata": {},
     "output_type": "execute_result"
    }
   ],
   "source": [
    "True & True"
   ]
  },
  {
   "cell_type": "code",
   "execution_count": 66,
   "id": "e02a22ec-0160-4ca6-b2a1-ee5294a6690c",
   "metadata": {
    "pycharm": {
     "name": "#%%\n"
    },
    "tags": []
   },
   "outputs": [
    {
     "data": {
      "text/plain": [
       "True"
      ]
     },
     "execution_count": 66,
     "metadata": {},
     "output_type": "execute_result"
    }
   ],
   "source": [
    "False | True"
   ]
  },
  {
   "cell_type": "markdown",
   "id": "c072b89a-6581-466c-905f-6eb9d98a7192",
   "metadata": {
    "jp-MarkdownHeadingCollapsed": true,
    "tags": []
   },
   "source": [
    "### Type casting"
   ]
  },
  {
   "cell_type": "markdown",
   "id": "fe7c5da6-e879-4b53-b809-fb9aaf64da24",
   "metadata": {},
   "source": [
    "We can \"recast\" variables to change their types."
   ]
  },
  {
   "cell_type": "code",
   "execution_count": 67,
   "id": "aeaa5e62-f935-4f2c-bbc2-b1eb474f666f",
   "metadata": {
    "pycharm": {
     "name": "#%%\n"
    },
    "tags": []
   },
   "outputs": [],
   "source": [
    "s = '3.14159'"
   ]
  },
  {
   "cell_type": "code",
   "execution_count": 68,
   "id": "8d56d020-f1ce-4795-8cbe-655e31f326d2",
   "metadata": {
    "tags": []
   },
   "outputs": [
    {
     "data": {
      "text/plain": [
       "str"
      ]
     },
     "execution_count": 68,
     "metadata": {},
     "output_type": "execute_result"
    }
   ],
   "source": [
    "type(s)"
   ]
  },
  {
   "cell_type": "code",
   "execution_count": 69,
   "id": "d46c7d4a-5c3f-4499-901e-2c339613ea56",
   "metadata": {
    "tags": []
   },
   "outputs": [
    {
     "data": {
      "text/plain": [
       "4.14159"
      ]
     },
     "execution_count": 69,
     "metadata": {},
     "output_type": "execute_result"
    }
   ],
   "source": [
    "1 + float(s)"
   ]
  },
  {
   "cell_type": "code",
   "execution_count": 70,
   "id": "30f477a5-b74e-4cec-912c-3a99ca6b1176",
   "metadata": {
    "pycharm": {
     "name": "#%%\n"
    },
    "tags": []
   },
   "outputs": [],
   "source": [
    "fval = float(s)"
   ]
  },
  {
   "cell_type": "code",
   "execution_count": 71,
   "id": "078d403e-94c7-45c1-a06e-73f3bc241ec3",
   "metadata": {
    "pycharm": {
     "name": "#%%\n"
    },
    "tags": []
   },
   "outputs": [
    {
     "data": {
      "text/plain": [
       "float"
      ]
     },
     "execution_count": 71,
     "metadata": {},
     "output_type": "execute_result"
    }
   ],
   "source": [
    "type(fval)"
   ]
  },
  {
   "cell_type": "code",
   "execution_count": 72,
   "id": "d32fff73-74ff-4d81-a69d-84602ef245e8",
   "metadata": {
    "pycharm": {
     "name": "#%%\n"
    },
    "tags": []
   },
   "outputs": [
    {
     "data": {
      "text/plain": [
       "3"
      ]
     },
     "execution_count": 72,
     "metadata": {},
     "output_type": "execute_result"
    }
   ],
   "source": [
    "int(fval)"
   ]
  },
  {
   "cell_type": "markdown",
   "id": "12f720ee-75ac-4402-a129-0ad1b33fa1a9",
   "metadata": {},
   "source": [
    "Zero is Boolean `False`, and all other values are Boolean `True`."
   ]
  },
  {
   "cell_type": "code",
   "execution_count": 73,
   "id": "5749a5aa-a47a-43a1-b091-b48fd618a336",
   "metadata": {
    "pycharm": {
     "name": "#%%\n"
    },
    "tags": []
   },
   "outputs": [
    {
     "data": {
      "text/plain": [
       "False"
      ]
     },
     "execution_count": 73,
     "metadata": {},
     "output_type": "execute_result"
    }
   ],
   "source": [
    "bool(0)"
   ]
  },
  {
   "cell_type": "code",
   "execution_count": 74,
   "id": "a909d185-4443-4f66-9b7a-28de88bb85e4",
   "metadata": {
    "pycharm": {
     "name": "#%%\n"
    },
    "tags": []
   },
   "outputs": [
    {
     "data": {
      "text/plain": [
       "True"
      ]
     },
     "execution_count": 74,
     "metadata": {},
     "output_type": "execute_result"
    }
   ],
   "source": [
    "bool(1)"
   ]
  },
  {
   "cell_type": "code",
   "execution_count": 75,
   "id": "be07d1d3-d8b4-4cc8-ae3a-0202242be887",
   "metadata": {
    "pycharm": {
     "name": "#%%\n"
    },
    "tags": []
   },
   "outputs": [
    {
     "data": {
      "text/plain": [
       "True"
      ]
     },
     "execution_count": 75,
     "metadata": {},
     "output_type": "execute_result"
    }
   ],
   "source": [
    "bool(-1)"
   ]
  },
  {
   "cell_type": "markdown",
   "id": "993524e7-eaa3-4759-bb54-db2845eba926",
   "metadata": {},
   "source": [
    "We can recast the string `'5'` to an integer or the integer `5` to a string to prevent the `5 + '5'` error above."
   ]
  },
  {
   "cell_type": "code",
   "execution_count": 76,
   "id": "6e7da963-33f6-4926-a81d-19aae8738600",
   "metadata": {
    "pycharm": {
     "name": "#%%\n"
    },
    "tags": []
   },
   "outputs": [
    {
     "data": {
      "text/plain": [
       "10"
      ]
     },
     "execution_count": 76,
     "metadata": {},
     "output_type": "execute_result"
    }
   ],
   "source": [
    "5 + int('5')"
   ]
  },
  {
   "cell_type": "code",
   "execution_count": 77,
   "id": "258431c2-d099-4429-b249-32460e7b2421",
   "metadata": {
    "pycharm": {
     "name": "#%%\n"
    },
    "tags": []
   },
   "outputs": [
    {
     "data": {
      "text/plain": [
       "'55'"
      ]
     },
     "execution_count": 77,
     "metadata": {},
     "output_type": "execute_result"
    }
   ],
   "source": [
    "str(5) + '5'"
   ]
  },
  {
   "cell_type": "markdown",
   "id": "7c9583d8-6eb7-46e0-8d96-354cfdfbdb64",
   "metadata": {
    "jp-MarkdownHeadingCollapsed": true,
    "tags": []
   },
   "source": [
    "### None"
   ]
  },
  {
   "cell_type": "markdown",
   "id": "9c13ea29-7bbf-4e44-82b4-b0da42cb7623",
   "metadata": {},
   "source": [
    "In Python, `None` is null.\n",
    "`None` is like `#N/A` or `=na()` in Excel."
   ]
  },
  {
   "cell_type": "code",
   "execution_count": 78,
   "id": "1c7782b3-3287-4b64-9ce5-74fda6a89ae3",
   "metadata": {
    "pycharm": {
     "name": "#%%\n"
    }
   },
   "outputs": [
    {
     "data": {
      "text/plain": [
       "True"
      ]
     },
     "execution_count": 78,
     "metadata": {},
     "output_type": "execute_result"
    }
   ],
   "source": [
    "a = None\n",
    "a is None"
   ]
  },
  {
   "cell_type": "code",
   "execution_count": 79,
   "id": "b56b5a05-fbc7-4ad6-9a37-8574131807a8",
   "metadata": {
    "pycharm": {
     "name": "#%%\n"
    }
   },
   "outputs": [
    {
     "data": {
      "text/plain": [
       "True"
      ]
     },
     "execution_count": 79,
     "metadata": {},
     "output_type": "execute_result"
    }
   ],
   "source": [
    "b = 5\n",
    "b is not None"
   ]
  },
  {
   "cell_type": "code",
   "execution_count": 80,
   "id": "22457ca6-505d-441b-bff4-9f41363bd8e7",
   "metadata": {
    "pycharm": {
     "name": "#%%\n"
    }
   },
   "outputs": [
    {
     "data": {
      "text/plain": [
       "NoneType"
      ]
     },
     "execution_count": 80,
     "metadata": {},
     "output_type": "execute_result"
    }
   ],
   "source": [
    "type(None)"
   ]
  },
  {
   "cell_type": "markdown",
   "id": "c5fbcc9a-6474-4566-9039-ef71e3bc4092",
   "metadata": {
    "jp-MarkdownHeadingCollapsed": true,
    "tags": []
   },
   "source": [
    "## Control Flow"
   ]
  },
  {
   "cell_type": "markdown",
   "id": "048692c7-43a2-4f9b-a6b6-114c7520f086",
   "metadata": {},
   "source": [
    "> Python has several built-in keywords for conditional logic, loops, and other standard control flow concepts found in other programming languages.\n",
    "\n",
    "If you understand Excel's `if()`, then you understand Python's `if`, `elif`, and `else`."
   ]
  },
  {
   "cell_type": "markdown",
   "id": "ef805b3c-599f-45f9-bb74-71622537415c",
   "metadata": {},
   "source": [
    "### if, elif, and else"
   ]
  },
  {
   "cell_type": "code",
   "execution_count": 81,
   "id": "2dc13526-4e10-4d1d-b30b-e0907987653d",
   "metadata": {
    "pycharm": {
     "name": "#%%\n"
    }
   },
   "outputs": [],
   "source": [
    "x = -1"
   ]
  },
  {
   "cell_type": "code",
   "execution_count": 82,
   "id": "3494fd41-286d-479e-a505-fc961aa11cec",
   "metadata": {},
   "outputs": [
    {
     "data": {
      "text/plain": [
       "int"
      ]
     },
     "execution_count": 82,
     "metadata": {},
     "output_type": "execute_result"
    }
   ],
   "source": [
    "type(x)"
   ]
  },
  {
   "cell_type": "code",
   "execution_count": 83,
   "id": "d26e2c20-38b6-47cb-8a4d-000492b45661",
   "metadata": {
    "pycharm": {
     "name": "#%%\n"
    }
   },
   "outputs": [
    {
     "name": "stdout",
     "output_type": "stream",
     "text": [
      "It's negative\n"
     ]
    }
   ],
   "source": [
    "if x < 0:\n",
    "    print(\"It's negative\")"
   ]
  },
  {
   "cell_type": "markdown",
   "id": "52214dde-4445-4966-aaa6-d8f680dd713c",
   "metadata": {},
   "source": [
    "Single quotes and double quotes (`'` and `\"`) are equivalent in Python.\n",
    "However, in the previous code cell, we use double quotes to differentiate between the enclosing quotes and the apostrophe in `\"It's\"`."
   ]
  },
  {
   "cell_type": "markdown",
   "id": "20a2b2f7-32fa-4221-97cd-4aaf960e7212",
   "metadata": {},
   "source": [
    "Python's `elif` avoids Excel's nested `if()`s.\n",
    "`elif` continues an `if` block, and `else` runs if the other conditions are not met."
   ]
  },
  {
   "cell_type": "code",
   "execution_count": 84,
   "id": "bcba6426-6c68-44cc-8475-1a90e3f247f9",
   "metadata": {
    "pycharm": {
     "name": "#%%\n"
    }
   },
   "outputs": [
    {
     "name": "stdout",
     "output_type": "stream",
     "text": [
      "Positive and larger than or equal to 5\n"
     ]
    }
   ],
   "source": [
    "x = 10\n",
    "if x < 0:\n",
    "    print(\"It's negative\")\n",
    "elif x == 0:\n",
    "    print('Equal to zero')\n",
    "elif 0 < x < 5:\n",
    "    print('Positive but smaller than 5')\n",
    "else:\n",
    "    print('Positive and larger than or equal to 5')"
   ]
  },
  {
   "cell_type": "markdown",
   "id": "ab4261d2-71bb-4cc6-9593-9c1b89f39961",
   "metadata": {},
   "source": [
    "We can combine comparisons with `and` and `or`."
   ]
  },
  {
   "cell_type": "code",
   "execution_count": 85,
   "id": "ee97cf7c-20e9-4844-90d9-deed46b73973",
   "metadata": {
    "pycharm": {
     "name": "#%%\n"
    }
   },
   "outputs": [
    {
     "name": "stdout",
     "output_type": "stream",
     "text": [
      "Made it\n"
     ]
    }
   ],
   "source": [
    "a = 5\n",
    "b = 7\n",
    "c = 8\n",
    "d = 4\n",
    "if a < b or c > d:\n",
    "    print('Made it')"
   ]
  },
  {
   "cell_type": "markdown",
   "id": "20049c46-c6d9-4e89-b1a1-6f0dd880ede0",
   "metadata": {},
   "source": [
    "### for loops"
   ]
  },
  {
   "cell_type": "markdown",
   "id": "d44b99fb-49c8-48b1-b91e-e5074be34a26",
   "metadata": {},
   "source": [
    "We use `for` loops to loop over a collection, like a list or tuple.\n",
    "The `continue` keyword skips the remainder of the `if` block for that loop iteration.\n",
    "\n",
    "The following example assigns values with `+=`, where `a += 5` is an abbreviation for `a = a + 5`.\n",
    "There are equivalent abbreviations for subtraction, multiplication, and division (`-=`, `*=`, and `/=`)."
   ]
  },
  {
   "cell_type": "code",
   "execution_count": 86,
   "id": "a199e203-2438-4f20-9704-6cf7d0158c41",
   "metadata": {
    "pycharm": {
     "name": "#%%\n"
    }
   },
   "outputs": [],
   "source": [
    "sequence = [1, 2, None, 4, None, 5, 'Alex']\n",
    "total = 0\n",
    "for value in sequence:\n",
    "    if value is None or type(value) is str:\n",
    "        continue\n",
    "    total += value # the += operator is equivalent to \"total = total + value\""
   ]
  },
  {
   "cell_type": "code",
   "execution_count": 87,
   "id": "2a2146c0-e5ff-488f-af6b-44356bbea6cd",
   "metadata": {},
   "outputs": [
    {
     "data": {
      "text/plain": [
       "12"
      ]
     },
     "execution_count": 87,
     "metadata": {},
     "output_type": "execute_result"
    }
   ],
   "source": [
    "total"
   ]
  },
  {
   "cell_type": "markdown",
   "id": "7cdb11db-7518-4e34-b757-9c652441b0b5",
   "metadata": {},
   "source": [
    "The `break` keyword exits the loop altogether."
   ]
  },
  {
   "cell_type": "code",
   "execution_count": 88,
   "id": "7d184b4c-bf4b-4d56-bfff-c8b4bc667a4a",
   "metadata": {
    "pycharm": {
     "name": "#%%\n"
    },
    "tags": []
   },
   "outputs": [],
   "source": [
    "sequence = [1, 2, 0, 4, 6, 5, 2, 1]\n",
    "total_until_5 = 0\n",
    "for value in sequence:\n",
    "    if value == 5:\n",
    "        break\n",
    "    total_until_5 += value"
   ]
  },
  {
   "cell_type": "code",
   "execution_count": 89,
   "id": "acd676ee-e50a-4f4b-8a7b-5ecb00e56d47",
   "metadata": {
    "tags": []
   },
   "outputs": [
    {
     "data": {
      "text/plain": [
       "13"
      ]
     },
     "execution_count": 89,
     "metadata": {},
     "output_type": "execute_result"
    }
   ],
   "source": [
    "total_until_5"
   ]
  },
  {
   "cell_type": "markdown",
   "id": "3f233676-1b7d-4034-bc90-f57a12ce66f4",
   "metadata": {},
   "source": [
    "### range"
   ]
  },
  {
   "cell_type": "markdown",
   "id": "46a714cd-392f-4006-b3db-03cec90d278d",
   "metadata": {},
   "source": [
    "> The range function returns an iterator that yields a sequence of evenly spaced\n",
    "integers.\n",
    "\n",
    "- With one argument, `range()` creates an iterator from 0 to that number *but excludes that number* (so `range(10)` is an interator with a length of 10 that starts at 0)\n",
    "- With two arguments, the first argument is the *inclusive* starting value, and the second argument is the *exclusive* ending value\n",
    "- With three arguments, the third argument is the iterator step size"
   ]
  },
  {
   "cell_type": "code",
   "execution_count": 90,
   "id": "6bad00e4-4d30-4ca3-b4f5-892b5c027dd2",
   "metadata": {
    "pycharm": {
     "name": "#%%\n"
    }
   },
   "outputs": [
    {
     "data": {
      "text/plain": [
       "range(0, 10)"
      ]
     },
     "execution_count": 90,
     "metadata": {},
     "output_type": "execute_result"
    }
   ],
   "source": [
    "range(10)"
   ]
  },
  {
   "cell_type": "markdown",
   "id": "77008c65-42cd-4f2b-a663-e3563d269cb6",
   "metadata": {},
   "source": [
    "We can cast a range to a list."
   ]
  },
  {
   "cell_type": "code",
   "execution_count": 91,
   "id": "c3ba46dc-a787-4ab7-8491-f778ae29bc61",
   "metadata": {
    "pycharm": {
     "name": "#%%\n"
    }
   },
   "outputs": [
    {
     "data": {
      "text/plain": [
       "[0, 1, 2, 3, 4, 5, 6, 7, 8, 9]"
      ]
     },
     "execution_count": 91,
     "metadata": {},
     "output_type": "execute_result"
    }
   ],
   "source": [
    "list(range(10))"
   ]
  },
  {
   "cell_type": "code",
   "execution_count": 92,
   "id": "d05feaab-107d-44a9-b551-45a897b64f8e",
   "metadata": {},
   "outputs": [
    {
     "data": {
      "text/plain": [
       "[1, 2, 3, 4, 5, 6, 7, 8, 9]"
      ]
     },
     "execution_count": 92,
     "metadata": {},
     "output_type": "execute_result"
    }
   ],
   "source": [
    "list(range(1, 10))"
   ]
  },
  {
   "cell_type": "code",
   "execution_count": 93,
   "id": "f5311c11-f04c-4b88-bb60-d64bbad9634f",
   "metadata": {},
   "outputs": [
    {
     "data": {
      "text/plain": [
       "[1, 2, 3, 4, 5, 6, 7, 8, 9]"
      ]
     },
     "execution_count": 93,
     "metadata": {},
     "output_type": "execute_result"
    }
   ],
   "source": [
    "list(range(1, 10, 1))"
   ]
  },
  {
   "cell_type": "code",
   "execution_count": 94,
   "id": "9dfbc812-24a4-407b-97a4-568d45fa4eea",
   "metadata": {
    "pycharm": {
     "name": "#%%\n"
    }
   },
   "outputs": [
    {
     "data": {
      "text/plain": [
       "[0, 2, 4, 6, 8, 10, 12, 14, 16, 18]"
      ]
     },
     "execution_count": 94,
     "metadata": {},
     "output_type": "execute_result"
    }
   ],
   "source": [
    "list(range(0, 20, 2))"
   ]
  },
  {
   "cell_type": "markdown",
   "id": "44301624-1660-4649-a8cb-d046a63c7b3a",
   "metadata": {},
   "source": [
    "Python intervals are \"closed\" (inclusive) on the left and \"open\" (exclusive) on the right.\n",
    "The following is an empty list because we cannot count from 5 to 0 by steps of +1."
   ]
  },
  {
   "cell_type": "code",
   "execution_count": 95,
   "id": "977f34ea-bf79-48a8-b8b9-21e0a904dbe7",
   "metadata": {
    "pycharm": {
     "name": "#%%\n"
    },
    "tags": []
   },
   "outputs": [
    {
     "data": {
      "text/plain": [
       "[]"
      ]
     },
     "execution_count": 95,
     "metadata": {},
     "output_type": "execute_result"
    }
   ],
   "source": [
    "list(range(5, 0))"
   ]
  },
  {
   "cell_type": "markdown",
   "id": "cdfeb144-5bd6-4c03-8e98-28c6f25ec27c",
   "metadata": {},
   "source": [
    "However, we can count from 5 to 0 in steps of -1."
   ]
  },
  {
   "cell_type": "code",
   "execution_count": 96,
   "id": "35a637ac-62dd-4287-a29a-b7c06ee37945",
   "metadata": {
    "pycharm": {
     "name": "#%%\n"
    }
   },
   "outputs": [
    {
     "data": {
      "text/plain": [
       "[5, 4, 3, 2, 1]"
      ]
     },
     "execution_count": 96,
     "metadata": {},
     "output_type": "execute_result"
    }
   ],
   "source": [
    "list(range(5, 0, -1))"
   ]
  },
  {
   "cell_type": "markdown",
   "id": "7347ba9c-cc5a-4a61-b0de-c72401a9af7a",
   "metadata": {},
   "source": [
    "For loops have the following syntax in many other programming languages."
   ]
  },
  {
   "cell_type": "code",
   "execution_count": 97,
   "id": "30424e8d-740b-47d0-a1bf-c94a527c25df",
   "metadata": {
    "pycharm": {
     "name": "#%%\n"
    }
   },
   "outputs": [],
   "source": [
    "seq = [1, 2, 3, 4]\n",
    "for i in range(len(seq)):\n",
    "    val = seq[i]"
   ]
  },
  {
   "cell_type": "markdown",
   "id": "89dc3718-fd58-41f0-92fd-d088b8016ea3",
   "metadata": {},
   "source": [
    "However, in Python, we can directly loop over the list `seq`.\n",
    "The following code cell is equivalent to the previous code cell and more \"Pythonic\"."
   ]
  },
  {
   "cell_type": "code",
   "execution_count": 98,
   "id": "1926daa4-2911-4e11-896d-a2b6fbd35ebe",
   "metadata": {
    "pycharm": {
     "name": "#%%\n"
    }
   },
   "outputs": [],
   "source": [
    "for i in seq:\n",
    "    val = i"
   ]
  },
  {
   "cell_type": "markdown",
   "id": "619214d9-b52b-4a92-aa19-3f1a176695ef",
   "metadata": {},
   "source": [
    "### Ternary expressions"
   ]
  },
  {
   "cell_type": "markdown",
   "id": "7ece9dad-64d9-49f9-8f45-a742269f176e",
   "metadata": {},
   "source": [
    "We said above that Python `if` and `else` is cumbersome relative to Excel's `if()`.\n",
    "We can complete simple comparisons on one line in Python."
   ]
  },
  {
   "cell_type": "code",
   "execution_count": 99,
   "id": "a4043473-b6eb-48d6-ac58-ad10497d3399",
   "metadata": {
    "pycharm": {
     "name": "#%%\n"
    }
   },
   "outputs": [],
   "source": [
    "x = 5\n",
    "value = 'Non-negative' if x >= 0 else 'Negative'"
   ]
  }
 ],
 "metadata": {
  "author": "Richard Herron",
  "kernelspec": {
   "display_name": "Python 3 (ipykernel)",
   "language": "python",
   "name": "python3"
  },
  "language_info": {
   "codemirror_mode": {
    "name": "ipython",
    "version": 3
   },
   "file_extension": ".py",
   "mimetype": "text/x-python",
   "name": "python",
   "nbconvert_exporter": "python",
   "pygments_lexer": "ipython3",
   "version": "3.9.18"
  },
  "title": "McKinney Chapter 2 - Python Language Basics, IPython, and Jupyter Notebooks",
  "toc-autonumbering": true,
  "toc-showcode": false,
  "toc-showmarkdowntxt": false,
  "toc-showtags": false
 },
 "nbformat": 4,
 "nbformat_minor": 5
}
