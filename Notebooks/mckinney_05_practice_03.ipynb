{
 "cells": [
  {
   "cell_type": "markdown",
   "id": "c1e33842-3bd0-4623-9296-60a1ad2fe57b",
   "metadata": {},
   "source": [
    "# McKinney Chapter 5 - Practice for Section 03"
   ]
  },
  {
   "cell_type": "markdown",
   "id": "f6c08ea9-54c1-4a00-aad3-a20df19c7e97",
   "metadata": {},
   "source": [
    "## Announcements"
   ]
  },
  {
   "cell_type": "markdown",
   "id": "526978ff-5f05-47c9-9227-f88b22f3b3e8",
   "metadata": {},
   "source": [
    "1. No DataCamp this week, but I suggest you keep working on it\n",
    "2. Keep forming groups, and I will post our first project early next week"
   ]
  },
  {
   "cell_type": "markdown",
   "id": "d1357fbb-2cb0-4df6-9991-a54b91547965",
   "metadata": {},
   "source": [
    "## 10-Minute Recap"
   ]
  },
  {
   "cell_type": "code",
   "execution_count": 1,
   "id": "d54495d6-a8aa-4471-a29f-abc4992bf074",
   "metadata": {
    "editable": true
   },
   "outputs": [],
   "source": [
    "import matplotlib.pyplot as plt\n",
    "import numpy as np\n",
    "import pandas as pd\n",
    "import yfinance as yf"
   ]
  },
  {
   "cell_type": "code",
   "execution_count": 2,
   "id": "3fab82cf-ea1a-4e1c-84a6-891b882a534e",
   "metadata": {},
   "outputs": [],
   "source": [
    "%precision 4\n",
    "pd.options.display.float_format = '{:.4f}'.format\n",
    "%config InlineBackend.figure_format = 'retina'"
   ]
  },
  {
   "cell_type": "markdown",
   "id": "de34aefa-102b-4ce9-a4fc-4a85c4b227fa",
   "metadata": {},
   "source": [
    "pandas provides two *very useful* data structures:\n",
    "\n",
    "1. Data frames are like a worksheet in an Excel workbook (2-D, mixed data type)\n",
    "2. Series are like a column in a worksheet in an Excel workbook (1-D, one data type)"
   ]
  },
  {
   "cell_type": "code",
   "execution_count": 3,
   "id": "07d29c3a-40fd-4d09-adc4-b4218c5f9293",
   "metadata": {},
   "outputs": [
    {
     "data": {
      "text/html": [
       "<div>\n",
       "<style scoped>\n",
       "    .dataframe tbody tr th:only-of-type {\n",
       "        vertical-align: middle;\n",
       "    }\n",
       "\n",
       "    .dataframe tbody tr th {\n",
       "        vertical-align: top;\n",
       "    }\n",
       "\n",
       "    .dataframe thead th {\n",
       "        text-align: right;\n",
       "    }\n",
       "</style>\n",
       "<table border=\"1\" class=\"dataframe\">\n",
       "  <thead>\n",
       "    <tr style=\"text-align: right;\">\n",
       "      <th></th>\n",
       "      <th>a</th>\n",
       "      <th>b</th>\n",
       "      <th>c</th>\n",
       "      <th>d</th>\n",
       "    </tr>\n",
       "  </thead>\n",
       "  <tbody>\n",
       "    <tr>\n",
       "      <th>A</th>\n",
       "      <td>0.4967</td>\n",
       "      <td>-0.1383</td>\n",
       "      <td>0.6477</td>\n",
       "      <td>1.5230</td>\n",
       "    </tr>\n",
       "    <tr>\n",
       "      <th>B</th>\n",
       "      <td>-0.2342</td>\n",
       "      <td>-0.2341</td>\n",
       "      <td>1.5792</td>\n",
       "      <td>0.7674</td>\n",
       "    </tr>\n",
       "    <tr>\n",
       "      <th>C</th>\n",
       "      <td>-0.4695</td>\n",
       "      <td>0.5426</td>\n",
       "      <td>-0.4634</td>\n",
       "      <td>-0.4657</td>\n",
       "    </tr>\n",
       "    <tr>\n",
       "      <th>D</th>\n",
       "      <td>0.2420</td>\n",
       "      <td>-1.9133</td>\n",
       "      <td>-1.7249</td>\n",
       "      <td>-0.5623</td>\n",
       "    </tr>\n",
       "  </tbody>\n",
       "</table>\n",
       "</div>"
      ],
      "text/plain": [
       "        a       b       c       d\n",
       "A  0.4967 -0.1383  0.6477  1.5230\n",
       "B -0.2342 -0.2341  1.5792  0.7674\n",
       "C -0.4695  0.5426 -0.4634 -0.4657\n",
       "D  0.2420 -1.9133 -1.7249 -0.5623"
      ]
     },
     "execution_count": 3,
     "metadata": {},
     "output_type": "execute_result"
    }
   ],
   "source": [
    "np.random.seed(42)\n",
    "df = pd.DataFrame(\n",
    "    data=np.random.randn(4, 4),\n",
    "    index=list('ABCD'),\n",
    "    columns=list('abcd')\n",
    ")\n",
    "\n",
    "df"
   ]
  },
  {
   "cell_type": "markdown",
   "id": "dbdb52da-aacf-4aa5-a423-2858b6f22e3e",
   "metadata": {},
   "source": [
    "How can we slice the first two rows and three columns?\n",
    "We can slice data frames two ways:\n",
    "\n",
    "1. Using integer locations and the `.iloc[]` method\n",
    "2. Using row and column names with the `.loc[]` method"
   ]
  },
  {
   "cell_type": "code",
   "execution_count": 4,
   "id": "0eab5663-bc95-4710-8384-781419726652",
   "metadata": {},
   "outputs": [
    {
     "data": {
      "text/html": [
       "<div>\n",
       "<style scoped>\n",
       "    .dataframe tbody tr th:only-of-type {\n",
       "        vertical-align: middle;\n",
       "    }\n",
       "\n",
       "    .dataframe tbody tr th {\n",
       "        vertical-align: top;\n",
       "    }\n",
       "\n",
       "    .dataframe thead th {\n",
       "        text-align: right;\n",
       "    }\n",
       "</style>\n",
       "<table border=\"1\" class=\"dataframe\">\n",
       "  <thead>\n",
       "    <tr style=\"text-align: right;\">\n",
       "      <th></th>\n",
       "      <th>a</th>\n",
       "      <th>b</th>\n",
       "      <th>c</th>\n",
       "    </tr>\n",
       "  </thead>\n",
       "  <tbody>\n",
       "    <tr>\n",
       "      <th>A</th>\n",
       "      <td>0.4967</td>\n",
       "      <td>-0.1383</td>\n",
       "      <td>0.6477</td>\n",
       "    </tr>\n",
       "    <tr>\n",
       "      <th>B</th>\n",
       "      <td>-0.2342</td>\n",
       "      <td>-0.2341</td>\n",
       "      <td>1.5792</td>\n",
       "    </tr>\n",
       "  </tbody>\n",
       "</table>\n",
       "</div>"
      ],
      "text/plain": [
       "        a       b      c\n",
       "A  0.4967 -0.1383 0.6477\n",
       "B -0.2342 -0.2341 1.5792"
      ]
     },
     "execution_count": 4,
     "metadata": {},
     "output_type": "execute_result"
    }
   ],
   "source": [
    "df.iloc[:2, :3] # slice with j,k notation, like NumPy"
   ]
  },
  {
   "cell_type": "markdown",
   "id": "ab601250-8057-4540-9e38-0f26bf0f4430",
   "metadata": {},
   "source": [
    "***When we slice by names or labels, we get both left and right edges included!***"
   ]
  },
  {
   "cell_type": "code",
   "execution_count": 5,
   "id": "64297f95-66d8-4244-8d96-2ed2c505c95b",
   "metadata": {},
   "outputs": [
    {
     "data": {
      "text/html": [
       "<div>\n",
       "<style scoped>\n",
       "    .dataframe tbody tr th:only-of-type {\n",
       "        vertical-align: middle;\n",
       "    }\n",
       "\n",
       "    .dataframe tbody tr th {\n",
       "        vertical-align: top;\n",
       "    }\n",
       "\n",
       "    .dataframe thead th {\n",
       "        text-align: right;\n",
       "    }\n",
       "</style>\n",
       "<table border=\"1\" class=\"dataframe\">\n",
       "  <thead>\n",
       "    <tr style=\"text-align: right;\">\n",
       "      <th></th>\n",
       "      <th>a</th>\n",
       "      <th>b</th>\n",
       "      <th>c</th>\n",
       "    </tr>\n",
       "  </thead>\n",
       "  <tbody>\n",
       "    <tr>\n",
       "      <th>A</th>\n",
       "      <td>0.4967</td>\n",
       "      <td>-0.1383</td>\n",
       "      <td>0.6477</td>\n",
       "    </tr>\n",
       "    <tr>\n",
       "      <th>B</th>\n",
       "      <td>-0.2342</td>\n",
       "      <td>-0.2341</td>\n",
       "      <td>1.5792</td>\n",
       "    </tr>\n",
       "  </tbody>\n",
       "</table>\n",
       "</div>"
      ],
      "text/plain": [
       "        a       b      c\n",
       "A  0.4967 -0.1383 0.6477\n",
       "B -0.2342 -0.2341 1.5792"
      ]
     },
     "execution_count": 5,
     "metadata": {},
     "output_type": "execute_result"
    }
   ],
   "source": [
    "df.loc['A':'B', 'a':'c']"
   ]
  },
  {
   "cell_type": "markdown",
   "id": "33fbc974-504c-4c00-a441-ff44aa1fa0f5",
   "metadata": {},
   "source": [
    "We can easily add columns!"
   ]
  },
  {
   "cell_type": "code",
   "execution_count": 6,
   "id": "c7ff82c9-639c-4f3c-906f-c69f1565d852",
   "metadata": {},
   "outputs": [
    {
     "data": {
      "text/html": [
       "<div>\n",
       "<style scoped>\n",
       "    .dataframe tbody tr th:only-of-type {\n",
       "        vertical-align: middle;\n",
       "    }\n",
       "\n",
       "    .dataframe tbody tr th {\n",
       "        vertical-align: top;\n",
       "    }\n",
       "\n",
       "    .dataframe thead th {\n",
       "        text-align: right;\n",
       "    }\n",
       "</style>\n",
       "<table border=\"1\" class=\"dataframe\">\n",
       "  <thead>\n",
       "    <tr style=\"text-align: right;\">\n",
       "      <th></th>\n",
       "      <th>a</th>\n",
       "      <th>b</th>\n",
       "      <th>c</th>\n",
       "      <th>d</th>\n",
       "      <th>e</th>\n",
       "    </tr>\n",
       "  </thead>\n",
       "  <tbody>\n",
       "    <tr>\n",
       "      <th>A</th>\n",
       "      <td>0.4967</td>\n",
       "      <td>-0.1383</td>\n",
       "      <td>0.6477</td>\n",
       "      <td>1.5230</td>\n",
       "      <td>5</td>\n",
       "    </tr>\n",
       "    <tr>\n",
       "      <th>B</th>\n",
       "      <td>-0.2342</td>\n",
       "      <td>-0.2341</td>\n",
       "      <td>1.5792</td>\n",
       "      <td>0.7674</td>\n",
       "      <td>5</td>\n",
       "    </tr>\n",
       "    <tr>\n",
       "      <th>C</th>\n",
       "      <td>-0.4695</td>\n",
       "      <td>0.5426</td>\n",
       "      <td>-0.4634</td>\n",
       "      <td>-0.4657</td>\n",
       "      <td>5</td>\n",
       "    </tr>\n",
       "    <tr>\n",
       "      <th>D</th>\n",
       "      <td>0.2420</td>\n",
       "      <td>-1.9133</td>\n",
       "      <td>-1.7249</td>\n",
       "      <td>-0.5623</td>\n",
       "      <td>5</td>\n",
       "    </tr>\n",
       "  </tbody>\n",
       "</table>\n",
       "</div>"
      ],
      "text/plain": [
       "        a       b       c       d  e\n",
       "A  0.4967 -0.1383  0.6477  1.5230  5\n",
       "B -0.2342 -0.2341  1.5792  0.7674  5\n",
       "C -0.4695  0.5426 -0.4634 -0.4657  5\n",
       "D  0.2420 -1.9133 -1.7249 -0.5623  5"
      ]
     },
     "execution_count": 6,
     "metadata": {},
     "output_type": "execute_result"
    }
   ],
   "source": [
    "df['e'] = 5 # broadcasts to every row in df\n",
    "\n",
    "df"
   ]
  },
  {
   "cell_type": "code",
   "execution_count": 7,
   "id": "74e3b1e9-5625-4c02-9032-d3f7dc18bde1",
   "metadata": {},
   "outputs": [
    {
     "data": {
      "text/html": [
       "<div>\n",
       "<style scoped>\n",
       "    .dataframe tbody tr th:only-of-type {\n",
       "        vertical-align: middle;\n",
       "    }\n",
       "\n",
       "    .dataframe tbody tr th {\n",
       "        vertical-align: top;\n",
       "    }\n",
       "\n",
       "    .dataframe thead th {\n",
       "        text-align: right;\n",
       "    }\n",
       "</style>\n",
       "<table border=\"1\" class=\"dataframe\">\n",
       "  <thead>\n",
       "    <tr style=\"text-align: right;\">\n",
       "      <th></th>\n",
       "      <th>a</th>\n",
       "      <th>b</th>\n",
       "      <th>c</th>\n",
       "      <th>d</th>\n",
       "      <th>e</th>\n",
       "    </tr>\n",
       "  </thead>\n",
       "  <tbody>\n",
       "    <tr>\n",
       "      <th>A</th>\n",
       "      <td>0.4967</td>\n",
       "      <td>-0.1383</td>\n",
       "      <td>0.6477</td>\n",
       "      <td>1.5230</td>\n",
       "      <td>-1.0128</td>\n",
       "    </tr>\n",
       "    <tr>\n",
       "      <th>B</th>\n",
       "      <td>-0.2342</td>\n",
       "      <td>-0.2341</td>\n",
       "      <td>1.5792</td>\n",
       "      <td>0.7674</td>\n",
       "      <td>0.3142</td>\n",
       "    </tr>\n",
       "    <tr>\n",
       "      <th>C</th>\n",
       "      <td>-0.4695</td>\n",
       "      <td>0.5426</td>\n",
       "      <td>-0.4634</td>\n",
       "      <td>-0.4657</td>\n",
       "      <td>-0.9080</td>\n",
       "    </tr>\n",
       "    <tr>\n",
       "      <th>D</th>\n",
       "      <td>0.2420</td>\n",
       "      <td>-1.9133</td>\n",
       "      <td>-1.7249</td>\n",
       "      <td>-0.5623</td>\n",
       "      <td>-1.4123</td>\n",
       "    </tr>\n",
       "  </tbody>\n",
       "</table>\n",
       "</div>"
      ],
      "text/plain": [
       "        a       b       c       d       e\n",
       "A  0.4967 -0.1383  0.6477  1.5230 -1.0128\n",
       "B -0.2342 -0.2341  1.5792  0.7674  0.3142\n",
       "C -0.4695  0.5426 -0.4634 -0.4657 -0.9080\n",
       "D  0.2420 -1.9133 -1.7249 -0.5623 -1.4123"
      ]
     },
     "execution_count": 7,
     "metadata": {},
     "output_type": "execute_result"
    }
   ],
   "source": [
    "df['e'] = np.random.randn(4)\n",
    "\n",
    "df"
   ]
  },
  {
   "cell_type": "markdown",
   "id": "5e9909c3-6aa9-4cd3-aaf8-3aacd2761c13",
   "metadata": {},
   "source": [
    "A series is the other, 1-D data structure in pandas!"
   ]
  },
  {
   "cell_type": "code",
   "execution_count": 8,
   "id": "cf0a494b-99ff-4846-b79d-7b627c19a62f",
   "metadata": {},
   "outputs": [
    {
     "data": {
      "text/plain": [
       "C   0.0000\n",
       "D   1.0000\n",
       "dtype: float64"
      ]
     },
     "execution_count": 8,
     "metadata": {},
     "output_type": "execute_result"
    }
   ],
   "source": [
    "ser = pd.Series(data=np.arange(2.), index=['C', 'D']) # the . in np.arange() makes the array floats\n",
    "\n",
    "ser"
   ]
  },
  {
   "cell_type": "code",
   "execution_count": 9,
   "id": "49619752-8ea4-4176-852b-28652e555e10",
   "metadata": {},
   "outputs": [
    {
     "data": {
      "text/html": [
       "<div>\n",
       "<style scoped>\n",
       "    .dataframe tbody tr th:only-of-type {\n",
       "        vertical-align: middle;\n",
       "    }\n",
       "\n",
       "    .dataframe tbody tr th {\n",
       "        vertical-align: top;\n",
       "    }\n",
       "\n",
       "    .dataframe thead th {\n",
       "        text-align: right;\n",
       "    }\n",
       "</style>\n",
       "<table border=\"1\" class=\"dataframe\">\n",
       "  <thead>\n",
       "    <tr style=\"text-align: right;\">\n",
       "      <th></th>\n",
       "      <th>a</th>\n",
       "      <th>b</th>\n",
       "      <th>c</th>\n",
       "      <th>d</th>\n",
       "      <th>e</th>\n",
       "      <th>f</th>\n",
       "    </tr>\n",
       "  </thead>\n",
       "  <tbody>\n",
       "    <tr>\n",
       "      <th>A</th>\n",
       "      <td>0.4967</td>\n",
       "      <td>-0.1383</td>\n",
       "      <td>0.6477</td>\n",
       "      <td>1.5230</td>\n",
       "      <td>-1.0128</td>\n",
       "      <td>NaN</td>\n",
       "    </tr>\n",
       "    <tr>\n",
       "      <th>B</th>\n",
       "      <td>-0.2342</td>\n",
       "      <td>-0.2341</td>\n",
       "      <td>1.5792</td>\n",
       "      <td>0.7674</td>\n",
       "      <td>0.3142</td>\n",
       "      <td>NaN</td>\n",
       "    </tr>\n",
       "    <tr>\n",
       "      <th>C</th>\n",
       "      <td>-0.4695</td>\n",
       "      <td>0.5426</td>\n",
       "      <td>-0.4634</td>\n",
       "      <td>-0.4657</td>\n",
       "      <td>-0.9080</td>\n",
       "      <td>0.0000</td>\n",
       "    </tr>\n",
       "    <tr>\n",
       "      <th>D</th>\n",
       "      <td>0.2420</td>\n",
       "      <td>-1.9133</td>\n",
       "      <td>-1.7249</td>\n",
       "      <td>-0.5623</td>\n",
       "      <td>-1.4123</td>\n",
       "      <td>1.0000</td>\n",
       "    </tr>\n",
       "  </tbody>\n",
       "</table>\n",
       "</div>"
      ],
      "text/plain": [
       "        a       b       c       d       e      f\n",
       "A  0.4967 -0.1383  0.6477  1.5230 -1.0128    NaN\n",
       "B -0.2342 -0.2341  1.5792  0.7674  0.3142    NaN\n",
       "C -0.4695  0.5426 -0.4634 -0.4657 -0.9080 0.0000\n",
       "D  0.2420 -1.9133 -1.7249 -0.5623 -1.4123 1.0000"
      ]
     },
     "execution_count": 9,
     "metadata": {},
     "output_type": "execute_result"
    }
   ],
   "source": [
    "df['f'] = ser\n",
    "\n",
    "df"
   ]
  },
  {
   "cell_type": "markdown",
   "id": "5e73929c-3629-4433-8111-1a64bd3c52dd",
   "metadata": {},
   "source": [
    "## Practice"
   ]
  },
  {
   "cell_type": "code",
   "execution_count": 10,
   "id": "0bb9307d-e157-49ca-8f62-1b86dd05101d",
   "metadata": {},
   "outputs": [
    {
     "name": "stderr",
     "output_type": "stream",
     "text": [
      "[*********************100%%**********************]  4 of 4 completed\n"
     ]
    }
   ],
   "source": [
    "tickers = 'AAPL IBM MSFT GOOG'\n",
    "prices = yf.download(tickers=tickers)"
   ]
  },
  {
   "cell_type": "code",
   "execution_count": 11,
   "id": "0c620d8d-aeb1-4952-9352-ebdc17127088",
   "metadata": {},
   "outputs": [
    {
     "data": {
      "text/html": [
       "<div>\n",
       "<style scoped>\n",
       "    .dataframe tbody tr th:only-of-type {\n",
       "        vertical-align: middle;\n",
       "    }\n",
       "\n",
       "    .dataframe tbody tr th {\n",
       "        vertical-align: top;\n",
       "    }\n",
       "\n",
       "    .dataframe thead th {\n",
       "        text-align: right;\n",
       "    }\n",
       "</style>\n",
       "<table border=\"1\" class=\"dataframe\">\n",
       "  <thead>\n",
       "    <tr style=\"text-align: right;\">\n",
       "      <th></th>\n",
       "      <th>AAPL</th>\n",
       "      <th>GOOG</th>\n",
       "      <th>IBM</th>\n",
       "      <th>MSFT</th>\n",
       "    </tr>\n",
       "    <tr>\n",
       "      <th>Date</th>\n",
       "      <th></th>\n",
       "      <th></th>\n",
       "      <th></th>\n",
       "      <th></th>\n",
       "    </tr>\n",
       "  </thead>\n",
       "  <tbody>\n",
       "    <tr>\n",
       "      <th>2004-08-20</th>\n",
       "      <td>0.0029</td>\n",
       "      <td>0.0794</td>\n",
       "      <td>0.0042</td>\n",
       "      <td>0.0029</td>\n",
       "    </tr>\n",
       "    <tr>\n",
       "      <th>2004-08-23</th>\n",
       "      <td>0.0091</td>\n",
       "      <td>0.0101</td>\n",
       "      <td>-0.0070</td>\n",
       "      <td>0.0044</td>\n",
       "    </tr>\n",
       "    <tr>\n",
       "      <th>2004-08-24</th>\n",
       "      <td>0.0280</td>\n",
       "      <td>-0.0414</td>\n",
       "      <td>0.0007</td>\n",
       "      <td>0.0000</td>\n",
       "    </tr>\n",
       "    <tr>\n",
       "      <th>2004-08-25</th>\n",
       "      <td>0.0344</td>\n",
       "      <td>0.0108</td>\n",
       "      <td>0.0043</td>\n",
       "      <td>0.0114</td>\n",
       "    </tr>\n",
       "    <tr>\n",
       "      <th>2004-08-26</th>\n",
       "      <td>0.0487</td>\n",
       "      <td>0.0180</td>\n",
       "      <td>-0.0045</td>\n",
       "      <td>-0.0040</td>\n",
       "    </tr>\n",
       "    <tr>\n",
       "      <th>...</th>\n",
       "      <td>...</td>\n",
       "      <td>...</td>\n",
       "      <td>...</td>\n",
       "      <td>...</td>\n",
       "    </tr>\n",
       "    <tr>\n",
       "      <th>2024-01-23</th>\n",
       "      <td>0.0067</td>\n",
       "      <td>0.0066</td>\n",
       "      <td>0.0064</td>\n",
       "      <td>0.0060</td>\n",
       "    </tr>\n",
       "    <tr>\n",
       "      <th>2024-01-24</th>\n",
       "      <td>-0.0035</td>\n",
       "      <td>0.0112</td>\n",
       "      <td>-0.0001</td>\n",
       "      <td>0.0092</td>\n",
       "    </tr>\n",
       "    <tr>\n",
       "      <th>2024-01-25</th>\n",
       "      <td>-0.0017</td>\n",
       "      <td>0.0219</td>\n",
       "      <td>0.0949</td>\n",
       "      <td>0.0057</td>\n",
       "    </tr>\n",
       "    <tr>\n",
       "      <th>2024-01-26</th>\n",
       "      <td>-0.0090</td>\n",
       "      <td>0.0010</td>\n",
       "      <td>-0.0158</td>\n",
       "      <td>-0.0023</td>\n",
       "    </tr>\n",
       "    <tr>\n",
       "      <th>2024-01-29</th>\n",
       "      <td>-0.0036</td>\n",
       "      <td>0.0068</td>\n",
       "      <td>-0.0015</td>\n",
       "      <td>0.0143</td>\n",
       "    </tr>\n",
       "  </tbody>\n",
       "</table>\n",
       "<p>4893 rows × 4 columns</p>\n",
       "</div>"
      ],
      "text/plain": [
       "              AAPL    GOOG     IBM    MSFT\n",
       "Date                                      \n",
       "2004-08-20  0.0029  0.0794  0.0042  0.0029\n",
       "2004-08-23  0.0091  0.0101 -0.0070  0.0044\n",
       "2004-08-24  0.0280 -0.0414  0.0007  0.0000\n",
       "2004-08-25  0.0344  0.0108  0.0043  0.0114\n",
       "2004-08-26  0.0487  0.0180 -0.0045 -0.0040\n",
       "...            ...     ...     ...     ...\n",
       "2024-01-23  0.0067  0.0066  0.0064  0.0060\n",
       "2024-01-24 -0.0035  0.0112 -0.0001  0.0092\n",
       "2024-01-25 -0.0017  0.0219  0.0949  0.0057\n",
       "2024-01-26 -0.0090  0.0010 -0.0158 -0.0023\n",
       "2024-01-29 -0.0036  0.0068 -0.0015  0.0143\n",
       "\n",
       "[4893 rows x 4 columns]"
      ]
     },
     "execution_count": 11,
     "metadata": {},
     "output_type": "execute_result"
    }
   ],
   "source": [
    "returns = (\n",
    "    prices['Adj Close'] # slice adj close column\n",
    "    .iloc[:-1] # drop last row with intra day prices, which are sometimes missing\n",
    "    .pct_change() # calculate returns\n",
    "    .dropna() # drop leading rows with at least one missing value\n",
    ")\n",
    "\n",
    "returns"
   ]
  },
  {
   "cell_type": "markdown",
   "id": "4761cb0f-5db6-409b-822e-f4a354118458",
   "metadata": {},
   "source": [
    "### What are the mean daily returns for these four stocks?"
   ]
  },
  {
   "cell_type": "code",
   "execution_count": 12,
   "id": "29a7ddeb-f377-4d90-a2a6-fafd4c687b8a",
   "metadata": {},
   "outputs": [
    {
     "data": {
      "text/plain": [
       "AAPL   0.0014\n",
       "GOOG   0.0010\n",
       "IBM    0.0004\n",
       "MSFT   0.0008\n",
       "dtype: float64"
      ]
     },
     "execution_count": 12,
     "metadata": {},
     "output_type": "execute_result"
    }
   ],
   "source": [
    "returns.mean() # default axis=0 takes the mean of each column"
   ]
  },
  {
   "cell_type": "markdown",
   "id": "6ee33cea-9c05-4da4-9682-0870f0f345db",
   "metadata": {},
   "source": [
    "If we pass `axis=1`, we get the mean return on each day.\n",
    "We can this an \"equally-weighted portfolio return.\"\n",
    "$$r_{p,t} = \\sum_{i=0}^4 \\frac{1}{4} r_{i, t}$$"
   ]
  },
  {
   "cell_type": "code",
   "execution_count": 13,
   "id": "ef9f5eea-667c-44c2-a905-f79860c7dc6a",
   "metadata": {},
   "outputs": [
    {
     "data": {
      "text/plain": [
       "Date\n",
       "2004-08-20    0.0224\n",
       "2004-08-23    0.0041\n",
       "2004-08-24   -0.0032\n",
       "2004-08-25    0.0152\n",
       "2004-08-26    0.0146\n",
       "               ...  \n",
       "2024-01-23    0.0064\n",
       "2024-01-24    0.0042\n",
       "2024-01-25    0.0302\n",
       "2024-01-26   -0.0065\n",
       "2024-01-29    0.0040\n",
       "Length: 4893, dtype: float64"
      ]
     },
     "execution_count": 13,
     "metadata": {},
     "output_type": "execute_result"
    }
   ],
   "source": [
    "returns.mean(axis=1)"
   ]
  },
  {
   "cell_type": "markdown",
   "id": "a98798fa-74f3-4fba-b56e-484e513a62a5",
   "metadata": {},
   "source": [
    "### What are the standard deviations of daily returns for these four stocks?"
   ]
  },
  {
   "cell_type": "markdown",
   "id": "719e4a4e-5d4d-4032-ade7-2f01c1f5c602",
   "metadata": {},
   "source": [
    "pandas calcualates sample statistics by default."
   ]
  },
  {
   "cell_type": "code",
   "execution_count": 14,
   "id": "96cf5eea-4272-43b2-b1a2-95ee0b8ce631",
   "metadata": {},
   "outputs": [
    {
     "data": {
      "text/plain": [
       "AAPL   0.0206\n",
       "GOOG   0.0193\n",
       "IBM    0.0143\n",
       "MSFT   0.0171\n",
       "dtype: float64"
      ]
     },
     "execution_count": 14,
     "metadata": {},
     "output_type": "execute_result"
    }
   ],
   "source": [
    "returns.std()"
   ]
  },
  {
   "cell_type": "markdown",
   "id": "a64ae92c-8ce3-4c4c-80e2-f003db45d167",
   "metadata": {},
   "source": [
    "### What are the *annualized* means and standard deviations of daily returns for these four stocks?"
   ]
  },
  {
   "cell_type": "markdown",
   "id": "38061cfe-fe0d-4dbf-af90-3223aee33a5a",
   "metadata": {},
   "source": [
    "We annualize mean returns by multiplying by $T$ ($T=252$ for daily returns, $T=12$ for month returns, and so on).\n",
    "We annualize standard deviations by multiplying by $\\sqrt(T)$."
   ]
  },
  {
   "cell_type": "code",
   "execution_count": 15,
   "id": "65e54488-fea9-47a4-9e48-771dcc88bf1a",
   "metadata": {},
   "outputs": [
    {
     "data": {
      "text/plain": [
       "AAPL   0.3640\n",
       "GOOG   0.2594\n",
       "IBM    0.0981\n",
       "MSFT   0.2010\n",
       "dtype: float64"
      ]
     },
     "execution_count": 15,
     "metadata": {},
     "output_type": "execute_result"
    }
   ],
   "source": [
    "returns.mean().mul(252)"
   ]
  },
  {
   "cell_type": "code",
   "execution_count": 16,
   "id": "9175ee80-2a5e-4cf2-a77d-e4f6227cf7d1",
   "metadata": {},
   "outputs": [
    {
     "data": {
      "text/plain": [
       "AAPL   0.3276\n",
       "GOOG   0.3070\n",
       "IBM    0.2271\n",
       "MSFT   0.2722\n",
       "dtype: float64"
      ]
     },
     "execution_count": 16,
     "metadata": {},
     "output_type": "execute_result"
    }
   ],
   "source": [
    "returns.std().mul(np.sqrt(252))"
   ]
  },
  {
   "cell_type": "markdown",
   "id": "38792fcb-86a8-405e-9ca9-0db53ac63bc9",
   "metadata": {},
   "source": [
    "### Plot *annualized* means versus standard deviations of daily returns for these four stocks"
   ]
  },
  {
   "cell_type": "markdown",
   "id": "697e77fc-9eb9-45f8-9a44-1ba88f5a0922",
   "metadata": {},
   "source": [
    "Use `plt.scatter()`, which expects arguments as `x` (standard deviations) then `y` (means)."
   ]
  },
  {
   "cell_type": "code",
   "execution_count": 17,
   "id": "b9e3b904-87e8-4b86-ab30-3e680ffe8537",
   "metadata": {},
   "outputs": [
    {
     "data": {
      "image/png": "[encoded data removed]",
      "text/plain": [
       "<Figure size 640x480 with 1 Axes>"
      ]
     },
     "metadata": {
      "image/png": {
       "height": 454,
       "width": 575
      }
     },
     "output_type": "display_data"
    }
   ],
   "source": [
    "vols = returns.std().mul(np.sqrt(252) * 100)\n",
    "means = returns.mean().mul(252 * 100)\n",
    "\n",
    "plt.scatter(\n",
    "    x=vols,\n",
    "    y=means\n",
    ")\n",
    "\n",
    "# add tickers to each point\n",
    "for i in means.index: # loop over ticker index\n",
    "    plt.text( # plots string s at coordinates x and y\n",
    "        x=vols[i], # indexes volatility\n",
    "        y=means[i], # indexes mean return\n",
    "        s=i # ticker index\n",
    "    )\n",
    "\n",
    "plt.xlabel('Annualized Volatility of Daily Returns (%)')\n",
    "plt.ylabel('Annualized Mean of Daily Returns (%)')\n",
    "\n",
    "plt.title('Returns versus Risk')\n",
    "plt.show()"
   ]
  },
  {
   "cell_type": "markdown",
   "id": "492661cf-cac9-48fd-b4dc-465fcdf43b8a",
   "metadata": {},
   "source": [
    "### Repeat the previous calculations and plot for the stocks in the Dow-Jones Industrial Index (DJIA)"
   ]
  },
  {
   "cell_type": "markdown",
   "id": "f2726b01-2512-4b22-bca2-82ee1e5741a5",
   "metadata": {},
   "source": [
    "We can find the current DJIA stocks on [Wikipedia](https://en.wikipedia.org/wiki/Dow_Jones_Industrial_Average).\n",
    "We will need to download new data, into `tickers2`, `prices2`, and `returns2`."
   ]
  },
  {
   "cell_type": "markdown",
   "id": "16a850d1-f9e7-4dc8-b33f-74ec389bb9ab",
   "metadata": {},
   "source": [
    "### Calculate total returns for the stocks in the DJIA"
   ]
  },
  {
   "cell_type": "markdown",
   "id": "0502b05e-b768-4193-9f9e-23e6d76480c1",
   "metadata": {},
   "source": [
    "We can use the `.prod()` method to compound returns as $1 + R_T = \\prod_{t=1}^T (1 + R_t)$.\n",
    "Technically, we should write $R_T$ as $R_{0,T}$, but we typically omit the subscript $0$."
   ]
  },
  {
   "cell_type": "markdown",
   "id": "ab18bebf-855d-41e0-b442-4272af29511c",
   "metadata": {},
   "source": [
    "### Plot the distribution of total returns for the stocks in the DJIA"
   ]
  },
  {
   "cell_type": "markdown",
   "id": "7d7cdf0b-e78d-4126-99af-2bc279c2d839",
   "metadata": {},
   "source": [
    "We can plot a histogram, using either the `plt.hist()` function or the `.plot(kind='hist')` method."
   ]
  },
  {
   "cell_type": "markdown",
   "id": "255d61f5-cac6-4164-bdf4-7334ecf8ebab",
   "metadata": {},
   "source": [
    "### Which stocks have the minimum and maximum total returns?"
   ]
  },
  {
   "cell_type": "markdown",
   "id": "4abcfe01-5248-4cd3-b9c9-5fee3daf4912",
   "metadata": {},
   "source": [
    "### Plot the cumulative returns for the stocks in the DJIA"
   ]
  },
  {
   "cell_type": "markdown",
   "id": "a78a1284-8273-4342-ae6f-fb8f239d4649",
   "metadata": {},
   "source": [
    "We can use the cumulative product method `.cumprod()` to calculate the right hand side of the formula above."
   ]
  },
  {
   "cell_type": "markdown",
   "id": "a094ea46-cead-40fd-b74f-1a8eb4e100f4",
   "metadata": {},
   "source": [
    "### Repeat the plot above with only the minimum and maximum total returns"
   ]
  }
 ],
 "metadata": {
  "author": "Richard Herron",
  "kernelspec": {
   "display_name": "Python 3 (ipykernel)",
   "language": "python",
   "name": "python3"
  },
  "language_info": {
   "codemirror_mode": {
    "name": "ipython",
    "version": 3
   },
   "file_extension": ".py",
   "mimetype": "text/x-python",
   "name": "python",
   "nbconvert_exporter": "python",
   "pygments_lexer": "ipython3",
   "version": "3.12.1"
  },
  "title": "McKinney Chapter 5 - Practice"
 },
 "nbformat": 4,
 "nbformat_minor": 5
}
