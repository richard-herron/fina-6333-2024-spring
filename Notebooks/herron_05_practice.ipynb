{
 "cells": [
  {
   "cell_type": "markdown",
   "id": "22b59adb-864b-49c7-99dc-5f498ced59c2",
   "metadata": {},
   "source": [
    "# Herron Topic 5 - Practice (Blank)"
   ]
  },
  {
   "cell_type": "markdown",
   "id": "5adf9803-55e1-4ccc-a675-65f13ac58bca",
   "metadata": {},
   "source": [
    "## Announcements"
   ]
  },
  {
   "cell_type": "markdown",
   "id": "837fbfec-079d-4190-b763-7cf5e73ec3e2",
   "metadata": {},
   "source": [
    "##  Practice"
   ]
  },
  {
   "cell_type": "code",
   "execution_count": 37,
   "id": "81863d6f-fde6-4c3f-912e-5876590c44e5",
   "metadata": {
    "editable": true
   },
   "outputs": [],
   "source": [
    "import matplotlib.pyplot as plt\n",
    "import numpy as np\n",
    "import pandas as pd"
   ]
  },
  {
   "cell_type": "code",
   "execution_count": 38,
   "id": "a468b265-b832-4f9e-bc59-3ceb39c96976",
   "metadata": {},
   "outputs": [],
   "source": [
    "%config InlineBackend.figure_format = 'retina'\n",
    "%precision 2\n",
    "pd.options.display.float_format = '{:.2f}'.format"
   ]
  },
  {
   "cell_type": "code",
   "execution_count": 39,
   "id": "584d05bd-4eee-492a-b371-5a6a45f5e130",
   "metadata": {},
   "outputs": [],
   "source": [
    "import yfinance as yf\n",
    "import pandas_datareader as pdr\n",
    "import requests_cache\n",
    "session = requests_cache.CachedSession()"
   ]
  },
  {
   "cell_type": "markdown",
   "id": "b558d2bf-d00e-4ab6-b7bc-b620af239d1e",
   "metadata": {},
   "source": [
    "### Estimate $\\pi$ by simulating darts thrown at a dart board"
   ]
  },
  {
   "cell_type": "markdown",
   "id": "5e18186d-784c-46e3-9739-87e584815a22",
   "metadata": {},
   "source": [
    "*Hints:*\n",
    "Select random $x$s and $y$s such that $-r \\leq x \\leq +r$ and $-r \\leq x \\leq +r$.\n",
    "Darts are on the board if $x^2 + y^2 \\leq r^2$.\n",
    "The area of the circlular board is $\\pi r^2$, and the area of square around the board is $(2r)^2 = 4r^2$.\n",
    "The fraction $f$ of darts on the board is the same as the ratio of circle area to square area, so $f = \\frac{\\pi r^2}{4 r^2}$."
   ]
  },
  {
   "cell_type": "markdown",
   "id": "2a18fee2-d5c9-41dd-aee5-fdc6ef87a241",
   "metadata": {},
   "source": [
    "### Simulate your wealth $W_T$ by randomly sampling market returns"
   ]
  },
  {
   "cell_type": "markdown",
   "id": "660063d3-ab75-4c50-a17c-074994507d9c",
   "metadata": {},
   "source": [
    "Use monthly market returns from the French Data Library.\n",
    "Only invest one cash flow $W_0$, and plot the distribution of $W_T$."
   ]
  },
  {
   "cell_type": "markdown",
   "id": "cbc4e614-25af-45c3-b329-9959d6d67e6c",
   "metadata": {},
   "source": [
    "### Repeat the exercise above but add end-of-month investments $C_t$"
   ]
  }
 ],
 "metadata": {
  "kernelspec": {
   "display_name": "Python 3 (ipykernel)",
   "language": "python",
   "name": "python3"
  },
  "language_info": {
   "codemirror_mode": {
    "name": "ipython",
    "version": 3
   },
   "file_extension": ".py",
   "mimetype": "text/x-python",
   "name": "python",
   "nbconvert_exporter": "python",
   "pygments_lexer": "ipython3",
   "version": "3.9.13"
  },
  "title": "Herron Topic 5 - Practice"
 },
 "nbformat": 4,
 "nbformat_minor": 5
}
