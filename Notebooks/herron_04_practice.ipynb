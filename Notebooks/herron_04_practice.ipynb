{
 "cells": [
  {
   "cell_type": "markdown",
   "id": "22b59adb-864b-49c7-99dc-5f498ced59c2",
   "metadata": {},
   "source": [
    "# Herron Topic 4 - Practice (Blank)"
   ]
  },
  {
   "cell_type": "markdown",
   "id": "5adf9803-55e1-4ccc-a675-65f13ac58bca",
   "metadata": {},
   "source": [
    "## Announcements"
   ]
  },
  {
   "cell_type": "markdown",
   "id": "837fbfec-079d-4190-b763-7cf5e73ec3e2",
   "metadata": {},
   "source": [
    "##  Practice"
   ]
  },
  {
   "cell_type": "markdown",
   "id": "37b59c94-48f2-41fb-a50f-9c8eb794de9e",
   "metadata": {
    "tags": []
   },
   "source": [
    "### Find the maximum Sharpe Ratio portfolio of MATANA stocks over the last three years"
   ]
  },
  {
   "cell_type": "markdown",
   "id": "32619c40-d1a6-405f-a23a-daa8fc19ea04",
   "metadata": {},
   "source": [
    "Note that `sco.minimize()` finds *minimums*, so you need to minimize the *negative* Sharpe Ratio."
   ]
  },
  {
   "cell_type": "markdown",
   "id": "a859d74b-2cc5-4e7c-81f7-e8cb77aceb05",
   "metadata": {},
   "source": [
    "### Find the maximum Sharpe Ratio portfolio of MATANA stocks over the last three years, but allow short weights up to 10% on each stock"
   ]
  },
  {
   "cell_type": "markdown",
   "id": "3e391bdd-72b8-4b87-bec1-c1345cd4c1de",
   "metadata": {},
   "source": [
    "### Find the maximum Sharpe Ratio portfolio of MATANA stocks over the last three years, but allow total short weights of up to 30%"
   ]
  },
  {
   "cell_type": "markdown",
   "id": "00a10e0f-4c68-47db-af9e-8ff3dbe8e2fa",
   "metadata": {},
   "source": [
    "### Find the maximum Sharpe Ratio portfolio of MATANA stocks over the last three years, but do not allow any weight to exceed 30% in magnitude"
   ]
  },
  {
   "cell_type": "markdown",
   "id": "a28263c2-e22e-4099-a799-b0822e2cc854",
   "metadata": {},
   "source": [
    "### Find the minimum 95% Value at Risk (Var) portfolio of MATANA stocks over the last three years"
   ]
  },
  {
   "cell_type": "markdown",
   "id": "1acca0a3-691e-4405-a330-86afc9cddcda",
   "metadata": {},
   "source": [
    "More on VaR [here](https://en.wikipedia.org/wiki/Value_at_risk)."
   ]
  },
  {
   "cell_type": "markdown",
   "id": "60cc19d8-c3ca-4f12-bc64-342b87e74754",
   "metadata": {},
   "source": [
    "### Find the minimum maximum draw down portfolio of MATANA stocks over the last three years"
   ]
  },
  {
   "cell_type": "markdown",
   "id": "66e4e425-1ec4-4f4a-890d-dac809818c39",
   "metadata": {},
   "source": [
    "### Find the minimum maximum draw down portfolio with all available data for the current Dow-Jones Industrial Average (DJIA) stocks"
   ]
  },
  {
   "cell_type": "markdown",
   "id": "af036246-bea7-4324-ae0c-bfb8cafe7951",
   "metadata": {},
   "source": [
    "You can find the [DJIA tickers on Wikipedia](https://en.wikipedia.org/wiki/Dow_Jones_Industrial_Average)."
   ]
  },
  {
   "cell_type": "markdown",
   "id": "564991c1-0cee-4668-8dd5-ce025575cdf7",
   "metadata": {},
   "source": [
    "### Plot the (mean-variance) efficient frontier with all available data for the current the DJIA stocks"
   ]
  },
  {
   "cell_type": "markdown",
   "id": "7f58fcc6-c41e-447d-aef5-0c9d601374eb",
   "metadata": {},
   "source": [
    "### Find the maximum Sharpe Ratio portfolio with all available data for the current the DJIA stocks"
   ]
  },
  {
   "cell_type": "markdown",
   "id": "d537b8e3-c4a3-4ccc-88ff-b7ba862ff796",
   "metadata": {},
   "source": [
    "### Compare the $\\frac{1}{n}$ and maximum Sharpe Ratio portfolios with all available data for the current DJIA stocks"
   ]
  },
  {
   "cell_type": "markdown",
   "id": "05df5062-5a57-45a7-b41a-e06b2551f5ea",
   "metadata": {},
   "source": [
    "Use all but the last 252 trading days to estimate the maximum Sharpe Ratio portfolio weights.\n",
    "Then use the last 252 trading days of data to compare the $\\frac{1}{n}$  maximum Sharpe Ratio portfolios."
   ]
  }
 ],
 "metadata": {
  "kernelspec": {
   "display_name": "Python 3 (ipykernel)",
   "language": "python",
   "name": "python3"
  },
  "language_info": {
   "codemirror_mode": {
    "name": "ipython",
    "version": 3
   },
   "file_extension": ".py",
   "mimetype": "text/x-python",
   "name": "python",
   "nbconvert_exporter": "python",
   "pygments_lexer": "ipython3",
   "version": "3.9.13"
  },
  "title": "Herron Topic 4 - Practice"
 },
 "nbformat": 4,
 "nbformat_minor": 5
}
