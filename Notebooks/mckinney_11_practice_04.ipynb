{
 "cells": [
  {
   "cell_type": "markdown",
   "id": "4660c66c-e02d-4f08-a478-475f8bafb27c",
   "metadata": {},
   "source": [
    "# McKinney Chapter 11 - Practice for Section 04"
   ]
  },
  {
   "cell_type": "markdown",
   "id": "04af5727-ac44-4e30-ac17-492039a186f6",
   "metadata": {},
   "source": [
    "## Announcements"
   ]
  },
  {
   "cell_type": "markdown",
   "id": "b5934b57-546f-4a2d-b89b-82ad3a3faad6",
   "metadata": {},
   "source": [
    "##  Practice"
   ]
  },
  {
   "cell_type": "markdown",
   "id": "213ac5ab-a9f7-403c-add8-ccabf7a35b1c",
   "metadata": {},
   "source": [
    "### Calculate cumulative returns with all available data"
   ]
  },
  {
   "cell_type": "markdown",
   "id": "0307df92-3a63-4ce0-92d1-937b57b67ab1",
   "metadata": {},
   "source": [
    "### Calculate total returns for each calendar year"
   ]
  },
  {
   "cell_type": "markdown",
   "id": "1aa7ee5b-c49a-44cd-b14e-bf8781e076ef",
   "metadata": {},
   "source": [
    "### Calculate total returns over rolling 252-trading-day windows"
   ]
  },
  {
   "cell_type": "markdown",
   "id": "46357365-cc2d-496e-90fc-806d370a06da",
   "metadata": {},
   "source": [
    "### Calculate total returns over rolling 12-months windows after calculating monthly returns"
   ]
  },
  {
   "cell_type": "markdown",
   "id": "404b896c-673b-4e0d-b115-9947fd6a51ad",
   "metadata": {},
   "source": [
    "### Calculate Sharpe Ratios for each calendar year"
   ]
  },
  {
   "cell_type": "markdown",
   "id": "9e165079-f9d2-43d8-aba1-4c7cd492c843",
   "metadata": {
    "tags": []
   },
   "source": [
    "### Calculate rolling betas\n",
    "\n",
    "Calculate rolling capital asset pricing model (CAPM) betas for the MATANA stocks.\n",
    "\n",
    "The CAPM says the risk premium on a stock depends on the risk-free rate, beta, and the risk premium on the market: $E(r_i) = r_f + \\beta_i \\times (E(r_M) - r_f)$.\n",
    "We can calculate CAPM betas as: $\\beta_i = \\frac{Cov(r_i - r_f, r_M - r_f)}{Var(r_M - r_f)}$."
   ]
  },
  {
   "cell_type": "markdown",
   "id": "658112db-c9a1-4022-a993-5a15989fda3e",
   "metadata": {
    "tags": []
   },
   "source": [
    "### Calculate rolling Sharpe Ratios"
   ]
  },
  {
   "cell_type": "markdown",
   "id": "9ae3ed6e-b632-40f9-ad5f-d24cda5b07d0",
   "metadata": {},
   "source": [
    "Calculate rolling Sharpe Ratios for the MATANA stocks.\n",
    "\n",
    "The Sharpe Ratio is often used to evaluate fund managers.\n",
    "The Sharpe Ratio is $S_i = \\frac{\\overline{r_i - r_f}}{\\sigma_i}$, where $\\overline{r_i-r_f}$ is mean fund return relative to the risk-free rate over some period and $\\sigma_i$ is the standard deviation of $r_i-r_f$ over the same period.\n",
    "While the Sharpe Ratio is typically used for funds, we can apply it to a single stock to test our knowledge of the `.rolling()` method.\n",
    "Calculate and plot the one-year rolling Sharpe Ratio for the MATANA stocks using all available daily data."
   ]
  }
 ],
 "metadata": {
  "author": "Richard Herron",
  "kernelspec": {
   "display_name": "Python 3 (ipykernel)",
   "language": "python",
   "name": "python3"
  },
  "language_info": {
   "codemirror_mode": {
    "name": "ipython",
    "version": 3
   },
   "file_extension": ".py",
   "mimetype": "text/x-python",
   "name": "python",
   "nbconvert_exporter": "python",
   "pygments_lexer": "ipython3",
   "version": "3.12.1"
  },
  "title": "McKinney Chapter 11 - Practice"
 },
 "nbformat": 4,
 "nbformat_minor": 5
}
