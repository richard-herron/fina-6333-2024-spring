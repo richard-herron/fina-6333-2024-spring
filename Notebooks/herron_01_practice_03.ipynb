{
 "cells": [
  {
   "cell_type": "markdown",
   "id": "c1e33842-3bd0-4623-9296-60a1ad2fe57b",
   "metadata": {},
   "source": [
    "# Herron Topic 1 - Practice for Section 03"
   ]
  },
  {
   "cell_type": "markdown",
   "id": "4c3eb7c3-c7d2-4a29-b74b-941c7eadb9a7",
   "metadata": {},
   "source": [
    "## Announcements"
   ]
  },
  {
   "cell_type": "markdown",
   "id": "5f0403ae-126e-4827-bc51-3620aaec7ffa",
   "metadata": {},
   "source": [
    "1. DataCamp\n",
    "   1. *Data Manipulation with pandas* due by Friday, 2/9, at 11:59 PM\n",
    "   2. *Joining Data with pandas* due by Friday, 2/16, at 11:59 PM\n",
    "   3. *Earn 10,000 XP* due by Friday, 3/15, at 11:59 PM\n",
    "2. I posted Project 1 to Canvas\n",
    "   1. Slides and notebook due by Friday, 2/23, at 11:59 PM\n",
    "   2. Keep joining teams and let me know if you need help"
   ]
  },
  {
   "cell_type": "markdown",
   "id": "32957863-eacb-4feb-bf6c-77242b4ce8e5",
   "metadata": {},
   "source": [
    "## 10-Minute Recap"
   ]
  },
  {
   "cell_type": "code",
   "execution_count": 1,
   "id": "41a9dece-9aaf-4fde-bdab-0bb2ed647155",
   "metadata": {
    "editable": true
   },
   "outputs": [],
   "source": [
    "import matplotlib.pyplot as plt\n",
    "import numpy as np\n",
    "import pandas as pd\n",
    "import pandas_datareader as pdr\n",
    "import yfinance as yf"
   ]
  },
  {
   "cell_type": "code",
   "execution_count": 2,
   "id": "782513b7-0631-45da-889f-0a2ea3d83931",
   "metadata": {},
   "outputs": [],
   "source": [
    "%precision 4\n",
    "pd.options.display.float_format = '{:.4f}'.format\n",
    "%config InlineBackend.figure_format = 'retina'"
   ]
  },
  {
   "cell_type": "markdown",
   "id": "b39f0974-5aa8-48ce-8040-5994e29777c3",
   "metadata": {},
   "source": [
    "First, we can easily download data in Python with two packages:\n",
    "\n",
    "1. `yfinance` to download data from Yahoo! Finance\n",
    "2. `pandas-datareader` to download data from Ken French (and FRED and others)"
   ]
  },
  {
   "cell_type": "markdown",
   "id": "33ccb291-149f-418f-a5ab-ffa624845290",
   "metadata": {},
   "source": [
    "Second, there are \"simple returns\" and \"log returns\"\n",
    "\n",
    "1. Simple returns are the returns that investors receive that we learned in FINA 6331 and FINA 6333: $r_t = \\frac{p_t + d_t - p_{t-1}}{p_{t-1}}$\n",
    "3. Log returns are the log of one plus simple returns. Why do we use them?\n",
    "   1. ***Log returns are additive***, while simple returns are multiplicative. This additive property makes math really easy with log returns: $\\log(\\prod_{t=0}^T (1 + r_t)) = \\sum_{t=0}^T \\log(1+r_t)$, so $r_{0,T} = \\prod_{t=0}^T (1 + r_t) - 1 = e^{\\sum_{t=0}^T \\log(1+r_t)} - 1$\n",
    "   2. ***Log returns are almost normally distributed***\n",
    "  \n",
    "***We will almost always use simple returns.***\n",
    "The exeception is time-consuming calculations, which we will often do in log returns to save us time."
   ]
  },
  {
   "cell_type": "markdown",
   "id": "8fef0ceb-4360-488d-a35f-c1c460c1e467",
   "metadata": {},
   "source": [
    "Third, we can easily calculate portfolio returns in pandas!\n",
    "\n",
    "1. `returns.mean(axis=1)` is the equally-weighted portfolio return for the stocks in `returns`, ***rebalanced at the same frequency as the returns in `returns`!***\n",
    "2. `returns.dot(weights)` lets us use weights in array `weights` instead of equally-weighted, but is still ***rebalanced at the same frequency as the returns in `returns`!***"
   ]
  },
  {
   "cell_type": "markdown",
   "id": "aaa37f86-0fad-4559-bb68-044650ddfcf8",
   "metadata": {},
   "source": [
    "## Practice"
   ]
  },
  {
   "cell_type": "markdown",
   "id": "8e51143b-f6c6-4d68-9e3d-2c9ef99cbad5",
   "metadata": {},
   "source": [
    "### Download all available daily price data for tickers TSLA, F, AAPL, AMZN, and META to data frame `prices`"
   ]
  },
  {
   "cell_type": "code",
   "execution_count": 3,
   "id": "f268bf72-2baf-4f57-8568-973f28ba9ad6",
   "metadata": {},
   "outputs": [
    {
     "name": "stderr",
     "output_type": "stream",
     "text": [
      "[*********************100%%**********************]  5 of 5 completed\n"
     ]
    },
    {
     "data": {
      "text/html": [
       "<div>\n",
       "<style scoped>\n",
       "    .dataframe tbody tr th:only-of-type {\n",
       "        vertical-align: middle;\n",
       "    }\n",
       "\n",
       "    .dataframe tbody tr th {\n",
       "        vertical-align: top;\n",
       "    }\n",
       "\n",
       "    .dataframe thead tr th {\n",
       "        text-align: left;\n",
       "    }\n",
       "\n",
       "    .dataframe thead tr:last-of-type th {\n",
       "        text-align: right;\n",
       "    }\n",
       "</style>\n",
       "<table border=\"1\" class=\"dataframe\">\n",
       "  <thead>\n",
       "    <tr>\n",
       "      <th></th>\n",
       "      <th colspan=\"5\" halign=\"left\">Adj Close</th>\n",
       "      <th colspan=\"5\" halign=\"left\">Close</th>\n",
       "      <th>...</th>\n",
       "      <th colspan=\"5\" halign=\"left\">Open</th>\n",
       "      <th colspan=\"5\" halign=\"left\">Volume</th>\n",
       "    </tr>\n",
       "    <tr>\n",
       "      <th></th>\n",
       "      <th>AAPL</th>\n",
       "      <th>AMZN</th>\n",
       "      <th>F</th>\n",
       "      <th>META</th>\n",
       "      <th>TSLA</th>\n",
       "      <th>AAPL</th>\n",
       "      <th>AMZN</th>\n",
       "      <th>F</th>\n",
       "      <th>META</th>\n",
       "      <th>TSLA</th>\n",
       "      <th>...</th>\n",
       "      <th>AAPL</th>\n",
       "      <th>AMZN</th>\n",
       "      <th>F</th>\n",
       "      <th>META</th>\n",
       "      <th>TSLA</th>\n",
       "      <th>AAPL</th>\n",
       "      <th>AMZN</th>\n",
       "      <th>F</th>\n",
       "      <th>META</th>\n",
       "      <th>TSLA</th>\n",
       "    </tr>\n",
       "    <tr>\n",
       "      <th>Date</th>\n",
       "      <th></th>\n",
       "      <th></th>\n",
       "      <th></th>\n",
       "      <th></th>\n",
       "      <th></th>\n",
       "      <th></th>\n",
       "      <th></th>\n",
       "      <th></th>\n",
       "      <th></th>\n",
       "      <th></th>\n",
       "      <th></th>\n",
       "      <th></th>\n",
       "      <th></th>\n",
       "      <th></th>\n",
       "      <th></th>\n",
       "      <th></th>\n",
       "      <th></th>\n",
       "      <th></th>\n",
       "      <th></th>\n",
       "      <th></th>\n",
       "      <th></th>\n",
       "    </tr>\n",
       "  </thead>\n",
       "  <tbody>\n",
       "    <tr>\n",
       "      <th>1972-06-01</th>\n",
       "      <td>NaN</td>\n",
       "      <td>NaN</td>\n",
       "      <td>0.2419</td>\n",
       "      <td>NaN</td>\n",
       "      <td>NaN</td>\n",
       "      <td>NaN</td>\n",
       "      <td>NaN</td>\n",
       "      <td>2.1532</td>\n",
       "      <td>NaN</td>\n",
       "      <td>NaN</td>\n",
       "      <td>...</td>\n",
       "      <td>NaN</td>\n",
       "      <td>NaN</td>\n",
       "      <td>0.0000</td>\n",
       "      <td>NaN</td>\n",
       "      <td>NaN</td>\n",
       "      <td>NaN</td>\n",
       "      <td>NaN</td>\n",
       "      <td>1091238</td>\n",
       "      <td>NaN</td>\n",
       "      <td>NaN</td>\n",
       "    </tr>\n",
       "    <tr>\n",
       "      <th>1972-06-02</th>\n",
       "      <td>NaN</td>\n",
       "      <td>NaN</td>\n",
       "      <td>0.2414</td>\n",
       "      <td>NaN</td>\n",
       "      <td>NaN</td>\n",
       "      <td>NaN</td>\n",
       "      <td>NaN</td>\n",
       "      <td>2.1492</td>\n",
       "      <td>NaN</td>\n",
       "      <td>NaN</td>\n",
       "      <td>...</td>\n",
       "      <td>NaN</td>\n",
       "      <td>NaN</td>\n",
       "      <td>2.1532</td>\n",
       "      <td>NaN</td>\n",
       "      <td>NaN</td>\n",
       "      <td>NaN</td>\n",
       "      <td>NaN</td>\n",
       "      <td>1174468</td>\n",
       "      <td>NaN</td>\n",
       "      <td>NaN</td>\n",
       "    </tr>\n",
       "    <tr>\n",
       "      <th>1972-06-05</th>\n",
       "      <td>NaN</td>\n",
       "      <td>NaN</td>\n",
       "      <td>0.2414</td>\n",
       "      <td>NaN</td>\n",
       "      <td>NaN</td>\n",
       "      <td>NaN</td>\n",
       "      <td>NaN</td>\n",
       "      <td>2.1492</td>\n",
       "      <td>NaN</td>\n",
       "      <td>NaN</td>\n",
       "      <td>...</td>\n",
       "      <td>NaN</td>\n",
       "      <td>NaN</td>\n",
       "      <td>2.1492</td>\n",
       "      <td>NaN</td>\n",
       "      <td>NaN</td>\n",
       "      <td>NaN</td>\n",
       "      <td>NaN</td>\n",
       "      <td>5209582</td>\n",
       "      <td>NaN</td>\n",
       "      <td>NaN</td>\n",
       "    </tr>\n",
       "    <tr>\n",
       "      <th>1972-06-06</th>\n",
       "      <td>NaN</td>\n",
       "      <td>NaN</td>\n",
       "      <td>0.2387</td>\n",
       "      <td>NaN</td>\n",
       "      <td>NaN</td>\n",
       "      <td>NaN</td>\n",
       "      <td>NaN</td>\n",
       "      <td>2.1248</td>\n",
       "      <td>NaN</td>\n",
       "      <td>NaN</td>\n",
       "      <td>...</td>\n",
       "      <td>NaN</td>\n",
       "      <td>NaN</td>\n",
       "      <td>2.1492</td>\n",
       "      <td>NaN</td>\n",
       "      <td>NaN</td>\n",
       "      <td>NaN</td>\n",
       "      <td>NaN</td>\n",
       "      <td>1424158</td>\n",
       "      <td>NaN</td>\n",
       "      <td>NaN</td>\n",
       "    </tr>\n",
       "    <tr>\n",
       "      <th>1972-06-07</th>\n",
       "      <td>NaN</td>\n",
       "      <td>NaN</td>\n",
       "      <td>0.2373</td>\n",
       "      <td>NaN</td>\n",
       "      <td>NaN</td>\n",
       "      <td>NaN</td>\n",
       "      <td>NaN</td>\n",
       "      <td>2.1127</td>\n",
       "      <td>NaN</td>\n",
       "      <td>NaN</td>\n",
       "      <td>...</td>\n",
       "      <td>NaN</td>\n",
       "      <td>NaN</td>\n",
       "      <td>2.1248</td>\n",
       "      <td>NaN</td>\n",
       "      <td>NaN</td>\n",
       "      <td>NaN</td>\n",
       "      <td>NaN</td>\n",
       "      <td>675088</td>\n",
       "      <td>NaN</td>\n",
       "      <td>NaN</td>\n",
       "    </tr>\n",
       "    <tr>\n",
       "      <th>...</th>\n",
       "      <td>...</td>\n",
       "      <td>...</td>\n",
       "      <td>...</td>\n",
       "      <td>...</td>\n",
       "      <td>...</td>\n",
       "      <td>...</td>\n",
       "      <td>...</td>\n",
       "      <td>...</td>\n",
       "      <td>...</td>\n",
       "      <td>...</td>\n",
       "      <td>...</td>\n",
       "      <td>...</td>\n",
       "      <td>...</td>\n",
       "      <td>...</td>\n",
       "      <td>...</td>\n",
       "      <td>...</td>\n",
       "      <td>...</td>\n",
       "      <td>...</td>\n",
       "      <td>...</td>\n",
       "      <td>...</td>\n",
       "      <td>...</td>\n",
       "    </tr>\n",
       "    <tr>\n",
       "      <th>2024-01-31</th>\n",
       "      <td>184.4000</td>\n",
       "      <td>155.2000</td>\n",
       "      <td>11.7200</td>\n",
       "      <td>390.1400</td>\n",
       "      <td>187.2900</td>\n",
       "      <td>184.4000</td>\n",
       "      <td>155.2000</td>\n",
       "      <td>11.7200</td>\n",
       "      <td>390.1400</td>\n",
       "      <td>187.2900</td>\n",
       "      <td>...</td>\n",
       "      <td>187.0400</td>\n",
       "      <td>157.0000</td>\n",
       "      <td>11.7600</td>\n",
       "      <td>389.0000</td>\n",
       "      <td>187.0000</td>\n",
       "      <td>55467800.0000</td>\n",
       "      <td>50284400.0000</td>\n",
       "      <td>74558900</td>\n",
       "      <td>20180800.0000</td>\n",
       "      <td>103221400.0000</td>\n",
       "    </tr>\n",
       "    <tr>\n",
       "      <th>2024-02-01</th>\n",
       "      <td>186.8600</td>\n",
       "      <td>159.2800</td>\n",
       "      <td>12.1000</td>\n",
       "      <td>394.7800</td>\n",
       "      <td>188.8600</td>\n",
       "      <td>186.8600</td>\n",
       "      <td>159.2800</td>\n",
       "      <td>12.1000</td>\n",
       "      <td>394.7800</td>\n",
       "      <td>188.8600</td>\n",
       "      <td>...</td>\n",
       "      <td>183.9900</td>\n",
       "      <td>155.8700</td>\n",
       "      <td>11.8200</td>\n",
       "      <td>393.9400</td>\n",
       "      <td>188.5000</td>\n",
       "      <td>64885400.0000</td>\n",
       "      <td>76542400.0000</td>\n",
       "      <td>81065800</td>\n",
       "      <td>29727100.0000</td>\n",
       "      <td>91843300.0000</td>\n",
       "    </tr>\n",
       "    <tr>\n",
       "      <th>2024-02-02</th>\n",
       "      <td>185.8500</td>\n",
       "      <td>171.8100</td>\n",
       "      <td>12.1400</td>\n",
       "      <td>474.9900</td>\n",
       "      <td>187.9100</td>\n",
       "      <td>185.8500</td>\n",
       "      <td>171.8100</td>\n",
       "      <td>12.1400</td>\n",
       "      <td>474.9900</td>\n",
       "      <td>187.9100</td>\n",
       "      <td>...</td>\n",
       "      <td>179.8600</td>\n",
       "      <td>169.1900</td>\n",
       "      <td>12.0300</td>\n",
       "      <td>459.6000</td>\n",
       "      <td>185.0400</td>\n",
       "      <td>102518000.0000</td>\n",
       "      <td>117154900.0000</td>\n",
       "      <td>73087000</td>\n",
       "      <td>84615500.0000</td>\n",
       "      <td>110505100.0000</td>\n",
       "    </tr>\n",
       "    <tr>\n",
       "      <th>2024-02-05</th>\n",
       "      <td>187.6800</td>\n",
       "      <td>170.3100</td>\n",
       "      <td>11.5900</td>\n",
       "      <td>459.4100</td>\n",
       "      <td>181.0600</td>\n",
       "      <td>187.6800</td>\n",
       "      <td>170.3100</td>\n",
       "      <td>11.5900</td>\n",
       "      <td>459.4100</td>\n",
       "      <td>181.0600</td>\n",
       "      <td>...</td>\n",
       "      <td>188.1500</td>\n",
       "      <td>170.2000</td>\n",
       "      <td>12.0100</td>\n",
       "      <td>469.8800</td>\n",
       "      <td>184.2600</td>\n",
       "      <td>69668800.0000</td>\n",
       "      <td>55081300.0000</td>\n",
       "      <td>81026800</td>\n",
       "      <td>40832400.0000</td>\n",
       "      <td>134294400.0000</td>\n",
       "    </tr>\n",
       "    <tr>\n",
       "      <th>2024-02-06</th>\n",
       "      <td>189.3000</td>\n",
       "      <td>169.1500</td>\n",
       "      <td>12.0700</td>\n",
       "      <td>454.7200</td>\n",
       "      <td>185.1000</td>\n",
       "      <td>189.3000</td>\n",
       "      <td>169.1500</td>\n",
       "      <td>12.0700</td>\n",
       "      <td>454.7200</td>\n",
       "      <td>185.1000</td>\n",
       "      <td>...</td>\n",
       "      <td>186.8600</td>\n",
       "      <td>169.3900</td>\n",
       "      <td>11.6400</td>\n",
       "      <td>464.0000</td>\n",
       "      <td>177.2100</td>\n",
       "      <td>43225255.0000</td>\n",
       "      <td>39617363.0000</td>\n",
       "      <td>83842760</td>\n",
       "      <td>21584859.0000</td>\n",
       "      <td>122217420.0000</td>\n",
       "    </tr>\n",
       "  </tbody>\n",
       "</table>\n",
       "<p>13032 rows × 30 columns</p>\n",
       "</div>"
      ],
      "text/plain": [
       "           Adj Close                                       Close           \\\n",
       "                AAPL     AMZN       F     META     TSLA     AAPL     AMZN   \n",
       "Date                                                                        \n",
       "1972-06-01       NaN      NaN  0.2419      NaN      NaN      NaN      NaN   \n",
       "1972-06-02       NaN      NaN  0.2414      NaN      NaN      NaN      NaN   \n",
       "1972-06-05       NaN      NaN  0.2414      NaN      NaN      NaN      NaN   \n",
       "1972-06-06       NaN      NaN  0.2387      NaN      NaN      NaN      NaN   \n",
       "1972-06-07       NaN      NaN  0.2373      NaN      NaN      NaN      NaN   \n",
       "...              ...      ...     ...      ...      ...      ...      ...   \n",
       "2024-01-31  184.4000 155.2000 11.7200 390.1400 187.2900 184.4000 155.2000   \n",
       "2024-02-01  186.8600 159.2800 12.1000 394.7800 188.8600 186.8600 159.2800   \n",
       "2024-02-02  185.8500 171.8100 12.1400 474.9900 187.9100 185.8500 171.8100   \n",
       "2024-02-05  187.6800 170.3100 11.5900 459.4100 181.0600 187.6800 170.3100   \n",
       "2024-02-06  189.3000 169.1500 12.0700 454.7200 185.1000 189.3000 169.1500   \n",
       "\n",
       "                                      ...     Open                            \\\n",
       "                 F     META     TSLA  ...     AAPL     AMZN       F     META   \n",
       "Date                                  ...                                      \n",
       "1972-06-01  2.1532      NaN      NaN  ...      NaN      NaN  0.0000      NaN   \n",
       "1972-06-02  2.1492      NaN      NaN  ...      NaN      NaN  2.1532      NaN   \n",
       "1972-06-05  2.1492      NaN      NaN  ...      NaN      NaN  2.1492      NaN   \n",
       "1972-06-06  2.1248      NaN      NaN  ...      NaN      NaN  2.1492      NaN   \n",
       "1972-06-07  2.1127      NaN      NaN  ...      NaN      NaN  2.1248      NaN   \n",
       "...            ...      ...      ...  ...      ...      ...     ...      ...   \n",
       "2024-01-31 11.7200 390.1400 187.2900  ... 187.0400 157.0000 11.7600 389.0000   \n",
       "2024-02-01 12.1000 394.7800 188.8600  ... 183.9900 155.8700 11.8200 393.9400   \n",
       "2024-02-02 12.1400 474.9900 187.9100  ... 179.8600 169.1900 12.0300 459.6000   \n",
       "2024-02-05 11.5900 459.4100 181.0600  ... 188.1500 170.2000 12.0100 469.8800   \n",
       "2024-02-06 12.0700 454.7200 185.1000  ... 186.8600 169.3900 11.6400 464.0000   \n",
       "\n",
       "                            Volume                                         \\\n",
       "               TSLA           AAPL           AMZN         F          META   \n",
       "Date                                                                        \n",
       "1972-06-01      NaN            NaN            NaN   1091238           NaN   \n",
       "1972-06-02      NaN            NaN            NaN   1174468           NaN   \n",
       "1972-06-05      NaN            NaN            NaN   5209582           NaN   \n",
       "1972-06-06      NaN            NaN            NaN   1424158           NaN   \n",
       "1972-06-07      NaN            NaN            NaN    675088           NaN   \n",
       "...             ...            ...            ...       ...           ...   \n",
       "2024-01-31 187.0000  55467800.0000  50284400.0000  74558900 20180800.0000   \n",
       "2024-02-01 188.5000  64885400.0000  76542400.0000  81065800 29727100.0000   \n",
       "2024-02-02 185.0400 102518000.0000 117154900.0000  73087000 84615500.0000   \n",
       "2024-02-05 184.2600  69668800.0000  55081300.0000  81026800 40832400.0000   \n",
       "2024-02-06 177.2100  43225255.0000  39617363.0000  83842760 21584859.0000   \n",
       "\n",
       "                           \n",
       "                     TSLA  \n",
       "Date                       \n",
       "1972-06-01            NaN  \n",
       "1972-06-02            NaN  \n",
       "1972-06-05            NaN  \n",
       "1972-06-06            NaN  \n",
       "1972-06-07            NaN  \n",
       "...                   ...  \n",
       "2024-01-31 103221400.0000  \n",
       "2024-02-01  91843300.0000  \n",
       "2024-02-02 110505100.0000  \n",
       "2024-02-05 134294400.0000  \n",
       "2024-02-06 122217420.0000  \n",
       "\n",
       "[13032 rows x 30 columns]"
      ]
     },
     "execution_count": 3,
     "metadata": {},
     "output_type": "execute_result"
    }
   ],
   "source": [
    "tickers = 'TSLA F AAPL AMZN META'\n",
    "prices = yf.download(tickers=tickers)\n",
    "\n",
    "prices"
   ]
  },
  {
   "cell_type": "markdown",
   "id": "208b6881-db09-4ba6-a055-f5f9948c87d4",
   "metadata": {},
   "source": [
    "### Calculate all available daily returns and save to data frame `returns`"
   ]
  },
  {
   "cell_type": "code",
   "execution_count": 4,
   "id": "420582ff-de0f-47f9-ae6d-82aa215174b6",
   "metadata": {},
   "outputs": [
    {
     "data": {
      "text/html": [
       "<div>\n",
       "<style scoped>\n",
       "    .dataframe tbody tr th:only-of-type {\n",
       "        vertical-align: middle;\n",
       "    }\n",
       "\n",
       "    .dataframe tbody tr th {\n",
       "        vertical-align: top;\n",
       "    }\n",
       "\n",
       "    .dataframe thead th {\n",
       "        text-align: right;\n",
       "    }\n",
       "</style>\n",
       "<table border=\"1\" class=\"dataframe\">\n",
       "  <thead>\n",
       "    <tr style=\"text-align: right;\">\n",
       "      <th></th>\n",
       "      <th>AAPL</th>\n",
       "      <th>AMZN</th>\n",
       "      <th>F</th>\n",
       "      <th>META</th>\n",
       "      <th>TSLA</th>\n",
       "    </tr>\n",
       "    <tr>\n",
       "      <th>Date</th>\n",
       "      <th></th>\n",
       "      <th></th>\n",
       "      <th></th>\n",
       "      <th></th>\n",
       "      <th></th>\n",
       "    </tr>\n",
       "  </thead>\n",
       "  <tbody>\n",
       "    <tr>\n",
       "      <th>1972-06-01</th>\n",
       "      <td>NaN</td>\n",
       "      <td>NaN</td>\n",
       "      <td>NaN</td>\n",
       "      <td>NaN</td>\n",
       "      <td>NaN</td>\n",
       "    </tr>\n",
       "    <tr>\n",
       "      <th>1972-06-02</th>\n",
       "      <td>NaN</td>\n",
       "      <td>NaN</td>\n",
       "      <td>-0.0019</td>\n",
       "      <td>NaN</td>\n",
       "      <td>NaN</td>\n",
       "    </tr>\n",
       "    <tr>\n",
       "      <th>1972-06-05</th>\n",
       "      <td>NaN</td>\n",
       "      <td>NaN</td>\n",
       "      <td>0.0000</td>\n",
       "      <td>NaN</td>\n",
       "      <td>NaN</td>\n",
       "    </tr>\n",
       "    <tr>\n",
       "      <th>1972-06-06</th>\n",
       "      <td>NaN</td>\n",
       "      <td>NaN</td>\n",
       "      <td>-0.0113</td>\n",
       "      <td>NaN</td>\n",
       "      <td>NaN</td>\n",
       "    </tr>\n",
       "    <tr>\n",
       "      <th>1972-06-07</th>\n",
       "      <td>NaN</td>\n",
       "      <td>NaN</td>\n",
       "      <td>-0.0057</td>\n",
       "      <td>NaN</td>\n",
       "      <td>NaN</td>\n",
       "    </tr>\n",
       "    <tr>\n",
       "      <th>...</th>\n",
       "      <td>...</td>\n",
       "      <td>...</td>\n",
       "      <td>...</td>\n",
       "      <td>...</td>\n",
       "      <td>...</td>\n",
       "    </tr>\n",
       "    <tr>\n",
       "      <th>2024-01-30</th>\n",
       "      <td>-0.0192</td>\n",
       "      <td>-0.0140</td>\n",
       "      <td>0.0199</td>\n",
       "      <td>-0.0024</td>\n",
       "      <td>0.0035</td>\n",
       "    </tr>\n",
       "    <tr>\n",
       "      <th>2024-01-31</th>\n",
       "      <td>-0.0194</td>\n",
       "      <td>-0.0239</td>\n",
       "      <td>-0.0051</td>\n",
       "      <td>-0.0248</td>\n",
       "      <td>-0.0224</td>\n",
       "    </tr>\n",
       "    <tr>\n",
       "      <th>2024-02-01</th>\n",
       "      <td>0.0133</td>\n",
       "      <td>0.0263</td>\n",
       "      <td>0.0324</td>\n",
       "      <td>0.0119</td>\n",
       "      <td>0.0084</td>\n",
       "    </tr>\n",
       "    <tr>\n",
       "      <th>2024-02-02</th>\n",
       "      <td>-0.0054</td>\n",
       "      <td>0.0787</td>\n",
       "      <td>0.0033</td>\n",
       "      <td>0.2032</td>\n",
       "      <td>-0.0050</td>\n",
       "    </tr>\n",
       "    <tr>\n",
       "      <th>2024-02-05</th>\n",
       "      <td>0.0098</td>\n",
       "      <td>-0.0087</td>\n",
       "      <td>-0.0453</td>\n",
       "      <td>-0.0328</td>\n",
       "      <td>-0.0365</td>\n",
       "    </tr>\n",
       "  </tbody>\n",
       "</table>\n",
       "<p>13031 rows × 5 columns</p>\n",
       "</div>"
      ],
      "text/plain": [
       "              AAPL    AMZN       F    META    TSLA\n",
       "Date                                              \n",
       "1972-06-01     NaN     NaN     NaN     NaN     NaN\n",
       "1972-06-02     NaN     NaN -0.0019     NaN     NaN\n",
       "1972-06-05     NaN     NaN  0.0000     NaN     NaN\n",
       "1972-06-06     NaN     NaN -0.0113     NaN     NaN\n",
       "1972-06-07     NaN     NaN -0.0057     NaN     NaN\n",
       "...            ...     ...     ...     ...     ...\n",
       "2024-01-30 -0.0192 -0.0140  0.0199 -0.0024  0.0035\n",
       "2024-01-31 -0.0194 -0.0239 -0.0051 -0.0248 -0.0224\n",
       "2024-02-01  0.0133  0.0263  0.0324  0.0119  0.0084\n",
       "2024-02-02 -0.0054  0.0787  0.0033  0.2032 -0.0050\n",
       "2024-02-05  0.0098 -0.0087 -0.0453 -0.0328 -0.0365\n",
       "\n",
       "[13031 rows x 5 columns]"
      ]
     },
     "execution_count": 4,
     "metadata": {},
     "output_type": "execute_result"
    }
   ],
   "source": [
    "returns = (\n",
    "    prices['Adj Close'] # slice adj close\n",
    "    .iloc[:-1] # drop the last price because it might be intraday (i.e., not a close)\n",
    "    .pct_change() # calculate simple returns\n",
    ")\n",
    "\n",
    "returns"
   ]
  },
  {
   "cell_type": "markdown",
   "id": "4cad0e37-9f38-4c27-87cd-fb577290aab9",
   "metadata": {},
   "source": [
    "### Slices returns for the 2020s and assign to `returns_2020s`"
   ]
  },
  {
   "cell_type": "code",
   "execution_count": 5,
   "id": "4cb151dc-3822-433a-89e9-94ceee99047d",
   "metadata": {},
   "outputs": [
    {
     "data": {
      "text/html": [
       "<div>\n",
       "<style scoped>\n",
       "    .dataframe tbody tr th:only-of-type {\n",
       "        vertical-align: middle;\n",
       "    }\n",
       "\n",
       "    .dataframe tbody tr th {\n",
       "        vertical-align: top;\n",
       "    }\n",
       "\n",
       "    .dataframe thead th {\n",
       "        text-align: right;\n",
       "    }\n",
       "</style>\n",
       "<table border=\"1\" class=\"dataframe\">\n",
       "  <thead>\n",
       "    <tr style=\"text-align: right;\">\n",
       "      <th></th>\n",
       "      <th>AAPL</th>\n",
       "      <th>AMZN</th>\n",
       "      <th>F</th>\n",
       "      <th>META</th>\n",
       "      <th>TSLA</th>\n",
       "    </tr>\n",
       "    <tr>\n",
       "      <th>Date</th>\n",
       "      <th></th>\n",
       "      <th></th>\n",
       "      <th></th>\n",
       "      <th></th>\n",
       "      <th></th>\n",
       "    </tr>\n",
       "  </thead>\n",
       "  <tbody>\n",
       "    <tr>\n",
       "      <th>2020-01-02</th>\n",
       "      <td>0.0228</td>\n",
       "      <td>0.0272</td>\n",
       "      <td>0.0129</td>\n",
       "      <td>0.0221</td>\n",
       "      <td>0.0285</td>\n",
       "    </tr>\n",
       "    <tr>\n",
       "      <th>2020-01-03</th>\n",
       "      <td>-0.0097</td>\n",
       "      <td>-0.0121</td>\n",
       "      <td>-0.0223</td>\n",
       "      <td>-0.0053</td>\n",
       "      <td>0.0296</td>\n",
       "    </tr>\n",
       "    <tr>\n",
       "      <th>2020-01-06</th>\n",
       "      <td>0.0080</td>\n",
       "      <td>0.0149</td>\n",
       "      <td>-0.0054</td>\n",
       "      <td>0.0188</td>\n",
       "      <td>0.0193</td>\n",
       "    </tr>\n",
       "    <tr>\n",
       "      <th>2020-01-07</th>\n",
       "      <td>-0.0047</td>\n",
       "      <td>0.0021</td>\n",
       "      <td>0.0098</td>\n",
       "      <td>0.0022</td>\n",
       "      <td>0.0388</td>\n",
       "    </tr>\n",
       "    <tr>\n",
       "      <th>2020-01-08</th>\n",
       "      <td>0.0161</td>\n",
       "      <td>-0.0078</td>\n",
       "      <td>0.0000</td>\n",
       "      <td>0.0101</td>\n",
       "      <td>0.0492</td>\n",
       "    </tr>\n",
       "    <tr>\n",
       "      <th>...</th>\n",
       "      <td>...</td>\n",
       "      <td>...</td>\n",
       "      <td>...</td>\n",
       "      <td>...</td>\n",
       "      <td>...</td>\n",
       "    </tr>\n",
       "    <tr>\n",
       "      <th>2024-01-30</th>\n",
       "      <td>-0.0192</td>\n",
       "      <td>-0.0140</td>\n",
       "      <td>0.0199</td>\n",
       "      <td>-0.0024</td>\n",
       "      <td>0.0035</td>\n",
       "    </tr>\n",
       "    <tr>\n",
       "      <th>2024-01-31</th>\n",
       "      <td>-0.0194</td>\n",
       "      <td>-0.0239</td>\n",
       "      <td>-0.0051</td>\n",
       "      <td>-0.0248</td>\n",
       "      <td>-0.0224</td>\n",
       "    </tr>\n",
       "    <tr>\n",
       "      <th>2024-02-01</th>\n",
       "      <td>0.0133</td>\n",
       "      <td>0.0263</td>\n",
       "      <td>0.0324</td>\n",
       "      <td>0.0119</td>\n",
       "      <td>0.0084</td>\n",
       "    </tr>\n",
       "    <tr>\n",
       "      <th>2024-02-02</th>\n",
       "      <td>-0.0054</td>\n",
       "      <td>0.0787</td>\n",
       "      <td>0.0033</td>\n",
       "      <td>0.2032</td>\n",
       "      <td>-0.0050</td>\n",
       "    </tr>\n",
       "    <tr>\n",
       "      <th>2024-02-05</th>\n",
       "      <td>0.0098</td>\n",
       "      <td>-0.0087</td>\n",
       "      <td>-0.0453</td>\n",
       "      <td>-0.0328</td>\n",
       "      <td>-0.0365</td>\n",
       "    </tr>\n",
       "  </tbody>\n",
       "</table>\n",
       "<p>1030 rows × 5 columns</p>\n",
       "</div>"
      ],
      "text/plain": [
       "              AAPL    AMZN       F    META    TSLA\n",
       "Date                                              \n",
       "2020-01-02  0.0228  0.0272  0.0129  0.0221  0.0285\n",
       "2020-01-03 -0.0097 -0.0121 -0.0223 -0.0053  0.0296\n",
       "2020-01-06  0.0080  0.0149 -0.0054  0.0188  0.0193\n",
       "2020-01-07 -0.0047  0.0021  0.0098  0.0022  0.0388\n",
       "2020-01-08  0.0161 -0.0078  0.0000  0.0101  0.0492\n",
       "...            ...     ...     ...     ...     ...\n",
       "2024-01-30 -0.0192 -0.0140  0.0199 -0.0024  0.0035\n",
       "2024-01-31 -0.0194 -0.0239 -0.0051 -0.0248 -0.0224\n",
       "2024-02-01  0.0133  0.0263  0.0324  0.0119  0.0084\n",
       "2024-02-02 -0.0054  0.0787  0.0033  0.2032 -0.0050\n",
       "2024-02-05  0.0098 -0.0087 -0.0453 -0.0328 -0.0365\n",
       "\n",
       "[1030 rows x 5 columns]"
      ]
     },
     "execution_count": 5,
     "metadata": {},
     "output_type": "execute_result"
    }
   ],
   "source": [
    "returns_2020s = returns.loc['2020':] # always use an unambiguos date format, like YYYY-MM-DD\n",
    "\n",
    "returns_2020s"
   ]
  },
  {
   "cell_type": "markdown",
   "id": "0fc74b20-c29a-4dd2-b873-003d55c7d0d7",
   "metadata": {},
   "source": [
    "### Download all available data for the Fama and French daily benchmark factors to dictionary `ff_all`"
   ]
  },
  {
   "cell_type": "markdown",
   "id": "afb20e59-6658-43c1-a620-d6d1d4f23460",
   "metadata": {},
   "source": [
    "I often use the following code snippet to find the exact name for the the daily benchmark factors file."
   ]
  },
  {
   "cell_type": "code",
   "execution_count": 6,
   "id": "af38557c-a85a-4b6d-8a29-403f815d63dc",
   "metadata": {},
   "outputs": [
    {
     "data": {
      "text/plain": [
       "['F-F_Research_Data_Factors',\n",
       " 'F-F_Research_Data_Factors_weekly',\n",
       " 'F-F_Research_Data_Factors_daily',\n",
       " 'F-F_Research_Data_5_Factors_2x3',\n",
       " 'F-F_Research_Data_5_Factors_2x3_daily']"
      ]
     },
     "execution_count": 6,
     "metadata": {},
     "output_type": "execute_result"
    }
   ],
   "source": [
    "pdr.famafrench.get_available_datasets()[:5]"
   ]
  },
  {
   "cell_type": "code",
   "execution_count": 7,
   "id": "63375ae9-cd83-4d69-b583-4cb9f2816c69",
   "metadata": {},
   "outputs": [
    {
     "name": "stderr",
     "output_type": "stream",
     "text": [
      "C:\\Users\\r.herron\\AppData\\Local\\Temp\\ipykernel_10352\\2526882917.py:1: FutureWarning: The argument 'date_parser' is deprecated and will be removed in a future version. Please use 'date_format' instead, or read your data in as 'object' dtype and then call 'to_datetime'.\n",
      "  ff_all = pdr.DataReader(\n"
     ]
    }
   ],
   "source": [
    "ff_all = pdr.DataReader(\n",
    "    name='F-F_Research_Data_Factors_daily',\n",
    "    data_source='famafrench',\n",
    "    start='1900'\n",
    ")"
   ]
  },
  {
   "cell_type": "markdown",
   "id": "98168117-7b66-4e07-9965-c5224a02932d",
   "metadata": {},
   "source": [
    "The `DESCR` key in the dictionary tells us about the data frames that `pandas-datareader` returns."
   ]
  },
  {
   "cell_type": "code",
   "execution_count": 8,
   "id": "534f1a59-788f-4cbd-b7c7-02d7e7168780",
   "metadata": {},
   "outputs": [
    {
     "name": "stdout",
     "output_type": "stream",
     "text": [
      "F-F Research Data Factors daily\n",
      "-------------------------------\n",
      "\n",
      "This file was created by CMPT_ME_BEME_RETS_DAILY using the 202312 CRSP database. The Tbill return is the simple daily rate that, over the number of trading days in the month, compounds to 1-month TBill rate from Ibbotson and Associates Inc. Copyright 2023 Kenneth R. French\n",
      "\n",
      "  0 : (25649 rows x 4 cols)\n"
     ]
    }
   ],
   "source": [
    "print(ff_all['DESCR'])"
   ]
  },
  {
   "cell_type": "markdown",
   "id": "25f60bc6-691f-4e41-9c73-e4b9742dc2e4",
   "metadata": {},
   "source": [
    "### Slice the daily benchmark factors, convert them to decimal returns, and assign to `ff`"
   ]
  },
  {
   "cell_type": "code",
   "execution_count": 9,
   "id": "3ec97950-2b2e-4ea6-921a-21a30040550f",
   "metadata": {},
   "outputs": [
    {
     "data": {
      "text/html": [
       "<div>\n",
       "<style scoped>\n",
       "    .dataframe tbody tr th:only-of-type {\n",
       "        vertical-align: middle;\n",
       "    }\n",
       "\n",
       "    .dataframe tbody tr th {\n",
       "        vertical-align: top;\n",
       "    }\n",
       "\n",
       "    .dataframe thead th {\n",
       "        text-align: right;\n",
       "    }\n",
       "</style>\n",
       "<table border=\"1\" class=\"dataframe\">\n",
       "  <thead>\n",
       "    <tr style=\"text-align: right;\">\n",
       "      <th></th>\n",
       "      <th>Mkt-RF</th>\n",
       "      <th>SMB</th>\n",
       "      <th>HML</th>\n",
       "      <th>RF</th>\n",
       "    </tr>\n",
       "    <tr>\n",
       "      <th>Date</th>\n",
       "      <th></th>\n",
       "      <th></th>\n",
       "      <th></th>\n",
       "      <th></th>\n",
       "    </tr>\n",
       "  </thead>\n",
       "  <tbody>\n",
       "    <tr>\n",
       "      <th>1926-07-01</th>\n",
       "      <td>0.0010</td>\n",
       "      <td>-0.0025</td>\n",
       "      <td>-0.0027</td>\n",
       "      <td>0.0001</td>\n",
       "    </tr>\n",
       "    <tr>\n",
       "      <th>1926-07-02</th>\n",
       "      <td>0.0045</td>\n",
       "      <td>-0.0033</td>\n",
       "      <td>-0.0006</td>\n",
       "      <td>0.0001</td>\n",
       "    </tr>\n",
       "    <tr>\n",
       "      <th>1926-07-06</th>\n",
       "      <td>0.0017</td>\n",
       "      <td>0.0030</td>\n",
       "      <td>-0.0039</td>\n",
       "      <td>0.0001</td>\n",
       "    </tr>\n",
       "    <tr>\n",
       "      <th>1926-07-07</th>\n",
       "      <td>0.0009</td>\n",
       "      <td>-0.0058</td>\n",
       "      <td>0.0002</td>\n",
       "      <td>0.0001</td>\n",
       "    </tr>\n",
       "    <tr>\n",
       "      <th>1926-07-08</th>\n",
       "      <td>0.0021</td>\n",
       "      <td>-0.0038</td>\n",
       "      <td>0.0019</td>\n",
       "      <td>0.0001</td>\n",
       "    </tr>\n",
       "    <tr>\n",
       "      <th>...</th>\n",
       "      <td>...</td>\n",
       "      <td>...</td>\n",
       "      <td>...</td>\n",
       "      <td>...</td>\n",
       "    </tr>\n",
       "    <tr>\n",
       "      <th>2023-12-22</th>\n",
       "      <td>0.0021</td>\n",
       "      <td>0.0064</td>\n",
       "      <td>0.0009</td>\n",
       "      <td>0.0002</td>\n",
       "    </tr>\n",
       "    <tr>\n",
       "      <th>2023-12-26</th>\n",
       "      <td>0.0048</td>\n",
       "      <td>0.0069</td>\n",
       "      <td>0.0046</td>\n",
       "      <td>0.0002</td>\n",
       "    </tr>\n",
       "    <tr>\n",
       "      <th>2023-12-27</th>\n",
       "      <td>0.0016</td>\n",
       "      <td>0.0014</td>\n",
       "      <td>0.0012</td>\n",
       "      <td>0.0002</td>\n",
       "    </tr>\n",
       "    <tr>\n",
       "      <th>2023-12-28</th>\n",
       "      <td>-0.0001</td>\n",
       "      <td>-0.0036</td>\n",
       "      <td>0.0003</td>\n",
       "      <td>0.0002</td>\n",
       "    </tr>\n",
       "    <tr>\n",
       "      <th>2023-12-29</th>\n",
       "      <td>-0.0043</td>\n",
       "      <td>-0.0112</td>\n",
       "      <td>-0.0037</td>\n",
       "      <td>0.0002</td>\n",
       "    </tr>\n",
       "  </tbody>\n",
       "</table>\n",
       "<p>25649 rows × 4 columns</p>\n",
       "</div>"
      ],
      "text/plain": [
       "            Mkt-RF     SMB     HML     RF\n",
       "Date                                     \n",
       "1926-07-01  0.0010 -0.0025 -0.0027 0.0001\n",
       "1926-07-02  0.0045 -0.0033 -0.0006 0.0001\n",
       "1926-07-06  0.0017  0.0030 -0.0039 0.0001\n",
       "1926-07-07  0.0009 -0.0058  0.0002 0.0001\n",
       "1926-07-08  0.0021 -0.0038  0.0019 0.0001\n",
       "...            ...     ...     ...    ...\n",
       "2023-12-22  0.0021  0.0064  0.0009 0.0002\n",
       "2023-12-26  0.0048  0.0069  0.0046 0.0002\n",
       "2023-12-27  0.0016  0.0014  0.0012 0.0002\n",
       "2023-12-28 -0.0001 -0.0036  0.0003 0.0002\n",
       "2023-12-29 -0.0043 -0.0112 -0.0037 0.0002\n",
       "\n",
       "[25649 rows x 4 columns]"
      ]
     },
     "execution_count": 9,
     "metadata": {},
     "output_type": "execute_result"
    }
   ],
   "source": [
    "ff = ff_all[0].div(100)\n",
    "\n",
    "ff"
   ]
  },
  {
   "cell_type": "markdown",
   "id": "29542561-6abf-4b89-aafc-c26592d6ca3d",
   "metadata": {},
   "source": [
    "### Use the `.cumprod()` method to plot cumulative returns for these stocks in the 2020s"
   ]
  },
  {
   "cell_type": "markdown",
   "id": "b5c642e0-aec4-44a4-84f2-55f26fa46d27",
   "metadata": {},
   "source": [
    "We use the `.prod()` method to calculate *total* returns, because $r_{total} = r_{0,T} = \\left[ \\prod_{t=0}^T (1 + r_t) \\right] -1$."
   ]
  },
  {
   "cell_type": "code",
   "execution_count": 10,
   "id": "75b99c7c-6623-44bf-a622-d16f1ee866e9",
   "metadata": {},
   "outputs": [
    {
     "data": {
      "text/plain": [
       "AAPL   1.6241\n",
       "AMZN   0.8433\n",
       "F      0.4535\n",
       "META   1.2383\n",
       "TSLA   5.4922\n",
       "dtype: float64"
      ]
     },
     "execution_count": 10,
     "metadata": {},
     "output_type": "execute_result"
    }
   ],
   "source": [
    "(\n",
    "    returns_2020s # returns during the 2020s\n",
    "    .add(1) # add 1 before we compound\n",
    "    .prod() # compound all returns\n",
    "    .sub(1) # subtract 1 to recover total returns\n",
    ")"
   ]
  },
  {
   "cell_type": "code",
   "execution_count": 11,
   "id": "afa1b547-f0ab-4bdf-a733-754bf5b0c576",
   "metadata": {},
   "outputs": [
    {
     "data": {
      "text/plain": [
       "<Axes: xlabel='Date'>"
      ]
     },
     "execution_count": 11,
     "metadata": {},
     "output_type": "execute_result"
    },
    {
     "data": {
      "image/png": "[encoded data removed]",
      "text/plain": [
       "<Figure size 640x480 with 1 Axes>"
      ]
     },
     "metadata": {
      "image/png": {
       "height": 416,
       "width": 560
      }
     },
     "output_type": "display_data"
    }
   ],
   "source": [
    "returns_2020s.add(1).cumprod().sub(1).mul(100).plot()"
   ]
  },
  {
   "cell_type": "markdown",
   "id": "c7d0b2cf-ff8f-4e78-abf8-f6edfaec58a2",
   "metadata": {},
   "source": [
    "### Use the `.cumsum()` method with log returns to plot cumulative returns for these stocks in the 2020s"
   ]
  },
  {
   "cell_type": "code",
   "execution_count": 12,
   "id": "94b6b796-1382-4445-9d44-06ea90518b3b",
   "metadata": {},
   "outputs": [
    {
     "data": {
      "text/plain": [
       "AAPL   1.6241\n",
       "AMZN   0.8433\n",
       "F      0.4535\n",
       "META   1.2383\n",
       "TSLA   5.4922\n",
       "dtype: float64"
      ]
     },
     "execution_count": 12,
     "metadata": {},
     "output_type": "execute_result"
    }
   ],
   "source": [
    "returns_2020s.add(1).prod().sub(1)"
   ]
  },
  {
   "cell_type": "code",
   "execution_count": 13,
   "id": "a8b0d8c1-25f8-41c0-8cd0-89766efea817",
   "metadata": {},
   "outputs": [
    {
     "data": {
      "text/plain": [
       "AAPL   1.6241\n",
       "AMZN   0.8433\n",
       "F      0.4535\n",
       "META   1.2383\n",
       "TSLA   5.4922\n",
       "dtype: float64"
      ]
     },
     "execution_count": 13,
     "metadata": {},
     "output_type": "execute_result"
    }
   ],
   "source": [
    "np.exp(np.log(1 + returns_2020s).sum()) - 1"
   ]
  },
  {
   "cell_type": "code",
   "execution_count": 14,
   "id": "8111dcec-1a27-45d1-b149-45f6dc62f63e",
   "metadata": {},
   "outputs": [
    {
     "data": {
      "text/plain": [
       "AAPL   1.6241\n",
       "AMZN   0.8433\n",
       "F      0.4535\n",
       "META   1.2383\n",
       "TSLA   5.4922\n",
       "dtype: float64"
      ]
     },
     "execution_count": 14,
     "metadata": {},
     "output_type": "execute_result"
    }
   ],
   "source": [
    "returns_2020s.pipe(np.log1p).sum().pipe(np.expm1)"
   ]
  },
  {
   "cell_type": "markdown",
   "id": "a6dd3d3d-29b6-4124-a1d6-cf0de0f90cf4",
   "metadata": {},
   "source": [
    "### Use price data only to plot cumulative returns for these stocks in the 2020s"
   ]
  },
  {
   "cell_type": "markdown",
   "id": "54d643d2-cd9d-47a7-aa30-3bf41fa2ce1c",
   "metadata": {},
   "source": [
    "### Calculate the Sharpe Ratio for TSLA"
   ]
  },
  {
   "cell_type": "markdown",
   "id": "58a0fb8d-581e-4a86-88dc-4cf85a47673b",
   "metadata": {},
   "source": [
    "Calculate the Sharpe Ratio with all available returns and 2020s returns.\n",
    "Recall the Sharpe Ratio is $\\frac{\\overline{R_i - R_f}}{\\sigma_i}$, where $\\sigma_i$ is the volatility of *excess* returns.\n",
    "\n",
    "***I suggest you write a function named `calc_sharpe()` to use for the rest of this notebook.***"
   ]
  },
  {
   "cell_type": "markdown",
   "id": "9f6dbfeb-12f2-46fe-8962-9d5444674cf2",
   "metadata": {},
   "source": [
    "### Calculate the market beta for TSLA"
   ]
  },
  {
   "cell_type": "markdown",
   "id": "d86beeff-4202-446a-8c00-e750e66664b3",
   "metadata": {},
   "source": [
    "Calculate the market beta with all available returns and 2020s returns.\n",
    "Recall we estimate market beta with the ordinary least squares (OLS) regression $R_i-R_f = \\alpha + \\beta (R_m-R_f) + \\epsilon$.\n",
    "We can estimate market beta with the covariance formula above for a univariate regression if we do not need goodness of fit statistics.\n",
    "\n",
    "***I suggest you write a function named `calc_beta()` to use for the rest of this notebook.***"
   ]
  },
  {
   "cell_type": "markdown",
   "id": "83aecabd-59bc-41ff-af01-81feb8f33802",
   "metadata": {},
   "source": [
    "### Guess the Sharpe Ratios for these stocks in the 2020s"
   ]
  },
  {
   "cell_type": "markdown",
   "id": "34ce27f7-34ed-46d2-aed7-e1531ba80ffa",
   "metadata": {},
   "source": [
    "### Guess the market betas for these stocks in the 2020s"
   ]
  },
  {
   "cell_type": "markdown",
   "id": "00dc69f0-6dcc-437f-b1a7-6d28fa97731d",
   "metadata": {},
   "source": [
    "### Calculate the Sharpe Ratios for these stocks in the 2020s"
   ]
  },
  {
   "cell_type": "markdown",
   "id": "60a1e249-9a29-46a5-8d80-71fb3336acd9",
   "metadata": {},
   "source": [
    "How good were your guesses?"
   ]
  },
  {
   "cell_type": "markdown",
   "id": "f0a7fda8-9552-4fd5-9ec2-a703b7d102c4",
   "metadata": {
    "tags": []
   },
   "source": [
    "### Calculate the market betas for these stocks in the 2020s"
   ]
  },
  {
   "cell_type": "markdown",
   "id": "830b8273-937f-421e-9400-6deb205060d7",
   "metadata": {},
   "source": [
    "How good were your guesses?"
   ]
  },
  {
   "cell_type": "markdown",
   "id": "48e97923-27c6-4591-b162-4e8cf9d62d6f",
   "metadata": {
    "tags": []
   },
   "source": [
    "### Calculate the Sharpe Ratio for an *equally weighted* portfolio of these stocks in the 2020s"
   ]
  },
  {
   "cell_type": "markdown",
   "id": "c7321b30-75f9-45a9-a9b0-3f2d41cc0620",
   "metadata": {},
   "source": [
    "What do you notice?"
   ]
  },
  {
   "cell_type": "markdown",
   "id": "6de3388d-71cc-48ec-9419-95ef5a24c462",
   "metadata": {
    "tags": []
   },
   "source": [
    "### Calculate the market beta for an *equally weighted* portfolio of these stocks in the 2020s"
   ]
  },
  {
   "cell_type": "markdown",
   "id": "e31d8c74-0355-4e10-84a8-650a106292a8",
   "metadata": {},
   "source": [
    "What do you notice?"
   ]
  },
  {
   "cell_type": "markdown",
   "id": "124c691a-a9f2-4af2-9562-06905539e6dc",
   "metadata": {},
   "source": [
    "### Calculate the market betas for these stocks every calendar year for every possible year"
   ]
  },
  {
   "cell_type": "markdown",
   "id": "2fb1f0bd-7813-4527-995f-4d68a7797af2",
   "metadata": {},
   "source": [
    "Save these market betas to data frame `betas`.\n",
    "Our current Python knowledge limits us to a for-loop, but we will learn easier and faster approaches soon!"
   ]
  },
  {
   "cell_type": "markdown",
   "id": "6e049c7f-3326-4695-afa1-c67bf56336ca",
   "metadata": {},
   "source": [
    "### Plot the time series of market betas"
   ]
  }
 ],
 "metadata": {
  "author": "Richard Herron",
  "kernelspec": {
   "display_name": "Python 3 (ipykernel)",
   "language": "python",
   "name": "python3"
  },
  "language_info": {
   "codemirror_mode": {
    "name": "ipython",
    "version": 3
   },
   "file_extension": ".py",
   "mimetype": "text/x-python",
   "name": "python",
   "nbconvert_exporter": "python",
   "pygments_lexer": "ipython3",
   "version": "3.12.1"
  },
  "title": "McKinney Chapter 5 - Practice"
 },
 "nbformat": 4,
 "nbformat_minor": 5
}
