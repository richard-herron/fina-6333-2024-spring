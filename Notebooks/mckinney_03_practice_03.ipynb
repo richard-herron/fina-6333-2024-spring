{
 "cells": [
  {
   "cell_type": "markdown",
   "id": "e1ac131b-4292-4bd1-860b-de2f34443775",
   "metadata": {},
   "source": [
    "# McKinney Chapter 3 - Practice for Section 03"
   ]
  },
  {
   "cell_type": "markdown",
   "id": "5d06de96-4d5c-473a-9f39-7dabdf1cdc37",
   "metadata": {},
   "source": [
    "## Announcements"
   ]
  },
  {
   "cell_type": "markdown",
   "id": "822e0269-d137-49d0-b5b9-691ec37df20f",
   "metadata": {},
   "source": [
    "1. Due Friday, 1/19, at 11:59 PM:\n",
    "    1. Complete *Introduction to Python* course on DataCamp (and upload certificate to Canvas)\n",
    "    2. Acknowledge academic integrity statement on Canvas\n",
    "2. I will record and post the next lecture video on Thursday, 1/18, and the associate pre-class quiz is due before class on Tuesday, 1/23\n",
    "3. Start joining groups on Canvas (Canvas > People > Team Projects); I removed joining groups as a scored assignment, but please prioritize joining groups"
   ]
  },
  {
   "cell_type": "markdown",
   "id": "c7cea9bb-7877-4f35-b78f-607d3a0aaf8c",
   "metadata": {},
   "source": [
    "## 10-minute Recap"
   ]
  },
  {
   "cell_type": "markdown",
   "id": "39954bab-f150-434b-9dda-492ba5ac4a91",
   "metadata": {},
   "source": [
    "### List"
   ]
  },
  {
   "cell_type": "markdown",
   "id": "b3fb0ea1-a2f9-42c5-a667-9e412096ae8c",
   "metadata": {},
   "source": [
    "A list is a collection of items that are ordered and changeable.\n",
    "You can add, remove, or modify elements in a list.\n",
    "In Python, you can create an empty list using either `[]` or `list()`."
   ]
  },
  {
   "cell_type": "code",
   "execution_count": 1,
   "id": "25e76b7e-7088-462d-a166-fe9c2924e729",
   "metadata": {},
   "outputs": [],
   "source": [
    "my_list = [1, 2, 3, [1, 2, 3, [1, 2, 3]]]"
   ]
  },
  {
   "cell_type": "markdown",
   "id": "72adaf71-387a-4532-9d91-fb18f6798c95",
   "metadata": {},
   "source": [
    "***Python is zero-indexed!***"
   ]
  },
  {
   "cell_type": "code",
   "execution_count": 2,
   "id": "68d8abbf-8898-4bb3-8f42-4952d92e7c46",
   "metadata": {},
   "outputs": [
    {
     "data": {
      "text/plain": [
       "2"
      ]
     },
     "execution_count": 2,
     "metadata": {},
     "output_type": "execute_result"
    }
   ],
   "source": [
    "my_list[1]"
   ]
  },
  {
   "cell_type": "code",
   "execution_count": 3,
   "id": "e1f10178-e032-4a85-90d1-10a290182645",
   "metadata": {},
   "outputs": [
    {
     "data": {
      "text/plain": [
       "[1]"
      ]
     },
     "execution_count": 3,
     "metadata": {},
     "output_type": "execute_result"
    }
   ],
   "source": [
    "my_list[:1]"
   ]
  },
  {
   "cell_type": "code",
   "execution_count": 4,
   "id": "2dffe38b-7397-472b-9bdc-6f647912aeed",
   "metadata": {},
   "outputs": [
    {
     "data": {
      "text/plain": [
       "3"
      ]
     },
     "execution_count": 4,
     "metadata": {},
     "output_type": "execute_result"
    }
   ],
   "source": [
    "my_list[-1][-1][-1]"
   ]
  },
  {
   "cell_type": "code",
   "execution_count": 5,
   "id": "87c80fcd-61d7-46a2-afd0-6670c082ec61",
   "metadata": {},
   "outputs": [
    {
     "data": {
      "text/plain": [
       "[1, 2, 3, [1, 2, 3, [1, 2, 'McKinney']]]"
      ]
     },
     "execution_count": 5,
     "metadata": {},
     "output_type": "execute_result"
    }
   ],
   "source": [
    "my_list[-1][-1][-1] = 'McKinney'\n",
    "\n",
    "my_list"
   ]
  },
  {
   "cell_type": "markdown",
   "id": "bc44f6cc-95e1-4e74-9248-53c33480c37b",
   "metadata": {},
   "source": [
    "### Tuple"
   ]
  },
  {
   "cell_type": "markdown",
   "id": "79f55dfe-de69-4bf5-b0de-233de3166191",
   "metadata": {},
   "source": [
    "A tuple is similar to a list, but it is immutable, meaning that you cannot change its contents once it has been created.\n",
    "You can create a tuple using parentheses `()` or the `tuple()` function."
   ]
  },
  {
   "cell_type": "code",
   "execution_count": 6,
   "id": "fd19fe03-148d-4129-9f27-c12a74e3e444",
   "metadata": {},
   "outputs": [
    {
     "data": {
      "text/plain": [
       "(1, 2, 3, (1, 2, 3, (1, 2, 3)))"
      ]
     },
     "execution_count": 6,
     "metadata": {},
     "output_type": "execute_result"
    }
   ],
   "source": [
    "my_tuple = (1, 2, 3, (1, 2, 3, (1, 2, 3)))\n",
    "\n",
    "my_tuple"
   ]
  },
  {
   "cell_type": "markdown",
   "id": "c13abe7b-5d29-4eee-abed-361a8db09906",
   "metadata": {},
   "source": [
    "Unlike lists, tuples are immutable and cannot be changed!"
   ]
  },
  {
   "cell_type": "code",
   "execution_count": 7,
   "id": "ccfa7b30-aeb1-435a-b523-d7bdb955d1e3",
   "metadata": {},
   "outputs": [],
   "source": [
    "# my_tuple[-1][-1][-1] = 'McKinney'\n",
    "\n",
    "# ---------------------------------------------------------------------------\n",
    "# TypeError                                 Traceback (most recent call last)\n",
    "# Cell In[15], line 1\n",
    "# ----> 1 my_tuple[-1][-1][-1] = 'McKinney'\n",
    "\n",
    "# TypeError: 'tuple' object does not support item assignment"
   ]
  },
  {
   "cell_type": "markdown",
   "id": "f3842d7d-36d0-42fe-9f63-6b1fd4b4c8f1",
   "metadata": {},
   "source": [
    "The following result is surprising!\n",
    "Tuples are immutable, but a list nested inside a tuple is mutable!"
   ]
  },
  {
   "cell_type": "code",
   "execution_count": 8,
   "id": "a9b6e9fe-ccf2-49b6-b82b-6e453eb26b7c",
   "metadata": {},
   "outputs": [],
   "source": [
    "my_tuple_2 = (1, 2, 3, (1, 2, 3, [1, 2, 3]))"
   ]
  },
  {
   "cell_type": "code",
   "execution_count": 9,
   "id": "3b09b79f-2f32-4a8e-97c1-5068e0cf7316",
   "metadata": {},
   "outputs": [
    {
     "data": {
      "text/plain": [
       "(1, 2, 3, (1, 2, 3, [1, 2, 'McKinney']))"
      ]
     },
     "execution_count": 9,
     "metadata": {},
     "output_type": "execute_result"
    }
   ],
   "source": [
    "my_tuple_2[-1][-1][-1] = 'McKinney'\n",
    "\n",
    "my_tuple_2"
   ]
  },
  {
   "cell_type": "markdown",
   "id": "6fc01d46-03d3-4c7b-a692-0feb48ac8ada",
   "metadata": {},
   "source": [
    "### Dictionary"
   ]
  },
  {
   "cell_type": "markdown",
   "id": "9d8a7145-352f-4e7c-bb9d-44ec5d162965",
   "metadata": {},
   "source": [
    "A dictionary is a collection of key-value pairs that are unordered and changeable.\n",
    "You can add, remove, or modify elements in a dictionary.\n",
    "In Python, you can create an empty dictionary using either `{}` or the `dict()` function. "
   ]
  },
  {
   "cell_type": "code",
   "execution_count": 10,
   "id": "7c2ac13b-5765-402c-bbd7-860152a66f45",
   "metadata": {},
   "outputs": [],
   "source": [
    "stock_prices = [100, 200, 300] # AAPL, MSFT, TSLA"
   ]
  },
  {
   "cell_type": "markdown",
   "id": "4c9f3373-1818-4e80-be3e-e30df8a1cbbd",
   "metadata": {},
   "source": [
    "Dictionaries let us index a value by its key!"
   ]
  },
  {
   "cell_type": "code",
   "execution_count": 11,
   "id": "5ba40c01-0386-47a3-827f-5317e4bdb71e",
   "metadata": {},
   "outputs": [
    {
     "data": {
      "text/plain": [
       "100"
      ]
     },
     "execution_count": 11,
     "metadata": {},
     "output_type": "execute_result"
    }
   ],
   "source": [
    "stock_prices = {'AAPL': 100, 'MSFT': 200, 'TSLA': 300}\n",
    "\n",
    "stock_prices['AAPL']"
   ]
  },
  {
   "cell_type": "markdown",
   "id": "81548253-aad2-4dda-9036-5cb592bbdfd7",
   "metadata": {},
   "source": [
    "### List Comprehension"
   ]
  },
  {
   "cell_type": "markdown",
   "id": "15680289-0b63-4e8d-9e86-a673d48f4a09",
   "metadata": {},
   "source": [
    "A list comprehension is a concise way of creating a new list by iterating over an existing list or other iterable object.\n",
    "It is more time and space-efficient than traditional for loops and offers a cleaner syntax.\n",
    "The basic syntax of a list comprehension is `new_list = [expression for item in iterable if condition]` where: \n",
    "\n",
    "1. `expression` is the operation to be performed on each element of the iterable\n",
    "1. `item` is the current element being processed\n",
    "1. `iterable` is the list or other iterable object being iterated over\n",
    "1. `condition` is an optional filter that only accepts items that evaluate to True.\n",
    "    \n",
    "For example, we can use the following list comprehension to create a new list of even numbers from 0 to 8: `even_numbers = [x for x in range(9) if x % 2 == 0]`\n",
    "\n",
    "List comprehensions are a powerful tool in Python that can help you write more efficient and readable code (i.e., more Pythonic code)."
   ]
  },
  {
   "cell_type": "code",
   "execution_count": 12,
   "id": "c6e714e1-79ef-418b-a5c7-e3b1ac80ddf6",
   "metadata": {},
   "outputs": [
    {
     "data": {
      "text/plain": [
       "[0, 2, 4, 6, 8]"
      ]
     },
     "execution_count": 12,
     "metadata": {},
     "output_type": "execute_result"
    }
   ],
   "source": [
    "even_numbers = []\n",
    "for i in range(9):\n",
    "    if i%2 == 0:\n",
    "        even_numbers.append(i)\n",
    "\n",
    "even_numbers"
   ]
  },
  {
   "cell_type": "markdown",
   "id": "8813e2ce-efda-4b3a-86d4-f0f57f839bb5",
   "metadata": {},
   "source": [
    "The list comprehension version of the code above is:"
   ]
  },
  {
   "cell_type": "code",
   "execution_count": 13,
   "id": "4135c77c-7803-4583-80cc-a6f0170f0617",
   "metadata": {},
   "outputs": [
    {
     "data": {
      "text/plain": [
       "[0, 2, 4, 6, 8]"
      ]
     },
     "execution_count": 13,
     "metadata": {},
     "output_type": "execute_result"
    }
   ],
   "source": [
    "[i for i in range(9) if i%2 == 0]"
   ]
  },
  {
   "cell_type": "markdown",
   "id": "46874429-a0e5-4629-847d-2927e91aac1e",
   "metadata": {},
   "source": [
    "List comprehensions are \"very Pythonic\" (the code style that other Python programmers expect)."
   ]
  },
  {
   "cell_type": "markdown",
   "id": "35ee69aa-e5b3-4f9b-8891-de06cf8a2a06",
   "metadata": {},
   "source": [
    "## Practice"
   ]
  },
  {
   "cell_type": "markdown",
   "id": "280ff089-3829-41e3-b0e3-7ef0a99b1616",
   "metadata": {},
   "source": [
    "### Swap the values assigned to `a` and `b` using a third variable `c`."
   ]
  },
  {
   "cell_type": "code",
   "execution_count": 14,
   "id": "9f5f9bb5-9ae5-46fb-89d5-8fd0e2233f84",
   "metadata": {
    "tags": []
   },
   "outputs": [],
   "source": [
    "a = 1"
   ]
  },
  {
   "cell_type": "code",
   "execution_count": 15,
   "id": "24bde31f-b7be-4228-bdff-5a46ed76a896",
   "metadata": {},
   "outputs": [],
   "source": [
    "b = 2"
   ]
  },
  {
   "cell_type": "code",
   "execution_count": 16,
   "id": "7c2e3d10-c99c-4481-9a5e-a3cdbfc6dbe5",
   "metadata": {},
   "outputs": [],
   "source": [
    "c = a"
   ]
  },
  {
   "cell_type": "code",
   "execution_count": 17,
   "id": "02bfcb4f-fa52-4571-aef3-bdfa94762a6e",
   "metadata": {},
   "outputs": [],
   "source": [
    "a = b"
   ]
  },
  {
   "cell_type": "code",
   "execution_count": 18,
   "id": "fea4a7e4-a0b0-4fba-b8ed-e368cb7ff2a8",
   "metadata": {},
   "outputs": [],
   "source": [
    "b = c"
   ]
  },
  {
   "cell_type": "code",
   "execution_count": 19,
   "id": "1785a50b-87a0-42a9-8d77-ee8109d2d84e",
   "metadata": {},
   "outputs": [],
   "source": [
    "del c"
   ]
  },
  {
   "cell_type": "code",
   "execution_count": 20,
   "id": "c7963bd4-a980-4c5f-b8d4-c6a5a8be6ac9",
   "metadata": {},
   "outputs": [
    {
     "name": "stdout",
     "output_type": "stream",
     "text": [
      "a is 2, b is 1\n"
     ]
    }
   ],
   "source": [
    "print(f'a is {a}, b is {b}')"
   ]
  },
  {
   "cell_type": "markdown",
   "id": "04886f77-e0ae-4ab0-9263-2f0c36b8b4df",
   "metadata": {},
   "source": [
    "### Swap the values assigned to `a` and `b` ***without*** using a third variable `c`."
   ]
  },
  {
   "cell_type": "code",
   "execution_count": 21,
   "id": "2be3db05-1fd9-4d28-aab0-70c895358d87",
   "metadata": {},
   "outputs": [],
   "source": [
    "a = 1"
   ]
  },
  {
   "cell_type": "code",
   "execution_count": 22,
   "id": "4a10ac2d-1b0d-4e50-a6a2-0cbdc49d612a",
   "metadata": {},
   "outputs": [],
   "source": [
    "b = 2"
   ]
  },
  {
   "cell_type": "code",
   "execution_count": 23,
   "id": "9ecc781a-5002-4f1d-9d35-68a3c8eb6f44",
   "metadata": {},
   "outputs": [],
   "source": [
    "b, a = a, b"
   ]
  },
  {
   "cell_type": "code",
   "execution_count": 24,
   "id": "92c126c2-c24d-41d6-938b-efa57011895a",
   "metadata": {},
   "outputs": [
    {
     "name": "stdout",
     "output_type": "stream",
     "text": [
      "a is 2, b is 1\n"
     ]
    }
   ],
   "source": [
    "print(f'a is {a}, b is {b}')"
   ]
  },
  {
   "cell_type": "markdown",
   "id": "2403bee3-4272-4054-bc61-a26aee67e9f5",
   "metadata": {},
   "source": [
    "The code above uses \"f strings\"!\n",
    "Here is the non-f-string equivalent:"
   ]
  },
  {
   "cell_type": "code",
   "execution_count": 25,
   "id": "65fe4b88-2a06-411f-a2e3-0388e5c5c6bd",
   "metadata": {},
   "outputs": [
    {
     "name": "stdout",
     "output_type": "stream",
     "text": [
      "a is 2, b is 1\n"
     ]
    }
   ],
   "source": [
    "print('a is ' + str(a) + ', b is ' + str(b))"
   ]
  },
  {
   "cell_type": "markdown",
   "id": "090450f0-6545-496e-8a5f-6e5fa6e35b80",
   "metadata": {},
   "source": [
    "### What is the output of the following code and why?"
   ]
  },
  {
   "cell_type": "markdown",
   "id": "8f0e6fd3-35f7-464f-b75e-b537b8ff56c2",
   "metadata": {},
   "source": [
    "The parentheses `()` around tuples are optional to create tuples, but avoid ambiguity!"
   ]
  },
  {
   "cell_type": "code",
   "execution_count": 26,
   "id": "eb8bd3e2-c0b7-4d84-a7a8-9c0f9d2f2a31",
   "metadata": {},
   "outputs": [
    {
     "data": {
      "text/plain": [
       "tuple"
      ]
     },
     "execution_count": 26,
     "metadata": {},
     "output_type": "execute_result"
    }
   ],
   "source": [
    "_ = 1, 1, 1\n",
    "type(_)"
   ]
  },
  {
   "cell_type": "code",
   "execution_count": 27,
   "id": "e95000aa-e898-4d2d-9a61-7fa5ae7e4fce",
   "metadata": {},
   "outputs": [
    {
     "data": {
      "text/plain": [
       "(1, 1, False)"
      ]
     },
     "execution_count": 27,
     "metadata": {},
     "output_type": "execute_result"
    }
   ],
   "source": [
    "1, 1, 1 == (1, 1, 1)"
   ]
  },
  {
   "cell_type": "code",
   "execution_count": 28,
   "id": "8c759b0f-44cf-417c-a03a-b7cb9afc956b",
   "metadata": {},
   "outputs": [
    {
     "data": {
      "text/plain": [
       "(False, 1, 1)"
      ]
     },
     "execution_count": 28,
     "metadata": {},
     "output_type": "execute_result"
    }
   ],
   "source": [
    "(1, 1, 1) == 1, 1, 1"
   ]
  },
  {
   "cell_type": "markdown",
   "id": "0c0ceb04-1c39-4b1d-a0a0-04655d737fee",
   "metadata": {},
   "source": [
    "If we want to remove ambiguity, we should add parentheses `()` to both sides."
   ]
  },
  {
   "cell_type": "code",
   "execution_count": 29,
   "id": "fd7a50d2-206c-410a-b4c5-fb7737f6ef2f",
   "metadata": {},
   "outputs": [
    {
     "data": {
      "text/plain": [
       "True"
      ]
     },
     "execution_count": 29,
     "metadata": {},
     "output_type": "execute_result"
    }
   ],
   "source": [
    "(1, 1, 1) == (1, 1, 1)"
   ]
  },
  {
   "cell_type": "markdown",
   "id": "14746ac1-7e63-4673-a0ee-7eefc66838e1",
   "metadata": {},
   "source": [
    "### Create a list `l1` of integers from 1 to 100."
   ]
  },
  {
   "cell_type": "markdown",
   "id": "2e574176-f044-4e51-bae4-fa3bf882c9fe",
   "metadata": {},
   "source": [
    "Jupyter prints the last line of code in a code cell automatically.\n",
    "In the next cell, I wrap `l1` with `print()` so the list contents wrap around."
   ]
  },
  {
   "cell_type": "code",
   "execution_count": 30,
   "id": "9d92d102-3956-41b8-91ab-c88a592927fd",
   "metadata": {},
   "outputs": [
    {
     "name": "stdout",
     "output_type": "stream",
     "text": [
      "[1, 2, 3, 4, 5, 6, 7, 8, 9, 10, 11, 12, 13, 14, 15, 16, 17, 18, 19, 20, 21, 22, 23, 24, 25, 26, 27, 28, 29, 30, 31, 32, 33, 34, 35, 36, 37, 38, 39, 40, 41, 42, 43, 44, 45, 46, 47, 48, 49, 50, 51, 52, 53, 54, 55, 56, 57, 58, 59, 60, 61, 62, 63, 64, 65, 66, 67, 68, 69, 70, 71, 72, 73, 74, 75, 76, 77, 78, 79, 80, 81, 82, 83, 84, 85, 86, 87, 88, 89, 90, 91, 92, 93, 94, 95, 96, 97, 98, 99, 100]\n"
     ]
    }
   ],
   "source": [
    "l1 = list(range(1, 101))\n",
    "print(l1)"
   ]
  },
  {
   "cell_type": "markdown",
   "id": "8c8cc667-78cf-4628-921d-10c96888e48c",
   "metadata": {},
   "source": [
    "### Slice `l1` to create a list of integers from 60 to 50 (inclusive)."
   ]
  },
  {
   "cell_type": "markdown",
   "id": "b74678c6-73ad-4f87-a8b4-855e05e4c513",
   "metadata": {},
   "source": [
    "Name this list `l2`."
   ]
  },
  {
   "cell_type": "code",
   "execution_count": 31,
   "id": "785d49a6-19e2-414a-b530-0c58d4f37a8e",
   "metadata": {},
   "outputs": [
    {
     "data": {
      "text/plain": [
       "49"
      ]
     },
     "execution_count": 31,
     "metadata": {},
     "output_type": "execute_result"
    }
   ],
   "source": [
    "l1.index(50)"
   ]
  },
  {
   "cell_type": "markdown",
   "id": "054cdaf3-5860-4181-8b19-72f1f8e4d893",
   "metadata": {},
   "source": [
    "With zero-indexing, left edges are included and right edges are excluded.\n",
    "So, right - left is the number of elements in a sequence."
   ]
  },
  {
   "cell_type": "markdown",
   "id": "edd33a5a-1034-499b-8d70-6b9f83a4ef54",
   "metadata": {},
   "source": [
    "In the code below, the first `[]` slices 50 to 60, and the second `[::-1]` reverses."
   ]
  },
  {
   "cell_type": "code",
   "execution_count": 32,
   "id": "a2caf069-f31b-4ea5-a4bd-3a14c5c61fe4",
   "metadata": {},
   "outputs": [
    {
     "data": {
      "text/plain": [
       "[60, 59, 58, 57, 56, 55, 54, 53, 52, 51, 50]"
      ]
     },
     "execution_count": 32,
     "metadata": {},
     "output_type": "execute_result"
    }
   ],
   "source": [
    "l2 = l1[49:60][::-1]\n",
    "\n",
    "l2"
   ]
  },
  {
   "cell_type": "code",
   "execution_count": 33,
   "id": "e34709e2-c7e2-4418-877c-1e391d608e5d",
   "metadata": {},
   "outputs": [
    {
     "data": {
      "text/plain": [
       "[60, 59, 58, 57, 56, 55, 54, 53, 52, 51, 50]"
      ]
     },
     "execution_count": 33,
     "metadata": {},
     "output_type": "execute_result"
    }
   ],
   "source": [
    "l1[59:48:-1]"
   ]
  },
  {
   "cell_type": "markdown",
   "id": "230d0817-c32b-4448-9052-f2128240549e",
   "metadata": {},
   "source": [
    "### Create a list `l3` of odd integers from 1 to 21."
   ]
  },
  {
   "cell_type": "code",
   "execution_count": 34,
   "id": "628708a8-39ec-4b9d-b3ef-03fa959bf1b3",
   "metadata": {},
   "outputs": [
    {
     "data": {
      "text/plain": [
       "[1, 3, 5, 7, 9, 11, 13, 15, 17, 19, 21]"
      ]
     },
     "execution_count": 34,
     "metadata": {},
     "output_type": "execute_result"
    }
   ],
   "source": [
    "l3 = l1[0:21][::2]\n",
    "\n",
    "l3"
   ]
  },
  {
   "cell_type": "code",
   "execution_count": 35,
   "id": "da8498fa-e0a0-40c5-9051-36427567399c",
   "metadata": {},
   "outputs": [
    {
     "data": {
      "text/plain": [
       "[1, 3, 5, 7, 9, 11, 13, 15, 17, 19, 21]"
      ]
     },
     "execution_count": 35,
     "metadata": {},
     "output_type": "execute_result"
    }
   ],
   "source": [
    "l1[0:21:2]"
   ]
  },
  {
   "cell_type": "code",
   "execution_count": 36,
   "id": "1094e817-4cf6-4a34-ad46-9931f8837be5",
   "metadata": {},
   "outputs": [
    {
     "data": {
      "text/plain": [
       "[1, 3, 5, 7, 9, 11, 13, 15, 17, 19, 21]"
      ]
     },
     "execution_count": 36,
     "metadata": {},
     "output_type": "execute_result"
    }
   ],
   "source": [
    "list(range(1, 22, 2))"
   ]
  },
  {
   "cell_type": "code",
   "execution_count": 37,
   "id": "2e8898bd-5128-4975-9a4a-733046ad2290",
   "metadata": {},
   "outputs": [
    {
     "data": {
      "text/plain": [
       "[1, 3, 5, 7, 9, 11, 13, 15, 17, 19, 21]"
      ]
     },
     "execution_count": 37,
     "metadata": {},
     "output_type": "execute_result"
    }
   ],
   "source": [
    "[i for i in range(22) if i%2 != 0]"
   ]
  },
  {
   "cell_type": "markdown",
   "id": "f23fc974-b45a-4642-8c36-fb7431ca09b1",
   "metadata": {},
   "source": [
    "What is the advantage of the list comprehension?\n",
    "There is no advantage in this example, but the list comprehension lets us specify several conditions and variable step sizes."
   ]
  },
  {
   "cell_type": "markdown",
   "id": "f1d41431-74bd-41c7-8e41-e14f7c4189fe",
   "metadata": {},
   "source": [
    "### Create a list `l4` of the squares of integers from 1 to 100."
   ]
  },
  {
   "cell_type": "code",
   "execution_count": 38,
   "id": "2935e1fa-e8ff-4fcb-a05c-a39c6a16b673",
   "metadata": {},
   "outputs": [
    {
     "name": "stdout",
     "output_type": "stream",
     "text": [
      "[1, 4, 9, 16, 25, 36, 49, 64, 81, 100, 121, 144, 169, 196, 225, 256, 289, 324, 361, 400, 441, 484, 529, 576, 625, 676, 729, 784, 841, 900, 961, 1024, 1089, 1156, 1225, 1296, 1369, 1444, 1521, 1600, 1681, 1764, 1849, 1936, 2025, 2116, 2209, 2304, 2401, 2500, 2601, 2704, 2809, 2916, 3025, 3136, 3249, 3364, 3481, 3600, 3721, 3844, 3969, 4096, 4225, 4356, 4489, 4624, 4761, 4900, 5041, 5184, 5329, 5476, 5625, 5776, 5929, 6084, 6241, 6400, 6561, 6724, 6889, 7056, 7225, 7396, 7569, 7744, 7921, 8100, 8281, 8464, 8649, 8836, 9025, 9216, 9409, 9604, 9801, 10000]\n"
     ]
    }
   ],
   "source": [
    "l4 = [i**2 for i in range(1, 101)]\n",
    "\n",
    "print(l4)"
   ]
  },
  {
   "cell_type": "markdown",
   "id": "d07ccc33-f6e6-4810-8dfc-5549efb30648",
   "metadata": {},
   "source": [
    "### Create a list `l5` that contains the squares of ***odd*** integers from 1 to 100."
   ]
  },
  {
   "cell_type": "code",
   "execution_count": 39,
   "id": "687da03f-e9a6-46b2-9c61-2731e01a52ae",
   "metadata": {},
   "outputs": [
    {
     "name": "stdout",
     "output_type": "stream",
     "text": [
      "[1, 9, 25, 49, 81, 121, 169, 225, 289, 361, 441, 529, 625, 729, 841, 961, 1089, 1225, 1369, 1521, 1681, 1849, 2025, 2209, 2401, 2601, 2809, 3025, 3249, 3481, 3721, 3969, 4225, 4489, 4761, 5041, 5329, 5625, 5929, 6241, 6561, 6889, 7225, 7569, 7921, 8281, 8649, 9025, 9409, 9801]\n"
     ]
    }
   ],
   "source": [
    "l5 = [i**2 for i in range(1, 101) if i%2 != 0]\n",
    "\n",
    "print(l5)"
   ]
  },
  {
   "cell_type": "markdown",
   "id": "c7ec67de-3972-42ce-873f-40a7aaa57442",
   "metadata": {},
   "source": [
    "### Use a lambda function to sort `strings` by the last letter."
   ]
  },
  {
   "cell_type": "code",
   "execution_count": 40,
   "id": "7faff1c8-e416-4175-bcf9-e26c014e9c78",
   "metadata": {},
   "outputs": [],
   "source": [
    "strings = ['card', 'aaaa', 'foo', 'bar', 'abab']"
   ]
  },
  {
   "cell_type": "markdown",
   "id": "24604522-9b2f-46c9-9ca7-0ea2c8f4f1ee",
   "metadata": {},
   "source": [
    "Almost all core Python methods modify the object in place.\n",
    "Here we use the `sorted()` function so we can see the output/results more easily."
   ]
  },
  {
   "cell_type": "code",
   "execution_count": 41,
   "id": "0d25cb36-12c6-450c-a3ad-da6c39cee5cd",
   "metadata": {},
   "outputs": [
    {
     "data": {
      "text/plain": [
       "['foo', 'bar', 'card', 'aaaa', 'abab']"
      ]
     },
     "execution_count": 41,
     "metadata": {},
     "output_type": "execute_result"
    }
   ],
   "source": [
    "sorted(strings, key=len)"
   ]
  },
  {
   "cell_type": "markdown",
   "id": "c9a84b72-3bad-46ea-b2fb-2398842c4779",
   "metadata": {},
   "source": [
    "How do we get the last letter in a string?"
   ]
  },
  {
   "cell_type": "code",
   "execution_count": 42,
   "id": "4630c95b-2e31-4cf0-9aaa-60087f95482f",
   "metadata": {},
   "outputs": [
    {
     "data": {
      "text/plain": [
       "'y'"
      ]
     },
     "execution_count": 42,
     "metadata": {},
     "output_type": "execute_result"
    }
   ],
   "source": [
    "'Friday'[-1]"
   ]
  },
  {
   "cell_type": "code",
   "execution_count": 43,
   "id": "80c4cd39-95c6-47c9-8a36-f3911735e3fa",
   "metadata": {},
   "outputs": [],
   "source": [
    "def get_last_letter(x):\n",
    "    return x[-1]"
   ]
  },
  {
   "cell_type": "code",
   "execution_count": 44,
   "id": "585647c8-2187-47a4-8d6d-99eeac7a9d73",
   "metadata": {},
   "outputs": [
    {
     "data": {
      "text/plain": [
       "'y'"
      ]
     },
     "execution_count": 44,
     "metadata": {},
     "output_type": "execute_result"
    }
   ],
   "source": [
    "get_last_letter('Friday')"
   ]
  },
  {
   "cell_type": "code",
   "execution_count": 45,
   "id": "1c418c1c-d3ed-4dd9-904d-baf52df991d1",
   "metadata": {},
   "outputs": [
    {
     "data": {
      "text/plain": [
       "['aaaa', 'abab', 'card', 'foo', 'bar']"
      ]
     },
     "execution_count": 45,
     "metadata": {},
     "output_type": "execute_result"
    }
   ],
   "source": [
    "sorted(strings, key=get_last_letter)"
   ]
  },
  {
   "cell_type": "markdown",
   "id": "4846ffef-239f-4552-84dd-abc7c7f267fe",
   "metadata": {},
   "source": [
    "We can get the same result without the hassle of writing the `get_last_letter()` function!\n",
    "Enter, anonymous (or lambda) functions!"
   ]
  },
  {
   "cell_type": "code",
   "execution_count": 46,
   "id": "971a7b1e-96a2-4558-9cdb-aae73be0e68e",
   "metadata": {},
   "outputs": [
    {
     "data": {
      "text/plain": [
       "['aaaa', 'abab', 'card', 'foo', 'bar']"
      ]
     },
     "execution_count": 46,
     "metadata": {},
     "output_type": "execute_result"
    }
   ],
   "source": [
    "sorted(strings, key=lambda x: x[-1])"
   ]
  },
  {
   "cell_type": "markdown",
   "id": "9fccf68c-3d80-4c20-a5ac-2c23841323bb",
   "metadata": {},
   "source": [
    "We can translate `lambda x: x[-1]` into the following:\n",
    "\n",
    "    def function_that_I_do_not_want_to_use_again(x):\n",
    "        return x[-1]"
   ]
  },
  {
   "cell_type": "markdown",
   "id": "c1243f61-c1db-4907-92af-d4145531b49e",
   "metadata": {},
   "source": [
    "### Given an integer array `nums` and an integer `k`, return the $k^{th}$ largest element in the array."
   ]
  },
  {
   "cell_type": "markdown",
   "id": "18a32df2-94dc-4b2c-8efa-c108d23a105e",
   "metadata": {},
   "source": [
    "Note that it is the $k^{th}$ largest element in the sorted order, not the $k^{th}$ distinct element.\n",
    "\n",
    "Example 1:\n",
    "\n",
    "Input: `nums = [3,2,1,5,6,4]`, `k = 2` \\\n",
    "Output: `5`\n",
    "\n",
    "Example 2:\n",
    "\n",
    "Input: `nums = [3,2,3,1,2,4,5,5,6]`, `k = 4` \\\n",
    "Output: `4`\n",
    "\n",
    "I saw this question on [LeetCode](https://leetcode.com/problems/kth-largest-element-in-an-array/)."
   ]
  },
  {
   "cell_type": "code",
   "execution_count": 47,
   "id": "0617863f-75e5-4391-87b8-c75dc8d95d58",
   "metadata": {},
   "outputs": [],
   "source": [
    "def get_largest(x, k):\n",
    "    return sorted(x)[-k]"
   ]
  },
  {
   "cell_type": "code",
   "execution_count": 48,
   "id": "c961666e-8098-4c31-8643-8bde6b2a8ea8",
   "metadata": {},
   "outputs": [
    {
     "data": {
      "text/plain": [
       "5"
      ]
     },
     "execution_count": 48,
     "metadata": {},
     "output_type": "execute_result"
    }
   ],
   "source": [
    "get_largest(x=[3,2,1,5,6,4], k=2)"
   ]
  },
  {
   "cell_type": "code",
   "execution_count": 49,
   "id": "6821aaee-3959-410e-b6b4-43bc88cd1a77",
   "metadata": {},
   "outputs": [
    {
     "data": {
      "text/plain": [
       "4"
      ]
     },
     "execution_count": 49,
     "metadata": {},
     "output_type": "execute_result"
    }
   ],
   "source": [
    "get_largest(x=[3,2,3,1,2,4,5,5,6], k=4)"
   ]
  },
  {
   "cell_type": "markdown",
   "id": "9ba84409-fb2d-47dc-a650-a5cde7463d7b",
   "metadata": {},
   "source": [
    "### Given an integer array `nums` and an integer `k`, return the `k` most frequent elements. "
   ]
  },
  {
   "cell_type": "markdown",
   "id": "f16ea5ed-5667-401e-855f-bce485671316",
   "metadata": {},
   "source": [
    "You may return the answer in any order.\n",
    "\n",
    "Example 1:\n",
    "\n",
    "Input: `nums = [1,1,1,2,2,3]`, `k = 2` \\\n",
    "Output: `[1,2]`\n",
    "\n",
    "Example 2:\n",
    "\n",
    "Input: `nums = [1]`, `k = 1` \\\n",
    "Output: `[1]`\n",
    "\n",
    "I saw this question on [LeetCode](https://leetcode.com/problems/top-k-frequent-elements/)."
   ]
  },
  {
   "cell_type": "code",
   "execution_count": 50,
   "id": "45d46926-4f25-4622-91a0-2f6cf9824921",
   "metadata": {},
   "outputs": [],
   "source": [
    "def get_frequent(nums, k):\n",
    "    counts = {}\n",
    "    for n in nums:\n",
    "        if n in counts:\n",
    "            counts[n] += 1\n",
    "        else:\n",
    "            counts[n] = 1\n",
    "    return [x[0] for x in sorted(counts.items(), key=lambda x: x[1], reverse=True)[:k]]\n"
   ]
  },
  {
   "cell_type": "code",
   "execution_count": 51,
   "id": "d98cee0a-858b-4c51-9261-e056c96994b0",
   "metadata": {},
   "outputs": [
    {
     "data": {
      "text/plain": [
       "[1, 2]"
      ]
     },
     "execution_count": 51,
     "metadata": {},
     "output_type": "execute_result"
    }
   ],
   "source": [
    "get_frequent(nums=[1,1,1,2,2,3], k=2)"
   ]
  },
  {
   "cell_type": "markdown",
   "id": "2960dfdb-8dad-48cd-ae6c-171a1467af4c",
   "metadata": {},
   "source": [
    "### Test whether the given strings are palindromes."
   ]
  },
  {
   "cell_type": "markdown",
   "id": "b4cd9be1-9f78-417b-ba8d-fedd1d2c6605",
   "metadata": {},
   "source": [
    "Input: `[\"aba\", \"no\"]` \\\n",
    "Output: `[True, False]`"
   ]
  },
  {
   "cell_type": "code",
   "execution_count": 52,
   "id": "3913c665-94fa-44fd-9c73-69b4d866327f",
   "metadata": {},
   "outputs": [],
   "source": [
    "def is_palindrome(xs):\n",
    "    return [x == x[::-1] for x in xs]"
   ]
  },
  {
   "cell_type": "code",
   "execution_count": 53,
   "id": "21929fee-fc0c-4ecc-8f8d-ccc34cac57fe",
   "metadata": {},
   "outputs": [
    {
     "data": {
      "text/plain": [
       "[True, False]"
      ]
     },
     "execution_count": 53,
     "metadata": {},
     "output_type": "execute_result"
    }
   ],
   "source": [
    "is_palindrome([\"aba\", \"no\"])"
   ]
  },
  {
   "cell_type": "markdown",
   "id": "e999107f-269e-4f58-b64d-32c188ae2725",
   "metadata": {},
   "source": [
    "### Write a function `returns()` that accepts lists of prices and dividends and returns a list of returns."
   ]
  },
  {
   "cell_type": "code",
   "execution_count": 54,
   "id": "876346e1-ebea-41e4-a2e1-e9143b67b54b",
   "metadata": {},
   "outputs": [],
   "source": [
    "prices = [100, 150, 100, 50, 100, 150, 100, 150]\n",
    "dividends = [1, 1, 1, 1, 2, 2, 2, 2]"
   ]
  },
  {
   "cell_type": "markdown",
   "id": "be2e3ba6-2747-4940-b388-df273529cbdc",
   "metadata": {},
   "source": [
    "This example is one the rare where I use a loop counter."
   ]
  },
  {
   "cell_type": "code",
   "execution_count": 55,
   "id": "685d4e5c-17c4-4735-ae15-ab1da03bd886",
   "metadata": {},
   "outputs": [],
   "source": [
    "def returns(p, d):\n",
    "    rs = []\n",
    "    for i in range(1, len(p)):\n",
    "        r = (p[i] + d[i] - p[i-1]) / p[i-1]\n",
    "        rs.append(r)\n",
    "    \n",
    "    return rs"
   ]
  },
  {
   "cell_type": "markdown",
   "id": "c67615b2-d719-43a8-9898-46abc5fbead6",
   "metadata": {},
   "source": [
    "We can use a magic called `%precision` to print fewer decimal places!"
   ]
  },
  {
   "cell_type": "code",
   "execution_count": 56,
   "id": "c2316d4f-828c-4666-b2f5-c065ee3b66e3",
   "metadata": {},
   "outputs": [
    {
     "data": {
      "text/plain": [
       "'%.4f'"
      ]
     },
     "execution_count": 56,
     "metadata": {},
     "output_type": "execute_result"
    }
   ],
   "source": [
    "%precision 4"
   ]
  },
  {
   "cell_type": "code",
   "execution_count": 57,
   "id": "17642704-9a10-4061-bd4a-1e92d86b6963",
   "metadata": {},
   "outputs": [
    {
     "data": {
      "text/plain": [
       "[0.5100, -0.3267, -0.4900, 1.0400, 0.5200, -0.3200, 0.5200]"
      ]
     },
     "execution_count": 57,
     "metadata": {},
     "output_type": "execute_result"
    }
   ],
   "source": [
    "returns(p=prices, d=dividends)"
   ]
  },
  {
   "cell_type": "markdown",
   "id": "0e884991-6517-4621-b5f1-6e95e6ab4216",
   "metadata": {},
   "source": [
    "Here is a solution that avoids a loop counter and combines a list comprehension `zip()` to loop over prices, dividends, and lagged prices.\n",
    "This solution may be a little more Pythonic, but I find it harder to follow that our loop-counter solution above."
   ]
  },
  {
   "cell_type": "code",
   "execution_count": 58,
   "id": "4d721caf-e5f9-422a-b6ab-ef89de96d9c1",
   "metadata": {},
   "outputs": [
    {
     "data": {
      "text/plain": [
       "[0.5100, -0.3267, -0.4900, 1.0400, 0.5200, -0.3200, 0.5200]"
      ]
     },
     "execution_count": 58,
     "metadata": {},
     "output_type": "execute_result"
    }
   ],
   "source": [
    "[(p + d - p_lag) / p_lag for p, d, p_lag in zip(prices[1:], dividends[1:], prices[:-1])]"
   ]
  },
  {
   "cell_type": "markdown",
   "id": "59f6e878-8cb4-4bf8-8ff1-f883f8581a5d",
   "metadata": {},
   "source": [
    "### Rewrite the function `returns()` so it returns lists of returns, capital gains yields, and dividend yields."
   ]
  },
  {
   "cell_type": "code",
   "execution_count": 59,
   "id": "37cf462a-688d-49ea-81f0-1fa56d972f07",
   "metadata": {},
   "outputs": [],
   "source": [
    "def returns_2(p, d):\n",
    "    rs, dps, cgs = [], [], []\n",
    "    for i in range(1, len(p)):\n",
    "        r = (p[i] + d[i] - p[i-1]) / p[i-1]\n",
    "        dp = d[i] / p[i-1]\n",
    "        cg = r - dp\n",
    "        rs.append(r)\n",
    "        dps.append(dp)\n",
    "        cgs.append(cg)\n",
    "    \n",
    "    return {'r':rs, 'dp':dps, 'cg':cgs}"
   ]
  },
  {
   "cell_type": "code",
   "execution_count": 60,
   "id": "61797fc5-a98f-4eb2-acc2-c5d4ebf46a7a",
   "metadata": {},
   "outputs": [
    {
     "data": {
      "text/plain": [
       "{'r': [0.5100, -0.3267, -0.4900, 1.0400, 0.5200, -0.3200, 0.5200],\n",
       " 'dp': [0.0100, 0.0067, 0.0100, 0.0400, 0.0200, 0.0133, 0.0200],\n",
       " 'cg': [0.5000, -0.3333, -0.5000, 1.0000, 0.5000, -0.3333, 0.5000]}"
      ]
     },
     "execution_count": 60,
     "metadata": {},
     "output_type": "execute_result"
    }
   ],
   "source": [
    "returns_2(p=prices, d=dividends)"
   ]
  },
  {
   "cell_type": "code",
   "execution_count": 61,
   "id": "ee23ac5e-f6ae-48b8-8fcf-d8b8c876d2d9",
   "metadata": {},
   "outputs": [
    {
     "data": {
      "text/plain": [
       "[0.5100, -0.3267, -0.4900, 1.0400, 0.5200, -0.3200, 0.5200]"
      ]
     },
     "execution_count": 61,
     "metadata": {},
     "output_type": "execute_result"
    }
   ],
   "source": [
    "returns_2(p=prices, d=dividends)['r']"
   ]
  },
  {
   "cell_type": "markdown",
   "id": "7eb026c8-a42b-4eef-b237-57cade6897ed",
   "metadata": {},
   "source": [
    "### Rescale and shift numbers so that they cover the range `[0, 1]`."
   ]
  },
  {
   "cell_type": "markdown",
   "id": "b373f8e6-cb9d-4d91-8432-2e77f69ec7ca",
   "metadata": {},
   "source": [
    "Input: `[18.5, 17.0, 18.0, 19.0, 18.0]` \\\n",
    "Output: `[0.75, 0.0, 0.5, 1.0, 0.5]`"
   ]
  },
  {
   "cell_type": "code",
   "execution_count": 62,
   "id": "09ec240a-dcf0-406b-a7e2-b833dcf481fd",
   "metadata": {},
   "outputs": [],
   "source": [
    "x = [18.5, 17.0, 18.0, 19.0, 18.0]"
   ]
  },
  {
   "cell_type": "code",
   "execution_count": 63,
   "id": "dc532855-0923-47cd-b463-edcc20cc2253",
   "metadata": {},
   "outputs": [],
   "source": [
    "def rescale(x):\n",
    "    x_min = min(x)\n",
    "    x_max = max(x)\n",
    "    return [(i - x_min) / (x_max - x_min) for i in x]"
   ]
  },
  {
   "cell_type": "code",
   "execution_count": 64,
   "id": "11602c77-822a-4b72-bc0f-80a8b35c30aa",
   "metadata": {},
   "outputs": [
    {
     "data": {
      "text/plain": [
       "[0.7500, 0.0000, 0.5000, 1.0000, 0.5000]"
      ]
     },
     "execution_count": 64,
     "metadata": {},
     "output_type": "execute_result"
    }
   ],
   "source": [
    "rescale(x)"
   ]
  },
  {
   "cell_type": "markdown",
   "id": "c23b6180-5b92-4ba0-bd3a-00aaf65e322c",
   "metadata": {},
   "source": [
    "Now we can rescale any list!"
   ]
  }
 ],
 "metadata": {
  "author": "Richard Herron",
  "kernelspec": {
   "display_name": "Python 3 (ipykernel)",
   "language": "python",
   "name": "python3"
  },
  "language_info": {
   "codemirror_mode": {
    "name": "ipython",
    "version": 3
   },
   "file_extension": ".py",
   "mimetype": "text/x-python",
   "name": "python",
   "nbconvert_exporter": "python",
   "pygments_lexer": "ipython3",
   "version": "3.12.1"
  },
  "title": "McKinney Chapter 3 - Practice"
 },
 "nbformat": 4,
 "nbformat_minor": 5
}
