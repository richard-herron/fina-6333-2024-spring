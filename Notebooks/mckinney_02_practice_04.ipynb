{
 "cells": [
  {
   "cell_type": "markdown",
   "id": "84f5567b-2c05-41c7-9cb3-498ecd6e4c00",
   "metadata": {},
   "source": [
    "# McKinney Chapter 2 - Practice for Section 04"
   ]
  },
  {
   "cell_type": "markdown",
   "id": "696cccbf-46d5-4b60-8bb2-d73db8ceb6f3",
   "metadata": {},
   "source": [
    "## Announcements"
   ]
  },
  {
   "cell_type": "markdown",
   "id": "06a912a5-935d-4c9b-8aa3-9b1a1b1fdd0e",
   "metadata": {},
   "source": [
    "There are no due dates this week, but please take note of a few due dates next week:\n",
    "\n",
    "1. Before class on Tuesday, complete the week 2 pre-class quiz\n",
    "2. By Friday 1/19 at 11:59 PM:\n",
    "    1. Acknowledge the academic integrity section of our syllabus\n",
    "    1. Complete the first DataCamp course and upload your certificate"
   ]
  },
  {
   "cell_type": "markdown",
   "id": "b659c84b-15ae-40de-a5b9-751b1d513f7e",
   "metadata": {},
   "source": [
    "## 5-minute Recap"
   ]
  },
  {
   "cell_type": "markdown",
   "id": "79c17327-9802-44ee-97d9-2cbf846998ec",
   "metadata": {},
   "source": [
    "### First, Python variables are references to objects."
   ]
  },
  {
   "cell_type": "code",
   "execution_count": 1,
   "id": "2c9c279f-67df-4266-b83d-8ed833d65797",
   "metadata": {},
   "outputs": [
    {
     "data": {
      "text/plain": [
       "[1, 2, 3]"
      ]
     },
     "execution_count": 1,
     "metadata": {},
     "output_type": "execute_result"
    }
   ],
   "source": [
    "a = [1, 2, 3]\n",
    "\n",
    "a"
   ]
  },
  {
   "cell_type": "code",
   "execution_count": 2,
   "id": "d21880f6-7501-4a2e-93de-72f28bd51650",
   "metadata": {},
   "outputs": [
    {
     "data": {
      "text/plain": [
       "[1, 2, 3]"
      ]
     },
     "execution_count": 2,
     "metadata": {},
     "output_type": "execute_result"
    }
   ],
   "source": [
    "b = a\n",
    "\n",
    "b"
   ]
  },
  {
   "cell_type": "markdown",
   "id": "a433ff35-466b-4aa5-a3d9-ad2c5d99a794",
   "metadata": {},
   "source": [
    "***Python is zero-indexed!***"
   ]
  },
  {
   "cell_type": "code",
   "execution_count": 3,
   "id": "bf2dd952-84d1-4738-977f-b0cf0a68e099",
   "metadata": {},
   "outputs": [
    {
     "data": {
      "text/plain": [
       "1"
      ]
     },
     "execution_count": 3,
     "metadata": {},
     "output_type": "execute_result"
    }
   ],
   "source": [
    "b[0]"
   ]
  },
  {
   "cell_type": "code",
   "execution_count": 4,
   "id": "8b5320c8-9afd-4cf3-bba3-3a74cfeeb9a5",
   "metadata": {},
   "outputs": [
    {
     "data": {
      "text/plain": [
       "[2001, 2, 3]"
      ]
     },
     "execution_count": 4,
     "metadata": {},
     "output_type": "execute_result"
    }
   ],
   "source": [
    "b[0] = 2_001\n",
    "\n",
    "b"
   ]
  },
  {
   "cell_type": "markdown",
   "id": "e6967a3a-3068-4ded-b715-98b37cdb1eb5",
   "metadata": {},
   "source": [
    "So both variables reflect changes to the referenced object."
   ]
  },
  {
   "cell_type": "code",
   "execution_count": 5,
   "id": "fb153e18-c9f9-4270-a9cb-2ba65adf0dbd",
   "metadata": {},
   "outputs": [
    {
     "data": {
      "text/plain": [
       "[2001, 2, 3]"
      ]
     },
     "execution_count": 5,
     "metadata": {},
     "output_type": "execute_result"
    }
   ],
   "source": [
    "a"
   ]
  },
  {
   "cell_type": "markdown",
   "id": "513a120c-5a7a-424b-acbc-b4a512c62e42",
   "metadata": {},
   "source": [
    "Variables `a` and `b` are two names for the same list in memory!"
   ]
  },
  {
   "cell_type": "code",
   "execution_count": 6,
   "id": "26d80bd7-e47d-4f24-b6eb-204e7569816a",
   "metadata": {},
   "outputs": [
    {
     "data": {
      "text/plain": [
       "True"
      ]
     },
     "execution_count": 6,
     "metadata": {},
     "output_type": "execute_result"
    }
   ],
   "source": [
    "b is a"
   ]
  },
  {
   "cell_type": "markdown",
   "id": "461eb93f-ceea-4dbd-b249-a6838a8abdb8",
   "metadata": {},
   "source": [
    "We can also reassign a new object, which does not change the original object."
   ]
  },
  {
   "cell_type": "code",
   "execution_count": 7,
   "id": "b7a6bb4d-f8fd-4c5f-8665-7aa42ee5cd4f",
   "metadata": {},
   "outputs": [
    {
     "data": {
      "text/plain": [
       "'Och'"
      ]
     },
     "execution_count": 7,
     "metadata": {},
     "output_type": "execute_result"
    }
   ],
   "source": [
    "a = 'Och'\n",
    "\n",
    "a"
   ]
  },
  {
   "cell_type": "code",
   "execution_count": 8,
   "id": "60e9f0dd-fbc5-46d3-bbd8-0dbc060df79e",
   "metadata": {},
   "outputs": [
    {
     "data": {
      "text/plain": [
       "[2001, 2, 3]"
      ]
     },
     "execution_count": 8,
     "metadata": {},
     "output_type": "execute_result"
    }
   ],
   "source": [
    "b"
   ]
  },
  {
   "cell_type": "markdown",
   "id": "8dd46562-f7c2-4bf8-a637-aae4a206093b",
   "metadata": {},
   "source": [
    "### Second, we can define functions to re-use code"
   ]
  },
  {
   "cell_type": "code",
   "execution_count": 9,
   "id": "322356d9-759c-4045-9381-4fbdb311acab",
   "metadata": {},
   "outputs": [],
   "source": [
    "def square_root(x):\n",
    "    return x ** 0.5"
   ]
  },
  {
   "cell_type": "code",
   "execution_count": 10,
   "id": "b8fd9ae6-1863-4a64-8e1a-bcb78d5a478c",
   "metadata": {},
   "outputs": [
    {
     "data": {
      "text/plain": [
       "2.0"
      ]
     },
     "execution_count": 10,
     "metadata": {},
     "output_type": "execute_result"
    }
   ],
   "source": [
    "square_root(4)"
   ]
  },
  {
   "cell_type": "code",
   "execution_count": 11,
   "id": "03966fba-4053-48fa-8b59-18fa84be6958",
   "metadata": {},
   "outputs": [
    {
     "data": {
      "text/plain": [
       "3.0"
      ]
     },
     "execution_count": 11,
     "metadata": {},
     "output_type": "execute_result"
    }
   ],
   "source": [
    "square_root(9)"
   ]
  },
  {
   "cell_type": "markdown",
   "id": "59537ee9-392e-4c49-bf3c-25ea728cf360",
   "metadata": {},
   "source": [
    "Note that white space is requried and not just cosmetic!\n",
    "Our `square_root()` function does not work without the white space!"
   ]
  },
  {
   "cell_type": "code",
   "execution_count": 12,
   "id": "1ce360b1-39c2-4d51-846c-9227083935fc",
   "metadata": {},
   "outputs": [],
   "source": [
    "# def square_root(x):\n",
    "# return x ** 0.5\n",
    "#   Cell In[26], line 2\n",
    "#     return x ** 0.5\n",
    "#     ^\n",
    "# IndentationError: expected an indented block after function definition on line 1\n"
   ]
  },
  {
   "cell_type": "markdown",
   "id": "7c38bc01-c608-4783-abb9-ce7a99083915",
   "metadata": {},
   "source": [
    "### Third, `if-elif-else` blocks let us conditionally run code blocks"
   ]
  },
  {
   "cell_type": "markdown",
   "id": "86c6b06d-9254-44c9-b27c-460d4482f797",
   "metadata": {},
   "source": [
    "Again, note the white space is required and not just cosmetic."
   ]
  },
  {
   "cell_type": "code",
   "execution_count": 13,
   "id": "42a3161d-65ee-41f5-af30-6610d94e8289",
   "metadata": {},
   "outputs": [
    {
     "name": "stdout",
     "output_type": "stream",
     "text": [
      "5 is positive\n"
     ]
    }
   ],
   "source": [
    "x = 5\n",
    "if x < 0:\n",
    "    print(f'{x} is negative')\n",
    "elif x == 0:\n",
    "    print(f'{x} is zero')\n",
    "else:\n",
    "    print(f'{x} is positive')"
   ]
  },
  {
   "cell_type": "markdown",
   "id": "a419f454-5ac5-491e-899c-c6287402371c",
   "metadata": {},
   "source": [
    "## Practice"
   ]
  },
  {
   "cell_type": "markdown",
   "id": "7373fbfc-3994-4c15-bc09-91e9599291e1",
   "metadata": {},
   "source": [
    "### Extract the year, month, and day from an integer 8-digit date (i.e., YYYYMMDD format) using `//` (integer division) and `%` (modulo division)."
   ]
  },
  {
   "cell_type": "markdown",
   "id": "03e8c156-0fbf-4579-b8ca-1ffc4ca80f5f",
   "metadata": {},
   "source": [
    "Try `20080915`."
   ]
  },
  {
   "cell_type": "code",
   "execution_count": 14,
   "id": "0962201f-3fb3-4b09-a79e-74b5393ebd7d",
   "metadata": {},
   "outputs": [
    {
     "data": {
      "text/plain": [
       "12.34"
      ]
     },
     "execution_count": 14,
     "metadata": {},
     "output_type": "execute_result"
    }
   ],
   "source": [
    "1234 / 100"
   ]
  },
  {
   "cell_type": "code",
   "execution_count": 15,
   "id": "98df166b-2a8c-4130-9d54-f4a187db7228",
   "metadata": {},
   "outputs": [
    {
     "data": {
      "text/plain": [
       "12"
      ]
     },
     "execution_count": 15,
     "metadata": {},
     "output_type": "execute_result"
    }
   ],
   "source": [
    "1234 // 100"
   ]
  },
  {
   "cell_type": "code",
   "execution_count": 16,
   "id": "08b54f74-7ef8-445c-8276-89cb90464e2c",
   "metadata": {},
   "outputs": [
    {
     "data": {
      "text/plain": [
       "34"
      ]
     },
     "execution_count": 16,
     "metadata": {},
     "output_type": "execute_result"
    }
   ],
   "source": [
    "1234 % 100"
   ]
  },
  {
   "cell_type": "code",
   "execution_count": 17,
   "id": "8353bd87-9c82-49dd-92af-e5fcb983a4ec",
   "metadata": {},
   "outputs": [
    {
     "data": {
      "text/plain": [
       "2.4"
      ]
     },
     "execution_count": 17,
     "metadata": {},
     "output_type": "execute_result"
    }
   ],
   "source": [
    "12 / 5"
   ]
  },
  {
   "cell_type": "code",
   "execution_count": 18,
   "id": "c40dcd7b-01ec-4cc3-9d5d-1cb69c2e3932",
   "metadata": {},
   "outputs": [
    {
     "data": {
      "text/plain": [
       "2"
      ]
     },
     "execution_count": 18,
     "metadata": {},
     "output_type": "execute_result"
    }
   ],
   "source": [
    "12 // 5"
   ]
  },
  {
   "cell_type": "code",
   "execution_count": 19,
   "id": "0829fb3b-f52c-4091-98f8-7884e67b894a",
   "metadata": {},
   "outputs": [
    {
     "data": {
      "text/plain": [
       "2"
      ]
     },
     "execution_count": 19,
     "metadata": {},
     "output_type": "execute_result"
    }
   ],
   "source": [
    "12 % 5"
   ]
  },
  {
   "cell_type": "code",
   "execution_count": 20,
   "id": "d317f444-4b7b-4f40-8f3b-c3e8ab25fb9c",
   "metadata": {},
   "outputs": [],
   "source": [
    "lb_collapse = 20080915"
   ]
  },
  {
   "cell_type": "code",
   "execution_count": 21,
   "id": "c07d74f7-4b6d-4545-9b28-77e8e263fefa",
   "metadata": {},
   "outputs": [
    {
     "data": {
      "text/plain": [
       "2008"
      ]
     },
     "execution_count": 21,
     "metadata": {},
     "output_type": "execute_result"
    }
   ],
   "source": [
    "lb_collapse // 10_000"
   ]
  },
  {
   "cell_type": "code",
   "execution_count": 22,
   "id": "eabaef6d-650f-4c3d-bdb7-8bd9e9cb4026",
   "metadata": {},
   "outputs": [
    {
     "data": {
      "text/plain": [
       "9"
      ]
     },
     "execution_count": 22,
     "metadata": {},
     "output_type": "execute_result"
    }
   ],
   "source": [
    "lb_collapse % 10_000 // 100"
   ]
  },
  {
   "cell_type": "code",
   "execution_count": 23,
   "id": "504f9dd1-90b3-4d42-9182-c93972f35606",
   "metadata": {},
   "outputs": [
    {
     "data": {
      "text/plain": [
       "15"
      ]
     },
     "execution_count": 23,
     "metadata": {},
     "output_type": "execute_result"
    }
   ],
   "source": [
    "lb_collapse % 100"
   ]
  },
  {
   "cell_type": "markdown",
   "id": "be060ebd-93d7-4c2e-b57a-a4ff9a6d2a93",
   "metadata": {},
   "source": [
    "### Use your answer above to write a function `date` that accepts an integer 8-digit date argument and returns a tuple of the year, month, and date (e.g., `return (year, month, day)`)."
   ]
  },
  {
   "cell_type": "code",
   "execution_count": 24,
   "id": "5033981a-5a05-4d4b-86dd-badb57269450",
   "metadata": {},
   "outputs": [],
   "source": [
    "def date(ymd):\n",
    "    year = ymd // 10_000\n",
    "    month = ymd % 10_000 // 100\n",
    "    day = ymd % 100\n",
    "    return (year, month, day)"
   ]
  },
  {
   "cell_type": "code",
   "execution_count": 25,
   "id": "b3c708a2-d8f7-4570-a90f-afa7d33e4ea8",
   "metadata": {},
   "outputs": [
    {
     "data": {
      "text/plain": [
       "(2008, 9, 15)"
      ]
     },
     "execution_count": 25,
     "metadata": {},
     "output_type": "execute_result"
    }
   ],
   "source": [
    "date(lb_collapse)"
   ]
  },
  {
   "cell_type": "code",
   "execution_count": 26,
   "id": "8c8b2190-b51b-45d1-b95c-16823c06f150",
   "metadata": {},
   "outputs": [
    {
     "data": {
      "text/plain": [
       "(2024, 1, 12)"
      ]
     },
     "execution_count": 26,
     "metadata": {},
     "output_type": "execute_result"
    }
   ],
   "source": [
    "date(20240112)"
   ]
  },
  {
   "cell_type": "markdown",
   "id": "89e332f5-1f05-479a-a055-188098f0d9dd",
   "metadata": {},
   "source": [
    "### Rewrite `date` to accept an 8-digit date as an integer or string."
   ]
  },
  {
   "cell_type": "code",
   "execution_count": 27,
   "id": "7c0f15fe-6cd5-4850-8260-057e24dd2159",
   "metadata": {},
   "outputs": [],
   "source": [
    "def date_2(ymd):\n",
    "    if type(ymd) is str:\n",
    "        ymd = int(ymd)\n",
    "    year = ymd // 10_000\n",
    "    month = ymd % 10_000 // 100\n",
    "    day = ymd % 100\n",
    "    return (year, month, day)"
   ]
  },
  {
   "cell_type": "code",
   "execution_count": 28,
   "id": "957e4ff5-2bee-4bbf-9b78-367c7f2af05d",
   "metadata": {},
   "outputs": [
    {
     "data": {
      "text/plain": [
       "(2008, 9, 15)"
      ]
     },
     "execution_count": 28,
     "metadata": {},
     "output_type": "execute_result"
    }
   ],
   "source": [
    "date_2('20080915')"
   ]
  },
  {
   "cell_type": "markdown",
   "id": "7ea1b963-efc2-40ef-b81c-24f0fc4a48d0",
   "metadata": {},
   "source": [
    "### Finally, rewrite `date` to accept a list of 8-digit dates as integers or strings."
   ]
  },
  {
   "cell_type": "markdown",
   "id": "6dfaa489-dd8c-4034-a35d-5b90a6ae0186",
   "metadata": {},
   "source": [
    "Return a list of tuples of year, month, and date."
   ]
  },
  {
   "cell_type": "code",
   "execution_count": 29,
   "id": "bc920ec5-e25d-4d5e-9535-046828d7324a",
   "metadata": {},
   "outputs": [],
   "source": [
    "ymds = [20080915, '20080916']"
   ]
  },
  {
   "cell_type": "code",
   "execution_count": 30,
   "id": "6f72e63b-5e51-4eef-83c1-5810bb202955",
   "metadata": {},
   "outputs": [],
   "source": [
    "def date_3(ymds):\n",
    "    dates = []\n",
    "    for ymd in ymds:\n",
    "        if type(ymd) is str:\n",
    "            ymd = int(ymd)\n",
    "        year = ymd // 10_000\n",
    "        month = ymd % 10_000 // 100\n",
    "        day = ymd % 100\n",
    "        dates.append((year, month, day))\n",
    "    return dates"
   ]
  },
  {
   "cell_type": "code",
   "execution_count": 31,
   "id": "5f8438cf-ec04-4f9f-b992-453034ce08fe",
   "metadata": {},
   "outputs": [
    {
     "data": {
      "text/plain": [
       "[(2008, 9, 15), (2008, 9, 16)]"
      ]
     },
     "execution_count": 31,
     "metadata": {},
     "output_type": "execute_result"
    }
   ],
   "source": [
    "date_3(ymds)"
   ]
  },
  {
   "cell_type": "markdown",
   "id": "629e8239-27c2-48f4-ba1c-7e97da177f01",
   "metadata": {},
   "source": [
    "### Write a for loop that prints the squares of integers from 1 to 10."
   ]
  },
  {
   "cell_type": "code",
   "execution_count": 32,
   "id": "15fb1473-6cfb-473e-bedd-7dd8e4523070",
   "metadata": {},
   "outputs": [
    {
     "name": "stdout",
     "output_type": "stream",
     "text": [
      "1 4 9 16 25 36 49 64 81 100 "
     ]
    }
   ],
   "source": [
    "for i in range(1, 11):\n",
    "    print(i**2, end=' ')"
   ]
  },
  {
   "cell_type": "markdown",
   "id": "b4997301-67b5-45cb-91d4-1375e52d0a09",
   "metadata": {},
   "source": [
    "Above, I change the `end` argument to a space to shorten the output."
   ]
  },
  {
   "cell_type": "markdown",
   "id": "a9d5310a-f19a-448e-976f-44ffbecad467",
   "metadata": {},
   "source": [
    "### Write a for loop that prints the squares of *even* integers from 1 to 10."
   ]
  },
  {
   "cell_type": "code",
   "execution_count": 33,
   "id": "3095913f-055e-4f48-a65a-038f8540e3e7",
   "metadata": {},
   "outputs": [
    {
     "name": "stdout",
     "output_type": "stream",
     "text": [
      "4 16 36 64 100 "
     ]
    }
   ],
   "source": [
    "for i in range(1, 11):\n",
    "    if i%2 == 0:\n",
    "        print(i**2, end=' ')"
   ]
  },
  {
   "cell_type": "markdown",
   "id": "4f021d2a-f9f2-41b6-8d05-88d2575a5036",
   "metadata": {},
   "source": [
    "We can also change the arguments to `range()` to start at 2 and take steps of 2!"
   ]
  },
  {
   "cell_type": "code",
   "execution_count": 34,
   "id": "fc964f7f-8c20-4d2a-b85f-ca7196dbf634",
   "metadata": {},
   "outputs": [
    {
     "name": "stdout",
     "output_type": "stream",
     "text": [
      "4 16 36 64 100 "
     ]
    }
   ],
   "source": [
    "for i in range(2, 11, 2):\n",
    "    print(i**2, end=' ')"
   ]
  },
  {
   "cell_type": "markdown",
   "id": "fca2f010-cd87-4c0f-8a47-c849a8f26cc2",
   "metadata": {},
   "source": [
    "### Write a for loop that sums the squares of integers from 1 to 10."
   ]
  },
  {
   "cell_type": "code",
   "execution_count": 35,
   "id": "8c96dab9-b1b7-47df-aa10-9957182c0a28",
   "metadata": {},
   "outputs": [
    {
     "data": {
      "text/plain": [
       "385"
      ]
     },
     "execution_count": 35,
     "metadata": {},
     "output_type": "execute_result"
    }
   ],
   "source": [
    "sum = 0\n",
    "for i in range(1, 11):\n",
    "    sum = sum + i**2\n",
    "\n",
    "sum"
   ]
  },
  {
   "cell_type": "markdown",
   "id": "690d9739-e2e9-4004-bc21-18feea71b6c5",
   "metadata": {},
   "source": [
    "We can replace the `sum = sum + i**2` with `sum += i**2`."
   ]
  },
  {
   "cell_type": "code",
   "execution_count": 36,
   "id": "86a9d2f2-2b7f-4d85-bfa3-e09649209ce1",
   "metadata": {},
   "outputs": [
    {
     "data": {
      "text/plain": [
       "385"
      ]
     },
     "execution_count": 36,
     "metadata": {},
     "output_type": "execute_result"
    }
   ],
   "source": [
    "sum = 0\n",
    "for i in range(1, 11):\n",
    "    sum += i**2\n",
    "\n",
    "sum"
   ]
  },
  {
   "cell_type": "markdown",
   "id": "caf82918-0b05-4a8b-bbb6-15d0543098e6",
   "metadata": {},
   "source": [
    "There are also `-=`, `*=`, and `/=` operators."
   ]
  },
  {
   "cell_type": "code",
   "execution_count": 37,
   "id": "39a14e08-4736-46d8-9f2d-6c5666597bd5",
   "metadata": {},
   "outputs": [
    {
     "data": {
      "text/plain": [
       "13168189440000"
      ]
     },
     "execution_count": 37,
     "metadata": {},
     "output_type": "execute_result"
    }
   ],
   "source": [
    "sum = 1\n",
    "for i in range(1, 11):\n",
    "    sum *= i**2\n",
    "    \n",
    "sum"
   ]
  },
  {
   "cell_type": "markdown",
   "id": "4f59f13f-ba78-4212-bf00-b060756b4320",
   "metadata": {},
   "source": [
    "### Write a for loop that sums the squares of integers from 1 to 10 but stops before the sum exceeds 50."
   ]
  },
  {
   "cell_type": "code",
   "execution_count": 38,
   "id": "bb028d38-d71d-4b16-936d-efe5e14a61ef",
   "metadata": {},
   "outputs": [
    {
     "data": {
      "text/plain": [
       "30"
      ]
     },
     "execution_count": 38,
     "metadata": {},
     "output_type": "execute_result"
    }
   ],
   "source": [
    "total = 0\n",
    "for i in range(1, 11):\n",
    "    if (total + i**2) > 50:\n",
    "        break\n",
    "    total += i**2\n",
    "\n",
    "total"
   ]
  },
  {
   "cell_type": "markdown",
   "id": "fc5e524f-358b-45cb-876d-6d4ebc082757",
   "metadata": {},
   "source": [
    "### FizzBuzz"
   ]
  },
  {
   "cell_type": "markdown",
   "id": "754dfb1e-228a-4b17-a232-b5cea8f6885f",
   "metadata": {
    "tags": []
   },
   "source": [
    "Write a for loop that prints the numbers from 1 to 100. \n",
    "For multiples of three print \"Fizz\" instead of the number.\n",
    "For multiples of five print \"Buzz\". \n",
    "For numbers that are multiples of both three and five print \"FizzBuzz\".\n",
    "More [here](https://blog.codinghorror.com/why-cant-programmers-program/)."
   ]
  },
  {
   "cell_type": "code",
   "execution_count": 39,
   "id": "f9a820cd-eb1d-45be-9cb5-9be4fa3c5336",
   "metadata": {},
   "outputs": [
    {
     "name": "stdout",
     "output_type": "stream",
     "text": [
      "1 2 Fizz 4 Buzz Fizz 7 8 Fizz Buzz 11 Fizz 13 14 FizzBuzz 16 17 Fizz 19 Buzz Fizz 22 23 Fizz Buzz 26 Fizz 28 29 FizzBuzz 31 32 Fizz 34 Buzz Fizz 37 38 Fizz Buzz 41 Fizz 43 44 FizzBuzz 46 47 Fizz 49 Buzz Fizz 52 53 Fizz Buzz 56 Fizz 58 59 FizzBuzz 61 62 Fizz 64 Buzz Fizz 67 68 Fizz Buzz 71 Fizz 73 74 FizzBuzz 76 77 Fizz 79 Buzz Fizz 82 83 Fizz Buzz 86 Fizz 88 89 FizzBuzz 91 92 Fizz 94 Buzz Fizz 97 98 Fizz Buzz "
     ]
    }
   ],
   "source": [
    "for i in range(1, 101):\n",
    "    if (i%3 == 0) and (i%5 == 0):\n",
    "        print('FizzBuzz', end=' ')\n",
    "    elif i%3 == 0:\n",
    "        print('Fizz', end=' ')\n",
    "    elif i%5 == 0:\n",
    "        print('Buzz', end=' ')\n",
    "    else:\n",
    "        print(i, end=' ')"
   ]
  },
  {
   "cell_type": "markdown",
   "id": "9f07719a-e80d-4ddd-8d4f-ea87397d6d09",
   "metadata": {},
   "source": [
    "### Use ternary expressions to make your FizzBuzz code more compact."
   ]
  },
  {
   "cell_type": "code",
   "execution_count": 40,
   "id": "071f255a-cdad-44fb-be43-db6236fe2a38",
   "metadata": {},
   "outputs": [
    {
     "data": {
      "text/plain": [
       "'FizzBuzz'"
      ]
     },
     "execution_count": 40,
     "metadata": {},
     "output_type": "execute_result"
    }
   ],
   "source": [
    "'Fizz' + 'Buzz'"
   ]
  },
  {
   "cell_type": "code",
   "execution_count": 41,
   "id": "6ef1dd75-58e2-4813-a68b-282cbc4e6442",
   "metadata": {},
   "outputs": [
    {
     "data": {
      "text/plain": [
       "'FizzFizz'"
      ]
     },
     "execution_count": 41,
     "metadata": {},
     "output_type": "execute_result"
    }
   ],
   "source": [
    "'Fizz' + 'Fizz'"
   ]
  },
  {
   "cell_type": "code",
   "execution_count": 42,
   "id": "25e90791-d601-4192-9224-62b2b3821bb8",
   "metadata": {},
   "outputs": [
    {
     "data": {
      "text/plain": [
       "'FizzFizz'"
      ]
     },
     "execution_count": 42,
     "metadata": {},
     "output_type": "execute_result"
    }
   ],
   "source": [
    "'Fizz' * 2"
   ]
  },
  {
   "cell_type": "code",
   "execution_count": 43,
   "id": "7cecaf2d-ca78-4155-9453-4f00453d4b95",
   "metadata": {},
   "outputs": [
    {
     "data": {
      "text/plain": [
       "''"
      ]
     },
     "execution_count": 43,
     "metadata": {},
     "output_type": "execute_result"
    }
   ],
   "source": [
    "'Fizz' * 0"
   ]
  },
  {
   "cell_type": "code",
   "execution_count": 44,
   "id": "c3ded37e-56cc-46c9-94a2-2140c3609e33",
   "metadata": {},
   "outputs": [
    {
     "data": {
      "text/plain": [
       "'FizzBuzz'"
      ]
     },
     "execution_count": 44,
     "metadata": {},
     "output_type": "execute_result"
    }
   ],
   "source": [
    "'Fizz'*True + 'Buzz'*True"
   ]
  },
  {
   "cell_type": "code",
   "execution_count": 45,
   "id": "d9d25ba0-184c-4078-8907-254085a70342",
   "metadata": {},
   "outputs": [
    {
     "name": "stdout",
     "output_type": "stream",
     "text": [
      "1 2 Fizz 4 Buzz Fizz 7 8 Fizz Buzz 11 Fizz 13 14 FizzBuzz 16 17 Fizz 19 Buzz Fizz 22 23 Fizz Buzz 26 Fizz 28 29 FizzBuzz 31 32 Fizz 34 Buzz Fizz 37 38 Fizz Buzz 41 Fizz 43 44 FizzBuzz 46 47 Fizz 49 Buzz Fizz 52 53 Fizz Buzz 56 Fizz 58 59 FizzBuzz 61 62 Fizz 64 Buzz Fizz 67 68 Fizz Buzz 71 Fizz 73 74 FizzBuzz 76 77 Fizz 79 Buzz Fizz 82 83 Fizz Buzz 86 Fizz 88 89 FizzBuzz 91 92 Fizz 94 Buzz Fizz 97 98 Fizz Buzz "
     ]
    }
   ],
   "source": [
    "for i in range(1, 101):\n",
    "    print('Fizz'*(i%3==0) + 'Buzz'*(i%5==0) if (i%3==0) or (i%5==0) else i, end=' ')"
   ]
  },
  {
   "cell_type": "markdown",
   "id": "fe35b8e9-315f-44b0-b132-8fc92bfa4658",
   "metadata": {},
   "source": [
    "The solution above is shorter and uses from neat tricks, but I consider the previous solution easier to read and troubleshoot. The solution above uses the trick that we can multiply a string by `True` or `False` to return the string itself or an empty string."
   ]
  },
  {
   "cell_type": "code",
   "execution_count": 46,
   "id": "cf0c1db5-eed3-4ec2-a0f3-6ace38d87e87",
   "metadata": {},
   "outputs": [
    {
     "data": {
      "text/plain": [
       "'Hey!'"
      ]
     },
     "execution_count": 46,
     "metadata": {},
     "output_type": "execute_result"
    }
   ],
   "source": [
    "'Hey!'*True"
   ]
  },
  {
   "cell_type": "code",
   "execution_count": 47,
   "id": "5e35cbc4-84f1-4d7a-add1-bb214d8c2204",
   "metadata": {},
   "outputs": [
    {
     "data": {
      "text/plain": [
       "''"
      ]
     },
     "execution_count": 47,
     "metadata": {},
     "output_type": "execute_result"
    }
   ],
   "source": [
    "'Hey!'*False"
   ]
  },
  {
   "cell_type": "markdown",
   "id": "324828c9-0370-4aca-9956-ec048c4d7f05",
   "metadata": {},
   "source": [
    "Someone pointed out an even shorter solution with `or`!"
   ]
  },
  {
   "cell_type": "code",
   "execution_count": 48,
   "id": "492e07c9-957e-466e-9b02-7e7c2e1e281d",
   "metadata": {},
   "outputs": [
    {
     "name": "stdout",
     "output_type": "stream",
     "text": [
      "1 2 Fizz 4 Buzz Fizz 7 8 Fizz Buzz 11 Fizz 13 14 FizzBuzz 16 17 Fizz 19 Buzz Fizz 22 23 Fizz Buzz 26 Fizz 28 29 FizzBuzz 31 32 Fizz 34 Buzz Fizz 37 38 Fizz Buzz 41 Fizz 43 44 FizzBuzz 46 47 Fizz 49 Buzz Fizz 52 53 Fizz Buzz 56 Fizz 58 59 FizzBuzz 61 62 Fizz 64 Buzz Fizz 67 68 Fizz Buzz 71 Fizz 73 74 FizzBuzz 76 77 Fizz 79 Buzz Fizz 82 83 Fizz Buzz 86 Fizz 88 89 FizzBuzz 91 92 Fizz 94 Buzz Fizz 97 98 Fizz Buzz "
     ]
    }
   ],
   "source": [
    "for i in range(1, 101):\n",
    "    print('Fizz'*(i%3==0) + 'Buzz'*(i%5==0) or i, end=' ')"
   ]
  },
  {
   "cell_type": "markdown",
   "id": "761d1e1f-7255-4811-b2c9-a6af246b50c6",
   "metadata": {},
   "source": [
    "### Triangle"
   ]
  },
  {
   "cell_type": "markdown",
   "id": "c76b23e0-a42d-4843-9723-3986a506f89e",
   "metadata": {},
   "source": [
    "Write a function `triangle` that accepts a positive integer $N$ and prints a numerical triangle of height $N-1$.\n",
    "For example, `triangle(N=6)` should print:\n",
    "\n",
    "```\n",
    "1\n",
    "22\n",
    "333\n",
    "4444\n",
    "55555\n",
    "```"
   ]
  },
  {
   "cell_type": "code",
   "execution_count": 49,
   "id": "f7ca1995-94f0-4dd5-a2bb-c6636ce1f898",
   "metadata": {},
   "outputs": [],
   "source": [
    "def triangle(N):\n",
    "    for i in range(1, N):\n",
    "        print(str(i) * i)"
   ]
  },
  {
   "cell_type": "code",
   "execution_count": 50,
   "id": "0a7324f8-82a4-4c9f-90a2-dcc4f38adf42",
   "metadata": {},
   "outputs": [
    {
     "name": "stdout",
     "output_type": "stream",
     "text": [
      "1\n",
      "22\n",
      "333\n",
      "4444\n",
      "55555\n"
     ]
    }
   ],
   "source": [
    "triangle(6)"
   ]
  },
  {
   "cell_type": "markdown",
   "id": "cded4e0c-afbb-42df-a6b5-e4fd05b008a0",
   "metadata": {},
   "source": [
    "The solution above works because a multiplying a string by `i` concatenates `i` copies of the string."
   ]
  },
  {
   "cell_type": "code",
   "execution_count": 51,
   "id": "a0a9e1b0-a185-4017-ad34-2252a1263308",
   "metadata": {},
   "outputs": [
    {
     "data": {
      "text/plain": [
       "'TestTestTest'"
      ]
     },
     "execution_count": 51,
     "metadata": {},
     "output_type": "execute_result"
    }
   ],
   "source": [
    "'Test' + 'Test' + 'Test'"
   ]
  },
  {
   "cell_type": "code",
   "execution_count": 52,
   "id": "9e5e0dc4-0dd0-4f64-ad77-b3a896e1cb36",
   "metadata": {},
   "outputs": [
    {
     "data": {
      "text/plain": [
       "'TestTestTest'"
      ]
     },
     "execution_count": 52,
     "metadata": {},
     "output_type": "execute_result"
    }
   ],
   "source": [
    "'Test' * 3"
   ]
  },
  {
   "cell_type": "markdown",
   "id": "7e2eb64d-444f-4f05-a133-1e4b7f026b31",
   "metadata": {},
   "source": [
    "### Two Sum"
   ]
  },
  {
   "cell_type": "markdown",
   "id": "e60568ec-e02d-4639-b6b5-a9816d3454d7",
   "metadata": {},
   "source": [
    "Write a function `two_sum` that does the following.\n",
    "\n",
    "Given an array of integers `nums` and an integer `target`, return the indices of the two numbers that add up to target.\n",
    "\n",
    "You may assume that each input would have exactly one solution, and you may not use the same element twice.\n",
    "\n",
    "You can return the answer in any order.\n",
    "\n",
    "Here are some examples:\n",
    "\n",
    "Example 1:\n",
    "\n",
    "Input: `nums = [2,7,11,15]`, `target = 9` \\\n",
    "Output: `[0,1]` \\\n",
    "Explanation: Because `nums[0] + nums[1] == 9`, we return `[0, 1]`.\n",
    "\n",
    "Example 2:\n",
    "\n",
    "Input: `nums = [3,2,4]`, `target = 6` \\\n",
    "Output: `[1,2]` \\\n",
    "\n",
    "Example 3:\n",
    "\n",
    "Input: `nums = [3,3]`, `target = 6` \\\n",
    "Output: `[0,1]` \\\n",
    "\n",
    "I saw this question on [LeetCode](https://leetcode.com/problems/two-sum/description/)."
   ]
  },
  {
   "cell_type": "code",
   "execution_count": 53,
   "id": "ab2c4ee3-7b50-4261-88fd-76c5be9d56a5",
   "metadata": {},
   "outputs": [],
   "source": [
    "def two_sum(nums, target):\n",
    "    for i in range(1, len(nums)):\n",
    "        for j in range(i):\n",
    "            if nums[i] + nums[j] == target:\n",
    "                return [j, i]"
   ]
  },
  {
   "cell_type": "code",
   "execution_count": 54,
   "id": "a840b4aa-7887-4c07-99ff-505e4bdc409c",
   "metadata": {},
   "outputs": [
    {
     "data": {
      "text/plain": [
       "[0, 1]"
      ]
     },
     "execution_count": 54,
     "metadata": {},
     "output_type": "execute_result"
    }
   ],
   "source": [
    "two_sum(nums = [2,7,11,15], target = 9)"
   ]
  },
  {
   "cell_type": "code",
   "execution_count": 55,
   "id": "a9983a07-7411-4f7b-b5b2-48f4d66cc3c4",
   "metadata": {},
   "outputs": [
    {
     "data": {
      "text/plain": [
       "[1, 2]"
      ]
     },
     "execution_count": 55,
     "metadata": {},
     "output_type": "execute_result"
    }
   ],
   "source": [
    "two_sum(nums = [3,2,4], target = 6)"
   ]
  },
  {
   "cell_type": "code",
   "execution_count": 56,
   "id": "bb18745b-8969-47e4-9b4e-8e266c1e0804",
   "metadata": {},
   "outputs": [
    {
     "data": {
      "text/plain": [
       "[0, 1]"
      ]
     },
     "execution_count": 56,
     "metadata": {},
     "output_type": "execute_result"
    }
   ],
   "source": [
    "two_sum(nums = [3,3], target = 6)"
   ]
  },
  {
   "cell_type": "markdown",
   "id": "4f0034b7-e281-40a9-b7e3-706210c6d24b",
   "metadata": {},
   "source": [
    "We can write more efficient code once we learn other data structures in chapter 3 of McKinney!"
   ]
  },
  {
   "cell_type": "markdown",
   "id": "92beb628-50bf-4071-b133-1f2d4c2f4ff2",
   "metadata": {},
   "source": [
    "### Best Time"
   ]
  },
  {
   "cell_type": "markdown",
   "id": "4356132c-54c0-419a-aacd-55b6766dd774",
   "metadata": {},
   "source": [
    "Write a function `best_time` that solves the following.\n",
    "\n",
    "You are given an array `prices` where `prices[i]` is the price of a given stock on the $i^{th}$ day.\n",
    "\n",
    "You want to maximize your profit by choosing a single day to buy one stock and choosing a different day in the future to sell that stock.\n",
    "\n",
    "Return the maximum profit you can achieve from this transaction. If you cannot achieve any profit, return 0.\n",
    "\n",
    "Here are some examples:\n",
    "\n",
    "Example 1:\n",
    "\n",
    "Input: `prices = [7,1,5,3,6,4]` \\\n",
    "Output: `5` \\\n",
    "Explanation: Buy on day 2 (price = 1) and sell on day 5 (price = 6), profit = 6-1 = 5.\n",
    "Note that buying on day 2 and selling on day 1 is not allowed because you must buy before you sell.\n",
    "\n",
    "Example 2:\n",
    "\n",
    "Input: `prices = [7,6,4,3,1]` \\\n",
    "Output: `0` \\\n",
    "Explanation: In this case, no transactions are done and the max profit = 0.\n",
    "\n",
    "I saw this question on [LeetCode](https://leetcode.com/problems/best-time-to-buy-and-sell-stock/)."
   ]
  },
  {
   "cell_type": "code",
   "execution_count": 57,
   "id": "a2a02e6e-9924-432d-8843-ebc1a170da95",
   "metadata": {},
   "outputs": [],
   "source": [
    "def max_profit(prices):\n",
    "        min_price = prices[0]\n",
    "        max_profit = 0\n",
    "        for price in prices:\n",
    "            min_price = price if price < min_price else min_price\n",
    "            profit = price - min_price\n",
    "            max_profit = profit if profit > max_profit else max_profit\n",
    "        return max_profit"
   ]
  },
  {
   "cell_type": "code",
   "execution_count": 58,
   "id": "3cde3f9b-fe28-471b-ac61-4a3bf968c3ec",
   "metadata": {},
   "outputs": [
    {
     "data": {
      "text/plain": [
       "5"
      ]
     },
     "execution_count": 58,
     "metadata": {},
     "output_type": "execute_result"
    }
   ],
   "source": [
    "max_profit(prices=[7,1,5,3,6,4])"
   ]
  },
  {
   "cell_type": "code",
   "execution_count": 59,
   "id": "5c2a6df9-85a1-42d6-b6da-845175d3ed93",
   "metadata": {
    "jupyter": {
     "source_hidden": true
    }
   },
   "outputs": [
    {
     "data": {
      "text/plain": [
       "0"
      ]
     },
     "execution_count": 59,
     "metadata": {},
     "output_type": "execute_result"
    }
   ],
   "source": [
    "max_profit(prices=[7,6,4,3,1])"
   ]
  }
 ],
 "metadata": {
  "author": "Richard Herron",
  "kernelspec": {
   "display_name": "Python 3 (ipykernel)",
   "language": "python",
   "name": "python3"
  },
  "language_info": {
   "codemirror_mode": {
    "name": "ipython",
    "version": 3
   },
   "file_extension": ".py",
   "mimetype": "text/x-python",
   "name": "python",
   "nbconvert_exporter": "python",
   "pygments_lexer": "ipython3",
   "version": "3.12.1"
  },
  "title": "McKinney Chapter 2 - Practice",
  "toc-autonumbering": true
 },
 "nbformat": 4,
 "nbformat_minor": 5
}
